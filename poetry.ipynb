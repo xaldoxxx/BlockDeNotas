{
  "nbformat": 4,
  "nbformat_minor": 0,
  "metadata": {
    "colab": {
      "provenance": [],
      "authorship_tag": "ABX9TyP1IV8IrqzaW5lpYqP/vILt",
      "include_colab_link": true
    },
    "kernelspec": {
      "name": "python3",
      "display_name": "Python 3"
    },
    "language_info": {
      "name": "python"
    }
  },
  "cells": [
    {
      "cell_type": "markdown",
      "metadata": {
        "id": "view-in-github",
        "colab_type": "text"
      },
      "source": [
        "<a href=\"https://colab.research.google.com/github/xaldoxxx/BlockDeNotas/blob/main/poetry.ipynb\" target=\"_parent\"><img src=\"https://colab.research.google.com/assets/colab-badge.svg\" alt=\"Open In Colab\"/></a>"
      ]
    },
    {
      "cell_type": "markdown",
      "source": [
        "Poetry es una herramienta de Python que se utiliza para gestionar paquetes y dependencias de proyectos de Python. Puedes utilizar Poetry con Google Colab, un servicio de cómputo en la nube que te permite ejecutar código en línea, para instalar y utilizar paquetes en tus proyectos de Colab."
      ],
      "metadata": {
        "id": "XzdXXi-3hw66"
      }
    },
    {
      "cell_type": "code",
      "execution_count": null,
      "metadata": {
        "id": "czF5Q-55hqGb"
      },
      "outputs": [],
      "source": [
        "# Instala Poetry en tu máquina loca\n",
        "pip install poetry"
      ]
    },
    {
      "cell_type": "code",
      "source": [
        "# Crea un proyecto de Poetry en tu máquina local:\n",
        "poetry new mi_proyecto"
      ],
      "metadata": {
        "id": "Qb33c8iXh2vJ"
      },
      "execution_count": null,
      "outputs": []
    },
    {
      "cell_type": "code",
      "source": [
        "# Instala los paquetes que necesites para tu proyecto utilizando Poetry:\n",
        "\n",
        "cd mi_proyecto\n",
        "poetry add paquete1 paquete2"
      ],
      "metadata": {
        "id": "79avsrJ8h9aa"
      },
      "execution_count": null,
      "outputs": []
    },
    {
      "cell_type": "markdown",
      "source": [
        "Crea un archivo de Colab y selecciona \"Ejecutar en un entorno de servidor de Python\" en la opción \"Ejecutar en\" del menú \"Entorno de ejecución\"."
      ],
      "metadata": {
        "id": "0Kz8IeAGiJei"
      }
    },
    {
      "cell_type": "code",
      "source": [
        "# instala Poetry en el entorno de Colab\n",
        "!pip install poetry"
      ],
      "metadata": {
        "id": "Uu9ScubsiLr6"
      },
      "execution_count": null,
      "outputs": []
    },
    {
      "cell_type": "code",
      "source": [
        "# Importa Poetry en tu archivo de Colab y utiliza su método install para instalar los paquetes de tu proyecto en el entorno de Colab:\n",
        "import poetry\n",
        "\n",
        "poetry.install()"
      ],
      "metadata": {
        "id": "GzC5BzAfiNg6"
      },
      "execution_count": null,
      "outputs": []
    },
    {
      "cell_type": "markdown",
      "source": [
        "Con estos pasos, podrás utilizar Poetry para gestionar tus paquetes y dependencias en un proyecto de Colab. Recuerda que debes ejecutar los comandos de Poetry en una celda de Colab para que funcionen en el entorno de Colab.\n",
        "\n",
        "Espero que este ejemplo te ayude a entender cómo utilizar Poetry con Colab. Si tienes alguna duda o necesitas más informaci"
      ],
      "metadata": {
        "id": "FPhXbCrKiVRS"
      }
    },
    {
      "cell_type": "code",
      "source": [],
      "metadata": {
        "id": "r4hW8dFCjLSY"
      },
      "execution_count": null,
      "outputs": []
    },
    {
      "cell_type": "code",
      "source": [],
      "metadata": {
        "id": "FeCtr46BjLP1"
      },
      "execution_count": null,
      "outputs": []
    },
    {
      "cell_type": "markdown",
      "source": [
        "LA MANERA CLASICA DE CREAR UN PAQUETE\n"
      ],
      "metadata": {
        "id": "OSl-DlEyjLsF"
      }
    },
    {
      "cell_type": "code",
      "source": [
        "#Para crear un paquete de Python, debes seguir los siguientes pasos:\n",
        "\n",
        "# Crea una estructura de directorios para tu paquete:\n",
        "%mkdir mi_paquete\n",
        "%cd mi_paquete\n",
        "%mkdir mi_paquete\n",
        "!touch mi_paquete/__init__.py"
      ],
      "metadata": {
        "id": "rWmeShhtjLNc"
      },
      "execution_count": null,
      "outputs": []
    },
    {
      "cell_type": "code",
      "source": [
        "# Escribe el código de tu paquete en el archivo __init__.py:\n",
        "# mi_paquete/__init__.py\n",
        "\n",
        "def saludar():\n",
        "    print(\"Hola!\")"
      ],
      "metadata": {
        "id": "nPKu5yUmjLKU"
      },
      "execution_count": null,
      "outputs": []
    },
    {
      "cell_type": "code",
      "source": [
        "# Crea un archivo setup.py para definir la información de tu paquete:\n",
        "# setup.py\n",
        "\n",
        "from setuptools import setup\n",
        "\n",
        "setup(\n",
        "    name='mi_paquete',\n",
        "    version='0.1',\n",
        "    description='Mi primer paquete de Python',\n",
        "    author='Tu nombre',\n",
        "    author_email='tu_email@ejemplo.com',\n",
        "    packages=['mi_paquete'],\n",
        ")"
      ],
      "metadata": {
        "id": "CPOCMcMmjer9"
      },
      "execution_count": null,
      "outputs": []
    },
    {
      "cell_type": "code",
      "source": [
        "# Utiliza pip para instalar tu paquete localmente:\n",
        "pip install -e ."
      ],
      "metadata": {
        "id": "dQR8tqwgjoAc"
      },
      "execution_count": null,
      "outputs": []
    },
    {
      "cell_type": "markdown",
      "source": [
        " asi habrás creado un paquete de Python que puedes instalar y utilizar en tus proyectos. Recuerda que debes seguir las pautas de estilo y buenas prácticas para escribir código de calidad y hacer que tu paquete sea fácil de usar para otros desarrolladores."
      ],
      "metadata": {
        "id": "V9fzXTQfj6IA"
      }
    },
    {
      "cell_type": "code",
      "source": [],
      "metadata": {
        "id": "ty_JXtGZj-rg"
      },
      "execution_count": null,
      "outputs": []
    },
    {
      "cell_type": "markdown",
      "source": [
        "AHORA COMO LO SUBIMOS A PYPI"
      ],
      "metadata": {
        "id": "NG2H1eI-kL0m"
      }
    },
    {
      "cell_type": "code",
      "source": [
        "# Para subir tu paquete de Python a PyPI (Python Package Index), debes seguir los siguientes pasos:\n",
        "\n",
        "# Crea una cuenta en PyPI si aún no tienes una:\n",
        "!pip install twine\n",
        "!twine register"
      ],
      "metadata": {
        "id": "VEgBS2SKkOZG"
      },
      "execution_count": null,
      "outputs": []
    },
    {
      "cell_type": "code",
      "source": [
        "# Prepara tu paquete para su distribución:\n",
        "python setup.py sdist bdist_wheel"
      ],
      "metadata": {
        "id": "7dcWPOhOkbum"
      },
      "execution_count": null,
      "outputs": []
    },
    {
      "cell_type": "code",
      "source": [
        "# Utiliza twine para subir tu paquete a PyPI:\n",
        "!twine upload dist/*"
      ],
      "metadata": {
        "id": "XbCBWCIpkfuw"
      },
      "execution_count": null,
      "outputs": []
    },
    {
      "cell_type": "markdown",
      "source": [
        "con colab"
      ],
      "metadata": {
        "id": "Nh3elm0ckznX"
      }
    },
    {
      "cell_type": "code",
      "source": [
        "Crea un archivo de Colab y selecciona \"Ejecutar en un entorno de servidor de Python\" en la opción \"Ejecutar en\" del menú \"Entorno de ejecución\".\n",
        "\n",
        "En el archivo de Colab, instala las herramientas necesarias para preparar y subir tu paquete a PyPI:\n",
        "\n",
        "!pip install twine\n",
        "#Prepara tu paquete para su distribución:\n",
        "!python setup.py sdist bdist_wheel\n",
        "# Utiliza twine para subir tu paquete a PyPI:\n",
        "!twine upload dist/*\n",
        "#Con estos pasos, habrás subido tu paquete a PyPI y estará disponible para que otros desarrolladores lo descarguen e"
      ],
      "metadata": {
        "id": "yHPF8vXbkykH"
      },
      "execution_count": null,
      "outputs": []
    }
  ]
}
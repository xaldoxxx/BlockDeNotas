{
  "nbformat": 4,
  "nbformat_minor": 0,
  "metadata": {
    "colab": {
      "provenance": [],
      "authorship_tag": "ABX9TyMenrpDcFCCC1+kL3O1IiM9",
      "include_colab_link": true
    },
    "kernelspec": {
      "name": "python3",
      "display_name": "Python 3"
    },
    "language_info": {
      "name": "python"
    }
  },
  "cells": [
    {
      "cell_type": "markdown",
      "metadata": {
        "id": "view-in-github",
        "colab_type": "text"
      },
      "source": [
        "<a href=\"https://colab.research.google.com/github/xaldoxxx/BlockDeNotas/blob/main/AutomatizaTareas3D.ipynb\" target=\"_parent\"><img src=\"https://colab.research.google.com/assets/colab-badge.svg\" alt=\"Open In Colab\"/></a>"
      ]
    },
    {
      "cell_type": "markdown",
      "source": [
        "<p>Este proyecto proporciona una base para la automatización de tareas en el diseño y la creación de experiencias en 3D. Los scripts y utilidades incluidos pueden servir como punto de partida para desarrollar flujos de trabajo personalizados y adaptados a las necesidades específicas del usuario.</p>"
      ],
      "metadata": {
        "id": "4jxhIcIsbIow"
      }
    },
    {
      "cell_type": "code",
      "source": [
        "%cd .."
      ],
      "metadata": {
        "colab": {
          "base_uri": "https://localhost:8080/"
        },
        "id": "He414Ma-lFYf",
        "outputId": "da11ee9b-4757-492d-fa1a-2cc9921adc18"
      },
      "execution_count": 42,
      "outputs": [
        {
          "output_type": "stream",
          "name": "stdout",
          "text": [
            "/content\n"
          ]
        }
      ]
    },
    {
      "cell_type": "code",
      "execution_count": 43,
      "metadata": {
        "colab": {
          "base_uri": "https://localhost:8080/"
        },
        "id": "ILnyybPPSq8b",
        "outputId": "9b3c3b18-3891-4dc0-e30b-ba4918b9e0b1"
      },
      "outputs": [
        {
          "output_type": "stream",
          "name": "stdout",
          "text": [
            "mkdir: cannot create directory ‘data’: File exists\n"
          ]
        }
      ],
      "source": [
        "!mkdir AutomatizaTareas3d\n",
        "!touch AutomatizaTareas3d/README.md\n",
        "!mkdir AutomatizaTareas3d/scripts\n",
        "!touch AutomatizaTareas3d/scripts/geometry_generator.py\n",
        "!touch AutomatizaTareas3d/scripts/modifier_applier.py\n",
        "!touch AutomatizaTareas3d/scripts/scene_renderer.py\n",
        "!mkdir AutomatizaTareas3d/utils\n",
        "!touch AutomatizaTareas3d/utils/file_manager.py\n",
        "!touch AutomatizaTareas3d/utils/geometry_utils.py\n",
        "!touch AutomatizaTareas3d/utils/rendering_utils.py\n",
        "!mkdir AutomatizaTareas3d/examples\n",
        "!touch AutomatizaTareas3d/examples/generate_geometry_example.py\n",
        "!touch AutomatizaTareas3d/examples/apply_modifiers_example.py\n",
        "!touch AutomatizaTareas3d/examples/render_scene_example.py\n",
        "\n",
        "!mkdir data"
      ]
    },
    {
      "cell_type": "code",
      "source": [
        "class Guarda:\n",
        "    def __init__(self, file_path, code):\n",
        "        self.file_path = file_path\n",
        "        self.code = code\n",
        "\n",
        "    def guardar_archivo(self):\n",
        "        with open(self.file_path, \"w\") as file:\n",
        "            file.write(self.code)\n",
        "\n",
        "def GuardaTodo():\n",
        "    guardador = Guarda(\"/content/AutomatizaTareas3d/\" + file_path, code)\n",
        "    guardador.guardar_archivo()\n"
      ],
      "metadata": {
        "id": "l3SneaCtXzyC"
      },
      "execution_count": 44,
      "outputs": []
    },
    {
      "cell_type": "code",
      "source": [
        "if __name__ == \"__main__\":\n",
        "    file_path = \"scripts/geometry_generator.py\"\n",
        "    code = \"\"\"\n",
        "import numpy as np\n",
        "\n",
        "def generate_geometry():\n",
        "    # Aquí puedes agregar la lógica para generar geometría personalizada en 3D\n",
        "    # Utiliza las funciones y capacidades de numpy para manipular y crear geometría\n",
        "\n",
        "    # Ejemplo: Generar una esfera con radio 1 y centro en (0, 0, 0)\n",
        "    radius = 1\n",
        "    center = np.array([0, 0, 0])\n",
        "    num_points = 100\n",
        "\n",
        "    theta = np.linspace(0, 2 * np.pi, num_points)\n",
        "    phi = np.linspace(0, np.pi, num_points)\n",
        "    theta, phi = np.meshgrid(theta, phi)\n",
        "\n",
        "    x = center[0] + radius * np.sin(phi) * np.cos(theta)\n",
        "    y = center[1] + radius * np.sin(phi) * np.sin(theta)\n",
        "    z = center[2] + radius * np.cos(phi)\n",
        "\n",
        "    # Devolver los puntos (x, y, z) que conforman la geometría generada\n",
        "    return x, y, z\n",
        "\n",
        "if __name__ == \"__main__\":\n",
        "    # Ejemplo de uso del script\n",
        "    geometry = generate_geometry()\n",
        "    print(geometry)\n",
        "\"\"\"\n",
        "GuardaTodo()"
      ],
      "metadata": {
        "id": "vjCES-PvYBrB"
      },
      "execution_count": 45,
      "outputs": []
    },
    {
      "cell_type": "code",
      "source": [
        "file_path = \"scripts/modifier_applier.py\"\n",
        "code = \"\"\"import numpy as np\n",
        "\n",
        "def apply_modifiers(geometry):\n",
        "    # Aquí puedes agregar la lógica para aplicar modificadores a objetos 3D\n",
        "    # Utiliza las funciones y capacidades de numpy para manipular y modificar la geometría\n",
        "\n",
        "    # Ejemplo: Aplicar una traslación a la geometría\n",
        "    translation = np.array([1, 1, 1])\n",
        "    modified_geometry = geometry + translation\n",
        "\n",
        "    # Devolver la geometría modificada\n",
        "    return modified_geometry\n",
        "\n",
        "if __name__ == \"__main__\":\n",
        "    # Ejemplo de uso del script\n",
        "    geometry = np.array([[0, 0, 0], [1, 1, 1], [2, 2, 2]])\n",
        "    modified_geometry = apply_modifiers(geometry)\n",
        "    print(modified_geometry)\n",
        "\"\"\"\n",
        "GuardaTodo()"
      ],
      "metadata": {
        "id": "dcxSgiRdYXyC"
      },
      "execution_count": 46,
      "outputs": []
    },
    {
      "cell_type": "code",
      "source": [
        "file_path = \"scripts/scene_renderer.py\"\n",
        "code = \"\"\"\n",
        "import matplotlib.pyplot as plt\n",
        "\n",
        "def render_scene(geometry):\n",
        "    # Aquí puedes agregar la lógica para realizar el renderizado automático de escenas 3D\n",
        "    # Utiliza las funciones y capacidades de matplotlib para visualizar la geometría en 3D\n",
        "\n",
        "    # Ejemplo: Renderizar la geometría en un gráfico 3D\n",
        "    fig = plt.figure()\n",
        "    ax = fig.add_subplot(111, projection=\"3d\")\n",
        "    ax.scatter(geometry[:, 0], geometry[:, 1], geometry[:, 2])\n",
        "\n",
        "    # Mostrar el gráfico\n",
        "    plt.show()\n",
        "\n",
        "if __name__ == \"__main__\":\n",
        "    # Ejemplo de uso del script\n",
        "    geometry = np.array([[0, 0, 0], [1, 1, 1], [2, 2, 2]])\n",
        "    render_scene(geometry)\n",
        "\"\"\"\n",
        "GuardaTodo()"
      ],
      "metadata": {
        "id": "0HyDLyYpZ-e-"
      },
      "execution_count": 47,
      "outputs": []
    },
    {
      "cell_type": "code",
      "source": [
        "path = \"utils/file_manager.py\"\n",
        "code = \"\"\"\n",
        "def read_file(file_path):\n",
        "    # Lógica para leer un archivo relacionado con el diseño 3D\n",
        "    # Aquí puedes utilizar las funciones de lectura de archivos de Python según el formato requerido\n",
        "    # Devuelve los datos leídos del archivo\n",
        "\n",
        "    # Ejemplo: Leer un archivo de texto\n",
        "    with open(file_path, \"r\") as file:\n",
        "        data = file.read()\n",
        "\n",
        "    return data\n",
        "\n",
        "def write_file(file_path, data):\n",
        "    # Lógica para escribir en un archivo relacionado con el diseño 3D\n",
        "    # Aquí puedes utilizar las funciones de escritura de archivos de Python según el formato requerido\n",
        "\n",
        "    # Ejemplo: Escribir en un archivo de texto\n",
        "    with open(file_path, \"w\") as file:\n",
        "        file.write(data)\n",
        "\n",
        "if __name__ == \"__main__\":\n",
        "    # Ejemplo de uso del módulo\n",
        "    file_path = \"example.txt\"\n",
        "    data = \"Hola, mundo!\"\n",
        "    write_file(file_path, data)\n",
        "    data_read = read_file(file_path)\n",
        "    print(data_read)\n",
        "\"\"\"\n",
        "GuardaTodo()"
      ],
      "metadata": {
        "id": "T3HSjyXKaQHP"
      },
      "execution_count": 48,
      "outputs": []
    },
    {
      "cell_type": "code",
      "source": [
        "path = \"utils/geometry_utils.py\"\n",
        "code = \"\"\"\n",
        "import numpy as np\n",
        "\n",
        "def calculate_volume(geometry):\n",
        "    # Lógica para calcular el volumen de una geometría 3D\n",
        "    # Utiliza las funciones y capacidades de numpy para realizar los cálculos\n",
        "\n",
        "    # Ejemplo: Calcular el volumen de un objeto utilizando la fórmula del tetraedro\n",
        "    # Consideramos que la geometría es un conjunto de puntos que definen los vértices de un tetraedro\n",
        "    # Cada fila de la geometría representa un vértice con coordenadas (x, y, z)\n",
        "    v0, v1, v2, v3 = geometry\n",
        "    volume = np.abs(np.dot(v3 - v0, np.cross(v1 - v0, v2 - v0))) / 6.0\n",
        "\n",
        "    return volume\n",
        "\n",
        "if __name__ == \"__main__\":\n",
        "    # Ejemplo de uso del módulo\n",
        "    geometry = np.array([[0, 0, 0], [1, 0, 0], [0, 1, 0], [0, 0, 1]])\n",
        "    volume = calculate_volume(geometry)\n",
        "    print(volume)\n",
        "\"\"\"\n",
        "GuardaTodo()"
      ],
      "metadata": {
        "id": "zrRL9Qc9c_3e"
      },
      "execution_count": 49,
      "outputs": []
    },
    {
      "cell_type": "code",
      "source": [
        "path = \"utils/rendering_utils.py\"\n",
        "code = \"\"\"\n",
        "import matplotlib.pyplot as plt\n",
        "\n",
        "def configure_plot():\n",
        "    # Lógica para configurar el gráfico de renderizado\n",
        "    # Utiliza las funciones y capacidades de matplotlib para personalizar el gráfico\n",
        "\n",
        "    # Ejemplo: Configurar el título y los ejes del gráfico\n",
        "    plt.title(\"Renderizado 3D\")\n",
        "    plt.xlabel(\"Eje X\")\n",
        "    plt.ylabel(\"Eje Y\")\n",
        "\n",
        "def save_plot(file_path):\n",
        "    # Lógica para guardar el gráfico de renderizado en un archivo\n",
        "    # Utiliza las funciones de guardado de archivos de matplotlib según el formato requerido\n",
        "\n",
        "    # Ejemplo: Guardar el gráfico en formato PNG\n",
        "    plt.savefig(file_path)\n",
        "\n",
        "def show_plot():\n",
        "    # Lógica para mostrar el gráfico de renderizado en una ventana\n",
        "    plt.show()\n",
        "\n",
        "if __name__ == \"__main__\":\n",
        "    # Ejemplo de uso del módulo\n",
        "    configure_plot()\n",
        "    plt.plot([1, 2, 3, 4], [1, 4, 9, 16])\n",
        "    save_plot(\"plot.png\")\n",
        "    show_plot()\n",
        "\"\"\"\n",
        "GuardaTodo()"
      ],
      "metadata": {
        "id": "nR2-WMSFdRBU"
      },
      "execution_count": 50,
      "outputs": []
    },
    {
      "cell_type": "code",
      "source": [
        "file_path = \"examples/generate_geometry_example.py\"\n",
        "code = \"\"\"\n",
        "from utils.geometry_utils import calculate_volume\n",
        "\n",
        "def generate_geometry():\n",
        "    # Lógica para generar geometría personalizada en 3D\n",
        "    # Puedes utilizar las funciones y capacidades de numpy para crear los objetos 3D\n",
        "\n",
        "    # Ejemplo: Generar un tetraedro con coordenadas de los vértices\n",
        "    geometry = [[0, 0, 0], [1, 0, 0], [0, 1, 0], [0, 0, 1]]\n",
        "    volume = calculate_volume(geometry)\n",
        "    print(f\"Volumen del tetraedro: {volume}\")\n",
        "\n",
        "if __name__ == \"__main__\":\n",
        "    # Ejemplo de uso del script\n",
        "    generate_geometry()\n",
        "\"\"\"\n",
        "GuardaTodo()"
      ],
      "metadata": {
        "id": "AAYpJN9DdhQ-"
      },
      "execution_count": 51,
      "outputs": []
    },
    {
      "cell_type": "code",
      "source": [
        "file_path = \"examples/apply_modifiers_example.py\"\n",
        "code = \"\"\"\n",
        "from utils.geometry_utils import calculate_volume\n",
        "\n",
        "def apply_modifiers():\n",
        "    # Lógica para aplicar modificadores a objetos 3D\n",
        "    # Puedes utilizar las funciones y capacidades de numpy para manipular los objetos 3D\n",
        "\n",
        "    # Ejemplo: Aplicar una rotación a un objeto\n",
        "    geometry = [[0, 0, 0], [1, 0, 0], [0, 1, 0], [0, 0, 1]]\n",
        "    rotation_matrix = [[0, 1, 0], [-1, 0, 0], [0, 0, 1]]\n",
        "    rotated_geometry = np.dot(geometry, rotation_matrix)\n",
        "    volume = calculate_volume(rotated_geometry)\n",
        "    print(f\"Volumen del objeto rotado: {volume}\")\n",
        "\n",
        "if __name__ == \"__main__\":\n",
        "    # Ejemplo de uso del script\n",
        "    apply_modifiers()\n",
        "\"\"\"\n",
        "GuardaTodo()"
      ],
      "metadata": {
        "id": "0w5cttYAeYeI"
      },
      "execution_count": 52,
      "outputs": []
    },
    {
      "cell_type": "code",
      "source": [
        "file_path = \"examples/render_scene_example.py\"\n",
        "code = \"\"\"\n",
        "import matplotlib.pyplot as plt\n",
        "from utils.rendering_utils import configure_plot, save_plot, show_plot\n",
        "\n",
        "def render_scene():\n",
        "    # Lógica para renderizar una escena 3D\n",
        "    # Puedes utilizar las funciones y capacidades de matplotlib para crear el gráfico 3D\n",
        "\n",
        "    # Ejemplo: Renderizar una escena con puntos en un gráfico 3D\n",
        "    x = [1, 2, 3, 4]\n",
        "    y = [1, 4, 9, 16]\n",
        "    z = [1, 8, 27, 64]\n",
        "\n",
        "    configure_plot()\n",
        "    plt.scatter(x, y, z)\n",
        "    save_plot(\"scene.png\")\n",
        "    show_plot()\n",
        "\n",
        "if __name__ == \"__main__\":\n",
        "    # Ejemplo de uso del script\n",
        "    render_scene()\n",
        "\"\"\"\n",
        "GuardaTodo()\n"
      ],
      "metadata": {
        "id": "Yi84FZSTfj6E"
      },
      "execution_count": 53,
      "outputs": []
    },
    {
      "cell_type": "code",
      "source": [
        "file_path = \"README.md\"\n",
        "code = \"\"\"\n",
        "Proyecto de Automatización de Tareas en Diseño 3D\n",
        "Este proyecto tiene como objetivo proporcionar herramientas de automatización de tareas para el diseño y la creación de experiencias en 3D. Utiliza el lenguaje de programación Python y diversas bibliotecas, como numpy y matplotlib, para manipular geometría 3D, aplicar modificadores a objetos y renderizar escenas.\n",
        "\n",
        "Estructura del Proyecto\n",
        "El proyecto está estructurado en diferentes carpetas y archivos para una mejor organización y reutilización del código.\n",
        "\n",
        "Carpeta principal del proyecto:\n",
        "\n",
        "README.md: Archivo de documentación del proyecto.\n",
        "requirements.txt: Archivo que lista las dependencias del proyecto.\n",
        "Carpeta scripts:\n",
        "\n",
        "geometry_generator.py: Script para generar geometría personalizada en 3D.\n",
        "modifier_applier.py: Script para aplicar modificadores a objetos 3D.\n",
        "scene_renderer.py: Script para realizar el renderizado automático de escenas 3D.\n",
        "Carpeta utils:\n",
        "\n",
        "file_manager.py: Módulo para manejar la lectura y escritura de archivos relacionados con el diseño 3D.\n",
        "geometry_utils.py: Módulo con funciones de utilidad para la generación y manipulación de geometría 3D.\n",
        "rendering_utils.py: Módulo con funciones para configurar y controlar el renderizado de escenas 3D.\n",
        "Carpeta examples:\n",
        "\n",
        "generate_geometry_example.py: Ejemplo de uso del script geometry_generator.py.\n",
        "apply_modifiers_example.py: Ejemplo de uso del script modifier_applier.py.\n",
        "render_scene_example.py: Ejemplo de uso del script scene_renderer.py.\n",
        "Carpeta data (opcional):\n",
        "\n",
        "Carpeta para almacenar los archivos de entrada o salida utilizados por los scripts.\n",
        "Descripción de los Scripts\n",
        "geometry_generator.py\n",
        "El script geometry_generator.py permite generar geometría personalizada en 3D. Utiliza la biblioteca numpy para manipular y crear geometría con mayor eficiencia.\n",
        "\n",
        "Utilidades y Ejemplos\n",
        "Módulo file_manager.py\n",
        "El módulo file_manager.py proporciona funciones para manejar la lectura y escritura de archivos relacionados con el diseño 3D. Facilita la gestión de archivos de entrada y salida utilizados por los scripts.\n",
        "\n",
        "Módulo geometry_utils.py\n",
        "El módulo geometry_utils.py contiene funciones de utilidad para la generación y manipulación de geometría 3D. Proporciona funciones auxiliares para operar y transformar geometría de manera eficiente.\n",
        "\n",
        "Módulo rendering_utils.py\n",
        "El módulo rendering_utils.py contiene funciones para configurar y controlar el renderizado de escenas 3D. Proporciona funciones para establecer propiedades de visualización y controlar la apariencia de las escenas renderizadas.\n",
        "\n",
        "Ejemplos\n",
        "La carpeta examples contiene ejemplos de uso de los scripts principales. Cada archivo de ejemplo muestra cómo utilizar un script específico y proporciona una guía para su uso.\n",
        "\n",
        "Dependencias\n",
        "El proyecto requiere las siguientes dependencias:\n",
        "\n",
        "numpy\n",
        "matplotlib\n",
        "Puedes instalar las dependencias utilizando el archivo requirements.txt incluido en la carpeta principal del proyecto.\n",
        "\n",
        "Notas Finales\n",
        "Este proyecto proporciona una base para la automatización de tareas en el diseño y la creación de experiencias en 3D. Los scripts y utilidades incluidos pueden servir como punto de partida para desarrollar flujos de trabajo personalizados y adaptados a las necesidades específicas del usuario.\n",
        "\n",
        "\"\"\"\n",
        "GuardaTodo()"
      ],
      "metadata": {
        "id": "1LoCWH7WhjhY"
      },
      "execution_count": 56,
      "outputs": []
    },
    {
      "cell_type": "code",
      "source": [
        "!curl -u 'xaldoxxx' https://api.github.com/user/repos -d '{\"name\":\"AutomatizaTareas3d\"}'"
      ],
      "metadata": {
        "colab": {
          "base_uri": "https://localhost:8080/"
        },
        "id": "3RvyVNXwoA32",
        "outputId": "12962e2e-8269-4de4-ea5c-2c6c38f244c8"
      },
      "execution_count": 62,
      "outputs": [
        {
          "output_type": "stream",
          "name": "stdout",
          "text": [
            "Enter host password for user 'xaldoxxx':\n",
            "{\n",
            "  \"message\": \"Requires authentication\",\n",
            "  \"documentation_url\": \"https://docs.github.com/rest/reference/repos#create-a-repository-for-the-authenticated-user\"\n",
            "}\n"
          ]
        }
      ]
    },
    {
      "cell_type": "code",
      "source": [
        "# GitHub CLI api\n",
        "# https://cli.github.com/manual/gh_api\n",
        "\n",
        "!gh api \\\n",
        "  --method POST \\\n",
        "  -H \"Accept: application/vnd.github+json\" \\\n",
        "  -H \"X-GitHub-Api-Version: 2022-11-28\" \\\n",
        "  /user/repos \\\n",
        "  -f name='Hello-World' \\\n",
        " -f description='This is your first repo!' \\\n",
        " -f homepage='https://github.com' \\\n",
        " -F private=false \\\n",
        " -F is_template=true"
      ],
      "metadata": {
        "colab": {
          "base_uri": "https://localhost:8080/"
        },
        "id": "f3dEQ3RgoZ7G",
        "outputId": "f0790d45-6b1a-4939-aa04-8ef22e878a45"
      },
      "execution_count": 64,
      "outputs": [
        {
          "output_type": "stream",
          "name": "stdout",
          "text": [
            "/bin/bash: gh: command not found\n"
          ]
        }
      ]
    },
    {
      "cell_type": "code",
      "source": [
        "!curl -L \\\n",
        "  -X POST \\\n",
        "  -H \"Accept: application/vnd.github+json\" \\\n",
        "  -H \"Authorization: Bearer <YOUR-TOKEN>\"\\\n",
        "  -H \"X-GitHub-Api-Version: 2022-11-28\" \\\n",
        "  https://api.github.com/user/repos \\\n",
        "  -d '{\"name\":\"Hello-World\",\"description\":\"This is your first repo!\",\"homepage\":\"https://github.com\",\"private\":false,\"is_template\":true}'"
      ],
      "metadata": {
        "id": "XsyoWUHNor0i"
      },
      "execution_count": null,
      "outputs": []
    },
    {
      "cell_type": "code",
      "source": [
        "%cd /content/AutomatizaTareas3d\n"
      ],
      "metadata": {
        "colab": {
          "base_uri": "https://localhost:8080/"
        },
        "id": "qvkHZrl4pIoi",
        "outputId": "3308daff-776b-4d19-9db1-3cd33841b563"
      },
      "execution_count": 65,
      "outputs": [
        {
          "output_type": "stream",
          "name": "stdout",
          "text": [
            "/content/AutomatizaTareas3d\n"
          ]
        }
      ]
    },
    {
      "cell_type": "code",
      "source": [
        "!git init"
      ],
      "metadata": {
        "colab": {
          "base_uri": "https://localhost:8080/"
        },
        "id": "-5Ym8w78pInb",
        "outputId": "5df3696d-b4e8-4268-dc57-6e839b880212"
      },
      "execution_count": 66,
      "outputs": [
        {
          "output_type": "stream",
          "name": "stdout",
          "text": [
            "Initialized empty Git repository in /content/AutomatizaTareas3d/.git/\n"
          ]
        }
      ]
    },
    {
      "cell_type": "code",
      "source": [
        "!git add ."
      ],
      "metadata": {
        "id": "JN4pMTC3pLrp"
      },
      "execution_count": 67,
      "outputs": []
    },
    {
      "cell_type": "code",
      "source": [
        "!git commit -m \"Agregar contenido de la carpeta AutomatizaTareas3d\""
      ],
      "metadata": {
        "colab": {
          "base_uri": "https://localhost:8080/"
        },
        "id": "ZcCDEP6-pNuA",
        "outputId": "0b6fce6f-f3d1-458e-869c-e0990a007eb1"
      },
      "execution_count": 68,
      "outputs": [
        {
          "output_type": "stream",
          "name": "stdout",
          "text": [
            "\n",
            "*** Please tell me who you are.\n",
            "\n",
            "Run\n",
            "\n",
            "  git config --global user.email \"you@example.com\"\n",
            "  git config --global user.name \"Your Name\"\n",
            "\n",
            "to set your account's default identity.\n",
            "Omit --global to set the identity only in this repository.\n",
            "\n",
            "fatal: unable to auto-detect email address (got 'root@df0ea7f74225.(none)')\n"
          ]
        }
      ]
    },
    {
      "cell_type": "code",
      "source": [
        "!git config --global user.email \"manfredialdo3@gmail.com\"\n",
        "!git config --global user.name \"xaldoxxx\""
      ],
      "metadata": {
        "id": "lmNWa1IgpP_Z"
      },
      "execution_count": 75,
      "outputs": []
    },
    {
      "cell_type": "code",
      "source": [
        "!git remote add origin https://github.com/xaldoxxx/AutomatizaTareas3d.git"
      ],
      "metadata": {
        "colab": {
          "base_uri": "https://localhost:8080/"
        },
        "id": "9n90f4fSpag5",
        "outputId": "51093d84-ad89-4868-d160-e246936876c1"
      },
      "execution_count": 76,
      "outputs": [
        {
          "output_type": "stream",
          "name": "stdout",
          "text": [
            "fatal: remote origin already exists.\n"
          ]
        }
      ]
    },
    {
      "cell_type": "code",
      "source": [
        "!git push -u origin master"
      ],
      "metadata": {
        "colab": {
          "base_uri": "https://localhost:8080/"
        },
        "id": "rYolY4p9pkah",
        "outputId": "5b3df742-abd0-40a5-90ae-15f7967ffbab"
      },
      "execution_count": 77,
      "outputs": [
        {
          "output_type": "stream",
          "name": "stdout",
          "text": [
            "error: src refspec master does not match any\n",
            "\u001b[31merror: failed to push some refs to 'https://github.com/xaldoxxx/AutomatizaTareas3d.git'\n",
            "\u001b[m"
          ]
        }
      ]
    }
  ]
}
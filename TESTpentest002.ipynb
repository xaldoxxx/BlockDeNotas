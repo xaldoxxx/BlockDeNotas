{
  "nbformat": 4,
  "nbformat_minor": 0,
  "metadata": {
    "colab": {
      "provenance": [],
      "authorship_tag": "ABX9TyOBUm33bF4wwttWbefGTAms",
      "include_colab_link": true
    },
    "kernelspec": {
      "name": "python3",
      "display_name": "Python 3"
    },
    "language_info": {
      "name": "python"
    }
  },
  "cells": [
    {
      "cell_type": "markdown",
      "metadata": {
        "id": "view-in-github",
        "colab_type": "text"
      },
      "source": [
        "<a href=\"https://colab.research.google.com/github/xaldoxxx/BlockDeNotas/blob/main/TESTpentest002.ipynb\" target=\"_parent\"><img src=\"https://colab.research.google.com/assets/colab-badge.svg\" alt=\"Open In Colab\"/></a>"
      ]
    },
    {
      "cell_type": "code",
      "execution_count": null,
      "metadata": {
        "id": "wvCbRgcP8A0W"
      },
      "outputs": [],
      "source": [
        "!apt update\n",
        "!apt install chromium-chromedriver\n",
        "!pip install selenium # https://www.selenium.dev/documentation/ https://selenium-python.readthedocs.io/getting-started.html\n",
        "!pip install xsstrike\n",
        "!pip install arjun\n",
        "!pip install xsstrike_reborn\n",
        "!pip install fake-agent # https://itz-fork.github.io/Fake-agent\n",
        "!pip install arjun\n",
        "!pip install scrapy"
      ]
    },
    {
      "cell_type": "code",
      "source": [
        "!pip install fake-agent #https://itz-fork.github.io/Fake-agent/#/\n",
        "!pip install pynat"
      ],
      "metadata": {
        "colab": {
          "base_uri": "https://localhost:8080/"
        },
        "id": "lqtzTNYV-Kum",
        "outputId": "c875c14e-bcfb-4727-f39d-217fb6c78bfb"
      },
      "execution_count": 3,
      "outputs": [
        {
          "output_type": "stream",
          "name": "stdout",
          "text": [
            "Requirement already satisfied: fake-agent in /usr/local/lib/python3.10/dist-packages (0.1.4)\n",
            "Requirement already satisfied: pynat in /usr/local/lib/python3.10/dist-packages (0.7.0)\n"
          ]
        }
      ]
    },
    {
      "cell_type": "code",
      "source": [
        "import scrapy\n",
        "\n",
        "class NiceHashSpider(scrapy.Spider):\n",
        "    name = 'nicehash_spider'\n",
        "    start_urls = ['https://www.nicehash.com/']\n",
        "\n",
        "    def parse(self, response):\n",
        "        # Aquí puedes realizar la extracción de datos que desees\n",
        "        # Por ejemplo, puedes buscar enlaces, formularios o cualquier otra información relevante\n",
        "        # Si estás buscando vulnerabilidades, debes analizar las respuestas en busca de posibles problemas de seguridad\n",
        "\n",
        "        # Ejemplo: Extraer enlaces de la página\n",
        "        links = response.css('a::attr(href)').extract()\n",
        "        for link in links:\n",
        "            self.log(f'Enlace encontrado: {link}')\n",
        "\n",
        "        # Puedes realizar más análisis de seguridad aquí\n",
        "\n",
        "        # Recursivamente seguir otros enlaces\n",
        "        for next_page in response.css('a::attr(href)').extract():\n",
        "            yield response.follow(next_page, self.parse)\n"
      ],
      "metadata": {
        "id": "0P4j6DzI_18S"
      },
      "execution_count": 4,
      "outputs": []
    },
    {
      "cell_type": "code",
      "source": [
        "import scrapy\n",
        "\n",
        "class NiceHashSpider(scrapy.Spider):\n",
        "    name = 'nicehash_spider'\n",
        "    start_urls = ['https://www.nicehash.com/']\n",
        "\n",
        "    def parse(self, response):\n",
        "        # Extraer enlaces de la página\n",
        "        links = response.css('a::attr(href)').extract()\n",
        "        for link in links:\n",
        "            self.log(f'Enlace encontrado: {link}')\n",
        "\n",
        "        # Puedes realizar más análisis de seguridad aquí\n",
        "\n",
        "        # Recursivamente seguir otros enlaces\n",
        "        for next_page in response.css('a::attr(href)').extract():\n",
        "            yield response.follow(next_page, self.parse)\n"
      ],
      "metadata": {
        "id": "H5ATihUZAAvy"
      },
      "execution_count": 5,
      "outputs": []
    },
    {
      "cell_type": "code",
      "source": [
        "import scrapy\n",
        "\n",
        "class NiceHashSpider(scrapy.Spider):\n",
        "    name = 'nicehash_spider'\n",
        "    start_urls = ['https://www.nicehash.com/']\n",
        "\n",
        "    def parse(self, response):\n",
        "        # Buscar formularios en la página\n",
        "        forms = response.css('form')\n",
        "        for form in forms:\n",
        "            form_action = form.xpath('@action').extract_first()\n",
        "            self.log(f'Formulario encontrado con acción: {form_action}')\n",
        "\n",
        "        # Puedes realizar más análisis de seguridad aquí\n",
        "\n",
        "        # Recursivamente seguir otros enlaces\n",
        "        for next_page in response.css('a::attr(href)').extract():\n",
        "            yield response.follow(next_page, self.parse)\n"
      ],
      "metadata": {
        "id": "by69qP51AAuE"
      },
      "execution_count": 6,
      "outputs": []
    },
    {
      "cell_type": "code",
      "source": [
        "import scrapy\n",
        "\n",
        "class NiceHashSpider(scrapy.Spider):\n",
        "    name = 'nicehash_spider'\n",
        "    start_urls = ['https://www.nicehash.com/']\n",
        "\n",
        "    def parse(self, response):\n",
        "        # Verificar si se utiliza HTTPS en los enlaces\n",
        "        secure_links = [link for link in response.css('a::attr(href)').extract() if link.startswith('https')]\n",
        "        if secure_links:\n",
        "            self.log('Se encontraron enlaces seguros.')\n",
        "\n",
        "        # Verificar si se establece una cookie segura\n",
        "        secure_cookie = response.headers.get('Set-Cookie', '').startswith('Secure')\n",
        "        if secure_cookie:\n",
        "            self.log('Se estableció una cookie segura.')\n",
        "\n",
        "        # Puedes realizar más análisis de seguridad aquí\n",
        "\n",
        "        # Recursivamente seguir otros enlaces\n",
        "        for next_page in response.css('a::attr(href)').extract():\n",
        "            yield response.follow(next_page, self.parse)\n"
      ],
      "metadata": {
        "id": "UuN2qKASAArl"
      },
      "execution_count": 7,
      "outputs": []
    },
    {
      "cell_type": "code",
      "source": [
        "!xsstrike -u \"https://www.nicehash.com/my/login\" --data"
      ],
      "metadata": {
        "colab": {
          "base_uri": "https://localhost:8080/"
        },
        "id": "Y-UKY8bQAAol",
        "outputId": "5c4c0131-4e93-487d-d4f6-148f2dcacce9"
      },
      "execution_count": 11,
      "outputs": [
        {
          "output_type": "stream",
          "name": "stdout",
          "text": [
            "usage: xsstrike\n",
            "       [-h]\n",
            "       [-u TARGET]\n",
            "       [--data PARAMDATA]\n",
            "       [-e ENCODE]\n",
            "       [--fuzzer]\n",
            "       [--update]\n",
            "       [--timeout TIMEOUT]\n",
            "       [--proxy]\n",
            "       [--crawl]\n",
            "       [--json]\n",
            "       [--path]\n",
            "       [--seeds ARGS_SEEDS]\n",
            "       [-f ARGS_FILE]\n",
            "       [-l LEVEL]\n",
            "       [--headers [ADD_HEADERS]]\n",
            "       [-t THREADCOUNT]\n",
            "       [-d DELAY]\n",
            "       [--skip]\n",
            "       [--skip-dom]\n",
            "       [--blind]\n",
            "       [--console-log-level {DEBUG,INFO,RUN,GOOD,WARNING,ERROR,CRITICAL,VULN}]\n",
            "       [--file-log-level {DEBUG,INFO,RUN,GOOD,WARNING,ERROR,CRITICAL,VULN}]\n",
            "       [--log-file LOG_FILE]\n",
            "       [-n PAYLOAD_COUNT]\n",
            "xsstrike: error: argument --data: expected one argument\n"
          ]
        }
      ]
    },
    {
      "cell_type": "code",
      "source": [
        "!xsstrike -u https://www.nicehash.com/my/login --crawl --blind"
      ],
      "metadata": {
        "colab": {
          "base_uri": "https://localhost:8080/"
        },
        "id": "WvrvGV4OEbRD",
        "outputId": "33de0113-c8ab-4cb4-8bd8-e7e5f6c6826a"
      },
      "execution_count": null,
      "outputs": [
        {
          "output_type": "stream",
          "name": "stdout",
          "text": [
            "\u001b[97m[~]\u001b[0m Crawling the target \u001b[0m\n",
            "\u001b[97m[~]\u001b[0m Parsing my/login                                \r \u001b[0m\r\u001b[97m[~]\u001b[0m Parsing my/login                                \r \u001b[0m\r"
          ]
        }
      ]
    },
    {
      "cell_type": "code",
      "source": [],
      "metadata": {
        "id": "YFI2fjKwE5vX"
      },
      "execution_count": null,
      "outputs": []
    }
  ]
}
{
  "nbformat": 4,
  "nbformat_minor": 0,
  "metadata": {
    "colab": {
      "provenance": [],
      "authorship_tag": "ABX9TyN39sCyjSMmpxOWX1dwnKK1",
      "include_colab_link": true
    },
    "kernelspec": {
      "name": "python3",
      "display_name": "Python 3"
    },
    "language_info": {
      "name": "python"
    }
  },
  "cells": [
    {
      "cell_type": "markdown",
      "metadata": {
        "id": "view-in-github",
        "colab_type": "text"
      },
      "source": [
        "<a href=\"https://colab.research.google.com/github/xaldoxxx/BlockDeNotas/blob/main/dadoTEST.ipynb\" target=\"_parent\"><img src=\"https://colab.research.google.com/assets/colab-badge.svg\" alt=\"Open In Colab\"/></a>"
      ]
    },
    {
      "cell_type": "markdown",
      "source": [
        " <h2>clase que simula el lanzamiento de dos dados y luego se hacen pruebas unitarias para verificar algunos resultados.</h2>"
      ],
      "metadata": {
        "id": "MkXqh1JEGB7Z"
      }
    },
    {
      "cell_type": "code",
      "source": [
        "import unittest\n",
        "# https://docs.python.org/es/3.10/library/unittest.html?highlight=unittest%20main#unittest.main\n",
        "\n",
        "class Mis_test(unittest.TestCase):\n",
        "    def test_suma(self):\n",
        "        self.assertEqual(2+2, 4)\n",
        "\n",
        "    def test_resta(self):\n",
        "        self.assertTrue(2-2==0)\n",
        "\n",
        "#if __name__ == '__main__':\n",
        "#    unittest.main()\n",
        "\n",
        "# Pasar una lista explícita unittest.mainevitará que IPython y Jupyter\n",
        "# miren sys.argv.\n",
        "# Pasar exit=Falsevitará unittest.mainque se cierre el proceso kernell\n",
        "# https://medium.com/@vladbezden/using-python-unittest-in-ipython-or-jupyter-732448724e31\n",
        "\n",
        "if __name__ == '__main__':\n",
        "    unittest.main(argv=['first-arg-is-ignored'], exit=False)"
      ],
      "metadata": {
        "id": "JBJNfS9-8dAc"
      },
      "execution_count": null,
      "outputs": []
    },
    {
      "cell_type": "code",
      "execution_count": null,
      "metadata": {
        "id": "QBiTg6VTF4u3"
      },
      "outputs": [],
      "source": [
        "import random\n",
        "\n",
        "class DiceSimulator:\n",
        "    def __init__(self):\n",
        "        self.dice1 = None\n",
        "        self.dice2 = None\n",
        "\n",
        "    def roll_dice(self):\n",
        "        self.dice1 = random.randint(1, 6)\n",
        "        self.dice2 = random.randint(1, 6)\n",
        "\n",
        "    def get_dice_values(self):\n",
        "        return self.dice1, self.dice2\n",
        "\n",
        "    def is_double(self):\n",
        "        return self.dice1 == self.dice2\n"
      ]
    },
    {
      "cell_type": "code",
      "source": [
        "import unittest\n",
        "\n",
        "class TestDiceSimulator(unittest.TestCase):\n",
        "    def setUp(self):\n",
        "        self.simulator = DiceSimulator()\n",
        "\n",
        "    def test_roll_dice(self):\n",
        "        self.simulator.roll_dice()\n",
        "        dice1, dice2 = self.simulator.get_dice_values()\n",
        "        self.assertTrue(1 <= dice1 <= 6)\n",
        "        self.assertTrue(1 <= dice2 <= 6)\n",
        "\n",
        "    def test_is_double(self):\n",
        "        self.simulator.dice1 = 2\n",
        "        self.simulator.dice2 = 2\n",
        "        self.assertTrue(self.simulator.is_double())\n",
        "\n",
        "        self.simulator.dice1 = 3\n",
        "        self.simulator.dice2 = 6\n",
        "        self.assertFalse(self.simulator.is_double())\n",
        "\n",
        "if __name__ == '__main__':\n",
        "    unittest.main(argv=['first-arg-is-ignored'], exit=False)\n"
      ],
      "metadata": {
        "colab": {
          "base_uri": "https://localhost:8080/"
        },
        "id": "MZB5Waj7GRvS",
        "outputId": "8608b788-7f60-4056-b7ec-fc09506d24a1"
      },
      "execution_count": 35,
      "outputs": [
        {
          "output_type": "stream",
          "name": "stderr",
          "text": [
            "..EEEEE\n",
            "======================================================================\n",
            "ERROR: test_div (__main__.TestCalcDiv)\n",
            "Test case function for division\n",
            "----------------------------------------------------------------------\n",
            "Traceback (most recent call last):\n",
            "  File \"<ipython-input-22-14796909a4bd>\", line 5, in test_div\n",
            "    self.calc = Calculator()\n",
            "NameError: name 'Calculator' is not defined\n",
            "\n",
            "======================================================================\n",
            "ERROR: test_div_error (__main__.TestCalcDiv)\n",
            "Make sure ZeroDivisionError is raised when necessary\n",
            "----------------------------------------------------------------------\n",
            "Traceback (most recent call last):\n",
            "  File \"<ipython-input-22-14796909a4bd>\", line 11, in test_div_error\n",
            "    self.calc = Calculator()\n",
            "NameError: name 'Calculator' is not defined\n",
            "\n",
            "======================================================================\n",
            "ERROR: test_div (__main__.TestCalculator)\n",
            "Make sure ZeroDivisionError is raised when necessary\n",
            "----------------------------------------------------------------------\n",
            "Traceback (most recent call last):\n",
            "  File \"<ipython-input-21-59bc96ca68cc>\", line 5, in test_div\n",
            "    self.calc = Calculator()\n",
            "NameError: name 'Calculator' is not defined\n",
            "\n",
            "======================================================================\n",
            "ERROR: test_is_double (__main__.TestDiceSimulator)\n",
            "----------------------------------------------------------------------\n",
            "Traceback (most recent call last):\n",
            "  File \"<ipython-input-35-c7e807b36ec7>\", line 16, in test_is_double\n",
            "    self.assertTrue(self.simulator.is_double())\n",
            "AttributeError: 'DiceSimulator' object has no attribute 'is_double'\n",
            "\n",
            "======================================================================\n",
            "ERROR: test_roll_dice (__main__.TestDiceSimulator)\n",
            "----------------------------------------------------------------------\n",
            "Traceback (most recent call last):\n",
            "  File \"<ipython-input-35-c7e807b36ec7>\", line 9, in test_roll_dice\n",
            "    dice1, dice2 = self.simulator.get_dice_values()\n",
            "AttributeError: 'DiceSimulator' object has no attribute 'get_dice_values'\n",
            "\n",
            "----------------------------------------------------------------------\n",
            "Ran 7 tests in 0.018s\n",
            "\n",
            "FAILED (errors=5)\n"
          ]
        }
      ]
    },
    {
      "cell_type": "code",
      "source": [
        "import random\n",
        "import unittest\n",
        "\n",
        "class DiceSimulator:\n",
        "    def __init__(self):\n",
        "        self.roll_dice()\n",
        "\n",
        "    def roll_dice(self):\n",
        "        self.dice1 = random.randint(1, 6)\n",
        "        self.dice2 = random.randint(1, 6)\n",
        "\n",
        "    def get_dice_values(self):\n",
        "        return self.dice1, self.dice2\n",
        "\n",
        "    def is_double(self):\n",
        "        return self.dice1 == self.dice2\n",
        "\n",
        "if __name__ == '__main__':\n",
        "    unittest.main(argv=['first-arg-is-ignored'], exit=False)\n",
        "\n"
      ],
      "metadata": {
        "id": "erkPVnkYGUFa",
        "colab": {
          "base_uri": "https://localhost:8080/"
        },
        "outputId": "2e02d87e-5d7b-472a-c4b1-e34a6087c055"
      },
      "execution_count": 53,
      "outputs": [
        {
          "output_type": "stream",
          "name": "stderr",
          "text": [
            "...FFEEE\n",
            "======================================================================\n",
            "ERROR: test_get_total (__main__.TestDiceSimulator)\n",
            "----------------------------------------------------------------------\n",
            "Traceback (most recent call last):\n",
            "  File \"<ipython-input-52-e98dfa0e24e3>\", line 30, in test_get_total\n",
            "    self.assertEqual(simulator.get_total(), 7)\n",
            "AttributeError: 'DiceSimulator' object has no attribute 'get_total'\n",
            "\n",
            "======================================================================\n",
            "ERROR: test_is_total_even (__main__.TestDiceSimulator)\n",
            "----------------------------------------------------------------------\n",
            "Traceback (most recent call last):\n",
            "  File \"<ipython-input-52-e98dfa0e24e3>\", line 36, in test_is_total_even\n",
            "    self.assertTrue(simulator.get_total() % 2 == 0)\n",
            "AttributeError: 'DiceSimulator' object has no attribute 'get_total'\n",
            "\n",
            "======================================================================\n",
            "ERROR: test_roll_dice (__main__.TestDiceSimulator)\n",
            "----------------------------------------------------------------------\n",
            "Traceback (most recent call last):\n",
            "  File \"<ipython-input-52-e98dfa0e24e3>\", line 23, in test_roll_dice\n",
            "    self.assertIn(simulator.die1, range(1, 7))\n",
            "AttributeError: 'DiceSimulator' object has no attribute 'die1'\n",
            "\n",
            "======================================================================\n",
            "FAIL: test_div_error (__main__.TestCalcDiv)\n",
            "Make sure ZeroDivisionError is raised when necessary\n",
            "----------------------------------------------------------------------\n",
            "Traceback (most recent call last):\n",
            "  File \"<ipython-input-51-226059d428ae>\", line 14, in test_div_error\n",
            "    self.assertRaises(ZeroDivisionError, self.calc.div, 10, 0)\n",
            "AssertionError: ZeroDivisionError not raised by div\n",
            "\n",
            "======================================================================\n",
            "FAIL: test_div (__main__.TestCalculator)\n",
            "Make sure ZeroDivisionError is raised when necessary\n",
            "----------------------------------------------------------------------\n",
            "Traceback (most recent call last):\n",
            "  File \"<ipython-input-50-7de737fd747f>\", line 6, in test_div\n",
            "    self.assertRaises(ZeroDivisionError, self.calc.div, 10, 0)\n",
            "AssertionError: ZeroDivisionError not raised by div\n",
            "\n",
            "----------------------------------------------------------------------\n",
            "Ran 8 tests in 0.016s\n",
            "\n",
            "FAILED (failures=2, errors=3)\n"
          ]
        }
      ]
    },
    {
      "cell_type": "code",
      "source": [
        "\n",
        "class TestDiceSimulator(unittest.TestCase):\n",
        "    def setUp(self):\n",
        "        self.simulator = DiceSimulator()\n",
        "\n",
        "    def test_roll_dice(self):\n",
        "        dice1, dice2 = self.simulator.get_dice_values()\n",
        "        self.assertTrue(1 <= dice1 <= 6)\n",
        "        self.assertTrue(1 <= dice2 <= 6)\n",
        "\n",
        "    def test_is_double(self):\n",
        "        self.simulator.dice1 = 2\n",
        "        self.simulator.dice2 = 2\n",
        "        self.assertTrue(self.simulator.is_double())\n",
        "\n",
        "        self.simulator.dice1 = 3\n",
        "        self.simulator.dice2 = 6\n",
        "        self.assertFalse(self.simulator.is_double())\n",
        "\n",
        "if __name__ == '__main__':\n",
        "    unittest.main(argv=['first-arg-is-ignored'], exit=False)\n"
      ],
      "metadata": {
        "colab": {
          "base_uri": "https://localhost:8080/"
        },
        "id": "O3NTR5e-G0gK",
        "outputId": "e42fb60b-9eb1-4c50-fa2c-dbe1c914bd2a"
      },
      "execution_count": 54,
      "outputs": [
        {
          "output_type": "stream",
          "name": "stderr",
          "text": [
            "...FF..\n",
            "======================================================================\n",
            "FAIL: test_div_error (__main__.TestCalcDiv)\n",
            "Make sure ZeroDivisionError is raised when necessary\n",
            "----------------------------------------------------------------------\n",
            "Traceback (most recent call last):\n",
            "  File \"<ipython-input-51-226059d428ae>\", line 14, in test_div_error\n",
            "    self.assertRaises(ZeroDivisionError, self.calc.div, 10, 0)\n",
            "AssertionError: ZeroDivisionError not raised by div\n",
            "\n",
            "======================================================================\n",
            "FAIL: test_div (__main__.TestCalculator)\n",
            "Make sure ZeroDivisionError is raised when necessary\n",
            "----------------------------------------------------------------------\n",
            "Traceback (most recent call last):\n",
            "  File \"<ipython-input-50-7de737fd747f>\", line 6, in test_div\n",
            "    self.assertRaises(ZeroDivisionError, self.calc.div, 10, 0)\n",
            "AssertionError: ZeroDivisionError not raised by div\n",
            "\n",
            "----------------------------------------------------------------------\n",
            "Ran 7 tests in 0.017s\n",
            "\n",
            "FAILED (failures=2)\n"
          ]
        }
      ]
    },
    {
      "cell_type": "code",
      "source": [
        "class Calculator:\n",
        "    def __init__(self):\n",
        "        pass\n",
        "\n",
        "    def add(self, a, b):\n",
        "        return a + b\n",
        "\n",
        "    def sub(self, a, b):\n",
        "        return a - b\n",
        "\n",
        "    def mul(self, a, b):\n",
        "        return a * b\n",
        "\n",
        "    def div(self, a, b):\n",
        "        if b != 0:\n",
        "            return a / b"
      ],
      "metadata": {
        "id": "iRH-3TwrJSJp"
      },
      "execution_count": 38,
      "outputs": []
    },
    {
      "cell_type": "code",
      "source": [
        "class TestCalculator(unittest.TestCase):\n",
        "\n",
        "    def test_div(self):\n",
        "        '''Make sure ZeroDivisionError is raised when necessary'''\n",
        "        self.calc = Calculator()\n",
        "        self.assertRaises(ZeroDivisionError, self.calc.div, 10, 0)\n",
        "\n",
        "unittest.main(argv=['first-arg-is-ignored'], verbosity=2, exit=False)"
      ],
      "metadata": {
        "colab": {
          "base_uri": "https://localhost:8080/"
        },
        "id": "0iTeRQihG3JC",
        "outputId": "de6a518d-b60b-4b14-a5db-8945218b5a57"
      },
      "execution_count": 55,
      "outputs": [
        {
          "output_type": "stream",
          "name": "stderr",
          "text": [
            "test_resta (__main__.Mis_test) ... ok\n",
            "test_suma (__main__.Mis_test) ... ok\n",
            "test_div (__main__.TestCalcDiv)\n",
            "Test case function for division ... ok\n",
            "test_div_error (__main__.TestCalcDiv)\n",
            "Make sure ZeroDivisionError is raised when necessary ... FAIL\n",
            "test_div (__main__.TestCalculator)\n",
            "Make sure ZeroDivisionError is raised when necessary ... FAIL\n",
            "test_is_double (__main__.TestDiceSimulator) ... ok\n",
            "test_roll_dice (__main__.TestDiceSimulator) ... ok\n",
            "\n",
            "======================================================================\n",
            "FAIL: test_div_error (__main__.TestCalcDiv)\n",
            "Make sure ZeroDivisionError is raised when necessary\n",
            "----------------------------------------------------------------------\n",
            "Traceback (most recent call last):\n",
            "  File \"<ipython-input-51-226059d428ae>\", line 14, in test_div_error\n",
            "    self.assertRaises(ZeroDivisionError, self.calc.div, 10, 0)\n",
            "AssertionError: ZeroDivisionError not raised by div\n",
            "\n",
            "======================================================================\n",
            "FAIL: test_div (__main__.TestCalculator)\n",
            "Make sure ZeroDivisionError is raised when necessary\n",
            "----------------------------------------------------------------------\n",
            "Traceback (most recent call last):\n",
            "  File \"<ipython-input-55-59bc96ca68cc>\", line 6, in test_div\n",
            "    self.assertRaises(ZeroDivisionError, self.calc.div, 10, 0)\n",
            "AssertionError: ZeroDivisionError not raised by div\n",
            "\n",
            "----------------------------------------------------------------------\n",
            "Ran 7 tests in 0.029s\n",
            "\n",
            "FAILED (failures=2)\n"
          ]
        },
        {
          "output_type": "execute_result",
          "data": {
            "text/plain": [
              "<unittest.main.TestProgram at 0x7b8b107a5930>"
            ]
          },
          "metadata": {},
          "execution_count": 55
        }
      ]
    },
    {
      "cell_type": "code",
      "source": [
        "class TestCalcDiv(unittest.TestCase):\n",
        "\n",
        "    def test_div(self):\n",
        "        '''Test case function for division'''\n",
        "        self.calc = Calculator()\n",
        "        self.assertEqual(self.calc.div(10, 5), 2)\n",
        "        self.assertEqual(self.calc.div(12, 2), 6)\n",
        "\n",
        "    def test_div_error(self):\n",
        "        '''Make sure ZeroDivisionError is raised when necessary'''\n",
        "        self.calc = Calculator()\n",
        "        self.assertRaises(ZeroDivisionError, self.calc.div, 10, 0)\n",
        "\n",
        "unittest.main(argv=['first-arg-is-ignored'], defaultTest='TestCalcDiv', verbosity=2, exit=False)"
      ],
      "metadata": {
        "colab": {
          "base_uri": "https://localhost:8080/"
        },
        "id": "wRHR4SXCG9rb",
        "outputId": "90d9b4d1-5a10-4f65-cc2b-ecfa96f251c2"
      },
      "execution_count": 56,
      "outputs": [
        {
          "output_type": "stream",
          "name": "stderr",
          "text": [
            "test_div (__main__.TestCalcDiv)\n",
            "Test case function for division ... ok\n",
            "test_div_error (__main__.TestCalcDiv)\n",
            "Make sure ZeroDivisionError is raised when necessary ... FAIL\n",
            "\n",
            "======================================================================\n",
            "FAIL: test_div_error (__main__.TestCalcDiv)\n",
            "Make sure ZeroDivisionError is raised when necessary\n",
            "----------------------------------------------------------------------\n",
            "Traceback (most recent call last):\n",
            "  File \"<ipython-input-56-14796909a4bd>\", line 12, in test_div_error\n",
            "    self.assertRaises(ZeroDivisionError, self.calc.div, 10, 0)\n",
            "AssertionError: ZeroDivisionError not raised by div\n",
            "\n",
            "----------------------------------------------------------------------\n",
            "Ran 2 tests in 0.012s\n",
            "\n",
            "FAILED (failures=1)\n"
          ]
        },
        {
          "output_type": "execute_result",
          "data": {
            "text/plain": [
              "<unittest.main.TestProgram at 0x7b8b001d9b10>"
            ]
          },
          "metadata": {},
          "execution_count": 56
        }
      ]
    },
    {
      "cell_type": "code",
      "source": [
        "unittest.main(argv=['first-arg-is-ignored'], verbosity=2, exit=False)"
      ],
      "metadata": {
        "colab": {
          "base_uri": "https://localhost:8080/"
        },
        "id": "c1jN3d8XHFdC",
        "outputId": "5f6dc82c-50fb-4cae-f36b-475dffa80fe8"
      },
      "execution_count": 57,
      "outputs": [
        {
          "output_type": "stream",
          "name": "stderr",
          "text": [
            "test_resta (__main__.Mis_test) ... ok\n",
            "test_suma (__main__.Mis_test) ... ok\n",
            "test_div (__main__.TestCalcDiv)\n",
            "Test case function for division ... ok\n",
            "test_div_error (__main__.TestCalcDiv)\n",
            "Make sure ZeroDivisionError is raised when necessary ... FAIL\n",
            "test_div (__main__.TestCalculator)\n",
            "Make sure ZeroDivisionError is raised when necessary ... FAIL\n",
            "test_is_double (__main__.TestDiceSimulator) ... ok\n",
            "test_roll_dice (__main__.TestDiceSimulator) ... ok\n",
            "\n",
            "======================================================================\n",
            "FAIL: test_div_error (__main__.TestCalcDiv)\n",
            "Make sure ZeroDivisionError is raised when necessary\n",
            "----------------------------------------------------------------------\n",
            "Traceback (most recent call last):\n",
            "  File \"<ipython-input-56-14796909a4bd>\", line 12, in test_div_error\n",
            "    self.assertRaises(ZeroDivisionError, self.calc.div, 10, 0)\n",
            "AssertionError: ZeroDivisionError not raised by div\n",
            "\n",
            "======================================================================\n",
            "FAIL: test_div (__main__.TestCalculator)\n",
            "Make sure ZeroDivisionError is raised when necessary\n",
            "----------------------------------------------------------------------\n",
            "Traceback (most recent call last):\n",
            "  File \"<ipython-input-55-59bc96ca68cc>\", line 6, in test_div\n",
            "    self.assertRaises(ZeroDivisionError, self.calc.div, 10, 0)\n",
            "AssertionError: ZeroDivisionError not raised by div\n",
            "\n",
            "----------------------------------------------------------------------\n",
            "Ran 7 tests in 0.026s\n",
            "\n",
            "FAILED (failures=2)\n"
          ]
        },
        {
          "output_type": "execute_result",
          "data": {
            "text/plain": [
              "<unittest.main.TestProgram at 0x7b8b107a7dc0>"
            ]
          },
          "metadata": {},
          "execution_count": 57
        }
      ]
    },
    {
      "cell_type": "code",
      "source": [
        "import random\n",
        "import unittest\n",
        "\n",
        "class DiceSimulator:\n",
        "    def __init__(self):\n",
        "        self.roll_dice()\n",
        "\n",
        "    def roll_dice(self):\n",
        "        self.dice1 = random.randint(1, 6)\n",
        "        self.dice2 = random.randint(1, 6)\n",
        "\n",
        "    def get_dice_values(self):\n",
        "        return self.dice1, self.dice2\n",
        "\n",
        "    def is_double(self):\n",
        "        return self.dice1 == self.dice2\n",
        "\n",
        "class TestDiceSimulator(unittest.TestCase):\n",
        "    def setUp(self):\n",
        "        self.simulator = DiceSimulator()\n",
        "\n",
        "    def test_roll_dice(self):\n",
        "        dice1, dice2 = self.simulator.get_dice_values()\n",
        "        self.assertTrue(1 <= dice1 <= 6)\n",
        "        self.assertTrue(1 <= dice2 <= 6)\n",
        "\n",
        "    def test_is_double(self):\n",
        "        self.simulator.dice1 = 2\n",
        "        self.simulator.dice2 = 2\n",
        "        self.assertTrue(self.simulator.is_double())\n",
        "\n",
        "        self.simulator.dice1 = 3\n",
        "        self.simulator.dice2 = 6\n",
        "        self.assertFalse(self.simulator.is_double())\n",
        "\n",
        "if __name__ == '__main__':\n",
        "    unittest.main(argv=['first-arg-is-ignored'], verbosity=2, exit=False)\n"
      ],
      "metadata": {
        "colab": {
          "base_uri": "https://localhost:8080/"
        },
        "id": "iP5vasP2IHo9",
        "outputId": "05e157b7-0b4d-4a62-d162-35f1215bca6a"
      },
      "execution_count": 58,
      "outputs": [
        {
          "output_type": "stream",
          "name": "stderr",
          "text": [
            "test_resta (__main__.Mis_test) ... ok\n",
            "test_suma (__main__.Mis_test) ... ok\n",
            "test_div (__main__.TestCalcDiv)\n",
            "Test case function for division ... ok\n",
            "test_div_error (__main__.TestCalcDiv)\n",
            "Make sure ZeroDivisionError is raised when necessary ... FAIL\n",
            "test_div (__main__.TestCalculator)\n",
            "Make sure ZeroDivisionError is raised when necessary ... FAIL\n",
            "test_is_double (__main__.TestDiceSimulator) ... ok\n",
            "test_roll_dice (__main__.TestDiceSimulator) ... ok\n",
            "\n",
            "======================================================================\n",
            "FAIL: test_div_error (__main__.TestCalcDiv)\n",
            "Make sure ZeroDivisionError is raised when necessary\n",
            "----------------------------------------------------------------------\n",
            "Traceback (most recent call last):\n",
            "  File \"<ipython-input-56-14796909a4bd>\", line 12, in test_div_error\n",
            "    self.assertRaises(ZeroDivisionError, self.calc.div, 10, 0)\n",
            "AssertionError: ZeroDivisionError not raised by div\n",
            "\n",
            "======================================================================\n",
            "FAIL: test_div (__main__.TestCalculator)\n",
            "Make sure ZeroDivisionError is raised when necessary\n",
            "----------------------------------------------------------------------\n",
            "Traceback (most recent call last):\n",
            "  File \"<ipython-input-55-59bc96ca68cc>\", line 6, in test_div\n",
            "    self.assertRaises(ZeroDivisionError, self.calc.div, 10, 0)\n",
            "AssertionError: ZeroDivisionError not raised by div\n",
            "\n",
            "----------------------------------------------------------------------\n",
            "Ran 7 tests in 0.031s\n",
            "\n",
            "FAILED (failures=2)\n"
          ]
        }
      ]
    },
    {
      "cell_type": "code",
      "source": [
        "import random\n",
        "import unittest\n",
        "\n",
        "class DiceSimulator:\n",
        "    def __init__(self):\n",
        "        self.die1 = None\n",
        "        self.die2 = None\n",
        "\n",
        "    def roll_dice(self):\n",
        "        self.die1 = random.randint(1, 6)\n",
        "        self.die2 = random.randint(1, 6)\n",
        "\n",
        "    def get_total(self):\n",
        "        if self.die1 is not None and self.die2 is not None:\n",
        "            return self.die1 + self.die2\n",
        "        else:\n",
        "            return None\n",
        "\n",
        "class TestDiceSimulator(unittest.TestCase):\n",
        "    def test_roll_dice(self):\n",
        "        simulator = DiceSimulator()\n",
        "        simulator.roll_dice()\n",
        "        self.assertIn(simulator.die1, range(1, 7))\n",
        "        self.assertIn(simulator.die2, range(1, 7))\n",
        "\n",
        "    def test_get_total(self):\n",
        "        simulator = DiceSimulator()\n",
        "        simulator.die1 = 3\n",
        "        simulator.die2 = 4\n",
        "        self.assertEqual(simulator.get_total(), 7)\n",
        "\n",
        "if __name__ == \"__main__\":\n",
        "    unittest.main(argv=['first-arg-is-ignored'], exit=False)\n"
      ],
      "metadata": {
        "colab": {
          "base_uri": "https://localhost:8080/"
        },
        "id": "FfAgl0g9JHof",
        "outputId": "cb6dd0e9-2752-4859-8d64-cfea1d875488"
      },
      "execution_count": 59,
      "outputs": [
        {
          "output_type": "stream",
          "name": "stderr",
          "text": [
            "...FF..\n",
            "======================================================================\n",
            "FAIL: test_div_error (__main__.TestCalcDiv)\n",
            "Make sure ZeroDivisionError is raised when necessary\n",
            "----------------------------------------------------------------------\n",
            "Traceback (most recent call last):\n",
            "  File \"<ipython-input-56-14796909a4bd>\", line 12, in test_div_error\n",
            "    self.assertRaises(ZeroDivisionError, self.calc.div, 10, 0)\n",
            "AssertionError: ZeroDivisionError not raised by div\n",
            "\n",
            "======================================================================\n",
            "FAIL: test_div (__main__.TestCalculator)\n",
            "Make sure ZeroDivisionError is raised when necessary\n",
            "----------------------------------------------------------------------\n",
            "Traceback (most recent call last):\n",
            "  File \"<ipython-input-55-59bc96ca68cc>\", line 6, in test_div\n",
            "    self.assertRaises(ZeroDivisionError, self.calc.div, 10, 0)\n",
            "AssertionError: ZeroDivisionError not raised by div\n",
            "\n",
            "----------------------------------------------------------------------\n",
            "Ran 7 tests in 0.013s\n",
            "\n",
            "FAILED (failures=2)\n"
          ]
        }
      ]
    },
    {
      "cell_type": "code",
      "source": [
        "class TestCalculator(unittest.TestCase):\n",
        "\n",
        "    def test_div(self):\n",
        "        '''Make sure ZeroDivisionError is raised when necessary'''\n",
        "        self.calc = Calculator()\n",
        "        self.assertRaises(ZeroDivisionError, self.calc.div, 10, 0)\n",
        "\n",
        "if __name__ == '__main__':\n",
        "    unittest.main(argv=['first-arg-is-ignored'], verbosity=2, exit=False)"
      ],
      "metadata": {
        "colab": {
          "base_uri": "https://localhost:8080/"
        },
        "id": "CxaTZPlDKQ5B",
        "outputId": "bdba24df-bb56-46bc-8b2d-50eb6ccb81be"
      },
      "execution_count": 60,
      "outputs": [
        {
          "output_type": "stream",
          "name": "stderr",
          "text": [
            "test_resta (__main__.Mis_test) ... ok\n",
            "test_suma (__main__.Mis_test) ... ok\n",
            "test_div (__main__.TestCalcDiv)\n",
            "Test case function for division ... ok\n",
            "test_div_error (__main__.TestCalcDiv)\n",
            "Make sure ZeroDivisionError is raised when necessary ... FAIL\n",
            "test_div (__main__.TestCalculator)\n",
            "Make sure ZeroDivisionError is raised when necessary ... FAIL\n",
            "test_get_total (__main__.TestDiceSimulator) ... ok\n",
            "test_roll_dice (__main__.TestDiceSimulator) ... ok\n",
            "\n",
            "======================================================================\n",
            "FAIL: test_div_error (__main__.TestCalcDiv)\n",
            "Make sure ZeroDivisionError is raised when necessary\n",
            "----------------------------------------------------------------------\n",
            "Traceback (most recent call last):\n",
            "  File \"<ipython-input-56-14796909a4bd>\", line 12, in test_div_error\n",
            "    self.assertRaises(ZeroDivisionError, self.calc.div, 10, 0)\n",
            "AssertionError: ZeroDivisionError not raised by div\n",
            "\n",
            "======================================================================\n",
            "FAIL: test_div (__main__.TestCalculator)\n",
            "Make sure ZeroDivisionError is raised when necessary\n",
            "----------------------------------------------------------------------\n",
            "Traceback (most recent call last):\n",
            "  File \"<ipython-input-60-7de737fd747f>\", line 6, in test_div\n",
            "    self.assertRaises(ZeroDivisionError, self.calc.div, 10, 0)\n",
            "AssertionError: ZeroDivisionError not raised by div\n",
            "\n",
            "----------------------------------------------------------------------\n",
            "Ran 7 tests in 0.027s\n",
            "\n",
            "FAILED (failures=2)\n"
          ]
        }
      ]
    },
    {
      "cell_type": "code",
      "source": [
        "class TestCalcDiv(unittest.TestCase):\n",
        "\n",
        "    def setUp(self):\n",
        "        '''Set up an instance of Calculator pior to every test execution'''\n",
        "        self.calc = Calculator()\n",
        "\n",
        "    def test_div(self):\n",
        "        '''Test case function for division'''\n",
        "        self.assertEqual(self.calc.div(10, 5), 2)\n",
        "        self.assertEqual(self.calc.div(12, 2), 6)\n",
        "\n",
        "    def test_div_error(self):\n",
        "        '''Make sure ZeroDivisionError is raised when necessary'''\n",
        "        self.assertRaises(ZeroDivisionError, self.calc.div, 10, 0)\n",
        "\n",
        "if __name__ == '__main__':\n",
        "    unittest.main(argv=['first-arg-is-ignored'], verbosity=2, exit=False)"
      ],
      "metadata": {
        "colab": {
          "base_uri": "https://localhost:8080/"
        },
        "id": "xQ4j5Ba7Kge6",
        "outputId": "904585ae-f223-4445-9846-b174e3ab7523"
      },
      "execution_count": 61,
      "outputs": [
        {
          "output_type": "stream",
          "name": "stderr",
          "text": [
            "test_resta (__main__.Mis_test) ... ok\n",
            "test_suma (__main__.Mis_test) ... ok\n",
            "test_div (__main__.TestCalcDiv)\n",
            "Test case function for division ... ok\n",
            "test_div_error (__main__.TestCalcDiv)\n",
            "Make sure ZeroDivisionError is raised when necessary ... FAIL\n",
            "test_div (__main__.TestCalculator)\n",
            "Make sure ZeroDivisionError is raised when necessary ... FAIL\n",
            "test_get_total (__main__.TestDiceSimulator) ... ok\n",
            "test_roll_dice (__main__.TestDiceSimulator) ... ok\n",
            "\n",
            "======================================================================\n",
            "FAIL: test_div_error (__main__.TestCalcDiv)\n",
            "Make sure ZeroDivisionError is raised when necessary\n",
            "----------------------------------------------------------------------\n",
            "Traceback (most recent call last):\n",
            "  File \"<ipython-input-61-226059d428ae>\", line 14, in test_div_error\n",
            "    self.assertRaises(ZeroDivisionError, self.calc.div, 10, 0)\n",
            "AssertionError: ZeroDivisionError not raised by div\n",
            "\n",
            "======================================================================\n",
            "FAIL: test_div (__main__.TestCalculator)\n",
            "Make sure ZeroDivisionError is raised when necessary\n",
            "----------------------------------------------------------------------\n",
            "Traceback (most recent call last):\n",
            "  File \"<ipython-input-60-7de737fd747f>\", line 6, in test_div\n",
            "    self.assertRaises(ZeroDivisionError, self.calc.div, 10, 0)\n",
            "AssertionError: ZeroDivisionError not raised by div\n",
            "\n",
            "----------------------------------------------------------------------\n",
            "Ran 7 tests in 0.025s\n",
            "\n",
            "FAILED (failures=2)\n"
          ]
        }
      ]
    },
    {
      "cell_type": "code",
      "source": [
        "import random\n",
        "import unittest\n",
        "\n",
        "class DiceSimulator:\n",
        "    def __init__(self):\n",
        "        self.die1 = None\n",
        "        self.die2 = None\n",
        "\n",
        "    def roll_dice(self):\n",
        "        self.die1 = random.randint(1, 6)\n",
        "        self.die2 = random.randint(1, 6)\n",
        "\n",
        "    def get_total(self):\n",
        "        if self.die1 is not None and self.die2 is not None:\n",
        "            return self.die1 + self.die2\n",
        "        else:\n",
        "            return None\n",
        "\n",
        "class TestDiceSimulator(unittest.TestCase):\n",
        "    def test_roll_dice(self):\n",
        "        simulator = DiceSimulator()\n",
        "        simulator.roll_dice()\n",
        "        self.assertIn(simulator.die1, range(1, 7))\n",
        "        self.assertIn(simulator.die2, range(1, 7))\n",
        "\n",
        "    def test_get_total(self):\n",
        "        simulator = DiceSimulator()\n",
        "        simulator.die1 = 3\n",
        "        simulator.die2 = 4\n",
        "        self.assertEqual(simulator.get_total(), 7)\n",
        "\n",
        "    def test_is_total_even(self):\n",
        "        simulator = DiceSimulator()\n",
        "        simulator.die1 = 2\n",
        "        simulator.die2 = 4\n",
        "        self.assertTrue(simulator.get_total() % 2 == 0)\n",
        "if __name__ == '__main__':\n",
        "    unittest.main(argv=['first-arg-is-ignored'], verbosity=2, exit=False)"
      ],
      "metadata": {
        "colab": {
          "base_uri": "https://localhost:8080/"
        },
        "id": "fhfcBPZJLoMc",
        "outputId": "f6d34bef-8895-41aa-b9f2-a11164f9d36a"
      },
      "execution_count": 62,
      "outputs": [
        {
          "output_type": "stream",
          "name": "stderr",
          "text": [
            "test_resta (__main__.Mis_test) ... ok\n",
            "test_suma (__main__.Mis_test) ... ok\n",
            "test_div (__main__.TestCalcDiv)\n",
            "Test case function for division ... ok\n",
            "test_div_error (__main__.TestCalcDiv)\n",
            "Make sure ZeroDivisionError is raised when necessary ... FAIL\n",
            "test_div (__main__.TestCalculator)\n",
            "Make sure ZeroDivisionError is raised when necessary ... FAIL\n",
            "test_get_total (__main__.TestDiceSimulator) ... ok\n",
            "test_is_total_even (__main__.TestDiceSimulator) ... ok\n",
            "test_roll_dice (__main__.TestDiceSimulator) ... ok\n",
            "\n",
            "======================================================================\n",
            "FAIL: test_div_error (__main__.TestCalcDiv)\n",
            "Make sure ZeroDivisionError is raised when necessary\n",
            "----------------------------------------------------------------------\n",
            "Traceback (most recent call last):\n",
            "  File \"<ipython-input-61-226059d428ae>\", line 14, in test_div_error\n",
            "    self.assertRaises(ZeroDivisionError, self.calc.div, 10, 0)\n",
            "AssertionError: ZeroDivisionError not raised by div\n",
            "\n",
            "======================================================================\n",
            "FAIL: test_div (__main__.TestCalculator)\n",
            "Make sure ZeroDivisionError is raised when necessary\n",
            "----------------------------------------------------------------------\n",
            "Traceback (most recent call last):\n",
            "  File \"<ipython-input-60-7de737fd747f>\", line 6, in test_div\n",
            "    self.assertRaises(ZeroDivisionError, self.calc.div, 10, 0)\n",
            "AssertionError: ZeroDivisionError not raised by div\n",
            "\n",
            "----------------------------------------------------------------------\n",
            "Ran 8 tests in 0.030s\n",
            "\n",
            "FAILED (failures=2)\n"
          ]
        }
      ]
    },
    {
      "cell_type": "code",
      "source": [
        "!apt update\n",
        "!apt install chromium-chromedriver\n",
        "!pip install selenium"
      ],
      "metadata": {
        "colab": {
          "base_uri": "https://localhost:8080/"
        },
        "id": "yHJBm29VMvLW",
        "outputId": "f3f1e09b-220c-4350-d1d0-35f2399f71e5"
      },
      "execution_count": 63,
      "outputs": [
        {
          "output_type": "stream",
          "name": "stdout",
          "text": [
            "\u001b[33m\r0% [Working]\u001b[0m\r            \rHit:1 http://archive.ubuntu.com/ubuntu jammy InRelease\n",
            "\u001b[33m\r0% [Waiting for headers] [Connecting to security.ubuntu.com] [Connected to clou\u001b[0m\r                                                                               \rGet:2 http://archive.ubuntu.com/ubuntu jammy-updates InRelease [119 kB]\n",
            "\u001b[33m\r0% [2 InRelease 12.7 kB/119 kB 11%] [Connecting to security.ubuntu.com (185.125\u001b[0m\r                                                                               \rHit:3 https://developer.download.nvidia.com/compute/cuda/repos/ubuntu2204/x86_64  InRelease\n",
            "\u001b[33m\r0% [2 InRelease 33.0 kB/119 kB 28%] [Connecting to security.ubuntu.com (185.125\u001b[0m\r                                                                               \rGet:4 https://cloud.r-project.org/bin/linux/ubuntu jammy-cran40/ InRelease [3,626 B]\n",
            "\u001b[33m\r0% [2 InRelease 47.5 kB/119 kB 40%] [Connecting to security.ubuntu.com (185.125\u001b[0m\u001b[33m\r0% [2 InRelease 47.5 kB/119 kB 40%] [Connecting to security.ubuntu.com (185.125\u001b[0m\u001b[33m\r0% [Waiting for headers] [Waiting for headers] [Connecting to ppa.launchpadcont\u001b[0m\r                                                                               \rGet:5 http://archive.ubuntu.com/ubuntu jammy-backports InRelease [109 kB]\n",
            "Get:6 http://security.ubuntu.com/ubuntu jammy-security InRelease [110 kB]\n",
            "Get:7 http://archive.ubuntu.com/ubuntu jammy-updates/restricted amd64 Packages [1,152 kB]\n",
            "Get:8 http://archive.ubuntu.com/ubuntu jammy-updates/universe amd64 Packages [1,259 kB]\n",
            "Get:9 http://archive.ubuntu.com/ubuntu jammy-updates/main amd64 Packages [1,279 kB]\n",
            "Get:10 http://security.ubuntu.com/ubuntu jammy-security/main amd64 Packages [969 kB]\n",
            "Get:11 https://ppa.launchpadcontent.net/c2d4u.team/c2d4u4.0+/ubuntu jammy InRelease [18.1 kB]\n",
            "Get:12 http://security.ubuntu.com/ubuntu jammy-security/restricted amd64 Packages [1,070 kB]\n",
            "Hit:13 https://ppa.launchpadcontent.net/deadsnakes/ppa/ubuntu jammy InRelease\n",
            "Hit:14 https://ppa.launchpadcontent.net/graphics-drivers/ppa/ubuntu jammy InRelease\n",
            "Hit:15 https://ppa.launchpadcontent.net/ubuntugis/ppa/ubuntu jammy InRelease\n",
            "Get:16 https://ppa.launchpadcontent.net/c2d4u.team/c2d4u4.0+/ubuntu jammy/main Sources [2,197 kB]\n",
            "Get:17 https://ppa.launchpadcontent.net/c2d4u.team/c2d4u4.0+/ubuntu jammy/main amd64 Packages [1,127 kB]\n",
            "Fetched 9,414 kB in 5s (1,871 kB/s)\n",
            "Reading package lists... Done\n",
            "Building dependency tree... Done\n",
            "Reading state information... Done\n",
            "24 packages can be upgraded. Run 'apt list --upgradable' to see them.\n",
            "Reading package lists... Done\n",
            "Building dependency tree... Done\n",
            "Reading state information... Done\n",
            "The following additional packages will be installed:\n",
            "  apparmor chromium-browser libfuse3-3 liblzo2-2 libudev1 snapd squashfs-tools\n",
            "  systemd-hwe-hwdb udev\n",
            "Suggested packages:\n",
            "  apparmor-profiles-extra apparmor-utils fuse3 zenity | kdialog\n",
            "The following NEW packages will be installed:\n",
            "  apparmor chromium-browser chromium-chromedriver libfuse3-3 liblzo2-2 snapd\n",
            "  squashfs-tools systemd-hwe-hwdb udev\n",
            "The following packages will be upgraded:\n",
            "  libudev1\n",
            "1 upgraded, 9 newly installed, 0 to remove and 23 not upgraded.\n",
            "Need to get 26.4 MB of archives.\n",
            "After this operation, 116 MB of additional disk space will be used.\n",
            "Get:1 http://archive.ubuntu.com/ubuntu jammy-updates/main amd64 apparmor amd64 3.0.4-2ubuntu2.2 [595 kB]\n",
            "Get:2 http://archive.ubuntu.com/ubuntu jammy/main amd64 liblzo2-2 amd64 2.10-2build3 [53.7 kB]\n",
            "Get:3 http://archive.ubuntu.com/ubuntu jammy/main amd64 squashfs-tools amd64 1:4.5-3build1 [159 kB]\n",
            "Get:4 http://archive.ubuntu.com/ubuntu jammy-updates/main amd64 libudev1 amd64 249.11-0ubuntu3.10 [78.0 kB]\n",
            "Get:5 http://archive.ubuntu.com/ubuntu jammy-updates/main amd64 udev amd64 249.11-0ubuntu3.10 [1,557 kB]\n",
            "Get:6 http://archive.ubuntu.com/ubuntu jammy/main amd64 libfuse3-3 amd64 3.10.5-1build1 [81.2 kB]\n",
            "Get:7 http://archive.ubuntu.com/ubuntu jammy-updates/main amd64 snapd amd64 2.58+22.04.1 [23.8 MB]\n",
            "Get:8 http://archive.ubuntu.com/ubuntu jammy-updates/universe amd64 chromium-browser amd64 1:85.0.4183.83-0ubuntu2.22.04.1 [49.2 kB]\n",
            "Get:9 http://archive.ubuntu.com/ubuntu jammy-updates/universe amd64 chromium-chromedriver amd64 1:85.0.4183.83-0ubuntu2.22.04.1 [2,308 B]\n",
            "Get:10 http://archive.ubuntu.com/ubuntu jammy-updates/main amd64 systemd-hwe-hwdb all 249.11.3 [2,908 B]\n",
            "Fetched 26.4 MB in 2s (14.5 MB/s)\n",
            "Preconfiguring packages ...\n",
            "Selecting previously unselected package apparmor.\n",
            "(Reading database ... 120901 files and directories currently installed.)\n",
            "Preparing to unpack .../apparmor_3.0.4-2ubuntu2.2_amd64.deb ...\n",
            "Unpacking apparmor (3.0.4-2ubuntu2.2) ...\n",
            "Selecting previously unselected package liblzo2-2:amd64.\n",
            "Preparing to unpack .../liblzo2-2_2.10-2build3_amd64.deb ...\n",
            "Unpacking liblzo2-2:amd64 (2.10-2build3) ...\n",
            "Selecting previously unselected package squashfs-tools.\n",
            "Preparing to unpack .../squashfs-tools_1%3a4.5-3build1_amd64.deb ...\n",
            "Unpacking squashfs-tools (1:4.5-3build1) ...\n",
            "Preparing to unpack .../libudev1_249.11-0ubuntu3.10_amd64.deb ...\n",
            "Unpacking libudev1:amd64 (249.11-0ubuntu3.10) over (249.11-0ubuntu3.9) ...\n",
            "Setting up libudev1:amd64 (249.11-0ubuntu3.10) ...\n",
            "Selecting previously unselected package udev.\n",
            "(Reading database ... 121108 files and directories currently installed.)\n",
            "Preparing to unpack .../udev_249.11-0ubuntu3.10_amd64.deb ...\n",
            "Unpacking udev (249.11-0ubuntu3.10) ...\n",
            "Selecting previously unselected package libfuse3-3:amd64.\n",
            "Preparing to unpack .../libfuse3-3_3.10.5-1build1_amd64.deb ...\n",
            "Unpacking libfuse3-3:amd64 (3.10.5-1build1) ...\n",
            "Selecting previously unselected package snapd.\n",
            "Preparing to unpack .../snapd_2.58+22.04.1_amd64.deb ...\n",
            "Unpacking snapd (2.58+22.04.1) ...\n",
            "Setting up apparmor (3.0.4-2ubuntu2.2) ...\n",
            "Created symlink /etc/systemd/system/sysinit.target.wants/apparmor.service → /lib/systemd/system/apparmor.service.\n",
            "Setting up liblzo2-2:amd64 (2.10-2build3) ...\n",
            "Setting up squashfs-tools (1:4.5-3build1) ...\n",
            "Setting up udev (249.11-0ubuntu3.10) ...\n",
            "invoke-rc.d: could not determine current runlevel\n",
            "invoke-rc.d: policy-rc.d denied execution of start.\n",
            "Setting up libfuse3-3:amd64 (3.10.5-1build1) ...\n",
            "Setting up snapd (2.58+22.04.1) ...\n",
            "Created symlink /etc/systemd/system/multi-user.target.wants/snapd.aa-prompt-listener.service → /lib/systemd/system/snapd.aa-prompt-listener.service.\n",
            "Created symlink /etc/systemd/system/multi-user.target.wants/snapd.apparmor.service → /lib/systemd/system/snapd.apparmor.service.\n",
            "Created symlink /etc/systemd/system/multi-user.target.wants/snapd.autoimport.service → /lib/systemd/system/snapd.autoimport.service.\n",
            "Created symlink /etc/systemd/system/multi-user.target.wants/snapd.core-fixup.service → /lib/systemd/system/snapd.core-fixup.service.\n",
            "Created symlink /etc/systemd/system/multi-user.target.wants/snapd.recovery-chooser-trigger.service → /lib/systemd/system/snapd.recovery-chooser-trigger.service.\n",
            "Created symlink /etc/systemd/system/multi-user.target.wants/snapd.seeded.service → /lib/systemd/system/snapd.seeded.service.\n",
            "Created symlink /etc/systemd/system/cloud-final.service.wants/snapd.seeded.service → /lib/systemd/system/snapd.seeded.service.\n",
            "Unit /lib/systemd/system/snapd.seeded.service is added as a dependency to a non-existent unit cloud-final.service.\n",
            "Created symlink /etc/systemd/system/multi-user.target.wants/snapd.service → /lib/systemd/system/snapd.service.\n",
            "Created symlink /etc/systemd/system/timers.target.wants/snapd.snap-repair.timer → /lib/systemd/system/snapd.snap-repair.timer.\n",
            "Created symlink /etc/systemd/system/sockets.target.wants/snapd.socket → /lib/systemd/system/snapd.socket.\n",
            "Created symlink /etc/systemd/system/final.target.wants/snapd.system-shutdown.service → /lib/systemd/system/snapd.system-shutdown.service.\n",
            "Selecting previously unselected package chromium-browser.\n",
            "(Reading database ... 121341 files and directories currently installed.)\n",
            "Preparing to unpack .../chromium-browser_1%3a85.0.4183.83-0ubuntu2.22.04.1_amd64.deb ...\n",
            "=> Installing the chromium snap\n",
            "==> Checking connectivity with the snap store\n",
            "===> System doesn't have a working snapd, skipping\n",
            "Unpacking chromium-browser (1:85.0.4183.83-0ubuntu2.22.04.1) ...\n",
            "Selecting previously unselected package chromium-chromedriver.\n",
            "Preparing to unpack .../chromium-chromedriver_1%3a85.0.4183.83-0ubuntu2.22.04.1_amd64.deb ...\n",
            "Unpacking chromium-chromedriver (1:85.0.4183.83-0ubuntu2.22.04.1) ...\n",
            "Selecting previously unselected package systemd-hwe-hwdb.\n",
            "Preparing to unpack .../systemd-hwe-hwdb_249.11.3_all.deb ...\n",
            "Unpacking systemd-hwe-hwdb (249.11.3) ...\n",
            "Setting up systemd-hwe-hwdb (249.11.3) ...\n",
            "Setting up chromium-browser (1:85.0.4183.83-0ubuntu2.22.04.1) ...\n",
            "update-alternatives: using /usr/bin/chromium-browser to provide /usr/bin/x-www-browser (x-www-browser) in auto mode\n",
            "update-alternatives: using /usr/bin/chromium-browser to provide /usr/bin/gnome-www-browser (gnome-www-browser) in auto mode\n",
            "Setting up chromium-chromedriver (1:85.0.4183.83-0ubuntu2.22.04.1) ...\n",
            "Processing triggers for udev (249.11-0ubuntu3.10) ...\n",
            "Processing triggers for hicolor-icon-theme (0.17-2) ...\n",
            "Processing triggers for libc-bin (2.35-0ubuntu3.1) ...\n",
            "/sbin/ldconfig.real: /usr/local/lib/libtbbbind_2_5.so.3 is not a symbolic link\n",
            "\n",
            "/sbin/ldconfig.real: /usr/local/lib/libtbb.so.12 is not a symbolic link\n",
            "\n",
            "/sbin/ldconfig.real: /usr/local/lib/libtbbbind.so.3 is not a symbolic link\n",
            "\n",
            "/sbin/ldconfig.real: /usr/local/lib/libtbbmalloc.so.2 is not a symbolic link\n",
            "\n",
            "/sbin/ldconfig.real: /usr/local/lib/libtbbbind_2_0.so.3 is not a symbolic link\n",
            "\n",
            "/sbin/ldconfig.real: /usr/local/lib/libtbbmalloc_proxy.so.2 is not a symbolic link\n",
            "\n",
            "Processing triggers for man-db (2.10.2-1) ...\n",
            "Processing triggers for dbus (1.12.20-2ubuntu4.1) ...\n",
            "Collecting selenium\n",
            "  Downloading selenium-4.12.0-py3-none-any.whl (9.4 MB)\n",
            "\u001b[2K     \u001b[90m━━━━━━━━━━━━━━━━━━━━━━━━━━━━━━━━━━━━━━━━\u001b[0m \u001b[32m9.4/9.4 MB\u001b[0m \u001b[31m15.7 MB/s\u001b[0m eta \u001b[36m0:00:00\u001b[0m\n",
            "\u001b[?25hRequirement already satisfied: urllib3[socks]<3,>=1.26 in /usr/local/lib/python3.10/dist-packages (from selenium) (2.0.4)\n",
            "Collecting trio~=0.17 (from selenium)\n",
            "  Downloading trio-0.22.2-py3-none-any.whl (400 kB)\n",
            "\u001b[2K     \u001b[90m━━━━━━━━━━━━━━━━━━━━━━━━━━━━━━━━━━━━━━\u001b[0m \u001b[32m400.2/400.2 kB\u001b[0m \u001b[31m15.9 MB/s\u001b[0m eta \u001b[36m0:00:00\u001b[0m\n",
            "\u001b[?25hCollecting trio-websocket~=0.9 (from selenium)\n",
            "  Downloading trio_websocket-0.10.4-py3-none-any.whl (17 kB)\n",
            "Requirement already satisfied: certifi>=2021.10.8 in /usr/local/lib/python3.10/dist-packages (from selenium) (2023.7.22)\n",
            "Requirement already satisfied: attrs>=20.1.0 in /usr/local/lib/python3.10/dist-packages (from trio~=0.17->selenium) (23.1.0)\n",
            "Requirement already satisfied: sortedcontainers in /usr/local/lib/python3.10/dist-packages (from trio~=0.17->selenium) (2.4.0)\n",
            "Requirement already satisfied: idna in /usr/local/lib/python3.10/dist-packages (from trio~=0.17->selenium) (3.4)\n",
            "Collecting outcome (from trio~=0.17->selenium)\n",
            "  Downloading outcome-1.2.0-py2.py3-none-any.whl (9.7 kB)\n",
            "Requirement already satisfied: sniffio in /usr/local/lib/python3.10/dist-packages (from trio~=0.17->selenium) (1.3.0)\n",
            "Requirement already satisfied: exceptiongroup>=1.0.0rc9 in /usr/local/lib/python3.10/dist-packages (from trio~=0.17->selenium) (1.1.3)\n",
            "Collecting wsproto>=0.14 (from trio-websocket~=0.9->selenium)\n",
            "  Downloading wsproto-1.2.0-py3-none-any.whl (24 kB)\n",
            "Requirement already satisfied: pysocks!=1.5.7,<2.0,>=1.5.6 in /usr/local/lib/python3.10/dist-packages (from urllib3[socks]<3,>=1.26->selenium) (1.7.1)\n",
            "Collecting h11<1,>=0.9.0 (from wsproto>=0.14->trio-websocket~=0.9->selenium)\n",
            "  Downloading h11-0.14.0-py3-none-any.whl (58 kB)\n",
            "\u001b[2K     \u001b[90m━━━━━━━━━━━━━━━━━━━━━━━━━━━━━━━━━━━━━━━━\u001b[0m \u001b[32m58.3/58.3 kB\u001b[0m \u001b[31m4.7 MB/s\u001b[0m eta \u001b[36m0:00:00\u001b[0m\n",
            "\u001b[?25hInstalling collected packages: outcome, h11, wsproto, trio, trio-websocket, selenium\n",
            "Successfully installed h11-0.14.0 outcome-1.2.0 selenium-4.12.0 trio-0.22.2 trio-websocket-0.10.4 wsproto-1.2.0\n"
          ]
        }
      ]
    },
    {
      "cell_type": "code",
      "source": [
        "from selenium import webdriver"
      ],
      "metadata": {
        "id": "-a_keN35NxOw"
      },
      "execution_count": null,
      "outputs": []
    },
    {
      "cell_type": "code",
      "source": [
        "options = webdriver.ChromeOptions()\n"
      ],
      "metadata": {
        "id": "bobnSX_FO8nD"
      },
      "execution_count": null,
      "outputs": []
    },
    {
      "cell_type": "code",
      "source": [
        "options.add_argument(\"--headless\")\n",
        "options.add_argument(\"--no-sandbox\")\n",
        "#options.add_argument(\"--disable-dev-sim-usage\")"
      ],
      "metadata": {
        "id": "eOnqHpUzPMr7"
      },
      "execution_count": null,
      "outputs": []
    },
    {
      "cell_type": "code",
      "source": [
        "driver = webdriver"
      ],
      "metadata": {
        "id": "jbQlrpPSPbQ0"
      },
      "execution_count": null,
      "outputs": []
    },
    {
      "cell_type": "code",
      "source": [
        "from selenium import webdriver\n",
        "from selenium.webdriver.chrome.options import Options\n",
        "from selenium.webdriver.common.by import By\n",
        "import time\n",
        "\n",
        "# entra a la pagina de trabajo google\n",
        "options = Options()\n",
        "#options.page_load_strategy = 'normal'\n",
        "options.add_argument(\"--headless\")\n",
        "options.add_argument(\"--no-sandbox\")\n",
        "options.add_argument(\"--disable-dev-sim-usage\")\n",
        "driver = webdriver.Chrome(options=options)\n",
        "driver.get(\"https://www.google.com/about/careers/applications/jobs/results/\")\n",
        "time.sleep(5)\n",
        "# //*[@id=\"ach-c54\"]/i\n",
        "\n",
        "# Poner \"python\" en el elemento con xpath //*[@id=\"c4\"]\n",
        "#search_box = driver.find_element(By.XPATH, \"//input[@placeholder='Software engineering, Design, Sales, etc.']\")\n",
        "#search_box.send_keys(\"python\")\n",
        "#time.sleep(3)\n",
        "\n",
        "# Clicar en el elemento locations con xpath //*[@id=\"ach-c53\"]/i (el botón de búsqueda)\n",
        "search_button = driver.find_element(By.XPATH, \"//button[@aria-label='Locations filter options']//i[@aria-hidden='true']\")\n",
        "search_button.click()\n",
        "time.sleep(3)\n",
        "\n",
        "\n",
        "# Clicar en el elemento remoto\n",
        "job_listing = driver.find_element(By.XPATH, \"/html[1]/body[1]/c-wiz[1]/div[1]/div[2]/div[1]/div[1]/div[1]/div[1]/div[1]/div[3]/div[1]/div[2]/div[1]/div[2]/div[1]/label[1]\")\n",
        "job_listing.click()\n",
        "time.sleep(3)\n",
        "\n",
        "# Clicar en el elemento  sortby (ordenar por)\n",
        "apply_button = driver.find_element(By.XPATH, \"(//i[@class='google-material-icons VfPpkd-kBDsod'][normalize-space()='expand_more'])[6]\")\n",
        "apply_button.click()\n",
        "time.sleep(3)\n",
        "\n",
        "# Clicar en el fecha dentro de sortby\n",
        "submit_button = driver.find_element(By.XPATH, '/html[1]/body[1]/c-wiz[1]/div[1]/div[2]/div[1]/div[1]/div[1]/div[1]/div[1]/div[3]/div[7]/div[2]/div[1]/div[2]/div[1]/div[1]/input[1]')\n",
        "submit_button.click()\n",
        "time.sleep(3)\n",
        "\n",
        "# Imprimir el texto que se encuentra en el xpath //*[@id=\"yDmH0d\"]/c-wiz/div/div[2]/div/div/div[2]/main\n",
        "job_description = driver.find_element(By.XPATH, '//*[@id=\"yDmH0d\"]/c-wiz/div/div[2]/div/div/div[2]/main')\n",
        "print(job_description.text)\n",
        "options.add_experimental_option(\"detach\", True)\n",
        "# Cerrar el navegador\n",
        "driver.quit()"
      ],
      "metadata": {
        "id": "YMbOVUenQH8z"
      },
      "execution_count": null,
      "outputs": []
    },
    {
      "cell_type": "code",
      "source": [
        "driver.get(\"https://ahoracalafate.com.ar\")"
      ],
      "metadata": {
        "id": "0It7N4NoQIed"
      },
      "execution_count": null,
      "outputs": []
    },
    {
      "cell_type": "code",
      "source": [
        "print(driver.page_source)"
      ],
      "metadata": {
        "id": "TOWyId-nS8ny"
      },
      "execution_count": null,
      "outputs": []
    },
    {
      "cell_type": "code",
      "source": [
        "job_description = driver.find_element(By.XPATH, \"(//p[@class='post__detalle'])[4]\")"
      ],
      "metadata": {
        "id": "2dTxCzlGTBMi"
      },
      "execution_count": null,
      "outputs": []
    },
    {
      "cell_type": "code",
      "source": [
        "print(job_description.text)"
      ],
      "metadata": {
        "colab": {
          "base_uri": "https://localhost:8080/"
        },
        "id": "-ZcLRXaMTTtM",
        "outputId": "c8533329-6b33-4707-fd7b-660f35dcdec1"
      },
      "execution_count": null,
      "outputs": [
        {
          "output_type": "stream",
          "name": "stdout",
          "text": [
            "Un equipo sub 15 femenino en Río Gallegos y un equipo sub 17 masculino en Puerto Santa Cruz, participaron de esta instancia provincial de estos juegos nacionales.\n"
          ]
        }
      ]
    },
    {
      "cell_type": "code",
      "source": [
        "# Clicar en el fecha dentro de sortby\n",
        "submit_button = driver.find_element(By.XPATH, \"(//i[@class='fa fa-bars'])[1]\")\n"
      ],
      "metadata": {
        "id": "nVeUqkPvWl5C"
      },
      "execution_count": null,
      "outputs": []
    },
    {
      "cell_type": "code",
      "source": [
        "submit_button.click()\n",
        "time.sleep(5)"
      ],
      "metadata": {
        "id": "qV7CX9ZyXrxu"
      },
      "execution_count": null,
      "outputs": []
    },
    {
      "cell_type": "code",
      "source": [
        "driver.get(\"https://ahoracalafate.com.ar/buscar\")"
      ],
      "metadata": {
        "id": "VC3L-aDjXwhU"
      },
      "execution_count": null,
      "outputs": []
    },
    {
      "cell_type": "code",
      "source": [
        "# elemento buscar\n",
        "search_box = driver.find_element(By.XPATH, \"(//input[@placeholder='Texto a buscar'])[1]\")"
      ],
      "metadata": {
        "id": "yeytZeiXZV9f"
      },
      "execution_count": null,
      "outputs": []
    },
    {
      "cell_type": "code",
      "source": [
        "search_box.send_keys(\"belloni\")"
      ],
      "metadata": {
        "id": "KYATrjH0Zibh"
      },
      "execution_count": null,
      "outputs": []
    },
    {
      "cell_type": "code",
      "source": [
        "submit_button = driver.find_element(By.XPATH, \"(//button)[2]\")"
      ],
      "metadata": {
        "id": "5s2po8joZyFy"
      },
      "execution_count": null,
      "outputs": []
    },
    {
      "cell_type": "code",
      "source": [
        "submit_button.click()"
      ],
      "metadata": {
        "colab": {
          "base_uri": "https://localhost:8080/",
          "height": 737
        },
        "id": "0gf5MOOaaQjY",
        "outputId": "4b82ae5c-a4dc-4d2a-cc6a-0766cdb205e1"
      },
      "execution_count": null,
      "outputs": [
        {
          "output_type": "error",
          "ename": "ElementClickInterceptedException",
          "evalue": "ignored",
          "traceback": [
            "\u001b[0;31m---------------------------------------------------------------------------\u001b[0m",
            "\u001b[0;31mElementClickInterceptedException\u001b[0m          Traceback (most recent call last)",
            "\u001b[0;32m<ipython-input-56-5caa9ec08c7d>\u001b[0m in \u001b[0;36m<cell line: 1>\u001b[0;34m()\u001b[0m\n\u001b[0;32m----> 1\u001b[0;31m \u001b[0msubmit_button\u001b[0m\u001b[0;34m.\u001b[0m\u001b[0mclick\u001b[0m\u001b[0;34m(\u001b[0m\u001b[0;34m)\u001b[0m\u001b[0;34m\u001b[0m\u001b[0;34m\u001b[0m\u001b[0m\n\u001b[0m",
            "\u001b[0;32m/usr/local/lib/python3.10/dist-packages/selenium/webdriver/remote/webelement.py\u001b[0m in \u001b[0;36mclick\u001b[0;34m(self)\u001b[0m\n\u001b[1;32m     91\u001b[0m     \u001b[0;32mdef\u001b[0m \u001b[0mclick\u001b[0m\u001b[0;34m(\u001b[0m\u001b[0mself\u001b[0m\u001b[0;34m)\u001b[0m \u001b[0;34m->\u001b[0m \u001b[0;32mNone\u001b[0m\u001b[0;34m:\u001b[0m\u001b[0;34m\u001b[0m\u001b[0;34m\u001b[0m\u001b[0m\n\u001b[1;32m     92\u001b[0m         \u001b[0;34m\"\"\"Clicks the element.\"\"\"\u001b[0m\u001b[0;34m\u001b[0m\u001b[0;34m\u001b[0m\u001b[0m\n\u001b[0;32m---> 93\u001b[0;31m         \u001b[0mself\u001b[0m\u001b[0;34m.\u001b[0m\u001b[0m_execute\u001b[0m\u001b[0;34m(\u001b[0m\u001b[0mCommand\u001b[0m\u001b[0;34m.\u001b[0m\u001b[0mCLICK_ELEMENT\u001b[0m\u001b[0;34m)\u001b[0m\u001b[0;34m\u001b[0m\u001b[0;34m\u001b[0m\u001b[0m\n\u001b[0m\u001b[1;32m     94\u001b[0m \u001b[0;34m\u001b[0m\u001b[0m\n\u001b[1;32m     95\u001b[0m     \u001b[0;32mdef\u001b[0m \u001b[0msubmit\u001b[0m\u001b[0;34m(\u001b[0m\u001b[0mself\u001b[0m\u001b[0;34m)\u001b[0m\u001b[0;34m:\u001b[0m\u001b[0;34m\u001b[0m\u001b[0;34m\u001b[0m\u001b[0m\n",
            "\u001b[0;32m/usr/local/lib/python3.10/dist-packages/selenium/webdriver/remote/webelement.py\u001b[0m in \u001b[0;36m_execute\u001b[0;34m(self, command, params)\u001b[0m\n\u001b[1;32m    392\u001b[0m             \u001b[0mparams\u001b[0m \u001b[0;34m=\u001b[0m \u001b[0;34m{\u001b[0m\u001b[0;34m}\u001b[0m\u001b[0;34m\u001b[0m\u001b[0;34m\u001b[0m\u001b[0m\n\u001b[1;32m    393\u001b[0m         \u001b[0mparams\u001b[0m\u001b[0;34m[\u001b[0m\u001b[0;34m\"id\"\u001b[0m\u001b[0;34m]\u001b[0m \u001b[0;34m=\u001b[0m \u001b[0mself\u001b[0m\u001b[0;34m.\u001b[0m\u001b[0m_id\u001b[0m\u001b[0;34m\u001b[0m\u001b[0;34m\u001b[0m\u001b[0m\n\u001b[0;32m--> 394\u001b[0;31m         \u001b[0;32mreturn\u001b[0m \u001b[0mself\u001b[0m\u001b[0;34m.\u001b[0m\u001b[0m_parent\u001b[0m\u001b[0;34m.\u001b[0m\u001b[0mexecute\u001b[0m\u001b[0;34m(\u001b[0m\u001b[0mcommand\u001b[0m\u001b[0;34m,\u001b[0m \u001b[0mparams\u001b[0m\u001b[0;34m)\u001b[0m\u001b[0;34m\u001b[0m\u001b[0;34m\u001b[0m\u001b[0m\n\u001b[0m\u001b[1;32m    395\u001b[0m \u001b[0;34m\u001b[0m\u001b[0m\n\u001b[1;32m    396\u001b[0m     \u001b[0;32mdef\u001b[0m \u001b[0mfind_element\u001b[0m\u001b[0;34m(\u001b[0m\u001b[0mself\u001b[0m\u001b[0;34m,\u001b[0m \u001b[0mby\u001b[0m\u001b[0;34m=\u001b[0m\u001b[0mBy\u001b[0m\u001b[0;34m.\u001b[0m\u001b[0mID\u001b[0m\u001b[0;34m,\u001b[0m \u001b[0mvalue\u001b[0m\u001b[0;34m=\u001b[0m\u001b[0;32mNone\u001b[0m\u001b[0;34m)\u001b[0m \u001b[0;34m->\u001b[0m \u001b[0mWebElement\u001b[0m\u001b[0;34m:\u001b[0m\u001b[0;34m\u001b[0m\u001b[0;34m\u001b[0m\u001b[0m\n",
            "\u001b[0;32m/usr/local/lib/python3.10/dist-packages/selenium/webdriver/remote/webdriver.py\u001b[0m in \u001b[0;36mexecute\u001b[0;34m(self, driver_command, params)\u001b[0m\n\u001b[1;32m    342\u001b[0m         \u001b[0mresponse\u001b[0m \u001b[0;34m=\u001b[0m \u001b[0mself\u001b[0m\u001b[0;34m.\u001b[0m\u001b[0mcommand_executor\u001b[0m\u001b[0;34m.\u001b[0m\u001b[0mexecute\u001b[0m\u001b[0;34m(\u001b[0m\u001b[0mdriver_command\u001b[0m\u001b[0;34m,\u001b[0m \u001b[0mparams\u001b[0m\u001b[0;34m)\u001b[0m\u001b[0;34m\u001b[0m\u001b[0;34m\u001b[0m\u001b[0m\n\u001b[1;32m    343\u001b[0m         \u001b[0;32mif\u001b[0m \u001b[0mresponse\u001b[0m\u001b[0;34m:\u001b[0m\u001b[0;34m\u001b[0m\u001b[0;34m\u001b[0m\u001b[0m\n\u001b[0;32m--> 344\u001b[0;31m             \u001b[0mself\u001b[0m\u001b[0;34m.\u001b[0m\u001b[0merror_handler\u001b[0m\u001b[0;34m.\u001b[0m\u001b[0mcheck_response\u001b[0m\u001b[0;34m(\u001b[0m\u001b[0mresponse\u001b[0m\u001b[0;34m)\u001b[0m\u001b[0;34m\u001b[0m\u001b[0;34m\u001b[0m\u001b[0m\n\u001b[0m\u001b[1;32m    345\u001b[0m             \u001b[0mresponse\u001b[0m\u001b[0;34m[\u001b[0m\u001b[0;34m\"value\"\u001b[0m\u001b[0;34m]\u001b[0m \u001b[0;34m=\u001b[0m \u001b[0mself\u001b[0m\u001b[0;34m.\u001b[0m\u001b[0m_unwrap_value\u001b[0m\u001b[0;34m(\u001b[0m\u001b[0mresponse\u001b[0m\u001b[0;34m.\u001b[0m\u001b[0mget\u001b[0m\u001b[0;34m(\u001b[0m\u001b[0;34m\"value\"\u001b[0m\u001b[0;34m,\u001b[0m \u001b[0;32mNone\u001b[0m\u001b[0;34m)\u001b[0m\u001b[0;34m)\u001b[0m\u001b[0;34m\u001b[0m\u001b[0;34m\u001b[0m\u001b[0m\n\u001b[1;32m    346\u001b[0m             \u001b[0;32mreturn\u001b[0m \u001b[0mresponse\u001b[0m\u001b[0;34m\u001b[0m\u001b[0;34m\u001b[0m\u001b[0m\n",
            "\u001b[0;32m/usr/local/lib/python3.10/dist-packages/selenium/webdriver/remote/errorhandler.py\u001b[0m in \u001b[0;36mcheck_response\u001b[0;34m(self, response)\u001b[0m\n\u001b[1;32m    227\u001b[0m                 \u001b[0malert_text\u001b[0m \u001b[0;34m=\u001b[0m \u001b[0mvalue\u001b[0m\u001b[0;34m[\u001b[0m\u001b[0;34m\"alert\"\u001b[0m\u001b[0;34m]\u001b[0m\u001b[0;34m.\u001b[0m\u001b[0mget\u001b[0m\u001b[0;34m(\u001b[0m\u001b[0;34m\"text\"\u001b[0m\u001b[0;34m)\u001b[0m\u001b[0;34m\u001b[0m\u001b[0;34m\u001b[0m\u001b[0m\n\u001b[1;32m    228\u001b[0m             \u001b[0;32mraise\u001b[0m \u001b[0mexception_class\u001b[0m\u001b[0;34m(\u001b[0m\u001b[0mmessage\u001b[0m\u001b[0;34m,\u001b[0m \u001b[0mscreen\u001b[0m\u001b[0;34m,\u001b[0m \u001b[0mstacktrace\u001b[0m\u001b[0;34m,\u001b[0m \u001b[0malert_text\u001b[0m\u001b[0;34m)\u001b[0m  \u001b[0;31m# type: ignore[call-arg]  # mypy is not smart enough here\u001b[0m\u001b[0;34m\u001b[0m\u001b[0;34m\u001b[0m\u001b[0m\n\u001b[0;32m--> 229\u001b[0;31m         \u001b[0;32mraise\u001b[0m \u001b[0mexception_class\u001b[0m\u001b[0;34m(\u001b[0m\u001b[0mmessage\u001b[0m\u001b[0;34m,\u001b[0m \u001b[0mscreen\u001b[0m\u001b[0;34m,\u001b[0m \u001b[0mstacktrace\u001b[0m\u001b[0;34m)\u001b[0m\u001b[0;34m\u001b[0m\u001b[0;34m\u001b[0m\u001b[0m\n\u001b[0m",
            "\u001b[0;31mElementClickInterceptedException\u001b[0m: Message: element click intercepted: Element <button>...</button> is not clickable at point (216, 558). Other element would receive the click: <div class=\"cookie-consent\" style=\"\">...</div>\n  (Session info: headless chrome=117.0.5938.62)\nStacktrace:\n#0 0x57192b785693 <unknown>\n#1 0x57192b45b1e7 <unknown>\n#2 0x57192b4a865d <unknown>\n#3 0x57192b4a69fd <unknown>\n#4 0x57192b4a47b8 <unknown>\n#5 0x57192b4a3827 <unknown>\n#6 0x57192b4984f9 <unknown>\n#7 0x57192b4c40c2 <unknown>\n#8 0x57192b497f16 <unknown>\n#9 0x57192b4c428e <unknown>\n#10 0x57192b4dd322 <unknown>\n#11 0x57192b4c3e93 <unknown>\n#12 0x57192b496934 <unknown>\n#13 0x57192b49771e <unknown>\n#14 0x57192b74ac98 <unknown>\n#15 0x57192b74ebd0 <unknown>\n#16 0x57192b75917c <unknown>\n#17 0x57192b74f7e8 <unknown>\n#18 0x57192b71c25f <unknown>\n#19 0x57192b773e68 <unknown>\n#20 0x57192b774039 <unknown>\n#21 0x57192b784823 <unknown>\n#22 0x7a2f3fa01b43 <unknown>\n"
          ]
        }
      ]
    },
    {
      "cell_type": "code",
      "source": [
        "import unittest"
      ],
      "metadata": {
        "id": "hzKQ09GdaRBp"
      },
      "execution_count": 2,
      "outputs": []
    },
    {
      "cell_type": "code",
      "source": [
        "# Pasar una lista explícita unittest.mainevitará que IPython y Jupyter\n",
        "# miren sys.argv.\n",
        "# Pasar exit=Falsevitará unittest.mainque se cierre el proceso kernell\n",
        "if __name__ == '__main__':\n",
        "    unittest.main(argv=['first-arg-is-ignored'], exit=False) # https://medium.com/@vladbezden/using-python-unittest-in-ipython-or-jupyter-732448724e31"
      ],
      "metadata": {
        "colab": {
          "base_uri": "https://localhost:8080/"
        },
        "id": "nvrH1xfY9gAf",
        "outputId": "e66d96e9-4858-4d0b-8bc2-a4ada72b480e"
      },
      "execution_count": 11,
      "outputs": [
        {
          "output_type": "stream",
          "name": "stderr",
          "text": [
            "..\n",
            "----------------------------------------------------------------------\n",
            "Ran 2 tests in 0.006s\n",
            "\n",
            "OK\n"
          ]
        }
      ]
    },
    {
      "cell_type": "code",
      "source": [
        "%autoawait"
      ],
      "metadata": {
        "colab": {
          "base_uri": "https://localhost:8080/"
        },
        "id": "CVlBvbrI-XfH",
        "outputId": "211d2384-164e-48ca-c642-3034e35163b5"
      },
      "execution_count": 12,
      "outputs": [
        {
          "output_type": "stream",
          "name": "stdout",
          "text": [
            "IPython autoawait is `on`, and set to use `asyncio`\n"
          ]
        }
      ]
    },
    {
      "cell_type": "code",
      "source": [
        "%quickref"
      ],
      "metadata": {
        "id": "sl4q8Rs5Ei6y"
      },
      "execution_count": 13,
      "outputs": []
    },
    {
      "cell_type": "code",
      "source": [
        "%edit 0/"
      ],
      "metadata": {
        "colab": {
          "base_uri": "https://localhost:8080/"
        },
        "id": "IYLkmQ_IEn56",
        "outputId": "bc698522-2c83-4345-c4c2-ac6af887a733"
      },
      "execution_count": 14,
      "outputs": [
        {
          "output_type": "stream",
          "name": "stdout",
          "text": [
            "IPython will make a temporary file named: /tmp/ipython_edit_nsjpucqr/ipython_edit_aco9qo_4.py\n"
          ]
        }
      ]
    },
    {
      "cell_type": "code",
      "source": [
        "!ipython notebook"
      ],
      "metadata": {
        "id": "SNXm4KJaE2ET"
      },
      "execution_count": null,
      "outputs": []
    },
    {
      "cell_type": "code",
      "source": [
        "import pytest # https://docs.pytest.org/en/7.1.x/getting-started.html"
      ],
      "metadata": {
        "id": "IsAXB228FfxD"
      },
      "execution_count": 31,
      "outputs": []
    },
    {
      "cell_type": "code",
      "source": [
        "# content of test_sample.py\n",
        "def func(x):\n",
        "    return x + 1\n",
        "\n",
        "def test_answer():\n",
        "    assert func(3) == 5"
      ],
      "metadata": {
        "id": "8mHB7vy8JlWM"
      },
      "execution_count": 32,
      "outputs": []
    },
    {
      "cell_type": "markdown",
      "source": [
        "test_sample.py\n",
        "\n",
        "    # content of test_sample.py\n",
        "    def func(x):\n",
        "        return x + 1\n",
        "\n",
        "\n",
        "    def test_answer():\n",
        "        assert func(3) == 5"
      ],
      "metadata": {
        "id": "VzZHO1tiJyqo"
      }
    },
    {
      "cell_type": "code",
      "source": [
        "!touch test_sample.py"
      ],
      "metadata": {
        "id": "ZMcZ46PqJr61"
      },
      "execution_count": 33,
      "outputs": []
    },
    {
      "cell_type": "code",
      "source": [
        "!pytest"
      ],
      "metadata": {
        "colab": {
          "base_uri": "https://localhost:8080/"
        },
        "id": "5jRJiQbaKCVN",
        "outputId": "6f4e3c9e-bdb5-449e-a422-5dcf2ea5781d"
      },
      "execution_count": 34,
      "outputs": [
        {
          "output_type": "stream",
          "name": "stdout",
          "text": [
            "\u001b[1m============================= test session starts ==============================\u001b[0m\n",
            "platform linux -- Python 3.10.12, pytest-7.4.1, pluggy-1.3.0\n",
            "rootdir: /content\n",
            "plugins: anyio-3.7.1\n",
            "\u001b[1mcollecting ... \u001b[0m\u001b[1m\rcollected 1 item                                                               \u001b[0m\n",
            "\n",
            "test_sample.py \u001b[31mF\u001b[0m\u001b[31m                                                         [100%]\u001b[0m\n",
            "\n",
            "=================================== FAILURES ===================================\n",
            "\u001b[31m\u001b[1m_________________________________ test_answer __________________________________\u001b[0m\n",
            "\n",
            "    \u001b[94mdef\u001b[39;49;00m \u001b[92mtest_answer\u001b[39;49;00m():\u001b[90m\u001b[39;49;00m\n",
            ">       \u001b[94massert\u001b[39;49;00m func(\u001b[94m3\u001b[39;49;00m) == \u001b[94m5\u001b[39;49;00m\u001b[90m\u001b[39;49;00m\n",
            "\u001b[1m\u001b[31mE       assert 4 == 5\u001b[0m\n",
            "\u001b[1m\u001b[31mE        +  where 4 = func(3)\u001b[0m\n",
            "\n",
            "\u001b[1m\u001b[31mtest_sample.py\u001b[0m:7: AssertionError\n",
            "\u001b[36m\u001b[1m=========================== short test summary info ============================\u001b[0m\n",
            "\u001b[31mFAILED\u001b[0m test_sample.py::\u001b[1mtest_answer\u001b[0m - assert 4 == 5\n",
            "\u001b[31m============================== \u001b[31m\u001b[1m1 failed\u001b[0m\u001b[31m in 0.11s\u001b[0m\u001b[31m ===============================\u001b[0m\n"
          ]
        }
      ]
    },
    {
      "cell_type": "code",
      "source": [],
      "metadata": {
        "id": "HL_uzsueKJFd"
      },
      "execution_count": null,
      "outputs": []
    }
  ]
}
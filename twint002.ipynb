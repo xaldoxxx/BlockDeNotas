{
  "nbformat": 4,
  "nbformat_minor": 0,
  "metadata": {
    "colab": {
      "provenance": [],
      "authorship_tag": "ABX9TyNUDWrfG6fAhRCjGtKzaUuk",
      "include_colab_link": true
    },
    "kernelspec": {
      "name": "python3",
      "display_name": "Python 3"
    },
    "language_info": {
      "name": "python"
    }
  },
  "cells": [
    {
      "cell_type": "markdown",
      "metadata": {
        "id": "view-in-github",
        "colab_type": "text"
      },
      "source": [
        "<a href=\"https://colab.research.google.com/github/xaldoxxx/BlockDeNotas/blob/main/twint002.ipynb\" target=\"_parent\"><img src=\"https://colab.research.google.com/assets/colab-badge.svg\" alt=\"Open In Colab\"/></a>"
      ]
    },
    {
      "cell_type": "code",
      "execution_count": 1,
      "metadata": {
        "colab": {
          "base_uri": "https://localhost:8080/"
        },
        "id": "0kXQD-lmpHX6",
        "outputId": "39ac7921-c35b-4ebb-918a-ee4ad4a764a7"
      },
      "outputs": [
        {
          "output_type": "stream",
          "name": "stdout",
          "text": [
            "Looking in indexes: https://pypi.org/simple, https://us-python.pkg.dev/colab-wheels/public/simple/\n",
            "Collecting nest-asyncio==1.5.3\n",
            "  Downloading nest_asyncio-1.5.3-py3-none-any.whl (5.1 kB)\n",
            "Installing collected packages: nest-asyncio\n",
            "Successfully installed nest-asyncio-1.5.3\n",
            "Looking in indexes: https://pypi.org/simple, https://us-python.pkg.dev/colab-wheels/public/simple/\n",
            "Collecting aiohttp==3.7.0\n",
            "  Downloading aiohttp-3.7.0-cp37-cp37m-manylinux2014_x86_64.whl (1.3 MB)\n",
            "\u001b[K     |████████████████████████████████| 1.3 MB 4.4 MB/s \n",
            "\u001b[?25hRequirement already satisfied: attrs>=17.3.0 in /usr/local/lib/python3.7/dist-packages (from aiohttp==3.7.0) (22.1.0)\n",
            "Requirement already satisfied: yarl<2.0,>=1.0 in /usr/local/lib/python3.7/dist-packages (from aiohttp==3.7.0) (1.8.1)\n",
            "Requirement already satisfied: multidict<7.0,>=4.5 in /usr/local/lib/python3.7/dist-packages (from aiohttp==3.7.0) (6.0.2)\n",
            "Requirement already satisfied: chardet<4.0,>=2.0 in /usr/local/lib/python3.7/dist-packages (from aiohttp==3.7.0) (3.0.4)\n",
            "Collecting async-timeout<4.0,>=3.0\n",
            "  Downloading async_timeout-3.0.1-py3-none-any.whl (8.2 kB)\n",
            "Requirement already satisfied: typing-extensions>=3.7.4 in /usr/local/lib/python3.7/dist-packages (from yarl<2.0,>=1.0->aiohttp==3.7.0) (4.1.1)\n",
            "Requirement already satisfied: idna>=2.0 in /usr/local/lib/python3.7/dist-packages (from yarl<2.0,>=1.0->aiohttp==3.7.0) (2.10)\n",
            "Installing collected packages: async-timeout, aiohttp\n",
            "  Attempting uninstall: async-timeout\n",
            "    Found existing installation: async-timeout 4.0.2\n",
            "    Uninstalling async-timeout-4.0.2:\n",
            "      Successfully uninstalled async-timeout-4.0.2\n",
            "  Attempting uninstall: aiohttp\n",
            "    Found existing installation: aiohttp 3.8.3\n",
            "    Uninstalling aiohttp-3.8.3:\n",
            "      Successfully uninstalled aiohttp-3.8.3\n",
            "Successfully installed aiohttp-3.7.0 async-timeout-3.0.1\n",
            "Cloning into 'twint'...\n",
            "remote: Enumerating objects: 47, done.\u001b[K\n",
            "remote: Counting objects: 100% (47/47), done.\u001b[K\n",
            "remote: Compressing objects: 100% (44/44), done.\u001b[K\n",
            "remote: Total 47 (delta 3), reused 14 (delta 0), pack-reused 0\u001b[K\n",
            "Unpacking objects: 100% (47/47), done.\n",
            "Looking in indexes: https://pypi.org/simple, https://us-python.pkg.dev/colab-wheels/public/simple/\n",
            "Processing /content/twint\n",
            "\u001b[33m  DEPRECATION: A future pip version will change local packages to be built in-place without first copying to a temporary directory. We recommend you use --use-feature=in-tree-build to test your packages with this new behavior before it becomes the default.\n",
            "   pip 21.3 will remove support for this functionality. You can find discussion regarding this at https://github.com/pypa/pip/issues/7555.\u001b[0m\n",
            "Requirement already satisfied: aiohttp in /usr/local/lib/python3.7/dist-packages (from -r requirements.txt (line 1)) (3.7.0)\n",
            "Collecting aiodns\n",
            "  Downloading aiodns-3.0.0-py3-none-any.whl (5.0 kB)\n",
            "Requirement already satisfied: beautifulsoup4 in /usr/local/lib/python3.7/dist-packages (from -r requirements.txt (line 3)) (4.6.3)\n",
            "Collecting cchardet\n",
            "  Downloading cchardet-2.1.7-cp37-cp37m-manylinux2010_x86_64.whl (263 kB)\n",
            "\u001b[K     |████████████████████████████████| 263 kB 4.2 MB/s \n",
            "\u001b[?25hCollecting dataclasses\n",
            "  Downloading dataclasses-0.6-py3-none-any.whl (14 kB)\n",
            "Collecting elasticsearch\n",
            "  Downloading elasticsearch-8.5.0-py3-none-any.whl (385 kB)\n",
            "\u001b[K     |████████████████████████████████| 385 kB 46.4 MB/s \n",
            "\u001b[?25hRequirement already satisfied: pysocks in /usr/local/lib/python3.7/dist-packages (from -r requirements.txt (line 7)) (1.7.1)\n",
            "Requirement already satisfied: pandas>=0.23.0 in /usr/local/lib/python3.7/dist-packages (from -r requirements.txt (line 8)) (1.3.5)\n",
            "Collecting aiohttp_socks<=0.4.1\n",
            "  Downloading aiohttp_socks-0.4.1-py3-none-any.whl (17 kB)\n",
            "Collecting schedule\n",
            "  Downloading schedule-1.1.0-py2.py3-none-any.whl (10 kB)\n",
            "Requirement already satisfied: geopy in /usr/local/lib/python3.7/dist-packages (from -r requirements.txt (line 11)) (1.17.0)\n",
            "Collecting fake-useragent\n",
            "  Downloading fake_useragent-0.1.14-py3-none-any.whl (13 kB)\n",
            "Collecting googletransx\n",
            "  Downloading googletransx-2.4.2.tar.gz (13 kB)\n",
            "Requirement already satisfied: pytz>=2017.3 in /usr/local/lib/python3.7/dist-packages (from pandas>=0.23.0->-r requirements.txt (line 8)) (2022.6)\n",
            "Requirement already satisfied: python-dateutil>=2.7.3 in /usr/local/lib/python3.7/dist-packages (from pandas>=0.23.0->-r requirements.txt (line 8)) (2.8.2)\n",
            "Requirement already satisfied: numpy>=1.17.3 in /usr/local/lib/python3.7/dist-packages (from pandas>=0.23.0->-r requirements.txt (line 8)) (1.21.6)\n",
            "Requirement already satisfied: attrs>=19.2.0 in /usr/local/lib/python3.7/dist-packages (from aiohttp_socks<=0.4.1->-r requirements.txt (line 9)) (22.1.0)\n",
            "Requirement already satisfied: async-timeout<4.0,>=3.0 in /usr/local/lib/python3.7/dist-packages (from aiohttp->-r requirements.txt (line 1)) (3.0.1)\n",
            "Requirement already satisfied: yarl<2.0,>=1.0 in /usr/local/lib/python3.7/dist-packages (from aiohttp->-r requirements.txt (line 1)) (1.8.1)\n",
            "Requirement already satisfied: chardet<4.0,>=2.0 in /usr/local/lib/python3.7/dist-packages (from aiohttp->-r requirements.txt (line 1)) (3.0.4)\n",
            "Requirement already satisfied: multidict<7.0,>=4.5 in /usr/local/lib/python3.7/dist-packages (from aiohttp->-r requirements.txt (line 1)) (6.0.2)\n",
            "Requirement already satisfied: six>=1.5 in /usr/local/lib/python3.7/dist-packages (from python-dateutil>=2.7.3->pandas>=0.23.0->-r requirements.txt (line 8)) (1.15.0)\n",
            "Requirement already satisfied: idna>=2.0 in /usr/local/lib/python3.7/dist-packages (from yarl<2.0,>=1.0->aiohttp->-r requirements.txt (line 1)) (2.10)\n",
            "Requirement already satisfied: typing-extensions>=3.7.4 in /usr/local/lib/python3.7/dist-packages (from yarl<2.0,>=1.0->aiohttp->-r requirements.txt (line 1)) (4.1.1)\n",
            "Collecting pycares>=4.0.0\n",
            "  Downloading pycares-4.2.2-cp37-cp37m-manylinux_2_17_x86_64.manylinux2014_x86_64.whl (288 kB)\n",
            "\u001b[K     |████████████████████████████████| 288 kB 45.5 MB/s \n",
            "\u001b[?25hRequirement already satisfied: cffi>=1.5.0 in /usr/local/lib/python3.7/dist-packages (from pycares>=4.0.0->aiodns->-r requirements.txt (line 2)) (1.15.1)\n",
            "Requirement already satisfied: pycparser in /usr/local/lib/python3.7/dist-packages (from cffi>=1.5.0->pycares>=4.0.0->aiodns->-r requirements.txt (line 2)) (2.21)\n",
            "Collecting elastic-transport<9,>=8\n",
            "  Downloading elastic_transport-8.4.0-py3-none-any.whl (59 kB)\n",
            "\u001b[K     |████████████████████████████████| 59 kB 5.9 MB/s \n",
            "\u001b[?25hRequirement already satisfied: certifi in /usr/local/lib/python3.7/dist-packages (from elastic-transport<9,>=8->elasticsearch->-r requirements.txt (line 6)) (2022.9.24)\n",
            "Collecting urllib3<2,>=1.26.2\n",
            "  Downloading urllib3-1.26.12-py2.py3-none-any.whl (140 kB)\n",
            "\u001b[K     |████████████████████████████████| 140 kB 65.1 MB/s \n",
            "\u001b[?25hRequirement already satisfied: geographiclib<2,>=1.49 in /usr/local/lib/python3.7/dist-packages (from geopy->-r requirements.txt (line 11)) (1.52)\n",
            "Requirement already satisfied: requests in /usr/local/lib/python3.7/dist-packages (from googletransx->-r requirements.txt (line 13)) (2.23.0)\n",
            "Collecting requests\n",
            "  Downloading requests-2.28.1-py3-none-any.whl (62 kB)\n",
            "\u001b[K     |████████████████████████████████| 62 kB 1.3 MB/s \n",
            "\u001b[?25hRequirement already satisfied: charset-normalizer<3,>=2 in /usr/local/lib/python3.7/dist-packages (from requests->googletransx->-r requirements.txt (line 13)) (2.1.1)\n",
            "Building wheels for collected packages: twint, googletransx\n",
            "  Building wheel for twint (setup.py) ... \u001b[?25l\u001b[?25hdone\n",
            "  Created wheel for twint: filename=twint-2.1.21-py3-none-any.whl size=38871 sha256=73b6737d9704697d9d9c7ed6f3682f0fee957740c28c4103be2d0127aac3ad07\n",
            "  Stored in directory: /tmp/pip-ephem-wheel-cache-kzjen4ut/wheels/f7/3e/11/2803f3c6890e87a9bec35bb8e37ef1ad0777a00f43e2441fb1\n",
            "  Building wheel for googletransx (setup.py) ... \u001b[?25l\u001b[?25hdone\n",
            "  Created wheel for googletransx: filename=googletransx-2.4.2-py3-none-any.whl size=15968 sha256=58cb1beb492a15de469513d48e424628261d68f3668a8e943ee2c0944c6ab917\n",
            "  Stored in directory: /root/.cache/pip/wheels/66/d5/b1/31104b338f7fd45aa8f7d22587765db06773b13df48a89735f\n",
            "Successfully built twint googletransx\n",
            "Installing collected packages: urllib3, requests, pycares, elastic-transport, schedule, googletransx, fake-useragent, elasticsearch, dataclasses, cchardet, aiohttp-socks, aiodns, twint\n",
            "  Attempting uninstall: urllib3\n",
            "    Found existing installation: urllib3 1.24.3\n",
            "    Uninstalling urllib3-1.24.3:\n",
            "      Successfully uninstalled urllib3-1.24.3\n",
            "  Attempting uninstall: requests\n",
            "    Found existing installation: requests 2.23.0\n",
            "    Uninstalling requests-2.23.0:\n",
            "      Successfully uninstalled requests-2.23.0\n",
            "Successfully installed aiodns-3.0.0 aiohttp-socks-0.4.1 cchardet-2.1.7 dataclasses-0.6 elastic-transport-8.4.0 elasticsearch-8.5.0 fake-useragent-0.1.14 googletransx-2.4.2 pycares-4.2.2 requests-2.28.1 schedule-1.1.0 twint-2.1.21 urllib3-1.26.12\n"
          ]
        }
      ],
      "source": [
        "!pip install nest-asyncio==1.5.3\n",
        "!pip install aiohttp==3.7.0\n",
        "!git clone --depth=1 https://github.com/twintproject/twint.git\n",
        "!cd /content/twint && pip3 install . -r requirements.txt"
      ]
    },
    {
      "cell_type": "code",
      "source": [
        "# guardar en un csv los datos buscados!\n",
        "import twint # https://github.com/twintproject/twint/wiki\n",
        "import nest_asyncio\n",
        "nest_asyncio.apply()\n",
        "import time\n",
        "import pandas as pd\n",
        "import os\n",
        "import re\n",
        "def buscame(string):\n",
        "\n",
        "    timestr = time.strftime(\"%Y%m%d\")\n",
        "\n",
        "    c = twint.Config()\n",
        "    c.Limit = 1000\n",
        "    c.Lang = \"es\"\n",
        "    c.Store_csv = True\n",
        "    c.Search = string   # cadena a modificar\n",
        "    c.Output = timestr + \"data.csv\"\n",
        "    twint.run.Search(c)"
      ],
      "metadata": {
        "id": "7Q_Md8PnpNMI"
      },
      "execution_count": 4,
      "outputs": []
    },
    {
      "cell_type": "code",
      "source": [
        "buscame(\"mateway\")"
      ],
      "metadata": {
        "colab": {
          "base_uri": "https://localhost:8080/"
        },
        "id": "OQmNfCdXpRCF",
        "outputId": "3a98abac-538d-42bb-a79a-b35b40389520"
      },
      "execution_count": 6,
      "outputs": [
        {
          "output_type": "stream",
          "name": "stdout",
          "text": [
            "1584515382353620992 2022-10-24 12:01:20 +0000 <RCI_News> RCI X-Country team will have practice tonight. We will meet at Mateway at 2:45.  EOSSAA X-Country meet is on Wednesday.  We will be leaving at 7am.  Meet at the Grant Gym! Bring warm clothes, food and lots of water!\n",
            "1584380751126351872 2022-10-24 03:06:22 +0000 <mateway> Websites, Landings, Digital Branding   https://t.co/2T1TKWDRfa\n",
            "1584376121088303104 2022-10-24 02:47:58 +0000 <mateway> @saluzzimusic Dino &amp; Jose Saluzzi duet #NOVEMBER 3 &amp; 4 @cafeviniloba ♥️    https://t.co/WgEDEZKKT2\n",
            "1584373990646112256 2022-10-24 02:39:30 +0000 <mateway> @JazzFoundation Wayne Shorter (I agree with Herbie Hancock.)\n",
            "1580891064851841027 2022-10-14 11:59:36 +0000 <RCI_News> The RCIS Cross-Country team went to the St. Thomas meet yesterday at Mateway. Unfortunately, due to all the rain the trail conditions were deemed unsafe, so our grade 7 girls were the only ones able to race. Ella Fridgen placed 4th, Charliegh Stewart came in 6th,\n",
            "1580534045594636288 2022-10-13 12:20:56 +0000 <RCI_News> Good luck to our grade 7 &amp; 8 cross country runners who will have a wet day at Mateway.  All runners will meet Mme McCullough &amp; Mrs. Phillion in room 205 at 10:50 this morning to get their jerseys.\n",
            "1580182740280160256 2022-10-12 13:04:58 +0000 <RCI_News> RCI X-Country will have a practice tonight at Mateway at 2:45.\n",
            "1579320797847760896 2022-10-10 03:59:55 +0000 <mateway> “Speaking Tango” is a term inspired by the spoken word of #NewYork of the late sixties, later called “slam” and which is its direct evolution. #MininoGaray, has given this name to the musical process in which he recites the texts of songs.   https://t.co/AAhOONj4I5\n",
            "1578926592637964289 2022-10-09 01:53:29 +0000 <mateway> #SpeakingTango #MininoGaray    https://t.co/XyO0qffpLv\n",
            "1578356533687001088 2022-10-07 12:08:16 +0000 <RCI_News> Our next practice will be Tuesday October 11th after school.  Permission forms for the meet at Mateway will be going home today.\n",
            "1576907288342069248 2022-10-03 12:09:29 +0000 <RCI_News> number of runners.  Notable performances by Reed Griese, Courtney VanderPloeg and Jacob Howard for his assistant coaching.  It was a beautiful day to run, thanks to all those who came out.   Practice tonight at 2:45 at Mateway!\n",
            "1575458709186220032 2022-09-29 12:13:21 +0000 <RCI_News> Attention RCI Raider’s runners, we have our first meet tomorrow in Ottawa.  The bus leaves at 12 noon, all runners can meet in front of the Grant Gym.  Bring warm clothes and food!  There will be a practice tonight at 2:45 at Mateway.\n",
            "1574731698381541376 2022-09-27 12:04:28 +0000 <RCI_News> Tennis tonight at 2:45 at Mateway\n",
            "1574571105100111890 2022-09-27 01:26:20 +0000 <JazzOnlineClub> Felicitamos a Pablo Motta, Franco Luciani y toda la banda! Muchas gracias por confiar en nosotros para realizar el Video Clip! Hermoso trabajar con este equipo.  @solutions4art @mateway @bebopclub @borges1975ok\n",
            "1574486790672896000 2022-09-26 19:51:18 +0000 <solutions4art> Felicitaciones!!! MUY lindo disco!   @JazzOnlineClub @mateway\n",
            "1572922002239033348 2022-09-22 12:13:23 +0000 <RCI_News> There will be a grade 7 &amp; 8 X country practice today from 2:45-3:30 at Mateway.\n",
            "1572565716955697153 2022-09-21 12:37:38 +0000 <RCI_News> RCI X-Country team will have a practice tonight after school.  Please meet at Mateway at 2:45.  If you don’t have basketball or volleyball practice tonight, please come out to run!\n",
            "1571840343204569088 2022-09-19 12:35:15 +0000 <RCI_News> Rain or Shine, cross-country running practice will be after school today.  We will meet at Mateway at 2:45. If you have a late practice please come out and all new members are welcome\n",
            "1570389929284231169 2022-09-15 12:31:50 +0000 <RCI_News> There is a Grade 7 &amp; 8 cross country practice today after school from 2:45-3:30 at Mateway.  We will meet at the bottom of the hill.\n",
            "1570060763720552453 2022-09-14 14:43:51 +0000 <RCI_News> There is a Grade 7 &amp; 8 cross country practice today after school from 2:45-3:30 at Mateway.  We will meet at the bottom of the hill.\n",
            "1569702778792194049 2022-09-13 15:01:20 +0000 <RCI_News> There is a Grade 7 &amp; 8 cross country practice today after school from 2:45-3:30 at Mateway.  We will meet at the bottom of the hill.\n",
            "1563437268789997569 2022-08-27 08:04:26 +0000 <SiteMusicWeb> 🔥 NOVEDADES! 🔥 Llegó el pedido atrasadoooo!!! 🥳 💯♥️💪 Estamos TAN felices! Apurate a entrar a la web que se van volando!  👉  https://t.co/kIWx0oYXxZ 🛒. 24hs disponible 😉  #jazzmusic @JazzOnlineClub @argentjazz @jazzandcash  @mateway @fmblackie @TheJazzStoreAr @VirasoroBar\n",
            "1563431090312065025 2022-08-27 07:39:53 +0000 <mateway> #FjhMx #Festival de #HotJazz de🇲🇽🎶Virtual Edition available at   https://t.co/qrJmeaIAR5 !   @FihjMx @JazzOnlineClub @TheJazzGallery @APassion4Jazz @AllAboutJazz @JazzTalk @argentjazz @jazzandcash @jazzcorner\n",
            "1563429749074313221 2022-08-27 07:34:33 +0000 <mateway> #byeJoe . we will miss u so much! 🥲  Mr. DeFrancesco was born on April 10, 1971, in Springfield, near Philadelphia. He didn’t wait long to pick his career path. “When I was 4, my father brought in this monstrous thing, a B3, and he turned it on,”    https://t.co/NaaaQffiYQ\n",
            "1561290150704861186 2022-08-21 09:52:33 +0000 <mateway> @JazzOnlineClub #mexico #jazzonline #hotjazzfest #virtualjazz\n",
            "1561132741198053377 2022-08-20 23:27:04 +0000 <mateway> Keith Jarret :  Bordeaux Concert @ECMRecords, coming soon.  🇦🇷 preorder 👉  https://t.co/0DMKjvLI4f   @sitemusicweb  listen \"Part 3\":  https://t.co/iHQZpuGWQQ  https://t.co/fWczxsQhfF\n",
            "1556694745992364033 2022-08-08 17:32:04 +0000 <RHLstats> Thanks to all that have paid their fees for Wednesdays at Mateway and for the CSC. To those who haven’t this is a gentle reminder to check your fb inbox. We are charged interest if not fully paid by Aug 31.\n",
            "1553635284444712960 2022-07-31 06:54:51 +0000 <haaimac1> @TownRenfrew is a dump. Thanks for double booking Mateway on CSC day\n",
            "1546243852067119106 2022-07-10 21:23:56 +0000 <mateway> Nuevas convocatorias, hasta el 31 de agosto! #BAJAZZ 2022  https://t.co/5dVYz6Ux8H\n",
            "1546243852037754881 2022-07-10 21:23:56 +0000 <mateway> Convocatoria Hasta el 31/8 #BAJAZZ  1- Nuevos Discos -  de todo el país  2- Grupos o proyectos solistas de jazz de todo el país  toda la info y forms de inscripción en el link:   https://t.co/zeaojfiBvh\n",
            "1536687549535625223 2022-06-14 12:30:36 +0000 <RCI_News> RCI Track and Field athletes who have been invited to lead the RCIS clinic at Mateway today are excused at 9:35 to walk to the track to set up. Meet at the equipment shed at 9:45. Please check your email for your event assignment.\n",
            "1535992208624701440 2022-06-12 14:27:34 +0000 <mateway> LEARNING JAZZ THEORY BUT BE CAREFUL!!! 🥸  (indeed!)   https://t.co/mxUoGkbmx7\n",
            "1533656584425021440 2022-06-06 03:46:38 +0000 <mateway> The one and only BILLY STRAYHORN himself sings and plays his own masterpiece \"Lush Life\" - live, 1964  \"Billy Strayhorn was my right arm, my left arm, all the eyes in the back of my head, my brain waves in his head, and his in mine.\" Duke Ellington   https://t.co/hVwRVAYsT9\n",
            "1533513773729951744 2022-06-05 18:19:09 +0000 <mateway> #ECM Podcast #9 John #Scofield. John talks about his solo work, what inspires him and how to stay fresh.  @ECMRecords @ECMSound @SiteMusicd    https://t.co/dplEv0ypMB\n",
            "1531249456548663297 2022-05-30 12:21:34 +0000 <RCI_News> Grade 7 and 8 triple jumpers have a special practice this afternoon at 2:30 at Mateway. Don’t forget your water.\n",
            "1529437435008000000 2022-05-25 12:21:14 +0000 <RCI_News> There will be a track practice after school, 2:30 to 3:30 at the Mateway track for grade 7 and 8 students participating in the track meet next week.\n",
            "1526175305307672577 2022-05-16 12:18:42 +0000 <RCI_News> There is a Varsity Girls Soccer practice today after school at Mateway. This is likely our last practice of the season so attendance is essential.\n",
            "1526043682176217089 2022-05-16 03:35:41 +0000 <mateway> ⭐ \"There will never be enough #BillEvans albums.\" ⭐ ❤️  @SiteMusicd @ResonanceJazz  https://t.co/Fyvghs3waz\n",
            "1524435316832190467 2022-05-11 17:04:36 +0000 <OPP_ER> #RenfrewOPP Auxiliary members attended the Annual Renfrew and Area Home, Garden and Leisure Show at the Mateway Activity Centre over the weekend. The OPP's 4 wheelers were on display and Auxiliary provided educational handouts for the kids. #Auxiliary ^ajc  https://t.co/Bc1qWJqOTG\n",
            "1524032164060438536 2022-05-10 14:22:37 +0000 <alexpandevok> @solutions4art @claudinaprensa @bebopclub @AlianzaFBsAs @marieclairearg @agendademusica @Ricardo_Salton @AcquaRecords @CulturaNacionAR @IreneJazzClub1 @Arteymas_ @revisbarcelona @revistabecult @mateway @Wipeout @FestivalesGCBA 🙌\n",
            "1523825336508690434 2022-05-10 00:40:46 +0000 <RHLstats> Wednesday night RHL action.   Starting this Wednesday at Mateway at 7pm.   Every Wednesday night until the end of July.\n",
            "1523640118489145344 2022-05-09 12:24:46 +0000 <RCI_News> There is a girls soccer practice today after school at Mateway! Be there ready to go by 2:45! Bring water!\n",
            "1522557468202708992 2022-05-06 12:42:42 +0000 <RCI_News> There will be an RCIS track and field practice for all events on Monday at Mateway from 2:30-3:30.  Please let Mme McCullough know if you are not able to attend.\n",
            "1522554478662144001 2022-05-06 12:30:50 +0000 <mateway> \" I don’t want you to be fooled. I am his dog Gunnar.  I do not know who that animal is on the cover of the record but I don’t think he’s even met John before. ECM even tried to shut me up with dog bones! John is mine and that’s all I have to say. - Gunnar\"  En 🇦🇷 👉 @SiteMusicd  https://t.co/02vGjJKeHl\n",
            "1522552137800159234 2022-05-06 12:21:31 +0000 <mateway> Yesssss! TODAY! 🥂  #JohnScofield new solo guitar album by @ECMRecords available! 🎸 ❤️❤️❤️   🇦🇷 👉  https://t.co/bAZ8MOMbnt 🛒 @SiteMusicd  #jazzguitar #sologuitar #newalbum #newrelease @solutions4art @JazzOnlineClub\n",
            "1522279391795023875 2022-05-05 18:17:44 +0000 <alexpandevok> Sobre #SpeakingTango de #MininoGaray y #LaVidaNoVieneSola, una #locuradealex, los martes de #MAYO en @bebopclub 🤩💋  @AcquaRecords @claudinaprensa @solutions4art @mateway @Ricardo_Salton @PabloGorlero @AgenciaTelam   https://t.co/BwYSnPj4E3\n",
            "1521590505464754176 2022-05-03 20:40:20 +0000 <IFArgentine> @alexpandevok @bebopclub @solutions4art @AcquaRecords @AlianzaFBsAs @ViviFrancia @AgendaPortena @mateway @mariannefranarg 💪👏\n",
            "1521497431564853251 2022-05-03 14:30:30 +0000 <RCI_News> A reminder to all Track and Field athletes that they MUST get their signed OFSSA form back to Mme. Mottershead or Mrs. Daber by tomorrow. We will be practicing tonight at Mateway!\n",
            "1521107175120293889 2022-05-02 12:39:46 +0000 <RCI_News> Varsity boys’ soccer practice tonight is at MaTeWay.\n",
            "1521107126579572739 2022-05-02 12:39:34 +0000 <RCI_News> Varsity Girls Soccer practice today after school at 2:45. Please meet at Mateway. Bring layers, we are practicing rain or shine!\n",
            "1521107064180948992 2022-05-02 12:39:19 +0000 <RCI_News> Incredible camaraderie, sportsmanship and determination was shown by all Raiders! Let’s keep the momentum going, practice tonight at Mateway.\n",
            "1520657104322899969 2022-05-01 06:51:20 +0000 <mateway> I had a #JazzDay at @JazzOnlineClub 🎶💯  @IntlJazzDay #InternationalJazzDay #jazzonline #jazzclub #jazzargentino  https://t.co/5mky9wWnBF\n",
            "1520654649862373376 2022-05-01 06:41:35 +0000 <mateway> $mateway 👏💯\n",
            "1519711138094661634 2022-04-28 16:12:24 +0000 <RCI_News> The Varsity Girls Soccer have their home opener today after school against Opeongo. Game is at 4, Ladies please make sure you are at Mateway ready to go by 3:30 at the latest!\n",
            "1519291795406000129 2022-04-27 12:26:05 +0000 <RCI_News> Varsity Girls Soccer practice tonight after school at 2:45 Mateway. Dress for the snow!\n",
            "[!] No more data! Scraping will stop now.\n",
            "found 0 deleted tweets in this search.\n"
          ]
        }
      ]
    },
    {
      "cell_type": "code",
      "source": [],
      "metadata": {
        "id": "kyFnAHk5pYze"
      },
      "execution_count": null,
      "outputs": []
    }
  ]
}
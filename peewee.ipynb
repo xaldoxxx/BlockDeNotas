{
  "nbformat": 4,
  "nbformat_minor": 0,
  "metadata": {
    "colab": {
      "name": "peewee.ipynb",
      "provenance": [],
      "include_colab_link": true
    },
    "kernelspec": {
      "display_name": "Python 3",
      "name": "python3"
    },
    "language_info": {
      "name": "python"
    }
  },
  "cells": [
    {
      "cell_type": "markdown",
      "metadata": {
        "id": "view-in-github",
        "colab_type": "text"
      },
      "source": [
        "<a href=\"https://colab.research.google.com/github/xaldoxxx/curiosidades/blob/main/peewee.ipynb\" target=\"_parent\"><img src=\"https://colab.research.google.com/assets/colab-badge.svg\" alt=\"Open In Colab\"/></a>"
      ]
    },
    {
      "cell_type": "markdown",
      "metadata": {
        "id": "Py7TdvW19SMd"
      },
      "source": [
        "ORM peewee tuto oficial\n",
        "\n",
        "\n",
        "\n",
        "http://docs.peewee-orm.com/en/latest/\n",
        "\n",
        "\n",
        "\n",
        "\n",
        "https://www.paradigmadigital.com/dev/como-hacer-bases-datos-con-peewee/\n",
        "\n",
        "\n",
        "https://gugadev.wordpress.com/about/\n",
        "\n",
        "\n"
      ]
    },
    {
      "cell_type": "code",
      "metadata": {
        "id": "klJI0jbAWdtC",
        "colab": {
          "base_uri": "https://localhost:8080/"
        },
        "outputId": "545fa04e-f937-4ea0-efff-d61d2ad9703a"
      },
      "source": [
        "!pip install peewee"
      ],
      "execution_count": null,
      "outputs": [
        {
          "output_type": "stream",
          "name": "stdout",
          "text": [
            "Collecting peewee\n",
            "  Downloading peewee-3.14.8.tar.gz (850 kB)\n",
            "\u001b[K     |████████████████████████████████| 850 kB 5.1 MB/s \n",
            "\u001b[?25hBuilding wheels for collected packages: peewee\n",
            "  Building wheel for peewee (setup.py) ... \u001b[?25l\u001b[?25hdone\n",
            "  Created wheel for peewee: filename=peewee-3.14.8-cp37-cp37m-linux_x86_64.whl size=614549 sha256=7d71726934205ccc188fca941fbca84f67975b2b7ddd3c926523f86ce72db2b4\n",
            "  Stored in directory: /root/.cache/pip/wheels/eb/72/f3/8b7b2ae199059c7d6f7686d342c7afdc7b703280a79848defd\n",
            "Successfully built peewee\n",
            "Installing collected packages: peewee\n",
            "Successfully installed peewee-3.14.8\n"
          ]
        }
      ]
    },
    {
      "cell_type": "code",
      "metadata": {
        "id": "DEJcDpuG4JHt"
      },
      "source": [
        "# crea base de datos\n",
        "from peewee import *\n",
        "import datetime\n",
        "\n",
        "try:\n",
        "    db = SqliteDatabase('nivel_avanzado.db')\n",
        "    class BaseModel(Model):\n",
        "        class Meta:\n",
        "            database = db\n",
        "    class Noticia(BaseModel):\n",
        "        titulo = CharField(unique = True)\n",
        "#        descripcio = TextField()\n",
        "        fecha = DateTimeField()\n",
        "        estado_de_publicacion = BooleanField(default=True)\n",
        "    db.connect()\n",
        "    db.create_tables([Noticia])\n",
        "except:\n",
        "    print(\"mmmm\")"
      ],
      "execution_count": null,
      "outputs": []
    },
    {
      "cell_type": "code",
      "metadata": {
        "id": "0vpGsG4q4fpZ"
      },
      "source": [
        "import peewee"
      ],
      "execution_count": null,
      "outputs": []
    },
    {
      "cell_type": "code",
      "metadata": {
        "colab": {
          "base_uri": "https://localhost:8080/"
        },
        "id": "-n1PsA6g5xR-",
        "outputId": "7f86c221-5ce6-4cf0-b5e3-31a1b1c16109"
      },
      "source": [
        "peewee.DateTimeField"
      ],
      "execution_count": null,
      "outputs": [
        {
          "output_type": "execute_result",
          "data": {
            "text/plain": [
              "peewee.DateTimeField"
            ]
          },
          "metadata": {},
          "execution_count": 21
        }
      ]
    },
    {
      "cell_type": "code",
      "metadata": {
        "id": "96m8w8MW6Kbm"
      },
      "source": [
        "from peewee import SqliteDatabase, AutoField, CharField, DateField, ForeignKeyField, Model\n",
        "\n",
        "db = SqliteDatabase('academia.db')\n",
        "\n",
        "class Profesores(Model):\n",
        "   maestro_id = AutoField()\n",
        "   nombre = CharField()\n",
        "   apellido = CharField()\n",
        "   telefono = CharField()\n",
        "   email = CharField(unique=True)\n",
        "\n",
        "   class Meta:\n",
        "       database = db\n",
        "\n",
        "class Clases(Model):\n",
        "   clase_id = AutoField()\n",
        "   cod_curso = CharField()\n",
        "   fecha_inicio_curso = DateField()\n",
        "   fecha_fin_curso = DateField()\n",
        "   horario = CharField()\n",
        "   maestro_id = ForeignKeyField(Profesores)\n",
        "\n",
        "   class Meta:\n",
        "       database = db\n",
        "\n",
        "db.connect()\n",
        "db.create_tables([Profesores, Clases])"
      ],
      "execution_count": null,
      "outputs": []
    },
    {
      "cell_type": "code",
      "metadata": {
        "id": "-wL_QOM87Ech"
      },
      "source": [
        "# select\n",
        "for profesor in Profesores.select():\n",
        "     print('Nombre: {} - Apellido: {} - Teléfono: {} - Email: {}'\n",
        "     .format(profesor.nombre, profesor.apellido, profesor.telefono, profesor.email))"
      ],
      "execution_count": null,
      "outputs": []
    },
    {
      "cell_type": "code",
      "metadata": {
        "id": "iirLyxND9cDB"
      },
      "source": [
        "# consulta\n",
        "query = (Profesores\n",
        "        .select(Profesores, Clases)\n",
        "        .join(Clases)\n",
        "        .group_by(Clases.cod_curso)\n",
        "        .where(Profesores.maestro_id == Clases.maestro_id))\n",
        "\n",
        "for curso in query:\n",
        "   print('El curso {} esta comienza el {} y termina el {}, y va ser impartido por {} {}'\n",
        "   .format(curso.clases.cod_curso, curso.clases.fecha_inicio_curso, curso.clases.fecha_fin_curso, curso.nombre, curso.apellido))"
      ],
      "execution_count": null,
      "outputs": []
    },
    {
      "cell_type": "code",
      "metadata": {
        "id": "ELxt2J_d9oLv"
      },
      "source": [
        "# Acá hacemos un JOIN de la tabla de “Profesores” con la tabla “Clases” y seleccionamos todos los campos de ambas tablas, utilizando un WHERE donde el maestro_id es igual en cada tabla, su sentencia SQL sería la siguiente:\n",
        "SELECT \"t1\".\"maestro_id\", \"t1\".\"nombre\", \"t1\".\"apellido\", \"t1\".\"telefono\", \"t1\".\"email\", \"t2\".\"clase_id\", \"t2\".\"cod_curso\", \"t2\".\"fecha_inicio_curso\", \"t2\".\"fecha_fin_curso\", \"t2\".\"horario\", \"t2\".\"maestro_id\" FROM \"profesores\" AS\n",
        " \"t1\" INNER JOIN \"clases\" AS \"t2\" ON (\"t2\".\"maestro_id\" = \"t1\".\"maestro_id\") WHERE (\"t1\".\"maestro_id\" = \"t2\".\"maestro_id\") GROUP BY \"t2\".\"cod_curso\""
      ],
      "execution_count": null,
      "outputs": []
    },
    {
      "cell_type": "code",
      "metadata": {
        "id": "G1rAcc3A--wD"
      },
      "source": [
        "# actualiza\n",
        "chamo_update = Profesores.update(nombre='Alvaro').where(Profesores.maestro_id == 1).execute()"
      ],
      "execution_count": null,
      "outputs": []
    },
    {
      "cell_type": "code",
      "metadata": {
        "id": "fdZX7vcq_GxR"
      },
      "source": [
        "# borra\n",
        "go_delete = Clases.delete().where(Clases.cod_curso == 'go_101').execute()\n"
      ],
      "execution_count": null,
      "outputs": []
    },
    {
      "cell_type": "code",
      "metadata": {
        "id": "vQCVphqf_Of-"
      },
      "source": [
        "from peewee import *\n",
        "\n",
        "db = SqliteDatabase('people.db')\n",
        "\n",
        "class Person(Model):\n",
        "    name = CharField()\n",
        "    birthday = DateField()\n",
        "\n",
        "    class Meta:\n",
        "        database = db # This model uses the \"people.db\" database."
      ],
      "execution_count": null,
      "outputs": []
    },
    {
      "cell_type": "code",
      "metadata": {
        "id": "NophBahoAFpH"
      },
      "source": [
        "class Pet(Model):\n",
        "    owner = ForeignKeyField(Person, backref='pets')\n",
        "    name = CharField()\n",
        "    animal_type = CharField()\n",
        "\n",
        "    class Meta:\n",
        "        database = db # this model uses the \"people.db\" database"
      ],
      "execution_count": null,
      "outputs": []
    },
    {
      "cell_type": "code",
      "metadata": {
        "colab": {
          "base_uri": "https://localhost:8080/"
        },
        "id": "v5IKaRJFAOSI",
        "outputId": "170aebf3-89bb-46b3-e72b-542b0c8ff879"
      },
      "source": [
        "db.connect() # conectamos con la base de datos"
      ],
      "execution_count": null,
      "outputs": [
        {
          "output_type": "execute_result",
          "data": {
            "text/plain": [
              "True"
            ]
          },
          "metadata": {},
          "execution_count": 41
        }
      ]
    },
    {
      "cell_type": "code",
      "metadata": {
        "id": "0CahsnkfAYuu"
      },
      "source": [
        "db.create_tables([Person, Pet]) # creamos tablas"
      ],
      "execution_count": null,
      "outputs": []
    },
    {
      "cell_type": "code",
      "metadata": {
        "id": "Za8A0BitAeUP"
      },
      "source": [
        "from datetime import date"
      ],
      "execution_count": null,
      "outputs": []
    },
    {
      "cell_type": "code",
      "metadata": {
        "colab": {
          "base_uri": "https://localhost:8080/"
        },
        "id": "oDdFIeE8AibO",
        "outputId": "d4da6cdf-537d-464d-ae80-6b61b8c9cb8e"
      },
      "source": [
        "# cargamos bd\n",
        "uncle_bob = Person(name='Bob', birthday=date(1960, 1, 15))\n",
        "uncle_bob.save() # bob is now stored in the database"
      ],
      "execution_count": null,
      "outputs": [
        {
          "output_type": "execute_result",
          "data": {
            "text/plain": [
              "1"
            ]
          },
          "metadata": {},
          "execution_count": 44
        }
      ]
    },
    {
      "cell_type": "code",
      "metadata": {
        "id": "ne11ZijCAnGF"
      },
      "source": [
        "# otra forma\n",
        "grandma = Person.create(name='Grandma', birthday=date(1935, 3, 1))\n",
        "herb = Person.create(name='Herb', birthday=date(1950, 5, 5))"
      ],
      "execution_count": null,
      "outputs": []
    },
    {
      "cell_type": "code",
      "metadata": {
        "colab": {
          "base_uri": "https://localhost:8080/"
        },
        "id": "DixbIC6FAuiY",
        "outputId": "51689e2e-7f9b-4751-96dd-5b69fcbf3b81"
      },
      "source": [
        "# actualiza una fila\n",
        "grandma.name = 'Grandma L.'\n",
        "grandma.save()  # Update grandma's name in the database.\n",
        "# Returns: 1"
      ],
      "execution_count": null,
      "outputs": [
        {
          "output_type": "execute_result",
          "data": {
            "text/plain": [
              "1"
            ]
          },
          "metadata": {},
          "execution_count": 46
        }
      ]
    },
    {
      "cell_type": "code",
      "metadata": {
        "id": "Rkj2tbo1A1Hl"
      },
      "source": [
        "# ya almacenamos tres personas ahora le agregamos mascotas\n",
        "bob_kitty = Pet.create(owner=uncle_bob, name='Kitty', animal_type='cat')\n",
        "herb_fido = Pet.create(owner=herb, name='Fido', animal_type='dog')\n",
        "herb_mittens = Pet.create(owner=herb, name='Mittens', animal_type='cat')\n",
        "herb_mittens_jr = Pet.create(owner=herb, name='Mittens Jr', animal_type='cat')"
      ],
      "execution_count": null,
      "outputs": []
    },
    {
      "cell_type": "code",
      "metadata": {
        "colab": {
          "base_uri": "https://localhost:8080/"
        },
        "id": "rQxcR3JhA-xG",
        "outputId": "0370609a-69c1-41c0-8fed-ba4052f138a4"
      },
      "source": [
        "# eliminamos una mascota\n",
        "herb_mittens.delete_instance() # he had a great life\n",
        "# Returns: 1"
      ],
      "execution_count": null,
      "outputs": [
        {
          "output_type": "execute_result",
          "data": {
            "text/plain": [
              "1"
            ]
          },
          "metadata": {},
          "execution_count": 49
        }
      ]
    },
    {
      "cell_type": "code",
      "metadata": {
        "colab": {
          "base_uri": "https://localhost:8080/"
        },
        "id": "38LEyHaFCEbr",
        "outputId": "eab2b0f6-ea96-4bd7-8346-784f3967291e"
      },
      "source": [
        "# le agregamos otra mascota a bob\n",
        "herb_fido.owner = uncle_bob\n",
        "herb_fido.save()"
      ],
      "execution_count": null,
      "outputs": [
        {
          "output_type": "execute_result",
          "data": {
            "text/plain": [
              "1"
            ]
          },
          "metadata": {},
          "execution_count": 58
        }
      ]
    },
    {
      "cell_type": "code",
      "metadata": {
        "id": "b9hRKPX1BEND"
      },
      "source": [
        "grandma = Person.select().where(Person.name == 'Grandma L.').get() # obtener datos unicos"
      ],
      "execution_count": null,
      "outputs": []
    },
    {
      "cell_type": "code",
      "metadata": {
        "id": "m8xt9Ii9BSd9"
      },
      "source": [
        "grandma = Person.get(Person.name == 'Grandma L.') # otra forma"
      ],
      "execution_count": null,
      "outputs": []
    },
    {
      "cell_type": "code",
      "metadata": {
        "colab": {
          "base_uri": "https://localhost:8080/"
        },
        "id": "w47Qsp6dBW7v",
        "outputId": "59935678-5b87-4fb0-fecf-48196ad52d1a"
      },
      "source": [
        "# listar registros\n",
        "for person in Person.select():\n",
        "    print(person.name)"
      ],
      "execution_count": null,
      "outputs": [
        {
          "output_type": "stream",
          "name": "stdout",
          "text": [
            "Bob\n",
            "Grandma L.\n",
            "Herb\n"
          ]
        }
      ]
    },
    {
      "cell_type": "code",
      "metadata": {
        "colab": {
          "base_uri": "https://localhost:8080/"
        },
        "id": "KDDMN_G3BbD8",
        "outputId": "6e45a8aa-89f8-4501-e8c9-7516d1898d52"
      },
      "source": [
        "# listar gatos y nombres de los dueños\n",
        "query = Pet.select().where(Pet.animal_type == 'cat')\n",
        "for pet in query:\n",
        "    print(pet.name, pet.owner.name)"
      ],
      "execution_count": null,
      "outputs": [
        {
          "output_type": "stream",
          "name": "stdout",
          "text": [
            "Kitty Bob\n",
            "Mittens Jr Herb\n"
          ]
        }
      ]
    },
    {
      "cell_type": "code",
      "metadata": {
        "colab": {
          "base_uri": "https://localhost:8080/"
        },
        "id": "C0f2CGcaBimN",
        "outputId": "d2c25685-801c-4d99-86e6-9b2dc8c7b58f"
      },
      "source": [
        "# evitar las consultas adicionales seleccionando tanto Mascota como Persona , y agregando una combinación\n",
        "query = (Pet\n",
        "         .select(Pet, Person)\n",
        "         .join(Person)\n",
        "         .where(Pet.animal_type == 'cat'))\n",
        "\n",
        "for pet in query:\n",
        "    print(pet.name, pet.owner.name)"
      ],
      "execution_count": null,
      "outputs": [
        {
          "output_type": "stream",
          "name": "stdout",
          "text": [
            "Kitty Bob\n",
            "Mittens Jr Herb\n"
          ]
        }
      ]
    },
    {
      "cell_type": "code",
      "metadata": {
        "colab": {
          "base_uri": "https://localhost:8080/"
        },
        "id": "ldoqKewBBxE0",
        "outputId": "938e9f46-1997-4e27-e581-ff7e23101f06"
      },
      "source": [
        "# todas las mascotas de bob\n",
        "for pet in Pet.select().join(Person).where(Person.name == 'Bob'):\n",
        "    print(pet.name)"
      ],
      "execution_count": null,
      "outputs": [
        {
          "output_type": "stream",
          "name": "stdout",
          "text": [
            "Kitty\n",
            "Fido\n"
          ]
        }
      ]
    },
    {
      "cell_type": "code",
      "metadata": {
        "colab": {
          "base_uri": "https://localhost:8080/"
        },
        "id": "gWkz_ewBB8An",
        "outputId": "89cd80af-7a82-4b2b-ed82-1f4a5c86e6d5"
      },
      "source": [
        "# ordenado alfabeticamente\n",
        "for pet in Pet.select().where(Pet.owner == uncle_bob).order_by(Pet.name):\n",
        "    print(pet.name)"
      ],
      "execution_count": null,
      "outputs": [
        {
          "output_type": "stream",
          "name": "stdout",
          "text": [
            "Fido\n",
            "Kitty\n"
          ]
        }
      ]
    },
    {
      "cell_type": "code",
      "metadata": {
        "colab": {
          "base_uri": "https://localhost:8080/"
        },
        "id": "GsE9n6mBCX33",
        "outputId": "74ea5d48-9c0d-476c-82a7-b8619c17d727"
      },
      "source": [
        "# listar personas de menor a mayor\n",
        "for person in Person.select().order_by(Person.birthday.desc()):\n",
        "    print(person.name, person.birthday)"
      ],
      "execution_count": null,
      "outputs": [
        {
          "output_type": "stream",
          "name": "stdout",
          "text": [
            "Bob 1960-01-15\n",
            "Herb 1950-05-05\n",
            "Grandma L. 1935-03-01\n"
          ]
        }
      ]
    },
    {
      "cell_type": "code",
      "metadata": {
        "id": "cCbd6bLCCfgd"
      },
      "source": [
        "from playhouse.sqlite_ext import SqliteExtDatabase\n",
        "\n",
        "db = SqliteExtDatabase('my_app.db', pragmas=(\n",
        "    ('cache_size', -1024 * 64),  # 64MB page-cache.\n",
        "    ('journal_mode', 'wal'),  # Use WAL-mode (you should always use this!).\n",
        "    ('foreign_keys', 1)))  # Enforce foreign-key constraints."
      ],
      "execution_count": null,
      "outputs": []
    },
    {
      "cell_type": "code",
      "metadata": {
        "id": "1MlMobmjC-ZD"
      },
      "source": [
        "db = CSqliteExtDatabase(':memory:')\n",
        "\n",
        "@db.on_commit\n",
        "def on_commit():\n",
        "    logger.info('COMMITing changes')"
      ],
      "execution_count": null,
      "outputs": []
    },
    {
      "cell_type": "code",
      "metadata": {
        "id": "m75I1j93DKFx"
      },
      "source": [
        "db.close.\n"
      ],
      "execution_count": null,
      "outputs": []
    },
    {
      "cell_type": "code",
      "source": [
        ""
      ],
      "metadata": {
        "id": "14gIdRgI_KjQ"
      },
      "execution_count": null,
      "outputs": []
    }
  ]
}
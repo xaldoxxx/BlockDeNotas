{
  "nbformat": 4,
  "nbformat_minor": 0,
  "metadata": {
    "colab": {
      "name": "scraPY002.ipynb",
      "provenance": [],
      "include_colab_link": true
    },
    "kernelspec": {
      "name": "python3",
      "display_name": "Python 3"
    },
    "language_info": {
      "name": "python"
    }
  },
  "cells": [
    {
      "cell_type": "markdown",
      "metadata": {
        "id": "view-in-github",
        "colab_type": "text"
      },
      "source": [
        "<a href=\"https://colab.research.google.com/github/xaldoxxx/curiosidades/blob/main/scraPY002.ipynb\" target=\"_parent\"><img src=\"https://colab.research.google.com/assets/colab-badge.svg\" alt=\"Open In Colab\"/></a>"
      ]
    },
    {
      "cell_type": "code",
      "execution_count": 35,
      "metadata": {
        "id": "T5tZBZUPG1ws"
      },
      "outputs": [],
      "source": [
        "# http://www.pythonchallenge.com/\n",
        "# https://www.pythonanywhere.com/login/?next=/\n",
        "# https://docs.scrapy.org/en/latest/intro/tutorial.html"
      ]
    },
    {
      "cell_type": "code",
      "source": [
        "!pip install scrapy"
      ],
      "metadata": {
        "id": "HRGXRQlmg4kz"
      },
      "execution_count": null,
      "outputs": []
    },
    {
      "cell_type": "code",
      "source": [
        "!scrapy startproject tutorial"
      ],
      "metadata": {
        "colab": {
          "base_uri": "https://localhost:8080/"
        },
        "id": "ajCXDg2qhm7B",
        "outputId": "4e8fdf83-7a28-4515-ccb3-4141567b83bc"
      },
      "execution_count": 25,
      "outputs": [
        {
          "output_type": "stream",
          "name": "stdout",
          "text": [
            "Error: Module 'tutorial' already exists\n"
          ]
        }
      ]
    },
    {
      "cell_type": "code",
      "source": [
        "# %cd /content/tutorial/tutorial/spiders"
      ],
      "metadata": {
        "colab": {
          "base_uri": "https://localhost:8080/"
        },
        "id": "M_irq7y5hm4F",
        "outputId": "7017aa83-e153-4a96-f6c3-3a8c7d390b75"
      },
      "execution_count": 26,
      "outputs": [
        {
          "output_type": "stream",
          "name": "stdout",
          "text": [
            "/content/tutorial/tutorial/spiders\n"
          ]
        }
      ]
    },
    {
      "cell_type": "code",
      "source": [
        "!scrapy genspider quotes_spider mercadolibre.com.ar # !touch quotes_spider"
      ],
      "metadata": {
        "id": "Bur0Stm3hm1V",
        "colab": {
          "base_uri": "https://localhost:8080/"
        },
        "outputId": "82bdee66-6b4c-408f-8f56-cfd4699b6050"
      },
      "execution_count": 27,
      "outputs": [
        {
          "output_type": "stream",
          "name": "stdout",
          "text": [
            "/content/tutorial/tutorial/spiders/quotes_spider.py already exists\n"
          ]
        }
      ]
    },
    {
      "cell_type": "code",
      "source": [
        "%cd /content/tutorial"
      ],
      "metadata": {
        "id": "aLMRwR5NnPgI",
        "colab": {
          "base_uri": "https://localhost:8080/"
        },
        "outputId": "6bde9e73-d725-4dfc-b106-063653e270cb"
      },
      "execution_count": 28,
      "outputs": [
        {
          "output_type": "stream",
          "name": "stdout",
          "text": [
            "/content/tutorial\n"
          ]
        }
      ]
    },
    {
      "cell_type": "markdown",
      "source": [
        "en /content/tutorial/tutorial/spiders/quotes_spider.py\n",
        "\n",
        "\n",
        "    import scrapy\n",
        "\n",
        "\n",
        "    class QuotesSpider(scrapy.Spider):\n",
        "        name = \"quotes_spider\"\n",
        "\n",
        "        def start_requests(self):\n",
        "            urls = [\n",
        "                'http://quotes.toscrape.com/page/1/',\n",
        "                'http://quotes.toscrape.com/page/2/',\n",
        "            ]\n",
        "            for url in urls:\n",
        "                yield scrapy.Request(url=url, callback=self.parse)\n",
        "\n",
        "        def parse(self, response):\n",
        "            page = response.url.split(\"/\")[-2]\n",
        "            filename = f'quotes-{page}.html'\n",
        "            with open(filename, 'wb') as f:\n",
        "                f.write(response.body)\n",
        "            self.log(f'Saved file {filename}')"
      ],
      "metadata": {
        "id": "5whR92v9m5uL"
      }
    },
    {
      "cell_type": "markdown",
      "source": [
        "para ejecutar la araña \n",
        "\n",
        "\n",
        "    scrapy crawl quotes\n"
      ],
      "metadata": {
        "id": "k-jJG66AnF72"
      }
    },
    {
      "cell_type": "code",
      "source": [
        "!scrapy crawl quotes_spider #guarda la página HTML completa en un archivo local"
      ],
      "metadata": {
        "id": "J7EzHUN2hmeo"
      },
      "execution_count": null,
      "outputs": []
    },
    {
      "cell_type": "code",
      "source": [
        "!ls"
      ],
      "metadata": {
        "id": "KQ_eLQ9IhLOr"
      },
      "execution_count": null,
      "outputs": []
    },
    {
      "cell_type": "markdown",
      "source": [
        "OTRa FORMA... JUGAR CON LA SHELL usando selectores\n",
        "\n",
        "    response.css('title')\n",
        "    response.css('title::text').getall()\n",
        "    response.css('title::text').get()\n",
        "    response.css(\"div.quote\")\n",
        "    quote = response.css(\"div.quote\")[0]\n",
        "    text = quote.css(\"span.text::text\").get()\n",
        "    author = quote.css(\"small.author::text\").get()\n",
        "    author\n",
        "    quote.css(\"div.tags a.tag::text\").getall()\n",
        "    response.xpath('//title')\n"
      ],
      "metadata": {
        "id": "q9pNAkePuMGN"
      }
    },
    {
      "cell_type": "code",
      "source": [
        "!scrapy shell \"http://quotes.toscrape.com/page/1/\" # seleccionando elementos desde la shell"
      ],
      "metadata": {
        "id": "emobSUIBpgJ2"
      },
      "execution_count": null,
      "outputs": []
    },
    {
      "cell_type": "markdown",
      "source": [
        "volvamos a nuestro /content/tutorial/tutorial/spiders/quotes_spider.py\n",
        "\n",
        "    import scrapy\n",
        "\n",
        "\n",
        "    class QuotesSpider(scrapy.Spider):\n",
        "        name = \"quotes_spider\"\n",
        "        start_urls = [\n",
        "            'http://quotes.toscrape.com/page/1/',\n",
        "            'http://quotes.toscrape.com/page/2/',\n",
        "        ]\n",
        "\n",
        "        def parse(self, response):\n",
        "            for quote in response.css('div.quote'):\n",
        "                yield {\n",
        "                    'text': quote.css('span.text::text').get(),\n",
        "                    'author': quote.css('small.author::text').get(),\n",
        "                    'tags': quote.css('div.tags a.tag::text').getall(),\n",
        "                }\n",
        "\n",
        "\n",
        "Esto generará los datos extraídos con un registro diccionario"
      ],
      "metadata": {
        "id": "NaaR94zr2Qp9"
      }
    },
    {
      "cell_type": "code",
      "source": [
        "!scrapy crawl quotes_spider"
      ],
      "metadata": {
        "colab": {
          "base_uri": "https://localhost:8080/"
        },
        "id": "PW4s3MjmuSNy",
        "outputId": "7a357b3d-5cd1-4417-cc9e-aec4a0c0c60d"
      },
      "execution_count": 36,
      "outputs": [
        {
          "output_type": "stream",
          "name": "stdout",
          "text": [
            "2022-02-05 07:50:53 [scrapy.utils.log] INFO: Scrapy 2.5.1 started (bot: tutorial)\n",
            "2022-02-05 07:50:53 [scrapy.utils.log] INFO: Versions: lxml 4.2.6.0, libxml2 2.9.8, cssselect 1.1.0, parsel 1.6.0, w3lib 1.22.0, Twisted 21.7.0, Python 3.7.12 (default, Jan 15 2022, 18:48:18) - [GCC 7.5.0], pyOpenSSL 22.0.0 (OpenSSL 1.1.1m  14 Dec 2021), cryptography 36.0.1, Platform Linux-5.4.144+-x86_64-with-Ubuntu-18.04-bionic\n",
            "2022-02-05 07:50:53 [scrapy.utils.log] DEBUG: Using reactor: twisted.internet.epollreactor.EPollReactor\n",
            "2022-02-05 07:50:53 [scrapy.crawler] INFO: Overridden settings:\n",
            "{'BOT_NAME': 'tutorial',\n",
            " 'NEWSPIDER_MODULE': 'tutorial.spiders',\n",
            " 'ROBOTSTXT_OBEY': True,\n",
            " 'SPIDER_MODULES': ['tutorial.spiders']}\n",
            "2022-02-05 07:50:53 [scrapy.extensions.telnet] INFO: Telnet Password: d3a503135b35b513\n",
            "2022-02-05 07:50:53 [scrapy.middleware] INFO: Enabled extensions:\n",
            "['scrapy.extensions.corestats.CoreStats',\n",
            " 'scrapy.extensions.telnet.TelnetConsole',\n",
            " 'scrapy.extensions.memusage.MemoryUsage',\n",
            " 'scrapy.extensions.logstats.LogStats']\n",
            "2022-02-05 07:50:53 [scrapy.middleware] INFO: Enabled downloader middlewares:\n",
            "['scrapy.downloadermiddlewares.robotstxt.RobotsTxtMiddleware',\n",
            " 'scrapy.downloadermiddlewares.httpauth.HttpAuthMiddleware',\n",
            " 'scrapy.downloadermiddlewares.downloadtimeout.DownloadTimeoutMiddleware',\n",
            " 'scrapy.downloadermiddlewares.defaultheaders.DefaultHeadersMiddleware',\n",
            " 'scrapy.downloadermiddlewares.useragent.UserAgentMiddleware',\n",
            " 'scrapy.downloadermiddlewares.retry.RetryMiddleware',\n",
            " 'scrapy.downloadermiddlewares.redirect.MetaRefreshMiddleware',\n",
            " 'scrapy.downloadermiddlewares.httpcompression.HttpCompressionMiddleware',\n",
            " 'scrapy.downloadermiddlewares.redirect.RedirectMiddleware',\n",
            " 'scrapy.downloadermiddlewares.cookies.CookiesMiddleware',\n",
            " 'scrapy.downloadermiddlewares.httpproxy.HttpProxyMiddleware',\n",
            " 'scrapy.downloadermiddlewares.stats.DownloaderStats']\n",
            "2022-02-05 07:50:53 [scrapy.middleware] INFO: Enabled spider middlewares:\n",
            "['scrapy.spidermiddlewares.httperror.HttpErrorMiddleware',\n",
            " 'scrapy.spidermiddlewares.offsite.OffsiteMiddleware',\n",
            " 'scrapy.spidermiddlewares.referer.RefererMiddleware',\n",
            " 'scrapy.spidermiddlewares.urllength.UrlLengthMiddleware',\n",
            " 'scrapy.spidermiddlewares.depth.DepthMiddleware']\n",
            "2022-02-05 07:50:53 [scrapy.middleware] INFO: Enabled item pipelines:\n",
            "[]\n",
            "2022-02-05 07:50:53 [scrapy.core.engine] INFO: Spider opened\n",
            "2022-02-05 07:50:53 [scrapy.extensions.logstats] INFO: Crawled 0 pages (at 0 pages/min), scraped 0 items (at 0 items/min)\n",
            "2022-02-05 07:50:53 [scrapy.extensions.telnet] INFO: Telnet console listening on 127.0.0.1:6023\n",
            "2022-02-05 07:50:53 [scrapy.core.engine] DEBUG: Crawled (404) <GET http://quotes.toscrape.com/robots.txt> (referer: None)\n",
            "2022-02-05 07:50:53 [scrapy.core.engine] DEBUG: Crawled (200) <GET http://quotes.toscrape.com/page/1/> (referer: None)\n",
            "2022-02-05 07:50:53 [scrapy.core.engine] DEBUG: Crawled (200) <GET http://quotes.toscrape.com/page/2/> (referer: None)\n",
            "2022-02-05 07:50:53 [scrapy.core.scraper] DEBUG: Scraped from <200 http://quotes.toscrape.com/page/1/>\n",
            "{'text': '“The world as we have created it is a process of our thinking. It cannot be changed without changing our thinking.”', 'author': 'Albert Einstein', 'tags': ['change', 'deep-thoughts', 'thinking', 'world']}\n",
            "2022-02-05 07:50:53 [scrapy.core.scraper] DEBUG: Scraped from <200 http://quotes.toscrape.com/page/1/>\n",
            "{'text': '“It is our choices, Harry, that show what we truly are, far more than our abilities.”', 'author': 'J.K. Rowling', 'tags': ['abilities', 'choices']}\n",
            "2022-02-05 07:50:53 [scrapy.core.scraper] DEBUG: Scraped from <200 http://quotes.toscrape.com/page/1/>\n",
            "{'text': '“There are only two ways to live your life. One is as though nothing is a miracle. The other is as though everything is a miracle.”', 'author': 'Albert Einstein', 'tags': ['inspirational', 'life', 'live', 'miracle', 'miracles']}\n",
            "2022-02-05 07:50:53 [scrapy.core.scraper] DEBUG: Scraped from <200 http://quotes.toscrape.com/page/1/>\n",
            "{'text': '“The person, be it gentleman or lady, who has not pleasure in a good novel, must be intolerably stupid.”', 'author': 'Jane Austen', 'tags': ['aliteracy', 'books', 'classic', 'humor']}\n",
            "2022-02-05 07:50:53 [scrapy.core.scraper] DEBUG: Scraped from <200 http://quotes.toscrape.com/page/1/>\n",
            "{'text': \"“Imperfection is beauty, madness is genius and it's better to be absolutely ridiculous than absolutely boring.”\", 'author': 'Marilyn Monroe', 'tags': ['be-yourself', 'inspirational']}\n",
            "2022-02-05 07:50:53 [scrapy.core.scraper] DEBUG: Scraped from <200 http://quotes.toscrape.com/page/1/>\n",
            "{'text': '“Try not to become a man of success. Rather become a man of value.”', 'author': 'Albert Einstein', 'tags': ['adulthood', 'success', 'value']}\n",
            "2022-02-05 07:50:53 [scrapy.core.scraper] DEBUG: Scraped from <200 http://quotes.toscrape.com/page/1/>\n",
            "{'text': '“It is better to be hated for what you are than to be loved for what you are not.”', 'author': 'André Gide', 'tags': ['life', 'love']}\n",
            "2022-02-05 07:50:53 [scrapy.core.scraper] DEBUG: Scraped from <200 http://quotes.toscrape.com/page/1/>\n",
            "{'text': \"“I have not failed. I've just found 10,000 ways that won't work.”\", 'author': 'Thomas A. Edison', 'tags': ['edison', 'failure', 'inspirational', 'paraphrased']}\n",
            "2022-02-05 07:50:53 [scrapy.core.scraper] DEBUG: Scraped from <200 http://quotes.toscrape.com/page/1/>\n",
            "{'text': \"“A woman is like a tea bag; you never know how strong it is until it's in hot water.”\", 'author': 'Eleanor Roosevelt', 'tags': ['misattributed-eleanor-roosevelt']}\n",
            "2022-02-05 07:50:53 [scrapy.core.scraper] DEBUG: Scraped from <200 http://quotes.toscrape.com/page/1/>\n",
            "{'text': '“A day without sunshine is like, you know, night.”', 'author': 'Steve Martin', 'tags': ['humor', 'obvious', 'simile']}\n",
            "2022-02-05 07:50:53 [scrapy.core.scraper] DEBUG: Scraped from <200 http://quotes.toscrape.com/page/2/>\n",
            "{'text': \"“This life is what you make it. No matter what, you're going to mess up sometimes, it's a universal truth. But the good part is you get to decide how you're going to mess it up. Girls will be your friends - they'll act like it anyway. But just remember, some come, some go. The ones that stay with you through everything - they're your true best friends. Don't let go of them. Also remember, sisters make the best friends in the world. As for lovers, well, they'll come and go too. And baby, I hate to say it, most of them - actually pretty much all of them are going to break your heart, but you can't give up because if you give up, you'll never find your soulmate. You'll never find that half who makes you whole and that goes for everything. Just because you fail once, doesn't mean you're gonna fail at everything. Keep trying, hold on, and always, always, always believe in yourself, because if you don't, then who will, sweetie? So keep your head high, keep your chin up, and most importantly, keep smiling, because life's a beautiful thing and there's so much to smile about.”\", 'author': 'Marilyn Monroe', 'tags': ['friends', 'heartbreak', 'inspirational', 'life', 'love', 'sisters']}\n",
            "2022-02-05 07:50:53 [scrapy.core.scraper] DEBUG: Scraped from <200 http://quotes.toscrape.com/page/2/>\n",
            "{'text': '“It takes a great deal of bravery to stand up to our enemies, but just as much to stand up to our friends.”', 'author': 'J.K. Rowling', 'tags': ['courage', 'friends']}\n",
            "2022-02-05 07:50:53 [scrapy.core.scraper] DEBUG: Scraped from <200 http://quotes.toscrape.com/page/2/>\n",
            "{'text': \"“If you can't explain it to a six year old, you don't understand it yourself.”\", 'author': 'Albert Einstein', 'tags': ['simplicity', 'understand']}\n",
            "2022-02-05 07:50:53 [scrapy.core.scraper] DEBUG: Scraped from <200 http://quotes.toscrape.com/page/2/>\n",
            "{'text': \"“You may not be her first, her last, or her only. She loved before she may love again. But if she loves you now, what else matters? She's not perfect—you aren't either, and the two of you may never be perfect together but if she can make you laugh, cause you to think twice, and admit to being human and making mistakes, hold onto her and give her the most you can. She may not be thinking about you every second of the day, but she will give you a part of her that she knows you can break—her heart. So don't hurt her, don't change her, don't analyze and don't expect more than she can give. Smile when she makes you happy, let her know when she makes you mad, and miss her when she's not there.”\", 'author': 'Bob Marley', 'tags': ['love']}\n",
            "2022-02-05 07:50:53 [scrapy.core.scraper] DEBUG: Scraped from <200 http://quotes.toscrape.com/page/2/>\n",
            "{'text': '“I like nonsense, it wakes up the brain cells. Fantasy is a necessary ingredient in living.”', 'author': 'Dr. Seuss', 'tags': ['fantasy']}\n",
            "2022-02-05 07:50:53 [scrapy.core.scraper] DEBUG: Scraped from <200 http://quotes.toscrape.com/page/2/>\n",
            "{'text': '“I may not have gone where I intended to go, but I think I have ended up where I needed to be.”', 'author': 'Douglas Adams', 'tags': ['life', 'navigation']}\n",
            "2022-02-05 07:50:53 [scrapy.core.scraper] DEBUG: Scraped from <200 http://quotes.toscrape.com/page/2/>\n",
            "{'text': \"“The opposite of love is not hate, it's indifference. The opposite of art is not ugliness, it's indifference. The opposite of faith is not heresy, it's indifference. And the opposite of life is not death, it's indifference.”\", 'author': 'Elie Wiesel', 'tags': ['activism', 'apathy', 'hate', 'indifference', 'inspirational', 'love', 'opposite', 'philosophy']}\n",
            "2022-02-05 07:50:53 [scrapy.core.scraper] DEBUG: Scraped from <200 http://quotes.toscrape.com/page/2/>\n",
            "{'text': '“It is not a lack of love, but a lack of friendship that makes unhappy marriages.”', 'author': 'Friedrich Nietzsche', 'tags': ['friendship', 'lack-of-friendship', 'lack-of-love', 'love', 'marriage', 'unhappy-marriage']}\n",
            "2022-02-05 07:50:53 [scrapy.core.scraper] DEBUG: Scraped from <200 http://quotes.toscrape.com/page/2/>\n",
            "{'text': '“Good friends, good books, and a sleepy conscience: this is the ideal life.”', 'author': 'Mark Twain', 'tags': ['books', 'contentment', 'friends', 'friendship', 'life']}\n",
            "2022-02-05 07:50:53 [scrapy.core.scraper] DEBUG: Scraped from <200 http://quotes.toscrape.com/page/2/>\n",
            "{'text': '“Life is what happens to us while we are making other plans.”', 'author': 'Allen Saunders', 'tags': ['fate', 'life', 'misattributed-john-lennon', 'planning', 'plans']}\n",
            "2022-02-05 07:50:53 [scrapy.core.engine] INFO: Closing spider (finished)\n",
            "2022-02-05 07:50:53 [scrapy.statscollectors] INFO: Dumping Scrapy stats:\n",
            "{'downloader/request_bytes': 681,\n",
            " 'downloader/request_count': 3,\n",
            " 'downloader/request_method_count/GET': 3,\n",
            " 'downloader/response_bytes': 5678,\n",
            " 'downloader/response_count': 3,\n",
            " 'downloader/response_status_count/200': 2,\n",
            " 'downloader/response_status_count/404': 1,\n",
            " 'elapsed_time_seconds': 0.282073,\n",
            " 'finish_reason': 'finished',\n",
            " 'finish_time': datetime.datetime(2022, 2, 5, 7, 50, 53, 731166),\n",
            " 'httpcompression/response_bytes': 24787,\n",
            " 'httpcompression/response_count': 2,\n",
            " 'item_scraped_count': 20,\n",
            " 'log_count/DEBUG': 23,\n",
            " 'log_count/INFO': 10,\n",
            " 'memusage/max': 115208192,\n",
            " 'memusage/startup': 115208192,\n",
            " 'response_received_count': 3,\n",
            " 'robotstxt/request_count': 1,\n",
            " 'robotstxt/response_count': 1,\n",
            " 'robotstxt/response_status_count/404': 1,\n",
            " 'scheduler/dequeued': 2,\n",
            " 'scheduler/dequeued/memory': 2,\n",
            " 'scheduler/enqueued': 2,\n",
            " 'scheduler/enqueued/memory': 2,\n",
            " 'start_time': datetime.datetime(2022, 2, 5, 7, 50, 53, 449093)}\n",
            "2022-02-05 07:50:53 [scrapy.core.engine] INFO: Spider closed (finished)\n"
          ]
        }
      ]
    },
    {
      "cell_type": "code",
      "source": [
        "!scrapy crawl quotes_spider -O quotes.json # genera almacena datos en un json"
      ],
      "metadata": {
        "id": "6Q4ePum83UbI"
      },
      "execution_count": null,
      "outputs": []
    },
    {
      "cell_type": "code",
      "source": [
        "!ls"
      ],
      "metadata": {
        "colab": {
          "base_uri": "https://localhost:8080/"
        },
        "id": "KqKBxYZTBUfh",
        "outputId": "ad6993e8-fca0-492e-8ab2-501f76c50041"
      },
      "execution_count": 39,
      "outputs": [
        {
          "output_type": "stream",
          "name": "stdout",
          "text": [
            "quotes-1.html  quotes-2.html  quotes.json  scrapy.cfg  tutorial\n"
          ]
        }
      ]
    },
    {
      "cell_type": "markdown",
      "source": [
        "El modificador -O de la línea de comandos sobrescribe cualquier archivo existente; en su lugar use -o para agregar contenido nuevo a cualquier archivo existente.\n",
        "\n",
        "\n",
        "otros formatos https://docs.scrapy.org/en/latest/topics/item-pipeline.html#topics-item-pipeline"
      ],
      "metadata": {
        "id": "bnGadxUYBtbV"
      }
    },
    {
      "cell_type": "code",
      "source": [
        ""
      ],
      "metadata": {
        "id": "CGys-IZCBYyq"
      },
      "execution_count": null,
      "outputs": []
    }
  ]
}
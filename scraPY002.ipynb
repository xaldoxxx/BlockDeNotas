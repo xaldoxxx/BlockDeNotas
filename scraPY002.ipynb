{
  "nbformat": 4,
  "nbformat_minor": 0,
  "metadata": {
    "colab": {
      "name": "scraPY002.ipynb",
      "provenance": [],
      "include_colab_link": true
    },
    "kernelspec": {
      "name": "python3",
      "display_name": "Python 3"
    },
    "language_info": {
      "name": "python"
    }
  },
  "cells": [
    {
      "cell_type": "markdown",
      "metadata": {
        "id": "view-in-github",
        "colab_type": "text"
      },
      "source": [
        "<a href=\"https://colab.research.google.com/github/xaldoxxx/curiosidades/blob/main/scraPY002.ipynb\" target=\"_parent\"><img src=\"https://colab.research.google.com/assets/colab-badge.svg\" alt=\"Open In Colab\"/></a>"
      ]
    },
    {
      "cell_type": "code",
      "execution_count": 35,
      "metadata": {
        "id": "T5tZBZUPG1ws"
      },
      "outputs": [],
      "source": [
        "# http://www.pythonchallenge.com/\n",
        "# https://www.pythonanywhere.com/login/?next=/\n",
        "# https://docs.scrapy.org/en/latest/intro/tutorial.html"
      ]
    },
    {
      "cell_type": "code",
      "source": [
        "!pip install scrapy"
      ],
      "metadata": {
        "id": "HRGXRQlmg4kz"
      },
      "execution_count": null,
      "outputs": []
    },
    {
      "cell_type": "code",
      "source": [
        "!scrapy startproject tutorial"
      ],
      "metadata": {
        "colab": {
          "base_uri": "https://localhost:8080/"
        },
        "id": "ajCXDg2qhm7B",
        "outputId": "4e8fdf83-7a28-4515-ccb3-4141567b83bc"
      },
      "execution_count": 25,
      "outputs": [
        {
          "output_type": "stream",
          "name": "stdout",
          "text": [
            "Error: Module 'tutorial' already exists\n"
          ]
        }
      ]
    },
    {
      "cell_type": "code",
      "source": [
        "%cd /content/tutorial/tutorial/spiders"
      ],
      "metadata": {
        "colab": {
          "base_uri": "https://localhost:8080/"
        },
        "id": "M_irq7y5hm4F",
        "outputId": "7017aa83-e153-4a96-f6c3-3a8c7d390b75"
      },
      "execution_count": 26,
      "outputs": [
        {
          "output_type": "stream",
          "name": "stdout",
          "text": [
            "/content/tutorial/tutorial/spiders\n"
          ]
        }
      ]
    },
    {
      "cell_type": "code",
      "source": [
        "!scrapy genspider quotes_spider mercadolibre.com.ar # !touch quotes_spider"
      ],
      "metadata": {
        "id": "Bur0Stm3hm1V",
        "colab": {
          "base_uri": "https://localhost:8080/"
        },
        "outputId": "82bdee66-6b4c-408f-8f56-cfd4699b6050"
      },
      "execution_count": 27,
      "outputs": [
        {
          "output_type": "stream",
          "name": "stdout",
          "text": [
            "/content/tutorial/tutorial/spiders/quotes_spider.py already exists\n"
          ]
        }
      ]
    },
    {
      "cell_type": "code",
      "source": [
        "%cd /content/tutorial"
      ],
      "metadata": {
        "id": "aLMRwR5NnPgI",
        "colab": {
          "base_uri": "https://localhost:8080/"
        },
        "outputId": "6bde9e73-d725-4dfc-b106-063653e270cb"
      },
      "execution_count": 28,
      "outputs": [
        {
          "output_type": "stream",
          "name": "stdout",
          "text": [
            "/content/tutorial\n"
          ]
        }
      ]
    },
    {
      "cell_type": "markdown",
      "source": [
        "en /content/tutorial/tutorial/spiders/quotes_spider.py\n",
        "\n",
        "\n",
        "    import scrapy\n",
        "\n",
        "\n",
        "    class QuotesSpider(scrapy.Spider):\n",
        "        name = \"quotes_spider\"\n",
        "\n",
        "        def start_requests(self):\n",
        "            urls = [\n",
        "                'http://quotes.toscrape.com/page/1/',\n",
        "                'http://quotes.toscrape.com/page/2/',\n",
        "            ]\n",
        "            for url in urls:\n",
        "                yield scrapy.Request(url=url, callback=self.parse)\n",
        "\n",
        "        def parse(self, response):\n",
        "            page = response.url.split(\"/\")[-2]\n",
        "            filename = f'quotes-{page}.html'\n",
        "            with open(filename, 'wb') as f:\n",
        "                f.write(response.body)\n",
        "            self.log(f'Saved file {filename}')"
      ],
      "metadata": {
        "id": "5whR92v9m5uL"
      }
    },
    {
      "cell_type": "markdown",
      "source": [
        "para ejecutar la araña \n",
        "\n",
        "\n",
        "    scrapy crawl quotes\n"
      ],
      "metadata": {
        "id": "k-jJG66AnF72"
      }
    },
    {
      "cell_type": "code",
      "source": [
        "!scrapy crawl quotes_spider #guarda la página HTML completa en un archivo local"
      ],
      "metadata": {
        "id": "J7EzHUN2hmeo"
      },
      "execution_count": null,
      "outputs": []
    },
    {
      "cell_type": "code",
      "source": [
        "!ls"
      ],
      "metadata": {
        "id": "KQ_eLQ9IhLOr"
      },
      "execution_count": null,
      "outputs": []
    },
    {
      "cell_type": "markdown",
      "source": [
        "OTRa FORMA... JUGAR CON LA SHELL usando selectores\n",
        "\n",
        "    response.css('title')\n",
        "    response.css('title::text').getall()\n",
        "    response.css('title::text').get()\n",
        "    response.css(\"div.quote\")\n",
        "    quote = response.css(\"div.quote\")[0]\n",
        "    text = quote.css(\"span.text::text\").get()\n",
        "    author = quote.css(\"small.author::text\").get()\n",
        "    author\n",
        "    quote.css(\"div.tags a.tag::text\").getall()\n",
        "    response.xpath('//title')\n"
      ],
      "metadata": {
        "id": "q9pNAkePuMGN"
      }
    },
    {
      "cell_type": "code",
      "source": [
        "!scrapy shell \"http://quotes.toscrape.com/page/1/\" # seleccionando elementos desde la shell"
      ],
      "metadata": {
        "id": "emobSUIBpgJ2"
      },
      "execution_count": null,
      "outputs": []
    },
    {
      "cell_type": "code",
      "source": [
        ""
      ],
      "metadata": {
        "id": "PW4s3MjmuSNy"
      },
      "execution_count": null,
      "outputs": []
    }
  ]
}
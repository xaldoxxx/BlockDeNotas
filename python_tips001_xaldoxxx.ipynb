{
  "nbformat": 4,
  "nbformat_minor": 0,
  "metadata": {
    "colab": {
      "name": "conceptos_python_tips001_aldoxx.ipynb",
      "provenance": []
    },
    "kernelspec": {
      "name": "python3",
      "display_name": "Python 3"
    },
    "language_info": {
      "name": "python"
    }
  },
  "cells": [
    {
      "cell_type": "markdown",
      "source": [
        "e dejamos en este correo el acceso al campus virtual.\n",
        "\n",
        "https://campus.startcoding.ai/\n",
        "Usuario: manfredialdo6@gmail.com\n",
        "\n",
        "\n",
        "\n",
        "funciones incorporadas:\n",
        "\n",
        "https://docs.python.org/3/library/functions.html?highlight=zip\n",
        "\n",
        "\n",
        "https://book.pythontips.com/en/latest/index.html\n",
        "\n",
        "\n",
        "algoritmos https://es.acervolima.com/2021/02/\n",
        "\n",
        "\n",
        "https://runebook.dev/es/docs/python/-index-\n",
        "\n",
        "\n"
      ],
      "metadata": {
        "id": "nw8CamIHqvy2"
      }
    },
    {
      "cell_type": "markdown",
      "source": [
        "ZIP\n",
        "\n",
        "\n",
        "permite combinar dos o mas iterables (ej.listas), devuelve un iterador del tipo zip. Para ver el contenido, debemos convertirlo en una lista.\n",
        "\n",
        "sintaxis:\n",
        "\n",
        "    zip(*iterables, strict=False)\n",
        "\n"
      ],
      "metadata": {
        "id": "Nne3v2E6PCov"
      }
    },
    {
      "cell_type": "code",
      "execution_count": null,
      "metadata": {
        "id": "amqAQDcaO8eh"
      },
      "outputs": [],
      "source": [
        "# zip, toma iteradores (puede tomar cualquier cantidad y longitud) y los fusiona (devuelve un objeto zip)\n",
        "a = (\"John\", \"Charles\", \"Mike\")\n",
        "b = (\"Jenny\", \"Christy\", \"Monica\", \"Vicky\")"
      ]
    },
    {
      "cell_type": "code",
      "source": [
        "valores_zip = zip(a, b)"
      ],
      "metadata": {
        "id": "1FlTUS9ZPe3v"
      },
      "execution_count": null,
      "outputs": []
    },
    {
      "cell_type": "code",
      "source": [
        "lista_zip = list(valores_zip)"
      ],
      "metadata": {
        "id": "3OnXv8xtQGyo"
      },
      "execution_count": null,
      "outputs": []
    },
    {
      "cell_type": "code",
      "source": [
        "print(lista_zip)"
      ],
      "metadata": {
        "colab": {
          "base_uri": "https://localhost:8080/"
        },
        "id": "cKYMl_fUQKxk",
        "outputId": "7801a534-98c3-4398-b23a-d8b907961b22"
      },
      "execution_count": null,
      "outputs": [
        {
          "output_type": "stream",
          "name": "stdout",
          "text": [
            "[('John', 'Jenny'), ('Charles', 'Christy'), ('Mike', 'Monica')]\n"
          ]
        }
      ]
    },
    {
      "cell_type": "code",
      "source": [
        "type(valores_zip) #la funcion zip devuelve un objeto zip"
      ],
      "metadata": {
        "colab": {
          "base_uri": "https://localhost:8080/"
        },
        "id": "DY4a18OAQNTF",
        "outputId": "de7f6d47-380d-4f0d-ea58-3bb1e45633bd"
      },
      "execution_count": null,
      "outputs": [
        {
          "output_type": "execute_result",
          "data": {
            "text/plain": [
              "zip"
            ]
          },
          "metadata": {},
          "execution_count": 16
        }
      ]
    },
    {
      "cell_type": "code",
      "source": [
        ""
      ],
      "metadata": {
        "id": "gYGnX9olRl8R"
      },
      "execution_count": null,
      "outputs": []
    },
    {
      "cell_type": "markdown",
      "source": [
        "map viene de mapear es decir aplica una funcion a un objeto iterable y devuelve un objeto map, \n",
        "\n",
        "\n",
        "filter de filtrar... \n",
        "\n",
        "\n",
        "\n",
        "\n",
        "MAP\n",
        "\n",
        "map: El primer argumento de map() es un objeto invocable, por ej una función que se aplicará, y el segundo argumento es un objeto iterable, como una lista.\n",
        "\n",
        "\n",
        "\n",
        "\n",
        "map() devuelve un iterador\n",
        "\n",
        "\n",
        "Aplica la función incorporada abs()que devuelve el valor absoluto.\n",
        "\n",
        "map() devuelve un objeto de tipo map, otro iterador y  la funcion print() no genera elementos.\n",
        "\n",
        "\n",
        "\n",
        "    map(function, iterable, ...)\n",
        "\n",
        "\n",
        "Retorna un iterador que aplica function a cada elemento de iterable, retornando el resultado. Si se le pasan argumentos adicionales de tipo iterable, function debe tomar la misma cantidad de argumentos y es aplicado a los elementos de todos ellos en paralelo. Con iterables múltiples, el iterador se detiene cuando el iterable más corto se agota. Para casos donde las entradas de la función ya están organizadas como tuplas de argumentos, ver itertools.starmap()."
      ],
      "metadata": {
        "id": "gsLANtcdS0Xe"
      }
    },
    {
      "cell_type": "code",
      "source": [
        "list(map(int, \"13213\"))"
      ],
      "metadata": {
        "colab": {
          "base_uri": "https://localhost:8080/"
        },
        "id": "ZwscPCu-S0Kb",
        "outputId": "18ad5996-903e-459e-ed24-f5030857aeb6"
      },
      "execution_count": null,
      "outputs": [
        {
          "output_type": "execute_result",
          "data": {
            "text/plain": [
              "[1, 3, 2, 1, 3]"
            ]
          },
          "metadata": {},
          "execution_count": 29
        }
      ]
    },
    {
      "cell_type": "code",
      "source": [
        "type(map(int, \"13213\"))"
      ],
      "metadata": {
        "colab": {
          "base_uri": "https://localhost:8080/"
        },
        "id": "nLZa0a2vSznk",
        "outputId": "2a278e52-dbeb-4141-9328-4b8856449c69"
      },
      "execution_count": null,
      "outputs": [
        {
          "output_type": "execute_result",
          "data": {
            "text/plain": [
              "map"
            ]
          },
          "metadata": {},
          "execution_count": 30
        }
      ]
    },
    {
      "cell_type": "code",
      "source": [
        ""
      ],
      "metadata": {
        "id": "Ez_kLJhOcpR8"
      },
      "execution_count": null,
      "outputs": []
    },
    {
      "cell_type": "code",
      "source": [
        "# a veces queremos pasar todos los elementos de la lista a una función uno por uno y luego recopilar la salida. \n",
        "items = [1, 2, 3, 4, 5]\n",
        "squared = []"
      ],
      "metadata": {
        "id": "8ALTbtvvd06p"
      },
      "execution_count": null,
      "outputs": []
    },
    {
      "cell_type": "code",
      "source": [
        "for i in items:\n",
        "    squared.append(i**2)"
      ],
      "metadata": {
        "id": "0zG-muC4ppMd"
      },
      "execution_count": null,
      "outputs": []
    },
    {
      "cell_type": "code",
      "source": [
        "# map nos permite implementar esto de una manera mucho más simple\n",
        "squared = list(map(lambda x: x**2, items))"
      ],
      "metadata": {
        "id": "oKs2ujBbppKN"
      },
      "execution_count": null,
      "outputs": []
    },
    {
      "cell_type": "code",
      "source": [
        "squared"
      ],
      "metadata": {
        "colab": {
          "base_uri": "https://localhost:8080/"
        },
        "id": "nAXngD3TppH7",
        "outputId": "438e35c1-fdc3-4813-bb69-2db360b90280"
      },
      "execution_count": null,
      "outputs": [
        {
          "output_type": "execute_result",
          "data": {
            "text/plain": [
              "[1, 4, 9, 16, 25]"
            ]
          },
          "metadata": {},
          "execution_count": 13
        }
      ]
    },
    {
      "cell_type": "code",
      "source": [
        ""
      ],
      "metadata": {
        "id": "770F8B0hppFa"
      },
      "execution_count": null,
      "outputs": []
    },
    {
      "cell_type": "code",
      "source": [
        ""
      ],
      "metadata": {
        "id": "3wiSv7ctppCm"
      },
      "execution_count": null,
      "outputs": []
    },
    {
      "cell_type": "code",
      "source": [
        ""
      ],
      "metadata": {
        "id": "CkulvM_ZppAL"
      },
      "execution_count": null,
      "outputs": []
    },
    {
      "cell_type": "code",
      "source": [
        ""
      ],
      "metadata": {
        "id": "9syGIA0kpo-M"
      },
      "execution_count": null,
      "outputs": []
    },
    {
      "cell_type": "code",
      "source": [
        ""
      ],
      "metadata": {
        "id": "hxMd5_5spo7w"
      },
      "execution_count": null,
      "outputs": []
    },
    {
      "cell_type": "code",
      "source": [
        ""
      ],
      "metadata": {
        "id": "gR13RjRtpo2t"
      },
      "execution_count": null,
      "outputs": []
    },
    {
      "cell_type": "markdown",
      "source": [
        "FILTER\n",
        "\n",
        "    filter(function, iterable)\n",
        "Construye un iterador a partir de aquellos elementos de iterable para los cuales function retorna true. iterable puede ser una secuencia, un contenedor que soporta iteración, o un iterador. Si function es None, se asume la función identidad, es decir, todos los elementos de iterable que son false son eliminados.\n",
        "\n",
        "Ten en cuenta que filter(function, iterable) es equivalente a la expresión de un generador (item for item in iterable if function(item)) si function no es None y a (item for item in iterable if item) si function es None.\n",
        "\n",
        "Ver itertools.filterfalse() para la función complementaria que retorna los elementos de iterable para los cuales function retorna false."
      ],
      "metadata": {
        "id": "WUEzic2Cd15H"
      }
    },
    {
      "cell_type": "code",
      "source": [
        ""
      ],
      "metadata": {
        "id": "2JKJcbA-d1UG"
      },
      "execution_count": null,
      "outputs": []
    },
    {
      "cell_type": "code",
      "source": [
        ""
      ],
      "metadata": {
        "id": "Uk7pwEMNeM-I"
      },
      "execution_count": null,
      "outputs": []
    },
    {
      "cell_type": "code",
      "source": [
        ""
      ],
      "metadata": {
        "id": "sd8YFJggeM3T"
      },
      "execution_count": null,
      "outputs": []
    },
    {
      "cell_type": "code",
      "source": [
        ""
      ],
      "metadata": {
        "id": "BD1CrppkeM0k"
      },
      "execution_count": null,
      "outputs": []
    },
    {
      "cell_type": "code",
      "source": [
        ""
      ],
      "metadata": {
        "id": "RS1IZzLveMxk"
      },
      "execution_count": null,
      "outputs": []
    },
    {
      "cell_type": "markdown",
      "source": [
        "ENUMERATE\n",
        "\n",
        "Nos permite recorrer algo y tener un contador automático. \n",
        "\n",
        "\n",
        "    my_list = ['apple', 'banana', 'grapes', 'pear']\n",
        "    for counter, value in enumerate(my_list):\n",
        "        print(counter, value)\n",
        "\n",
        "    # Output:\n",
        "    # 0 apple\n",
        "    # 1 banana\n",
        "    # 2 grapes\n",
        "    # 3 pear\n",
        "\n",
        "sintaxis\n",
        "\n",
        "    enumerate(iterable, start=0)\n",
        "Retorna un objeto enumerador. iterable tiene que ser una secuencia, un iterator, o algún otro objeto que soporte la iteración. El método __next__() del iterador retornado por la función enumerate() retorna una tupla que contiene un contador (desde start, cuyo valor por defecto es 0) y los valores obtenidos al iterar sobre iterable.\n",
        "\n",
        "    >>> seasons = ['Spring', 'Summer', 'Fall', 'Winter']\n",
        "    >>> list(enumerate(seasons))\n",
        "    >>>  [(0, 'Spring'), (1, 'Summer'), (2, 'Fall'), (3, 'Winter')]\n",
        "\n",
        "    >>> list(enumerate(seasons, start=1))\n",
        "    >>>  [(1, 'Spring'), (2, 'Summer'), (3, 'Fall'), (4, 'Winter')]\n",
        "Equivalente a:\n",
        "\n",
        "    >>> def enumerate(sequence, start=0):\n",
        "    >>>     n = start\n",
        "    >>>     for elem in sequence:\n",
        "    >>>         yield n, elem\n",
        "    >>>         n += 1"
      ],
      "metadata": {
        "id": "YhfwyB-9eNlk"
      }
    },
    {
      "cell_type": "markdown",
      "source": [
        "sentencia: es parte de un conjunto (un «bloque» de código). Es una expression como alguna de las varias sintaxis usando una palabra clave, como if, while o for."
      ],
      "metadata": {
        "id": "FkicLQxRiAOT"
      }
    },
    {
      "cell_type": "code",
      "source": [
        "# nos permite especificar el índice de inicio del contador.\n",
        "my_list = ['apple', 'banana', 'grapes', 'pear']"
      ],
      "metadata": {
        "id": "x4mmrcHXiXz7"
      },
      "execution_count": null,
      "outputs": []
    },
    {
      "cell_type": "code",
      "source": [
        "for c, value in enumerate(my_list, 1):\n",
        "    print(c, value)\n"
      ],
      "metadata": {
        "colab": {
          "base_uri": "https://localhost:8080/"
        },
        "id": "djMZ8DXdlf63",
        "outputId": "c9063bc5-c8b6-4569-fbed-70362fad0351"
      },
      "execution_count": null,
      "outputs": [
        {
          "output_type": "stream",
          "name": "stdout",
          "text": [
            "1 apple\n",
            "2 banana\n",
            "3 grapes\n",
            "4 pear\n"
          ]
        }
      ]
    },
    {
      "cell_type": "code",
      "source": [
        "# resulta útil el argumento opcional de es la creación de tuplas que contienen el índice y el elemento de lista mediante una lista. "
      ],
      "metadata": {
        "id": "5nJkRHmquO0j"
      },
      "execution_count": null,
      "outputs": []
    },
    {
      "cell_type": "code",
      "source": [
        "my_list = ['apple', 'banana', 'grapes', 'pear']\n",
        "counter_list = list(enumerate(my_list, 1))"
      ],
      "metadata": {
        "id": "oUI25Z4wuVou"
      },
      "execution_count": null,
      "outputs": []
    },
    {
      "cell_type": "code",
      "source": [
        "print(counter_list)"
      ],
      "metadata": {
        "colab": {
          "base_uri": "https://localhost:8080/"
        },
        "id": "_jElUiyfuZK2",
        "outputId": "fbebc62b-0da1-450b-8761-41670e77b83d"
      },
      "execution_count": null,
      "outputs": [
        {
          "output_type": "stream",
          "name": "stdout",
          "text": [
            "[(1, 'apple'), (2, 'banana'), (3, 'grapes'), (4, 'pear')]\n"
          ]
        }
      ]
    },
    {
      "cell_type": "code",
      "source": [
        "type(enumerate(my_list, 1))"
      ],
      "metadata": {
        "colab": {
          "base_uri": "https://localhost:8080/"
        },
        "id": "uqjxjWn5ubst",
        "outputId": "cb9aabe7-d6e2-48ea-8db1-e8be14eeb9da"
      },
      "execution_count": null,
      "outputs": [
        {
          "output_type": "execute_result",
          "data": {
            "text/plain": [
              "enumerate"
            ]
          },
          "metadata": {},
          "execution_count": 19
        }
      ]
    },
    {
      "cell_type": "code",
      "source": [
        "for o in counter_list:\n",
        "    print(o)"
      ],
      "metadata": {
        "colab": {
          "base_uri": "https://localhost:8080/"
        },
        "id": "4-VRKDhxukUH",
        "outputId": "44251446-64e9-4ae0-c95d-1e1452506644"
      },
      "execution_count": null,
      "outputs": [
        {
          "output_type": "stream",
          "name": "stdout",
          "text": [
            "(1, 'apple')\n",
            "(2, 'banana')\n",
            "(3, 'grapes')\n",
            "(4, 'pear')\n"
          ]
        }
      ]
    },
    {
      "cell_type": "code",
      "source": [
        ""
      ],
      "metadata": {
        "id": "_IRC2lhe7S5D"
      },
      "execution_count": null,
      "outputs": []
    },
    {
      "cell_type": "code",
      "source": [
        ""
      ],
      "metadata": {
        "id": "oVI2D9aJ7StK"
      },
      "execution_count": null,
      "outputs": []
    },
    {
      "cell_type": "markdown",
      "source": [
        "ENCAPSULAMIENTO \n",
        "https://www.cosmiclearn.com/lang-es/python-encapsulation.php\n",
        "\n",
        "\n",
        "La encapsulación es la ocultación de datos del estado interno para proteger la integridad del objeto. En el ejemplo dado a continuación, el cliente es una clase. Hemos encapsulado (al anteponerlo con __) la variable accountNumber.\n",
        "El único número de cuenta que se puede recuperar es mediante el método getter, getAccountNumber\n"
      ],
      "metadata": {
        "id": "vYhtlHehOsHL"
      }
    },
    {
      "cell_type": "code",
      "source": [
        ""
      ],
      "metadata": {
        "id": "vt3ZtrFaOre9"
      },
      "execution_count": null,
      "outputs": []
    },
    {
      "cell_type": "code",
      "source": [
        ""
      ],
      "metadata": {
        "id": "wLel4-DeOrVe"
      },
      "execution_count": null,
      "outputs": []
    },
    {
      "cell_type": "code",
      "source": [
        ""
      ],
      "metadata": {
        "id": "z1O_qZQBOrPC"
      },
      "execution_count": null,
      "outputs": []
    },
    {
      "cell_type": "code",
      "source": [
        ""
      ],
      "metadata": {
        "id": "PL6kdEvROrI5"
      },
      "execution_count": null,
      "outputs": []
    },
    {
      "cell_type": "code",
      "source": [
        ""
      ],
      "metadata": {
        "id": "TPvutdGGOrFH"
      },
      "execution_count": null,
      "outputs": []
    },
    {
      "cell_type": "code",
      "source": [
        ""
      ],
      "metadata": {
        "id": "TG4YQNynOq57"
      },
      "execution_count": null,
      "outputs": []
    },
    {
      "cell_type": "code",
      "source": [
        ""
      ],
      "metadata": {
        "id": "PEz7dOt9OqyU"
      },
      "execution_count": null,
      "outputs": []
    },
    {
      "cell_type": "markdown",
      "source": [
        "METODOS ESPECIALES\n"
      ],
      "metadata": {
        "id": "VEzTaRpK9pi0"
      }
    },
    {
      "cell_type": "code",
      "source": [
        "class Indexador:\n",
        "    def __getitem__(self, indice): # asigna valor entre corchetes\n",
        "        return 'hola'\n",
        "        # return indice ** 0.5"
      ],
      "metadata": {
        "id": "y1jB11nX7Sna"
      },
      "execution_count": null,
      "outputs": []
    },
    {
      "cell_type": "code",
      "source": [
        "X = Indexador()"
      ],
      "metadata": {
        "id": "5nTeJOPO7SgD"
      },
      "execution_count": null,
      "outputs": []
    },
    {
      "cell_type": "code",
      "source": [
        "print(X[64])"
      ],
      "metadata": {
        "colab": {
          "base_uri": "https://localhost:8080/"
        },
        "id": "NX4bg_6w9nZ5",
        "outputId": "b9f1ae2c-1362-44ab-ba64-55540797f5a9"
      },
      "execution_count": null,
      "outputs": [
        {
          "output_type": "stream",
          "name": "stdout",
          "text": [
            "hola\n"
          ]
        }
      ]
    },
    {
      "cell_type": "code",
      "source": [
        ""
      ],
      "metadata": {
        "id": "4Ev53iRi9nW2"
      },
      "execution_count": null,
      "outputs": []
    },
    {
      "cell_type": "code",
      "source": [
        "class Indexador:\n",
        "    lista = ['M','a','n','z','a','n','a']\n",
        "    def __getitem__(self, indice):\n",
        "        return self.lista[indice]\n",
        "    def __setitem__(self, indice, valor): # permite modificar valor \n",
        "        self.lista[indice] = valor\n"
      ],
      "metadata": {
        "id": "Hz_qnbHW9nMO"
      },
      "execution_count": null,
      "outputs": []
    },
    {
      "cell_type": "code",
      "source": [
        "X = Indexador()\n"
      ],
      "metadata": {
        "id": "uaZLnpnh9nIQ"
      },
      "execution_count": null,
      "outputs": []
    },
    {
      "cell_type": "code",
      "source": [
        "X[6] = 'o'"
      ],
      "metadata": {
        "id": "Rq1Pjurj9nEX"
      },
      "execution_count": null,
      "outputs": []
    },
    {
      "cell_type": "code",
      "source": [
        "print(X.lista)\n"
      ],
      "metadata": {
        "colab": {
          "base_uri": "https://localhost:8080/"
        },
        "id": "6A9ukU8B9nAM",
        "outputId": "946e1652-432d-47e8-f546-f08535f2af47"
      },
      "execution_count": null,
      "outputs": [
        {
          "output_type": "stream",
          "name": "stdout",
          "text": [
            "['M', 'a', 'n', 'z', 'a', 'n', 'o']\n"
          ]
        }
      ]
    },
    {
      "cell_type": "code",
      "source": [
        "# para q nuestra clase realice una iteración __iter__ y __next__\n",
        "class RaizCuadrada:\n",
        "    def __init__(self, A):\n",
        "        self.A = A\n",
        "        self.n = len(self.A)\n",
        "    def __iter__(self):\n",
        "        #bucle for para ordenar\n",
        "        for i in range(self.n-1):\n",
        "            for j in range(self.n):\n",
        "                if(self.A[j]>self.A[j+1]):\n",
        "                    aux=self.A[j]\n",
        "                    self.A[j]=self.A[j+1]\n",
        "                    self.A[j+1]=aux\n",
        "        return RecorrerIteracion(self.A)\n",
        "\n",
        "class RecorrerIteracion:\n",
        "    def __init__(self, A):\n",
        "        self.A = A\n",
        "        self.longitud = len(self.A)\n",
        "        self.i = -1\n",
        "    def __next__(self):\n",
        "        if self.i == self.longitud:\n",
        "            raise StopIteration\n",
        "        self.i += 1\n",
        "        return self.A[self.i] ** 0.5"
      ],
      "metadata": {
        "id": "4e_qdzvx9m6x"
      },
      "execution_count": null,
      "outputs": []
    },
    {
      "cell_type": "code",
      "source": [
        "A=[81, 16, 64, 9]\n"
      ],
      "metadata": {
        "id": "EfP1oim59muK"
      },
      "execution_count": null,
      "outputs": []
    },
    {
      "cell_type": "code",
      "source": [
        "x = RaizCuadrada(A)\n"
      ],
      "metadata": {
        "id": "xxXRjxKV9mN1"
      },
      "execution_count": null,
      "outputs": []
    },
    {
      "cell_type": "code",
      "source": [
        "p = iter(x)"
      ],
      "metadata": {
        "colab": {
          "base_uri": "https://localhost:8080/",
          "height": 287
        },
        "id": "_yrKyeZR7SYi",
        "outputId": "1b57517a-736c-41db-85cb-ca005cc74688"
      },
      "execution_count": null,
      "outputs": [
        {
          "output_type": "error",
          "ename": "IndexError",
          "evalue": "ignored",
          "traceback": [
            "\u001b[0;31m---------------------------------------------------------------------------\u001b[0m",
            "\u001b[0;31mIndexError\u001b[0m                                Traceback (most recent call last)",
            "\u001b[0;32m<ipython-input-21-fc8b53921225>\u001b[0m in \u001b[0;36m<module>\u001b[0;34m()\u001b[0m\n\u001b[0;32m----> 1\u001b[0;31m \u001b[0mp\u001b[0m \u001b[0;34m=\u001b[0m \u001b[0miter\u001b[0m\u001b[0;34m(\u001b[0m\u001b[0mx\u001b[0m\u001b[0;34m)\u001b[0m\u001b[0;34m\u001b[0m\u001b[0;34m\u001b[0m\u001b[0m\n\u001b[0m",
            "\u001b[0;32m<ipython-input-18-9edca1cf6b15>\u001b[0m in \u001b[0;36m__iter__\u001b[0;34m(self)\u001b[0m\n\u001b[1;32m      8\u001b[0m         \u001b[0;32mfor\u001b[0m \u001b[0mi\u001b[0m \u001b[0;32min\u001b[0m \u001b[0mrange\u001b[0m\u001b[0;34m(\u001b[0m\u001b[0mself\u001b[0m\u001b[0;34m.\u001b[0m\u001b[0mn\u001b[0m\u001b[0;34m-\u001b[0m\u001b[0;36m1\u001b[0m\u001b[0;34m)\u001b[0m\u001b[0;34m:\u001b[0m\u001b[0;34m\u001b[0m\u001b[0;34m\u001b[0m\u001b[0m\n\u001b[1;32m      9\u001b[0m             \u001b[0;32mfor\u001b[0m \u001b[0mj\u001b[0m \u001b[0;32min\u001b[0m \u001b[0mrange\u001b[0m\u001b[0;34m(\u001b[0m\u001b[0mself\u001b[0m\u001b[0;34m.\u001b[0m\u001b[0mn\u001b[0m\u001b[0;34m)\u001b[0m\u001b[0;34m:\u001b[0m\u001b[0;34m\u001b[0m\u001b[0;34m\u001b[0m\u001b[0m\n\u001b[0;32m---> 10\u001b[0;31m                 \u001b[0;32mif\u001b[0m\u001b[0;34m(\u001b[0m\u001b[0mself\u001b[0m\u001b[0;34m.\u001b[0m\u001b[0mA\u001b[0m\u001b[0;34m[\u001b[0m\u001b[0mj\u001b[0m\u001b[0;34m]\u001b[0m\u001b[0;34m>\u001b[0m\u001b[0mself\u001b[0m\u001b[0;34m.\u001b[0m\u001b[0mA\u001b[0m\u001b[0;34m[\u001b[0m\u001b[0mj\u001b[0m\u001b[0;34m+\u001b[0m\u001b[0;36m1\u001b[0m\u001b[0;34m]\u001b[0m\u001b[0;34m)\u001b[0m\u001b[0;34m:\u001b[0m\u001b[0;34m\u001b[0m\u001b[0;34m\u001b[0m\u001b[0m\n\u001b[0m\u001b[1;32m     11\u001b[0m                     \u001b[0maux\u001b[0m\u001b[0;34m=\u001b[0m\u001b[0mself\u001b[0m\u001b[0;34m.\u001b[0m\u001b[0mA\u001b[0m\u001b[0;34m[\u001b[0m\u001b[0mj\u001b[0m\u001b[0;34m]\u001b[0m\u001b[0;34m\u001b[0m\u001b[0;34m\u001b[0m\u001b[0m\n\u001b[1;32m     12\u001b[0m                     \u001b[0mself\u001b[0m\u001b[0;34m.\u001b[0m\u001b[0mA\u001b[0m\u001b[0;34m[\u001b[0m\u001b[0mj\u001b[0m\u001b[0;34m]\u001b[0m\u001b[0;34m=\u001b[0m\u001b[0mself\u001b[0m\u001b[0;34m.\u001b[0m\u001b[0mA\u001b[0m\u001b[0;34m[\u001b[0m\u001b[0mj\u001b[0m\u001b[0;34m+\u001b[0m\u001b[0;36m1\u001b[0m\u001b[0;34m]\u001b[0m\u001b[0;34m\u001b[0m\u001b[0;34m\u001b[0m\u001b[0m\n",
            "\u001b[0;31mIndexError\u001b[0m: list index out of range"
          ]
        }
      ]
    },
    {
      "cell_type": "code",
      "source": [
        ""
      ],
      "metadata": {
        "id": "CsKyQZx07SRO"
      },
      "execution_count": null,
      "outputs": []
    },
    {
      "cell_type": "code",
      "source": [
        ""
      ],
      "metadata": {
        "id": "rEWMOfnn7SGE"
      },
      "execution_count": null,
      "outputs": []
    },
    {
      "cell_type": "markdown",
      "source": [
        "SOBRECARGA DE OPERADORES\n"
      ],
      "metadata": {
        "id": "keUmLPu56adN"
      }
    },
    {
      "cell_type": "code",
      "source": [
        "# https://es.stackoverflow.com/questions/188145/overloading-sobrecargar-operadores-en-python/188148\n",
        "class Vector(object):\n",
        "\n",
        "    def __init__(self, x, y):\n",
        "        self.x = x\n",
        "        self.y = y\n",
        "\n",
        "    def __add__(self, v):\n",
        "        # Sumar dos Vectores\n",
        "        return Vector(self.x + v.x, self.y + v.y)\n",
        "\n",
        "    def __sub__(self, v):\n",
        "        # Restar dos Vectores\n",
        "        return Vector(self.x - v.x, self.y - v.y)\n",
        "\n",
        "    def __mul__(self, s):\n",
        "        # Multiplicar un Vectores por un escalar\n",
        "        return Vector(self.x * s, self.y * s)\n",
        "\n",
        "    def __div__(self, s):\n",
        "        # Dividir un vector por un escalar\n",
        "        float_s = float(s)\n",
        "        return Vector(self.x / float_s, self.y / float_s)\n",
        "\n",
        "    def __floordiv__(self, s):\n",
        "        # Parte entera de la divicion de un vector sobre un escalar\n",
        "        return Vector(self.x // s, self.y // s)\n",
        "\n",
        "    def __repr__(self):\n",
        "        # Imprima una representación amistosa de la clase Vector. De lo contrario, sería\n",
        "        # <__main__.Vector instance at 0x01DDDDC8>.\n",
        "        return '<Vector (%f, %f)>' % (self.x, self.y, )"
      ],
      "metadata": {
        "id": "gFPVW_jB39Kp"
      },
      "execution_count": null,
      "outputs": []
    },
    {
      "cell_type": "code",
      "source": [
        "a = Vector(3, 5)\n",
        "b = Vector(2, 7)"
      ],
      "metadata": {
        "id": "eiH5sH0S39Er"
      },
      "execution_count": null,
      "outputs": []
    },
    {
      "cell_type": "code",
      "source": [
        "print(a + b)   # Output: <Vector (5.000000, 12.000000)>\n",
        "print(b - a)   # Output: <Vector (-1.000000, 2.000000)>\n",
        "print(b * 1.3) # Output: <Vector (2.600000, 9.100000)>\n",
        "print(a // 17) # Output: <Vector (0.000000, 0.000000)>\n",
        "# print(a / 17)  # Output: <Vector (0.176471, 0.294118)>"
      ],
      "metadata": {
        "colab": {
          "base_uri": "https://localhost:8080/"
        },
        "id": "nAOTbx-a38_E",
        "outputId": "c5ecd250-2e13-43c9-bea9-b4685a9e7326"
      },
      "execution_count": null,
      "outputs": [
        {
          "output_type": "stream",
          "name": "stdout",
          "text": [
            "<Vector (5.000000, 12.000000)>\n",
            "<Vector (-1.000000, 2.000000)>\n",
            "<Vector (2.600000, 9.100000)>\n",
            "<Vector (0.000000, 0.000000)>\n"
          ]
        }
      ]
    },
    {
      "cell_type": "code",
      "source": [
        ""
      ],
      "metadata": {
        "id": "UxlNjwZ8384Y"
      },
      "execution_count": null,
      "outputs": []
    },
    {
      "cell_type": "code",
      "source": [
        ""
      ],
      "metadata": {
        "id": "B6EzrDzx38tw"
      },
      "execution_count": null,
      "outputs": []
    }
  ]
}
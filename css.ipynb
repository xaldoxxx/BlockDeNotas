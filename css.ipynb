{
  "nbformat": 4,
  "nbformat_minor": 0,
  "metadata": {
    "colab": {
      "name": "css.ipynb",
      "provenance": [],
      "authorship_tag": "ABX9TyN55nut+cfRsjAa1pMofCTY",
      "include_colab_link": true
    },
    "kernelspec": {
      "name": "python3",
      "display_name": "Python 3"
    },
    "language_info": {
      "name": "python"
    }
  },
  "cells": [
    {
      "cell_type": "markdown",
      "metadata": {
        "id": "view-in-github",
        "colab_type": "text"
      },
      "source": [
        "<a href=\"https://colab.research.google.com/github/xaldoxxx/curiosidades/blob/main/css.ipynb\" target=\"_parent\"><img src=\"https://colab.research.google.com/assets/colab-badge.svg\" alt=\"Open In Colab\"/></a>"
      ]
    },
    {
      "cell_type": "markdown",
      "source": [
        "proyecto nro90254: \n",
        "\n",
        "Practica front, comportamientos de un objeto... \n",
        "\n",
        "\n",
        "Descargamos al drive el html de una url, le agregamos un css y empezamos a ver el comportamiento de sus metodos.\n",
        "\n",
        "Es conveniente leer los apuntes de majo si no tenemos idea de css.\n",
        "\n",
        "\n",
        "\n",
        "para manejar archivos del drive https://colab.research.google.com/notebooks/io.ipynb?hl=es#scrollTo=hauvGV4hV-Mh\n",
        "\n"
      ],
      "metadata": {
        "id": "yTsZ_TYbi97T"
      }
    },
    {
      "cell_type": "code",
      "source": [
        "from google.colab import drive # conectamos al drive\n",
        "drive.mount('/content/drive')  # aceptamos q vamos a escribir el google drive"
      ],
      "metadata": {
        "colab": {
          "base_uri": "https://localhost:8080/"
        },
        "id": "8QDylrxYm93Q",
        "outputId": "65f953fa-677e-4375-a0c0-d3456c007eb2"
      },
      "execution_count": 1,
      "outputs": [
        {
          "output_type": "stream",
          "name": "stdout",
          "text": [
            "Mounted at /content/drive\n"
          ]
        }
      ]
    },
    {
      "cell_type": "code",
      "source": [
        "%mkdir /content/drive/MyDrive/html_mate"
      ],
      "metadata": {
        "id": "Xo8MKTk9nVH6"
      },
      "execution_count": 2,
      "outputs": []
    },
    {
      "cell_type": "code",
      "source": [
        "%cd /content/drive/MyDrive/html_mate"
      ],
      "metadata": {
        "id": "ZoBQrKVvnU-e"
      },
      "execution_count": null,
      "outputs": []
    },
    {
      "cell_type": "code",
      "source": [
        "!wget -p http://www.mateway.net # !wget -E -H -k -K -p http://www.mateway.net"
      ],
      "metadata": {
        "id": "HvGjulAiprA5"
      },
      "execution_count": null,
      "outputs": []
    },
    {
      "cell_type": "code",
      "source": [
        "%cd /content/drive/MyDrive/html_mate/www.mateway.net"
      ],
      "metadata": {
        "id": "RDrfHkertskL"
      },
      "execution_count": null,
      "outputs": []
    },
    {
      "cell_type": "code",
      "source": [
        "!ls"
      ],
      "metadata": {
        "id": "p9rmnlFrq0qL"
      },
      "execution_count": null,
      "outputs": []
    },
    {
      "cell_type": "code",
      "source": [
        ""
      ],
      "metadata": {
        "id": "geUui4TB0Ges"
      },
      "execution_count": null,
      "outputs": []
    }
  ]
}
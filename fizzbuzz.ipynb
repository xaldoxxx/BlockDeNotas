{
  "nbformat": 4,
  "nbformat_minor": 0,
  "metadata": {
    "colab": {
      "name": "fizzbuzz.ipynb",
      "provenance": [],
      "include_colab_link": true
    },
    "kernelspec": {
      "name": "python3",
      "display_name": "Python 3"
    },
    "language_info": {
      "name": "python"
    }
  },
  "cells": [
    {
      "cell_type": "markdown",
      "metadata": {
        "id": "view-in-github",
        "colab_type": "text"
      },
      "source": [
        "<a href=\"https://colab.research.google.com/github/xaldoxxx/BlockDeNotas/blob/main/fizzbuzz.ipynb\" target=\"_parent\"><img src=\"https://colab.research.google.com/assets/colab-badge.svg\" alt=\"Open In Colab\"/></a>"
      ]
    },
    {
      "cell_type": "markdown",
      "source": [
        "https://www.codewars.com/users/xaldoxxx/badges/small"
      ],
      "metadata": {
        "id": "BcXR4nFXQVSn"
      }
    },
    {
      "cell_type": "markdown",
      "source": [
        "https://www.codewars.com/kata/5300901726d12b80e8000498\n",
        "\n",
        "\n",
        "Devuelve una matriz que contiene los números del 1 al N, donde N es el valor parametrizado.\n",
        "\n",
        "\n",
        "\n",
        "Sin embargo, reemplace ciertos valores si se cumple alguna de las siguientes condiciones:\n",
        "\n",
        "\n",
        "\n",
        "Si el valor es un múltiplo de 3: use el valor \"Fizz\" en su lugar\n",
        "\n",
        "Si el valor es un múltiplo de 5: use el valor \"Buzz\" en su lugar\n",
        "\n",
        "\n",
        "Si el valor es un múltiplo de 3 y 5: use el valor \"FizzBuzz\" en su lugar\n",
        "\n",
        "N nunca será menor que 1.\n",
        "\n",
        "\n",
        "\n",
        "Ejemplo de llamada de método:\n",
        "\n",
        "        fizzbuzz(3) -->  [1, 2, \"Fizz\"]"
      ],
      "metadata": {
        "id": "iPAVAAhkQCFg"
      }
    },
    {
      "cell_type": "code",
      "source": [
        "def fizzbuzz(n):\n",
        "    return ['FizzBuzz' if value%3==0 and value%5==0 else 'Fizz' if value%3==0 else 'Buzz' if value%5==0 else value for value in range(1, n+1)]"
      ],
      "metadata": {
        "id": "DD_YZ7pcVAVK"
      },
      "execution_count": 50,
      "outputs": []
    },
    {
      "cell_type": "code",
      "source": [
        "# ['FizzBuzz' if value%3==0 and value%5==0 else 'Fizz' if value%3==0 else 'Buzz' if value%5==0 else value for value in range(1, 4)]"
      ],
      "metadata": {
        "id": "IA1j4zec1fNN"
      },
      "execution_count": null,
      "outputs": []
    },
    {
      "cell_type": "code",
      "source": [
        "fizzbuzz(3)"
      ],
      "metadata": {
        "colab": {
          "base_uri": "https://localhost:8080/"
        },
        "id": "2IJwJXOZ633z",
        "outputId": "5af7ee0c-5799-450e-96fa-35d296268413"
      },
      "execution_count": 51,
      "outputs": [
        {
          "output_type": "execute_result",
          "data": {
            "text/plain": [
              "[1, 2, 'Fizz']"
            ]
          },
          "metadata": {},
          "execution_count": 51
        }
      ]
    },
    {
      "cell_type": "code",
      "source": [
        "def fizzbuzz(n):\n",
        "    l = []\n",
        "    for i in range(1, n+1):\n",
        "        if i%3==0 and i%5==0:\n",
        "            l.append('FizzBuzz')\n",
        "        elif i%3==0:\n",
        "            l.append('Fizz')\n",
        "        elif i%5==0:\n",
        "            l.append('Buzz')\n",
        "        else:\n",
        "            l.append(i)\n",
        "    return l\n"
      ],
      "metadata": {
        "id": "vdi_bLGY6Dny"
      },
      "execution_count": 41,
      "outputs": []
    },
    {
      "cell_type": "code",
      "source": [
        "fizzbuzz(3)"
      ],
      "metadata": {
        "colab": {
          "base_uri": "https://localhost:8080/"
        },
        "id": "YOmsaebe6ccp",
        "outputId": "c94273b0-fefb-4a42-c4da-615feb372166"
      },
      "execution_count": 42,
      "outputs": [
        {
          "output_type": "execute_result",
          "data": {
            "text/plain": [
              "[1, 2, 'Fizz']"
            ]
          },
          "metadata": {},
          "execution_count": 42
        }
      ]
    },
    {
      "cell_type": "code",
      "source": [
        ""
      ],
      "metadata": {
        "id": "s0l6NCcmEmiP"
      },
      "execution_count": null,
      "outputs": []
    },
    {
      "cell_type": "code",
      "source": [
        ""
      ],
      "metadata": {
        "id": "tGDwYxfQEmff"
      },
      "execution_count": null,
      "outputs": []
    },
    {
      "cell_type": "markdown",
      "source": [
        "pruebas\n"
      ],
      "metadata": {
        "id": "-zEwXSqpEnIx"
      }
    },
    {
      "cell_type": "code",
      "source": [
        "def fizzbuzz(n):\n",
        "    return ['Fizz' if value%3==0 else 'Buzz' if value%5==0 else value for value in range(n) else 'FizzBuzz' if value%3==0 and value%5==0 ]"
      ],
      "metadata": {
        "id": "ZZXyO5dR1fKf"
      },
      "execution_count": null,
      "outputs": []
    },
    {
      "cell_type": "code",
      "source": [
        "[i for i in range(1,90)]  # lista por compresion"
      ],
      "metadata": {
        "id": "OL3iFqWHRDA6"
      },
      "execution_count": null,
      "outputs": []
    },
    {
      "cell_type": "code",
      "source": [
        "False if 3!=3 else True # operador ternario, https://peps.python.org/pep-0308/, https://python-intermedio.readthedocs.io/es/latest/ternary_operators.html"
      ],
      "metadata": {
        "colab": {
          "base_uri": "https://localhost:8080/"
        },
        "id": "kY4ZqYT7RC-D",
        "outputId": "10bf8daf-d54e-4b48-b8f2-0fd6f1de2bf7"
      },
      "execution_count": null,
      "outputs": [
        {
          "output_type": "execute_result",
          "data": {
            "text/plain": [
              "True"
            ]
          },
          "metadata": {},
          "execution_count": 8
        }
      ]
    },
    {
      "cell_type": "code",
      "source": [
        "def fizzbuzz(n):\n",
        "    for i in range(1, n+1):\n",
        "        if i%3==0 and i%5==0:\n",
        "            print('FizzBuzz')\n",
        "        elif i%3==0:\n",
        "            print('Fizz')\n",
        "        elif i%5==0:\n",
        "            print('Buzz')\n",
        "        else:\n",
        "            print(i)\n"
      ],
      "metadata": {
        "id": "wqLYyp-IRC7a"
      },
      "execution_count": 36,
      "outputs": []
    },
    {
      "cell_type": "code",
      "source": [
        "fizzbuzz(3)"
      ],
      "metadata": {
        "id": "GnFyFvQ-RCzH",
        "colab": {
          "base_uri": "https://localhost:8080/"
        },
        "outputId": "71b95dca-8938-4e10-ade1-fccf20bfbc09"
      },
      "execution_count": 37,
      "outputs": [
        {
          "output_type": "stream",
          "name": "stdout",
          "text": [
            "1\n",
            "2\n",
            "Fizz\n"
          ]
        }
      ]
    },
    {
      "cell_type": "code",
      "source": [
        "def fizzbuzz(n):\n",
        "    for i in range(1, n):\n",
        "        if i%3==0:\n",
        "            print('Fizz')\n",
        "        if i%5==0:\n",
        "            print('Buzz')\n",
        "        if i%3==0 and i%5!=0:\n",
        "            print('FizzBuzz')"
      ],
      "metadata": {
        "id": "bu3YX9waRCuh"
      },
      "execution_count": null,
      "outputs": []
    },
    {
      "cell_type": "code",
      "source": [
        "fizzbuzz(90)"
      ],
      "metadata": {
        "id": "RzRVaaDJVCiZ"
      },
      "execution_count": null,
      "outputs": []
    },
    {
      "cell_type": "code",
      "source": [
        "[i for i in range(1,90) if i%3!=0 and i%5!=0]  # lista por compresion con operador condicional"
      ],
      "metadata": {
        "id": "-atKX3cVRC4Y"
      },
      "execution_count": null,
      "outputs": []
    },
    {
      "cell_type": "code",
      "source": [
        "dir([])"
      ],
      "metadata": {
        "id": "sXZCQRXuVCfy"
      },
      "execution_count": null,
      "outputs": []
    },
    {
      "cell_type": "code",
      "source": [
        "[].extend"
      ],
      "metadata": {
        "id": "BY6JA0TTVCdO",
        "colab": {
          "base_uri": "https://localhost:8080/"
        },
        "outputId": "d2ff03cb-b496-4298-ddcf-e885131d4a56"
      },
      "execution_count": null,
      "outputs": [
        {
          "output_type": "execute_result",
          "data": {
            "text/plain": [
              "<function list.extend(iterable, /)>"
            ]
          },
          "metadata": {},
          "execution_count": 57
        }
      ]
    },
    {
      "cell_type": "code",
      "source": [
        "def fizzbuzz(n):\n",
        "    l = []\n",
        "    for i in range(1, n):\n",
        "        if i%3==0:\n",
        "            l.append('Fizz')\n",
        "        if i%5==0:\n",
        "            l.append('Buzz')\n",
        "        if i%3==0 and i%5!=0:\n",
        "            l.append('FizzBuzz')\n",
        "    return l"
      ],
      "metadata": {
        "id": "KCvwMwizVCav"
      },
      "execution_count": null,
      "outputs": []
    },
    {
      "cell_type": "code",
      "source": [
        "fizzbuzz(90)"
      ],
      "metadata": {
        "id": "Gue0_GHnRCrE"
      },
      "execution_count": null,
      "outputs": []
    },
    {
      "cell_type": "code",
      "source": [
        "def fizzbuzz(n):\n",
        "    for i in range(1, n):\n",
        "        [map([].append, ('Fizz') if i%3==0 ('Buzz') elif i%5==0 ('FizzBuzz') elif i%3==0 and i%5!=0)]"
      ],
      "metadata": {
        "id": "PKl-U8fTev1e"
      },
      "execution_count": null,
      "outputs": []
    },
    {
      "cell_type": "code",
      "source": [
        "[i for i in range(1, 10)]"
      ],
      "metadata": {
        "id": "ykvhpUfVevyn"
      },
      "execution_count": null,
      "outputs": []
    },
    {
      "cell_type": "code",
      "source": [
        "filter(lambda x: , [i for i in range(1, n)]) # filter(function, iterable)"
      ],
      "metadata": {
        "id": "OdRZ2GZXevvl"
      },
      "execution_count": null,
      "outputs": []
    },
    {
      "cell_type": "code",
      "source": [
        "[*map(lambda x: x**2, range(10))]"
      ],
      "metadata": {
        "colab": {
          "base_uri": "https://localhost:8080/"
        },
        "id": "kkWXZ8WXevsq",
        "outputId": "e583f27f-cb36-47d1-ae46-d90cd41628b2"
      },
      "execution_count": null,
      "outputs": [
        {
          "output_type": "execute_result",
          "data": {
            "text/plain": [
              "[0, 1, 4, 9, 16, 25, 36, 49, 64, 81]"
            ]
          },
          "metadata": {},
          "execution_count": 119
        }
      ]
    },
    {
      "cell_type": "markdown",
      "source": [
        "    <expr_1> if <condición_1> else <expr_2> if <condición_2> ... else <expr_n>\n",
        "Es decir, se puede hacer:\n",
        "\n",
        "    c = ['r' if a == 1 else 'g' if a == 0  else 'b' for a in annotation]"
      ],
      "metadata": {
        "id": "i-DQqlawrU3k"
      }
    },
    {
      "cell_type": "code",
      "source": [
        "fb(t) = ['Fizz' if n%3==0 else 'Buzz' if n%5==0 else 'FizzBuzz' if n%3 == 0 and n%5==0 else i for i in range(1, 10)]"
      ],
      "metadata": {
        "id": "glSD--zCrUts"
      },
      "execution_count": null,
      "outputs": []
    },
    {
      "cell_type": "code",
      "source": [
        "# <expr_1> if <condición_1> else <expr_2> if <condición_2> ... else <expr_n>"
      ],
      "metadata": {
        "id": "zLezwecerUrI"
      },
      "execution_count": null,
      "outputs": []
    },
    {
      "cell_type": "code",
      "source": [
        "fb(n) = lambda x: [*range(n)]"
      ],
      "metadata": {
        "id": "HJdzhHwbrUoY"
      },
      "execution_count": null,
      "outputs": []
    },
    {
      "cell_type": "code",
      "source": [
        "[*range(7)]"
      ],
      "metadata": {
        "id": "iWsw0XiLrUl6"
      },
      "execution_count": null,
      "outputs": []
    },
    {
      "cell_type": "code",
      "source": [
        "['FizzBuzz' if value%3==0 and value%5==0 else 'Fizz' if value%3==0 else 'Buzz' if value%5==0 else value for value in range(90)]"
      ],
      "metadata": {
        "id": "UUMe-5wfrUjc"
      },
      "execution_count": null,
      "outputs": []
    },
    {
      "cell_type": "code",
      "source": [
        "fb(n) = ['FizzBuzz' if value%3==0 and value%5==0 else 'Fizz' if value%3==0 else 'Buzz' if value%5==0 else value if value in range(n)]"
      ],
      "metadata": {
        "id": "FEihh99tevpv"
      },
      "execution_count": null,
      "outputs": []
    },
    {
      "cell_type": "code",
      "source": [
        "['FizzBuzz' if value%3==0 and value%5==0 else 'Fizz' if value%3==0 else 'Buzz' if value%5==0 else value for value in range(90)]"
      ],
      "metadata": {
        "id": "Ob84BYW0evm5"
      },
      "execution_count": null,
      "outputs": []
    },
    {
      "cell_type": "code",
      "source": [
        "value."
      ],
      "metadata": {
        "id": "V671cp0ievj1"
      },
      "execution_count": null,
      "outputs": []
    },
    {
      "cell_type": "code",
      "source": [
        "['FizzBuzz' if value%3==0 and value%5==0 else 'Fizz' if value%3==0 else 'Buzz' if value%5==0 else '' for value in range(90)]"
      ],
      "metadata": {
        "id": "iJKwrcCBevhI"
      },
      "execution_count": null,
      "outputs": []
    },
    {
      "cell_type": "code",
      "source": [
        ""
      ],
      "metadata": {
        "id": "SaXRDClZGBd9"
      },
      "execution_count": null,
      "outputs": []
    },
    {
      "cell_type": "markdown",
      "source": [
        "soluciones hermosas!!"
      ],
      "metadata": {
        "id": "0gYklYhgGaNF"
      }
    },
    {
      "cell_type": "code",
      "source": [
        "def fizzbuzz(n: int) -> list:\n",
        "    return [\n",
        "        'FizzBuzz'  if num % 3 == 0 == num % 5  else\n",
        "        'Fizz'      if num % 3 == 0             else\n",
        "        'Buzz'      if num % 5 == 0             else\n",
        "        num\n",
        "        for num in list(range(1, n +1))\n",
        "    ]"
      ],
      "metadata": {
        "id": "N7PHMQ6eGBbW"
      },
      "execution_count": null,
      "outputs": []
    },
    {
      "cell_type": "code",
      "source": [
        "fizzbuzz = lambda n: ['Fizz'*(i%3<1)+'Buzz'*(i%5<1) or i for i in range(1,n+1)]"
      ],
      "metadata": {
        "id": "BArz--I9xEQX"
      },
      "execution_count": null,
      "outputs": []
    },
    {
      "cell_type": "code",
      "source": [
        ""
      ],
      "metadata": {
        "id": "6WkWOaP-GeY0"
      },
      "execution_count": null,
      "outputs": []
    },
    {
      "cell_type": "markdown",
      "source": [
        "https://www.codewars.com/kata/59dbd2d87905dfd2f200006d\n",
        "\n",
        "\n",
        "Cree una función que acepte cuatro parámetros min, maxy xy ydevuelva una matriz de números de min(inclusive) a max(inclusive).\n",
        "\n",
        "Si el número es divisible por x=> Fizz\n",
        "\n",
        "Si el número es divisible por y=> Buzz\n",
        "\n",
        "Si el número es divisible por xy y=> FizzBuzz\n",
        "\n",
        "Si el número no es divisible por xy y devuelve el número\n",
        "\n",
        "Nota:\n",
        "Su solución debe estar escrita en una línea . El número de caracteres no importa en este kata."
      ],
      "metadata": {
        "id": "NuLW6LeoQUbe"
      }
    },
    {
      "cell_type": "code",
      "source": [
        ""
      ],
      "metadata": {
        "id": "0gJHjmn3bXOi"
      },
      "execution_count": null,
      "outputs": []
    },
    {
      "cell_type": "code",
      "source": [
        ""
      ],
      "metadata": {
        "id": "Tyur8Q9fbXMO"
      },
      "execution_count": null,
      "outputs": []
    },
    {
      "cell_type": "code",
      "source": [
        ""
      ],
      "metadata": {
        "id": "zWUieP9NbXJ4"
      },
      "execution_count": null,
      "outputs": []
    },
    {
      "cell_type": "code",
      "source": [
        ""
      ],
      "metadata": {
        "id": "BNomnokpi923"
      },
      "execution_count": null,
      "outputs": []
    },
    {
      "cell_type": "code",
      "source": [
        ""
      ],
      "metadata": {
        "id": "ofBXK2Y9i90f"
      },
      "execution_count": null,
      "outputs": []
    },
    {
      "cell_type": "code",
      "source": [
        ""
      ],
      "metadata": {
        "id": "j_mAilRMi9x6"
      },
      "execution_count": null,
      "outputs": []
    },
    {
      "cell_type": "code",
      "source": [
        ""
      ],
      "metadata": {
        "id": "ScDkO2poi9vF"
      },
      "execution_count": null,
      "outputs": []
    },
    {
      "cell_type": "code",
      "source": [
        ""
      ],
      "metadata": {
        "id": "PcV5CzSmi9st"
      },
      "execution_count": null,
      "outputs": []
    },
    {
      "cell_type": "code",
      "source": [
        ""
      ],
      "metadata": {
        "id": "TJCfUH4di9qF"
      },
      "execution_count": null,
      "outputs": []
    }
  ]
}
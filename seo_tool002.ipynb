{
  "nbformat": 4,
  "nbformat_minor": 0,
  "metadata": {
    "colab": {
      "name": "seo_tool002.ipynb",
      "provenance": [],
      "include_colab_link": true
    },
    "kernelspec": {
      "name": "python3",
      "display_name": "Python 3"
    },
    "language_info": {
      "name": "python"
    }
  },
  "cells": [
    {
      "cell_type": "markdown",
      "metadata": {
        "id": "view-in-github",
        "colab_type": "text"
      },
      "source": [
        "<a href=\"https://colab.research.google.com/github/xaldoxxx/curiosidades/blob/main/seo_tool002.ipynb\" target=\"_parent\"><img src=\"https://colab.research.google.com/assets/colab-badge.svg\" alt=\"Open In Colab\"/></a>"
      ]
    },
    {
      "cell_type": "markdown",
      "source": [
        "Una herramienta de SEO que analiza la estructura de un sitio, rastrea el sitio, cuenta las palabras en el cuerpo del sitio y advierte sobre cualquier problema técnico de SEO.\n",
        "\n",
        "Requiere Python 3.6+, BeautifulSoup4 y urllib3."
      ],
      "metadata": {
        "id": "_adWKi0-RSH3"
      }
    },
    {
      "cell_type": "code",
      "execution_count": null,
      "metadata": {
        "id": "wdVZVFwRP8ZJ"
      },
      "outputs": [],
      "source": [
        "!pip install pyseoanalyzer # https://github.com/sethblack/python-seo-analyzer"
      ]
    },
    {
      "cell_type": "code",
      "source": [
        "!seoanalyze http://www.mateway.net/good-foryou/"
      ],
      "metadata": {
        "id": "p9loSpJmQDAu"
      },
      "execution_count": null,
      "outputs": []
    },
    {
      "cell_type": "code",
      "source": [
        ""
      ],
      "metadata": {
        "id": "lwgLgj9jQdVM"
      },
      "execution_count": null,
      "outputs": []
    }
  ]
}
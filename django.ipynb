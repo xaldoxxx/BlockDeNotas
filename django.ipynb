{
  "nbformat": 4,
  "nbformat_minor": 0,
  "metadata": {
    "colab": {
      "name": "django.ipynb",
      "provenance": [],
      "authorship_tag": "ABX9TyMPpHX7DNd6OYp16A+cMc9B",
      "include_colab_link": true
    },
    "kernelspec": {
      "name": "python3",
      "display_name": "Python 3"
    },
    "language_info": {
      "name": "python"
    }
  },
  "cells": [
    {
      "cell_type": "markdown",
      "metadata": {
        "id": "view-in-github",
        "colab_type": "text"
      },
      "source": [
        "<a href=\"https://colab.research.google.com/github/xaldoxxx/curiosidades/blob/main/django.ipynb\" target=\"_parent\"><img src=\"https://colab.research.google.com/assets/colab-badge.svg\" alt=\"Open In Colab\"/></a>"
      ]
    },
    {
      "cell_type": "markdown",
      "source": [
        "PARTE1: instalacion y levanta servidor"
      ],
      "metadata": {
        "id": "uw0xE6hvEJMx"
      }
    },
    {
      "cell_type": "code",
      "execution_count": null,
      "metadata": {
        "colab": {
          "base_uri": "https://localhost:8080/"
        },
        "id": "nWtQzNv06oeY",
        "outputId": "78c1480a-2ca3-4ede-9f6e-a63a57bc78fa"
      },
      "outputs": [
        {
          "output_type": "stream",
          "name": "stdout",
          "text": [
            "Collecting django\n",
            "  Downloading Django-3.2.11-py3-none-any.whl (7.9 MB)\n",
            "\u001b[K     |████████████████████████████████| 7.9 MB 9.7 MB/s \n",
            "\u001b[?25hRequirement already satisfied: pytz in /usr/local/lib/python3.7/dist-packages (from django) (2018.9)\n",
            "Collecting asgiref<4,>=3.3.2\n",
            "  Downloading asgiref-3.5.0-py3-none-any.whl (22 kB)\n",
            "Requirement already satisfied: sqlparse>=0.2.2 in /usr/local/lib/python3.7/dist-packages (from django) (0.4.2)\n",
            "Requirement already satisfied: typing-extensions in /usr/local/lib/python3.7/dist-packages (from asgiref<4,>=3.3.2->django) (3.10.0.2)\n",
            "Installing collected packages: asgiref, django\n",
            "Successfully installed asgiref-3.5.0 django-3.2.11\n"
          ]
        }
      ],
      "source": [
        "!pip install django"
      ]
    },
    {
      "cell_type": "code",
      "source": [
        "!django-admin startproject mysite"
      ],
      "metadata": {
        "id": "HFpOK1dS6z5t"
      },
      "execution_count": null,
      "outputs": []
    },
    {
      "cell_type": "code",
      "source": [
        "!ls"
      ],
      "metadata": {
        "colab": {
          "base_uri": "https://localhost:8080/"
        },
        "id": "NzNT5vNO7bI2",
        "outputId": "9eea2f1a-de73-46b0-8de3-a44b4c75daa5"
      },
      "execution_count": 12,
      "outputs": [
        {
          "output_type": "stream",
          "name": "stdout",
          "text": [
            "db.sqlite3  manage.py  mysite\n"
          ]
        }
      ]
    },
    {
      "cell_type": "code",
      "source": [
        "%cd mysite"
      ],
      "metadata": {
        "colab": {
          "base_uri": "https://localhost:8080/"
        },
        "id": "8EOXXWvy7hn1",
        "outputId": "4e86c1bd-f788-4f71-c076-991ec7d2fe15"
      },
      "execution_count": null,
      "outputs": [
        {
          "output_type": "stream",
          "name": "stdout",
          "text": [
            "/content/mysite\n"
          ]
        }
      ]
    },
    {
      "cell_type": "code",
      "source": [
        "from google.colab.output import eval_js\n",
        "print(eval_js(\"google.colab.kernel.proxyPort(8000)\"))"
      ],
      "metadata": {
        "colab": {
          "base_uri": "https://localhost:8080/",
          "height": 34
        },
        "id": "LewVbbYJ_eEG",
        "outputId": "f1201be5-c61c-4608-d9f2-709ce8007dd5"
      },
      "execution_count": 18,
      "outputs": [
        {
          "output_type": "stream",
          "name": "stdout",
          "text": [
            "https://8bfj4qi64qk-496ff2e9c6d22116-8000-colab.googleusercontent.com/\n"
          ]
        }
      ]
    },
    {
      "cell_type": "code",
      "source": [
        "# en settings ALLOWED_HOSTS = ['colab.research.google.com'] y en installed apps 'mysite',\n",
        "# mientras se ejecuta esta linea, ir al link de arriba\n",
        "!python manage.py runserver 8000"
      ],
      "metadata": {
        "id": "K2qT-cPi7kct"
      },
      "execution_count": null,
      "outputs": []
    },
    {
      "cell_type": "code",
      "source": [
        ""
      ],
      "metadata": {
        "id": "rBEyQp9PEClR"
      },
      "execution_count": null,
      "outputs": []
    },
    {
      "cell_type": "markdown",
      "source": [
        "PARTE 2"
      ],
      "metadata": {
        "id": "Wor51vgyEDu-"
      }
    },
    {
      "cell_type": "code",
      "source": [
        "!python manage.py startapp polls"
      ],
      "metadata": {
        "id": "SfptIO8z8ptg"
      },
      "execution_count": 15,
      "outputs": []
    },
    {
      "cell_type": "markdown",
      "source": [
        "REFERENCIAS \n",
        "\n",
        "\n",
        "https://github.com/fisadev/talks/blob/master/intro-django/guion-ejemplo-intro-django.rst\n",
        "\n",
        "\n",
        "\n",
        "\n",
        "https://docs.djangoproject.com/en/4.0/intro/tutorial01/\n"
      ],
      "metadata": {
        "id": "Ev07G-CbDsiq"
      }
    },
    {
      "cell_type": "code",
      "source": [
        ""
      ],
      "metadata": {
        "id": "8hsUVVr49J15"
      },
      "execution_count": null,
      "outputs": []
    }
  ]
}
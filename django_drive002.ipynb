{
  "nbformat": 4,
  "nbformat_minor": 0,
  "metadata": {
    "colab": {
      "name": "django_drive001.ipynb",
      "provenance": [],
      "authorship_tag": "ABX9TyOAPeN8L/MJ90cDcYKDThYx",
      "include_colab_link": true
    },
    "kernelspec": {
      "name": "python3",
      "display_name": "Python 3"
    },
    "language_info": {
      "name": "python"
    }
  },
  "cells": [
    {
      "cell_type": "markdown",
      "metadata": {
        "id": "view-in-github",
        "colab_type": "text"
      },
      "source": [
        "<a href=\"https://colab.research.google.com/github/xaldoxxx/curiosidades/blob/main/django_drive002.ipynb\" target=\"_parent\"><img src=\"https://colab.research.google.com/assets/colab-badge.svg\" alt=\"Open In Colab\"/></a>"
      ]
    },
    {
      "cell_type": "markdown",
      "source": [
        "habilitar cookies del navegador!\n",
        "\n",
        "\n",
        "https://django.readthedocs.io/en/3.2.x/intro/install.html\n",
        "\n",
        "\n",
        "https://django.readthedocs.io/en/3.2.x/\n",
        "\n",
        "\n",
        "\n",
        "https://developer.mozilla.org/es/docs/Learn/Server-side/Django/Introduction\n",
        "\n",
        "\n",
        "\n",
        "aqui puede comenzar todo... Django es un framework web de alto nivel que permite el desarrollo rápido de sitios web seguros y mantenibles. Es gratuito y de código abierto,\n",
        "\n",
        "\n",
        "\n",
        "como agregar videos? https://django-embed-video.readthedocs.io/en/latest/"
      ],
      "metadata": {
        "id": "y2dbenpYEGTo"
      }
    },
    {
      "cell_type": "code",
      "source": [
        "!pip install django"
      ],
      "metadata": {
        "colab": {
          "base_uri": "https://localhost:8080/"
        },
        "id": "jEFZUWwLEEoY",
        "outputId": "d41fef4d-64b9-4abe-8c9f-87795a226562"
      },
      "execution_count": 6,
      "outputs": [
        {
          "output_type": "stream",
          "name": "stdout",
          "text": [
            "Requirement already satisfied: django in /usr/local/lib/python3.7/dist-packages (3.2.12)\n",
            "Requirement already satisfied: asgiref<4,>=3.3.2 in /usr/local/lib/python3.7/dist-packages (from django) (3.5.0)\n",
            "Requirement already satisfied: sqlparse>=0.2.2 in /usr/local/lib/python3.7/dist-packages (from django) (0.4.2)\n",
            "Requirement already satisfied: pytz in /usr/local/lib/python3.7/dist-packages (from django) (2018.9)\n",
            "Requirement already satisfied: typing-extensions in /usr/local/lib/python3.7/dist-packages (from asgiref<4,>=3.3.2->django) (3.10.0.2)\n"
          ]
        }
      ]
    },
    {
      "cell_type": "code",
      "source": [
        "!django-admin startproject mysite"
      ],
      "metadata": {
        "id": "0AMWgW4iEElv",
        "colab": {
          "base_uri": "https://localhost:8080/"
        },
        "outputId": "e625699b-dbd4-446e-fb97-5453b7ffce59"
      },
      "execution_count": 7,
      "outputs": [
        {
          "output_type": "stream",
          "name": "stdout",
          "text": [
            "\u001b[31;1mCommandError: '/content/mysite/mysite' already exists\n",
            "\u001b[0m"
          ]
        }
      ]
    },
    {
      "cell_type": "code",
      "source": [
        "%cd /content/mysite/"
      ],
      "metadata": {
        "colab": {
          "base_uri": "https://localhost:8080/"
        },
        "id": "F05qx1tFEEi4",
        "outputId": "b30ee737-f6da-4015-c8a1-01e1f7bf4831"
      },
      "execution_count": 8,
      "outputs": [
        {
          "output_type": "stream",
          "name": "stdout",
          "text": [
            "/content/mysite\n"
          ]
        }
      ]
    },
    {
      "cell_type": "markdown",
      "source": [
        "En /content/mysite/mysite/settings.py \n",
        "\n",
        "    ALLOWED_HOSTS = ['colab.research.google.com']\n",
        "    INSTALLED_APPS = ['mysite',]\n",
        "\n",
        "\n",
        "\n",
        "ref https://django.readthedocs.io/en/3.2.x/ref/settings.html#std-setting-INSTALLED_APPS"
      ],
      "metadata": {
        "id": "VjG5dTbU8Ajm"
      }
    },
    {
      "cell_type": "code",
      "source": [
        "from google.colab.output import eval_js\n",
        "print(eval_js(\"google.colab.kernel.proxyPort(8000)\"))"
      ],
      "metadata": {
        "colab": {
          "base_uri": "https://localhost:8080/",
          "height": 34
        },
        "id": "KtG06ycPEEaj",
        "outputId": "de1fa5ed-25af-460c-95f2-a4c4ab88105b"
      },
      "execution_count": 11,
      "outputs": [
        {
          "output_type": "stream",
          "name": "stdout",
          "text": [
            "https://j0to7ccsikd-496ff2e9c6d22116-8000-colab.googleusercontent.com/\n"
          ]
        }
      ]
    },
    {
      "cell_type": "code",
      "source": [
        "!python manage.py runserver"
      ],
      "metadata": {
        "id": "lwhSD9EqEEVF",
        "colab": {
          "base_uri": "https://localhost:8080/"
        },
        "outputId": "1e130e53-abf6-4fb3-bce9-e85492dbabac"
      },
      "execution_count": 13,
      "outputs": [
        {
          "output_type": "stream",
          "name": "stdout",
          "text": [
            "Watching for file changes with StatReloader\n",
            "Performing system checks...\n",
            "\n",
            "System check identified no issues (0 silenced).\n",
            "\u001b[31m\n",
            "You have 18 unapplied migration(s). Your project may not work properly until you apply the migrations for app(s): admin, auth, contenttypes, sessions.\u001b[0m\n",
            "\u001b[31mRun 'python manage.py migrate' to apply them.\u001b[0m\n",
            "February 07, 2022 - 06:52:09\n",
            "Django version 3.2.12, using settings 'mysite.settings'\n",
            "Starting development server at http://127.0.0.1:8000/\n",
            "Quit the server with CONTROL-C.\n",
            "[07/Feb/2022 06:52:11] \u001b[m\"GET / HTTP/1.1\" 200 10697\u001b[0m\n",
            "[07/Feb/2022 06:52:11] \u001b[m\"GET /static/admin/css/fonts.css HTTP/1.1\" 200 423\u001b[0m\n",
            "[07/Feb/2022 06:52:11] \u001b[m\"GET /static/admin/fonts/Roboto-Bold-webfont.woff HTTP/1.1\" 200 86184\u001b[0m\n",
            "[07/Feb/2022 06:52:11] \u001b[m\"GET /static/admin/fonts/Roboto-Light-webfont.woff HTTP/1.1\" 200 85692\u001b[0m\n",
            "[07/Feb/2022 06:52:11] \u001b[m\"GET /static/admin/fonts/Roboto-Regular-webfont.woff HTTP/1.1\" 200 85876\u001b[0m\n",
            "Not Found: /favicon.ico\n",
            "[07/Feb/2022 06:52:12] \u001b[33m\"GET /favicon.ico HTTP/1.1\" 404 2121\u001b[0m\n"
          ]
        }
      ]
    },
    {
      "cell_type": "markdown",
      "source": [
        "mientras se ejecuta ultima linea, ir al link de arriba"
      ],
      "metadata": {
        "id": "wXUQ8Str86e6"
      }
    },
    {
      "cell_type": "code",
      "source": [
        "def arranca():\n",
        "    from google.colab.output import eval_js\n",
        "    %cd /content/mysite\n",
        "    print(eval_js(\"google.colab.kernel.proxyPort(8000)\"))\n",
        "    !python manage.py runserver"
      ],
      "metadata": {
        "id": "HhdsVBLrEEB0"
      },
      "execution_count": 20,
      "outputs": []
    },
    {
      "cell_type": "code",
      "source": [
        "arranca()"
      ],
      "metadata": {
        "colab": {
          "base_uri": "https://localhost:8080/",
          "height": 347
        },
        "id": "f9zb0s41EK9G",
        "outputId": "5af0a6cd-2002-490f-b995-7c91d6078935"
      },
      "execution_count": 15,
      "outputs": [
        {
          "output_type": "stream",
          "name": "stdout",
          "text": [
            "https://j0to7ccsikd-496ff2e9c6d22116-8000-colab.googleusercontent.com/\n",
            "Watching for file changes with StatReloader\n",
            "Performing system checks...\n",
            "\n",
            "System check identified no issues (0 silenced).\n",
            "\u001b[31m\n",
            "You have 18 unapplied migration(s). Your project may not work properly until you apply the migrations for app(s): admin, auth, contenttypes, sessions.\u001b[0m\n",
            "\u001b[31mRun 'python manage.py migrate' to apply them.\u001b[0m\n",
            "February 07, 2022 - 07:23:20\n",
            "Django version 3.2.12, using settings 'mysite.settings'\n",
            "Starting development server at http://127.0.0.1:8000/\n",
            "Quit the server with CONTROL-C.\n",
            "[07/Feb/2022 07:23:25] \u001b[m\"GET / HTTP/1.1\" 200 10697\u001b[0m\n",
            "[07/Feb/2022 07:23:25] \u001b[m\"GET /static/admin/css/fonts.css HTTP/1.1\" 200 423\u001b[0m\n",
            "[07/Feb/2022 07:23:25] \u001b[m\"GET /static/admin/fonts/Roboto-Bold-webfont.woff HTTP/1.1\" 200 86184\u001b[0m\n",
            "[07/Feb/2022 07:23:26] \u001b[m\"GET /static/admin/fonts/Roboto-Light-webfont.woff HTTP/1.1\" 200 85692\u001b[0m\n",
            "[07/Feb/2022 07:23:26] \u001b[m\"GET /static/admin/fonts/Roboto-Regular-webfont.woff HTTP/1.1\" 200 85876\u001b[0m\n",
            "Not Found: /favicon.ico\n",
            "[07/Feb/2022 07:23:26] \u001b[33m\"GET /favicon.ico HTTP/1.1\" 404 2121\u001b[0m\n"
          ]
        }
      ]
    },
    {
      "cell_type": "code",
      "source": [
        "!python manage.py startapp polls"
      ],
      "metadata": {
        "id": "03XygBWkEMDG"
      },
      "execution_count": 16,
      "outputs": []
    },
    {
      "cell_type": "markdown",
      "source": [
        "en /content/mysite/polls/views.py\n",
        "\n",
        "    from django.http import HttpResponse\n",
        "\n",
        "    def index(request):\n",
        "        return HttpResponse(\"Hello, world. You're at the polls index.\")"
      ],
      "metadata": {
        "id": "S0DIceAqH3n2"
      }
    },
    {
      "cell_type": "code",
      "source": [
        "%cd /content/mysite/polls\n",
        "!touch urls.py\n",
        "%cd .."
      ],
      "metadata": {
        "colab": {
          "base_uri": "https://localhost:8080/"
        },
        "id": "yMwd-IeEHlXQ",
        "outputId": "34b10b8d-4cb9-4318-dc9e-7979a2b8adc9"
      },
      "execution_count": 18,
      "outputs": [
        {
          "output_type": "stream",
          "name": "stdout",
          "text": [
            "/content/mysite/polls\n"
          ]
        }
      ]
    },
    {
      "cell_type": "markdown",
      "source": [
        "en /content/mysite/polls/urls.py\n",
        "\n",
        "\n",
        "    from django.urls import path\n",
        "\n",
        "    from . import views\n",
        "\n",
        "    urlpatterns = [\n",
        "        path('', views.index, name='index'),\n",
        "    ]\n",
        "\n",
        "\n",
        "En /content/mysite/mysite/urls.py\n",
        "\n",
        "    from django.contrib import admin\n",
        "    from django.urls import include, path\n",
        "\n",
        "    urlpatterns = [\n",
        "        path('polls/', include('polls.urls')),\n",
        "        path('admin/', admin.site.urls),\n",
        "    ]\n",
        "\n",
        "\n",
        "\n",
        "\n",
        "argumento path\n",
        "    path()argumento: route¶\n",
        "    routees una cadena que contiene un patrón de URL. Al procesar una solicitud, Django comienza en el primer patrón urlpatternsy avanza hacia abajo en la lista, comparando la URL solicitada con cada patrón hasta que encuentra uno que coincida.\n",
        "\n",
        "    Los patrones no buscan parámetros GET y POST, ni el nombre de dominio. Por ejemplo, en una solicitud a https://www.example.com/myapp/, URLconf buscará myapp/. En una solicitud a https://www.example.com/myapp/?page=3, la URLconf también buscará myapp/.\n",
        "\n",
        "    path()argumento: view¶\n",
        "    Cuando Django encuentra un patrón coincidente, llama a la función de vista especificada con un HttpRequestobjeto como primer argumento y cualquier valor \"capturado\" de la ruta como argumentos de palabra clave. Daremos un ejemplo de esto en un momento.\n",
        "\n",
        "    path()argumento: kwargs¶\n",
        "    Los argumentos de palabras clave arbitrarias se pueden pasar en un diccionario a la vista de destino. No vamos a utilizar esta función de Django en el tutorial.\n",
        "\n",
        "    path()argumento: name¶\n",
        "    Nombrar su URL le permite referirse a ella sin ambigüedades desde cualquier otro lugar de Django, especialmente desde dentro de las plantillas. Esta poderosa función le permite realizar cambios globales en los patrones de URL de su proyecto mientras toca un solo archivo.\n",
        "\n",
        "    Cuando se sienta cómodo con el flujo básico de solicitud y respuesta, lea la parte 2 de este tutorial para comenzar a trabajar con la base de datos."
      ],
      "metadata": {
        "id": "ep_OInLdIbX6"
      }
    },
    {
      "cell_type": "code",
      "source": [
        "arranca() # hay q agregar /polls/ a la url"
      ],
      "metadata": {
        "colab": {
          "base_uri": "https://localhost:8080/",
          "height": 329
        },
        "id": "f4XblwWBHou4",
        "outputId": "4e048db5-bc87-4c74-dc17-be361c062e9f"
      },
      "execution_count": 21,
      "outputs": [
        {
          "output_type": "stream",
          "name": "stdout",
          "text": [
            "/content/mysite\n",
            "https://j0to7ccsikd-496ff2e9c6d22116-8000-colab.googleusercontent.com/\n",
            "Watching for file changes with StatReloader\n",
            "Performing system checks...\n",
            "\n",
            "System check identified no issues (0 silenced).\n",
            "\u001b[31m\n",
            "You have 18 unapplied migration(s). Your project may not work properly until you apply the migrations for app(s): admin, auth, contenttypes, sessions.\u001b[0m\n",
            "\u001b[31mRun 'python manage.py migrate' to apply them.\u001b[0m\n",
            "February 07, 2022 - 07:47:31\n",
            "Django version 3.2.12, using settings 'mysite.settings'\n",
            "Starting development server at http://127.0.0.1:8000/\n",
            "Quit the server with CONTROL-C.\n",
            "Not Found: /\n",
            "[07/Feb/2022 07:47:34] \u001b[33m\"GET / HTTP/1.1\" 404 2176\u001b[0m\n",
            "[07/Feb/2022 07:47:41] \u001b[m\"GET /polls/ HTTP/1.1\" 200 40\u001b[0m\n",
            "Not Found: /favicon.ico\n",
            "[07/Feb/2022 07:47:41] \u001b[33m\"GET /favicon.ico HTTP/1.1\" 404 2227\u001b[0m\n"
          ]
        }
      ]
    },
    {
      "cell_type": "markdown",
      "source": [
        "MODELOS\n",
        "\n",
        "\n",
        "en /content/mysite/polls/models.py\n",
        "\n",
        "\n",
        "    from django.db import models\n",
        "\n",
        "    class Question(models.Model):\n",
        "        question_text = models.CharField(max_length=200)\n",
        "        pub_date = models.DateTimeField('date published')\n",
        "\n",
        "    class Choice(models.Model):\n",
        "        question = models.ForeignKey(Question, on_delete=models.CASCADE)\n",
        "        choice_text = models.CharField(max_length=200)\n",
        "        votes = models.IntegerField(default=0)\n",
        "\n",
        "\n",
        "en /content/mysite/mysite/settings.py\n",
        "\n",
        "    INSTALLED_APPS = [\n",
        "        'polls.apps.PollsConfig',\n",
        "        'django.contrib.admin',\n",
        "        'django.contrib.auth',\n",
        "        'django.contrib.contenttypes',\n",
        "        'django.contrib.sessions',\n",
        "        'django.contrib.messages',\n",
        "        'django.contrib.staticfiles',\n",
        "    ]"
      ],
      "metadata": {
        "id": "CGdIl-TbMB3_"
      }
    },
    {
      "cell_type": "code",
      "source": [
        "%cd /content/mysite"
      ],
      "metadata": {
        "colab": {
          "base_uri": "https://localhost:8080/"
        },
        "id": "5dFKwnoMMwLU",
        "outputId": "b1b6ae13-1562-4960-84e9-c5d575452454"
      },
      "execution_count": 22,
      "outputs": [
        {
          "output_type": "stream",
          "name": "stdout",
          "text": [
            "/content/mysite\n"
          ]
        }
      ]
    },
    {
      "cell_type": "code",
      "source": [
        "!python manage.py makemigrations polls # los cambios se almacenen como una migración ."
      ],
      "metadata": {
        "id": "7Xc9MGZVJuVG"
      },
      "execution_count": null,
      "outputs": []
    },
    {
      "cell_type": "markdown",
      "source": [
        "/content/mysite/polls/migrations/0001_initial.py\n",
        "\n"
      ],
      "metadata": {
        "id": "suJ-F-WBN0Mb"
      }
    },
    {
      "cell_type": "code",
      "source": [
        "!python manage.py sqlmigrate polls 0001 # sqlmigrate toma nombres de migración y devuelve su SQL"
      ],
      "metadata": {
        "colab": {
          "base_uri": "https://localhost:8080/"
        },
        "id": "1KhN30AANZuH",
        "outputId": "882ea5da-8dd6-43c3-c9e2-e4d11e53a485"
      },
      "execution_count": 25,
      "outputs": [
        {
          "output_type": "stream",
          "name": "stdout",
          "text": [
            "BEGIN;\n",
            "--\n",
            "-- Create model Question\n",
            "--\n",
            "CREATE TABLE \"polls_question\" (\"id\" integer NOT NULL PRIMARY KEY AUTOINCREMENT, \"question_text\" varchar(200) NOT NULL, \"pub_date\" datetime NOT NULL);\n",
            "--\n",
            "-- Create model Choice\n",
            "--\n",
            "CREATE TABLE \"polls_choice\" (\"id\" integer NOT NULL PRIMARY KEY AUTOINCREMENT, \"choice_text\" varchar(200) NOT NULL, \"votes\" integer NOT NULL, \"question_id\" bigint NOT NULL REFERENCES \"polls_question\" (\"id\") DEFERRABLE INITIALLY DEFERRED);\n",
            "CREATE INDEX \"polls_choice_question_id_c5b4b260\" ON \"polls_choice\" (\"question_id\");\n",
            "COMMIT;\n"
          ]
        }
      ]
    },
    {
      "cell_type": "markdown",
      "source": [
        "Las migraciones son muy poderosas y le permiten cambiar sus modelos con el tiempo, a medida que desarrolla su proyecto, sin la necesidad de eliminar su base de datos o tablas y crear otras nuevas: se especializa en actualizar su base de datos en vivo, sin perder datos.\n",
        "\n",
        "\n",
        "\n",
        "Tarea\n",
        "\n",
        "Cambia tus modelos (en /content/mysite/polls/models.py).\n",
        "\n",
        "Ejecutar para crear migraciones para esos cambios\n",
        "\n",
        "    !python manage.py makemigrations\n",
        "\n",
        "Ejecutar para aplicar esos cambios a la base de datos.\n",
        "\n",
        "    !python manage.py migrate\n",
        "\n",
        "\n",
        "jugarndo con la api # api de la bd https://django.readthedocs.io/en/3.2.x/topics/db/queries.html\n",
        "\n",
        "    !python manage.py shell"
      ],
      "metadata": {
        "id": "ZsAVeo5uO7tF"
      }
    },
    {
      "cell_type": "code",
      "source": [
        "!python manage.py shell"
      ],
      "metadata": {
        "id": "RUgM2hw1OfFO"
      },
      "execution_count": null,
      "outputs": []
    },
    {
      "cell_type": "markdown",
      "source": [
        "en /content/mysite/polls/models.py\n",
        "\n",
        "    \n",
        "    from django.db import models\n",
        "    from django.utils import timezone\n",
        "    import datetime\n",
        "\n",
        "    # Create your models here.\n",
        "    class Question(models.Model):\n",
        "        question_text = models.CharField(max_length=200)\n",
        "        pub_date = models.DateTimeField('date published')\n",
        "        def __str__(self):\n",
        "            return self.question_text\n",
        "        def was_published_recently(self):\n",
        "            return self.pub_date >= timezone.now() - datetime.timedelta(days=1)\n",
        "\n",
        "    class Choice(models.Model):\n",
        "        question = models.ForeignKey(Question, on_delete=models.CASCADE)\n",
        "        choice_text = models.CharField(max_length=200)\n",
        "        votes = models.IntegerField(default=0)\n",
        "        def __str__(self):\n",
        "            return self.choice_text"
      ],
      "metadata": {
        "id": "IpdRVJ15S-DO"
      }
    },
    {
      "cell_type": "markdown",
      "source": [
        "shell interactivo\n",
        "\n",
        "\n",
        "    !python manage.py shell\n",
        "\n",
        "    from polls.models import Choice, Question\n",
        "    Question.objects.all()\n",
        "    Question.objects.filter(id=1)\n",
        "    Question.objects.filter(question_text__startswith='What')\n",
        "    from django.utils import timezone\n",
        "    current_year = timezone.now().year\n",
        "    Question.objects.get(pub_date__year=current_year)\n",
        "    Question.objects.get(pk=1)\n",
        "\n",
        "\n",
        "\n",
        "acceder a objetos relacionados https://django.readthedocs.io/en/3.2.x/ref/models/relations.html\n",
        "\n",
        "\n",
        "https://django.readthedocs.io/en/3.2.x/intro/tutorial02.html\n"
      ],
      "metadata": {
        "id": "gpafns4eU3r2"
      }
    },
    {
      "cell_type": "code",
      "source": [
        ""
      ],
      "metadata": {
        "id": "Xgdcum_PVpK3"
      },
      "execution_count": null,
      "outputs": []
    },
    {
      "cell_type": "markdown",
      "source": [
        "crear usuario administrador\n",
        "\n",
        "    !python manage.py createsuperuser"
      ],
      "metadata": {
        "id": "8BGQPQzjVprV"
      }
    },
    {
      "cell_type": "code",
      "source": [
        "!python manage.py createsuperuser"
      ],
      "metadata": {
        "id": "xzlDLo44VpHd",
        "outputId": "6586faa1-adb7-4b63-f6e6-1394a24d3dad",
        "colab": {
          "base_uri": "https://localhost:8080/"
        }
      },
      "execution_count": 28,
      "outputs": [
        {
          "output_type": "stream",
          "name": "stdout",
          "text": [
            "\u001b[31m\n",
            "You have 19 unapplied migration(s). Your project may not work properly until you apply the migrations for app(s): admin, auth, contenttypes, polls, sessions.\u001b[0m\n",
            "\u001b[31mRun 'python manage.py migrate' to apply them.\u001b[0m\n",
            "Traceback (most recent call last):\n",
            "  File \"/usr/local/lib/python3.7/dist-packages/django/db/backends/utils.py\", line 84, in _execute\n",
            "    return self.cursor.execute(sql, params)\n",
            "  File \"/usr/local/lib/python3.7/dist-packages/django/db/backends/sqlite3/base.py\", line 423, in execute\n",
            "    return Database.Cursor.execute(self, query, params)\n",
            "sqlite3.OperationalError: no such table: auth_user\n",
            "\n",
            "The above exception was the direct cause of the following exception:\n",
            "\n",
            "Traceback (most recent call last):\n",
            "  File \"manage.py\", line 22, in <module>\n",
            "    main()\n",
            "  File \"manage.py\", line 18, in main\n",
            "    execute_from_command_line(sys.argv)\n",
            "  File \"/usr/local/lib/python3.7/dist-packages/django/core/management/__init__.py\", line 419, in execute_from_command_line\n",
            "    utility.execute()\n",
            "  File \"/usr/local/lib/python3.7/dist-packages/django/core/management/__init__.py\", line 413, in execute\n",
            "    self.fetch_command(subcommand).run_from_argv(self.argv)\n",
            "  File \"/usr/local/lib/python3.7/dist-packages/django/core/management/base.py\", line 354, in run_from_argv\n",
            "    self.execute(*args, **cmd_options)\n",
            "  File \"/usr/local/lib/python3.7/dist-packages/django/contrib/auth/management/commands/createsuperuser.py\", line 79, in execute\n",
            "    return super().execute(*args, **options)\n",
            "  File \"/usr/local/lib/python3.7/dist-packages/django/core/management/base.py\", line 398, in execute\n",
            "    output = self.handle(*args, **options)\n",
            "  File \"/usr/local/lib/python3.7/dist-packages/django/contrib/auth/management/commands/createsuperuser.py\", line 100, in handle\n",
            "    default_username = get_default_username(database=database)\n",
            "  File \"/usr/local/lib/python3.7/dist-packages/django/contrib/auth/management/__init__.py\", line 142, in get_default_username\n",
            "    username=default_username,\n",
            "  File \"/usr/local/lib/python3.7/dist-packages/django/db/models/manager.py\", line 85, in manager_method\n",
            "    return getattr(self.get_queryset(), name)(*args, **kwargs)\n",
            "  File \"/usr/local/lib/python3.7/dist-packages/django/db/models/query.py\", line 431, in get\n",
            "    num = len(clone)\n",
            "  File \"/usr/local/lib/python3.7/dist-packages/django/db/models/query.py\", line 262, in __len__\n",
            "    self._fetch_all()\n",
            "  File \"/usr/local/lib/python3.7/dist-packages/django/db/models/query.py\", line 1324, in _fetch_all\n",
            "    self._result_cache = list(self._iterable_class(self))\n",
            "  File \"/usr/local/lib/python3.7/dist-packages/django/db/models/query.py\", line 51, in __iter__\n",
            "    results = compiler.execute_sql(chunked_fetch=self.chunked_fetch, chunk_size=self.chunk_size)\n",
            "  File \"/usr/local/lib/python3.7/dist-packages/django/db/models/sql/compiler.py\", line 1175, in execute_sql\n",
            "    cursor.execute(sql, params)\n",
            "  File \"/usr/local/lib/python3.7/dist-packages/django/db/backends/utils.py\", line 98, in execute\n",
            "    return super().execute(sql, params)\n",
            "  File \"/usr/local/lib/python3.7/dist-packages/django/db/backends/utils.py\", line 66, in execute\n",
            "    return self._execute_with_wrappers(sql, params, many=False, executor=self._execute)\n",
            "  File \"/usr/local/lib/python3.7/dist-packages/django/db/backends/utils.py\", line 75, in _execute_with_wrappers\n",
            "    return executor(sql, params, many, context)\n",
            "  File \"/usr/local/lib/python3.7/dist-packages/django/db/backends/utils.py\", line 84, in _execute\n",
            "    return self.cursor.execute(sql, params)\n",
            "  File \"/usr/local/lib/python3.7/dist-packages/django/db/utils.py\", line 90, in __exit__\n",
            "    raise dj_exc_value.with_traceback(traceback) from exc_value\n",
            "  File \"/usr/local/lib/python3.7/dist-packages/django/db/backends/utils.py\", line 84, in _execute\n",
            "    return self.cursor.execute(sql, params)\n",
            "  File \"/usr/local/lib/python3.7/dist-packages/django/db/backends/sqlite3/base.py\", line 423, in execute\n",
            "    return Database.Cursor.execute(self, query, params)\n",
            "django.db.utils.OperationalError: no such table: auth_user\n"
          ]
        }
      ]
    },
    {
      "cell_type": "code",
      "source": [
        ""
      ],
      "metadata": {
        "id": "QmSCJU6HU26u"
      },
      "execution_count": null,
      "outputs": []
    },
    {
      "cell_type": "code",
      "source": [
        ""
      ],
      "metadata": {
        "id": "3Qe5a84pSEfI"
      },
      "execution_count": null,
      "outputs": []
    }
  ]
}
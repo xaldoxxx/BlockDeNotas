{
  "nbformat": 4,
  "nbformat_minor": 0,
  "metadata": {
    "colab": {
      "provenance": [],
      "authorship_tag": "ABX9TyPdcLPE/BcuBkO0UStQIBMU",
      "include_colab_link": true
    },
    "kernelspec": {
      "name": "python3",
      "display_name": "Python 3"
    },
    "language_info": {
      "name": "python"
    }
  },
  "cells": [
    {
      "cell_type": "markdown",
      "metadata": {
        "id": "view-in-github",
        "colab_type": "text"
      },
      "source": [
        "<a href=\"https://colab.research.google.com/github/xaldoxxx/BlockDeNotas/blob/main/requests.ipynb\" target=\"_parent\"><img src=\"https://colab.research.google.com/assets/colab-badge.svg\" alt=\"Open In Colab\"/></a>"
      ]
    },
    {
      "cell_type": "code",
      "execution_count": null,
      "metadata": {
        "id": "rUIXXeaeuk_2"
      },
      "outputs": [],
      "source": [
        "# por ahora este codigo hace 10 solicitudes a una url\n",
        "# y devuelve cuanto tiempo tardan esas solicitudes en paralelo\n",
        "import requests\n",
        "import concurrent.futures\n",
        "import time\n",
        "\n",
        "class RequestSender:\n",
        "    def __init__(self, url, num_workers=5):\n",
        "        self.url = url\n",
        "        self.num_workers = num_workers\n",
        "\n",
        "    def enviar_solicitudes(self, urls):\n",
        "        start_time = time.time()  # Iniciar el temporizador\n",
        "        with concurrent.futures.ThreadPoolExecutor(max_workers=self.num_workers) as executor:\n",
        "            resultados = executor.map(self.enviar_solicitud, urls)\n",
        "        end_time = time.time()  # Detener el temporizador\n",
        "        elapsed_time = end_time - start_time  # Calcular el tiempo transcurrido\n",
        "        return resultados, elapsed_time\n",
        "\n",
        "    def enviar_solicitud(self, url):\n",
        "        try:\n",
        "            response = requests.get(url)\n",
        "            # Puedes realizar más procesamiento de la respuesta aquí si es necesario\n",
        "            return f'Solicitud a {url} completada con estado {response.status_code}'\n",
        "        except Exception as e:\n",
        "            return f'Error al enviar solicitud a {url}: {str(e)}'\n",
        "\n",
        "if __name__ == \"__main__\":\n",
        "    # URL del sitio web al que deseas enviar solicitudes\n",
        "    url = 'https://www.nicehash.com/'\n",
        "\n",
        "    # Lista de URLs a las que deseas enviar solicitudes en paralelo\n",
        "    urls = [url] * 20  # En este ejemplo, enviamos 10 solicitudes a la misma URL\n",
        "\n",
        "    # Crear una instancia de RequestSender\n",
        "    requester = RequestSender(url)\n",
        "\n",
        "    # Enviar solicitudes en paralelo y medir el tiempo\n",
        "    resultados, elapsed_time = requester.enviar_solicitudes(urls)\n",
        "\n",
        "    # Imprimir los resultados\n",
        "    for resultado in resultados:\n",
        "        print(resultado)\n",
        "\n",
        "    # Imprimir el tiempo transcurrido\n",
        "    print(f\"Las 10 solicitudes en paralelo se hicieron en {elapsed_time:.2f} segundos\")\n"
      ]
    }
  ]
}
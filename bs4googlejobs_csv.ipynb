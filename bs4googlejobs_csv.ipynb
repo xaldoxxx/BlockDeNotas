{
  "nbformat": 4,
  "nbformat_minor": 0,
  "metadata": {
    "colab": {
      "provenance": [],
      "include_colab_link": true
    },
    "kernelspec": {
      "name": "python3",
      "display_name": "Python 3"
    },
    "language_info": {
      "name": "python"
    }
  },
  "cells": [
    {
      "cell_type": "markdown",
      "metadata": {
        "id": "view-in-github",
        "colab_type": "text"
      },
      "source": [
        "<a href=\"https://colab.research.google.com/github/xaldoxxx/BlockDeNotas/blob/main/bs4googlejobs_csv.ipynb\" target=\"_parent\"><img src=\"https://colab.research.google.com/assets/colab-badge.svg\" alt=\"Open In Colab\"/></a>"
      ]
    },
    {
      "cell_type": "markdown",
      "source": [
        "obtener en un csv los trabajos de google"
      ],
      "metadata": {
        "id": "beoTZ5bnazE3"
      }
    },
    {
      "cell_type": "code",
      "execution_count": null,
      "metadata": {
        "id": "SMGWw955atnS"
      },
      "outputs": [],
      "source": [
        "import requests\n",
        "from bs4 import BeautifulSoup\n",
        "import pandas as pd"
      ]
    },
    {
      "cell_type": "code",
      "source": [
        "def get_soup(url):\n",
        "    headers = {\n",
        "        'User-Agent': 'Mozilla/5.0 (X11; Linux x86_64) AppleWebKit/537.36 (KHTML, like Gecko) Chrome/91.0.4472.114 Safari/537.36',\n",
        "        'Accept': 'text/html,application/xhtml+xml,application/xml;q=0.9,image/webp,image/apng,*/*;q=0.8,application/signed-exchange;v=b3;q=0.9',\n",
        "        'Accept-Language': 'en-US,en;q=0.9',\n",
        "#        'Accept-Encoding': 'gzip, deflate, br',\n",
        "        'Connection': 'keep-alive',\n",
        "        'Upgrade-Insecure-Requests': '1',\n",
        "        'Cache-Control': 'max-age=0',\n",
        "    }\n",
        "    r = requests.get(url, headers=headers)\n",
        "    return BeautifulSoup(r.text, 'html.parser')"
      ],
      "metadata": {
        "id": "UpWpOnt3a7fv"
      },
      "execution_count": null,
      "outputs": []
    },
    {
      "cell_type": "code",
      "source": [
        "url = \"https://www.google.com/search?q=python+remote&rlz=1C1SQJL_esAR912AR912&oq=google+jobs&aqs=chrome..69i57j69i64.2711j0j9&sourceid=chrome&ie=UTF-8&ibp=htl;jobs&sa=X&ved=2ahUKEwj4oOvf27T7AhVqq5UCHUBbAooQutcGKAB6BAgJEAQ&sxsrf=ALiCzsbic5TdJbvot5xQXqkXaN8HV1zMyA:1668670962723#fpstate=tldetail&htivrt=jobs&htichips=language:es,date_posted:3days&htischips=language;es,date_posted;3days&htidocid=BJRGWNr_JWUAAAAAAAAAAA%3D%3D\""
      ],
      "metadata": {
        "id": "nQa-vkwsa-bf"
      },
      "execution_count": null,
      "outputs": []
    },
    {
      "cell_type": "code",
      "source": [
        "soup = get_soup(url)"
      ],
      "metadata": {
        "id": "vuwGSrQcbIVv"
      },
      "execution_count": null,
      "outputs": []
    },
    {
      "cell_type": "code",
      "source": [
        "# obtener titulos de los trabajos\n",
        "titles = soup.find_all('div', class_='BjJfJf PUpOsf')\n",
        "titles = [title.text for title in titles]\n",
        "\n",
        "# nombre compañia\n",
        "companies = soup.find_all('div', class_='vNEEBe')\n",
        "companies = [companie.text for companie in companies]\n",
        "\n",
        "# ubicacion\n",
        "locations = soup.find_all('div', class_='Qk80Jf')\n",
        "locations = [location.text for location in locations]\n",
        "\n",
        "# descripcion\n",
        "descriptions = soup.find_all('span', class_='HBvzbc')\n",
        "descriptions = [description.text for description in descriptions]\n",
        "\n",
        "# links\n",
        "links = [a['href'] for a in soup.findAll('a', attrs={'class':'pMhGee Co68jc j0vryd'})]\n",
        "# links = [link.text for link in links]\n"
      ],
      "metadata": {
        "id": "3pta7Nf8bKsO"
      },
      "execution_count": null,
      "outputs": []
    },
    {
      "cell_type": "code",
      "source": [
        "[location.text for location in soup.find_all('div', class_='Qk80Jf')] # problema 1"
      ],
      "metadata": {
        "colab": {
          "base_uri": "https://localhost:8080/"
        },
        "id": "VAqPZ79ebPhH",
        "outputId": "fd89aaa2-839c-45a3-ef90-1923743280bf"
      },
      "execution_count": null,
      "outputs": [
        {
          "output_type": "execute_result",
          "data": {
            "text/plain": [
              "['Anywhere',\n",
              " 'via Dice',\n",
              " 'Anywhere',\n",
              " 'via LinkedIn',\n",
              " 'Anywhere',\n",
              " 'via Dice',\n",
              " 'Anywhere',\n",
              " 'via Dice',\n",
              " 'Anywhere',\n",
              " 'via Dice',\n",
              " 'Anywhere',\n",
              " 'via LinkedIn',\n",
              " 'Anywhere',\n",
              " 'via LinkedIn',\n",
              " 'Anywhere',\n",
              " 'via LinkedIn',\n",
              " 'Anywhere',\n",
              " 'via LinkedIn',\n",
              " 'Anywhere',\n",
              " 'via Salary.com']"
            ]
          },
          "metadata": {},
          "execution_count": 25
        }
      ]
    },
    {
      "cell_type": "code",
      "source": [
        "[a['href'] for a in soup.findAll('a', attrs={'class':'pMhGee Co68jc j0vryd'})] #links"
      ],
      "metadata": {
        "colab": {
          "base_uri": "https://localhost:8080/"
        },
        "id": "UW8xZzJZbVEo",
        "outputId": "bc9f55eb-42c9-41de-9b0d-2c11f3832e3b"
      },
      "execution_count": null,
      "outputs": [
        {
          "output_type": "execute_result",
          "data": {
            "text/plain": [
              "['https://www.linkedin.com/jobs/view/python-developer-at-abvina-llc-3361537596?utm_campaign=google_jobs_apply&utm_source=google_jobs_apply&utm_medium=organic',\n",
              " 'https://www.linkedin.com/jobs/view/python-developer-at-precision-technologies-3356694949?utm_campaign=google_jobs_apply&utm_source=google_jobs_apply&utm_medium=organic',\n",
              " 'https://www.linkedin.com/jobs/view/remote-python-developer-150k-at-dice-3358324943?utm_campaign=google_jobs_apply&utm_source=google_jobs_apply&utm_medium=organic',\n",
              " 'https://www.linkedin.com/jobs/view/senior-python-developer-at-dice-3361521632?utm_campaign=google_jobs_apply&utm_source=google_jobs_apply&utm_medium=organic',\n",
              " 'https://www.linkedin.com/jobs/view/senior-python-engineer-us-fully-remote-at-within3-3358769011?utm_campaign=google_jobs_apply&utm_source=google_jobs_apply&utm_medium=organic',\n",
              " 'https://www.salary.com/job/american-express/engineer-python-remote-or-hybrid/j202211100316467571411?utm_campaign=google_jobs_apply&utm_source=google_jobs_apply&utm_medium=organic']"
            ]
          },
          "metadata": {},
          "execution_count": 26
        }
      ]
    },
    {
      "cell_type": "code",
      "source": [
        "print(len(titles), len(companies), len(locations), len(descriptions) , len(links)) # es un problema, tienen distinto tamaño"
      ],
      "metadata": {
        "colab": {
          "base_uri": "https://localhost:8080/"
        },
        "id": "9NJgnzU_barw",
        "outputId": "310091c8-64eb-461e-db01-e59931fe7cd8"
      },
      "execution_count": null,
      "outputs": [
        {
          "output_type": "stream",
          "name": "stdout",
          "text": [
            "10 10 20 10 6\n"
          ]
        }
      ]
    },
    {
      "cell_type": "code",
      "source": [],
      "metadata": {
        "id": "v0nYxSbSbfpg"
      },
      "execution_count": null,
      "outputs": []
    }
  ]
}
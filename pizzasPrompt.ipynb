{
  "nbformat": 4,
  "nbformat_minor": 0,
  "metadata": {
    "colab": {
      "provenance": [],
      "authorship_tag": "ABX9TyMY5B/3YTHYdZTZUXmLDZ+h",
      "include_colab_link": true
    },
    "kernelspec": {
      "name": "python3",
      "display_name": "Python 3"
    },
    "language_info": {
      "name": "python"
    }
  },
  "cells": [
    {
      "cell_type": "markdown",
      "metadata": {
        "id": "view-in-github",
        "colab_type": "text"
      },
      "source": [
        "<a href=\"https://colab.research.google.com/github/xaldoxxx/BlockDeNotas/blob/main/pizzasPrompt.ipynb\" target=\"_parent\"><img src=\"https://colab.research.google.com/assets/colab-badge.svg\" alt=\"Open In Colab\"/></a>"
      ]
    },
    {
      "cell_type": "code",
      "execution_count": 1,
      "metadata": {
        "colab": {
          "base_uri": "https://localhost:8080/"
        },
        "id": "mw5u54yL_MWd",
        "outputId": "4b1e7302-dbb8-46c3-c61a-12820fa2d28f"
      },
      "outputs": [
        {
          "output_type": "stream",
          "name": "stdout",
          "text": [
            "Receta: Receta extravagante\n",
            "Ingredientes:\n",
            "- Mermelada de fresa\n",
            "- Queso azul\n",
            "- Azafrán\n",
            "- Aceitunas verdes\n",
            "- Chocolate blanco\n",
            "Pasos de preparación:\n",
            "1. Servir con galletas saladas\n",
            "2. Cocinar a fuego lento durante 30 minutos\n",
            "3. Enfriar en el refrigerador durante una hora\n",
            "4. Batir todos los ingredientes juntos\n",
            "5. Decorar con hojas de menta\n",
            "\n"
          ]
        }
      ],
      "source": [
        "class Ingredient:\n",
        "    def __init__(self, name):\n",
        "        self.name = name\n",
        "\n",
        "    def __str__(self):\n",
        "        return self.name\n",
        "class Recipe:\n",
        "    def __init__(self, name, ingredients, steps):\n",
        "        self.name = name\n",
        "        self.ingredients = ingredients\n",
        "        self.steps = steps\n",
        "\n",
        "    def __str__(self):\n",
        "        recipe_str = f\"Receta: {self.name}\\n\"\n",
        "        recipe_str += \"Ingredientes:\\n\"\n",
        "        for ingredient in self.ingredients:\n",
        "            recipe_str += f\"- {ingredient}\\n\"\n",
        "        recipe_str += \"Pasos de preparación:\\n\"\n",
        "        for i, step in enumerate(self.steps, start=1):\n",
        "            recipe_str += f\"{i}. {step}\\n\"\n",
        "        return recipe_str\n",
        "import random\n",
        "\n",
        "class RecipeGenerator:\n",
        "    def __init__(self, ingredients, steps):\n",
        "        self.ingredients = ingredients\n",
        "        self.steps = steps\n",
        "\n",
        "    def generate_recipe(self):\n",
        "        name = \"Receta extravagante\"\n",
        "        random.shuffle(self.ingredients)\n",
        "        random.shuffle(self.steps)\n",
        "        recipe_ingredients = self.ingredients[:random.randint(3, 6)]\n",
        "        recipe_steps = self.steps[:random.randint(4, 8)]\n",
        "        return Recipe(name, recipe_ingredients, recipe_steps)\n",
        "ingredients_list = [\"Tofu\", \"Chocolate blanco\", \"Azafrán\", \"Jengibre\", \"Algas marinas\", \"Chile picante\", \"Mermelada de fresa\", \"Salsa de soja\", \"Queso azul\", \"Aceitunas verdes\"]\n",
        "steps_list = [\"Batir todos los ingredientes juntos\", \"Cocinar a fuego lento durante 30 minutos\", \"Enfriar en el refrigerador durante una hora\", \"Decorar con hojas de menta\", \"Servir con galletas saladas\"]\n",
        "generator = RecipeGenerator(ingredients_list, steps_list)\n",
        "recipe = generator.generate_recipe()\n",
        "print(recipe)\n"
      ]
    },
    {
      "cell_type": "code",
      "source": [
        "import random\n",
        "\n",
        "class Ingredient:\n",
        "    def __init__(self, name):\n",
        "        self.name = name\n",
        "\n",
        "    def __str__(self):\n",
        "        return self.name\n",
        "\n",
        "class Recipe:\n",
        "    def __init__(self, name, ingredients, steps):\n",
        "        self.name = name\n",
        "        self.ingredients = ingredients\n",
        "        self.steps = steps\n",
        "\n",
        "    def __str__(self):\n",
        "        recipe_str = f\"Receta: {self.name}\\n\"\n",
        "        recipe_str += \"Ingredientes:\\n\"\n",
        "        recipe_str += '\\n'.join([f\"- {ingredient}\" for ingredient in self.ingredients])\n",
        "        recipe_str += \"\\nPasos de preparación:\\n\"\n",
        "        recipe_str += '\\n'.join([f\"{i+1}. {step}\" for i, step in enumerate(self.steps)])\n",
        "        return recipe_str\n",
        "\n",
        "class RecipeGenerator:\n",
        "    def __init__(self, ingredients, steps):\n",
        "        self.ingredients = ingredients\n",
        "        self.steps = steps\n",
        "\n",
        "    def generate_recipe(self):\n",
        "        name = \"Receta extravagante\"\n",
        "        random.shuffle(self.ingredients)\n",
        "        random.shuffle(self.steps)\n",
        "        recipe_ingredients = random.sample(self.ingredients, random.randint(3, 6))\n",
        "        recipe_steps = random.sample(self.steps, random.randint(4, 8))\n",
        "        return Recipe(name, recipe_ingredients, recipe_steps)\n",
        "\n",
        "ingredients_list = [\"Tofu\", \"Chocolate blanco\", \"Azafrán\", \"Jengibre\", \"Algas marinas\", \"Chile picante\", \"Mermelada de fresa\", \"Salsa de soja\", \"Queso azul\", \"Aceitunas verdes\"]\n",
        "steps_list = [\"Batir todos los ingredientes juntos\", \"Cocinar a fuego lento durante 30 minutos\", \"Enfriar en el refrigerador durante una hora\", \"Decorar con hojas de menta\", \"Servir con galletas saladas\"]\n",
        "\n",
        "generator = RecipeGenerator(ingredients_list, steps_list)\n",
        "recipe = generator.generate_recipe()\n",
        "print(recipe)"
      ],
      "metadata": {
        "colab": {
          "base_uri": "https://localhost:8080/"
        },
        "id": "EkxiI39D_XSm",
        "outputId": "8aebe7cf-e8b3-4773-afe8-1951faa77944"
      },
      "execution_count": 2,
      "outputs": [
        {
          "output_type": "stream",
          "name": "stdout",
          "text": [
            "Receta: Receta extravagante\n",
            "Ingredientes:\n",
            "- Queso azul\n",
            "- Jengibre\n",
            "- Algas marinas\n",
            "- Mermelada de fresa\n",
            "Pasos de preparación:\n",
            "1. Batir todos los ingredientes juntos\n",
            "2. Cocinar a fuego lento durante 30 minutos\n",
            "3. Servir con galletas saladas\n",
            "4. Enfriar en el refrigerador durante una hora\n"
          ]
        }
      ]
    },
    {
      "cell_type": "code",
      "source": [
        "import random\n",
        "\n",
        "class Ingredient:\n",
        "    def __init__(self, name):\n",
        "        self.name = name\n",
        "\n",
        "    def __str__(self):\n",
        "        return self.name\n",
        "\n",
        "class Recipe:\n",
        "    def __init__(self, name, ingredients, steps):\n",
        "        self.name = name\n",
        "        self.ingredients = ingredients\n",
        "        self.steps = steps\n",
        "\n",
        "    def __str__(self):\n",
        "        recipe_str = f\"Receta: {self.name}\\n\"\n",
        "        recipe_str += \"Ingredientes:\\n\"\n",
        "        for ingredient in self.ingredients:\n",
        "            recipe_str += f\"- {ingredient}\\n\"\n",
        "        recipe_str += \"Pasos de preparación:\\n\"\n",
        "        for i, step in enumerate(self.steps, start=1):\n",
        "            recipe_str += f\"{i}. {step}\\n\"\n",
        "        return recipe_str\n",
        "\n",
        "class RecipeGenerator:\n",
        "    def __init__(self, ingredients, steps):\n",
        "        self.ingredients = ingredients\n",
        "        self.steps = steps\n",
        "\n",
        "    def generate_recipe(self):\n",
        "        name = \"Receta de Pizza\"\n",
        "        random.shuffle(self.ingredients)\n",
        "        random.shuffle(self.steps)\n",
        "        num_ingredients = random.randint(5, min(len(self.ingredients), 8))\n",
        "        num_steps = random.randint(6, min(len(self.steps), 10))\n",
        "        recipe_ingredients = random.sample(self.ingredients, num_ingredients)\n",
        "        recipe_steps = random.sample(self.steps, num_steps)\n",
        "        return Recipe(name, recipe_ingredients, recipe_steps)\n",
        "\n",
        "ingredients_list = [\n",
        "    \"Pepperoni\",\n",
        "    \"Piña\",\n",
        "    \"Chocolate\",\n",
        "    \"Pepinillos\",\n",
        "    \"Anchoas\",\n",
        "    \"Arándanos\",\n",
        "    \"Cebollas caramelizadas\",\n",
        "    \"Salsa de chile\",\n",
        "    \"Champiñones\",\n",
        "    \"Aceitunas negras\",\n",
        "    \"Queso azul\",\n",
        "    \"Albahaca fresca\",\n",
        "    \"Jamón serrano\",\n",
        "    \"Mango en cubos\",\n",
        "    \"Provolone\",\n",
        "    \"Dulce de leche\",\n",
        "    \"Empanadas\",\n",
        "    \"Matambre\",\n",
        "    \"Yerba mate\",\n",
        "    \"Asado\",\n",
        "    \"Salsa de tomate\",\n",
        "    \"Salami\",\n",
        "    \"Huevos\",\n",
        "    \"Lechuga\",\n",
        "    \"Tomate\",\n",
        "    \"Mayonesa\",\n",
        "    \"Mostaza\",\n",
        "    \"Cebolla\",\n",
        "    \"Pimiento\",\n",
        "    \"Panceta\",\n",
        "    \"Aceite de oliva\",\n",
        "    \"Vinagre balsámico\",\n",
        "    \"Parmesano rallado\",\n",
        "    \"Rúcula\",\n",
        "    \"Pesto\",\n",
        "    \"Aceitunas verdes\",\n",
        "    \"Alcaparras\",\n",
        "    \"Ajo\",\n",
        "    \"Orégano\",\n",
        "    \"Pimentón\",\n",
        "    \"Chorizo\",\n",
        "    \"Morrones\",\n",
        "    \"Tomates secos\",\n",
        "    \"Aceite de trufa\",\n",
        "    \"Hongos\",\n",
        "    \"Ricota\",\n",
        "    \"Mozzarella\",\n",
        "    \"Pesto de albahaca\",\n",
        "    \"Almendras fileteadas\",\n",
        "    \"Palmitos\",\n",
        "    \"Atún en lata\",\n",
        "]\n",
        "\n",
        "steps_list = [\n",
        "    \"Colocar el pepperoni como estrellas en la constelación de Aries\",\n",
        "    \"Alinear las rodajas de piña y anchoas en patrones zodiacales\",\n",
        "    \"Rociar el chocolate sagrado en forma de órbitas planetarias\",\n",
        "    \"Bendecir los arándanos y pepinillos con afirmaciones positivas\",\n",
        "    \"Hornear la pizza alineada con las energías del sol y la luna\",\n",
        "    \"Decorar con cebollas caramelizadas en forma de signo del zodíaco, champiñones en espirales cósmicas y albahaca fresca bendecida por los astros\",\n",
        "    \"Terminar con una lluvia de aceitunas negras cargadas de vibraciones lunares y mango en cubos alineados con los planetas\",\n",
        "    \"Agregar trozos de queso derretido como estrellas fugaces\",\n",
        "    \"Esparcir polvo de hadas para añadir un toque mágico\",\n",
        "    \"Soplar besos de buena suerte sobre la pizza antes de hornearla\",\n",
        "    \"Dejar que las especias bailen en el aire antes de sazonar la pizza\",\n",
        "    \"Convertir los tomates en rubíes brillantes para una explosión de color\",\n",
        "    \"Invocar a los espíritus culinarios para que bendigan la preparación\",\n",
        "    \"Usar el queso como lienzo y pintar una obra de arte comestible\",\n",
        "    \"Añadir un toque de locura al saltear los ingredientes en el aire\",\n",
        "    \"Susurrar palabras mágicas mientras se mezclan los sabores\",\n",
        "    \"Infundir el aceite de oliva con energía cósmica antes de usarlo\",\n",
        "    \"Enrollar la pizza en forma de espiral para crear un portal a otro mundo\",\n",
        "    \"Transformar los champiñones en sombreros mágicos para una experiencia sensorial\",\n",
        "    \"Hacer un ritual de agradecimiento a los ingredientes antes de comenzar\",\n",
        "    \"Utilizar una pizca de polvo de estrellas para darle un toque místico\",\n",
        "]\n",
        "\n",
        "\n",
        "generator = RecipeGenerator(ingredients_list, steps_list)\n",
        "recipe = generator.generate_recipe()\n",
        "print(recipe)\n"
      ],
      "metadata": {
        "colab": {
          "base_uri": "https://localhost:8080/"
        },
        "id": "Lm8R5SuK_cSl",
        "outputId": "10d86c79-3c1a-4584-a9f6-0e7714dcd359"
      },
      "execution_count": 3,
      "outputs": [
        {
          "output_type": "stream",
          "name": "stdout",
          "text": [
            "Receta: Receta de Pizza\n",
            "Ingredientes:\n",
            "- Yerba mate\n",
            "- Salami\n",
            "- Piña\n",
            "- Aceitunas verdes\n",
            "- Empanadas\n",
            "- Orégano\n",
            "Pasos de preparación:\n",
            "1. Colocar el pepperoni como estrellas en la constelación de Aries\n",
            "2. Infundir el aceite de oliva con energía cósmica antes de usarlo\n",
            "3. Soplar besos de buena suerte sobre la pizza antes de hornearla\n",
            "4. Rociar el chocolate sagrado en forma de órbitas planetarias\n",
            "5. Dejar que las especias bailen en el aire antes de sazonar la pizza\n",
            "6. Alinear las rodajas de piña y anchoas en patrones zodiacales\n",
            "7. Invocar a los espíritus culinarios para que bendigan la preparación\n",
            "8. Susurrar palabras mágicas mientras se mezclan los sabores\n",
            "9. Usar el queso como lienzo y pintar una obra de arte comestible\n",
            "10. Hornear la pizza alineada con las energías del sol y la luna\n",
            "\n"
          ]
        }
      ]
    },
    {
      "cell_type": "code",
      "source": [
        "import random\n",
        "\n",
        "class Ingredient:\n",
        "    def __init__(self, name):\n",
        "        self.name = name\n",
        "\n",
        "    def __str__(self):\n",
        "        return self.name\n",
        "\n",
        "class Recipe:\n",
        "    def __init__(self, name, ingredients, steps):\n",
        "        self.name = name\n",
        "        self.ingredients = ingredients\n",
        "        self.steps = steps\n",
        "\n",
        "    def __str__(self):\n",
        "        recipe_str = f\"Receta: {self.name}\\n\"\n",
        "        recipe_str += \"Ingredientes:\\n\"\n",
        "        for ingredient in self.ingredients:\n",
        "            recipe_str += f\"- {ingredient}\\n\"\n",
        "        recipe_str += \"Pasos de preparación:\\n\"\n",
        "        for i, step in enumerate(self.steps, start=1):\n",
        "            recipe_str += f\"{i}. {step}\\n\"\n",
        "        return recipe_str\n",
        "\n",
        "class RecipeGenerator:\n",
        "    def __init__(self, ingredients, steps):\n",
        "        self.ingredients = ingredients\n",
        "        self.steps = steps\n",
        "\n",
        "    def generate_recipe(self):\n",
        "        name = \"Receta de Risotto\"\n",
        "        random.shuffle(self.ingredients)\n",
        "        random.shuffle(self.steps)\n",
        "        num_ingredients = random.randint(5, min(len(self.ingredients), 8))\n",
        "        num_steps = random.randint(6, min(len(self.steps), 10))\n",
        "        recipe_ingredients = random.sample(self.ingredients, num_ingredients)\n",
        "        recipe_steps = random.sample(self.steps, num_steps)\n",
        "        return Recipe(name, recipe_ingredients, recipe_steps)\n",
        "\n",
        "ingredients_list = [\n",
        "    \"Arroz Arborio\",\n",
        "    \"Caldo de verduras\",\n",
        "    \"Cebolla\",\n",
        "    \"Vino blanco\",\n",
        "    \"Mantequilla\",\n",
        "    \"Queso parmesano\",\n",
        "    \"Aceite de oliva\",\n",
        "    \"Ajo\",\n",
        "    \"Champiñones\",\n",
        "    \"Espárragos\",\n",
        "    \"Espinacas\",\n",
        "    \"Tomates secados al sol\",\n",
        "    \"Sal\",\n",
        "    \"Pimienta\",\n",
        "]\n",
        "\n",
        "steps_list = [\n",
        "    \"En una olla, calentar el caldo de verduras y mantenerlo caliente a fuego lento.\",\n",
        "    \"En otra olla grande, calentar el aceite de oliva y derretir la mantequilla a fuego medio.\",\n",
        "    \"Agregar la cebolla picada y el ajo picado. Cocinar hasta que estén tiernos.\",\n",
        "    \"Agregar el arroz Arborio y cocinar por unos minutos hasta que esté ligeramente dorado.\",\n",
        "    \"Añadir el vino blanco y cocinar hasta que se haya evaporado.\",\n",
        "    \"Comenzar a agregar el caldo caliente, una cucharón a la vez, y cocinar a fuego medio-bajo, revolviendo constantemente.\",\n",
        "    \"Continuar agregando caldo y revolviendo hasta que el arroz esté al dente y haya absorbido la mayor parte del líquido.\",\n",
        "    \"Agregar los champiñones, espárragos, espinacas y tomates secados al sol. Cocinar por unos minutos hasta que estén tiernos.\",\n",
        "    \"Retirar del fuego y agregar el queso parmesano. Revolver hasta que se derrita y se mezcle bien.\",\n",
        "    \"Sazonar con sal y pimienta al gusto.\",\n",
        "    \"Servir caliente y disfrutar de este delicioso risotto casero.\",\n",
        "]\n",
        "\n",
        "generator = RecipeGenerator(ingredients_list, steps_list)\n",
        "recipe = generator.generate_recipe()\n",
        "print(recipe)\n"
      ],
      "metadata": {
        "colab": {
          "base_uri": "https://localhost:8080/"
        },
        "id": "5ybehIea_hfk",
        "outputId": "37e1eb0c-e11b-43ea-b5fd-d07669118cb2"
      },
      "execution_count": 4,
      "outputs": [
        {
          "output_type": "stream",
          "name": "stdout",
          "text": [
            "Receta: Receta de Risotto\n",
            "Ingredientes:\n",
            "- Espinacas\n",
            "- Sal\n",
            "- Caldo de verduras\n",
            "- Arroz Arborio\n",
            "- Espárragos\n",
            "- Cebolla\n",
            "- Mantequilla\n",
            "Pasos de preparación:\n",
            "1. Sazonar con sal y pimienta al gusto.\n",
            "2. Añadir el vino blanco y cocinar hasta que se haya evaporado.\n",
            "3. En otra olla grande, calentar el aceite de oliva y derretir la mantequilla a fuego medio.\n",
            "4. Agregar los champiñones, espárragos, espinacas y tomates secados al sol. Cocinar por unos minutos hasta que estén tiernos.\n",
            "5. En una olla, calentar el caldo de verduras y mantenerlo caliente a fuego lento.\n",
            "6. Servir caliente y disfrutar de este delicioso risotto casero.\n",
            "7. Agregar el arroz Arborio y cocinar por unos minutos hasta que esté ligeramente dorado.\n",
            "8. Continuar agregando caldo y revolviendo hasta que el arroz esté al dente y haya absorbido la mayor parte del líquido.\n",
            "\n"
          ]
        }
      ]
    },
    {
      "cell_type": "code",
      "source": [],
      "metadata": {
        "id": "YmDYoTDk_m1s"
      },
      "execution_count": null,
      "outputs": []
    },
    {
      "cell_type": "markdown",
      "source": [
        "<h1>aqui empezamos con el prompt!</h1>"
      ],
      "metadata": {
        "id": "qV3T4Vgp_0Of"
      }
    },
    {
      "cell_type": "code",
      "source": [
        "recursos = ['Realismo alucinatorio','Llamadas a la acción persuasivas', \"Metáforas en la naturaleza\",\"Descripciones sensoriales detalladas\", \"Uso de simbolismo cultural\", \"Juegos de palabras y sutilezas lingüísticas\", \"Fragmentación narrativa\", \"Reflexiones filosóficas\", \"Exploración de la identidad y la alienación\", \"Narrativa introspectiva y psicológica\", \"Estilo minimalista y conciso\", \"Uso de imágenes vívidas y evocativas\", \"Interacción entre lo real y lo surrealista\", \"Experimentación con la forma y la estructura\", \"Ritmo y repetición poética\", \"Referencias históricas y culturales\", \"Uso de la soledad como tema recurrente\", \"Descripciones detalladas de la vida urbana\", \"Exploración de la condición humana y existencial\", \"Narrativa no lineal\", \"Incorporación de elementos teatrales\", \"Uso de la ironía y el humor sutil\",'Persuasión emocional', 'Storytelling convincente', 'Uso efectivo de palabras clave', 'Descripciones persuasivas', 'Uso de argumentos lógicos', 'Testimonios y reseñas impactantes', 'Creación de sentido de urgencia', 'Uso de la escasez como motivador', 'Personalización del mensaje', 'Uso de pruebas sociales', 'Uso de garantías y promesas claras', 'Uso de preguntas retóricas persuasivas', 'Destacar los beneficios del producto o servicio', \"'Uso de titulares y encabezados atractivos'\", \"Anécdotas\", \"Preguntas retóricas\", \"Metáforas\", \"Citas de expertos\", \"Estadísticas y datos\", \"Ejemplos y casos de estudio\", \"Historias personales\", \"Comparaciones\", \"Contraste\", \"Ironía y humor\", \"Testimonios o historias de éxito\", \"Fragmentos de diálogo\", \"Descripciones vívidas\", \"Preguntas provocativas\", \"Narrativa no lineal\", \"Metaficción\", \"Juegos de palabras\",    \"Simbolismo\",    \"Ruptura de la sintaxis convencional\",    \"Uso de imágenes y metáforas\",    \"Expresión del subconsciente y los sueños\",    \"Escritura automática\",    \"Uso de la sorpresa y lo inesperado\",    \"Crítica social y política\",    \"Exaltación del amor y la pasión\",    \"Experimentación con la forma y la estructura literaria\",    \"Repetición y ritmo\",    \"Expresión de la libertad y la revolución\",    \"Exploración de la subjetividad y la psicología humana\",    \"Contraste y paradoja\",    \"Uso de símbolos y referencias culturales\",    \"Incorporación de elementos visuales en la poesía\",    \"Juego entre lo concreto y lo abstracto\",    \"Imaginería poética\",    \"Sensualidad y erotismo\",    \"Melancolía y decadencia\",    \"Uso de la ciudad como escenario\",    \"Doble sentido y ambigüedad\",    \"Ironía y sarcasmo\",    \"Ruptura de convenciones poéticas\",    \"Experimentación lingüística\",    \"Expresión de la belleza y el arte\",    \"Búsqueda de la experiencia estética\",    \"Reflexiones filosóficas\",    \"Construcción de mundos ficticios\",    \"Lenguaje y escritura como temas centrales\",    \"Fragmentación narrativa\",    \"Desafío a las convenciones literarias\",    \"Reflexiones sobre la realidad y la ficción\",    \"Uso de personajes ficticios y reales\",    \"Juegos de estructura y narrativa\",    \"Laberintos\",    \"Espejos\",    \"Universos alternativos\",    \"Realidades subjetivas\",    \"Relatos breves\",    \"Referencias literarias y culturales\",    \"Simetrías y simetrías rotas\",    \"Historias dentro de historias\",    \"Búsquedas filosóficas y metafísicas\",    \"Ambigüedad\",    \"Saltos temporales\",    \"Finales abiertos\",    \"Uso del azar\",    \"Acertijos\",    \"Polisemia\", \"Elementos inexplicables\", \"Situaciones enigmáticas\", \"Intertextualidad\"]\n",
        "recursos.sort()\n",
        "\n",
        "titulos = [\n",
        "    \"El Oráculo de la Masa: Descubre el significado oculto de las runas en la pizza\",\n",
        "    \"Las Runas de la Pizza: Revelando los secretos a través de la masa\",\n",
        "    \"El Arte Rúnico de la Pizza: Interpretando el destino en cada corte\",\n",
        "    \"Runas en la Cocina: Magia ancestral en la preparación de la pizza\",\n",
        "    \"La Pizza Rúnica: Un viaje místico a través de los ingredientes\",\n",
        "    \"Runas de Sabor: Descubriendo los mensajes de las runas en cada rebanada\",\n",
        "    \"Pizza y Runas: Una fusión de sabores y adivinación\",\n",
        "    \"Runas en la Masa: El alfabeto divino de la pizza\",\n",
        "    \"Pizzarunas: Desvelando el futuro a través de las runas en la cocina\",\n",
        "    \"El Legado Rúnico en la Pizza: Una experiencia gastronómica única\",\n",
        "    \"Runas en el Horno: El fuego sagrado que guía nuestras elecciones\",\n",
        "    \"La Magia Rúnica de la Pizza: Transformando la cocina en un ritual adivinatorio\",\n",
        "    \"El Destino en cada Topping: Interpretando las runas en la pizza\",\n",
        "    \"Runas de Sabor y Sabiduría: Explorando el misticismo de la pizza\",\n",
        "    \"Pizza Rúnica: Conectando con lo divino a través de la masa y las runas\"\n",
        "]"
      ],
      "metadata": {
        "id": "4NEzCqxp_7KV"
      },
      "execution_count": 15,
      "outputs": []
    },
    {
      "cell_type": "code",
      "source": [
        "print(recursos)"
      ],
      "metadata": {
        "colab": {
          "base_uri": "https://localhost:8080/"
        },
        "id": "ZNm-_UjhBAAx",
        "outputId": "a2664428-87ce-4fe5-94ae-1a024c169473"
      },
      "execution_count": 16,
      "outputs": [
        {
          "output_type": "stream",
          "name": "stdout",
          "text": [
            "[\"'Uso de titulares y encabezados atractivos'\", 'Acertijos', 'Ambigüedad', 'Anécdotas', 'Búsqueda de la experiencia estética', 'Búsquedas filosóficas y metafísicas', 'Citas de expertos', 'Comparaciones', 'Construcción de mundos ficticios', 'Contraste', 'Contraste y paradoja', 'Creación de sentido de urgencia', 'Crítica social y política', 'Desafío a las convenciones literarias', 'Descripciones detalladas de la vida urbana', 'Descripciones persuasivas', 'Descripciones sensoriales detalladas', 'Descripciones vívidas', 'Destacar los beneficios del producto o servicio', 'Doble sentido y ambigüedad', 'Ejemplos y casos de estudio', 'Elementos inexplicables', 'Escritura automática', 'Espejos', 'Estadísticas y datos', 'Estilo minimalista y conciso', 'Exaltación del amor y la pasión', 'Experimentación con la forma y la estructura', 'Experimentación con la forma y la estructura literaria', 'Experimentación lingüística', 'Exploración de la condición humana y existencial', 'Exploración de la identidad y la alienación', 'Exploración de la subjetividad y la psicología humana', 'Expresión de la belleza y el arte', 'Expresión de la libertad y la revolución', 'Expresión del subconsciente y los sueños', 'Finales abiertos', 'Fragmentación narrativa', 'Fragmentación narrativa', 'Fragmentos de diálogo', 'Historias dentro de historias', 'Historias personales', 'Imaginería poética', 'Incorporación de elementos teatrales', 'Incorporación de elementos visuales en la poesía', 'Interacción entre lo real y lo surrealista', 'Intertextualidad', 'Ironía y humor', 'Ironía y sarcasmo', 'Juego entre lo concreto y lo abstracto', 'Juegos de estructura y narrativa', 'Juegos de palabras', 'Juegos de palabras y sutilezas lingüísticas', 'Laberintos', 'Lenguaje y escritura como temas centrales', 'Llamadas a la acción persuasivas', 'Melancolía y decadencia', 'Metaficción', 'Metáforas', 'Metáforas en la naturaleza', 'Narrativa introspectiva y psicológica', 'Narrativa no lineal', 'Narrativa no lineal', 'Personalización del mensaje', 'Persuasión emocional', 'Polisemia', 'Preguntas provocativas', 'Preguntas retóricas', 'Realidades subjetivas', 'Realismo alucinatorio', 'Referencias históricas y culturales', 'Referencias literarias y culturales', 'Reflexiones filosóficas', 'Reflexiones filosóficas', 'Reflexiones sobre la realidad y la ficción', 'Relatos breves', 'Repetición y ritmo', 'Ritmo y repetición poética', 'Ruptura de convenciones poéticas', 'Ruptura de la sintaxis convencional', 'Saltos temporales', 'Sensualidad y erotismo', 'Simbolismo', 'Simetrías y simetrías rotas', 'Situaciones enigmáticas', 'Storytelling convincente', 'Testimonios o historias de éxito', 'Testimonios y reseñas impactantes', 'Universos alternativos', 'Uso de argumentos lógicos', 'Uso de garantías y promesas claras', 'Uso de imágenes vívidas y evocativas', 'Uso de imágenes y metáforas', 'Uso de la ciudad como escenario', 'Uso de la escasez como motivador', 'Uso de la ironía y el humor sutil', 'Uso de la soledad como tema recurrente', 'Uso de la sorpresa y lo inesperado', 'Uso de personajes ficticios y reales', 'Uso de preguntas retóricas persuasivas', 'Uso de pruebas sociales', 'Uso de simbolismo cultural', 'Uso de símbolos y referencias culturales', 'Uso del azar', 'Uso efectivo de palabras clave']\n"
          ]
        }
      ]
    },
    {
      "cell_type": "code",
      "source": [
        "import random\n",
        "\n",
        "class ArticuloGenerator:\n",
        "    def __init__(self, recursos, titulos):\n",
        "        self.recursos = recursos\n",
        "        self.titulos = titulos\n",
        "\n",
        "    def generar_articulo(self):\n",
        "        for titulo in self.titulos:\n",
        "            recursos_seleccionados = random.sample(self.recursos, 2)\n",
        "            articulo = f\"Quiero que redactes con {recursos_seleccionados[0]} de 1000 palabras que relacione {titulo}\\nutilizando los recursos de {recursos_seleccionados[0]} y {recursos_seleccionados[1]}\"\n",
        "            yield articulo\n",
        "\n",
        "articulo_generator = ArticuloGenerator(recursos, titulos)\n",
        "\n",
        "for articulo in articulo_generator.generar_articulo():\n",
        "    print(articulo)"
      ],
      "metadata": {
        "colab": {
          "base_uri": "https://localhost:8080/"
        },
        "id": "x48A-1e9AbG3",
        "outputId": "f01583c0-338e-4776-b0cf-629b0313c53d"
      },
      "execution_count": 20,
      "outputs": [
        {
          "output_type": "stream",
          "name": "stdout",
          "text": [
            "Quiero que redactes con Expresión del subconsciente y los sueños de 1000 palabras que relacione El Oráculo de la Masa: Descubre el significado oculto de las runas en la pizza\n",
            "utilizando los recursos de Expresión del subconsciente y los sueños y Sensualidad y erotismo\n",
            "Quiero que redactes con Ejemplos y casos de estudio de 1000 palabras que relacione Las Runas de la Pizza: Revelando los secretos a través de la masa\n",
            "utilizando los recursos de Ejemplos y casos de estudio y Metáforas en la naturaleza\n",
            "Quiero que redactes con Llamadas a la acción persuasivas de 1000 palabras que relacione El Arte Rúnico de la Pizza: Interpretando el destino en cada corte\n",
            "utilizando los recursos de Llamadas a la acción persuasivas y Narrativa no lineal\n",
            "Quiero que redactes con Juegos de palabras y sutilezas lingüísticas de 1000 palabras que relacione Runas en la Cocina: Magia ancestral en la preparación de la pizza\n",
            "utilizando los recursos de Juegos de palabras y sutilezas lingüísticas y Imaginería poética\n",
            "Quiero que redactes con Ritmo y repetición poética de 1000 palabras que relacione La Pizza Rúnica: Un viaje místico a través de los ingredientes\n",
            "utilizando los recursos de Ritmo y repetición poética y Uso de la soledad como tema recurrente\n",
            "Quiero que redactes con Relatos breves de 1000 palabras que relacione Runas de Sabor: Descubriendo los mensajes de las runas en cada rebanada\n",
            "utilizando los recursos de Relatos breves y Experimentación con la forma y la estructura literaria\n",
            "Quiero que redactes con Desafío a las convenciones literarias de 1000 palabras que relacione Pizza y Runas: Una fusión de sabores y adivinación\n",
            "utilizando los recursos de Desafío a las convenciones literarias y Uso de la soledad como tema recurrente\n",
            "Quiero que redactes con Uso de preguntas retóricas persuasivas de 1000 palabras que relacione Runas en la Masa: El alfabeto divino de la pizza\n",
            "utilizando los recursos de Uso de preguntas retóricas persuasivas y Descripciones persuasivas\n",
            "Quiero que redactes con Historias dentro de historias de 1000 palabras que relacione Pizzarunas: Desvelando el futuro a través de las runas en la cocina\n",
            "utilizando los recursos de Historias dentro de historias y Escritura automática\n",
            "Quiero que redactes con Fragmentos de diálogo de 1000 palabras que relacione El Legado Rúnico en la Pizza: Una experiencia gastronómica única\n",
            "utilizando los recursos de Fragmentos de diálogo y Uso de preguntas retóricas persuasivas\n",
            "Quiero que redactes con Descripciones detalladas de la vida urbana de 1000 palabras que relacione Runas en el Horno: El fuego sagrado que guía nuestras elecciones\n",
            "utilizando los recursos de Descripciones detalladas de la vida urbana y Juegos de palabras\n",
            "Quiero que redactes con Doble sentido y ambigüedad de 1000 palabras que relacione La Magia Rúnica de la Pizza: Transformando la cocina en un ritual adivinatorio\n",
            "utilizando los recursos de Doble sentido y ambigüedad y Estilo minimalista y conciso\n",
            "Quiero que redactes con Ruptura de la sintaxis convencional de 1000 palabras que relacione El Destino en cada Topping: Interpretando las runas en la pizza\n",
            "utilizando los recursos de Ruptura de la sintaxis convencional y 'Uso de titulares y encabezados atractivos'\n",
            "Quiero que redactes con Fragmentación narrativa de 1000 palabras que relacione Runas de Sabor y Sabiduría: Explorando el misticismo de la pizza\n",
            "utilizando los recursos de Fragmentación narrativa y Uso de simbolismo cultural\n",
            "Quiero que redactes con Realismo alucinatorio de 1000 palabras que relacione Pizza Rúnica: Conectando con lo divino a través de la masa y las runas\n",
            "utilizando los recursos de Realismo alucinatorio y Imaginería poética\n"
          ]
        }
      ]
    },
    {
      "cell_type": "code",
      "source": [],
      "metadata": {
        "id": "hHRLiFvCAlbw"
      },
      "execution_count": null,
      "outputs": []
    }
  ]
}
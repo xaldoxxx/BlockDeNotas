{
  "nbformat": 4,
  "nbformat_minor": 0,
  "metadata": {
    "colab": {
      "name": "codewars.ipynb",
      "provenance": [],
      "include_colab_link": true
    },
    "kernelspec": {
      "name": "python3",
      "display_name": "Python 3"
    },
    "language_info": {
      "name": "python"
    },
    "accelerator": "TPU"
  },
  "cells": [
    {
      "cell_type": "markdown",
      "metadata": {
        "id": "view-in-github",
        "colab_type": "text"
      },
      "source": [
        "<a href=\"https://colab.research.google.com/github/xaldoxxx/curiosidades/blob/main/codewars.ipynb\" target=\"_parent\"><img src=\"https://colab.research.google.com/assets/colab-badge.svg\" alt=\"Open In Colab\"/></a>"
      ]
    },
    {
      "cell_type": "markdown",
      "source": [
        "https://www.codewars.com/kata/5a5f9f80f5dc3f942b002309/train/python\n",
        "\n",
        "\n",
        "Schrödinger's Boolean\n",
        "\n",
        "\n",
        "¿Puede un valor ser tanto verdadero como falso?\n",
        "\n",
        "Defina omnibool para que devuelva True para lo siguiente:\n",
        "\n",
        "    omnibool == True and omnibool == False\n"
      ],
      "metadata": {
        "id": "bq50YtpuJLoR"
      }
    },
    {
      "cell_type": "code",
      "source": [
        "class Omnibool:\n",
        "    def __eq__(self, _):\n",
        "        return True"
      ],
      "metadata": {
        "id": "qmkoC9LzNLL_"
      },
      "execution_count": null,
      "outputs": []
    },
    {
      "cell_type": "code",
      "source": [
        "omnibool = Omnibool()"
      ],
      "metadata": {
        "id": "icGdCA3B4bql"
      },
      "execution_count": null,
      "outputs": []
    },
    {
      "cell_type": "code",
      "source": [
        "omnibool == True and omnibool == False"
      ],
      "metadata": {
        "id": "dugwXxyHJLNX",
        "outputId": "f6970970-03b5-46cf-aa80-321a52c3443e",
        "colab": {
          "base_uri": "https://localhost:8080/"
        }
      },
      "execution_count": null,
      "outputs": [
        {
          "output_type": "execute_result",
          "data": {
            "text/plain": [
              "True"
            ]
          },
          "metadata": {},
          "execution_count": 3
        }
      ]
    },
    {
      "cell_type": "code",
      "source": [
        "omnibool = (1|0) # no"
      ],
      "metadata": {
        "id": "2vZBZCbnh5tt"
      },
      "execution_count": null,
      "outputs": []
    },
    {
      "cell_type": "code",
      "source": [
        "omnibool = (1&0) # no"
      ],
      "metadata": {
        "id": "i7cqjP4Rh5ju"
      },
      "execution_count": null,
      "outputs": []
    },
    {
      "cell_type": "code",
      "source": [
        "omnibool = (1^0)"
      ],
      "metadata": {
        "id": "SrbxhOgwh5gj"
      },
      "execution_count": null,
      "outputs": []
    },
    {
      "cell_type": "code",
      "source": [
        "omnibool = 1 or 0"
      ],
      "metadata": {
        "id": "ul7SEM_Rh5cN"
      },
      "execution_count": null,
      "outputs": []
    },
    {
      "cell_type": "code",
      "source": [
        "omnibool = 1 and 0"
      ],
      "metadata": {
        "id": "BlQs5LESh5Vr"
      },
      "execution_count": null,
      "outputs": []
    },
    {
      "cell_type": "code",
      "source": [
        "omnibool = 1 is 0"
      ],
      "metadata": {
        "id": "TlbI_BEkh5OK"
      },
      "execution_count": null,
      "outputs": []
    },
    {
      "cell_type": "code",
      "source": [
        "omnibool = 1 is not 0"
      ],
      "metadata": {
        "id": "oDrvjMQ2lPmH"
      },
      "execution_count": null,
      "outputs": []
    },
    {
      "cell_type": "code",
      "source": [
        "omnibool"
      ],
      "metadata": {
        "id": "RcdRSVxSNaUG",
        "colab": {
          "base_uri": "https://localhost:8080/"
        },
        "outputId": "d13e55ca-e718-4f77-d036-1c290ad440fc"
      },
      "execution_count": null,
      "outputs": [
        {
          "output_type": "execute_result",
          "data": {
            "text/plain": [
              "False"
            ]
          },
          "metadata": {},
          "execution_count": 35
        }
      ]
    },
    {
      "cell_type": "code",
      "source": [
        "type(omnibool)"
      ],
      "metadata": {
        "colab": {
          "base_uri": "https://localhost:8080/"
        },
        "id": "r4PZ9NrHlAyC",
        "outputId": "e8b34f5e-d5a2-43d5-ebe2-6f3e69d0dd9a"
      },
      "execution_count": null,
      "outputs": [
        {
          "output_type": "execute_result",
          "data": {
            "text/plain": [
              "int"
            ]
          },
          "metadata": {},
          "execution_count": 49
        }
      ]
    },
    {
      "cell_type": "code",
      "source": [
        "type(True)"
      ],
      "metadata": {
        "colab": {
          "base_uri": "https://localhost:8080/"
        },
        "id": "d6vWHlZ2lAuC",
        "outputId": "4fc90e23-36c7-4c6d-d807-9a497f094700"
      },
      "execution_count": null,
      "outputs": [
        {
          "output_type": "execute_result",
          "data": {
            "text/plain": [
              "bool"
            ]
          },
          "metadata": {},
          "execution_count": 43
        }
      ]
    },
    {
      "cell_type": "code",
      "source": [
        "True<2 and 0<2"
      ],
      "metadata": {
        "colab": {
          "base_uri": "https://localhost:8080/"
        },
        "id": "tBXMCUoPlAql",
        "outputId": "3b3e1063-a08e-48f4-bd1f-11fcc2d017c4"
      },
      "execution_count": null,
      "outputs": [
        {
          "output_type": "execute_result",
          "data": {
            "text/plain": [
              "True"
            ]
          },
          "metadata": {},
          "execution_count": 47
        }
      ]
    },
    {
      "cell_type": "code",
      "source": [
        "omnibool == True and omnibool == False"
      ],
      "metadata": {
        "colab": {
          "base_uri": "https://localhost:8080/"
        },
        "id": "3wVlLaaKNTYs",
        "outputId": "ef6be165-5f3f-46c5-ff12-f0173da3ef1e"
      },
      "execution_count": null,
      "outputs": [
        {
          "output_type": "execute_result",
          "data": {
            "text/plain": [
              "False"
            ]
          },
          "metadata": {},
          "execution_count": 4
        }
      ]
    },
    {
      "cell_type": "code",
      "source": [
        "def target(omnibool):\n",
        "    if omnibool == True:\n",
        "        return True\n",
        "    elif omnibool == False:\n",
        "        return True\n"
      ],
      "metadata": {
        "id": "HvTTN2Y3Tf1K"
      },
      "execution_count": null,
      "outputs": []
    },
    {
      "cell_type": "code",
      "source": [
        "onmibool = target(omnibool)"
      ],
      "metadata": {
        "id": "F72TD515TpxX"
      },
      "execution_count": null,
      "outputs": []
    },
    {
      "cell_type": "code",
      "source": [
        "omnibool = 1, 0 "
      ],
      "metadata": {
        "id": "D6jJplYWVbax"
      },
      "execution_count": null,
      "outputs": []
    },
    {
      "cell_type": "code",
      "source": [
        "type(omnibool)"
      ],
      "metadata": {
        "id": "C5l_kKeuVfh7",
        "outputId": "46276c60-1b79-4eeb-db11-72f926b93313",
        "colab": {
          "base_uri": "https://localhost:8080/"
        }
      },
      "execution_count": null,
      "outputs": [
        {
          "output_type": "execute_result",
          "data": {
            "text/plain": [
              "tuple"
            ]
          },
          "metadata": {},
          "execution_count": 21
        }
      ]
    },
    {
      "cell_type": "code",
      "source": [
        "help(omnibool.__str__())"
      ],
      "metadata": {
        "id": "wS0gTvVtWh36",
        "outputId": "db887c16-fc6b-4813-db57-41ab26a2c245",
        "colab": {
          "base_uri": "https://localhost:8080/"
        }
      },
      "execution_count": null,
      "outputs": [
        {
          "output_type": "stream",
          "name": "stdout",
          "text": [
            "No Python documentation found for '(1, 0)'.\n",
            "Use help() to get the interactive help utility.\n",
            "Use help(str) for help on the str class.\n",
            "\n"
          ]
        }
      ]
    },
    {
      "cell_type": "code",
      "source": [
        "1 == True and 0 == True"
      ],
      "metadata": {
        "id": "hBGoOfzkVQgC",
        "outputId": "8948c561-47f3-4c63-970a-5bfbfbfdb46a",
        "colab": {
          "base_uri": "https://localhost:8080/"
        }
      },
      "execution_count": null,
      "outputs": [
        {
          "output_type": "execute_result",
          "data": {
            "text/plain": [
              "False"
            ]
          },
          "metadata": {},
          "execution_count": 16
        }
      ]
    },
    {
      "cell_type": "code",
      "source": [
        "omnibool == True or omnibool == False # https://docs.python.org/3.7/library/stdtypes.html#truth"
      ],
      "metadata": {
        "colab": {
          "base_uri": "https://localhost:8080/"
        },
        "id": "M5T1VMPhT9qi",
        "outputId": "e51684fa-e8cd-4258-e849-cbf547f6b09e"
      },
      "execution_count": null,
      "outputs": [
        {
          "output_type": "execute_result",
          "data": {
            "text/plain": [
              "False"
            ]
          },
          "metadata": {},
          "execution_count": 14
        }
      ]
    },
    {
      "cell_type": "code",
      "source": [
        "class omnibool(object):\n",
        "    pass\n",
        "    "
      ],
      "metadata": {
        "id": "_2b8tf2SJzTo"
      },
      "execution_count": null,
      "outputs": []
    },
    {
      "cell_type": "code",
      "source": [
        "omnibool == True and onmibool==False"
      ],
      "metadata": {
        "id": "8qoHtBAeJzRE",
        "outputId": "e7d6812e-ebc5-4af2-f60e-e12048cacb96",
        "colab": {
          "base_uri": "https://localhost:8080/"
        }
      },
      "execution_count": null,
      "outputs": [
        {
          "output_type": "execute_result",
          "data": {
            "text/plain": [
              "False"
            ]
          },
          "metadata": {},
          "execution_count": 40
        }
      ]
    },
    {
      "cell_type": "code",
      "source": [
        "onmibool.__bool__()"
      ],
      "metadata": {
        "id": "dE0EO4itJzJE"
      },
      "execution_count": null,
      "outputs": []
    },
    {
      "cell_type": "code",
      "source": [
        "class Omnibool:\n",
        "    def __eq__(self, _):\n",
        "        return True\n",
        "\n",
        "omnibool = Omnibool()"
      ],
      "metadata": {
        "id": "oJjtfu9MJLGT"
      },
      "execution_count": null,
      "outputs": []
    },
    {
      "cell_type": "code",
      "source": [
        "omnibool == True and onmibool==False"
      ],
      "metadata": {
        "id": "sK547pG9JLAc",
        "colab": {
          "base_uri": "https://localhost:8080/"
        },
        "outputId": "03e08532-ad65-45db-ab7a-09b582728dc6"
      },
      "execution_count": null,
      "outputs": [
        {
          "output_type": "execute_result",
          "data": {
            "text/plain": [
              "False"
            ]
          },
          "metadata": {},
          "execution_count": 28
        }
      ]
    },
    {
      "cell_type": "code",
      "source": [
        ""
      ],
      "metadata": {
        "id": "KzZMA-JfXQ1M"
      },
      "execution_count": null,
      "outputs": []
    },
    {
      "cell_type": "markdown",
      "source": [
        "https://www.codewars.com/kata/54da5a58ea159efa38000836/train/python\n",
        "\n",
        "Find the odd int\n",
        "\n",
        "Dada una matriz de números enteros, encuentre el que aparece un número impar de veces.\n",
        "\n",
        "Siempre habrá un solo número entero que aparezca un número impar de veces.\n",
        "\n",
        "\n",
        "Given an array of integers, find the one that appears an odd number of times. There will always be only one integer that appears an odd number of times.\n",
        "\n",
        "Examples\n",
        "\n",
        "\n",
        "    [7] should return 7, because it occurs 1 time (which is odd).\n",
        "    [0] should return 0, because it occurs 1 time (which is odd).\n",
        "    [1,1,2] should return 2, because it occurs 1 time (which is odd).\n",
        "    [0,1,0,1,0] should return 0, because it occurs 3 times (which is odd).\n",
        "    [1,2,2,3,3,3,4,3,3,3,2,2,1] should return 4, because it appears 1 time (which is odd)."
      ],
      "metadata": {
        "id": "1PzyqLp7HBGb"
      }
    },
    {
      "cell_type": "code",
      "source": [
        ""
      ],
      "metadata": {
        "id": "pK1C0MzHHA4U"
      },
      "execution_count": null,
      "outputs": []
    },
    {
      "cell_type": "code",
      "source": [
        ""
      ],
      "metadata": {
        "id": "KseOjRABHAuf"
      },
      "execution_count": null,
      "outputs": []
    },
    {
      "cell_type": "markdown",
      "metadata": {
        "id": "p6KPBNTnVx5Q"
      },
      "source": [
        "https://www.codewars.com/kata/51e04f6b544cf3f6550000c1\n",
        "\n",
        "Supongamos que su empresa acaba de contratar a un amigo de la universidad y le paga una bonificación por recomendación. ¡Impresionante! Para celebrar, llevarás a tu equipo al terrible bar de al lado y usarás el bono de recomendación para comprar y construir la pirámide de latas de cerveza tridimensional más grande que puedas. Y luego probablemente bebamos esas cervezas, porque hagamos como que también es viernes.\n",
        "\n",
        "Una pirámide de latas de cerveza cuadrará el número de latas en cada nivel: 1 lata en el nivel superior, 4 en el segundo, 9 en el siguiente, 16, 25 ...\n",
        "\n",
        "Complete la función beeramid para devolver el número de niveles completos de una pirámide de lata de cerveza que puede hacer, dados los parámetros de:\n",
        "\n",
        "su bono de referencia, y\n",
        "\n",
        "el precio de una lata de cerveza\n",
        "\n",
        "Por ejemplo:\n",
        "\n",
        "\n",
        "    beeramid(1500, 2); // should === 12\n",
        "    beeramid(5000, 3); // should === 16"
      ]
    },
    {
      "cell_type": "code",
      "source": [
        "def beeramid(bono, precio_lata):\n",
        "    pass\n",
        "    # return niveles_completados"
      ],
      "metadata": {
        "id": "MQFyIfy9uidy"
      },
      "execution_count": null,
      "outputs": []
    },
    {
      "cell_type": "code",
      "source": [
        "bono, precio_lata = 1500, 2 # deberia devolver 12"
      ],
      "metadata": {
        "id": "Qnu3CbeFuiYZ"
      },
      "execution_count": null,
      "outputs": []
    },
    {
      "cell_type": "code",
      "source": [
        "cuantas_latas_podemos_comprar = bono // precio_lata"
      ],
      "metadata": {
        "id": "HmleH5mR0hCd"
      },
      "execution_count": null,
      "outputs": []
    },
    {
      "cell_type": "code",
      "source": [
        "cuantas_latas_podemos_comprar"
      ],
      "metadata": {
        "colab": {
          "base_uri": "https://localhost:8080/"
        },
        "id": "1CjS-6T90n6F",
        "outputId": "8ab72db6-5379-4210-c097-8dc8f02b7b68"
      },
      "execution_count": null,
      "outputs": [
        {
          "output_type": "execute_result",
          "data": {
            "text/plain": [
              "750"
            ]
          },
          "metadata": {},
          "execution_count": 29
        }
      ]
    },
    {
      "cell_type": "code",
      "source": [
        "list(map(lambda x: x**2, [x for x in range(12+1)]))"
      ],
      "metadata": {
        "colab": {
          "base_uri": "https://localhost:8080/"
        },
        "id": "C6rbp61HzkW0",
        "outputId": "51964a74-6a25-4efd-9a00-783bba13c19c"
      },
      "execution_count": null,
      "outputs": [
        {
          "output_type": "execute_result",
          "data": {
            "text/plain": [
              "[0, 1, 4, 9, 16, 25, 36, 49, 64, 81, 100, 121, 144]"
            ]
          },
          "metadata": {},
          "execution_count": 30
        }
      ]
    },
    {
      "cell_type": "code",
      "source": [
        "sum(list(map(lambda x: x**2, [x for x in range(13)])))"
      ],
      "metadata": {
        "colab": {
          "base_uri": "https://localhost:8080/"
        },
        "id": "dbFGQMyr1P22",
        "outputId": "87f36fc5-9c93-4cac-ea41-563ed73c5954"
      },
      "execution_count": null,
      "outputs": [
        {
          "output_type": "execute_result",
          "data": {
            "text/plain": [
              "650"
            ]
          },
          "metadata": {},
          "execution_count": 31
        }
      ]
    },
    {
      "cell_type": "code",
      "source": [
        "sum(list(map(lambda x: x**2, [x for x in range(14)]))) # nos pasamos!"
      ],
      "metadata": {
        "colab": {
          "base_uri": "https://localhost:8080/"
        },
        "id": "RO5MpILq0HSL",
        "outputId": "66d5f5cc-012a-484e-b3ad-5fdc3be2e72c"
      },
      "execution_count": null,
      "outputs": [
        {
          "output_type": "execute_result",
          "data": {
            "text/plain": [
              "819"
            ]
          },
          "metadata": {},
          "execution_count": 32
        }
      ]
    },
    {
      "cell_type": "code",
      "source": [
        "# nuestra funcion deberia devolvernos 13!\n",
        "bono"
      ],
      "metadata": {
        "colab": {
          "base_uri": "https://localhost:8080/"
        },
        "id": "nBbANy_F0HNO",
        "outputId": "fcc0e90e-bd22-42ca-bc5f-7a50468c5fb1"
      },
      "execution_count": null,
      "outputs": [
        {
          "output_type": "execute_result",
          "data": {
            "text/plain": [
              "1500"
            ]
          },
          "metadata": {},
          "execution_count": 11
        }
      ]
    },
    {
      "cell_type": "code",
      "source": [
        "def foo():\n",
        "    n = 0\n",
        "    while True:\n",
        "        n = n+1\n",
        "        if sum(list(map(lambda x: x**2, [x for x in range(n)]))) < cuantas_latas_podemos_comprar:\n",
        "            # print(sum(list(map(lambda x: x**2, [x for x in range(n)]))))\n",
        "            print(n)\n"
      ],
      "metadata": {
        "id": "O5DoKkRn0HIq"
      },
      "execution_count": null,
      "outputs": []
    },
    {
      "cell_type": "code",
      "source": [
        "print([map(lambda x: x**2, [x for x in range(13)])].sort())"
      ],
      "metadata": {
        "colab": {
          "base_uri": "https://localhost:8080/"
        },
        "id": "lk8wz4bI5RDp",
        "outputId": "b77a1abf-3089-493d-bed4-be13f52f4a79"
      },
      "execution_count": null,
      "outputs": [
        {
          "output_type": "stream",
          "name": "stdout",
          "text": [
            "None\n"
          ]
        }
      ]
    },
    {
      "cell_type": "code",
      "source": [
        "sum(list(map(lambda x: x**2, [x for x in range(3)])))"
      ],
      "metadata": {
        "id": "rvsH1E8DBbnP",
        "outputId": "f5fe847b-f9fe-4f1f-bb58-26151aefa490",
        "colab": {
          "base_uri": "https://localhost:8080/"
        }
      },
      "execution_count": null,
      "outputs": [
        {
          "output_type": "execute_result",
          "data": {
            "text/plain": [
              "5"
            ]
          },
          "metadata": {},
          "execution_count": 23
        }
      ]
    },
    {
      "cell_type": "code",
      "source": [
        "list(map(lambda x: x**2, [x for x in range(3)]))"
      ],
      "metadata": {
        "id": "Cdsjggt5Bbk1",
        "outputId": "ebfc681f-7611-4d2f-b97c-f0d37e6f7a06",
        "colab": {
          "base_uri": "https://localhost:8080/"
        }
      },
      "execution_count": null,
      "outputs": [
        {
          "output_type": "execute_result",
          "data": {
            "text/plain": [
              "[0, 1, 4]"
            ]
          },
          "metadata": {},
          "execution_count": 24
        }
      ]
    },
    {
      "cell_type": "code",
      "source": [
        "list(map(lambda x: x**2, [x for x in range(3)]))[-1::]"
      ],
      "metadata": {
        "id": "3BK46_GZBbio",
        "outputId": "a64fa518-0497-47fa-a76f-fdbe563ab802",
        "colab": {
          "base_uri": "https://localhost:8080/"
        }
      },
      "execution_count": null,
      "outputs": [
        {
          "output_type": "execute_result",
          "data": {
            "text/plain": [
              "[4]"
            ]
          },
          "metadata": {},
          "execution_count": 28
        }
      ]
    },
    {
      "cell_type": "code",
      "source": [
        "len(list(map(lambda x: x**2, [x for x in range(3)])))"
      ],
      "metadata": {
        "id": "2MNnBgJLBbgY",
        "outputId": "86e45b1a-89da-447e-dd33-b8986d428929",
        "colab": {
          "base_uri": "https://localhost:8080/"
        }
      },
      "execution_count": null,
      "outputs": [
        {
          "output_type": "execute_result",
          "data": {
            "text/plain": [
              "3"
            ]
          },
          "metadata": {},
          "execution_count": 29
        }
      ]
    },
    {
      "cell_type": "code",
      "source": [
        ""
      ],
      "metadata": {
        "id": "I601Xy1hBbd5",
        "outputId": "bf5881e4-1f3e-4acf-a125-c1110b5c9de4",
        "colab": {
          "base_uri": "https://localhost:8080/"
        }
      },
      "execution_count": null,
      "outputs": [
        {
          "output_type": "execute_result",
          "data": {
            "text/plain": [
              "[0, 2, 8]"
            ]
          },
          "metadata": {},
          "execution_count": 33
        }
      ]
    },
    {
      "cell_type": "code",
      "source": [
        ""
      ],
      "metadata": {
        "id": "J7obTsLSBbbM"
      },
      "execution_count": null,
      "outputs": []
    },
    {
      "cell_type": "code",
      "source": [
        ""
      ],
      "metadata": {
        "id": "mP_9I5V2BbYh"
      },
      "execution_count": null,
      "outputs": []
    },
    {
      "cell_type": "code",
      "source": [
        ""
      ],
      "metadata": {
        "id": "8edDQYIRBbTO"
      },
      "execution_count": null,
      "outputs": []
    },
    {
      "cell_type": "code",
      "source": [
        ""
      ],
      "metadata": {
        "id": "ExxbmDdTBbOT"
      },
      "execution_count": null,
      "outputs": []
    },
    {
      "cell_type": "code",
      "source": [
        ""
      ],
      "metadata": {
        "id": "CLwYJGAKBbIS"
      },
      "execution_count": null,
      "outputs": []
    },
    {
      "cell_type": "markdown",
      "metadata": {
        "id": "NdicxpqvVyvK"
      },
      "source": [
        "https://www.codewars.com/kata/52b757663a95b11b3d00062d\n",
        "\n",
        "Escriba una función toWeirdCase( weirdcaseen Ruby) que acepte una cadena y devuelva la misma cadena con todos los caracteres indexados pares en cada palabra en mayúsculas y todos los caracteres indexados impares en cada palabra en minúsculas. La indexación que se acaba de explicar se basa en cero, por lo que el índice cero-ésimo es par, por lo tanto, ese carácter debe estar en mayúsculas.\n",
        "\n",
        "La cadena pasada solo constará de caracteres alfabéticos y espacios ( ' '). Los espacios solo estarán presentes si hay varias palabras. Las palabras estarán separadas por un solo espacio ( ' ').\n",
        "\n",
        "\n",
        "Ejemplos:\n",
        "\n",
        "    to_weird_case('String'); # => returns 'StRiNg'\n",
        "    to_weird_case('Weird string case') # => returns 'WeIrD StRiNg CaSe'"
      ]
    },
    {
      "cell_type": "code",
      "metadata": {
        "id": "fFptygK7N3c9"
      },
      "source": [
        "def to_weird_case(text: str):\n",
        "  pass"
      ],
      "execution_count": null,
      "outputs": []
    },
    {
      "cell_type": "code",
      "metadata": {
        "id": "UoPI-rGNN3N3"
      },
      "source": [
        "to_weird_case([23, 4, 5])"
      ],
      "execution_count": null,
      "outputs": []
    },
    {
      "cell_type": "code",
      "metadata": {
        "id": "AobZx6BwN3GZ"
      },
      "source": [
        "texto = 'esta es una cadena' # EsTa eS UnA CaDeNa"
      ],
      "execution_count": null,
      "outputs": []
    },
    {
      "cell_type": "code",
      "metadata": {
        "id": "02TbFtT0zeGA",
        "colab": {
          "base_uri": "https://localhost:8080/"
        },
        "outputId": "43485b42-822a-4634-c9b2-47a8b819dc1e"
      },
      "source": [
        "for i in range(len(texto)):\n",
        "    \n",
        "    if i % 2 == 0:\n",
        "        print((list(texto)[i]).upper())\n",
        "    else:\n",
        "        print((list(texto)[i]).lower())"
      ],
      "execution_count": null,
      "outputs": [
        {
          "output_type": "stream",
          "name": "stdout",
          "text": [
            "E\n",
            "s\n",
            "T\n",
            "a\n",
            " \n",
            "e\n",
            "S\n",
            " \n",
            "U\n",
            "n\n",
            "A\n",
            " \n",
            "C\n",
            "a\n",
            "D\n",
            "e\n",
            "N\n",
            "a\n"
          ]
        }
      ]
    },
    {
      "cell_type": "code",
      "metadata": {
        "id": "Ht6Zw4qWsUce"
      },
      "source": [
        ""
      ],
      "execution_count": null,
      "outputs": []
    },
    {
      "cell_type": "code",
      "metadata": {
        "id": "nu6o8c-wr0tI",
        "outputId": "9b0cfd2b-9a71-40d1-86b9-8d18d1416aac",
        "colab": {
          "base_uri": "https://localhost:8080/"
        }
      },
      "source": [
        "# str(''.join(map(''.join, zip(texto[::2].upper(), texto[1::2].lower()))))\n",
        "texto_retorno = texto.upper()\n",
        "for i in range(len(texto)):\n",
        "    if i % 2 == 0:\n",
        "        texto_retorno = texto_retorno + texto[i].upper()\n",
        "    elif i % 2 != 0:\n",
        "        texto_retorno = texto_retorno + texto[i].lower()\n",
        "print(texto_retorno)"
      ],
      "execution_count": null,
      "outputs": [
        {
          "output_type": "stream",
          "name": "stdout",
          "text": [
            "EsTa eS UnA CaDeNa\n"
          ]
        }
      ]
    },
    {
      "cell_type": "code",
      "metadata": {
        "id": "Sq91SlMFsx3d"
      },
      "source": [
        "def salta(texto):\n",
        "    for i in texto:\n",
        "        "
      ],
      "execution_count": null,
      "outputs": []
    },
    {
      "cell_type": "code",
      "metadata": {
        "id": "co1aPaiqsxyJ",
        "outputId": "ba12186a-8cd4-4883-f7aa-807608048d27",
        "colab": {
          "base_uri": "https://localhost:8080/",
          "height": 35
        }
      },
      "source": [
        "str(''.join(map(''.join, zip(texto[::2].upper(), texto[1::2].lower()))))"
      ],
      "execution_count": null,
      "outputs": [
        {
          "output_type": "execute_result",
          "data": {
            "application/vnd.google.colaboratory.intrinsic+json": {
              "type": "string"
            },
            "text/plain": [
              "'EsTa eS UnA CaDeNa'"
            ]
          },
          "metadata": {},
          "execution_count": 18
        }
      ]
    },
    {
      "cell_type": "code",
      "metadata": {
        "id": "hs49m0REsuKn",
        "outputId": "e5cd2c4f-11d1-4fcc-b26a-6aaceabc3776",
        "colab": {
          "base_uri": "https://localhost:8080/",
          "height": 35
        }
      },
      "source": [
        "str(''.join(map(''.join, zip(texto[::2].upper(), texto[1::2].lower()))))"
      ],
      "execution_count": null,
      "outputs": [
        {
          "output_type": "execute_result",
          "data": {
            "application/vnd.google.colaboratory.intrinsic+json": {
              "type": "string"
            },
            "text/plain": [
              "'EsTa eS UnA CaDeNa'"
            ]
          },
          "metadata": {},
          "execution_count": 10
        }
      ]
    },
    {
      "cell_type": "code",
      "metadata": {
        "id": "oJf7215n0d_R",
        "colab": {
          "base_uri": "https://localhost:8080/",
          "height": 35
        },
        "outputId": "0c3796f5-3a96-4d0e-8155-411babd5c72a"
      },
      "source": [
        "(list(texto)[0]).upper()"
      ],
      "execution_count": null,
      "outputs": [
        {
          "output_type": "execute_result",
          "data": {
            "application/vnd.google.colaboratory.intrinsic+json": {
              "type": "string"
            },
            "text/plain": [
              "'E'"
            ]
          },
          "metadata": {},
          "execution_count": 11
        }
      ]
    },
    {
      "cell_type": "code",
      "metadata": {
        "id": "RMgCPdMtw8Fo",
        "outputId": "6595c71a-7b40-49d5-f971-9cb619c576cd",
        "colab": {
          "base_uri": "https://localhost:8080/",
          "height": 35
        }
      },
      "source": [
        "to_weird_case('Weird string case') # 'ThIs iS A TeSt' should equal 'ThIs Is A TeSt'"
      ],
      "execution_count": null,
      "outputs": [
        {
          "output_type": "execute_result",
          "data": {
            "application/vnd.google.colaboratory.intrinsic+json": {
              "type": "string"
            },
            "text/plain": [
              "'WeIrD StRiNg CaSe'"
            ]
          },
          "metadata": {},
          "execution_count": 21
        }
      ]
    },
    {
      "cell_type": "code",
      "metadata": {
        "id": "t7Vc-aODwBJU",
        "outputId": "876686eb-8c20-4a6f-a6e3-3be2bfca5019",
        "colab": {
          "base_uri": "https://localhost:8080/"
        }
      },
      "source": [
        "def to_weird_case(string):\n",
        "    index = 0\n",
        "    new_string = ''\n",
        "    for word in string:\n",
        "        if word == ' ':\n",
        "            index = -1\n",
        "            new_string += word\n",
        "        elif index % 2 == 0:\n",
        "            new_string += word.upper()\n",
        "        else:\n",
        "            new_string += word.lower()\n",
        "        index += 1\n",
        "    return new_string\n",
        "\n",
        "\n",
        "print(to_weird_case(texto))"
      ],
      "execution_count": null,
      "outputs": [
        {
          "output_type": "stream",
          "name": "stdout",
          "text": [
            "EsTa Es UnA CaDeNa\n"
          ]
        }
      ]
    },
    {
      "cell_type": "code",
      "metadata": {
        "id": "t7jsOUjZwBDu"
      },
      "source": [
        ""
      ],
      "execution_count": null,
      "outputs": []
    },
    {
      "cell_type": "code",
      "metadata": {
        "id": "H4KInHAXN3Bb"
      },
      "source": [
        "texto.split()"
      ],
      "execution_count": null,
      "outputs": []
    },
    {
      "cell_type": "code",
      "metadata": {
        "id": "6dlAwbZpYZ0E"
      },
      "source": [
        "list(texto)"
      ],
      "execution_count": null,
      "outputs": []
    },
    {
      "cell_type": "code",
      "metadata": {
        "id": "c7hi1PoFYZxd"
      },
      "source": [
        "list(texto)"
      ],
      "execution_count": null,
      "outputs": []
    },
    {
      "cell_type": "code",
      "metadata": {
        "id": "K_IeWRv-YZuZ"
      },
      "source": [
        "list(map(lambda x: x.upper(), list(texto)))"
      ],
      "execution_count": null,
      "outputs": []
    },
    {
      "cell_type": "code",
      "metadata": {
        "id": "GP7TEXSGYZrZ"
      },
      "source": [
        "for i in texto:\n",
        "    if i"
      ],
      "execution_count": null,
      "outputs": []
    },
    {
      "cell_type": "code",
      "metadata": {
        "id": "PY09GqcyN272"
      },
      "source": [
        "i = "
      ],
      "execution_count": null,
      "outputs": []
    },
    {
      "cell_type": "code",
      "metadata": {
        "id": "dmzw089-N217"
      },
      "source": [
        ""
      ],
      "execution_count": null,
      "outputs": []
    },
    {
      "cell_type": "code",
      "metadata": {
        "id": "1xehnKF2VxRy"
      },
      "source": [
        ""
      ],
      "execution_count": null,
      "outputs": []
    },
    {
      "cell_type": "code",
      "metadata": {
        "id": "PDwW157VVxKZ"
      },
      "source": [
        ""
      ],
      "execution_count": null,
      "outputs": []
    },
    {
      "cell_type": "markdown",
      "metadata": {
        "id": "mbu7sDuPVKVO"
      },
      "source": [
        "\n",
        "https://www.codewars.com/kata/51e0007c1f9378fa810002a9/train/python\n",
        "\n",
        "Deadfish tiene 4 comandos, cada uno de 1 carácter:\n",
        "\n",
        "\n",
        "\n",
        "    i incrementa el valor (inicialmente 0)\n",
        "    d disminuye el valor\n",
        "    s cuadra el valor\n",
        "    o envía el valor a la matriz de retorno\n",
        "Los caracteres no válidos deben ignorarse.\n",
        "\n",
        "\n",
        "aplicando la funcion seria\n",
        "\n",
        "\n",
        "    parse(\"iiisdoso\")  ==>  [8, 64]\n",
        "\n",
        "\n",
        "\n",
        "\n",
        "algunos tests\n",
        "\n",
        "\n",
        "    test.assert_equals(parse(\"ooo\"), [0,0,0])\n",
        "    test.assert_equals(parse(\"ioioio\"), [1,2,3])\n",
        "    test.assert_equals(parse(\"idoiido\"), [0,1])\n",
        "    test.assert_equals(parse(\"isoisoiso\"), [1,4,25])\n",
        "    test.assert_equals(parse(\"codewars\"), [0])\n",
        "\n",
        "\n",
        "    def parse(data):\n",
        "        pass\n",
        "    "
      ]
    },
    {
      "cell_type": "code",
      "metadata": {
        "id": "Lv83qAlhR_mz"
      },
      "source": [
        ""
      ],
      "execution_count": null,
      "outputs": []
    },
    {
      "cell_type": "code",
      "metadata": {
        "id": "6dXlhalZVQOO"
      },
      "source": [
        ""
      ],
      "execution_count": null,
      "outputs": []
    },
    {
      "cell_type": "code",
      "metadata": {
        "id": "H27rpiMqVQJF"
      },
      "source": [
        ""
      ],
      "execution_count": null,
      "outputs": []
    },
    {
      "cell_type": "markdown",
      "metadata": {
        "id": "0PJS38uMkTaQ"
      },
      "source": [
        "\n",
        "\n",
        "**Calcular con funciones**\n",
        "\n",
        "\n",
        "https://www.codewars.com/kata/525f3eda17c7cd9f9e000b39\n",
        "\n",
        "\n",
        "Esta vez queremos escribir cálculos usando funciones y obtener los resultados. Echemos un vistazo a algunos ejemplos:\n",
        "\n",
        "\n",
        "    seven(times(five())) # must return 35\n",
        "    four(plus(nine())) # must return 13\n",
        "    eight(minus(three())) # must return 5\n",
        "    six(divided_by(two())) # must return 3\n",
        "Requerimientos:\n",
        "\n",
        "Debe haber una función para cada número de 0 (\"cero\") a 9 (\"nueve\")\n",
        "\n",
        "Debe haber una función para cada una de las siguientes operaciones matemáticas: más, menos, tiempos, dividido por ( divided_byen Ruby y Python)\n",
        "\n",
        "Cada cálculo consta de exactamente una operación y dos números\n",
        "\n",
        "La función más externa representa el operando izquierdo, la función más interna representa el operando derecho\n",
        "\n",
        "La división debe ser una división entera . \n",
        "\n",
        "Por ejemplo, esto debería devolver 2, no 2.666666...:\n",
        "    eight(divided_by(three()))"
      ]
    },
    {
      "cell_type": "code",
      "metadata": {
        "id": "s3h9_zmGkwZv"
      },
      "source": [
        ""
      ],
      "execution_count": null,
      "outputs": []
    },
    {
      "cell_type": "code",
      "metadata": {
        "id": "2QfLK5S7kwS6"
      },
      "source": [
        ""
      ],
      "execution_count": null,
      "outputs": []
    },
    {
      "cell_type": "code",
      "metadata": {
        "id": "vDsx_n4ZkwNo"
      },
      "source": [
        ""
      ],
      "execution_count": null,
      "outputs": []
    },
    {
      "cell_type": "code",
      "metadata": {
        "id": "0aBe6uMIkwH5"
      },
      "source": [
        ""
      ],
      "execution_count": null,
      "outputs": []
    },
    {
      "cell_type": "code",
      "metadata": {
        "id": "mb2W_0BUkv_k"
      },
      "source": [
        ""
      ],
      "execution_count": null,
      "outputs": []
    },
    {
      "cell_type": "markdown",
      "metadata": {
        "id": "pkggYoydcTTg"
      },
      "source": [
        "**Sum of two lowest positive integers**\n",
        "\n",
        "https://www.codewars.com/kata/558fc85d8fd1938afb000014\n",
        "\n",
        "Create a function that returns the sum of the two lowest positive numbers given an array of minimum 4 positive integers. No floats or non-positive integers will be passed.\n",
        "\n",
        "For example, when an array is passed like [19, 5, 42, 2, 77], the output should be 7.\n",
        "\n",
        "\n",
        "\n",
        "\"\"\"\"\n",
        "Cree una función que devuelva la suma de los dos números positivos más bajos dada una matriz de un mínimo de 4 enteros positivos. No se pasarán números flotantes o enteros no positivos.\n",
        "\n",
        "Por ejemplo, cuando se pasa una matriz como [19, 5, 42, 2, 77], la salida debe ser 7.\"\"\"\"\n",
        "\n",
        "    [10, 343445353, 3453445, 3453545353453] # debería volver 3453455.\n",
        "\n",
        "\n",
        "\n",
        "\n",
        "el ejemplo muestra\n",
        "\n",
        "    def sum_two_smallest_numbers(numbers):\n",
        "        pass\n"
      ]
    },
    {
      "cell_type": "code",
      "metadata": {
        "id": "g4Vt2NPR5jdy"
      },
      "source": [
        "def sum_two_smallest_numbers(numbers):\n",
        "    pass"
      ],
      "execution_count": null,
      "outputs": []
    },
    {
      "cell_type": "code",
      "metadata": {
        "id": "AJbhTYaJ5r_b"
      },
      "source": [
        "def sum_two_smallest_numbers(numbers):\n",
        "    numbers.sort()\n",
        "    return (numbers[0].__add__(numbers[1]))"
      ],
      "execution_count": null,
      "outputs": []
    },
    {
      "cell_type": "code",
      "metadata": {
        "id": "G2F37k-4cTBc"
      },
      "source": [
        "matriz = [10, 343445353, 3453445, 3453545353453]"
      ],
      "execution_count": null,
      "outputs": []
    },
    {
      "cell_type": "code",
      "metadata": {
        "colab": {
          "base_uri": "https://localhost:8080/"
        },
        "id": "z22y3GkneAvw",
        "outputId": "0301945b-fc7f-4c24-f7a8-258485d45fc5"
      },
      "source": [
        "sum_two_smallest_numbers(matriz)"
      ],
      "execution_count": null,
      "outputs": [
        {
          "output_type": "execute_result",
          "data": {
            "text/plain": [
              "3453455"
            ]
          },
          "metadata": {},
          "execution_count": 17
        }
      ]
    },
    {
      "cell_type": "markdown",
      "metadata": {
        "id": "dTfm7M4tbjLg"
      },
      "source": [
        "**Replace With Alphabet Position**\n",
        "\n",
        "\n",
        "https://www.codewars.com/kata/546f922b54af40e1e90001da\n",
        "\n",
        "\n",
        "\n",
        "Welcome.\n",
        "\n",
        "In this kata you are required to, given a string, replace every letter with its position in the alphabet.\n",
        "\n",
        "If anything in the text isn't a letter, ignore it and don't return it.\n",
        "\n",
        "\n",
        "\"\"\"Bienvenidos.\n",
        "\n",
        "En este kata se requiere que, dada una cadena, reemplace cada letra con su posición en el alfabeto.\n",
        "\n",
        "Si algo en el texto no es una letra, ignórelo y no lo devuelva.\n",
        "\n",
        "\"\"\"\n",
        "\n",
        "\"a\" = 1, \"b\" = 2, etc.\n",
        "\n",
        "\n",
        "Example\n",
        "\n",
        "alphabet_position(\"The sunset sets at twelve o' clock.\")\n",
        "\n",
        "Should return \"20 8 5 19 21 14 19 5 20 19 5 20 19 1 20 20 23 5 12 22 5 15 3 12 15 3 11\" (as a string)\n",
        "\n",
        "\n",
        "\"\"\"Ejemplo\n",
        "\n",
        "alphabet_position (\"La puesta de sol se pone a las doce en punto.\")\n",
        "\n",
        "Debe regresar \"20 8 5 19 21 14 19 5 20 19 5 20 19 1 20 20 23 5 12 22 5 15 3 12 15 3 11\" (como una cuerda)\n",
        "\n",
        "\"\"\"\n",
        "\n"
      ]
    },
    {
      "cell_type": "code",
      "metadata": {
        "id": "KObve85-_Rb6"
      },
      "source": [
        "def alphabet_position(characters):\n",
        "    return str([ord(i.lower())-96 for i in list(characters) if i.isalpha() == True]).replace('[', '').replace(']','').replace(',','')"
      ],
      "execution_count": null,
      "outputs": []
    },
    {
      "cell_type": "code",
      "metadata": {
        "id": "_Aznn-uYbioD"
      },
      "source": [
        ""
      ],
      "execution_count": null,
      "outputs": []
    },
    {
      "cell_type": "markdown",
      "metadata": {
        "id": "jrx9APonZfQN"
      },
      "source": [
        "\n",
        "**Growth of a Population**\n",
        "\n",
        "https://www.codewars.com/kata/563b662a59afc2b5120000c6\n",
        "\n",
        "\n",
        "In a small town the population is p0 = 1000 at the beginning of a year. The population regularly increases by 2 percent per year and moreover 50 new inhabitants per year come to live in the town. How many years does the town need to see its population greater or equal to p = 1200 inhabitants?\n",
        "\n",
        "\"\"\"En una ciudad pequeña, la población es p0 = 1000 al comienzo de un año. La población aumenta regularmente en un 2 por ciento anual y, además, más de 50 nuevos habitantes por año vienen a vivir a la ciudad. ¿Cuántos años necesita la ciudad para que su población sea mayor o igual ap = 1200 habitantes?\"\"\"\n",
        "\n",
        "\n",
        "    # Al final del primer año habrá:\n",
        "    1000 + 1000 * 0.02 + 50 => 1070 inhabitants\n",
        "\n",
        "    Al final del segundo año habrá:\n",
        "    1070 + 1070 * 0.02 + 50 => 1141 inhabitants (** number of inhabitants is an integer **)\n",
        "\n",
        "    Al final del tercer año habrá:\n",
        "    1141 + 1141 * 0.02 + 50 => 1213\n",
        "\n",
        "    Necesitará 3 años completos.\n",
        "\n",
        "More generally given parameters:\n",
        "\n",
        "p0, percent, aug (inhabitants coming or leaving each year), p (population to surpass)\n",
        "\n",
        "the function nb_year should return n number of entire years needed to get a population greater or equal to p.\n",
        "\n",
        "aug is an integer, percent a positive or null floating number, p0 and p are positive integers (> 0)\n",
        "\n",
        "\"\"Parámetros dados de manera más general:\n",
        "\n",
        "p0, porcentaje, aug (habitantes que vienen o salen cada año), p (población a superar)\n",
        "\n",
        "la función nb_year debería devolver n número de años completos necesarios para obtener una población mayor o igual ap.\n",
        "\n",
        "aug es un número entero, el porcentaje es un número flotante positivo o nulo, p0 yp son números enteros positivos (> 0)\"\"\n",
        "\n",
        "    Examples:\n",
        "    nb_year(1500, 5, 100, 5000) -> 15\n",
        "    nb_year(1500000, 2.5, 10000, 2000000) -> 10\n",
        "\n",
        "Note:\n",
        "\n",
        "Don't forget to convert the percent parameter as a percentage in the body of your function: if the parameter percent is 2 you have to convert it to 0.02.\n",
        "\n",
        "\"\"\"Nota:\n",
        "\n",
        "No olvide convertir el parámetro de porcentaje como un porcentaje en el cuerpo de su función: si el porcentaje del parámetro es 2, debe convertirlo a 0.02.\n",
        "\n",
        "\"\"\""
      ]
    },
    {
      "cell_type": "code",
      "metadata": {
        "id": "aGFp-l2pdEa-"
      },
      "source": [
        ""
      ],
      "execution_count": null,
      "outputs": []
    },
    {
      "cell_type": "code",
      "metadata": {
        "id": "kqwNdkAidEVQ"
      },
      "source": [
        ""
      ],
      "execution_count": null,
      "outputs": []
    },
    {
      "cell_type": "code",
      "metadata": {
        "id": "-18PIur0ZVZq"
      },
      "source": [
        ""
      ],
      "execution_count": null,
      "outputs": []
    },
    {
      "cell_type": "markdown",
      "metadata": {
        "id": "8Rtn4eXsYcT_"
      },
      "source": [
        "Binary Addition\n",
        "Implement a function that adds two numbers together and returns their sum in binary. The conversion can be done before, or after the addition.\n",
        "\n",
        "The binary number returned should be a string.\n",
        "\n",
        "\n",
        "\n",
        "\n",
        "\n",
        "Suma binaria\n",
        "Implemente una función que sume dos números y devuelva su suma en binario. La conversión se puede realizar antes o después de la adición.\n",
        "\n",
        "El número binario devuelto debe ser una cadena."
      ]
    },
    {
      "cell_type": "code",
      "metadata": {
        "id": "EwtVG8RqLTa2"
      },
      "source": [
        "def add_binary(a,b):\n",
        "    return bin(a+b).__str__()[2:] "
      ],
      "execution_count": null,
      "outputs": []
    },
    {
      "cell_type": "code",
      "metadata": {
        "colab": {
          "base_uri": "https://localhost:8080/"
        },
        "id": "t-gyOEHSLTVC",
        "outputId": "756f37ab-d559-4cb3-b96b-130651876cf8"
      },
      "source": [
        "add_binary(1,1), add_binary(51,11)"
      ],
      "execution_count": null,
      "outputs": [
        {
          "output_type": "execute_result",
          "data": {
            "text/plain": [
              "('10', '111110')"
            ]
          },
          "metadata": {
            "tags": []
          },
          "execution_count": 41
        }
      ]
    },
    {
      "cell_type": "code",
      "metadata": {
        "id": "wHvSdFy6LTJ1"
      },
      "source": [
        ""
      ],
      "execution_count": null,
      "outputs": []
    },
    {
      "cell_type": "markdown",
      "metadata": {
        "id": "RHQ7cTT4tsfH"
      },
      "source": [
        "# Basic Mathematical Operations\n",
        "\n",
        "\n",
        "\n",
        "https://www.codewars.com/kata/57356c55867b9b7a60000bd7/train/python\n",
        "\n",
        "Basic Mathematical Operations\n",
        "42312989% of 6,11414,491 of 56,963Quickz3 Issues Reported\n",
        "Python\n",
        "3.8\n",
        "VIM\n",
        "EMACS\n",
        "Instructions\n",
        "Output\n",
        "Your task is to create a function that does four basic mathematical operations.\n",
        "\n",
        "The function should take three arguments - operation(string/char), value1(number), value2(number).\n",
        "The function should return result of numbers after applying the chosen operation.\n",
        "\n",
        "Examples\n",
        "\n",
        "\n",
        "\n",
        "\n",
        "Su tarea es crear una función que realice cuatro operaciones matemáticas básicas.\n",
        "\n",
        "La función debe tener tres argumentos: operación (cadena / carácter), valor1 (número), valor2 (número).\n",
        "La función debe devolver el resultado de números después de aplicar la operación elegida.\n",
        "\n",
        "\n",
        "basic_op('+', 4, 7)         # Output: 11\n",
        "\n",
        "basic_op('-', 15, 18)       # Output: -3\n",
        "\n",
        "basic_op('*', 5, 5)         # Output: 25\n",
        "\n",
        "basic_op('/', 49, 7)        # Output: 7"
      ]
    },
    {
      "cell_type": "code",
      "metadata": {
        "id": "np8x4kScst-R"
      },
      "source": [
        "def basic_op(operator, value1, value2):\n",
        "    #your code here"
      ],
      "execution_count": null,
      "outputs": []
    },
    {
      "cell_type": "code",
      "metadata": {
        "id": "M02u0O6Pst6-"
      },
      "source": [
        "def basic_op(operator, value1, value2):\n",
        "    if operator == '+':\n",
        "        return int(value1 + value2)\n",
        "    elif operator == '-':\n",
        "        return int(value1 - value2)\n",
        "    elif operator == '*':\n",
        "        return int(value1 * value2)\n",
        "    elif operator == '/':\n",
        "        return value1 / value2"
      ],
      "execution_count": null,
      "outputs": []
    },
    {
      "cell_type": "code",
      "metadata": {
        "colab": {
          "base_uri": "https://localhost:8080/"
        },
        "id": "qIc_bMFtv93l",
        "outputId": "36d154e1-47be-40ab-e26c-5138265919c2"
      },
      "source": [
        "basic_op('/', 3, 8765)"
      ],
      "execution_count": null,
      "outputs": [
        {
          "output_type": "execute_result",
          "data": {
            "text/plain": [
              "0.00034227039361095263"
            ]
          },
          "metadata": {
            "tags": []
          },
          "execution_count": 51
        }
      ]
    },
    {
      "cell_type": "code",
      "metadata": {
        "colab": {
          "base_uri": "https://localhost:8080/"
        },
        "id": "0LRL1zGtst3z",
        "outputId": "3558e17f-10fe-44b7-d216-7df454710b28"
      },
      "source": [
        "basic_op('/', 49, 7)"
      ],
      "execution_count": null,
      "outputs": [
        {
          "output_type": "execute_result",
          "data": {
            "text/plain": [
              "7"
            ]
          },
          "metadata": {
            "tags": []
          },
          "execution_count": 45
        }
      ]
    },
    {
      "cell_type": "code",
      "metadata": {
        "id": "Xsfnbq87st0x"
      },
      "source": [
        "# MEJOR3S SOLUCION3S\n",
        "def basic_op(operator, value1, value2):\n",
        "    return eval(\"{}{}{}\".format(value1, operator, value2))"
      ],
      "execution_count": null,
      "outputs": []
    },
    {
      "cell_type": "code",
      "metadata": {
        "id": "z3KfGCQAstyW"
      },
      "source": [
        "def basic_op(o, a, b):\n",
        "    return {'+':a+b,'-':a-b,'*':a*b,'/':a/b}.get(o)"
      ],
      "execution_count": null,
      "outputs": []
    },
    {
      "cell_type": "code",
      "metadata": {
        "id": "rK6mTLABstvB"
      },
      "source": [
        "def basic_op(op, v1, v2):\n",
        "    return v1+v2 if op == \"+\" else v1-v2 if op == \"-\" else  v1*v2 if op == \"*\" else  v1/v2"
      ],
      "execution_count": null,
      "outputs": []
    },
    {
      "cell_type": "code",
      "metadata": {
        "id": "TTmfVI98stry"
      },
      "source": [
        ""
      ],
      "execution_count": null,
      "outputs": []
    },
    {
      "cell_type": "markdown",
      "metadata": {
        "id": "1E3FZ4xVi8HX"
      },
      "source": [
        "\n",
        "\n",
        "# Convert boolean values to strings 'Yes' or 'No'.\n",
        "\n",
        "https://www.codewars.com/kata/53369039d7ab3ac506000467/train/python\n",
        "\n",
        "Complete the method that takes a boolean value and return a \"Yes\" string for true, or a \"No\" string for false.\n"
      ]
    },
    {
      "cell_type": "code",
      "metadata": {
        "id": "XbIJ99Hui7va"
      },
      "source": [
        "def bool_to_word(boolean):\n",
        "    if boolean == True: return 'Yes' \n",
        "    elif boolean == False: return 'No'"
      ],
      "execution_count": null,
      "outputs": []
    },
    {
      "cell_type": "code",
      "metadata": {
        "id": "Ah9D8TMNi7sw"
      },
      "source": [
        "def bool_to_word(boolean):\n",
        "    return \"Yes\" if bool else \"No\""
      ],
      "execution_count": null,
      "outputs": []
    },
    {
      "cell_type": "code",
      "metadata": {
        "id": "NNfxQzDFi7qK"
      },
      "source": [
        "def bool_to_word(bool):\n",
        "    return ['No', 'Yes'][bool]"
      ],
      "execution_count": null,
      "outputs": []
    },
    {
      "cell_type": "code",
      "metadata": {
        "id": "WynadyEYi7nm"
      },
      "source": [
        "bool_to_word = {True: 'Yes', False: 'No'}.get"
      ],
      "execution_count": null,
      "outputs": []
    },
    {
      "cell_type": "code",
      "metadata": {
        "id": "NyyTJ7oki7lG"
      },
      "source": [
        "bool_to_word = ['No','Yes'].__getitem__"
      ],
      "execution_count": null,
      "outputs": []
    },
    {
      "cell_type": "code",
      "metadata": {
        "id": "1ubV9XKxi7d-"
      },
      "source": [
        "bool_to_word = lambda b: b and \"Yes\" or \"No\""
      ],
      "execution_count": null,
      "outputs": []
    },
    {
      "cell_type": "code",
      "metadata": {
        "id": "N1bdAIjti7K3"
      },
      "source": [
        "bool_to_word= lambda _:{1:'Yes'}.get(_,'No')"
      ],
      "execution_count": null,
      "outputs": []
    },
    {
      "cell_type": "code",
      "metadata": {
        "id": "8toVogVhTJY4"
      },
      "source": [
        "bool_to_word=lambda b:\"YNeos\"[1-b::2]"
      ],
      "execution_count": null,
      "outputs": []
    },
    {
      "cell_type": "markdown",
      "metadata": {
        "id": "H_PmP-_50dNM"
      },
      "source": [
        "https://www.codewars.com/kata/55b42574ff091733d900002f/train/python\n",
        "\n",
        "Make a program that filters a list of strings and returns a list with only your friends name in it.\n",
        "\n",
        "If a name has exactly 4 letters in it, you can be sure that it has to be a friend of yours! Otherwise, you can be sure he's not...\n",
        "\n",
        "Ex: Input = [\"Ryan\", \"Kieran\", \"Jason\", \"Yous\"], Output = [\"Ryan\", \"Yous\"]\n",
        "\n",
        "i.e.\n",
        "\n",
        "friend [\"Ryan\", \"Kieran\", \"Mark\"] `shouldBe` [\"Ryan\", \"Mark\"]\n",
        "Note: keep the original order of the names in the output.\n",
        "\n",
        "TRADUCCION\n",
        "Cree un programa que filtre una lista de cadenas y devuelva una lista con solo el nombre de sus amigos. Si un nombre tiene exactamente 4 letras, ¡puede estar seguro de que tiene que ser un amigo suyo! De lo contrario, puede estar seguro de que no ...\n",
        "\n",
        "\n",
        "Por ejemplo: Entrada = [\"Ryan\", \"Kieran\", \"Jason\", \"Yous\"], Salida = [\"Ryan\", \"Yous\"]\n",
        "\n",
        "es decir.\n",
        "\n",
        "amigo [\"Ryan\", \"Kieran\", \"Mark\"] `shouldBe` [\" Ryan \",\" Mark \"]\n",
        "Nota: mantenga el orden original de los nombres en la salida.\n",
        "\n"
      ]
    },
    {
      "cell_type": "code",
      "metadata": {
        "id": "fojTwOMzF7VB"
      },
      "source": [
        "def friend(x):\n",
        "    y = []\n",
        "    for i in x:\n",
        "        if len(i) == 4: y.append(i)\n",
        "    return y"
      ],
      "execution_count": null,
      "outputs": []
    },
    {
      "cell_type": "code",
      "metadata": {
        "id": "RyFKbF0CstZk"
      },
      "source": [
        "def friend(x):\n",
        "    return [f for f in x if len(f) == 4]"
      ],
      "execution_count": null,
      "outputs": []
    },
    {
      "cell_type": "code",
      "metadata": {
        "colab": {
          "base_uri": "https://localhost:8080/"
        },
        "id": "sftHk60Pa0Vo",
        "outputId": "4aabae3a-f927-4fa3-ccd0-8b42cc1cdfa4"
      },
      "source": [
        "friend([\"Ryan\", \"Jimmy\", \"123\", \"4\", \"Cool Man\"])"
      ],
      "execution_count": null,
      "outputs": [
        {
          "output_type": "execute_result",
          "data": {
            "text/plain": [
              "['Ryan']"
            ]
          },
          "metadata": {
            "tags": []
          },
          "execution_count": 20
        }
      ]
    },
    {
      "cell_type": "code",
      "metadata": {
        "colab": {
          "base_uri": "https://localhost:8080/"
        },
        "id": "s6CDHbsQ1yxS",
        "outputId": "70e55ec4-3a77-441b-f554-ad888165097c"
      },
      "source": [
        "friend([\"Ryan\", \"Kieran\", \"Mark\"])"
      ],
      "execution_count": null,
      "outputs": [
        {
          "output_type": "execute_result",
          "data": {
            "text/plain": [
              "['Ryan', 'Mark']"
            ]
          },
          "metadata": {
            "tags": []
          },
          "execution_count": 21
        }
      ]
    },
    {
      "cell_type": "code",
      "metadata": {
        "colab": {
          "base_uri": "https://localhost:8080/"
        },
        "id": "YdyDoCML5elp",
        "outputId": "99b1bd8a-c780-43ec-90dd-d12f7450b85c"
      },
      "source": [
        "friend([\"Jimm\", \"Cari\", \"aret\", \"truehdnviegkwgvke\", \"sixtyiscooooool\"])"
      ],
      "execution_count": null,
      "outputs": [
        {
          "output_type": "execute_result",
          "data": {
            "text/plain": [
              "['Jimm', 'Cari', 'aret']"
            ]
          },
          "metadata": {
            "tags": []
          },
          "execution_count": 22
        }
      ]
    },
    {
      "cell_type": "markdown",
      "metadata": {
        "id": "xqKnz7Ip7mxn"
      },
      "source": [
        "https://www.codewars.com/kata/5648b12ce68d9daa6b000099/train/python\n",
        "\n",
        "Number of People in the Bus\n",
        "Number of people in the bus\n",
        "There is a bus moving in the city, and it takes and drop some people in each bus stop.\n",
        "\n",
        "You are provided with a list (or array) of integer arrays (or tuples). Each integer array has two items which represent number of people get into bus (The first item) and number of people get off the bus (The second item) in a bus stop.\n",
        "\n",
        "Your task is to return number of people who are still in the bus after the last bus station (after the last array). Even though it is the last bus stop, the bus is not empty and some people are still in the bus, and they are probably sleeping there :D\n",
        "\n",
        "Take a look on the test cases.\n",
        "\n",
        "Please keep in mind that the test cases ensure that the number of people in the bus is always >= 0. So the return integer can't be negative.\n",
        "\n",
        "The second value in the first integer array is 0, since the bus is empty in the first bus stop.\n",
        "\n",
        "\n",
        "\n",
        "TRADUCCION\n",
        "\n",
        "Numero de personas en el bus\n",
        "Hay un autobús en movimiento en la ciudad, y toma y deja a algunas personas en cada parada de autobús.\n",
        "\n",
        "Se le proporciona una lista (o matriz) de matrices de enteros (o tuplas). Cada matriz de números enteros tiene dos elementos que representan el número de personas que se suben al autobús (el primer elemento) y el número de personas que se bajan del autobús (el segundo elemento) en una parada de autobús.\n",
        "\n",
        "Su tarea es devolver el número de personas que todavía están en el autobús después de la última estación de autobuses (después de la última matriz). A pesar de que es la última parada de autobús, el autobús no está vacío y algunas personas todavía están en el autobús, y probablemente estén durmiendo allí: D\n",
        "\n",
        "Eche un vistazo a los casos de prueba.\n",
        "\n",
        "Tenga en cuenta que los casos de prueba garantizan que la cantidad de personas en el autobús sea siempre> = 0. Por lo tanto, el número entero devuelto no puede ser negativo.\n",
        "\n",
        "El segundo valor en la primera matriz de enteros es 0, ya que el bus está vacío en la primera parada del bus.\n",
        "\n",
        "test.assert_equals(number([[10,0],[3,5],[5,8]]),5)\n",
        "\n",
        "test.assert_equals(number([[3,0],[9,1],[4,10],[12,2],[6,1],[7,10]]),17)\n",
        "\n",
        "test.assert_equals(number([[3,0],[9,1],[4,8],[12,2],[6,1],[7,8]]),21)\n",
        "\n"
      ]
    },
    {
      "cell_type": "code",
      "metadata": {
        "id": "RYWAQ15g79V6"
      },
      "source": [
        "def number(bus_stops):\n",
        "    return sum([(i[0]).__sub__(i[1]) for i in bus_stops])"
      ],
      "execution_count": null,
      "outputs": []
    },
    {
      "cell_type": "code",
      "metadata": {
        "id": "G5osItrC5Tki"
      },
      "source": [
        "arr = [[3,0],[9,1],[4,10],[12,2],[6,1],[7,10]] # ,17"
      ],
      "execution_count": null,
      "outputs": []
    },
    {
      "cell_type": "code",
      "metadata": {
        "id": "q0QL65sc79Ot",
        "colab": {
          "base_uri": "https://localhost:8080/"
        },
        "outputId": "a92a0aff-e8a0-4e00-ea19-c157b425ef52"
      },
      "source": [
        "number(arr)   # ,17"
      ],
      "execution_count": null,
      "outputs": [
        {
          "output_type": "execute_result",
          "data": {
            "text/plain": [
              "17"
            ]
          },
          "metadata": {},
          "execution_count": 67
        }
      ]
    },
    {
      "cell_type": "code",
      "metadata": {
        "id": "4qhJhCHs7870"
      },
      "source": [
        ""
      ],
      "execution_count": null,
      "outputs": []
    },
    {
      "cell_type": "code",
      "metadata": {
        "id": "w8mmcgrVjnUY"
      },
      "source": [
        ""
      ],
      "execution_count": null,
      "outputs": []
    },
    {
      "cell_type": "markdown",
      "metadata": {
        "id": "Sdwy1cgxA6Yi"
      },
      "source": [
        "\n",
        "#Chuck Norris II - One Punch\n",
        "\n",
        "https://www.codewars.com/kata/57057a035eef1f7e790009ef/train/python\n",
        "\n",
        "Chuck Norris is the world's toughest man - he once kicked a horse in the chin. Its descendants today are known as giraffes.\n",
        "\n",
        "Like his punches, Chuck NEVER needs more than one line of code.\n",
        "\n",
        "Your task, to please Chuck, is to create a function that chains 4 methods on a SINGLE LINE! You can pass with multiple lines, but CHuck will pity you. Go big or go home. ONE LINE!!\n",
        "\n",
        "Chuck expects his list of favourite items to be split, sorted, joined AND have any occurrences of the letters 'e' and 'a' removed - why, you ask? Well Nunchuks hasn't got the letters 'a' or 'e' in it has it?? Chuck says shut your mouth... and don't forget the capitals.\n",
        "\n",
        "If anyone dares to provide Chuck with an empty string, an integer or an array, just return a description of their face once Chuck finds out: 'Broken!'\n",
        "\n",
        "Go, go go!!!\n",
        "\n",
        "\n",
        "\n",
        "\n",
        "\n",
        "\n",
        "Chuck Norris es el hombre más duro del mundo: una vez le dio una patada a un caballo en la barbilla. Sus descendientes hoy se conocen como jirafas.\n",
        "\n",
        "Al igual que sus golpes, Chuck NUNCA necesita más de una línea de código.\n",
        "\n",
        "¡Tu tarea, para complacer a Chuck, es crear una función que encadena 4 métodos en una SOLA LÍNEA! Puede pasar con varias líneas, pero CHuck se compadecerá de usted. Ve a lo grande o vete a casa. ¡¡UNA LÍNEA!!\n",
        "\n",
        "Chuck espera que su lista de elementos favoritos se divida, ordene, se unan Y que se eliminen todas las apariciones de las letras 'e' y 'a'. ¿Por qué? Bueno, Nunchuks no tiene las letras 'a' o 'e', ​​¿verdad? Chuck dice que cierra la boca ... y no olvides las mayúsculas.\n",
        "\n",
        "Si alguien se atreve a darle a Chuck una cadena vacía, un número entero o una matriz, simplemente devuelva una descripción de su rostro una vez que Chuck se entere: '¡Roto!'\n",
        "\n",
        "¡¡¡Ve! Ve! Ve!!!\n",
        "\n",
        "\n",
        "\n",
        "test.assert_equals(one_punch('Beard Knife Grenade Motorbike Hat'), 'Brd Grnd Ht Knif Motorbik')\n",
        "\n",
        "test.assert_equals(one_punch('Horse Rope Cups Car Beard'), 'Brd Cr Cups Hors Rop')\n",
        "\n",
        "test.assert_equals(one_punch('Friend Beer Beard Monkey Laptop'), 'Brd Br Frind Lptop Monky')"
      ]
    },
    {
      "cell_type": "code",
      "metadata": {
        "id": "_V8a161dK7Sg"
      },
      "source": [
        "def one_punch(item):\n",
        "    return ' '.join(sorted(item.split())).replace('a','').replace('e','').replace('A','').replace('E','') if isinstance(item, str) and item != '' and type(item) != int and len(item) != 0 else 'Broken!'"
      ],
      "execution_count": null,
      "outputs": []
    },
    {
      "cell_type": "code",
      "metadata": {
        "id": "srsd0RheFVzF"
      },
      "source": [
        "text_item = 'Friend Beer Beard Monkey Laptop'      # , 'Brd Br Frind Lptop Monky'"
      ],
      "execution_count": null,
      "outputs": []
    },
    {
      "cell_type": "code",
      "metadata": {
        "colab": {
          "base_uri": "https://localhost:8080/",
          "height": 35
        },
        "id": "BRzlYO1FFVso",
        "outputId": "16519ea6-534f-4381-ce80-0178734c890b"
      },
      "source": [
        "one_punch([])"
      ],
      "execution_count": null,
      "outputs": [
        {
          "output_type": "execute_result",
          "data": {
            "application/vnd.google.colaboratory.intrinsic+json": {
              "type": "string"
            },
            "text/plain": [
              "'Broken!'"
            ]
          },
          "metadata": {
            "tags": []
          },
          "execution_count": 86
        }
      ]
    },
    {
      "cell_type": "code",
      "metadata": {
        "id": "SqzQlX2s-ZaJ"
      },
      "source": [
        "text_item = 'Friend Beer Beard Monkey Laptop'      # , 'Brd Br Frind Lptop Monky'"
      ],
      "execution_count": null,
      "outputs": []
    },
    {
      "cell_type": "code",
      "metadata": {
        "colab": {
          "base_uri": "https://localhost:8080/",
          "height": 35
        },
        "id": "TUPlThagHe0X",
        "outputId": "22e14cc1-9757-4054-c54f-97414180fad8"
      },
      "source": [
        "one_punch('')"
      ],
      "execution_count": null,
      "outputs": [
        {
          "output_type": "execute_result",
          "data": {
            "application/vnd.google.colaboratory.intrinsic+json": {
              "type": "string"
            },
            "text/plain": [
              "'Broken!'"
            ]
          },
          "metadata": {
            "tags": []
          },
          "execution_count": 56
        }
      ]
    },
    {
      "cell_type": "code",
      "metadata": {
        "id": "1D8XrYTsDs0S",
        "colab": {
          "base_uri": "https://localhost:8080/",
          "height": 35
        },
        "outputId": "9801971f-5fb3-4e6d-c031-ab81059ca74a"
      },
      "source": [
        "one_punch('Beard Knife Grenade Motorbike Hat')    # , 'Brd Grnd Ht Knif Motorbik')"
      ],
      "execution_count": null,
      "outputs": [
        {
          "output_type": "execute_result",
          "data": {
            "application/vnd.google.colaboratory.intrinsic+json": {
              "type": "string"
            },
            "text/plain": [
              "'Brd Grnd Ht Knif Motorbik'"
            ]
          },
          "metadata": {
            "tags": []
          },
          "execution_count": 17
        }
      ]
    },
    {
      "cell_type": "code",
      "metadata": {
        "id": "LyUyxSO3DsxY",
        "colab": {
          "base_uri": "https://localhost:8080/",
          "height": 35
        },
        "outputId": "1b3f22d7-371b-409b-f5eb-d0c59e285a6b"
      },
      "source": [
        "one_punch('Horse Rope Cups Car Beard')            # , 'Brd Cr Cups Hors Rop'"
      ],
      "execution_count": null,
      "outputs": [
        {
          "output_type": "execute_result",
          "data": {
            "application/vnd.google.colaboratory.intrinsic+json": {
              "type": "string"
            },
            "text/plain": [
              "'Brd Cr Cups Hors Rop'"
            ]
          },
          "metadata": {
            "tags": []
          },
          "execution_count": 18
        }
      ]
    },
    {
      "cell_type": "code",
      "metadata": {
        "id": "QopWIVS5Dstn",
        "colab": {
          "base_uri": "https://localhost:8080/",
          "height": 35
        },
        "outputId": "25a2fa3e-f24e-4696-fde7-976480f8289a"
      },
      "source": [
        "one_punch('Friend Beer Beard Monkey Laptop')      # , 'Brd Br Frind Lptop Monky'"
      ],
      "execution_count": null,
      "outputs": [
        {
          "output_type": "execute_result",
          "data": {
            "application/vnd.google.colaboratory.intrinsic+json": {
              "type": "string"
            },
            "text/plain": [
              "'Br Brd Frind Lptop Monky'"
            ]
          },
          "metadata": {
            "tags": []
          },
          "execution_count": 19
        }
      ]
    },
    {
      "cell_type": "code",
      "metadata": {
        "id": "VZpSlPRmXa94",
        "colab": {
          "base_uri": "https://localhost:8080/",
          "height": 35
        },
        "outputId": "57de84d6-a176-4cc0-a04a-09c17281c4f4"
      },
      "source": [
        "one_punch('Horse Rope Cups Car Beard')"
      ],
      "execution_count": null,
      "outputs": [
        {
          "output_type": "execute_result",
          "data": {
            "application/vnd.google.colaboratory.intrinsic+json": {
              "type": "string"
            },
            "text/plain": [
              "'Brd Cr Cups Hors Rop'"
            ]
          },
          "metadata": {
            "tags": []
          },
          "execution_count": 20
        }
      ]
    },
    {
      "cell_type": "code",
      "metadata": {
        "id": "NAhJNaQxQ6ik"
      },
      "source": [
        "# m3jor solucion\n",
        "one_punch = lambda s: ' '.join(sorted(s.split())).replace('a', '').replace('e', '').replace('A', '').replace('E', '') if s and isinstance(s, str) else 'Broken!'\n",
        "def one_punch(item): return \"Broken!\" if not item or not isinstance(item, str) else \" \".join(\"\".join(c for c in w if c not in \"AaEe\") for w in sorted(item.split(\" \")))\n",
        "one_punch = lambda item: ' '.join(i.replace('e','').replace('a','').replace('E','').replace('A','') for i in sorted(item.split(' '))) if type(item) == str and item else 'Broken!'\n"
      ],
      "execution_count": null,
      "outputs": []
    },
    {
      "cell_type": "markdown",
      "metadata": {
        "id": "c2E-DtRPMsVj"
      },
      "source": [
        "https://docs.python.org/3/library/string.html#formatspec"
      ]
    },
    {
      "cell_type": "code",
      "metadata": {
        "colab": {
          "base_uri": "https://localhost:8080/"
        },
        "id": "1lSkf7ma-xsj",
        "outputId": "b4fc6a38-2e7d-45a8-e987-a959c8b8c08d"
      },
      "source": [
        "for align, text in zip('<^>', ['left', 'center', 'right']): print('{0:{fill}{align}16}'.format(text, fill=align, align=align))"
      ],
      "execution_count": null,
      "outputs": [
        {
          "output_type": "stream",
          "text": [
            "left<<<<<<<<<<<<\n",
            "^^^^^center^^^^^\n",
            ">>>>>>>>>>>right\n"
          ],
          "name": "stdout"
        }
      ]
    },
    {
      "cell_type": "code",
      "metadata": {
        "colab": {
          "base_uri": "https://localhost:8080/",
          "height": 35
        },
        "id": "ttmJQPt0-xnt",
        "outputId": "f3a9ee83-685f-49e3-e7fc-7359be2f341f"
      },
      "source": [
        "print('{}, {}, {}'.format('a', 'b', 'c')"
      ],
      "execution_count": null,
      "outputs": [
        {
          "output_type": "execute_result",
          "data": {
            "application/vnd.google.colaboratory.intrinsic+json": {
              "type": "string"
            },
            "text/plain": [
              "'a, b, c'"
            ]
          },
          "metadata": {
            "tags": []
          },
          "execution_count": 39
        }
      ]
    },
    {
      "cell_type": "code",
      "metadata": {
        "colab": {
          "base_uri": "https://localhost:8080/"
        },
        "id": "btMdXtmW-xk9",
        "outputId": "b3865e81-ffba-4f1e-e3d3-30ae038a677b"
      },
      "source": [
        "print('{2}, {1}, {0}'.format('a', 'b', 'c'))\n",
        "print('{2}, {1}, {0}'.format(*'abc'))\n",
        "print('{0}{1}{0}'.format('abra', 'cad'))\n",
        "print('Coordinates: {latitude}, {longitude}'.format(latitude='37.24N', longitude='-115.81W'))\n",
        "print(\"repr() shows quotes: {!r}; str() doesn't: {!s}\".format('test1', 'test2'))\n"
      ],
      "execution_count": null,
      "outputs": [
        {
          "output_type": "stream",
          "text": [
            "c, b, a\n",
            "c, b, a\n",
            "abracadabra\n",
            "Coordinates: 37.24N, -115.81W\n",
            "repr() shows quotes: 'test1'; str() doesn't: test2\n"
          ],
          "name": "stdout"
        }
      ]
    },
    {
      "cell_type": "code",
      "metadata": {
        "id": "SCoZeu59PXa9"
      },
      "source": [
        "print(\"{!s}\".format(text_item.replace(text_item[text_item.find('a')], ''))   # se admiten tres indicadores de conversión: '!s'qué invoca str() el valor, '!r'qué invoca repr()y '!a'qué invoca ascii()."
      ],
      "execution_count": null,
      "outputs": []
    },
    {
      "cell_type": "markdown",
      "metadata": {
        "id": "G2Q1t_gnSRNK"
      },
      "source": [
        "\n",
        "# Chuck Norris I - Push Ups\n",
        "\n",
        "https://www.codewars.com/kata/570564e838428f2eca001d73/train/python\n",
        "\n",
        "Chuck Norris loves push ups. That's just a fact. It has been said that when Chuck Norris does a push up, he isn't pushing himself up, he's pushing the world down!\n",
        "\n",
        "Today, Chuck got home from work 10 minutes earlier than his wife. Naturally he decided to bang out some push ups. By the time she arrives home he can have smashed out at least 1000 and barely broken a sweat. He counts them in binary, because he thinks coding is cool, and because he is a massive Badass.\n",
        "\n",
        "When his wife arrives home, she starts talking to Chuck, spoiling his count! Your job is to write a function to isolate Chuck's count, and then work out how many push ups he has done! Return your answer as a number.\n",
        "\n",
        "Careful Chuck doesn't lose count! Even if he does, always return the highest number he counted to! If Chuck's wife has left a list of jobs for him he won't be able to do any push ups... if there is no sign of a count, simply return \"CHUCK SMASH!!\"\n",
        "\n",
        "In the event someone dares to provide Chuck with something other than a string, return 'FAIL!!'\n",
        "\n",
        "Your code should still pass in the case that the binary is mixed up with other characters - maybe Chuck has a cough... e.g.: '1ee1gf00t10h1011tr00' --> '110010101100' --> 3244.\n",
        "\n",
        "\n",
        "TRADUCCION\n",
        "A Chuck Norris le encantan las flexiones. Eso es solo un hecho. Se ha dicho que cuando Chuck Norris hace una lagartija, no se está empujando hacia arriba, ¡está empujando al mundo hacia abajo!\n",
        "\n",
        "Hoy, Chuck llegó a casa del trabajo 10 minutos antes que su esposa. Naturalmente, decidió hacer algunas flexiones. Para cuando ella llega a casa, él puede haber hecho añicos al menos 1000 y apenas sudar. Los cuenta en binario, porque cree que la codificación es genial y porque es un tipo enorme.\n",
        "\n",
        "Cuando su esposa llega a casa, comienza a hablar con Chuck, ¡arruinando su cuenta! Tu trabajo es escribir una función para aislar el conteo de Chuck y luego calcular cuántas flexiones ha hecho. Devuelve tu respuesta como un número.\n",
        "\n",
        "¡Cuidado, Chuck no pierde la cuenta! Incluso si lo hace, ¡siempre devuelva el número más alto que contó! Si la esposa de Chuck le ha dejado una lista de trabajos, no podrá hacer flexiones ... si no hay señales de conteo, simplemente devuelva \"¡¡CHUCK SMASH !!\"\n",
        "\n",
        "En el caso de que alguien se atreva a darle a Chuck algo que no sea una cuerda, devuelve 'FAIL !!\n",
        "\n",
        "Su código aún debería pasar en el caso de que el binario esté mezclado con otros caracteres, tal vez Chuck tenga tos ... por ejemplo: '1ee1gf00t10h1011tr00' -> '110010101100' -> 3244."
      ]
    },
    {
      "cell_type": "code",
      "metadata": {
        "id": "NqaCl55TzISc"
      },
      "source": [
        "def chuck_push_ups(st): \n",
        "    # your code here\n",
        "    pass"
      ],
      "execution_count": null,
      "outputs": []
    },
    {
      "cell_type": "code",
      "metadata": {
        "id": "bg9iX6RpzIQU"
      },
      "source": [
        "def chuck_push_ups(st): \n",
        "    # your code here\n",
        "    pass"
      ],
      "execution_count": null,
      "outputs": []
    },
    {
      "cell_type": "code",
      "metadata": {
        "id": "jjqZeSCCzINe"
      },
      "source": [
        " test.assert_equals(chuck_push_ups('1 \"Chuck\" 10 \"Stop that!\" 11 \"Your vest looks stupid\" 100 101 110'), 6)\n",
        "        test.assert_equals(chuck_push_ups('1000 \"Did you kick someone in the face today?\" 1001 1010 \"Will I be making dinner then?!\" 1011 110'), 11)\n",
        "        test.assert_equals(chuck_push_ups('10000 \"Nice Beard\" 1111 \"Are you wearing denim shorts?\" 1110 1101'), 16)\n",
        "        test.assert_equals(chuck_push_ups(''), 'FAIL!!')\n",
        "        test.assert_equals(chuck_push_ups([]), 'FAIL!!')\n",
        "        test.assert_equals(chuck_push_ups(1), 'FAIL!!')"
      ],
      "execution_count": null,
      "outputs": []
    },
    {
      "cell_type": "code",
      "metadata": {
        "id": "QOjVkWqwzIHH"
      },
      "source": [
        ""
      ],
      "execution_count": null,
      "outputs": []
    },
    {
      "cell_type": "code",
      "metadata": {
        "id": "C8sjjrzmzIDV"
      },
      "source": [
        ""
      ],
      "execution_count": null,
      "outputs": []
    },
    {
      "cell_type": "markdown",
      "metadata": {
        "id": "13UOXg1qWaPT"
      },
      "source": [
        "# Chuck Norris IV - Bearded Fist\n",
        "\n",
        "https://www.codewars.com/kata/57066708cb7293901a0013a1/train/python\n",
        "\n",
        "It has long been rumoured that behind Chuck's beard is not a chin, but another fist!\n",
        "\n",
        "When shaving, Chuck accidentally punched himself in the face. He is the only man that could take that punch without dying, but that doesn't mean it didn't sting! Chuck can't remember a thing - he needs your help!!\n",
        "\n",
        "Hidden within the provided sequence of sequences are numbers that represent the letters of the words for some of Chuck's favourite things! Your job is to translate them, and return the words so that Chuck can get back to the business of punching and kicking things.\n",
        "\n",
        "\n",
        "Se rumorea desde hace mucho tiempo que detrás de la barba de Chuck no hay una barbilla, ¡sino otro puño!\n",
        "\n",
        "Al afeitarse, Chuck se golpeó accidentalmente en la cara. Él es el único hombre que podría recibir ese golpe sin morir, ¡pero eso no significa que no le doliera! Chuck no puede recordar nada, ¡necesita tu ayuda!\n",
        "\n",
        "¡Escondidos dentro de la secuencia de secuencias provista hay números que representan las letras de las palabras de algunas de las cosas favoritas de Chuck! Tu trabajo es traducirlas y devolver las palabras para que Chuck pueda volver al negocio de golpear y patear cosas.\n"
      ]
    },
    {
      "cell_type": "code",
      "metadata": {
        "id": "R5dR9ybLWY2_"
      },
      "source": [
        "def fist_beard(arr): \n",
        "    # your code here\n",
        "    pass"
      ],
      "execution_count": null,
      "outputs": []
    },
    {
      "cell_type": "code",
      "metadata": {
        "id": "LZ2Wl0reWY0q"
      },
      "source": [
        "import codewars_test as test\n",
        "from solution import fist_beard\n",
        "\n",
        "@test.describe(\"Example\")\n",
        "def test_group():\n",
        "    @test.it(\"test case\")\n",
        "    def test_case():\n",
        "        test.assert_equals(fist_beard([[78], [117, 110, 99], [104, 117], [107, 115]]), 'Nunchuks')\n",
        "        test.assert_equals(fist_beard([[70, 97, 99], [101, 45, 75, 105, 99, 107]]), 'Face-Kick')"
      ],
      "execution_count": null,
      "outputs": []
    },
    {
      "cell_type": "code",
      "source": [
        "fist_beard = lambda s: ''.join(list(map(chr, list(map(int, list(str(str(s).replace(']','').replace('[','').replace(',','')).split()))))))"
      ],
      "metadata": {
        "id": "yLo_IsvykFBG"
      },
      "execution_count": null,
      "outputs": []
    },
    {
      "cell_type": "code",
      "metadata": {
        "id": "KFQmTqRQWYxl",
        "outputId": "81579a02-68e1-485e-bff6-50131ea33426",
        "colab": {
          "base_uri": "https://localhost:8080/",
          "height": 35
        }
      },
      "source": [
        "chr(78)"
      ],
      "execution_count": null,
      "outputs": [
        {
          "output_type": "execute_result",
          "data": {
            "application/vnd.google.colaboratory.intrinsic+json": {
              "type": "string"
            },
            "text/plain": [
              "'N'"
            ]
          },
          "metadata": {},
          "execution_count": 3
        }
      ]
    },
    {
      "cell_type": "code",
      "metadata": {
        "id": "04JXZh64WYuU"
      },
      "source": [
        "array = [[78], [117, 110, 99], [104, 117], [107, 115]]"
      ],
      "execution_count": null,
      "outputs": []
    },
    {
      "cell_type": "code",
      "source": [
        ""
      ],
      "metadata": {
        "id": "AU6rnkgSDsbe"
      },
      "execution_count": null,
      "outputs": []
    },
    {
      "cell_type": "code",
      "source": [
        "array_to_str = str(array)"
      ],
      "metadata": {
        "id": "1auKUVUPDsQN"
      },
      "execution_count": null,
      "outputs": []
    },
    {
      "cell_type": "code",
      "source": [
        ""
      ],
      "metadata": {
        "id": "4KRIF5o7EVFF"
      },
      "execution_count": null,
      "outputs": []
    },
    {
      "cell_type": "code",
      "source": [
        "array_to_str2 = array_to_str.replace(']','').replace('[','').replace(',','')"
      ],
      "metadata": {
        "id": "sHYrqaZNDsFx"
      },
      "execution_count": null,
      "outputs": []
    },
    {
      "cell_type": "code",
      "source": [
        "str_to_list = list(str(array_to_str2).split())"
      ],
      "metadata": {
        "id": "K94Jt76CFE8I"
      },
      "execution_count": null,
      "outputs": []
    },
    {
      "cell_type": "code",
      "source": [
        "nueva_lista = list(map(int, str_to_list))"
      ],
      "metadata": {
        "id": "P2KWmfvdevhQ"
      },
      "execution_count": null,
      "outputs": []
    },
    {
      "cell_type": "code",
      "source": [
        "nueva_lista"
      ],
      "metadata": {
        "id": "HPaxAylBFML0",
        "outputId": "2e0f1025-b9fc-482b-d440-503b593f4db1",
        "colab": {
          "base_uri": "https://localhost:8080/"
        }
      },
      "execution_count": null,
      "outputs": [
        {
          "output_type": "execute_result",
          "data": {
            "text/plain": [
              "[78, 117, 110, 99, 104, 117, 107, 115]"
            ]
          },
          "metadata": {},
          "execution_count": 47
        }
      ]
    },
    {
      "cell_type": "code",
      "source": [
        "nueva_lista2 = list(map(chr, nueva_lista))"
      ],
      "metadata": {
        "id": "8ftyk3s-FMD_"
      },
      "execution_count": null,
      "outputs": []
    },
    {
      "cell_type": "code",
      "metadata": {
        "id": "qZ2GVtJFWYmU"
      },
      "source": [
        "nueva_lista2.join()"
      ],
      "execution_count": null,
      "outputs": []
    },
    {
      "cell_type": "code",
      "metadata": {
        "id": "aSdCj78-XEF3",
        "outputId": "61bb72c3-61e0-47dc-9b0e-9c4ea730622d",
        "colab": {
          "base_uri": "https://localhost:8080/",
          "height": 35
        }
      },
      "source": [
        "''.join(nueva_lista2)"
      ],
      "execution_count": null,
      "outputs": [
        {
          "output_type": "execute_result",
          "data": {
            "application/vnd.google.colaboratory.intrinsic+json": {
              "type": "string"
            },
            "text/plain": [
              "'Nunchuks'"
            ]
          },
          "metadata": {},
          "execution_count": 53
        }
      ]
    },
    {
      "cell_type": "code",
      "metadata": {
        "id": "cyawPyDsXEDd"
      },
      "source": [
        "def fist_beard(arr): \n",
        "    # your code here\n",
        "    str(array)\n",
        "    array_to_str.replace(']','').replace('[','').replace(',','')\n",
        "    list(str(array_to_str2).split())\n",
        "    \n",
        "    \n",
        "    return ''.join(list(map(chr, list(map(int, str_to_list)))))"
      ],
      "execution_count": null,
      "outputs": []
    },
    {
      "cell_type": "code",
      "source": [
        "def fist_beard(arr):\n",
        "    # your code here\n",
        "    return ''.join(list(map(chr, list(map(int, list(str(str(array).replace(']','').replace('[','').replace(',','')).split()))))))"
      ],
      "metadata": {
        "id": "_c-mPBGyCiVq"
      },
      "execution_count": null,
      "outputs": []
    },
    {
      "cell_type": "code",
      "source": [
        "array = [[78], [117, 110, 99], [104, 117], [107, 115]]"
      ],
      "metadata": {
        "id": "j2e8mTICCiRO"
      },
      "execution_count": null,
      "outputs": []
    },
    {
      "cell_type": "code",
      "source": [
        "fist_beard(array)"
      ],
      "metadata": {
        "id": "pSjQW_cBCiNy",
        "outputId": "f5252dea-0ed6-4e77-ba98-c993e0644f64",
        "colab": {
          "base_uri": "https://localhost:8080/",
          "height": 35
        }
      },
      "execution_count": null,
      "outputs": [
        {
          "output_type": "execute_result",
          "data": {
            "application/vnd.google.colaboratory.intrinsic+json": {
              "type": "string"
            },
            "text/plain": [
              "'Nunchuks'"
            ]
          },
          "metadata": {},
          "execution_count": 56
        }
      ]
    },
    {
      "cell_type": "code",
      "source": [
        "fist_beard2 = lambda s: ''.join(list(map(chr, list(map(int, list(str(str(s).replace(']','').replace('[','').replace(',','')).split()))))))"
      ],
      "metadata": {
        "id": "7HoxoZbsjOsj"
      },
      "execution_count": null,
      "outputs": []
    },
    {
      "cell_type": "code",
      "source": [
        "fist_beard2(array)"
      ],
      "metadata": {
        "id": "forAaXdujOl0",
        "outputId": "6f3627e7-d499-41db-efd2-85bbdec50eb0",
        "colab": {
          "base_uri": "https://localhost:8080/",
          "height": 35
        }
      },
      "execution_count": null,
      "outputs": [
        {
          "output_type": "execute_result",
          "data": {
            "application/vnd.google.colaboratory.intrinsic+json": {
              "type": "string"
            },
            "text/plain": [
              "'Nunchuks'"
            ]
          },
          "metadata": {},
          "execution_count": 58
        }
      ]
    },
    {
      "cell_type": "code",
      "source": [
        ""
      ],
      "metadata": {
        "id": "PEdGMJf7jOge"
      },
      "execution_count": null,
      "outputs": []
    },
    {
      "cell_type": "code",
      "source": [
        ""
      ],
      "metadata": {
        "id": "OZnUMShpjOZ6"
      },
      "execution_count": null,
      "outputs": []
    },
    {
      "cell_type": "code",
      "source": [
        ""
      ],
      "metadata": {
        "id": "wsnJLmyoCiK5"
      },
      "execution_count": null,
      "outputs": []
    },
    {
      "cell_type": "code",
      "source": [
        ""
      ],
      "metadata": {
        "id": "qGs3ezLSCiGV"
      },
      "execution_count": null,
      "outputs": []
    },
    {
      "cell_type": "markdown",
      "metadata": {
        "id": "ONgfDVaZXEea"
      },
      "source": [
        "# Chuck Norris V - Body Count\n",
        "\n",
        "https://www.codewars.com/kata/57066ad6cb72934c8400149e\n",
        "\n",
        "\n",
        "Chuck has lost count of how many asses he has kicked...\n",
        "\n",
        "Chuck stopped counting at 100,000 because he prefers to kick things in the face instead of counting. That's just who he is.\n",
        "\n",
        "To stop having to count like a mere mortal chuck developed his own special code using the hairs on his beard. You do not need to know the details of how it works, you simply need to know that the format is as follows: 'A8A8A8A8A8.-A%8.88.'\n",
        "\n",
        "In Chuck's code, 'A' can be any capital letter and '8' can be any number 0-9 and any %, - or . symbols must not be changed.\n",
        "\n",
        "Your task, to stop Chuck beating your ass with his little finger, is to use regex to verify if the number is a genuine Chuck score. If not it's probably some crap made up by his nemesis Bruce Lee. Return true if the provided count passes, and false if it does not.\n",
        "\n",
        "Example:\n",
        "\n",
        "     'A8A8A8A8A8.-A%8.88.' <- don't forget final full stop :D\\n\n",
        "\n",
        "Tests:\n",
        "     'A2B8T1Q9W4.-F%5.34.' == true;\n",
        "\n",
        "     'a2B8T1Q9W4.-F%5.34.' == false; (small letter)\n",
        "\n",
        "     'A2B8T1Q9W4.-F%5.3B.' == false; (last char should be number) \n",
        "\n",
        "     'A2B8T1Q9W4.£F&5.34.' == false; (symbol changed from - and %)\n",
        "\n",
        "The pattern only needs to appear within the text. The full input can be longer, i.e. the pattern can be surrounded by other characters... Chuck loves to be surrounded!\n",
        "\n",
        "Ready, steady, VERIFY!!\n",
        "\n",
        "\n",
        "\n",
        "TRADUCCION\n",
        "Chuck ha perdido la cuenta de cuántos culos ha pateado ...\n",
        "\n",
        "Chuck dejó de contar en 100.000 porque prefiere patear cosas en la cara en lugar de contar. Eso es lo que es.\n",
        "\n",
        "Para dejar de tener que contar como un simple chuck mortal desarrolló su propio código especial usando los pelos de su barba. No necesita conocer los detalles de cómo funciona, simplemente necesita saber que el formato es el siguiente: 'A8A8A8A8A8.-A% 8.88'.\n",
        "\n",
        "En el código de Chuck, 'A' puede ser cualquier letra mayúscula y '8' puede ser cualquier número 0-9 y cualquier%, - o. los símbolos no deben cambiarse.\n",
        "\n",
        "Tu tarea, para evitar que Chuck te golpee el trasero con el dedo meñique, es usar expresiones regulares para verificar si el número es una puntuación de Chuck genuina. Si no, probablemente sea una mierda inventada por su némesis Bruce Lee. Devuelve verdadero si pasa el recuento proporcionado y falso si no.\n",
        "\n",
        "Ejemplo:\n",
        "\n",
        "     'A8A8A8A8A8.-A% 8.88.' <- no olvide el punto final: D \\ n\n",
        "\n",
        "Pruebas:\n",
        "     'A2B8T1Q9W4.-F% 5.34.' == verdadero;\n",
        "\n",
        "     'a2B8T1Q9W4.-F% 5.34.' == falso; (letra pequeña)\n",
        "\n",
        "     'A2B8T1Q9W4.-F% 5.3B.' == falso; (el último carácter debe ser el número)\n",
        "\n",
        "     'A2B8T1Q9W4. £ F y 5.34.' == falso; (símbolo cambiado de - y%)\n",
        "\n",
        "El patrón solo debe aparecer dentro del texto. La entrada completa puede ser más larga, es decir, el patrón puede estar rodeado por otros personajes ... ¡A Chuck le encanta estar rodeado!\n",
        "\n",
        "Listo, constante, VERIFICAR !!\n"
      ]
    },
    {
      "cell_type": "code",
      "metadata": {
        "id": "RPXTAsg7Xr5L"
      },
      "source": [
        ""
      ],
      "execution_count": null,
      "outputs": []
    },
    {
      "cell_type": "code",
      "metadata": {
        "id": "-GZiOE6IXr1r"
      },
      "source": [
        ""
      ],
      "execution_count": null,
      "outputs": []
    },
    {
      "cell_type": "code",
      "metadata": {
        "id": "1_xE-utyXry1"
      },
      "source": [
        ""
      ],
      "execution_count": null,
      "outputs": []
    },
    {
      "cell_type": "markdown",
      "metadata": {
        "id": "_TCE8lGyXsho"
      },
      "source": [
        "# Chuck Norris VI - Shopping with Chuck\n",
        "\n",
        "https://www.codewars.com/kata/5706be574f2c297a7b00060d\n",
        "\n",
        "\n",
        "What do action men wear? Isn't it obvious? 1) Shirt. 2) Cowboy Boots. 3) ACTION PANTS!! Any self respecting action hero heading out to cause some trouble knows the uniform... If you see a man striding towards you in this outfit you should be very careful, he's probably dangerous.\n",
        "\n",
        "Chucks action pants are extra special though. Due to his immense power, and slightly odd fan base, Chuck's used action pants actually increase in value!! That man can make money from anywhere!\n",
        "\n",
        "Your task, to pass the kata and potentially, if Chuck reads this, to be sent a pair of old action pants by the man himself, is as follows:\n",
        "\n",
        "Inputs:\n",
        "\n",
        "Starting price: start (dollars)\n",
        "\n",
        "Use: soil (percentage)\n",
        "\n",
        "Age: age (years)\n",
        "\n",
        "The action pants appreciate every year depending on the level to which they are soiled (soil input):\n",
        "\n",
        "Barely used: 10\n",
        "\n",
        "Seen a few high kicks: 25\n",
        "\n",
        "Blood stained: 30\n",
        "\n",
        "Heavily soiled: 50\n",
        "\n",
        "You will be given the relevant string as the soil input. Return a string prefixed with $ and to 2 decimal places e.g.:\n",
        "\n",
        "'$25.00'\n",
        "\n",
        "The inputs should be Number, string, Number... if any of those aren't as expected then return 'Chuck is bottomless!'. Same if the soil input is not one of the specified statements.\n",
        "\n",
        "\n",
        "\n",
        "TRADUCCION\n",
        "¿Qué usan los hombres de acción? ¿No es obvio? 1) Camisa. 2) Botas de vaquero. 3) ¡¡PANTALONES DE ACCIÓN !! Cualquier héroe de acción que se precie y vaya a causar problemas conoce el uniforme ... Si ves a un hombre caminando hacia ti con este atuendo, debes tener mucho cuidado, probablemente sea peligroso.\n",
        "\n",
        "Sin embargo, los pantalones de acción Chucks son muy especiales. ¡Debido a su inmenso poder y a su base de fans un poco extraña, los pantalones de acción usados ​​de Chuck en realidad aumentan de valor! ¡Ese hombre puede ganar dinero desde cualquier lugar!\n",
        "\n",
        "Tu tarea, pasar el kata y potencialmente, si Chuck lee esto, que el mismo hombre le envíe un par de pantalones de acción viejos, es la siguiente:\n",
        "\n",
        "Entradas:\n",
        "Precio de salida: inicio (dólares)\n",
        "Uso: suelo (porcentaje)\n",
        "Edad: edad (años)\n",
        "Los pantalones de acción aprecian todos los años según el nivel de suciedad (entrada de suelo):\n",
        "\n",
        "Apenas usado: 10\n",
        "Visto algunas patadas altas: 25\n",
        "Manchado de sangre: 30\n",
        "Muy sucio: 50\n",
        "Se le dará la cadena correspondiente como entrada de suelo. Devuelve una cadena con el prefijo $ y 2 decimales, por ejemplo:\n",
        "\n",
        "'$ 25.00'\n",
        "Las entradas deben ser Número, cadena, Número ... si alguno de ellos no es el esperado, devuelva '¡Chuck no tiene fondo!'. Lo mismo si la entrada de suelo no es una de las declaraciones especificadas.\n",
        "\n",
        "¡Precio ese refuerzo!\n",
        "\n",
        "\n",
        "\n",
        "\n",
        "Price that gusset!"
      ]
    },
    {
      "cell_type": "code",
      "metadata": {
        "id": "iLql0_kvYCdg"
      },
      "source": [
        "import codewars_test as test\n",
        "from solution import price\n",
        "\n",
        "@test.describe(\"Example Tests\")\n",
        "def test_group():\n",
        "    @test.it(\"Basic tests\")\n",
        "    def test_case():\n",
        "        test.assert_equals(price(19.95, 'Barely used', 3), '$26.55')\n",
        "        test.assert_equals(price(27.76, 'Seen a few high kicks', 15), '$788.99')\n",
        "        test.assert_equals(price(13.26, 'Blood stained', 25), '$9356.80')\n",
        "        test.assert_equals(price(44.11, 'Heavily soiled', 7), '$753.66')\n",
        "        test.assert_equals(price('pants', 6, 7), 'Chuck is bottomless!')"
      ],
      "execution_count": null,
      "outputs": []
    },
    {
      "cell_type": "code",
      "metadata": {
        "id": "YEvAOsTlYDlD"
      },
      "source": [
        "def price(start, soil, age): \n",
        "    # your code here\n",
        "    pass"
      ],
      "execution_count": null,
      "outputs": []
    },
    {
      "cell_type": "code",
      "metadata": {
        "id": "3OLo4GOGYDh0"
      },
      "source": [
        ""
      ],
      "execution_count": null,
      "outputs": []
    },
    {
      "cell_type": "code",
      "metadata": {
        "id": "QClVINamYDdi"
      },
      "source": [
        ""
      ],
      "execution_count": null,
      "outputs": []
    },
    {
      "cell_type": "code",
      "metadata": {
        "id": "4JcHlgQ0YDXJ"
      },
      "source": [
        ""
      ],
      "execution_count": null,
      "outputs": []
    },
    {
      "cell_type": "code",
      "metadata": {
        "id": "yX1SmTUtYDU0"
      },
      "source": [
        ""
      ],
      "execution_count": null,
      "outputs": []
    },
    {
      "cell_type": "code",
      "metadata": {
        "id": "57jJKIaWYDRe"
      },
      "source": [
        ""
      ],
      "execution_count": null,
      "outputs": []
    },
    {
      "cell_type": "code",
      "metadata": {
        "id": "10Tr9PVWYDLf"
      },
      "source": [
        ""
      ],
      "execution_count": null,
      "outputs": []
    },
    {
      "cell_type": "markdown",
      "metadata": {
        "id": "leNczzbRYSYV"
      },
      "source": [
        "https://www.codewars.com/kata/570669d8cb7293a2d1001473/train/python\n",
        "# Chuck Norris VII - True or False? (Beginner)\n",
        "\n",
        "\n",
        "It's a well known fact that anything Chuck Norris wants, he gets. As a result Chuck very rarely has to use the word false.\n",
        "\n",
        "It is a less well known fact that if something is true, and Chuck doesn't want it to be, Chuck can scare the truth with his massive biceps, and it automatically becomes false.\n",
        "\n",
        "Your task is to be more like Chuck (ha! good luck!). You must return false without ever actually using the word false...\n",
        "\n",
        "Go show some truth who's boss!\n",
        "\n",
        "\n",
        "\n",
        "\n",
        "Es un hecho bien conocido que todo lo que Chuck Norris quiere, lo obtiene. Como resultado, Chuck rara vez tiene que usar la palabra falso.\n",
        "\n",
        "Es un hecho menos conocido que si algo es cierto, y Chuck no quiere que lo sea, Chuck puede asustar la verdad con sus enormes bíceps, y automáticamente se vuelve falso.\n",
        "\n",
        "Tu tarea es ser más como Chuck (¡ja! ¡Buena suerte!). Debes devolver falso sin siquiera usar la palabra falso ...\n",
        "\n",
        "¡Ve a mostrar algo de verdad sobre quién manda!\n",
        "\n",
        "\n",
        "\n",
        "\n",
        "\n",
        "\n",
        "\n",
        "\n",
        "\n"
      ]
    },
    {
      "cell_type": "code",
      "metadata": {
        "id": "3pVzu6otY4Mg"
      },
      "source": [
        "test.it(\"One and only test\")\n",
        "test.assert_equals(ifChuckSaysSo(), False)"
      ],
      "execution_count": null,
      "outputs": []
    },
    {
      "cell_type": "code",
      "metadata": {
        "id": "owoFU5pUYSLQ"
      },
      "source": [
        "def ifChuckSaysSo():\n",
        "    return bool(0)"
      ],
      "execution_count": null,
      "outputs": []
    },
    {
      "cell_type": "code",
      "metadata": {
        "id": "LdncwkHf6cDl"
      },
      "source": [
        "ifChuckSaysSo=0..__int__"
      ],
      "execution_count": null,
      "outputs": []
    },
    {
      "cell_type": "markdown",
      "metadata": {
        "id": "8J5G5Pvyj3a2"
      },
      "source": [
        "# POO Blobservation 2: Merge Inert Blobs\n",
        "\n",
        "https://www.codewars.com/kata/5f8fb3c06c8f520032c1e091\n",
        "\n",
        "\n",
        "Overview\n",
        "You have an m x n rectangular matrix (grid) where each index is occupied by a blob.\n",
        "Each blob is given a positive integer value; let's say it represents its mass.\n",
        "Each blob is immobile on its own, but when the terrain is tilted downward toward a cardinal direction, all blobs will roll toward that direction.\n",
        "The grid is a closed environment, so the blobs are confined within the boundaries of the grid.\n",
        "\n",
        "Objective\n",
        "You will write a class Blobservation. The class will be given a matrix of positive integers to create an instance. The class should also include two methods: read and state.\n",
        "The read method will take a string of directions (N,W,S,E representing their respective cardinal directions). This provides the sequence of directional tilts to the grid.\n",
        "\n",
        "The state method should return the current state of the grid in as small a rectangular matrix as possible. In this grid, empty spaces should be filled with 0.\n",
        "\n",
        "Blob Movement\n",
        "The grid can tilt in any of the four cardinal directions (ie. north, east, south, west). When tilted, all blobs on the grid will roll in the tilted direction until blocked by another blob or the grid's boundary.\n",
        "\n",
        "Blob Consumption\n",
        "If a smaller rolling blob collides with a larger blob, the larger blob will absorb the smaller one only if the smaller one is moving toward the larger. Otherwise, the blobs simply end up next to each other.\n",
        "In our test example below, during the first read (\"E\" for east), the 6 blob in the top row absorbs the 4 blob on its left, but the 9 blob in the top left does not absorb the 4 blob.\n",
        "When blobs are consumed in a given move (tilt), all merging occurs concurrently. During the first tilt in our test example below, the blobs in the bottom row merge into one; the \"9\" absorbs the \"6\" while the \"6\" absorbs the \"3\", resulting in the \"18\".\n",
        "Zeroes are empty spaces between blobs and will have no effect on merges; treat them like they don't exist.\n",
        "Let's say you have the grid: [ [4,0,0,6,0,8] ]\n",
        "If we read the direction \"E\", we get the following when we call the state method: [ [18] ].\n",
        "Test Example\n",
        "Below is pseudocode; refer to the initial test setup for your language\n",
        "\n",
        "grid = [\n",
        "    [9,4,6],\n",
        "    [8,8,8],\n",
        "    [3,6,9]\n",
        "]\n",
        "\n",
        "Let's create an instance:\n",
        "blobs = Blobservation(grid)\n",
        "\n",
        "Then let's call the 'read' method with a string:\n",
        "blobs.read(\"E\")\n",
        "\n",
        "Now we'll call the 'state' method...\n",
        "blobs.state()\n",
        "\n",
        "...which should return a matrix like below:\n",
        "[\n",
        "    [0,9,10],\n",
        "    [8,8,8],\n",
        "    [0,0,18]\n",
        "]\n",
        "\n",
        "Now let's read some more directions and print the state with each read:\n",
        "blobs.read(\"S\")\n",
        "blobs.state() == [\n",
        "                    [0,9,10],\n",
        "                    [8,8,26]\n",
        "                 ]\n",
        "\n",
        "blobs.read(\"EN\")\n",
        "blobs.state() == [\n",
        "                    [8,19],\n",
        "                    [0,34],\n",
        "                 ]\n",
        "Test Specifications\n",
        "All inputs will be valid\n",
        "Matrix dimensions will range anywhere between 2 x 2 and 50 x 50, inclusive\n",
        "Full Test Suite: 8 fixed tests and 100 random tests\n",
        "For JavaScript, module and require are disabled and Object and Object.prototype are frozen\n",
        "If you enjoyed this kata, be sure to check out my other katas\n",
        "\n",
        "\n",
        "\n",
        "\n",
        "\n",
        "\n",
        "\n",
        "\n",
        "\n",
        "Descripción general\n",
        "Tiene una matriz (cuadrícula) rectangular de m x n donde cada índice está ocupado por un blob.\n",
        "A cada blob se le asigna un valor entero positivo; digamos que representa su masa.\n",
        "Cada mancha está inmóvil por sí sola, pero cuando el terreno se inclina hacia abajo hacia una dirección cardinal, todas las manchas rodarán hacia esa dirección.\n",
        "La cuadrícula es un entorno cerrado, por lo que las manchas están confinadas dentro de los límites de la cuadrícula.\n",
        "\n",
        "Objetivo\n",
        "Escribirás una clase Blobservation. A la clase se le dará una matriz de enteros positivos para crear una instancia. La clase también debe incluir dos métodos: lectura y estado.\n",
        "El método de lectura tomará una serie de direcciones (N, W, S, E que representan sus respectivas direcciones cardinales). Esto proporciona la secuencia de inclinaciones direccionales a la cuadrícula.\n",
        "\n",
        "El método de estado debe devolver el estado actual de la cuadrícula en una matriz rectangular lo más pequeña posible. En esta cuadrícula, los espacios vacíos deben llenarse con 0.\n",
        "\n",
        "Movimiento de gotas\n",
        "La cuadrícula puede inclinarse en cualquiera de las cuatro direcciones cardinales (es decir, norte, este, sur, oeste). Cuando se inclina, todas las manchas de la cuadrícula se desplazarán en la dirección inclinada hasta que las bloquee otra mancha o el límite de la cuadrícula.\n",
        "\n",
        "Consumo de blobs\n",
        "Si una gota rodante más pequeña choca con una gota más grande, la gota más grande absorberá a la más pequeña solo si la más pequeña se mueve hacia la más grande. De lo contrario, las manchas simplemente terminan una al lado de la otra.\n",
        "En nuestro ejemplo de prueba a continuación, durante la primera lectura (\"E\" para este), la gota 6 en la fila superior absorbe la gota 4 a su izquierda, pero la gota 9 en la parte superior izquierda no absorbe la gota 4.\n",
        "Cuando se consumen blobs en un movimiento determinado (inclinación), todas las fusiones se producen al mismo tiempo. Durante la primera inclinación en nuestro ejemplo de prueba a continuación, las manchas en la fila inferior se fusionan en una; el \"9\" absorbe el \"6\" mientras que el \"6\" absorbe el \"3\", resultando en el \"18\".\n",
        "Los ceros son espacios vacíos entre blobs y no tendrán ningún efecto en las fusiones; trátelos como si no existieran.\n",
        "Digamos que tiene la cuadrícula: [[4,0,0,6,0,8]]\n",
        "Si leemos la dirección \"E\", obtenemos lo siguiente cuando llamamos al método de estado: [[18]].\n",
        "Ejemplo de prueba\n",
        "A continuación se muestra el pseudocódigo; consulte la configuración de prueba inicial para su idioma\n",
        "\n",
        "cuadrícula = [\n",
        "    [9,4,6],\n",
        "    [8,8,8],\n",
        "    [3,6,9]\n",
        "]\n",
        "\n",
        "Creemos una instancia:\n",
        "blobs = Blobservation (cuadrícula)\n",
        "\n",
        "Entonces llamemos al método 'leer' con una cadena:\n",
        "blobs.read (\"E\")\n",
        "\n",
        "\n",
        "Ahora llamaremos al método 'estado' ...\n",
        "blobs.state ()\n",
        "\n",
        "... que debería devolver una matriz como la siguiente:\n",
        "[\n",
        "    [0,9,10],\n",
        "    [8,8,8],\n",
        "    [0,0,18]\n",
        "]\n",
        "\n",
        "Ahora leamos algunas instrucciones más e imprimamos el estado con cada lectura:\n",
        "blobs.read (\"S\")\n",
        "blobs.state () == [\n",
        "                    [0,9,10],\n",
        "                    [8,8,26]\n",
        "                 ]\n",
        "\n",
        "blobs.read (\"EN\")\n",
        "blobs.state () == [\n",
        "                    [8,19],\n",
        "                    [0,34],\n",
        "                 ]\n",
        "Especificaciones de prueba\n",
        "Todas las entradas serán válidas\n",
        "Las dimensiones de la matriz oscilarán entre 2 x 2 y 50 x 50, inclusive\n",
        "Conjunto de pruebas completo: 8 pruebas fijas y 100 pruebas aleatorias\n",
        "Para JavaScript, module y require están deshabilitados y Object y Object.prototype están congelados\n",
        "Si disfrutaste este kata, asegúrate de ver mis otros katas\n",
        "\n",
        "\n",
        "\n",
        "\n",
        "\n",
        "\n",
        "\n"
      ]
    },
    {
      "cell_type": "code",
      "metadata": {
        "id": "EozasUAYj29f"
      },
      "source": [
        "@test.describe(\"Example Tests\")\n",
        "def example_tests():\n",
        "    @test.describe(\"Verify correctness of step-by-step instructions\")\n",
        "    def example1():\n",
        "        grid = (\n",
        "            (9,4,6),\n",
        "            (8,8,8),\n",
        "            (3,6,9)\n",
        "        )\n",
        "        instructions = (\"E\",\"S\",\"E\",\"N\")\n",
        "        transition_steps = (\n",
        "            (\n",
        "                (0,9,10),\n",
        "                (8,8,8),\n",
        "                (0,0,18),\n",
        "            ),\n",
        "            (\n",
        "                (0,9,10),\n",
        "                (8,8,26),\n",
        "            ),\n",
        "            (\n",
        "                (0,19),\n",
        "                (8,34),\n",
        "            ),\n",
        "            (\n",
        "                (8,19),\n",
        "                (0,34),\n",
        "            ),\n",
        "        )\n",
        "        \n",
        "        blobs = Blobservation(grid)\n",
        "        \n",
        "        for i,move in enumerate(instructions):\n",
        "            @test.it(f\"Reading instruction: \\\"{move}\\\"\")\n",
        "            def single_steps():\n",
        "                blobs.read(move)\n",
        "                test.assert_equals(blobs.state(),transition_steps[i])\n",
        "    \n",
        "    @test.it(\"Test a simple case\")\n",
        "    def example2():\n",
        "        grid = (\n",
        "            (4,3,5),\n",
        "            (1,4,6),\n",
        "            (5,2,6),\n",
        "        )\n",
        "        final_state = (\n",
        "            (7,0),\n",
        "            (7,22),\n",
        "        )\n",
        "        blobs = Blobservation(grid)\n",
        "        blobs.read(\"WENS\")\n",
        "        test.assert_equals(blobs.state(),final_state)"
      ],
      "execution_count": null,
      "outputs": []
    },
    {
      "cell_type": "code",
      "metadata": {
        "id": "2JR49uwFj18K"
      },
      "source": [
        "class Blobservation:\n",
        "    def __init__(self,matrix):\n",
        "        # initialized with a 2-dimensional tuple\n",
        "        pass\n",
        "    \n",
        "    def read(self,instructions):\n",
        "        # receives a string argument\n",
        "        pass\n",
        "    \n",
        "    def state(self):\n",
        "        # should return a 2-dimensional tuple\n",
        "        pass"
      ],
      "execution_count": null,
      "outputs": []
    },
    {
      "cell_type": "code",
      "metadata": {
        "id": "9kWprRqdxBVc"
      },
      "source": [
        ""
      ],
      "execution_count": null,
      "outputs": []
    },
    {
      "cell_type": "code",
      "metadata": {
        "id": "iq6oPDT5xCkI"
      },
      "source": [
        ""
      ],
      "execution_count": null,
      "outputs": []
    },
    {
      "cell_type": "code",
      "metadata": {
        "id": "is1H1aTRxCg8"
      },
      "source": [
        ""
      ],
      "execution_count": null,
      "outputs": []
    },
    {
      "cell_type": "code",
      "metadata": {
        "id": "jyh8tX_QxCd1"
      },
      "source": [
        ""
      ],
      "execution_count": null,
      "outputs": []
    },
    {
      "cell_type": "code",
      "metadata": {
        "id": "bXzPutj0xCX6"
      },
      "source": [
        ""
      ],
      "execution_count": null,
      "outputs": []
    },
    {
      "cell_type": "code",
      "metadata": {
        "id": "OaIgWZ7zxCSj"
      },
      "source": [
        ""
      ],
      "execution_count": null,
      "outputs": []
    },
    {
      "cell_type": "markdown",
      "metadata": {
        "id": "wgW2e3EPxDOx"
      },
      "source": [
        "# 6 kyu Matrix Addition\n",
        "https://www.codewars.com/kata/526233aefd4764272800036f/train/python\n",
        "\n",
        "\n",
        "Write a function that accepts two square matrices (N x N two dimensional arrays), and return the sum of the two. Both matrices being passed into the function will be of size N x N (square), containing only integers.\n",
        "\n",
        "How to sum two matrices:\n",
        "\n",
        "Take each cell [n][m] from the first matrix, and add it with the same [n][m] cell from the second matrix. This will be cell [n][m] of the solution matrix.\n",
        "\n",
        "Visualization:\n",
        "\n",
        "|1 2 3|     |2 2 1|     |1+2 2+2 3+1|     |3 4 4|\n",
        "|3 2 1|  +  |3 2 3|  =  |3+3 2+2 1+3|  =  |6 4 4|\n",
        "|1 1 1|     |1 1 3|     |1+1 1+1 1+3|     |2 2 4|\n",
        "Example\n",
        "\n",
        "\n",
        "\n",
        "\n",
        "Escriba una función que acepte dos matrices cuadradas (N x N matrices bidimensionales) y devuelva la suma de las dos. Ambas matrices que se pasan a la función serán de tamaño N x N (cuadrado) y solo contendrán números enteros.\n",
        "\n",
        "Cómo sumar dos matrices:\n",
        "\n",
        "Tome cada celda [n] [m] de la primera matriz y agréguela con la misma celda [n] [m] de la segunda matriz. Esta será la celda [n] [m] de la matriz de la solución."
      ]
    },
    {
      "cell_type": "code",
      "metadata": {
        "id": "0pFJPwWxxCM3"
      },
      "source": [
        "test.assert_equals(matrix_addition(\n",
        "  [ [1, 2, 3],\n",
        "    [3, 2, 1],\n",
        "    [1, 1, 1] ],\n",
        "#       +\n",
        "  [ [2, 2, 1],\n",
        "    [3, 2, 3],\n",
        "    [1, 1, 3] ] ),\n",
        "#       =\n",
        "  [ [3, 4, 4],\n",
        "    [6, 4, 4],\n",
        "    [2, 2, 4] ] )"
      ],
      "execution_count": null,
      "outputs": []
    },
    {
      "cell_type": "code",
      "metadata": {
        "id": "Oyx4Oen9xcra"
      },
      "source": [
        "def matrix_addition(a, b):\n",
        "    # your code here\n",
        "    return"
      ],
      "execution_count": null,
      "outputs": []
    },
    {
      "cell_type": "code",
      "metadata": {
        "id": "hSDWlSZXxd1V"
      },
      "source": [
        ""
      ],
      "execution_count": null,
      "outputs": []
    },
    {
      "cell_type": "code",
      "metadata": {
        "id": "l2-rDNDSxdyK"
      },
      "source": [
        "stuff = dict()\n"
      ],
      "execution_count": null,
      "outputs": []
    },
    {
      "cell_type": "code",
      "metadata": {
        "id": "IZzmsSaQxduU",
        "colab": {
          "base_uri": "https://localhost:8080/",
          "height": 163
        },
        "outputId": "4327e2e0-f24b-42af-d2a9-e937d83dfeaa"
      },
      "source": [
        "print(stuff['candy'])"
      ],
      "execution_count": null,
      "outputs": [
        {
          "output_type": "error",
          "ename": "KeyError",
          "evalue": "ignored",
          "traceback": [
            "\u001b[0;31m---------------------------------------------------------------------------\u001b[0m",
            "\u001b[0;31mKeyError\u001b[0m                                  Traceback (most recent call last)",
            "\u001b[0;32m<ipython-input-2-cf5b7139d16f>\u001b[0m in \u001b[0;36m<module>\u001b[0;34m()\u001b[0m\n\u001b[0;32m----> 1\u001b[0;31m \u001b[0mprint\u001b[0m\u001b[0;34m(\u001b[0m\u001b[0mstuff\u001b[0m\u001b[0;34m[\u001b[0m\u001b[0;34m'candy'\u001b[0m\u001b[0;34m]\u001b[0m\u001b[0;34m)\u001b[0m\u001b[0;34m\u001b[0m\u001b[0;34m\u001b[0m\u001b[0m\n\u001b[0m",
            "\u001b[0;31mKeyError\u001b[0m: 'candy'"
          ]
        }
      ]
    },
    {
      "cell_type": "code",
      "metadata": {
        "id": "fGW1lZw4xdq7",
        "colab": {
          "base_uri": "https://localhost:8080/"
        },
        "outputId": "2e1ad34b-3148-4bf2-8364-9d51d1de5830"
      },
      "source": [
        "print(stuff.get('candy',-1))"
      ],
      "execution_count": null,
      "outputs": [
        {
          "output_type": "stream",
          "text": [
            "-1\n"
          ],
          "name": "stdout"
        }
      ]
    },
    {
      "cell_type": "code",
      "metadata": {
        "id": "hp3obpZKxdna"
      },
      "source": [
        "dct = dict()\n",
        "lst = list()\n",
        "bigcount = None\n",
        "email_address = None\n",
        "\n",
        "for linea in handle:\n",
        "    linea = linea.strip()\n",
        "    if linea.startswith(\"From:\"):\n",
        "        words = linea.split()\n",
        "        mail = words[1]\n",
        "        lst.append(mail)\n",
        "\n",
        "for mail in lst:\n",
        "    dct[mail] = dct.get(mail,0)+1\n",
        "\n",
        "for key,value in dct.items():\n",
        "    if bigcount is None or value > bigcount:\n",
        "        bigcount = value\n",
        "        email_address = key\n",
        "\n",
        "print(email_address, bigcount)"
      ],
      "execution_count": null,
      "outputs": []
    },
    {
      "cell_type": "code",
      "metadata": {
        "id": "GASPk9sOxdkS"
      },
      "source": [
        ""
      ],
      "execution_count": null,
      "outputs": []
    },
    {
      "cell_type": "code",
      "metadata": {
        "id": "aKzp_uy4xdgm"
      },
      "source": [
        "# 10.2\n",
        "name = input(\"Ingresa un nombre de archivo:\")\n",
        "if len(name) < 1 : name = \"mbox-short.txt\"\n",
        "handle = open(name)\n",
        "counts = dict()\n",
        "for line in handle:\n",
        "    if line.startswith(\"From \"):\n",
        "        time = line.split()[5].split(\":\")\n",
        "        counts [time[0]] = counts.get(time[0], 0) + 1\n",
        "\n",
        "list = list()\n",
        "for key, value in counts.items():\n",
        "    list.append( (key,value) )\n",
        "list.sort()\n",
        "for hour, counts in list:\n",
        "    print(hour, counts)"
      ],
      "execution_count": null,
      "outputs": []
    },
    {
      "cell_type": "code",
      "metadata": {
        "id": "uh4JJJeFxddo"
      },
      "source": [
        ""
      ],
      "execution_count": null,
      "outputs": []
    },
    {
      "cell_type": "markdown",
      "metadata": {
        "id": "KrdRZgn5_sP3"
      },
      "source": [
        "https://www.codewars.com/kata/546e2562b03326a88e000020/train/python\n",
        "\n",
        "\n",
        "\n",
        "7 kyu\n",
        "Cuadre cada dígito\n",
        "Bienvenidos. En este kata, se le pide que eleve al cuadrado cada dígito de un número y concatenarlos.\n",
        "\n",
        "Por ejemplo, si ejecutamos 9119 a través de la función, saldrá 811181, porque 9 2 es 81 y 1 2 es 1.\n",
        "\n",
        "Nota: la función acepta un número entero y devuelve un número entero\n"
      ]
    },
    {
      "cell_type": "code",
      "metadata": {
        "id": "iDEla97ixdZj",
        "colab": {
          "base_uri": "https://localhost:8080/"
        },
        "outputId": "e924bed0-9628-4647-b018-d54279ba89e1"
      },
      "source": [
        "list(str(5465654))"
      ],
      "execution_count": null,
      "outputs": [
        {
          "output_type": "execute_result",
          "data": {
            "text/plain": [
              "['5', '4', '6', '5', '6', '5', '4']"
            ]
          },
          "metadata": {
            "tags": []
          },
          "execution_count": 3
        }
      ]
    },
    {
      "cell_type": "code",
      "metadata": {
        "id": "uW-mxCPE_9zf"
      },
      "source": [
        "import codewars_test as test\n",
        "from solution import square_digits\n",
        "\n",
        "@test.describe(\"Premade tests: \")\n",
        "def fixed_tests():\n",
        "    @test.it('Basic Test Cases')\n",
        "    def basic_test_cases():\n",
        "        test.assert_equals(square_digits(9119), 811181)\n",
        "        test.assert_equals(square_digits(0), 0)"
      ],
      "execution_count": null,
      "outputs": []
    },
    {
      "cell_type": "code",
      "metadata": {
        "id": "CImkWLO_xdV-"
      },
      "source": [
        "def square_digits(num):\n",
        "    pass"
      ],
      "execution_count": null,
      "outputs": []
    },
    {
      "cell_type": "code",
      "metadata": {
        "id": "zauJnNsSxdR-"
      },
      "source": [
        "def square_digits(num):\n",
        "    return int(''.join(list(map(lambda x: str(x), list(list(map(lambda x: int(x)**2, list(list(str(num))))))))))"
      ],
      "execution_count": null,
      "outputs": []
    },
    {
      "cell_type": "code",
      "metadata": {
        "id": "eoF2S9HR0PwW"
      },
      "source": [
        "def square_digits(num):\n",
        "    arr_string = list(str(num))\n",
        "    arr_enteros = list(map(lambda x: int(x), list(arr_string)))\n",
        "    arr_cuadrado_entero = list(map(lambda x: int(x)**2, list(arr_string)))\n",
        "    arr_cuadrado_entero_a_string = list(map(lambda x: str(x), list(arr_cuadrado_entero)))\n",
        "    return int(''.join(arr_cuadrado_entero_a_string))"
      ],
      "execution_count": null,
      "outputs": []
    },
    {
      "cell_type": "code",
      "metadata": {
        "id": "uK8jfhM2_XBm"
      },
      "source": [
        "# refactorizado\n",
        "def square_digits(num):\n",
        "    return int(''.join(list(map(lambda x: str(x), list(list(map(lambda x: int(x)**2, list(list(str(num))))))))))"
      ],
      "execution_count": null,
      "outputs": []
    },
    {
      "cell_type": "code",
      "metadata": {
        "colab": {
          "base_uri": "https://localhost:8080/"
        },
        "id": "TlAGJ5Ul0Pd2",
        "outputId": "52f5f212-5821-42b0-e7fa-402e65be75e0"
      },
      "source": [
        "square_digits(1355)"
      ],
      "execution_count": null,
      "outputs": [
        {
          "output_type": "execute_result",
          "data": {
            "text/plain": [
              "192525"
            ]
          },
          "metadata": {
            "tags": []
          },
          "execution_count": 92
        }
      ]
    },
    {
      "cell_type": "code",
      "metadata": {
        "id": "8-Klb_kq0PYl"
      },
      "source": [
        ""
      ],
      "execution_count": null,
      "outputs": []
    },
    {
      "cell_type": "code",
      "metadata": {
        "id": "tT-dSMXv9ktq"
      },
      "source": [
        ""
      ],
      "execution_count": null,
      "outputs": []
    },
    {
      "cell_type": "code",
      "metadata": {
        "id": "GPXtaCDF9kji"
      },
      "source": [
        "arr_string = list(str(56465)) # a una variable de tipo int lo convertimos a una lista de strings"
      ],
      "execution_count": null,
      "outputs": []
    },
    {
      "cell_type": "code",
      "metadata": {
        "colab": {
          "base_uri": "https://localhost:8080/"
        },
        "id": "GoeDUcb60Nh2",
        "outputId": "9eeccf41-ec8f-4ea1-9f86-85277d7a2fda"
      },
      "source": [
        "arr_string"
      ],
      "execution_count": null,
      "outputs": [
        {
          "output_type": "execute_result",
          "data": {
            "text/plain": [
              "['5', '6', '4', '6', '5']"
            ]
          },
          "metadata": {
            "tags": []
          },
          "execution_count": 72
        }
      ]
    },
    {
      "cell_type": "code",
      "metadata": {
        "id": "mRgOVEWJsa3d"
      },
      "source": [
        "'''\n",
        "pasando arr_string a una lista de enteros?? \n",
        "'''"
      ],
      "execution_count": null,
      "outputs": []
    },
    {
      "cell_type": "code",
      "metadata": {
        "id": "fP0lyfEJsazk"
      },
      "source": [
        "arr_enteros = list(map(lambda x: int(x), list(arr_string)))"
      ],
      "execution_count": null,
      "outputs": []
    },
    {
      "cell_type": "code",
      "metadata": {
        "colab": {
          "base_uri": "https://localhost:8080/"
        },
        "id": "g_zxMX7NsaxO",
        "outputId": "fde66359-81c9-4d0c-c29e-1df9e185d976"
      },
      "source": [
        "arr_enteros"
      ],
      "execution_count": null,
      "outputs": [
        {
          "output_type": "execute_result",
          "data": {
            "text/plain": [
              "[3, 4, 2, 7]"
            ]
          },
          "metadata": {
            "tags": []
          },
          "execution_count": 48
        }
      ]
    },
    {
      "cell_type": "code",
      "metadata": {
        "id": "IHXh5LemsauW"
      },
      "source": [
        "'''\n",
        "ahora como pasar a esa lista de enteros a su cuadrado?\n",
        "'''"
      ],
      "execution_count": null,
      "outputs": []
    },
    {
      "cell_type": "code",
      "metadata": {
        "id": "57His5eBsarG"
      },
      "source": [
        "arr_cuadrado_entero = list(map(lambda x: int(x)**2, list(arr_string)))"
      ],
      "execution_count": null,
      "outputs": []
    },
    {
      "cell_type": "code",
      "metadata": {
        "colab": {
          "base_uri": "https://localhost:8080/"
        },
        "id": "h0d_XlH7saol",
        "outputId": "6638625e-1a92-4c7e-92d9-687c54757cf4"
      },
      "source": [
        "arr_cuadrado_entero"
      ],
      "execution_count": null,
      "outputs": [
        {
          "output_type": "execute_result",
          "data": {
            "text/plain": [
              "[9, 16, 4, 49]"
            ]
          },
          "metadata": {
            "tags": []
          },
          "execution_count": 59
        }
      ]
    },
    {
      "cell_type": "code",
      "metadata": {
        "id": "gdsqcbdBsaiw"
      },
      "source": [
        "'''\n",
        "ahora como junto esos numeros??\n",
        "Si cada nro fuera un string, podemos usar el metodo join de str\n",
        "- primero transformamos cada elemento de la lista arr_cuadrado_entero en str y \n",
        "- seguidamente lo juntamos y lo convertimos a entero\n",
        "'''"
      ],
      "execution_count": null,
      "outputs": []
    },
    {
      "cell_type": "code",
      "metadata": {
        "id": "TrGsH4KYvU5-"
      },
      "source": [
        "# transformamos cada elemento de la lista arr_cuadrado_entero en str\n",
        "arr_cuadrado_entero_a_string = list(map(lambda x: str(x), list(arr_cuadrado_entero)))"
      ],
      "execution_count": null,
      "outputs": []
    },
    {
      "cell_type": "code",
      "metadata": {
        "colab": {
          "base_uri": "https://localhost:8080/"
        },
        "id": "GaKElwXMzDgZ",
        "outputId": "16533f82-d929-461d-8f1a-4d685b34cd81"
      },
      "source": [
        "arr_cuadrado_entero_a_string"
      ],
      "execution_count": null,
      "outputs": [
        {
          "output_type": "execute_result",
          "data": {
            "text/plain": [
              "['9', '16', '4', '49']"
            ]
          },
          "metadata": {
            "tags": []
          },
          "execution_count": 61
        }
      ]
    },
    {
      "cell_type": "code",
      "metadata": {
        "id": "Oq6DIusRvU0A"
      },
      "source": [
        "# juntamos y lo convertimos a entero a arr_cuadrado_entero_a_string"
      ],
      "execution_count": null,
      "outputs": []
    },
    {
      "cell_type": "code",
      "metadata": {
        "id": "vJQDPILAvUxK"
      },
      "source": [
        "solucion = int(''.join(arr_cuadrado_entero_a_string))"
      ],
      "execution_count": null,
      "outputs": []
    },
    {
      "cell_type": "code",
      "metadata": {
        "colab": {
          "base_uri": "https://localhost:8080/"
        },
        "id": "zLFo1HXtvUuW",
        "outputId": "448e2dfa-c538-4ff5-f4be-128064b826c3"
      },
      "source": [
        "solucion"
      ],
      "execution_count": null,
      "outputs": [
        {
          "output_type": "execute_result",
          "data": {
            "text/plain": [
              "916449"
            ]
          },
          "metadata": {
            "tags": []
          },
          "execution_count": 63
        }
      ]
    },
    {
      "cell_type": "code",
      "metadata": {
        "id": "q2HTqsUKvUrb"
      },
      "source": [
        ""
      ],
      "execution_count": null,
      "outputs": []
    },
    {
      "cell_type": "code",
      "metadata": {
        "id": "-j30zWHW67Qs"
      },
      "source": [
        ""
      ],
      "execution_count": null,
      "outputs": []
    },
    {
      "cell_type": "code",
      "metadata": {
        "id": "_02YGgrE67FW"
      },
      "source": [
        ""
      ],
      "execution_count": null,
      "outputs": []
    },
    {
      "cell_type": "code",
      "metadata": {
        "id": "QwqoCtEQ663L"
      },
      "source": [
        ""
      ],
      "execution_count": null,
      "outputs": []
    },
    {
      "cell_type": "markdown",
      "metadata": {
        "id": "PV-qPByf89up"
      },
      "source": [
        "Create a function, as short as possible, that returns this lyrics.\n",
        "Your code should be less than 300 characters. Watch out for the three points at the end of the song.\n",
        "\n",
        "\n",
        "Cree una función, lo más corta posible, que devuelva esta letra.\n",
        "Su código debe tener menos de 300 caracteres. Cuidado con los tres puntos al final de la canción.\n",
        "\n",
        "\n",
        "Baby shark, doo doo doo doo doo doo\n",
        "\n",
        "Baby shark, doo doo doo doo doo doo\n",
        "\n",
        "Baby shark, doo doo doo doo doo doo\n",
        "\n",
        "Baby shark!\n",
        "\n",
        "Mommy shark, doo doo doo doo doo doo\n",
        "\n",
        "Mommy shark, doo doo doo doo doo doo\n",
        "\n",
        "Mommy shark, doo doo doo doo doo doo\n",
        "\n",
        "Mommy shark!\n",
        "\n",
        "Daddy shark, doo doo doo doo doo doo\n",
        "\n",
        "Daddy shark, doo doo doo doo doo doo\n",
        "\n",
        "Daddy shark, doo doo doo doo doo doo\n",
        "\n",
        "Daddy shark!\n",
        "\n",
        "Grandma shark, doo doo doo doo doo doo\n",
        "\n",
        "Grandma shark, doo doo doo doo doo doo\n",
        "\n",
        "Grandma shark, doo doo doo doo doo doo\n",
        "\n",
        "Grandma shark!\n",
        "\n",
        "Grandpa shark, doo doo doo doo doo doo\n",
        "\n",
        "Grandpa shark, doo doo doo doo doo doo\n",
        "\n",
        "Grandpa shark, doo doo doo doo doo doo\n",
        "\n",
        "Grandpa shark!\n",
        "\n",
        "Let's go hunt, doo doo doo doo doo doo\n",
        "\n",
        "Let's go hunt, doo doo doo doo doo doo\n",
        "\n",
        "Let's go hunt, doo doo doo doo doo doo\n",
        "\n",
        "Let's go hunt!\n",
        "\n",
        "Run away,…\n",
        "\n",
        "https://www.codewars.com/kata/5d076515e102162ac0dc514e/python\n"
      ]
    },
    {
      "cell_type": "code",
      "metadata": {
        "id": "MUxFL5N189bS"
      },
      "source": [
        ""
      ],
      "execution_count": null,
      "outputs": []
    },
    {
      "cell_type": "code",
      "metadata": {
        "id": "zlzd2nxU_0Ar"
      },
      "source": [
        "arr1 = ['Run away', ',', '!', '.', 'shark', 'hunt', 'Baby', 'Mommy', 'Daddy', 'Grandma', 'Grandpa', \"Let's go hunt\", ('doo '*6).strip(), ]"
      ],
      "execution_count": null,
      "outputs": []
    },
    {
      "cell_type": "code",
      "metadata": {
        "colab": {
          "base_uri": "https://localhost:8080/"
        },
        "id": "9BEVMPXE_0de",
        "outputId": "658e0945-a0ed-4a11-ad31-531874d65e1d"
      },
      "source": [
        "arr1"
      ],
      "execution_count": null,
      "outputs": [
        {
          "output_type": "execute_result",
          "data": {
            "text/plain": [
              "[',',\n",
              " '!',\n",
              " '.',\n",
              " 'shark',\n",
              " 'hunt',\n",
              " 'Baby',\n",
              " 'Mommy',\n",
              " 'Daddy',\n",
              " 'Grandma',\n",
              " 'Grandpa',\n",
              " \"Let's go hunt\",\n",
              " 'doo doo doo doo doo doo']"
            ]
          },
          "metadata": {
            "tags": []
          },
          "execution_count": 14
        }
      ]
    },
    {
      "cell_type": "code",
      "metadata": {
        "colab": {
          "base_uri": "https://localhost:8080/",
          "height": 35
        },
        "id": "e39uvAdA_0ar",
        "outputId": "d5e8d1f3-6772-4ee3-ff93-1aaf2e663028"
      },
      "source": [
        "'doo '*6"
      ],
      "execution_count": null,
      "outputs": [
        {
          "output_type": "execute_result",
          "data": {
            "application/vnd.google.colaboratory.intrinsic+json": {
              "type": "string"
            },
            "text/plain": [
              "'doo doo doo doo doo doo '"
            ]
          },
          "metadata": {
            "tags": []
          },
          "execution_count": 9
        }
      ]
    },
    {
      "cell_type": "code",
      "metadata": {
        "id": "dukeEXkS_0YF"
      },
      "source": [
        "arr1 = ['shark ', 'doo '*6, 'Baby ', 'Mommy', 'Daddy', 'Grandma ', 'Grandpa', \"Let's go hunt\", \"Run awway...\"] # van 111"
      ],
      "execution_count": null,
      "outputs": []
    },
    {
      "cell_type": "code",
      "metadata": {
        "colab": {
          "base_uri": "https://localhost:8080/",
          "height": 163
        },
        "id": "w-fq41mb_0Uy",
        "outputId": "e35c8cff-13ee-44b0-e6b3-7dd61b5f727f"
      },
      "source": [
        "for i in range(3): print(arr1[2]+arr1[0]+',', +arr1[1]+',') # Baby shark, doo doo doo doo doo doo"
      ],
      "execution_count": null,
      "outputs": [
        {
          "output_type": "error",
          "ename": "TypeError",
          "evalue": "ignored",
          "traceback": [
            "\u001b[0;31m---------------------------------------------------------------------------\u001b[0m",
            "\u001b[0;31mTypeError\u001b[0m                                 Traceback (most recent call last)",
            "\u001b[0;32m<ipython-input-10-e2398274905e>\u001b[0m in \u001b[0;36m<module>\u001b[0;34m()\u001b[0m\n\u001b[0;32m----> 1\u001b[0;31m \u001b[0;32mfor\u001b[0m \u001b[0mi\u001b[0m \u001b[0;32min\u001b[0m \u001b[0mrange\u001b[0m\u001b[0;34m(\u001b[0m\u001b[0;36m3\u001b[0m\u001b[0;34m)\u001b[0m\u001b[0;34m:\u001b[0m \u001b[0mprint\u001b[0m\u001b[0;34m(\u001b[0m\u001b[0marr1\u001b[0m\u001b[0;34m[\u001b[0m\u001b[0;36m2\u001b[0m\u001b[0;34m]\u001b[0m\u001b[0;34m+\u001b[0m\u001b[0marr1\u001b[0m\u001b[0;34m[\u001b[0m\u001b[0;36m0\u001b[0m\u001b[0;34m]\u001b[0m\u001b[0;34m+\u001b[0m\u001b[0;34m','\u001b[0m\u001b[0;34m,\u001b[0m \u001b[0;34m+\u001b[0m\u001b[0marr1\u001b[0m\u001b[0;34m[\u001b[0m\u001b[0;36m1\u001b[0m\u001b[0;34m]\u001b[0m\u001b[0;34m+\u001b[0m\u001b[0;34m','\u001b[0m\u001b[0;34m)\u001b[0m \u001b[0;31m# Baby shark, doo doo doo doo doo doo\u001b[0m\u001b[0;34m\u001b[0m\u001b[0;34m\u001b[0m\u001b[0m\n\u001b[0m",
            "\u001b[0;31mTypeError\u001b[0m: bad operand type for unary +: 'str'"
          ]
        }
      ]
    },
    {
      "cell_type": "code",
      "metadata": {
        "colab": {
          "base_uri": "https://localhost:8080/",
          "height": 35
        },
        "id": "c76EVsrG_0Ro",
        "outputId": "e66c43c3-d00d-47dd-f3b0-d95456a1f00b"
      },
      "source": [
        "arr1[0]"
      ],
      "execution_count": null,
      "outputs": [
        {
          "output_type": "execute_result",
          "data": {
            "application/vnd.google.colaboratory.intrinsic+json": {
              "type": "string"
            },
            "text/plain": [
              "'shark '"
            ]
          },
          "metadata": {
            "tags": []
          },
          "execution_count": 3
        }
      ]
    },
    {
      "cell_type": "code",
      "metadata": {
        "id": "qDKC-HXz_0Or"
      },
      "source": [
        ""
      ],
      "execution_count": null,
      "outputs": []
    },
    {
      "cell_type": "code",
      "metadata": {
        "id": "0BAnxGb3_0Gl"
      },
      "source": [
        ""
      ],
      "execution_count": null,
      "outputs": []
    },
    {
      "cell_type": "code",
      "metadata": {
        "colab": {
          "base_uri": "https://localhost:8080/",
          "height": 131
        },
        "id": "1LUV4JSZC3MV",
        "outputId": "6af293fa-33bd-487d-ca35-145a82c2ea71"
      },
      "source": [
        "'''\n",
        "Dos luchadores, un ganador.\n",
        "76716188% de 2,4023,086 de 14,726\n",
        "Pitón\n",
        "TRAINEXT KATA\n",
        "Detalles\n",
        "Soluciones\n",
        "Horquillas (8)\n",
        "Discurso (181)\n",
        "Recoger |\n",
        "Ocultar descripción de Kata\n",
        "Descripción:\n",
        "Crea una función que devuelva el nombre del ganador en una pelea entre dos luchadores.\n",
        "\n",
        "Cada luchador se turna para atacar al otro y el que mata al otro primero sale victorioso. La muerte se define como tener salud <= 0.\n",
        "\n",
        "Cada luchador será un objeto / instancia de luchador. Vea la clase Fighter a continuación en el idioma que elija.\n",
        "\n",
        "Tanto salud como damagePerAttack (damage_per_attack para python) serán números enteros mayores que 0. Puedes mutar los objetos Fighter.\n",
        "\n",
        "\n",
        "\n",
        "\n",
        "Two fighters, one winner.\n",
        "76716188% of 2,4023,086 of 14,726Scopula\n",
        "Python\n",
        "TRAINNEXT KATA\n",
        "Details\n",
        "Solutions\n",
        "Forks (8)\n",
        "Discourse (181)\n",
        "Collect|\n",
        "Hide Kata Description\n",
        "Description:\n",
        "Create a function that returns the name of the winner in a fight between two fighters.\n",
        "\n",
        "Each fighter takes turns attacking the other and whoever kills the other first is victorious. Death is defined as having health <= 0.\n",
        "\n",
        "Each fighter will be a Fighter object/instance. See the Fighter class below in your chosen language.\n",
        "\n",
        "Both health and damagePerAttack (damage_per_attack for python) will be integers larger than 0. You can mutate the Fighter objects.\n",
        "\n",
        "Example:\n",
        "class Fighter(object):\n",
        "    def __init__(self, name, health, damage_per_attack):\n",
        "        self.name = name\n",
        "        self.health = health\n",
        "        self.damage_per_attack = damage_per_attack\n",
        "        \n",
        "    def __str__(self): return \"Fighter({}, {}, {})\".format(self.name, self.health, self.damage_per_attack)\n",
        "    __repr__=__str__\n",
        "FUNDAMENTALSGAMESALGORITHMSCLASSESBASIC LANGUAGE FEATURESOBJECT-ORIENTED PROGRAMMING\n",
        "'''"
      ],
      "execution_count": null,
      "outputs": [
        {
          "output_type": "error",
          "ename": "SyntaxError",
          "evalue": "ignored",
          "traceback": [
            "\u001b[0;36m  File \u001b[0;32m\"<ipython-input-94-47ce995ab49a>\"\u001b[0;36m, line \u001b[0;32m2\u001b[0m\n\u001b[0;31m    Two fighters, one winner.\u001b[0m\n\u001b[0m               ^\u001b[0m\n\u001b[0;31mSyntaxError\u001b[0m\u001b[0;31m:\u001b[0m invalid syntax\n"
          ]
        }
      ]
    },
    {
      "cell_type": "code",
      "metadata": {
        "id": "Sx07_yx1C3-x"
      },
      "source": [
        ""
      ],
      "execution_count": null,
      "outputs": []
    },
    {
      "cell_type": "code",
      "metadata": {
        "id": "1FMWXom6Ftfk"
      },
      "source": [
        ""
      ],
      "execution_count": null,
      "outputs": []
    },
    {
      "cell_type": "code",
      "metadata": {
        "id": "oU9JjAXkFtYf"
      },
      "source": [
        ""
      ],
      "execution_count": null,
      "outputs": []
    },
    {
      "cell_type": "markdown",
      "metadata": {
        "id": "f_Wb7dzjFvl9"
      },
      "source": [
        "https://www.codewars.com/kata/5bc5c064eba26ef6ed000158/train/python\n",
        "\n",
        "Silent Import\n",
        "As part of your spy training, You were taught to be as stealthy as possible while carrying out missions. This time, you have to silently import modules from a without getting caught. Most of your peers are skeptical if you will be able to do this. But, you are the G.O.A.T and you always have a plan.\n",
        "\n",
        "Your Task\n",
        "Write a function silent_thief that will import any module passed in to it and return it.\n",
        "\n",
        "Your code must NOT:\n",
        "\n",
        "Contain the word import\n",
        "Contain any double underscores: __\n",
        "Use either eval or exec.\n",
        "Extra info\n",
        "This is kata 2 of my awesome spy series.\n",
        "\n",
        "Please take time to give feedback on this kata.\n",
        "\n",
        "\n",
        "\n",
        "Importación silenciosa\n",
        "Como parte de tu entrenamiento como espía, te enseñaron a ser lo más sigiloso posible mientras realizas misiones. Esta vez, debe importar módulos de forma silenciosa sin que lo atrapen. La mayoría de sus compañeros se muestran escépticos si podrá hacer esto. Pero eres el G.O.A.T y siempre tienes un plan.\n",
        "\n",
        "Tu tarea\n",
        "Escriba una función silent_thief que importe cualquier módulo que se le pase y lo devuelva.\n",
        "\n",
        "Su código NO debe:\n",
        "\n",
        "Contener la palabra importación\n",
        "Contener cualquier subrayado doble: __\n",
        "Utilice eval o exec.\n",
        "Información extra\n",
        "Este es el kata 2 de mi increíble serie de espías.\n",
        "\n",
        "Tómese el tiempo para dar su opinión sobre este kata.\n",
        "\n",
        "def silent_thief(module_name):\n",
        "    # import module \n",
        "    return module\n",
        "\n"
      ]
    },
    {
      "cell_type": "code",
      "metadata": {
        "id": "dAK4F2KmGOLF"
      },
      "source": [
        "@test.describe(\"Functionality\")\n",
        "def test():\n",
        "    math = silent_thief(\"math\")\n",
        "    import math as also_math\n",
        "    test.assert_equals(math, also_math,\"Your Have not imported math\")"
      ],
      "execution_count": null,
      "outputs": []
    },
    {
      "cell_type": "code",
      "metadata": {
        "id": "3HJu6eiXFuzt"
      },
      "source": [
        "def silent_thief(module_name):\n",
        "    # import module \n",
        "    return module"
      ],
      "execution_count": null,
      "outputs": []
    },
    {
      "cell_type": "code",
      "metadata": {
        "id": "N3rbqzbEFtP-"
      },
      "source": [
        ""
      ],
      "execution_count": null,
      "outputs": []
    },
    {
      "cell_type": "code",
      "metadata": {
        "id": "lLmdcyjfFtI-"
      },
      "source": [
        ""
      ],
      "execution_count": null,
      "outputs": []
    },
    {
      "cell_type": "code",
      "metadata": {
        "id": "GTaCkDGAR5J7"
      },
      "source": [
        ""
      ],
      "execution_count": null,
      "outputs": []
    },
    {
      "cell_type": "markdown",
      "metadata": {
        "id": "AldWwgzwR5gZ"
      },
      "source": [
        "https://www.codewars.com/kata/521c2db8ddc89b9b7a0000c1/train/python\n",
        "\n",
        "Snail Sort\n",
        "\n",
        "Given an n x n array, return the array elements arranged from outermost elements to the middle element, traveling clockwise.\n",
        "\n",
        "array = [[1,2,3],\n",
        "         [4,5,6],\n",
        "         [7,8,9]]\n",
        "snail(array) #=> [1,2,3,6,9,8,7,4,5]\n",
        "For better understanding, please follow the numbers of the next array consecutively:\n",
        "\n",
        "array = [[1,2,3],\n",
        "         [8,9,4],\n",
        "         [7,6,5]]\n",
        "snail(array) #=> [1,2,3,4,5,6,7,8,9]\n",
        "This image will illustrate things more clearly:\n",
        "\n",
        "\n",
        "\n",
        "\n",
        "def snail(snail_map):\n",
        "    pass\n",
        "\n",
        "\n",
        "\n",
        "\n",
        "Sample Tests:\n",
        "​\n",
        "array = [[1,2,3],\n",
        "         [4,5,6],\n",
        "         [7,8,9]]\n",
        "expected = [1,2,3,6,9,8,7,4,5]\n",
        "test.assert_equals(snail(array), expected)\n",
        "array = [[1,2,3],\n",
        "         [8,9,4],\n",
        "         [7,6,5]]\n",
        "\n",
        "expected = [1,2,3,4,5,6,7,8,9]\n",
        "\n",
        "test.assert_equals(snail(array), expected)\n",
        "\n",
        "​\n",
        "\n",
        "\n",
        "\n",
        "\n",
        "\n",
        "\n",
        "Tipo de caracol\n",
        "Dada una matriz n x n, devuelva los elementos de la matriz dispuestos desde los elementos más externos al elemento central, viajando en el sentido de las agujas del reloj.\n",
        "\n",
        "matriz = [[1,2,3],\n",
        "         [4,5,6],\n",
        "         [7,8,9]]\n",
        "\n",
        "caracol (matriz) # => [1,2,3,6,9,8,7,4,5]\n",
        "\n",
        "Para una mejor comprensión, siga los números de la siguiente matriz consecutivamente:\n",
        "\n",
        "matriz = [[1,2,3],\n",
        "         [8,9,4],\n",
        "         [7,6,5]]\n",
        "\n",
        "caracol (matriz) # => [1,2,3,4,5,6,7,8,9]\n",
        "\n",
        "NOTA: La idea no es ordenar los elementos del valor más bajo al más alto; la idea es atravesar la matriz bidimensional en un patrón de concha de caracol en el sentido de las agujas del reloj.\n",
        "\n",
        "NOTA 2: El 0x0 (matriz vacía) se representa como una matriz vacía dentro de una matriz [[]].\n",
        "\n"
      ]
    },
    {
      "cell_type": "code",
      "metadata": {
        "id": "MoN9TDStTDsT"
      },
      "source": [
        ""
      ],
      "execution_count": null,
      "outputs": []
    },
    {
      "cell_type": "code",
      "metadata": {
        "id": "XQQ1nNLuTDpx"
      },
      "source": [
        "def snail(snail_map):\n",
        "    pass"
      ],
      "execution_count": null,
      "outputs": []
    },
    {
      "cell_type": "code",
      "metadata": {
        "id": "NWM3hlssTDl8"
      },
      "source": [
        ""
      ],
      "execution_count": null,
      "outputs": []
    },
    {
      "cell_type": "code",
      "metadata": {
        "id": "4Te8cQmHTDjH"
      },
      "source": [
        "matriz = [[1,2,3], [8,9,4], [7,6,5]]    # # => [1,2,3,4,5,6,7,8,9]"
      ],
      "execution_count": null,
      "outputs": []
    },
    {
      "cell_type": "code",
      "metadata": {
        "colab": {
          "base_uri": "https://localhost:8080/"
        },
        "id": "enKIhDZETDZC",
        "outputId": "336e6362-fc10-41cc-cefb-cd2a5e0fca6f"
      },
      "source": [
        "len(matriz)"
      ],
      "execution_count": null,
      "outputs": [
        {
          "output_type": "execute_result",
          "data": {
            "text/plain": [
              "3"
            ]
          },
          "metadata": {
            "tags": []
          },
          "execution_count": 96
        }
      ]
    },
    {
      "cell_type": "code",
      "metadata": {
        "colab": {
          "base_uri": "https://localhost:8080/"
        },
        "id": "-g93J2ZCdzn8",
        "outputId": "39665f24-0654-4f9e-ff05-c03a6bf55864"
      },
      "source": [
        "for i in matriz: print(i)"
      ],
      "execution_count": null,
      "outputs": [
        {
          "output_type": "stream",
          "text": [
            "[1, 2, 3]\n",
            "[8, 9, 4]\n",
            "[7, 6, 5]\n"
          ],
          "name": "stdout"
        }
      ]
    },
    {
      "cell_type": "code",
      "metadata": {
        "colab": {
          "base_uri": "https://localhost:8080/"
        },
        "id": "8rkJOrD5eByj",
        "outputId": "d10d7400-cdc5-4a9c-fc21-5225666557f5"
      },
      "source": [
        "a = []\n",
        "for row in matriz:\n",
        "    for col in row:\n",
        "        a.append(col)\n",
        "print(a)"
      ],
      "execution_count": null,
      "outputs": [
        {
          "output_type": "stream",
          "text": [
            "[1, 2, 3, 8, 9, 4, 7, 6, 5]\n"
          ],
          "name": "stdout"
        }
      ]
    },
    {
      "cell_type": "code",
      "metadata": {
        "colab": {
          "base_uri": "https://localhost:8080/"
        },
        "id": "mQ2hlD1JPud2",
        "outputId": "59b22469-5eee-4299-b43c-baa71e544cd6"
      },
      "source": [
        "matriz"
      ],
      "execution_count": null,
      "outputs": [
        {
          "output_type": "execute_result",
          "data": {
            "text/plain": [
              "[[1, 2, 3], [8, 9, 4], [7, 6, 5]]"
            ]
          },
          "metadata": {
            "tags": []
          },
          "execution_count": 4
        }
      ]
    },
    {
      "cell_type": "code",
      "metadata": {
        "colab": {
          "base_uri": "https://localhost:8080/"
        },
        "id": "3ia_0tJ-yzV-",
        "outputId": "bc75cf87-2c10-4212-bb05-e54fd7e6e383"
      },
      "source": [
        "[col for row in matriz[::-1] for col in row]"
      ],
      "execution_count": null,
      "outputs": [
        {
          "output_type": "execute_result",
          "data": {
            "text/plain": [
              "[7, 6, 5, 8, 9, 4, 1, 2, 3]"
            ]
          },
          "metadata": {
            "tags": []
          },
          "execution_count": 10
        }
      ]
    },
    {
      "cell_type": "code",
      "metadata": {
        "id": "V6rhyC9aQElq"
      },
      "source": [
        "[for row in matriz[::-1]: row]"
      ],
      "execution_count": null,
      "outputs": []
    },
    {
      "cell_type": "code",
      "metadata": {
        "colab": {
          "base_uri": "https://localhost:8080/"
        },
        "id": "E-cYjzQQQesv",
        "outputId": "0b353087-cfa2-49a3-fc01-6a405a82d189"
      },
      "source": [
        "matriz[::]"
      ],
      "execution_count": null,
      "outputs": [
        {
          "output_type": "execute_result",
          "data": {
            "text/plain": [
              "[[1, 2, 3], [8, 9, 4], [7, 6, 5]]"
            ]
          },
          "metadata": {
            "tags": []
          },
          "execution_count": 19
        }
      ]
    },
    {
      "cell_type": "code",
      "metadata": {
        "colab": {
          "base_uri": "https://localhost:8080/"
        },
        "id": "lIK32BdTQo5a",
        "outputId": "98c3e95c-4dc0-4269-f7ab-6ee1c2b47cb1"
      },
      "source": [
        "matriz[::2]"
      ],
      "execution_count": null,
      "outputs": [
        {
          "output_type": "execute_result",
          "data": {
            "text/plain": [
              "[[1, 2, 3], [7, 6, 5]]"
            ]
          },
          "metadata": {
            "tags": []
          },
          "execution_count": 20
        }
      ]
    },
    {
      "cell_type": "code",
      "metadata": {
        "colab": {
          "base_uri": "https://localhost:8080/"
        },
        "id": "4YHFvtw8Qo1i",
        "outputId": "d3d68109-140a-437c-b3df-890913725408"
      },
      "source": [
        "matriz[::-1]"
      ],
      "execution_count": null,
      "outputs": [
        {
          "output_type": "execute_result",
          "data": {
            "text/plain": [
              "[[7, 6, 5], [8, 9, 4], [1, 2, 3]]"
            ]
          },
          "metadata": {
            "tags": []
          },
          "execution_count": 21
        }
      ]
    },
    {
      "cell_type": "code",
      "metadata": {
        "id": "XcGoPJflQowh"
      },
      "source": [
        "resultado = []\n",
        "for i in range(len(matriz)):\n",
        "    for col in range(len(matriz[i])):\n",
        "        resultado.append(matriz[col][i])"
      ],
      "execution_count": null,
      "outputs": []
    },
    {
      "cell_type": "code",
      "metadata": {
        "colab": {
          "base_uri": "https://localhost:8080/"
        },
        "id": "vwJlp-CNQosV",
        "outputId": "2f4ffd9c-dfa1-4da7-edaf-bbc687bd8e6b"
      },
      "source": [
        "resultado"
      ],
      "execution_count": null,
      "outputs": [
        {
          "output_type": "execute_result",
          "data": {
            "text/plain": [
              "[1, 2, 3, 8, 9, 4, 7, 6, 5]"
            ]
          },
          "metadata": {
            "tags": []
          },
          "execution_count": 25
        }
      ]
    },
    {
      "cell_type": "code",
      "metadata": {
        "colab": {
          "base_uri": "https://localhost:8080/"
        },
        "id": "N0PzAstBQobI",
        "outputId": "2aa97568-8eab-40e7-d464-b23f2716b7e0"
      },
      "source": [
        "resultado"
      ],
      "execution_count": null,
      "outputs": [
        {
          "output_type": "execute_result",
          "data": {
            "text/plain": [
              "[1, 8, 7, 2, 9, 6, 3, 4, 5]"
            ]
          },
          "metadata": {
            "tags": []
          },
          "execution_count": 27
        }
      ]
    },
    {
      "cell_type": "code",
      "metadata": {
        "colab": {
          "base_uri": "https://localhost:8080/"
        },
        "id": "qrhyGt1nSjdM",
        "outputId": "17afe2aa-e4d4-478f-e57b-00321229b4cd"
      },
      "source": [
        "resultado"
      ],
      "execution_count": null,
      "outputs": [
        {
          "output_type": "execute_result",
          "data": {
            "text/plain": [
              "[1, 8, 7, 2, 9, 6, 3, 4, 5]"
            ]
          },
          "metadata": {
            "tags": []
          },
          "execution_count": 36
        }
      ]
    },
    {
      "cell_type": "code",
      "metadata": {
        "colab": {
          "base_uri": "https://localhost:8080/"
        },
        "id": "ZffkefEW2L_v",
        "outputId": "a4b9f892-2704-4fb6-a597-41a32ec93f40"
      },
      "source": [
        "[col for row in matriz[::]]"
      ],
      "execution_count": null,
      "outputs": [
        {
          "output_type": "execute_result",
          "data": {
            "text/plain": [
              "[5, 5, 5]"
            ]
          },
          "metadata": {
            "tags": []
          },
          "execution_count": 123
        }
      ]
    },
    {
      "cell_type": "code",
      "metadata": {
        "id": "2l1n3Kgc4kJ0",
        "colab": {
          "base_uri": "https://localhost:8080/"
        },
        "outputId": "f52fbbba-479d-4857-e6e1-8515ad1e8b00"
      },
      "source": [
        "[col for row in matriz[::-1] for col in row]"
      ],
      "execution_count": null,
      "outputs": [
        {
          "output_type": "execute_result",
          "data": {
            "text/plain": [
              "[7, 6, 5, 8, 9, 4, 1, 2, 3]"
            ]
          },
          "metadata": {
            "tags": []
          },
          "execution_count": 43
        }
      ]
    },
    {
      "cell_type": "code",
      "metadata": {
        "colab": {
          "base_uri": "https://localhost:8080/"
        },
        "id": "PE-B_XjTTIJx",
        "outputId": "7fc626fe-9fa3-4812-bf04-33130d3b680a"
      },
      "source": [
        "matriz"
      ],
      "execution_count": null,
      "outputs": [
        {
          "output_type": "execute_result",
          "data": {
            "text/plain": [
              "[[1, 2, 3], [8, 9, 4], [7, 6, 5]]"
            ]
          },
          "metadata": {
            "tags": []
          },
          "execution_count": 44
        }
      ]
    },
    {
      "cell_type": "code",
      "metadata": {
        "colab": {
          "base_uri": "https://localhost:8080/",
          "height": 167
        },
        "id": "dobJoyoLTcBX",
        "outputId": "5470b93d-2a88-408b-a3a0-8737dd595724"
      },
      "source": [
        "[col2 for row2 in col for row in matriz[::-1] for col in row for col2 in row2]"
      ],
      "execution_count": null,
      "outputs": [
        {
          "output_type": "error",
          "ename": "TypeError",
          "evalue": "ignored",
          "traceback": [
            "\u001b[0;31m---------------------------------------------------------------------------\u001b[0m",
            "\u001b[0;31mTypeError\u001b[0m                                 Traceback (most recent call last)",
            "\u001b[0;32m<ipython-input-45-7157adb21552>\u001b[0m in \u001b[0;36m<module>\u001b[0;34m()\u001b[0m\n\u001b[0;32m----> 1\u001b[0;31m \u001b[0;34m[\u001b[0m\u001b[0mcol2\u001b[0m \u001b[0;32mfor\u001b[0m \u001b[0mrow2\u001b[0m \u001b[0;32min\u001b[0m \u001b[0mcol\u001b[0m \u001b[0;32mfor\u001b[0m \u001b[0mrow\u001b[0m \u001b[0;32min\u001b[0m \u001b[0mmatriz\u001b[0m\u001b[0;34m[\u001b[0m\u001b[0;34m:\u001b[0m\u001b[0;34m:\u001b[0m\u001b[0;34m-\u001b[0m\u001b[0;36m1\u001b[0m\u001b[0;34m]\u001b[0m \u001b[0;32mfor\u001b[0m \u001b[0mcol\u001b[0m \u001b[0;32min\u001b[0m \u001b[0mrow\u001b[0m \u001b[0;32mfor\u001b[0m \u001b[0mcol2\u001b[0m \u001b[0;32min\u001b[0m \u001b[0mrow2\u001b[0m\u001b[0;34m]\u001b[0m\u001b[0;34m\u001b[0m\u001b[0;34m\u001b[0m\u001b[0m\n\u001b[0m",
            "\u001b[0;31mTypeError\u001b[0m: 'int' object is not iterable"
          ]
        }
      ]
    },
    {
      "cell_type": "markdown",
      "metadata": {
        "id": "pECh7y4dIXEE"
      },
      "source": [
        "https://www.codewars.com/kata/5208f99aee097e6552000148/train/python\n",
        "\n",
        "6 kyu\n",
        "Break camelCase\n",
        "39513288% of 2,7796,169 of 26,655hakt\n",
        "\n",
        "    Python\n",
        "    3.8\n",
        "\n",
        "        VIM\n",
        "        EMACS\n",
        "\n",
        "    Instructions\n",
        "    Output\n",
        "\n",
        "    Complete the solution so that the function will break up camel casing, using a space between words.\n",
        "\n",
        "\n",
        "\n",
        "Complete la solución para que la función separe la carcasa del camello, utilizando un espacio entre las palabras.\n",
        "\n",
        "\n"
      ]
    },
    {
      "cell_type": "code",
      "metadata": {
        "id": "I7ElsyscInZw"
      },
      "source": [
        "test.assert_equals(solution(\"helloWorld\"), \"hello World\")\n",
        "test.assert_equals(solution(\"camelCase\"), \"camel Case\")\n",
        "test.assert_equals(solution(\"breakCamelCase\"), \"break Camel Case\")"
      ],
      "execution_count": null,
      "outputs": []
    },
    {
      "cell_type": "code",
      "metadata": {
        "id": "9_Sgjj3wT5Ct"
      },
      "source": [
        "def solution(s):\n",
        "    pass\n",
        "    "
      ],
      "execution_count": null,
      "outputs": []
    },
    {
      "cell_type": "code",
      "metadata": {
        "id": "zewDes3pIaXZ"
      },
      "source": [
        "def solution(s):\n",
        "    pass"
      ],
      "execution_count": null,
      "outputs": []
    },
    {
      "cell_type": "code",
      "metadata": {
        "id": "WoIGrwXN-GTh"
      },
      "source": [
        ""
      ],
      "execution_count": null,
      "outputs": []
    },
    {
      "cell_type": "code",
      "metadata": {
        "id": "hVy8NJd3-GQc"
      },
      "source": [
        ""
      ],
      "execution_count": null,
      "outputs": []
    },
    {
      "cell_type": "code",
      "metadata": {
        "id": "rc5eF1RV-GNd"
      },
      "source": [
        ""
      ],
      "execution_count": null,
      "outputs": []
    },
    {
      "cell_type": "code",
      "metadata": {
        "id": "1vBW5go6-GKU"
      },
      "source": [
        ""
      ],
      "execution_count": null,
      "outputs": []
    },
    {
      "cell_type": "code",
      "metadata": {
        "id": "8VXYxLQg-GHX"
      },
      "source": [
        ""
      ],
      "execution_count": null,
      "outputs": []
    },
    {
      "cell_type": "markdown",
      "metadata": {
        "id": "GVpaFMAt-G0u"
      },
      "source": [
        "https://www.codewars.com/kata/558fc85d8fd1938afb000014/train/python\n",
        "\n",
        "\n",
        "\n",
        "7 kyu\n",
        "Sum of two lowest positive integers\n",
        "71815587% of 10,59135,976 of 89,755emporio1 Issue Reported\n",
        "Python\n",
        "3.8\n",
        "VIM\n",
        "EMACS\n",
        "Instructions\n",
        "Output\n",
        "Create a function that returns the sum of the two lowest positive numbers given an array of minimum 4 positive integers. No floats or non-positive integers will be passed.\n",
        "\n",
        "For example, when an array is passed like [19, 5, 42, 2, 77], the output should be 7.\n",
        "\n",
        "Cree una función que devuelva la suma de los dos números positivos más bajos dada una matriz de un mínimo de 4 enteros positivos. No se pasarán números flotantes o enteros no positivos.\n",
        "\n",
        "Por ejemplo, cuando se pasa una matriz como [19, 5, 42, 2, 77], la salida debe ser 7.\n",
        "\n",
        "\n"
      ]
    },
    {
      "cell_type": "code",
      "metadata": {
        "id": "8KkWFcAr-UYf"
      },
      "source": [
        "import codewars_test as test\n",
        "from solution import sum_two_smallest_numbers\n",
        "\n",
        "@test.describe(\"Fixed Tests\")\n",
        "def fixed_tests():\n",
        "    @test.it('Basic Test Cases')\n",
        "    def basic_test_cases():\n",
        "        test.assert_equals(sum_two_smallest_numbers([5, 8, 12, 18, 22]), 13)\n",
        "        test.assert_equals(sum_two_smallest_numbers([7, 15, 12, 18, 22]), 19)\n",
        "        test.assert_equals(sum_two_smallest_numbers([25, 42, 12, 18, 22]), 30)"
      ],
      "execution_count": null,
      "outputs": []
    },
    {
      "cell_type": "code",
      "metadata": {
        "id": "Bm0qvgYC-Vc0"
      },
      "source": [
        "def sum_two_smallest_numbers(numbers):\n",
        "    if isinstance(numbers, list) and len(numbers) >= 4 and all(numbers) > 0:\n",
        "        numbers = numbers.sort()\n",
        "        return numbers[0].__add__(numbers[1])\n",
        "    else:\n",
        "        pass"
      ],
      "execution_count": null,
      "outputs": []
    },
    {
      "cell_type": "code",
      "metadata": {
        "id": "VSGAjCX8-q2P"
      },
      "source": [
        ""
      ],
      "execution_count": null,
      "outputs": []
    },
    {
      "cell_type": "code",
      "metadata": {
        "id": "7YDknkeo-qyB"
      },
      "source": [
        ""
      ],
      "execution_count": null,
      "outputs": []
    },
    {
      "cell_type": "code",
      "metadata": {
        "id": "RNERG_dh-qvc"
      },
      "source": [
        ""
      ],
      "execution_count": null,
      "outputs": []
    },
    {
      "cell_type": "code",
      "metadata": {
        "id": "ZiUmbmFJ-qsN"
      },
      "source": [
        ""
      ],
      "execution_count": null,
      "outputs": []
    },
    {
      "cell_type": "code",
      "metadata": {
        "id": "FZ3xEA7_-qpl"
      },
      "source": [
        ""
      ],
      "execution_count": null,
      "outputs": []
    },
    {
      "cell_type": "code",
      "metadata": {
        "id": "NcKX-nd2-qm7"
      },
      "source": [
        ""
      ],
      "execution_count": null,
      "outputs": []
    },
    {
      "cell_type": "code",
      "metadata": {
        "id": "ZEJz7bYX-qhs"
      },
      "source": [
        ""
      ],
      "execution_count": null,
      "outputs": []
    },
    {
      "cell_type": "markdown",
      "metadata": {
        "id": "JjQzXdDR-r3n"
      },
      "source": [
        "https://www.codewars.com/kata/546f922b54af40e1e90001da\n",
        "\n",
        "\n",
        "Bienvenidos.\n",
        "\n",
        "En este kata se requiere que, dada una cadena, reemplace cada letra con su posición en el alfabeto.\n",
        "\n",
        "Si algo en el texto no es una letra, ignórelo y no lo devuelva.\n",
        "\n",
        "\"a\" = 1, \"b\" = 2, etc.\n",
        "\n",
        "Ejemplo\n",
        "alphabet_position (\"La puesta de sol se pone a las doce en punto.\")\n",
        "Debe regresar \"20 8 5 19 21 14 19 5 20 19 5 20 19 1 20 20 23 5 12 22 5 15 3 12 15 3 11\" (como una cuerda)\n",
        "\n",
        "\n",
        "Welcome.\n",
        "\n",
        "In this kata you are required to, given a string, replace every letter with its position in the alphabet.\n",
        "\n",
        "If anything in the text isn't a letter, ignore it and don't return it.\n",
        "\n",
        "\"a\" = 1, \"b\" = 2, etc.\n",
        "\n",
        "Example\n",
        "alphabet_position(\"The sunset sets at twelve o' clock.\")\n",
        "Should return \"20 8 5 19 21 14 19 5 20 19 5 20 19 1 20 20 23 5 12 22 5 15 3 12 15 3 11\" (as a string)"
      ]
    },
    {
      "cell_type": "code",
      "metadata": {
        "id": "lNDNe4l5-rof"
      },
      "source": [
        "alphabet_position(\"The sunset sets at twelve o' clock.\")  # Should return \"20 8 5 19 21 14 19 5 20 19 5 20 19 1 20 20 23 5 12 22 5 15 3 12 15 3 11\" (as a string)"
      ],
      "execution_count": null,
      "outputs": []
    },
    {
      "cell_type": "code",
      "metadata": {
        "id": "i_2LB9KI-rl2"
      },
      "source": [
        "def alphabet_position"
      ],
      "execution_count": null,
      "outputs": []
    },
    {
      "cell_type": "code",
      "metadata": {
        "id": "Z5ap-o5g-riY"
      },
      "source": [
        ""
      ],
      "execution_count": null,
      "outputs": []
    },
    {
      "cell_type": "code",
      "metadata": {
        "id": "11Es4C0i-rfc"
      },
      "source": [
        ""
      ],
      "execution_count": null,
      "outputs": []
    },
    {
      "cell_type": "code",
      "metadata": {
        "id": "5Oecy21s-rcU"
      },
      "source": [
        ""
      ],
      "execution_count": null,
      "outputs": []
    },
    {
      "cell_type": "markdown",
      "metadata": {
        "id": "p4j5TboKBDzg"
      },
      "source": [
        "Welcome.\n",
        "\n",
        "In this kata you are required to, given a string, replace every letter with its position in the alphabet.\n",
        "\n",
        "If anything in the text isn't a letter, ignore it and don't return it.\n",
        "\n",
        "\"a\" = 1, \"b\" = 2, etc.\n",
        "\n",
        "Example\n",
        "alphabet_position(\"The sunset sets at twelve o' clock.\")\n",
        "Should return \"20 8 5 19 21 14 19 5 20 19 5 20 19 1 20 20 23 5 12 22 5 15 3 12 15 3 11\" (as a string)"
      ]
    },
    {
      "cell_type": "code",
      "metadata": {
        "id": "4qbCnRPMBDh1"
      },
      "source": [
        ""
      ],
      "execution_count": null,
      "outputs": []
    },
    {
      "cell_type": "code",
      "metadata": {
        "id": "dKTTJIEeBDeF"
      },
      "source": [
        ""
      ],
      "execution_count": null,
      "outputs": []
    },
    {
      "cell_type": "code",
      "metadata": {
        "id": "HcMls9TDBDa6"
      },
      "source": [
        ""
      ],
      "execution_count": null,
      "outputs": []
    },
    {
      "cell_type": "code",
      "metadata": {
        "id": "aGxZ9JAdBDXw"
      },
      "source": [
        "t = [9, 41, 12, 3, 74, 15]"
      ],
      "execution_count": null,
      "outputs": []
    },
    {
      "cell_type": "code",
      "metadata": {
        "colab": {
          "base_uri": "https://localhost:8080/"
        },
        "id": "r5frU6rP-lC1",
        "outputId": "c48eb4af-4ca0-4a12-e523-9bb9cc1664a2"
      },
      "source": [
        "t[2:4]"
      ],
      "execution_count": null,
      "outputs": [
        {
          "output_type": "execute_result",
          "data": {
            "text/plain": [
              "[12, 3]"
            ]
          },
          "metadata": {
            "tags": []
          },
          "execution_count": 3
        }
      ]
    },
    {
      "cell_type": "markdown",
      "metadata": {
        "id": "Q1OOtiBh_09z"
      },
      "source": [
        "8.4 Open the file romeo.txt and read it line by line. For each line, split the line into a list of words using the split() method. The program should build a list of words. For each word on each line check to see if the word is already in the list and if not append it to the list. When the program completes, sort and print the resulting words in alphabetical order.\n",
        "You can download the sample data at http://www.py4e.com/code3/romeo.txt\n",
        "\n",
        "\n",
        "Desired Output\n",
        "['Arise', 'But', 'It', 'Juliet', 'Who', 'already', 'and', 'breaks', 'east', 'envious', 'fair', 'grief', 'is', 'kill', 'light', 'moon', 'pale', 'sick', 'soft', 'sun', 'the', 'through', 'what', 'window', 'with', 'yonder']\n",
        "\n",
        "\n",
        "\n",
        "\n",
        "\n",
        "\n",
        "8.4 Abra el archivo romeo.txt y léalo línea por línea. Para cada línea, divídala en una lista de palabras usando el método split(). El programa debe construir una lista de palabras. Para cada palabra en cada línea, verifique si la palabra ya está en la lista y, si no, añádala a la lista. Cuando el programa se complete, ordene e imprima las palabras resultantes en orden alfabético.\n",
        "Puede descargar los datos de muestra en http://es.py4e.com/code3/romeo.txt\n",
        "\n",
        "  \n",
        " \n",
        "\n",
        "fname = input(\"Ingresa un nombre de archivo: \")\n",
        "fh = open(fname)\n",
        "lst = list()\n",
        "for linea in fh:\n",
        "print(linea.rstrip())\n",
        " "
      ]
    },
    {
      "cell_type": "code",
      "metadata": {
        "id": "sN4OqhPE_0o2"
      },
      "source": [
        "fname = input(\"Ingresa un nombre de archivo: \")\n",
        "fh = open(fname)\n",
        "lst = list()\n",
        "for line in fh:\n",
        "    words = line.split()\n",
        "    for current_word in words:\n",
        "        if current_word in lst:\n",
        "            continue\n",
        "        lst.append(current_word)\n",
        "lst.sort()\n",
        "print(lst)"
      ],
      "execution_count": null,
      "outputs": []
    },
    {
      "cell_type": "code",
      "metadata": {
        "id": "ja7GGA4I-tC6"
      },
      "source": [
        "t.sort()"
      ],
      "execution_count": null,
      "outputs": []
    },
    {
      "cell_type": "markdown",
      "metadata": {
        "id": "3AAtzNA-FOZI"
      },
      "source": [
        "8.5 Escribe un programa para leer mbox-short.txt Cuando encuentres una línea que comience con 'From' como la siguiente línea:\n",
        "From stephen.marquard@uct.ac.za Sat Jan  5 09:14:16 2008\n",
        "Analiza la línea From utilizando split() e imprime la segunda palabra en la línea (es decir, la dirección completa de la persona que envió el mensaje). A continuación, imprime un recuento al final.\n",
        "Sugerencia: asegúrate de no incluir las líneas que comienzan con 'From:'.\n",
        "\n",
        "Puedes descargar los datos de muestra en http://es.py4e.com/code3/mbox-short.txt\n",
        "\n",
        "Salida deseada\n",
        "stephen.marquard@uct.ac.za\n",
        "louis@media.berkeley.edu\n",
        "zqian@umich.edu\n",
        "rjlowe@iupui.edu\n",
        "zqian@umich.edu\n",
        "rjlowe@iupui.edu\n",
        "cwen@iupui.edu\n",
        "cwen@iupui.edu\n",
        "gsilver@umich.edu\n",
        "gsilver@umich.edu\n",
        "zqian@umich.edu\n",
        "gsilver@umich.edu\n",
        "wagnermr@iupui.edu\n",
        "zqian@umich.edu\n",
        "antranig@caret.cam.ac.uk\n",
        "gopal.ramasammycook@gmail.com\n",
        "david.horwitz@uct.ac.za\n",
        "david.horwitz@uct.ac.za\n",
        "david.horwitz@uct.ac.za\n",
        "david.horwitz@uct.ac.za\n",
        "stephen.marquard@uct.ac.za\n",
        "louis@media.berkeley.edu\n",
        "louis@media.berkeley.edu\n"
      ]
    },
    {
      "cell_type": "code",
      "metadata": {
        "colab": {
          "base_uri": "https://localhost:8080/"
        },
        "id": "lZhd5FCvEhxE",
        "outputId": "7622edd4-2432-4021-9b59-cc7a8316eb56"
      },
      "source": [
        "fname = input(\"Ingresa un nombre de archivo: \")\n",
        "if len(fname) < 1 : fname = \"mbox-short.txt\"\n",
        "\n",
        "fh = open(fname)\n",
        "count = 0\n",
        "\n",
        "print(\"Hay\", count, \"lineas en el archivo con From como la primer palabra\")\n"
      ],
      "execution_count": null,
      "outputs": [
        {
          "output_type": "execute_result",
          "data": {
            "text/plain": [
              "[3, 9, 12, 15, 41, 74]"
            ]
          },
          "metadata": {
            "tags": []
          },
          "execution_count": 5
        }
      ]
    },
    {
      "cell_type": "code",
      "metadata": {
        "id": "OAcUUR_5EisV"
      },
      "source": [
        "fname = input(\"Enter file name: \")\n",
        "if len(fname) < 1 : fname = \"mbox-short.txt\"\n",
        "\n",
        "fh = open(fname)\n",
        "count = 0\n",
        "\n",
        "for line in fh:\n",
        "    if line.startswith('From'):\n",
        "        words = line.split()\n",
        "        if words[0] == 'From':\n",
        "            print(words[1])\n",
        "            count += 1\n",
        "print(\"There were\", count, \"lines in the file with From as the first word\")"
      ],
      "execution_count": null,
      "outputs": []
    },
    {
      "cell_type": "code",
      "metadata": {
        "id": "aWSuvijKTMZ4"
      },
      "source": [
        ""
      ],
      "execution_count": null,
      "outputs": []
    },
    {
      "cell_type": "markdown",
      "metadata": {
        "id": "26nQsX78TMuo"
      },
      "source": [
        "9.4 Escribe un programa para leer mbox-short.txt y encuentra quién ha enviado la mayor cantidad de mensajes de correo. El programa busca líneas 'De' y toma la segunda palabra de esas líneas como la persona que envió el correo. El programa crea un diccionario Python que asigna la dirección de correo del remitente a un recuento de la cantidad de veces que aparecen en el archivo. Después de que se produce el diccionario, el programa lee a través del diccionario utilizando un bucle máximo para encontrar la dirección que más envíos tuvo.\n",
        "\n",
        "cwen@iupui.edu 5\n"
      ]
    },
    {
      "cell_type": "code",
      "metadata": {
        "id": "S8VLX4Q6TMNJ"
      },
      "source": [
        "name = input(\"Ingresa un nombre de archivo:\")\n",
        "if len(name) < 1 : name = \"mbox-short.txt\"\n",
        "handle = open(name)\n",
        "\n",
        "count = 0\n",
        "\n",
        "for line in handle:\n",
        "    if line.startswith('From'):\n",
        "        words = line.split()\n",
        "        if words[0] == 'From':\n",
        "            \n",
        "\n",
        "\n"
      ],
      "execution_count": null,
      "outputs": []
    },
    {
      "cell_type": "markdown",
      "metadata": {
        "id": "1FesFUjCznKI"
      },
      "source": [
        "dado una cadena, buscar si se encuentra como clave en un diccionario \n",
        "Si no se encuentra, la agrega e iguala a 1 ... Y si ya existe, le agrega 1 como q aparecio una vez mas"
      ]
    },
    {
      "cell_type": "code",
      "metadata": {
        "id": "BkzoK7VBt85K"
      },
      "source": [
        "darr = {'a':2, 'b':2, 'c':3}"
      ],
      "execution_count": null,
      "outputs": []
    },
    {
      "cell_type": "code",
      "metadata": {
        "id": "XW-BrK5NuOJs"
      },
      "source": [
        "cadena = 'h'"
      ],
      "execution_count": null,
      "outputs": []
    },
    {
      "cell_type": "code",
      "metadata": {
        "id": "IlB-bIASt83B"
      },
      "source": [
        "if not cadena in darr.keys(): darr[cadena] = 1  # en dos lineas\n",
        "elif cadena in darr.keys(): darr[cadena] = darr[cadena]+1"
      ],
      "execution_count": null,
      "outputs": []
    },
    {
      "cell_type": "code",
      "metadata": {
        "id": "xaQia4_L1T1N"
      },
      "source": [
        "darr"
      ],
      "execution_count": null,
      "outputs": []
    },
    {
      "cell_type": "code",
      "metadata": {
        "id": "ec5VSY5BvgdQ"
      },
      "source": [
        "if cadena in darr.keys(): darr[cadena] = darr[cadena]+1  # en dos lineas\n",
        "else: darr[cadena] = 1"
      ],
      "execution_count": null,
      "outputs": []
    },
    {
      "cell_type": "code",
      "metadata": {
        "id": "hmrHcMFi1UPQ"
      },
      "source": [
        "darr"
      ],
      "execution_count": null,
      "outputs": []
    },
    {
      "cell_type": "code",
      "metadata": {
        "id": "ap-Nm-ZkwBJH"
      },
      "source": [
        "darr[cadena] = darr[cadena].__add__(1) if cadena in darr.keys() else darr[cadena].__eq__(1) # usando operador ternario "
      ],
      "execution_count": null,
      "outputs": []
    },
    {
      "cell_type": "code",
      "metadata": {
        "id": "43ZBPn898IF9"
      },
      "source": [
        "darr"
      ],
      "execution_count": null,
      "outputs": []
    },
    {
      "cell_type": "code",
      "metadata": {
        "id": "BUxC-J6k7jup"
      },
      "source": [
        "darr[cadena] += 1 if cadena in darr.keys() else darr[cadena].__eq__(1) # usando operador ternario "
      ],
      "execution_count": null,
      "outputs": []
    },
    {
      "cell_type": "code",
      "metadata": {
        "id": "gegPXGoo8KVL"
      },
      "source": [
        "dir(darr['a'])"
      ],
      "execution_count": null,
      "outputs": []
    },
    {
      "cell_type": "code",
      "metadata": {
        "id": "kRApTcoA7zf_"
      },
      "source": [
        "darr[cadena] += 1 if cadena in darr.keys() else darr[cadena] = 1 # usando operador ternario "
      ],
      "execution_count": null,
      "outputs": []
    },
    {
      "cell_type": "code",
      "metadata": {
        "colab": {
          "base_uri": "https://localhost:8080/"
        },
        "id": "n_Ndc_6b1bdz",
        "outputId": "abcb7dff-f8be-4311-8361-a4e268eb028d"
      },
      "source": [
        "darr"
      ],
      "execution_count": null,
      "outputs": [
        {
          "output_type": "execute_result",
          "data": {
            "text/plain": [
              "{'a': 2, 'b': 2, 'c': 3, 'i': 5, 'j': 6}"
            ]
          },
          "metadata": {
            "tags": []
          },
          "execution_count": 83
        }
      ]
    },
    {
      "cell_type": "code",
      "metadata": {
        "colab": {
          "base_uri": "https://localhost:8080/"
        },
        "id": "uhqISYQW0BAO",
        "outputId": "d5634bf6-7119-4326-caf7-dc568119b3b3"
      },
      "source": [
        "darr[cadena].__eq__(darr[cadena].__add__(1)) if cadena in darr.keys() else darr[cadena].__eq__(1) # usando operador ternario "
      ],
      "execution_count": null,
      "outputs": [
        {
          "output_type": "execute_result",
          "data": {
            "text/plain": [
              "False"
            ]
          },
          "metadata": {
            "tags": []
          },
          "execution_count": 63
        }
      ]
    },
    {
      "cell_type": "code",
      "metadata": {
        "colab": {
          "base_uri": "https://localhost:8080/"
        },
        "id": "TOvCDgzVt80u",
        "outputId": "dbe3fec4-8dc4-4b8b-b161-78de1c39454c"
      },
      "source": [
        "darr[cadena]"
      ],
      "execution_count": null,
      "outputs": [
        {
          "output_type": "execute_result",
          "data": {
            "text/plain": [
              "9"
            ]
          },
          "metadata": {
            "tags": []
          },
          "execution_count": 51
        }
      ]
    },
    {
      "cell_type": "code",
      "metadata": {
        "colab": {
          "base_uri": "https://localhost:8080/"
        },
        "id": "9AP7qtXgt8xS",
        "outputId": "8b879826-135d-4a01-ee9d-826a2a2f3732"
      },
      "source": [
        "darr"
      ],
      "execution_count": null,
      "outputs": [
        {
          "output_type": "execute_result",
          "data": {
            "text/plain": [
              "{'a': 2, 'b': 2, 'c': 3, 'd': 5}"
            ]
          },
          "metadata": {
            "tags": []
          },
          "execution_count": 25
        }
      ]
    },
    {
      "cell_type": "code",
      "metadata": {
        "id": "zGLQz--Qt8sM"
      },
      "source": [
        ""
      ],
      "execution_count": null,
      "outputs": []
    },
    {
      "cell_type": "code",
      "metadata": {
        "id": "X3WDrthZt8n8"
      },
      "source": [
        ""
      ],
      "execution_count": null,
      "outputs": []
    },
    {
      "cell_type": "code",
      "metadata": {
        "id": "-VclOagNsLWI"
      },
      "source": [
        ""
      ],
      "execution_count": null,
      "outputs": []
    },
    {
      "cell_type": "code",
      "metadata": {
        "colab": {
          "base_uri": "https://localhost:8080/"
        },
        "id": "45fvdvcnsLGi",
        "outputId": "7f6805fa-67b8-4cb2-db70-752d849efa7d"
      },
      "source": [
        "max(arr.values())"
      ],
      "execution_count": null,
      "outputs": [
        {
          "output_type": "execute_result",
          "data": {
            "text/plain": [
              "3"
            ]
          },
          "metadata": {
            "tags": []
          },
          "execution_count": 6
        }
      ]
    },
    {
      "cell_type": "code",
      "metadata": {
        "colab": {
          "base_uri": "https://localhost:8080/"
        },
        "id": "jhxAXAcYVw7r",
        "outputId": "fbcf31f6-5b15-45d8-fcec-e560edc95d34"
      },
      "source": [
        "palabra = 'brontosaurio'\n",
        "d = dict()\n",
        "for c in palabra:\n",
        "    if c not in d:\n",
        "        d[c] = 1\n",
        "    else:\n",
        "        d[c] = d[c] + 1\n",
        "print(d)"
      ],
      "execution_count": null,
      "outputs": [
        {
          "output_type": "stream",
          "text": [
            "{'b': 1, 'r': 2, 'o': 3, 'n': 1, 't': 1, 's': 1, 'a': 1, 'u': 1, 'i': 1}\n"
          ],
          "name": "stdout"
        }
      ]
    },
    {
      "cell_type": "code",
      "metadata": {
        "id": "aLf64_TjW6nX"
      },
      "source": [
        "tradu = {'uno': 1, 'dos': 2}"
      ],
      "execution_count": null,
      "outputs": []
    },
    {
      "cell_type": "code",
      "metadata": {
        "id": "S9RXV6AY1_VP"
      },
      "source": [
        "tradu['uno'] = 3"
      ],
      "execution_count": null,
      "outputs": []
    },
    {
      "cell_type": "code",
      "metadata": {
        "colab": {
          "base_uri": "https://localhost:8080/"
        },
        "id": "2vkfDDjo2A_g",
        "outputId": "c6093a8c-e744-44a2-dbcf-380b170383f9"
      },
      "source": [
        "tradu"
      ],
      "execution_count": null,
      "outputs": [
        {
          "output_type": "execute_result",
          "data": {
            "text/plain": [
              "{'dos': 2, 'uno': 3}"
            ]
          },
          "metadata": {
            "tags": []
          },
          "execution_count": 31
        }
      ]
    },
    {
      "cell_type": "code",
      "metadata": {
        "id": "ZMVNrHv22SUX"
      },
      "source": [
        "eval(tradu['uno'])"
      ],
      "execution_count": null,
      "outputs": []
    },
    {
      "cell_type": "code",
      "metadata": {
        "id": "2dJJE75G2hsO"
      },
      "source": [
        "a = 'uno'"
      ],
      "execution_count": null,
      "outputs": []
    },
    {
      "cell_type": "code",
      "metadata": {
        "id": "51oDoDtm5Ye5"
      },
      "source": [
        "if a in tradu: tradu[a]=tradu[a]+1"
      ],
      "execution_count": null,
      "outputs": []
    },
    {
      "cell_type": "code",
      "metadata": {
        "colab": {
          "base_uri": "https://localhost:8080/"
        },
        "id": "siWu-8ys5wOY",
        "outputId": "c74c7953-cdb3-48eb-8f4d-1a9441042f30"
      },
      "source": [
        "tradu"
      ],
      "execution_count": null,
      "outputs": [
        {
          "output_type": "execute_result",
          "data": {
            "text/plain": [
              "{'dos': 2, 'uno': 11}"
            ]
          },
          "metadata": {
            "tags": []
          },
          "execution_count": 55
        }
      ]
    },
    {
      "cell_type": "code",
      "metadata": {
        "id": "m1FuxmHz6B-P"
      },
      "source": [
        "import requests\n",
        "username = 'xaldoxx'\n",
        "token = '9e61777bbea856beab60d04d682567905d87d082'\n",
        "\n",
        "response = requests.get(\n",
        "    'https://www.pythonanywhere.com/api/v0/user/{username}/cpu/'.format(\n",
        "        username=username\n",
        "    ),\n",
        "    headers={'Authorization': 'Token {token}'.format(token=token)}\n",
        ")\n",
        "if response.status_code == 200:\n",
        "    print('CPU quota info:')\n",
        "    print(response.content)\n",
        "else:\n",
        "    print('Got unexpected status code {}: {!r}'.format(response.status_code, response.content))"
      ],
      "execution_count": null,
      "outputs": []
    },
    {
      "cell_type": "code",
      "metadata": {
        "id": "bNQbWOL4voCy"
      },
      "source": [
        ""
      ],
      "execution_count": null,
      "outputs": []
    },
    {
      "cell_type": "code",
      "metadata": {
        "id": "YqXupE6BvoAZ"
      },
      "source": [
        ""
      ],
      "execution_count": null,
      "outputs": []
    },
    {
      "cell_type": "code",
      "metadata": {
        "id": "Tkc6FxmTvn9h"
      },
      "source": [
        "# https://www.codewars.com/kata/583203e6eb35d7980400002a\n",
        "# Valid smiley face examples: :) :D ;-D :~)\n",
        "# countSmileys([':)', ';(', ';}', ':-D']);       // should return 2;\n"
      ],
      "execution_count": null,
      "outputs": []
    },
    {
      "cell_type": "code",
      "metadata": {
        "id": "mwpEvGTWvn7K"
      },
      "source": [
        "lista_ver = [':)', ';(', ';}', ':-D']"
      ],
      "execution_count": null,
      "outputs": []
    },
    {
      "cell_type": "code",
      "metadata": {
        "colab": {
          "base_uri": "https://localhost:8080/"
        },
        "id": "4I4feVfrxTnq",
        "outputId": "107a0566-47ef-4f12-d7a2-2e795c4ec0f3"
      },
      "source": [
        "len(lista_ver)"
      ],
      "execution_count": null,
      "outputs": [
        {
          "output_type": "execute_result",
          "data": {
            "text/plain": [
              "4"
            ]
          },
          "metadata": {
            "tags": []
          },
          "execution_count": 4
        }
      ]
    },
    {
      "cell_type": "code",
      "metadata": {
        "colab": {
          "base_uri": "https://localhost:8080/"
        },
        "id": "7kJfqNu2vn4X",
        "outputId": "a3a4af6b-abed-4814-dc98-39c457416082"
      },
      "source": [
        ""
      ],
      "execution_count": null,
      "outputs": [
        {
          "output_type": "execute_result",
          "data": {
            "text/plain": [
              "1"
            ]
          },
          "metadata": {
            "tags": []
          },
          "execution_count": 3
        }
      ]
    },
    {
      "cell_type": "code",
      "metadata": {
        "id": "DyP4u3Jtvn1n"
      },
      "source": [
        "return arr.count(':)') + arr.count(':D') + arr.count(';-D') + arr.count(':~)') arr.count(':D') + arr.count(';-D') + arr.count(':~)')"
      ],
      "execution_count": null,
      "outputs": []
    },
    {
      "cell_type": "code",
      "metadata": {
        "id": "VNsRdH7ovny3"
      },
      "source": [
        "def count_smileys(arr):\n",
        "    if len(arr)>=1:\n",
        "        return arr.count(':)') + arr.count(':~)') + arr.count(':-)') + arr.count(';)') + arr.count(';~)') + arr.count(';-)') + arr.count(':D') + arr.count(':~D') + arr.count(':-D') + arr.count(';D') + arr.count(';~D') + arr.count(';-D')\n",
        "    else:\n",
        "        return 0"
      ],
      "execution_count": null,
      "outputs": []
    },
    {
      "cell_type": "code",
      "metadata": {
        "id": "02BXJC_Ovnvx"
      },
      "source": [
        "print(count_smileys([])) # 0\n",
        "print(count_smileys([':D',':~)',';~D',':)'])) # 4)\n",
        "print(count_smileys([':)',':(',':D',':O',':;'])) # 2)\n",
        "print(count_smileys([';]', ':[', ';*', ':$', ';-D'])) # 1)"
      ],
      "execution_count": null,
      "outputs": []
    },
    {
      "cell_type": "code",
      "metadata": {
        "id": "TS251Nz7ymlT"
      },
      "source": [
        "arr.count(':)') + arr.count(':~)') + arr.count(':-)') + arr.count(';)') + arr.count(';~)') + arr.count(';-)') + arr.count(':D') + arr.count(':~D') + arr.count(':-D') + arr.count(';D') + arr.count(';~D') + arr.count(';-D')"
      ],
      "execution_count": null,
      "outputs": []
    },
    {
      "cell_type": "code",
      "metadata": {
        "id": "wJDs1MV8hSX_"
      },
      "source": [
        ""
      ],
      "execution_count": null,
      "outputs": []
    },
    {
      "cell_type": "code",
      "metadata": {
        "id": "DRQvSFcDhSVt"
      },
      "source": [
        ""
      ],
      "execution_count": null,
      "outputs": []
    },
    {
      "cell_type": "code",
      "metadata": {
        "id": "P9BIyCfRhSSJ"
      },
      "source": [
        "x = { 'chuck' : 1 , 'fred' : 42, 'jan': 100}\n"
      ],
      "execution_count": null,
      "outputs": []
    },
    {
      "cell_type": "code",
      "metadata": {
        "id": "Q-cIAdrIhSMK"
      },
      "source": [
        "y = x.items()"
      ],
      "execution_count": null,
      "outputs": []
    },
    {
      "cell_type": "code",
      "metadata": {
        "colab": {
          "base_uri": "https://localhost:8080/"
        },
        "id": "ukaWpSSihSFu",
        "outputId": "128be168-194f-4d4b-f94e-6cf27bdd5384"
      },
      "source": [
        "y"
      ],
      "execution_count": null,
      "outputs": [
        {
          "output_type": "execute_result",
          "data": {
            "text/plain": [
              "dict_items([('chuck', 1), ('fred', 42), ('jan', 100)])"
            ]
          },
          "metadata": {
            "tags": []
          },
          "execution_count": 3
        }
      ]
    },
    {
      "cell_type": "code",
      "metadata": {
        "id": "zPR0un5yhiGY"
      },
      "source": [
        "x = (5, 1, 3)"
      ],
      "execution_count": null,
      "outputs": []
    },
    {
      "cell_type": "code",
      "metadata": {
        "colab": {
          "base_uri": "https://localhost:8080/"
        },
        "id": "NPntnYeBhveu",
        "outputId": "24f83e51-c7e8-42ab-fbbe-501a92be1ca4"
      },
      "source": [
        "(6, 0, 0) > x"
      ],
      "execution_count": null,
      "outputs": [
        {
          "output_type": "execute_result",
          "data": {
            "text/plain": [
              "True"
            ]
          },
          "metadata": {
            "tags": []
          },
          "execution_count": 6
        }
      ]
    },
    {
      "cell_type": "code",
      "metadata": {
        "id": "qOJIwEwDhvcb"
      },
      "source": [
        ""
      ],
      "execution_count": null,
      "outputs": []
    },
    {
      "cell_type": "code",
      "metadata": {
        "id": "NCfPyQMfhvYz"
      },
      "source": [
        "tmp = list()\n",
        "for k, v in c.items() :\n",
        "    tmp.append( (v, k) )"
      ],
      "execution_count": null,
      "outputs": []
    },
    {
      "cell_type": "code",
      "metadata": {
        "id": "b7Ahp7k-hvUe"
      },
      "source": [
        ""
      ],
      "execution_count": null,
      "outputs": []
    },
    {
      "cell_type": "code",
      "metadata": {
        "id": "OCFvyS7Whup-"
      },
      "source": [
        "mdellameamusica@gmail.com\n",
        "masterclass sabado 5 de junio\n"
      ],
      "execution_count": null,
      "outputs": []
    },
    {
      "cell_type": "code",
      "metadata": {
        "id": "WOOsDCvL4v04"
      },
      "source": [
        ""
      ],
      "execution_count": null,
      "outputs": []
    },
    {
      "cell_type": "code",
      "metadata": {
        "id": "XU8lRIbeCauW"
      },
      "source": [
        "'''\n",
        "Complete la función que acepta un parámetro de cadena e invierte \n",
        "cada palabra en la cadena. Todos los espacios de la cadena \n",
        "deben conservarse.\n",
        "\n",
        "Ejemplos de\n",
        "\"¡Esto es un ejemplo!\" ==> \"sihT si na! elpmaxe\"\n",
        "\"espacios dobles\" ==> \"elbuod secaps\"\n",
        "https://www.codewars.com/kata/5259b20d6021e9e14c0010d4\n",
        "\n",
        "'''\n",
        "def reverse_words(text):\n",
        "  return ' '.join(text.split(' ')[::-1])[::-1]"
      ],
      "execution_count": null,
      "outputs": []
    },
    {
      "cell_type": "code",
      "metadata": {
        "id": "HK1Y2obFEkd0"
      },
      "source": [
        "'''\n",
        "\n",
        "Es bastante sencillo. Su objetivo es crear una función que elimine el primer y último carácter de una cadena. \n",
        "Se le da un parámetro, la cadena original. No tiene que preocuparse por cadenas con menos de dos caracteres.\n",
        "'''\n",
        "def remove_char(s):\n",
        "    return s[1:-1]"
      ],
      "execution_count": null,
      "outputs": []
    },
    {
      "cell_type": "code",
      "metadata": {
        "id": "9Xe0sybyEkas"
      },
      "source": [
        "s = 'esta es una cadena'"
      ],
      "execution_count": null,
      "outputs": []
    },
    {
      "cell_type": "code",
      "metadata": {
        "id": "SjqSM0Y6EkVB",
        "colab": {
          "base_uri": "https://localhost:8080/"
        },
        "outputId": "d9cb8c87-295f-4b31-8dd5-159f022faf30"
      },
      "source": [
        "[s.split(' ')]"
      ],
      "execution_count": null,
      "outputs": [
        {
          "output_type": "execute_result",
          "data": {
            "text/plain": [
              "[['esta', 'es', 'una', 'cadena']]"
            ]
          },
          "metadata": {
            "tags": []
          },
          "execution_count": 3
        }
      ]
    },
    {
      "cell_type": "code",
      "metadata": {
        "id": "795-v0zEEaL1",
        "colab": {
          "base_uri": "https://localhost:8080/",
          "height": 35
        },
        "outputId": "f570f5d4-28da-4c26-e7c7-4b502e5b4c07"
      },
      "source": [
        "s[1:-1]"
      ],
      "execution_count": null,
      "outputs": [
        {
          "output_type": "execute_result",
          "data": {
            "application/vnd.google.colaboratory.intrinsic+json": {
              "type": "string"
            },
            "text/plain": [
              "'sta es una caden'"
            ]
          },
          "metadata": {
            "tags": []
          },
          "execution_count": 5
        }
      ]
    },
    {
      "cell_type": "code",
      "metadata": {
        "id": "PbDnzOc2JmpV",
        "colab": {
          "base_uri": "https://localhost:8080/",
          "height": 129
        },
        "outputId": "3b62e7dc-1775-4a8b-e749-88bb9ec5d536"
      },
      "source": [
        "return s[1:-1]"
      ],
      "execution_count": null,
      "outputs": [
        {
          "output_type": "error",
          "ename": "SyntaxError",
          "evalue": "ignored",
          "traceback": [
            "\u001b[0;36m  File \u001b[0;32m\"<ipython-input-6-77ac66936182>\"\u001b[0;36m, line \u001b[0;32m1\u001b[0m\n\u001b[0;31m    return s[1:-1]\u001b[0m\n\u001b[0m                  ^\u001b[0m\n\u001b[0;31mSyntaxError\u001b[0m\u001b[0;31m:\u001b[0m 'return' outside function\n"
          ]
        }
      ]
    },
    {
      "cell_type": "code",
      "metadata": {
        "id": "LDg3CEO1Jmm3"
      },
      "source": [
        "\n",
        "'''Escriba una función que tome un número entero como entrada y devuelva el \n",
        "número de bits que son iguales a uno en la representación binaria de ese número. \n",
        "Puede garantizar que la entrada no sea negativa.\n",
        "\n",
        "Ejemplo: la representación binaria de 1234 es 10011010010, \n",
        "por lo que la función debería devolver 5 en este caso\n",
        "\n",
        "https://www.codewars.com/kata/526571aae218b8ee490006f4\n",
        "'''\n",
        "sum(list(map(int, list(bin(1234))[2:])))\n"
      ],
      "execution_count": null,
      "outputs": []
    },
    {
      "cell_type": "code",
      "metadata": {
        "colab": {
          "base_uri": "https://localhost:8080/"
        },
        "id": "z3aRTqEKROUw",
        "outputId": "99682b25-c07f-4b4a-8538-ef21522c5911"
      },
      "source": [
        "'''\n",
        "Completa la función de suma al cuadrado para que cuadre cada número que se \n",
        "le ingrese y luego sume los resultados.\n",
        "\n",
        "Por ejemplo, para [1, 2, 2] debería devolver 9 porque 1 ^ 2 + 2 ^ 2 + 2 ^ 2 = 9.\n",
        "https://www.codewars.com/kata/515e271a311df0350d00000f/train/python\n",
        "'''\n",
        "def sq_sum(numbers):\n",
        "    return sum(list(map(int, [n**2 for n in numbers])))"
      ],
      "execution_count": null,
      "outputs": [
        {
          "output_type": "execute_result",
          "data": {
            "text/plain": [
              "55"
            ]
          },
          "metadata": {
            "tags": []
          },
          "execution_count": 6
        }
      ]
    },
    {
      "cell_type": "code",
      "metadata": {
        "id": "67mHcYzUkkXD"
      },
      "source": [
        "'''\n",
        "https://www.codewars.com/kata/5899dc03bc95b1bf1b0000ad/train/python\n",
        "Given a set of numbers, return the additive inverse of each. Each positive becomes negatives, and the negatives become positives.\n",
        "\n",
        "invert([1,2,3,4,5]) == [-1,-2,-3,-4,-5]\n",
        "invert([1,-2,3,-4,5]) == [-1,2,-3,4,-5]\n",
        "invert([]) == []\n",
        "\n",
        "You can assume that all values are integers. Do not mutate the input array/list.\n",
        "'''\n",
        "def invert(lst):\n",
        "    return list(map(int, [-n for n in lst]))"
      ],
      "execution_count": null,
      "outputs": []
    },
    {
      "cell_type": "code",
      "metadata": {
        "id": "KxwEWx26kkUX",
        "colab": {
          "base_uri": "https://localhost:8080/"
        },
        "outputId": "be8ff040-e49c-4b74-b351-cefefd6cf734"
      },
      "source": [
        "lista2"
      ],
      "execution_count": null,
      "outputs": [
        {
          "output_type": "execute_result",
          "data": {
            "text/plain": [
              "[1, 2, 3, 4, 5]"
            ]
          },
          "metadata": {
            "tags": []
          },
          "execution_count": 7
        }
      ]
    },
    {
      "cell_type": "code",
      "metadata": {
        "id": "uyAJDNaZkkRn",
        "colab": {
          "base_uri": "https://localhost:8080/"
        },
        "outputId": "86db497c-35b6-4499-b576-8c440fbe481e"
      },
      "source": [
        "list(map(int, [-n for n in lista2]))"
      ],
      "execution_count": null,
      "outputs": [
        {
          "output_type": "execute_result",
          "data": {
            "text/plain": [
              "[-1, -2, -3, -4, -5]"
            ]
          },
          "metadata": {
            "tags": []
          },
          "execution_count": 10
        }
      ]
    },
    {
      "cell_type": "code",
      "metadata": {
        "id": "slQkgwBJkkPU"
      },
      "source": [
        ""
      ],
      "execution_count": null,
      "outputs": []
    },
    {
      "cell_type": "code",
      "metadata": {
        "id": "0e36keCokkMb"
      },
      "source": [
        ""
      ],
      "execution_count": null,
      "outputs": []
    },
    {
      "cell_type": "code",
      "metadata": {
        "id": "iHSg7_DlkkJh"
      },
      "source": [
        ""
      ],
      "execution_count": null,
      "outputs": []
    },
    {
      "cell_type": "markdown",
      "metadata": {
        "id": "gH4sG8Uhp5xC"
      },
      "source": [
        "https://www.codewars.com/kata/52b757663a95b11b3d00062d\n",
        "\n",
        "Escriba una función toWeirdCase( weirdcaseen Ruby) que acepte una cadena y devuelva la misma cadena con todos los caracteres indexados pares en cada palabra en mayúsculas y todos los caracteres indexados impares en cada palabra en minúsculas. La indexación que se acaba de explicar se basa en cero, por lo que el índice cero-ésimo es par, por lo tanto, ese carácter debe estar en mayúsculas.\n",
        "\n",
        "La cadena pasada solo constará de caracteres alfabéticos y espacios ( ' '). Los espacios solo estarán presentes si hay varias palabras. Las palabras estarán separadas por un solo espacio ( ' ').\n",
        "\n",
        "\n",
        "Ejemplos:\n",
        "\n",
        "    to_weird_case('String'); # => returns 'StRiNg'\n",
        "    to_weird_case('Weird string case') # => returns 'WeIrD StRiNg CaSe'"
      ]
    },
    {
      "cell_type": "code",
      "metadata": {
        "id": "JPVpIW7rRxup"
      },
      "source": [
        "def to_weird_case(cadena):\n",
        "    pass\n"
      ],
      "execution_count": null,
      "outputs": []
    },
    {
      "cell_type": "code",
      "metadata": {
        "id": "bKWa-5zRRxo_"
      },
      "source": [
        "separa_en_lista = 'aldo es lindo'.split()"
      ],
      "execution_count": null,
      "outputs": []
    },
    {
      "cell_type": "code",
      "metadata": {
        "colab": {
          "base_uri": "https://localhost:8080/"
        },
        "id": "RpfeFXO7qOly",
        "outputId": "7d39e35a-4553-4671-8292-c56b0e8ff201"
      },
      "source": [
        "separa_en_lista"
      ],
      "execution_count": null,
      "outputs": [
        {
          "output_type": "execute_result",
          "data": {
            "text/plain": [
              "['aldo', 'es', 'lindo']"
            ]
          },
          "metadata": {
            "tags": []
          },
          "execution_count": 2
        }
      ]
    },
    {
      "cell_type": "code",
      "metadata": {
        "id": "YTkO11zhqbds"
      },
      "source": [
        "cadena = 'aldo es lindo'"
      ],
      "execution_count": null,
      "outputs": []
    },
    {
      "cell_type": "code",
      "metadata": {
        "id": "6W4DPGomqsSz"
      },
      "source": [
        "if cadena[]\n"
      ],
      "execution_count": null,
      "outputs": []
    },
    {
      "cell_type": "code",
      "metadata": {
        "colab": {
          "base_uri": "https://localhost:8080/"
        },
        "id": "U3J4kstYqzLK",
        "outputId": "69f6bda4-5990-4572-bff5-dc18b0e9c5f4"
      },
      "source": [
        "[separa_en_lista]"
      ],
      "execution_count": null,
      "outputs": [
        {
          "output_type": "execute_result",
          "data": {
            "text/plain": [
              "[['aldo', 'es', 'lindo']]"
            ]
          },
          "metadata": {
            "tags": []
          },
          "execution_count": 21
        }
      ]
    },
    {
      "cell_type": "code",
      "metadata": {
        "id": "ZMHAOtOIrz0Q"
      },
      "source": [
        "list(map(upper, x for x in cadena))"
      ],
      "execution_count": null,
      "outputs": []
    },
    {
      "cell_type": "code",
      "metadata": {
        "id": "NUoodedNsJfq"
      },
      "source": [
        "cadena = 'supercalifragilisticexpialidocious esta aqui'"
      ],
      "execution_count": null,
      "outputs": []
    },
    {
      "cell_type": "code",
      "metadata": {
        "id": "gIFz94pSszif"
      },
      "source": [
        "for h in cadena.split():\n",
        "    for i in range(len(h)):\n",
        "        if i%2 == 0:\n",
        "            print(h[i].upper())\n",
        "        else:\n",
        "            print(h[i])"
      ],
      "execution_count": null,
      "outputs": []
    },
    {
      "cell_type": "code",
      "metadata": {
        "id": "tmz3vr6ltdZX"
      },
      "source": [
        "list(s)"
      ],
      "execution_count": null,
      "outputs": []
    },
    {
      "cell_type": "code",
      "metadata": {
        "id": "DgMNwaYwhfyp"
      },
      "source": [
        ""
      ],
      "execution_count": null,
      "outputs": []
    },
    {
      "cell_type": "markdown",
      "metadata": {
        "id": "heG8MX0D62lI"
      },
      "source": [
        "\n",
        "https://www.codewars.com/kata/51e0007c1f9378fa810002a9/train/python\n",
        "\n",
        "Deadfish tiene 4 comandos, cada uno de 1 carácter:\n",
        "\n",
        "\n",
        "\n",
        "    i incrementa el valor (inicialmente 0)\n",
        "    d disminuye el valor\n",
        "    s cuadra el valor\n",
        "    o envía el valor a la matriz de retorno\n",
        "Los caracteres no válidos deben ignorarse.\n",
        "\n",
        "\n",
        "aplicando la funcion seria\n",
        "\n",
        "\n",
        "    parse(\"iiisdoso\")  ==>  [8, 64]\n",
        "\n",
        "\n",
        "\n",
        "\n",
        "algunos tests\n",
        "\n",
        "\n",
        "    test.assert_equals(parse(\"ooo\"), [0,0,0])\n",
        "    test.assert_equals(parse(\"ioioio\"), [1,2,3])\n",
        "    test.assert_equals(parse(\"idoiido\"), [0,1])\n",
        "    test.assert_equals(parse(\"isoisoiso\"), [1,4,25])\n",
        "    test.assert_equals(parse(\"codewars\"), [0])\n",
        "\n",
        "\n",
        "    def parse(data):\n",
        "        pass\n",
        "    "
      ]
    },
    {
      "cell_type": "code",
      "metadata": {
        "id": "7gq6W91F60cl"
      },
      "source": [
        "def parse(data):\n",
        "    list(data)"
      ],
      "execution_count": null,
      "outputs": []
    },
    {
      "cell_type": "code",
      "metadata": {
        "id": "OsEq_MIW7qeD"
      },
      "source": [
        "data2 = list(data)"
      ],
      "execution_count": null,
      "outputs": []
    },
    {
      "cell_type": "code",
      "metadata": {
        "id": "-Z0lEM0I713-",
        "colab": {
          "base_uri": "https://localhost:8080/"
        },
        "outputId": "3d1ac668-d1f1-4be8-b72a-c80c52894822"
      },
      "source": [
        "data2"
      ],
      "execution_count": null,
      "outputs": [
        {
          "output_type": "execute_result",
          "data": {
            "text/plain": [
              "['a', 'l', 'd', 'o']"
            ]
          },
          "metadata": {},
          "execution_count": 7
        }
      ]
    },
    {
      "cell_type": "code",
      "metadata": {
        "id": "5x-Y1I5X9FV_"
      },
      "source": [
        "data3 = [0]\n",
        "init = 0"
      ],
      "execution_count": null,
      "outputs": []
    },
    {
      "cell_type": "code",
      "metadata": {
        "id": "XWTM1dDI8EB8"
      },
      "source": [
        "'''i incrementa el valor (inicialmente 0)\n",
        "d disminuye el valor\n",
        "s cuadra el valor\n",
        "o envía el valor a la matriz de retorno'''\n",
        "j = 0\n",
        "def parse(data):\n",
        "    if list(data)"
      ],
      "execution_count": null,
      "outputs": []
    },
    {
      "cell_type": "code",
      "metadata": {
        "id": "Vve4cAfO-5yk",
        "colab": {
          "base_uri": "https://localhost:8080/"
        },
        "outputId": "4f4107d8-be12-4a9c-9b96-19aaaefe442f"
      },
      "source": [
        "sum([1, -1, 2, 6])"
      ],
      "execution_count": null,
      "outputs": [
        {
          "output_type": "execute_result",
          "data": {
            "text/plain": [
              "8"
            ]
          },
          "metadata": {},
          "execution_count": 29
        }
      ]
    },
    {
      "cell_type": "code",
      "metadata": {
        "id": "pxv0RwK7_EAD",
        "colab": {
          "base_uri": "https://localhost:8080/"
        },
        "outputId": "2ac3f375-2258-4064-d101-d38794d3ff18"
      },
      "source": [
        "[zip(data3)]"
      ],
      "execution_count": null,
      "outputs": [
        {
          "output_type": "execute_result",
          "data": {
            "text/plain": [
              "[<zip at 0x7f2e3c7ecb40>]"
            ]
          },
          "metadata": {},
          "execution_count": 43
        }
      ]
    },
    {
      "cell_type": "code",
      "metadata": {
        "id": "X-PL7Tns_Wda",
        "colab": {
          "base_uri": "https://localhost:8080/",
          "height": 36
        },
        "outputId": "19a4d6b4-cc4a-482a-b9ca-136b5118b488"
      },
      "source": [
        "data"
      ],
      "execution_count": null,
      "outputs": [
        {
          "output_type": "execute_result",
          "data": {
            "application/vnd.google.colaboratory.intrinsic+json": {
              "type": "string"
            },
            "text/plain": [
              "'aldo'"
            ]
          },
          "metadata": {},
          "execution_count": 47
        }
      ]
    },
    {
      "cell_type": "code",
      "metadata": {
        "id": "yBZkjLZZBeWB"
      },
      "source": [
        "[2 ** x for x in range(0xfff)]"
      ],
      "execution_count": null,
      "outputs": []
    },
    {
      "cell_type": "code",
      "metadata": {
        "id": "s9iGxhMtDxEQ"
      },
      "source": [
        "answer = [(x, x**2) for x in data if x % 2 == 0]"
      ],
      "execution_count": null,
      "outputs": []
    },
    {
      "cell_type": "markdown",
      "metadata": {
        "id": "cLzzohMrHXPi"
      },
      "source": [
        "    map(fun, iter)"
      ]
    },
    {
      "cell_type": "code",
      "metadata": {
        "id": "RyBoZ7qTGcmE",
        "colab": {
          "base_uri": "https://localhost:8080/"
        },
        "outputId": "95d704bc-7010-4eea-8d98-86c7e64d4e66"
      },
      "source": [
        "list(map(list, ['sñfo']))"
      ],
      "execution_count": null,
      "outputs": [
        {
          "output_type": "execute_result",
          "data": {
            "text/plain": [
              "[['s', 'ñ', 'f', 'o']]"
            ]
          },
          "metadata": {},
          "execution_count": 57
        }
      ]
    },
    {
      "cell_type": "code",
      "metadata": {
        "id": "gGUaEvPEHJnJ",
        "colab": {
          "base_uri": "https://localhost:8080/"
        },
        "outputId": "f43ff521-e763-4ad5-ac18-6a9af69afbdb"
      },
      "source": [
        "list(map(lambda x: x**x, [1, 2, 5]))"
      ],
      "execution_count": null,
      "outputs": [
        {
          "output_type": "execute_result",
          "data": {
            "text/plain": [
              "[1, 4, 3125]"
            ]
          },
          "metadata": {},
          "execution_count": 58
        }
      ]
    },
    {
      "cell_type": "code",
      "metadata": {
        "id": "jxspYhdvH4xz",
        "colab": {
          "base_uri": "https://localhost:8080/"
        },
        "outputId": "837f8da0-9098-4930-941d-f1155a81a3dd"
      },
      "source": [
        "print(enumerate(list(data)))"
      ],
      "execution_count": null,
      "outputs": [
        {
          "output_type": "stream",
          "text": [
            "<enumerate object at 0x7f2e3cf03640>\n"
          ],
          "name": "stdout"
        }
      ]
    },
    {
      "cell_type": "code",
      "metadata": {
        "id": "KbfcAVvuJkGg",
        "colab": {
          "base_uri": "https://localhost:8080/"
        },
        "outputId": "c3c392eb-11ac-455e-b0cf-a1bc32654605"
      },
      "source": [
        "print (f'enumerar el resultado de ejecución {dict(enumerate(list(data)))} ')"
      ],
      "execution_count": null,
      "outputs": [
        {
          "output_type": "stream",
          "text": [
            "enumerar el resultado de ejecución {0: 'a', 1: 'l', 2: 'd', 3: 'o'} \n"
          ],
          "name": "stdout"
        }
      ]
    },
    {
      "cell_type": "code",
      "metadata": {
        "colab": {
          "base_uri": "https://localhost:8080/"
        },
        "id": "gjVwsVkSJ62x",
        "outputId": "85a263d4-ac72-4a43-9997-2c032e30d477"
      },
      "source": [
        "a ='gffdjjk'\n",
        "b = enumerate(a)\n",
        "'''enumerate (objeto iterable)\n",
        "         Enumeración de objetos (función incorporada * los parámetros entrantes son objetos iterables) \n",
        "         Retorno (objeto iterable) \n",
        "         El objeto recibido es list, tuple, set (el elemento objeto ha sido devuelto por el tipo de tupla (index, element) * entrante dict (index, key)),\n",
        "         El objeto recibido es dict (devolver pares clave-valor {índice, elemento} * entrante dict {índice, clave})\n",
        "'''\n",
        "print(\"f'enumerar el resultado de ejecución {dict (b)} '\")\n",
        "\n",
        "\n",
        "a = 'name','age'\n",
        "b = 'Xiao Ming', '18'\n",
        "c = zip(a,b)\n",
        "'''\n",
        "zip (objeto iterable, objeto iterable)\n",
        "         Emparejamiento (función incorporada * los parámetros entrantes son objetos iterables)\n",
        "         Par de retorno (objeto iterable) \n",
        "         El objeto recibido es list, tuple, set (el elemento del objeto se ha emparejado con el tipo de tupla, return (element, element) * entrante dict (clave, clave))\n",
        "         El objeto recibido es dict (devolver pares clave-valor {elemento, elemento} * entrante dict {clave, clave})\n",
        "'''\n",
        "print(\"resultado de ejecución f'zip {list (c)} '\")\n",
        "\n",
        "\n",
        "a =  {1, 2, 3, 4, 5}\n",
        "b = map(lambda c: c * 2, a)\n",
        "'''\n",
        "map (función, lista, tupla, conjunto)\n",
        "         Recibe una función y una lista, tupla, conjunto\n",
        "         Pase los elementos en la lista, tupla y configúrelos en la función para procesar\n",
        "         Retorno (objeto iterable)\n",
        "'''\n",
        "print(\"f'map ejecucion resultado {list (b)} '\")\n",
        "\n",
        "\n",
        "exec('a = 2 ** 4')\n",
        "'''\n",
        "exec (expresión matemática de asignación de tipo de cadena)\n",
        "         Identificar expresión de asignación * Expresión numérica\n",
        "         Retorno (variable de asignación)\n",
        "'''\n",
        "print(\"resultado de ejecución f'exec {a} '\")\n",
        "\n",
        "a ='[1,2,3]+[4,5,6]'\n",
        "b = eval(a)\n",
        "'''\n",
        "eval (expresión del tipo de cadena)\n",
        "         Expresión de reconocimiento\n",
        "         Retorno (resultado de la expresión)\n",
        "'''\n",
        "print(\"resultado de ejecución f'eval {b} '\")\n",
        "\n",
        "\n",
        "a = filter(lambda i: i % 5 == 0 and i != 0,range(101))\n",
        "'''\n",
        "filer (valor bool devuelto por la función, lista, tupla, conjunto)\n",
        "         Retorno (resultado de ejecución con valor bool de True)\n",
        "'''\n",
        "print(f'filter ejecucion resultado {list (a)} ')\n",
        "\n",
        "a = [1,2,3,4,5,6,7]\n",
        "b = iter (a) #definir iterador\n",
        "print('Resultado del iterador:')\n",
        "print(\"siguiente (b)) # Valor del iterador (saque el valor en el iterador a su vez. * Solo se puede obtener un valor en el iterador a la vez\")\n",
        "print(next(b))\n",
        "print(next(b))\n",
        "print(next(b))"
      ],
      "execution_count": null,
      "outputs": [
        {
          "output_type": "stream",
          "text": [
            "f'enumerar el resultado de ejecución {dict (b)} '\n",
            "resultado de ejecución f'zip {list (c)} '\n",
            "f'map ejecucion resultado {list (b)} '\n",
            "resultado de ejecución f'exec {a} '\n",
            "resultado de ejecución f'eval {b} '\n",
            "filter ejecucion resultado [5, 10, 15, 20, 25, 30, 35, 40, 45, 50, 55, 60, 65, 70, 75, 80, 85, 90, 95, 100] \n",
            "Resultado del iterador:\n",
            "siguiente (b)) # Valor del iterador (saque el valor en el iterador a su vez. * Solo se puede obtener un valor en el iterador a la vez\n",
            "1\n",
            "2\n",
            "3\n"
          ],
          "name": "stdout"
        }
      ]
    },
    {
      "cell_type": "code",
      "metadata": {
        "id": "FuS2szaJLai-",
        "colab": {
          "base_uri": "https://localhost:8080/"
        },
        "outputId": "5c201506-8799-4487-f491-2da18f2ee38a"
      },
      "source": [
        "list(enumerate('gffdjjk'))\n"
      ],
      "execution_count": null,
      "outputs": [
        {
          "output_type": "execute_result",
          "data": {
            "text/plain": [
              "[(0, 'g'), (1, 'f'), (2, 'f'), (3, 'd'), (4, 'j'), (5, 'j'), (6, 'k')]"
            ]
          },
          "metadata": {},
          "execution_count": 72
        }
      ]
    },
    {
      "cell_type": "code",
      "metadata": {
        "colab": {
          "base_uri": "https://localhost:8080/"
        },
        "id": "envDYnJVNgYT",
        "outputId": "85a263d4-ac72-4a43-9997-2c032e30d477"
      },
      "source": [
        "a ='gffdjjk'\n",
        "b = enumerate(a)\n",
        "'''enumerate (objeto iterable)\n",
        "         Enumeración de objetos (función incorporada * los parámetros entrantes son objetos iterables) \n",
        "         Retorno (objeto iterable) \n",
        "         El objeto recibido es list, tuple, set (el elemento objeto ha sido devuelto por el tipo de tupla (index, element) * entrante dict (index, key)),\n",
        "         El objeto recibido es dict (devolver pares clave-valor {índice, elemento} * entrante dict {índice, clave})\n",
        "'''\n",
        "print(\"f'enumerar el resultado de ejecución {dict (b)} '\")\n",
        "\n",
        "\n",
        "a = 'name','age'\n",
        "b = 'Xiao Ming', '18'\n",
        "c = zip(a,b)\n",
        "'''\n",
        "zip (objeto iterable, objeto iterable)\n",
        "         Emparejamiento (función incorporada * los parámetros entrantes son objetos iterables)\n",
        "         Par de retorno (objeto iterable) \n",
        "         El objeto recibido es list, tuple, set (el elemento del objeto se ha emparejado con el tipo de tupla, return (element, element) * entrante dict (clave, clave))\n",
        "         El objeto recibido es dict (devolver pares clave-valor {elemento, elemento} * entrante dict {clave, clave})\n",
        "'''\n",
        "print(\"resultado de ejecución f'zip {list (c)} '\")\n",
        "\n",
        "\n",
        "a =  {1, 2, 3, 4, 5}\n",
        "b = map(lambda c: c * 2, a)\n",
        "'''\n",
        "map (función, lista, tupla, conjunto)\n",
        "         Recibe una función y una lista, tupla, conjunto\n",
        "         Pase los elementos en la lista, tupla y configúrelos en la función para procesar\n",
        "         Retorno (objeto iterable)\n",
        "'''\n",
        "print(\"f'map ejecucion resultado {list (b)} '\")\n",
        "\n",
        "\n",
        "exec('a = 2 ** 4')\n",
        "'''\n",
        "exec (expresión matemática de asignación de tipo de cadena)\n",
        "         Identificar expresión de asignación * Expresión numérica\n",
        "         Retorno (variable de asignación)\n",
        "'''\n",
        "print(\"resultado de ejecución f'exec {a} '\")\n",
        "\n",
        "a ='[1,2,3]+[4,5,6]'\n",
        "b = eval(a)\n",
        "'''\n",
        "eval (expresión del tipo de cadena)\n",
        "         Expresión de reconocimiento\n",
        "         Retorno (resultado de la expresión)\n",
        "'''\n",
        "print(\"resultado de ejecución f'eval {b} '\")\n",
        "\n",
        "\n",
        "a = filter(lambda i: i % 5 == 0 and i != 0,range(101))\n",
        "'''\n",
        "filer (valor bool devuelto por la función, lista, tupla, conjunto)\n",
        "         Retorno (resultado de ejecución con valor bool de True)\n",
        "'''\n",
        "print(f'filter ejecucion resultado {list (a)} ')\n",
        "\n",
        "a = [1,2,3,4,5,6,7]\n",
        "b = iter (a) #definir iterador\n",
        "print('Resultado del iterador:')\n",
        "print(\"siguiente (b)) # Valor del iterador (saque el valor en el iterador a su vez. * Solo se puede obtener un valor en el iterador a la vez\")\n",
        "print(next(b))\n",
        "print(next(b))\n",
        "print(next(b))"
      ],
      "execution_count": null,
      "outputs": [
        {
          "output_type": "stream",
          "text": [
            "f'enumerar el resultado de ejecución {dict (b)} '\n",
            "resultado de ejecución f'zip {list (c)} '\n",
            "f'map ejecucion resultado {list (b)} '\n",
            "resultado de ejecución f'exec {a} '\n",
            "resultado de ejecución f'eval {b} '\n",
            "filter ejecucion resultado [5, 10, 15, 20, 25, 30, 35, 40, 45, 50, 55, 60, 65, 70, 75, 80, 85, 90, 95, 100] \n",
            "Resultado del iterador:\n",
            "siguiente (b)) # Valor del iterador (saque el valor en el iterador a su vez. * Solo se puede obtener un valor en el iterador a la vez\n",
            "1\n",
            "2\n",
            "3\n"
          ],
          "name": "stdout"
        }
      ]
    },
    {
      "cell_type": "code",
      "metadata": {
        "id": "A_F4dNeQPFMd"
      },
      "source": [
        "add,subt,multiply,divide,exponent,mod=int.__add__,int.__sub__,int.__mul__,int.__truediv__,pow,int.__mod__\n"
      ],
      "execution_count": null,
      "outputs": []
    },
    {
      "cell_type": "code",
      "metadata": {
        "id": "S1TBvZfQPFxU",
        "colab": {
          "base_uri": "https://localhost:8080/"
        },
        "outputId": "a721c9e5-18b8-402a-c1bd-dbe8042968d5"
      },
      "source": [
        "add(3, 4)"
      ],
      "execution_count": null,
      "outputs": [
        {
          "output_type": "execute_result",
          "data": {
            "text/plain": [
              "7"
            ]
          },
          "metadata": {},
          "execution_count": 74
        }
      ]
    },
    {
      "cell_type": "code",
      "metadata": {
        "id": "IIsGsJ-fSLbo",
        "colab": {
          "base_uri": "https://localhost:8080/"
        },
        "outputId": "5caa8c3c-5b35-42aa-a5f5-f602fa795134"
      },
      "source": [
        "!git init"
      ],
      "execution_count": null,
      "outputs": [
        {
          "output_type": "stream",
          "text": [
            "Initialized empty Git repository in /content/.git/\n"
          ],
          "name": "stdout"
        }
      ]
    },
    {
      "cell_type": "code",
      "metadata": {
        "id": "1fz8WH_xPHrl"
      },
      "source": [
        "!git add *"
      ],
      "execution_count": null,
      "outputs": []
    },
    {
      "cell_type": "code",
      "metadata": {
        "id": "qMfFmGC_T5Vo"
      },
      "source": [
        "!git config --global user.email \"manfredialdo3@gmail.com\""
      ],
      "execution_count": null,
      "outputs": []
    },
    {
      "cell_type": "code",
      "metadata": {
        "id": "0CU1vWyzSJj9",
        "colab": {
          "base_uri": "https://localhost:8080/"
        },
        "outputId": "3aadd7b1-1c67-4dfc-c900-eb8803c5703b"
      },
      "source": [
        "!git commit -m \"actualizando repo de ejercicios\""
      ],
      "execution_count": null,
      "outputs": [
        {
          "output_type": "stream",
          "text": [
            "On branch master\n",
            "Untracked files:\n",
            "\t\u001b[31m.config/\u001b[m\n",
            "\n",
            "nothing added to commit but untracked files present\n"
          ],
          "name": "stdout"
        }
      ]
    },
    {
      "cell_type": "code",
      "metadata": {
        "id": "v2jDQaoGSQBA",
        "colab": {
          "base_uri": "https://localhost:8080/"
        },
        "outputId": "d2816c9d-1ef5-4776-c5a4-b1842ffa5d48"
      },
      "source": [
        "!git push"
      ],
      "execution_count": null,
      "outputs": [
        {
          "output_type": "stream",
          "text": [
            "fatal: No configured push destination.\n",
            "Either specify the URL from the command-line or configure a remote repository using\n",
            "\n",
            "    git remote add <name> <url>\n",
            "\n",
            "and then push using the remote name\n",
            "\n",
            "    git push <name>\n",
            "\n"
          ],
          "name": "stdout"
        }
      ]
    },
    {
      "cell_type": "code",
      "metadata": {
        "id": "0aXZh_7bSSVH"
      },
      "source": [
        "!git remote add my_awesome_new_remote_repo git@git.assembla.com:portfolio/space.space_name.git"
      ],
      "execution_count": null,
      "outputs": []
    }
  ]
}
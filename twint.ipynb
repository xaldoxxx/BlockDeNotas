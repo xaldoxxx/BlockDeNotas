{
  "nbformat": 4,
  "nbformat_minor": 0,
  "metadata": {
    "colab": {
      "provenance": [],
      "authorship_tag": "ABX9TyP+JE27sCa170JB1CEwMXuB",
      "include_colab_link": true
    },
    "kernelspec": {
      "name": "python3",
      "display_name": "Python 3"
    },
    "language_info": {
      "name": "python"
    }
  },
  "cells": [
    {
      "cell_type": "markdown",
      "metadata": {
        "id": "view-in-github",
        "colab_type": "text"
      },
      "source": [
        "<a href=\"https://colab.research.google.com/github/xaldoxxx/BlockDeNotas/blob/main/twint.ipynb\" target=\"_parent\"><img src=\"https://colab.research.google.com/assets/colab-badge.svg\" alt=\"Open In Colab\"/></a>"
      ]
    },
    {
      "cell_type": "markdown",
      "source": [
        "raspador de twitter sin usar la api de twitter\n"
      ],
      "metadata": {
        "id": "siaBN4Kfrqk-"
      }
    },
    {
      "cell_type": "code",
      "execution_count": null,
      "metadata": {
        "id": "oUbL539mroCf"
      },
      "outputs": [],
      "source": [
        "!pip install nest-asyncio==1.5.3\n",
        "!pip install aiohttp==3.7.0\n",
        "!git clone --depth=1 https://github.com/twintproject/twint.git\n",
        "!cd /content/twint && pip3 install . -r requirements.txt"
      ]
    },
    {
      "cell_type": "code",
      "source": [
        "import twint # https://github.com/twintproject/twint/wiki\n",
        "import nest_asyncio\n",
        "nest_asyncio.apply()\n",
        "import time\n",
        "import pandas as pd\n",
        "import os\n",
        "import re\n",
        "timestr = time.strftime(\"%Y%m%d\")\n",
        "\n",
        "c = twint.Config()\n",
        "c.Limit = 1000\n",
        "c.Lang = \"es\"\n",
        "c.Store_csv = True\n",
        "c.Search = \"extraer datos python\"\n",
        "c.Output = timestr + \"data.csv\"\n",
        "twint.run.Search(c)"
      ],
      "metadata": {
        "colab": {
          "base_uri": "https://localhost:8080/"
        },
        "id": "a9c-V8Kur7ld",
        "outputId": "13102686-28f1-436a-dd64-bd577f66b513"
      },
      "execution_count": 4,
      "outputs": [
        {
          "output_type": "stream",
          "name": "stdout",
          "text": [
            "1575847969148268544 2022-09-30 14:00:08 +0000 <diegocambiaso> Día 19 de #100DaysOfCode #Python #Pythontips  Continuando con: Requests, BeautifulSoup, Scrapy y Selenium para extraer datos de una página web  #pythonprogramming #pythonlearning #pythoncode #100daysofcoding #100daysofcodechallenge\n",
            "1575572731974000645 2022-09-29 19:46:26 +0000 <diegocambiaso> Día 19 de #100DaysOfCode  Web Scraping con #Python   Introducción a Requests, BeautifulSoup, Scrapy y Selenium para extraer datos de una página web  #pythonprogramming #pythonlearning #pythoncode #100DaysOfCode  #100daysofcodechallenge  #coding  https://t.co/sAYYb1NZrw\n",
            "1574324217775935490 2022-09-26 09:05:17 +0000 <OctoparseES> 4 formas de extraer datos de una tabla 👉 https://t.co/Jb6x8vw55l 1. Octoparse 2. Google sheets 3. Lenguaje R 4. Python  Podrías ir al blog a conocer los pasos detallados para extraerlos.  https://t.co/E659NGxIW4\n",
            "1573182106842599424 2022-09-23 05:26:57 +0000 <martinezjesusfl> No aprendí js pero si cree el script para extraer los datos del CRM 😍 utilizando python 🐍\n",
            "1571920812072144897 2022-09-19 17:55:01 +0000 <Reclunautas1> Reclunautas los invitamos al #MeetUp, organizado por @lewagonmx, para aprender a extraer datos con #Python, aquí los detalles:  https://t.co/eJRukmS3Br #Eventos @RecluITmx #Desarrollo #Comunidad\n",
            "1570665049601064960 2022-09-16 06:45:04 +0000 <j2logo> Web #scraping con Python. Extraer datos de una web. Guía de inicio de Beautiful Soup  https://t.co/gDKM5XeUuM #avanzado #python\n",
            "1570285902987161600 2022-09-15 05:38:28 +0000 <is_lu_is> @AngelSeisdedos @rubenalonsoes Yo admiro mucho cuando veo a @rubenalonsoes extraer datos de páginas, parsear textos y luego convertirlo en cosas mágicas. Cuando la cosa se pone muy compleja, me siento más tentado a hacer un script en python antes de usar Make 😂\n",
            "1567774662066569216 2022-09-08 07:19:41 +0000 <Satxrn62> @meme_feminista Y se debe de conocer sobre estadística y varios de los métodos que se utilizan para extraer información de los datos son como lenguajes de programación, SQL, python, etc. Y para graficar puede ser útil Power BI y así.\n",
            "1566961339683459073 2022-09-06 01:27:50 +0000 <NoeOsorioPK> @leonpalafox Visto eso mostraría como extraer los datos ya sea con R o con python con solo poner el nombre, porque ya sabes de donde vienen que tienen y qué niveles hay de desagregación a parte que puede tener el diccionario :) . Lo del CP no sé.\n",
            "1558534354925764613 2022-08-13 19:22:01 +0000 <ljmaldon> ¿Cómo extraer la intensidad de luz nocturna de imágenes satelitales? En este post (español) doy consejos para realizar estudios con datos de luz nocturna y comparto un código desarrollado en Python basado en el módulo ArcPy. #remotesensing #nightlights  https://t.co/3vFMax2QHe\n",
            "1554543070783410179 2022-08-02 19:02:04 +0000 <DataScience_Pe> 📍 El #DataScientist se dedica a recolectar, analizar e interpretar grandes volúmenes de datos para extraer la información relevante de ellos. Para lograrlo, es importante ser un profesional capaz de analizar y dar sentido a todos esos datos.  #datascience #python #dsrp  https://t.co/0cSeA1VDK5\n",
            "1549728085465088000 2022-07-20 12:09:02 +0000 <CandyFG> Y ¿para qué sirven los #datos?  Para cosas tan divertidas como encontrar tu próximo festival de música 😀  ¡Leíste bien!  En este webinar usaras Python para cargar, extraer y analizar datos.   Regístrate 👇🏽  https://t.co/FkVhIWDOIb  https://t.co/tiw1k77RoG\n",
            "1544129688771100677 2022-07-05 01:23:01 +0000 <AbrahamValencia> @malena_maguina Compararlos es medio complicado, uno es una hoja de cálculo y el otro es un lenguaje de programación. Ah, eso sí, para Web Scraping y/o extraer datos, no pongo en tela de juicio que Python mata a Excel jejeje. Saludos.\n",
            "1541857199764520961 2022-06-28 18:52:57 +0000 <perito_inf> 𝗕𝗲𝗮𝘂𝘁𝗶𝗳𝘂𝗹 𝗦𝗼𝘂𝗽 𝟰 Beautiful Soup es un paquete de Python para analizar documentos HTML y XML. Crea un árbol de análisis de las páginas analizadas que puede utilizarse para extraer datos de HTML, lo que resulta útil para el scraping web.\n",
            "1539667379843743744 2022-06-22 17:51:23 +0000 <JoseMorenoji> No quiero cantar victoria, pero después de 4 días en intensivo de R a Python, de Orange a Grapthext, y viceversa he conseguido extraer y medir datos en el conjunto, sino en los subconjuntos de datos (y no solo polaridad, también emociones).\n",
            "1537101076993826816 2022-06-15 15:53:49 +0000 <AlexRomeroSEO> Os comparto un script en Python para extraer en bulk ideas de contenido usando las People Also Ask, datos de GSC y datos on page de las URLs con las que identificar buenas oportunidades de optimización  El resultado es este de la imagen  https://t.co/F7az5Lb1oc\n",
            "1534625560600596480 2022-06-08 19:57:00 +0000 <aithenewsexy> Python ofrece una amplia gama de herramientas para acceder, analizar y extraer información de los datos financieros.  https://t.co/NFbEGqceIG\n",
            "1531730166912884736 2022-05-31 20:11:44 +0000 <AlexRomeroSEO> Pronto subiré un script para extraer ideas de contenido en bulk utilizando las People Also Ask. Te escrapea las PAA para la keyword más relevante de cada URL (segun datos de GSC) junto a title y encabezados para que evalúes si ya estás incluyendo la información.  #seo #python  https://t.co/jNjzI5GA4X\n",
            "1531693302189330435 2022-05-31 17:45:15 +0000 <manu_schere> En el trabajo estoy utilizando #Python con la librería #Pandas para tratamiento masivo de datos y aunque el entorno #Data no es precisamente de mi agrado reconozco que es una herramienta muy potente. Puede extraer datos de fuentes muy diversas como Excel, CSVs o incluso Wikipedia\n",
            "1521754904087433217 2022-05-04 07:33:36 +0000 <jluisperezg> @homepablo Prorealtime es muy bonita, muy fácil todo pero da una inseguridad brutal en el backtest de las estrategias, por eso quiero extraer datos en bruto, el máximo número de velas que pueda y testearlas con python, R o el lenguaje que sea de manera independiente.\n",
            "[!] No more data! Scraping will stop now.\n",
            "found 0 deleted tweets in this search.\n"
          ]
        }
      ]
    },
    {
      "cell_type": "code",
      "source": [],
      "metadata": {
        "id": "irjeee5duVAV"
      },
      "execution_count": null,
      "outputs": []
    },
    {
      "cell_type": "code",
      "source": [],
      "metadata": {
        "id": "OUiUxZA6sQ2I"
      },
      "execution_count": null,
      "outputs": []
    }
  ]
}
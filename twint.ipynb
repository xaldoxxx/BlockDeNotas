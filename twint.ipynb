{
  "nbformat": 4,
  "nbformat_minor": 0,
  "metadata": {
    "colab": {
      "provenance": [],
      "authorship_tag": "ABX9TyPz8bHCIlxF+MgxviP6L14Z",
      "include_colab_link": true
    },
    "kernelspec": {
      "name": "python3",
      "display_name": "Python 3"
    },
    "language_info": {
      "name": "python"
    }
  },
  "cells": [
    {
      "cell_type": "markdown",
      "metadata": {
        "id": "view-in-github",
        "colab_type": "text"
      },
      "source": [
        "<a href=\"https://colab.research.google.com/github/xaldoxxx/BlockDeNotas/blob/main/twint.ipynb\" target=\"_parent\"><img src=\"https://colab.research.google.com/assets/colab-badge.svg\" alt=\"Open In Colab\"/></a>"
      ]
    },
    {
      "cell_type": "markdown",
      "source": [
        "raspador de twitter sin usar la api de twitter\n"
      ],
      "metadata": {
        "id": "siaBN4Kfrqk-"
      }
    },
    {
      "cell_type": "code",
      "execution_count": null,
      "metadata": {
        "id": "oUbL539mroCf"
      },
      "outputs": [],
      "source": [
        "!pip install nest-asyncio==1.5.3\n",
        "!pip install aiohttp==3.7.0\n",
        "!git clone --depth=1 https://github.com/twintproject/twint.git\n",
        "!cd /content/twint && pip3 install . -r requirements.txt"
      ]
    },
    {
      "cell_type": "markdown",
      "source": [
        "extraer datos a csv a partir de una cadena dada"
      ],
      "metadata": {
        "id": "CP5NJXFb_321"
      }
    },
    {
      "cell_type": "code",
      "source": [
        "import twint # https://github.com/twintproject/twint/wiki\n",
        "import nest_asyncio\n",
        "nest_asyncio.apply()\n",
        "import time\n",
        "import pandas as pd\n",
        "import os\n",
        "import re\n",
        "timestr = time.strftime(\"%Y%m%d\")\n",
        "\n",
        "c = twint.Config()\n",
        "c.Limit = 1000\n",
        "c.Lang = \"es\"\n",
        "c.Store_csv = True\n",
        "c.Search = \"latam trainee\"   # cadena a modificar\n",
        "c.Output = timestr + \"data.csv\"\n",
        "twint.run.Search(c)"
      ],
      "metadata": {
        "colab": {
          "base_uri": "https://localhost:8080/"
        },
        "id": "a9c-V8Kur7ld",
        "outputId": "c42ec11d-722f-437a-8ba9-021bac2dd7cd"
      },
      "execution_count": 23,
      "outputs": [
        {
          "output_type": "stream",
          "name": "stdout",
          "text": [
            "1575893451547480064 2022-09-30 17:00:52 +0000 <AmeriHealthFoun> and moderator trainee Gayatri Sanku, Ph.D. for your fantastic contribution to this project.    Click to see more from this conference:  https://t.co/tl2pyd7DSP  #HTA #rarediseases #healthtechnologyassessment #latinamerica #latam #LA\n",
            "1575093860375863302 2022-09-28 12:03:34 +0000 <jcconcursos> Latam abriu 20 vagas de estágio para quatro cidades de São Paulo  https://t.co/pUYVXRgxjX #emprego #estagio #trainee  https://t.co/pboDQX9wfG\n",
            "1574820582696394753 2022-09-27 17:57:40 +0000 <taekook_latam> El director coreográfo de bts, Son Sung Deuk, mencionó a Jungkook en una entrevista:  \"Bang PD me entregó el presupuesto y me pidió que llevara al trainee con más potencial conmigo a USA, así que estaba pensando en a quién llevar,\n",
            "1574802936458248198 2022-09-27 16:47:33 +0000 <ThalesLATAM> Para celebrar el día del estudiante, trainees de diferentes funciones y unidades de negocio de #Thales Argentina participaron de acciones de integración y una rueda de conversación para el intercambio de experiencias.  https://t.co/2kvz7hUWe1\n",
            "1574400807184785412 2022-09-26 14:09:38 +0000 <ctlatam> ¿Eres recién egresado/a o te gradúas hasta diciembre 2022?   Para ayudarte a sobresalir, invitamos a nuestros/as Trainees a compartir algunos consejos. ¡Dale play y anímate a ser parte de la próxima generación de PepsiCo Next Gen!    ¡Postúlate ahora!  https://t.co/rKFCGXRwnF  https://t.co/6JCcoep0kM\n",
            "1573438445867118592 2022-09-23 22:25:33 +0000 <yeonjun_latam> [Trad]  👤: bailaste tan bien ‘new thing’…como se esperaba, el trainee legendario de bighit esta en otro nivel  🦊: jeje graciassss~   Cr.translatingtxt-🧸  투모로우바이투게더 연준 #연준 #투모로우바이투게더 #YEONJUN #ヨンジュン @TXT_members @TXT_bighit  https://t.co/CZG96pVYpl\n",
            "1571904995615772672 2022-09-19 16:52:10 +0000 <gabrielvallesh> @Mundacio Entonces que se cuente como pasantía y se adapten las condiciones contractuales al concepto de pasantías o incluso un perfil laboral trainee. Si no impulsamos políticas laborales sanas en latam, esto no va a terminar nunca.\n",
            "1570901266242633729 2022-09-16 22:23:42 +0000 <Latam_TNX> [💙#TNX en Weverse] | LIVE | [220916]  Sobre este GIF, Hyunsoo dijo que era de los días de trainee. Taehun estaba filmando un video de baile y Hyunsoo se aburrió.  +  ©️ Peachiehunn  #HyunSoo #장현수 #TNX @TNX_Official   https://t.co/ND2tFCaFsa\n",
            "1568340696490250242 2022-09-09 20:48:55 +0000 <letibarrios20> ✔️REACT TRAINEE 🇦🇷 https://t.co/vReADJyErs  ✔️RECRUITER IT JR 🇲🇽 https://t.co/d9V66GiWdY  ✔️RUBY JR 🇺🇾 https://t.co/Y4QOONOLm6  ✔️SALESFORCE DEVN JR 🇺🇾 https://t.co/zRUmNkMCXN  ✔️SOFTWARE DEV JR 🇺🇾 https://t.co/aBsRlKZWPi  ✔️SOFTWARE ENGINEERS JR LATAM  https://t.co/UPIyv74OZz\n",
            "1568340690073010178 2022-09-09 20:48:53 +0000 <letibarrios20> ✔️JAVA JR/TRAINEE 🇦🇷 https://t.co/7MBH4RuzfA  ✔️JAVA TALENT CAMP 🇦🇷 https://t.co/GA6AtHHpuv  ✔️JR DESIGNER 🇦🇷  https://t.co/P4sAXinnDE  ✔️LOW CODE DEV INTERN 🇨🇴 https://t.co/hGGmrGB6al  ✔️MOBILE IOS JR 🇦🇷 https://t.co/5kjiZuFXhG  ✔️NO CODE JR DEV LATAM  https://t.co/E4hYXKISlY\n",
            "1566236485908631552 2022-09-04 01:27:32 +0000 <lamagadepython> QA ANALYST JR LATAM  https://t.co/CX6vRAFUxM  QA AUTOMATION JR ARG  https://t.co/uKZOk00bMZ  QA MANUAL JR ARG  https://t.co/zgfMNRzAaO  QA MANUAL JR  https://t.co/RxGusDdpsF  QA TRAINEE ARG  https://t.co/V1HLboo90u PYTHON JR ARG  https://t.co/kMVvG7lmUt\n",
            "1565512579950301184 2022-09-02 01:30:59 +0000 <Drippin_Latam> 〔🎥VIDEO |02/09/22〕  Se cumplen 3 años del lanzamiento de la canción 1MS1 de #W_PROJECT_4, canción con la que se muestra el talento de los trainees de Wollim en ese entonces.    🔗  https://t.co/NN3Vxe0zku  #LEEHYEOP #HWANGYUNSEONG #JOOCHANGUK  #KIMDONGYUN #KIMMINSEO #LEESUNGJUN  https://t.co/KsCidAIj15\n",
            "1565146939011768321 2022-09-01 01:18:03 +0000 <vorozco07> En Latam el 90% es Trainee 🙃\n",
            "1562958254602194944 2022-08-26 00:21:00 +0000 <ettaakk> No importa si eres Trainee, Junior o Senior, tu talento va primero y en Soy Startup Latam creemos que todos nacemos con las mismas capacidades de aprender.  🙌🏻🙌🏻   Tenemos oportunidades increíbles para Product Designers y UX/UI Designers.  🤌🏽Aquí:  https://t.co/CsNIrYVskF\n",
            "1561101676144168961 2022-08-20 21:23:38 +0000 <andTEAM_LATAM> PASO 7: Marcamos a nuestro favorito  *La elección es libre, solo puedes votar una vez al día y por un solo trainee* #andAUDITION  https://t.co/BnJzKyUj2m\n",
            "1560298259830059008 2022-08-18 16:11:08 +0000 <DrKarenOrjuela> @ALATACV is a new alliance that brings early career neurologists together. I am mind blown 🤯 about this growing community, they are committed to their patients, trainees, countries and of course LATAM!\n",
            "1558081899892989952 2022-08-12 13:24:07 +0000 <asaditojs> 🔥 Talent Camp Java   En NTT DATA Europe &amp; Latam cuentan con nuevas vacantes para Talent Camp Java para trainees que quieran aprender este lenguaje  Para aplicar: 👇👇   https://t.co/IZ0s5JzVVw  https://t.co/i9rw0L9Xiw\n",
            "1556644818012590080 2022-08-08 14:13:40 +0000 <Latam_TNX> [💙#TNX en Weverse] | LIVE | [220808]   👤: ¿Episodios divertidos de 'Trainee'? 🐻: Durante la evaluación mensual, practicamos todos juntos y como solo practico los fines de semana, no pude seguir el ritmo de los hyungs.  +  ©️Peachiehunn  #SungJun #오성준 #TNX @TNX_Official\n",
            "1556115215736926208 2022-08-07 03:09:13 +0000 <tae_latam> [DATO]  Trainees de TF FAMILY 4 gen de un programa chino bailaron \"Moa Diary\" de #TXT   Cr.txt_news-C  #투모로우바이투게더 #TOMORROW_X_TOGETHER #トゥモローバイトゥゲザー @TXT_bighit_jp @TXT_members    https://t.co/ouYyIJP1Pi\n",
            "1555631304007454720 2022-08-05 19:06:19 +0000 <letibarrios20> ✔️FRONTEND JR LATAM  https://t.co/TD7swNk8Z1  ✔️FULLSTACK JR 🇦🇷  https://t.co/tWygZQWEz6  ✔️FULLSTACK JR 🇦🇷  https://t.co/1F91HVyPoT  ✔️FULLSTACK JR 🇦🇷  https://t.co/4XccWLI38Q  ✔️IT TRAINEE 🇨🇱 https://t.co/CmoYXuw61n  ✔️JAVA DEV JR 🇦🇷  https://t.co/Y6xx44ZFGO\n",
            "1553961409746173954 2022-08-01 04:30:45 +0000 <Kpop_Ama> @gyu_latam K drama favorito wwooo no sabría responder pero algo que me ha llegado de recomendado es adult trainee sus personajes me gustan 🙈  투모로우바이투게더 범규 #범규 #투모로우바이투게더 #BEOMGYU ボムギュ@TXT_members @TXT_bighit\n",
            "1552543289718579201 2022-07-28 06:35:39 +0000 <iGabotinoco> Me puse a ver mis stories de insta porque no puedo dormir y me di cuenta que por allá del 2019 fui yo el que solicitó y realizó el todo el proceso contratación de @Zoom para todo LATAM cuando era trainee.\n",
            "1550691107159396354 2022-07-23 03:55:45 +0000 <killuIt> @wtsursign Ay no, espera que me dio ternura. La primera trainee de latam😎. Por eso digo, es normal tener esas fantasías pero pasa el tiempo y uno es más consiente de las cosas que dice y hace, y el kpop es kpop porque es K, está implícito y no va a cambiar tbh.\n",
            "1550583603049947136 2022-07-22 20:48:34 +0000 <letibarrios20> ✔️QA TRAINEE 🇨🇱 https://t.co/KUYVxBRASI  ✔️REACT DEV NEXTjs JR 🇦🇷 https://t.co/Kd2uXpbFpb  ✔️SCRUM MASTER JR 🇦🇷 https://t.co/M3IKuhUHcm   ✔️SOFTWARE DEV JR+ LATAM  https://t.co/GOtlquKQe7   ✔️TECNICO DE SOPORTE N1 🇺🇾 https://t.co/2gCU5KusFJ  ✔️TESTER JR 🇲🇽  https://t.co/etnVneDeIU\n",
            "1550583596708253697 2022-07-22 20:48:32 +0000 <letibarrios20> ✔️INGENIERO DE DATOS JR🇨🇴 https://t.co/ITOpOkxqWt  ✔️JAVA / REACT JR 🇦🇷 https://t.co/p6kJ2Mjryn  ✔️JAVA BACKEND TRAINEE🇦🇷 https://t.co/yjyNPOBqwI  ✔️JAVA DEV JR LATAM  https://t.co/8wEIANlski  ✔️JAVA DEV JR+🇦🇷  https://t.co/9x5zHobRlh  ✔️PHP JR 🇲🇽 https://t.co/KnlhmkV7Z5\n",
            "1547640266424664068 2022-07-14 17:52:47 +0000 <gabydjph> Grupo para vacantes de desarrolladores junior y trainee en LATAM  https://t.co/gLl4OvNZdX\n",
            "1545854249267040256 2022-07-09 19:35:48 +0000 <geonieki> Se que tengo unas pales que siguen a Top Class y son de habla hispana/ Latino America como @vanedelmilagro @Jory_gpealight @Thing1Idza @salvatorechika @ellie_ng26 @anitmr_ @K33HOBABY   ¿Alguien estaria interesado en un gc de Top Class trainees en Latam? +\n",
            "1545460793591771136 2022-07-08 17:32:21 +0000 <bewanted_latam> ¡Son los últimos días para regístrate! Participa en nuestro programa de trainees y alcanza tus objetivos profesionales de la mano de los mejores.  https://t.co/RiKUXHKzm2 #DHLTrainees2022 #DHLFamily #Talentojoven  https://t.co/Y9elz9qCDB\n",
            "1543956501022351360 2022-07-04 13:54:49 +0000 <sunsashi> esta semana apuntaba a ser horrible y ahora T1419 llega a latam mañana y posible anuncio de debut de Trainee A, estoy tan feliz TT\n",
            "1543787551340695552 2022-07-04 02:43:29 +0000 <Bangchan_Latam> Acerca del tema de Ludacris, Chan menciona que en tiempos de trainee solia escuchar mucho este tema y por la situación de ahora, le parece que toma aún más valor esa música para el.\n",
            "1542898502237188096 2022-07-01 15:50:43 +0000 <bewanted_latam> Así como Lizbeth, tú también puedes vivir la experiencia de ser parte del equipo #1 en logística. ¡Sé uno de los seleccionados de DHL Trainees! Click aquí:  https://t.co/RiKUXHKzm2 #DHLTrainees2022 #DHLFamily #talentojoven #logística  https://t.co/IIo2nN46xg\n",
            "1542239537212145668 2022-06-29 20:12:13 +0000 <Enlightmx> #EstamosContratando ☀️ Únete a la empresa de soluciones energéticas con mayor crecimiento en LATAM como Trainee de Ingeniería Eléctrica para realizar el dimensionamiento y cálculo de los sistemas fotovoltaicos.  ➡️​Conoce los requisitos y postúlate aquí:  https://t.co/3FHnexmvW2  https://t.co/zR68u4suYQ\n",
            "1542165981937541120 2022-06-29 15:19:56 +0000 <bewanted_latam> Así como Alexandra, tú también puedes vivir la experiencia de ser parte del equipo #1 en logística. ¡Sé uno de los seleccionados de DHL Trainees! Click aquí:  https://t.co/RiKUXHKzm2 #DHLTrainees2022 #DHLFamily #talentojoven  https://t.co/jZNhnRmN46\n",
            "1541926512705814529 2022-06-28 23:28:22 +0000 <Enlightmx> Únete a la empresa de soluciones energéticas con mayor crecimiento en LATAM como Trainee de Levantamientos.  Tu aporte en Enlight será muy significativo, pues tus actividades son la base para la realización de un SFV.  ➡️​Conoce todos los requisitos aquí:  https://t.co/LNF9oEP9yN  https://t.co/LadKiVcoxk\n",
            "1541473774356246528 2022-06-27 17:29:21 +0000 <bewanted_latam> Así como Daniela, tú también puedes vivir la experiencia de ser parte del equipo #1 en logística. ¡Sé uno de los seleccionados de DHL Trainees! Click aquí:  https://t.co/RiKUXHKzm2 #DHLTrainees2022 #DHLFamily #Talentojoven  https://t.co/VZRXoPXOOj\n",
            "1540002646521614336 2022-06-23 16:03:37 +0000 <bewanted_latam> ¡Son los últimos días para regístrate! Participa en nuestro programa de trainees y alcanza tus objetivos profesionales de la mano de los mejores. #DHLSupplyChain #DHLTraineesPAC  Link de registro:  https://t.co/DcJGC5yqwf  https://t.co/oFhoitn8sF\n",
            "1540002467093422080 2022-06-23 16:02:54 +0000 <AnchitGupta9> The first month at Nellis was spent on solo formation flying in the T-33A followed by A2G strafing &amp; skip bombing ex. The trainee IAF pilots were trained to carry out four ac co-ordinated attacks in formations with pilots from Pakistan, Iran, LatAm &amp; NATO. 9/  https://t.co/xX4OhNM1oO\n",
            "1537823508792745987 2022-06-17 15:44:30 +0000 <bewanted_latam> ¡Sé parte de nuestro semillero de talento! Conoce todo sobre nuestro programa de trainees 🎓 e interactúa con quienes ya pasaron por ahí, que te contarán su experiencia en DHL Supply Chain México. Te esperamos AQUÍ:  https://t.co/0uJqEI4prk  https://t.co/c5P55wARTg\n",
            "1537543924344143880 2022-06-16 21:13:32 +0000 <flor__mb> ✔INCIDEN ENGINEER JR (QA) ARG  https://t.co/hGtKxHA8l4 ✔ING. TELECOMUNICACIONES JR / TRAINEE ARG  https://t.co/NVR1UtZJSP ✔INTEGRATION ENGINEER JR LATAM  https://t.co/17f0XUKkJ0    ✔IOS DEV JR MX  https://t.co/rbXkJDhquj ✔IT SUPPORT INTERN  https://t.co/mHRlZjVQCo\n",
            "1537543917423452166 2022-06-16 21:13:30 +0000 <flor__mb> ✔BACKEND JR LATAM  https://t.co/4fOr3A0AA3   ✔BUSINESS ANALYST JR ARG  https://t.co/0eHgxXcbOZ   ✔CONSULTOR BI JR/TRAINEE  https://t.co/pCz01QAIma   ✔DATA ANALYST JR COL  https://t.co/2tNry9pkl5   ✔DATA ENGINEER JR MX  https://t.co/7MdJWGeZSg\n",
            "1537501870368993281 2022-06-16 18:26:25 +0000 <bewanted_latam> Conoce a Constanza Muñoz nuestra Process Engineering y su experiencia al ser parte de DHL Trainees. Este año ¡te toca a ti! Regístrate y participa:  https://t.co/DcJGC5gPEH #DHLSupplyChain #TraineesPAC2022 #DHL  https://t.co/zju2L9S6xu\n",
            "1537184038523670528 2022-06-15 21:23:28 +0000 <Soobin_latam> ✨DATO✨  La primera canción que los 5 miembros bailaron juntos cuando eran trainees fue Cold Water de Justin Bieber~  -C  #TOMORROW_X_TOGETHER #GOOD_BOY_GONE_BAD #Thursdays_Child @TXT_members @TXT_bighit    https://t.co/UdCVhA8DWt\n",
            "1537069872831766529 2022-06-15 13:49:49 +0000 <Indie_Andie> El malestar de Heechul era visible durante el tour en Latam, y a pesar de todo dio lo mejor de él. Yesung ha sido un apoyo para Heenim desde los días de trainees.\n",
            "1536760182092464129 2022-06-14 17:19:13 +0000 <bewanted_latam> Alejandro Soto es uno de los eslabones importantes de nuestra cadena, el formó parte de DHL trainees de generaciones pasadas y ahora pertenece a la familia DHL supervisando las operaciones de logística. ¡Tú también se parte de nuestra historia! REGÍSTRATE:  https://t.co/RiKUXI2aKC  https://t.co/RFvC1rWBtf\n",
            "1536424337737142279 2022-06-13 19:04:42 +0000 <FictESPOL> Iniciamos la semana con excelentes noticias. Nuestras @AlumniEspol Melissa Reyes y Daniela Loor ganaron el proceso de selección “Women in Sales” del programa @Sika Technical Sales Advisor Trainee, LATAM.  https://t.co/xTm98IE0Gi\n",
            "1536395048966754304 2022-06-13 17:08:19 +0000 <bewanted_latam> Te contamos el proceso que vivirás para convertirte en un DHL Trainee PAC. ¡No te pierdas esta experiencia! REGÍSTRATE:  https://t.co/DcJGC5yqwf #DHLTrainees2022 #DHLFamily #Talentojoven  https://t.co/IZFHBTQwDr\n",
            "1535368309914226689 2022-06-10 21:08:25 +0000 <letibarrios20> ✔️INTEGRATION ENGINEER JR LATAM  https://t.co/mQnD433n2w  ✔️IOS DEV JR 🇲🇽  https://t.co/3MZcyNyX9D  ✔️IT SUPPORT INTERN  https://t.co/hR7Nl9bNeQ  ✔️IT TRAINEE 🇲🇽  https://t.co/ZUAhLPfrRu  ✔️JAVA DEV JR 🇦🇷 https://t.co/agJ2kH4QFo  ✔️JAVA DEV JR 🇲🇽 https://t.co/gyLDSG8eDS\n",
            "1535368302591098884 2022-06-10 21:08:23 +0000 <letibarrios20> ✔️BACKEND JR LATAM  https://t.co/uziVxRoeX5  ✔️BUSINESS ANALYST JR🇦🇷 https://t.co/MpOmYTzf7p  ✔️CONSULTOR BI JR/TRAINEE  https://t.co/YsePx9qLl6  ✔️DATA ANALYST JR 🇨🇴 https://t.co/YFF1v72SoC  ✔️DATA ENGINEER JR 🇲🇽  https://t.co/3zKgjfZdCM  ✔️DATA ENGINEER JR+🇦🇷 https://t.co/ooxd1CQmXO\n",
            "1534904400103219201 2022-06-09 14:25:00 +0000 <Latam_TNX> Además, rapeó la parte de Kyungjun.  Dato: Eunho y Kyungjun fueron trainees de Bighit y entrenaron juntos.  #Eunho #KyungJun   https://t.co/A2jfUgfTFt\n",
            "1532573177502699533 2022-06-03 04:01:34 +0000 <andTEAM_LATAM> [020622] INFO   El programa se llama &amp;Audition: THE HOWLING y se estrenerá el 9 de Julio a la 1:30 pm hora japonesa. Contará de 8 episodios, un episodio cada sábado. Al parecer serán 10 - 14 trainees que lucharán para debutar.  Se transmitirá por: Canal de HYBE Labels YT 60min  https://t.co/0ujHP2iu92\n",
            "1532084141553897472 2022-06-01 19:38:18 +0000 <bewanted_latam> Conoce a Germán Beyer nuestro Trainee Engineer y su experiencia al ser parte de DHL Trainees. Este año ¡te toca a ti! #DHLSupplyChain #DHLPAC #Trainees2022 #DHL Regístrate y participa:  https://t.co/DcJGC5yqwf  https://t.co/hxWS6SOM9T\n",
            "1532066459144552451 2022-06-01 18:28:02 +0000 <DraLPardoG> @AnnaSureda5 @TheEBMT_Trainee @OscPello @AMartinezRocaMD @GETH_info @SEHHJoven @gelamm_latam @DrRaulCordoba @ValentinOrtizMD @DrJCornago Sure! ☺️\n",
            "1532066437430321154 2022-06-01 18:27:57 +0000 <ValentinOrtizMD> @AnnaSureda5 @TheEBMT_Trainee @OscPello @AMartinezRocaMD @GETH_info @SEHHJoven @gelamm_latam @DrRaulCordoba @DraLPardoG @DrJCornago ☝️i'm coming!! 🍻💼\n",
            "1532065370382553088 2022-06-01 18:23:43 +0000 <AnnaSureda5> @TheEBMT_Trainee @OscPello @AMartinezRocaMD @GETH_info @SEHHJoven @gelamm_latam @DrRaulCordoba @DraLPardoG @ValentinOrtizMD @DrJCornago Alli estaremos todos!! Anyone of you willing to join??\n",
            "1531374210756423680 2022-05-30 20:37:18 +0000 <bewanted_latam> Conoce a Montserrat Trujillo y su experiencia al ser parte de DHL Trainees México. Este año ¡te toca a ti! Regístrate y participa:  https://t.co/RiKUXHKzm2 #DHLTrainees2022 #DHLFamily #Talentojoven #SupplyChain  https://t.co/GACoYjTksy\n",
            "1530232386381877248 2022-05-27 17:00:05 +0000 <letibarrios20> ✔️FULLSTACK o BACKEND JR Latam  https://t.co/nxsAfPfj9w   ✔️GOLANG DEV JR  https://t.co/xNC5OOk9KF   ✔️IT RECRUITERS JR 🇦🇷  https://t.co/xwwEEeLoYI  ✔️IT TRAINEE 🇲🇽  https://t.co/w08j0A34u3  ✔️JAVA DEV JR 🇲🇽  https://t.co/8dmIdxnzEP  ✔️JAVA DEV JR  https://t.co/I5rfbHIrm6\n",
            "1530220643530117120 2022-05-27 16:13:26 +0000 <bewanted_latam> Como parte de DHL Trainees PAC, podrás vivir la experiencia de iniciar tu carrera en una empresa con alcance global, de la mano de nuestros líderes.¡Sé parte de nuestro programa! #DHLSupplyChain #DHLTrainees #TraineesPAC2022 Deja tu info AQUÍ:  https://t.co/DcJGC5yqwf  https://t.co/7Eo1sI6Qwm\n",
            "1530141821732630532 2022-05-27 11:00:13 +0000 <Investment_2020> Become a Sales Support Trainee at Janus Henderson Investors. You will support the EMEA &amp; LatAm Sales and Client Service team with client requests, sales and operational matters, and develope a strong sales and client experience knowledge.  Apply:  https://t.co/3YeNwaWkPD  https://t.co/9a1IyvZZdS\n",
            "1529779437771841537 2022-05-26 11:00:14 +0000 <Investment_2020> Become a Sales Support Trainee at Janus Henderson Investors. You will support the EMEA &amp; LatAm Sales and Client Service team with client requests, sales and operational matters, and develope a strong sales and client experience knowledge.  Apply:  https://t.co/wsRhmHeCGF  https://t.co/wS3WqhXaBy\n",
            "1529417037650571267 2022-05-25 11:00:11 +0000 <Investment_2020> Become a Sales Support Trainee at Janus Henderson Investors. You will support the EMEA &amp; LatAm Sales and Client Service team with client requests, sales and operational matters, and develope a strong sales and client experience knowledge.  Apply:  https://t.co/zR9ZYbPHrA  https://t.co/xCupLazFPi\n",
            "[!] No more data! Scraping will stop now.\n",
            "found 0 deleted tweets in this search.\n"
          ]
        }
      ]
    },
    {
      "cell_type": "markdown",
      "source": [
        "trabajamos raspando datos de un usuario especifico\n",
        "\n",
        "\n",
        "ponele que nos piden buscar todo sobre el usuario PabloSoifer1\n"
      ],
      "metadata": {
        "id": "RhOhaeHa_yB8"
      }
    },
    {
      "cell_type": "code",
      "source": [
        "# buscando twits de un twittero\n",
        "c = twint.Config()\n",
        "c.Username = \"PabloSoifer1\"\n",
        "\n",
        "twint.run.Search(c)"
      ],
      "metadata": {
        "colab": {
          "base_uri": "https://localhost:8080/"
        },
        "id": "irjeee5duVAV",
        "outputId": "b8933c0c-1895-49fd-da39-46abd59d723f"
      },
      "execution_count": 12,
      "outputs": [
        {
          "output_type": "stream",
          "name": "stdout",
          "text": [
            "1576254291702341633 2022-10-01 16:54:43 +0000 <PabloSoifer1>  https://t.co/GIlVkyUrgX Alguien mas tuvo que cantar esto en clase?\n",
            "1576246167838474240 2022-10-01 16:22:26 +0000 <PabloSoifer1> @LadyMaqui @BonelliOK Y tambien siempre que se rompe algo, alguien se beneficia. Mi familia estuvo muy bien durante la hiper, era literalmente una fiesta y durante el menemismo nos fuimos a pique, la familia de mi esposa fue exactamente al reves.\n",
            "1576235453971587079 2022-10-01 15:39:51 +0000 <PabloSoifer1> @Sangonzalezz @BonelliOK Si rompe el mercado cambiario un poco mas lo voto como dictador eterno.\n",
            "1576235187595534337 2022-10-01 15:38:48 +0000 <PabloSoifer1> @fjb86 @RAMIROMARRA GRATIS 🤣🤣🤣🤣🤣🤣🤣🤣🤣🤣🤣🤣\n",
            "1576235077612482560 2022-10-01 15:38:22 +0000 <PabloSoifer1> @fjb86 @RAMIROMARRA Codo a Codo 🤣🤣🤣🤣🤣🤣🤣🤣🤣🤣\n",
            "1576234919642025985 2022-10-01 15:37:44 +0000 <PabloSoifer1> @RAMIROMARRA Pongamoslo de esta manera: Si mañana la sacamos del puesto y borramos esa posicion, ALGO cambia en la ciudad? No? Entonces chau.\n",
            "1576234628121493504 2022-10-01 15:36:35 +0000 <PabloSoifer1> Esta mufando a Lula este.\n",
            "1576233712437841921 2022-10-01 15:32:56 +0000 <PabloSoifer1> @Gregoriodalbon Estamos hablando de Nisman? Pasaron unos años, no un mes, es lo que tengo para corregir.\n",
            "1576233058839064577 2022-10-01 15:30:20 +0000 <PabloSoifer1> @Sangonzalezz @BonelliOK Exactamente. Que me vaya bien por mi esfuerzo no tiene por que ser obra del boludo este que hace de presidente.\n",
            "1576230169580568576 2022-10-01 15:18:52 +0000 <PabloSoifer1> @BonelliOK Ahora, no siempre \"me fue bien economicamente\" va ligado a un gobierno y nunca deberia ser asi.\n",
            "1576229980761391104 2022-10-01 15:18:07 +0000 <PabloSoifer1> @elpardua @thugGauss Es el unico motivo.\n",
            "1576229601986375680 2022-10-01 15:16:36 +0000 <PabloSoifer1> @_Lg_sus @emakant Yo tambien.\n",
            "1576229540271370241 2022-10-01 15:16:21 +0000 <PabloSoifer1> @vparedes1976 @elpardua @JuanAncap Parece que siempre hay.\n",
            "1576229458725703680 2022-10-01 15:16:02 +0000 <PabloSoifer1> @fontaina_david @C5N @PedroBriegerOk Ahora es momento de programar y suscribirse 🤣\n",
            "1576221184605028353 2022-10-01 14:43:09 +0000 <PabloSoifer1> @elpardua @JuanAncap Algunas me preguntan a veces como lograr conseguir a la persona cuando les tocan estas misiones imposibles.\n",
            "1576207933011943424 2022-10-01 13:50:30 +0000 <PabloSoifer1> @kolocsar Tiene de todo en 2 minutos.\n",
            "1576207864922001408 2022-10-01 13:50:14 +0000 <PabloSoifer1> Me gusta esta Rosa de Guadalupe version Rappi.\n",
            "1576207466299523072 2022-10-01 13:48:39 +0000 <PabloSoifer1> @kolocsar Asi y todo es mejor que Crepusculo.\n",
            "1576206431153364993 2022-10-01 13:44:32 +0000 <PabloSoifer1> @OldManMaverick Lo interesante es que te dicen \"A, merecen ser de rusia porque son todos rusos\" sin tener el contexto de por que son todos rusos en esos lugares.\n",
            "1576206134569889792 2022-10-01 13:43:21 +0000 <PabloSoifer1> @C5N @PedroBriegerOk Buenisimo que lo hayan mufado.\n",
            "1576203768982487041 2022-10-01 13:33:57 +0000 <PabloSoifer1> @fflorcito @JuanAncap Todo se puede en este ispa.\n",
            "1576203672715137024 2022-10-01 13:33:34 +0000 <PabloSoifer1>  https://t.co/vS4tAXnHch Me gusta como piensa este señor ciertas cosas.\n",
            "1576196298453450752 2022-10-01 13:04:16 +0000 <PabloSoifer1> @fflorcito @JuanAncap Aparte, 600 lucas son unos 2k dolares? Cualquier senior mas o menos vivo hace mucho mas que eso.\n",
            "1576196157751308290 2022-10-01 13:03:42 +0000 <PabloSoifer1> @adrian__arg Me hiciste acordar hace mucho tiempo llevaba un buzo con Tux y uno viene deditos en V a tirarme un \"aguante compañero\".\n",
            "1576196007855292419 2022-10-01 13:03:07 +0000 <PabloSoifer1> @gaboortiz85 Y de que queres que hablemos? O sea, para empezar a ver si me conviene cambiar de empleo primero quiero saber si monetariamente me sirve.\n",
            "1576195300091260928 2022-10-01 13:00:18 +0000 <PabloSoifer1> @fflorcito @JuanAncap Ves, ahi esta la respuesta. Juro que no se como ofendi a la señorita a la que pregunte.\n",
            "1576194984381861888 2022-10-01 12:59:03 +0000 <PabloSoifer1> @adrian__arg Te imaginas ir asi por la calle \"Señor, disculpe, como se llama?\"\n",
            "1575971970138927104 2022-09-30 22:12:52 +0000 <PabloSoifer1> Gente, viernes de aprender #programacion    https://t.co/X3VdN537il  Nada mas lindo que enseñarles a ganarse el pan con #python   Dos videos en un dia... ambos programando...\n",
            "1575961284536696832 2022-09-30 21:30:24 +0000 <PabloSoifer1> @eudtoxic @JuanAncap Me siento mal y no se por que.\n",
            "1575942868614541312 2022-09-30 20:17:14 +0000 <PabloSoifer1> @emakant No se, no entiendo, ahi le pregunte que fue lo que la ofendio a ver que me dice.\n",
            "1575941486268805120 2022-09-30 20:11:44 +0000 <PabloSoifer1> @emakant Monosilabico\n",
            "1575941381314727936 2022-09-30 20:11:19 +0000 <PabloSoifer1> @emakant A partir de ahora me voy a limitar a ser monosilabo con esta gente.\n",
            "1575940809735942144 2022-09-30 20:09:03 +0000 <PabloSoifer1> @amanwithacat OOOOOOOOOOOOOO muchas gracias!!!!!!!!!\n",
            "1575940411817762816 2022-09-30 20:07:28 +0000 <PabloSoifer1> @JuanAncap Es que hoy por hoy todo puesto muy senior y si mas o menos balbuceas mal el ingles (como yo) todo es en dolares. O sea, en serio le pregunte.  Se ofendio...\n",
            "1575939995726417921 2022-09-30 20:05:49 +0000 <PabloSoifer1> @emakant solo me contacto para ofrecerme algo.  Man voy por el 7. Muy buena serie.\n",
            "1575939165254213635 2022-09-30 20:02:31 +0000 <PabloSoifer1> @JuanAncap Me pregunta cuanto quiero ganar, le tiro un numero, me dice \"Es en pesos la propuesta\", le digo que no sabia que existian ese tipo de puestos en pesos y se me enoja\n",
            "1575937517206937601 2022-09-30 19:55:58 +0000 <PabloSoifer1> Se me ofendio una recruiter y juro que no le dije nada malo.\n",
            "1575934007522361344 2022-09-30 19:42:01 +0000 <PabloSoifer1> @julhidalgo @BrissioMauro Conoci gente que iba por guita a varias, de diversos partidos.\n",
            "1575933924148391936 2022-09-30 19:41:41 +0000 <PabloSoifer1> @BrissioMauro Ponete a programar.\n",
            "1575933846838988800 2022-09-30 19:41:23 +0000 <PabloSoifer1> Anki debe pensar que tengo problemas serios...\n",
            "1575929147322290177 2022-09-30 19:22:42 +0000 <PabloSoifer1> Sitio/App lo que sea para poder leer manga en japones? Tengo una cantidad limitada de material fisico.\n",
            "1575920972284145664 2022-09-30 18:50:13 +0000 <PabloSoifer1>  https://t.co/fgYEOlwHJQ  Este seria el bull market?\n",
            "1575884770760089600 2022-09-30 16:26:22 +0000 <PabloSoifer1> @dollygeek Mejor eso que renglones?\n",
            "1575884683799207940 2022-09-30 16:26:01 +0000 <PabloSoifer1> @dollygeek TREMENDO ESTO.\n",
            "1575879559131631616 2022-09-30 16:05:39 +0000 <PabloSoifer1> @dollygeek Pero me parece que es mejor papel para esto.\n",
            "1575876552788938752 2022-09-30 15:53:43 +0000 <PabloSoifer1> Voy a ver mas tarde de conseguirme algun tipo de libretita muy portable para poder escribir en japones por la vida, algun tipo de diario supongo?\n",
            "1575873678897717250 2022-09-30 15:42:18 +0000 <PabloSoifer1> @tunykollmann Pigna????? 🤣🤣🤣🤣🤣\n",
            "1575873391759806464 2022-09-30 15:41:09 +0000 <PabloSoifer1> @infobae Y vamos a tener populismo pero con otra gente.\n",
            "1575842580499402754 2022-09-30 13:38:43 +0000 <PabloSoifer1>  https://t.co/I6FPu6XO45  Siempre hay que hacer ejercicios simples de #programacion para agilizar la capocha.   #Python\n",
            "1575832879552077825 2022-09-30 13:00:10 +0000 <PabloSoifer1> @esteban_a_secas O sea, se recarga y suma.\n",
            "1575829268684492800 2022-09-30 12:45:49 +0000 <PabloSoifer1> @esteban_a_secas MAMADERA. 467? Nunca vi algo tan poderoso\n",
            "1575823696572211201 2022-09-30 12:23:41 +0000 <PabloSoifer1> @DamianFBermudez @SergioMassa @Economia_Ar Todas respuestas puteando salvo los de la propia tropa. No se dan cuenta que solo se felicitan entre ustedes no?\n",
            "1575823366753484802 2022-09-30 12:22:22 +0000 <PabloSoifer1> @frenovadorsm @SergioMassa @Economia_Ar Se felicitan entre ellos mismos 🤣🤣🤣🤣🤣\n",
            "1575819606216048641 2022-09-30 12:07:26 +0000 <PabloSoifer1> @infobae Todo eso en su cumpleaños? Que dia intenso que paso la señora.\n",
            "1575818654377074688 2022-09-30 12:03:39 +0000 <PabloSoifer1> 🤣\n",
            "1575811674187378689 2022-09-30 11:35:54 +0000 <PabloSoifer1> @hernanpanessi Tengo todas guardadas, que cosa del bien era la Lazer.\n",
            "1575792230706872320 2022-09-30 10:18:39 +0000 <PabloSoifer1> No sé por qué me hizo acordar de Noa en Miramar\n",
            "1575786882096513024 2022-09-30 09:57:24 +0000 <PabloSoifer1> @MariaSeoane48 Cómo decir que le tenés alergia a la pala de manera boluprogre\n",
            "1575785320485822464 2022-09-30 09:51:11 +0000 <PabloSoifer1> @manlop Cuánto nos sale esta payasada?\n",
            "1575664274357522433 2022-09-30 01:50:12 +0000 <PabloSoifer1> El challenge de #python de duplicar todas las letras de un string ya lo tengo en un one line, es un challenge chico, para juniors, pero como estoy en \"enseñando a programar\" (y de eso tendria que ser gran parte del canal) voy a mostrarlo con explicaciones.\n",
            "1575653527052951553 2022-09-30 01:07:29 +0000 <PabloSoifer1> Me parece divertido el decimo.\n",
            "1575653409755045888 2022-09-30 01:07:01 +0000 <PabloSoifer1>  https://t.co/P5D1uzGihY\n",
            "1575653053180493825 2022-09-30 01:05:36 +0000 <PabloSoifer1> Podria ponerlo como ejercicio para las entrevistas.\n",
            "1575652724816781313 2022-09-30 01:04:18 +0000 <PabloSoifer1> Estaba buscando challenges de #python y me aparecio un \"10 challenges for begginers\". Amo agarrar estas cosas. Uno por ejemplo es convertir decimal en binario. MWAHAHAHAHAHAHA\n",
            "1575652302190706688 2022-09-30 01:02:37 +0000 <PabloSoifer1> @fabedalb22 @infobae Como linguista entiendo por la gente del palo que es un groso. En sus opiniones politicas... bueno, es un charlatan de feria.\n",
            "1575652019490410496 2022-09-30 01:01:30 +0000 <PabloSoifer1> @loomitz Estas describiendo un dia en mi vida 🤣\n",
            "1575651866121097216 2022-09-30 01:00:53 +0000 <PabloSoifer1> @HeisenbergGC1 @subterfugia A los 18 empece a aprender, peeeeeero, no era como ahora que brotan laburos de todos lados.\n",
            "1575602341318840320 2022-09-29 21:44:06 +0000 <PabloSoifer1> Hija de 7 en el auto, muy inquieta. Le pregunto qué le pasa. \"Me habías dicho que ya nadie anidaba los if\". Paro el auto en seco. Me largo a llorar contra el volante. Ella me abraza por atrás y llora conmigo. \"voy a leer Clean Code, te lo prometo\" #programacion\n",
            "1575600866769670144 2022-09-29 21:38:14 +0000 <PabloSoifer1> @elpardua Solucionaste un problema enorme.\n",
            "1575600760100106240 2022-09-29 21:37:49 +0000 <PabloSoifer1> Bue, por fin se como funciona la especificacion OpenAPI, pude levantar el swagger editor en docker y voy a dedicarme a la divertidisima tarea de documentar las API de un cliente que obvio no tiene casi nada.\n",
            "1575600536841175040 2022-09-29 21:36:55 +0000 <PabloSoifer1> @elpardua Aunque me dan miedo los amigos del --force\n",
            "1575599922291712001 2022-09-29 21:34:29 +0000 <PabloSoifer1> @elpardua Si, la otra es ver si eslint me deja poner una regla de ese tipo y que ni pueda pushear\n",
            "1575597197160173568 2022-09-29 21:23:39 +0000 <PabloSoifer1> @subterfugia Antes de dedicarme a la programacion, hice de todo para comer: repositor en un mayorista de golosinas, cadete, tuve unos dias de cartero, seguridad en un club y muchas cosas. Hay que adquirir cultura de laburo.\n",
            "1575596617360515074 2022-09-29 21:21:21 +0000 <PabloSoifer1> @elpardua Ya no se como decir que no quieran superar el record de tamaño.\n",
            "1575557949073653760 2022-09-29 18:47:42 +0000 <PabloSoifer1> @matiasbaldanza Es como el japones que escribis sin espacios, pero todo un capitulo de 1984.\n",
            "1575509471123628033 2022-09-29 15:35:04 +0000 <PabloSoifer1> @HeisenbergGC1 @davidvincent97 Mi hipotesis es que bajaron mucho la vara de \"que es un clase media\" y muchos de los que cuentan como tales en realidad son pobres.\n",
            "1575502856110514178 2022-09-29 15:08:46 +0000 <PabloSoifer1> @davidvincent97 Bajaron de pobres a indigentes. Igual, para mi hay cosas que no cierran. Los numeros que ponen para ser \"clase media\" no los veo potables.\n",
            "1575502530968096768 2022-09-29 15:07:29 +0000 <PabloSoifer1> @pagina12 Para que le dan tanta camara al charlatan este?\n",
            "1575501916955549697 2022-09-29 15:05:03 +0000 <PabloSoifer1> @MariaSeoane48 Cambia de dealer.\n",
            "1575497702724407298 2022-09-29 14:48:18 +0000 <PabloSoifer1> @SpinelliMariano Lo que es vender la dignidad...\n",
            "1575493823232237572 2022-09-29 14:32:53 +0000 <PabloSoifer1> @pagina12 Lo que diga ese charlatan de feria no puede importarle a nadie.\n",
            "1575490112330223620 2022-09-29 14:18:08 +0000 <PabloSoifer1> @ybovisa Tengo miedo de cuanto se puede superar.\n",
            "1575480064690466816 2022-09-29 13:38:13 +0000 <PabloSoifer1> @mecir2020 Si sos de los que creen en algun periodista te comento que tengo un buzon en oferta, nuevito.\n",
            "1575479271497166849 2022-09-29 13:35:03 +0000 <PabloSoifer1> The biggest panquequeada?\n",
            "1575478673309696002 2022-09-29 13:32:41 +0000 <PabloSoifer1> @sudaka_AR Lo que encima veo es que hay varias similares igual de largas. Son talibanes de Clean Code.\n",
            "1575477589098930176 2022-09-29 13:28:22 +0000 <PabloSoifer1> Estaba en mis PR matutino cuando veo una funcion con un nombre de 61 caracteres.  Creo que es un nuevo record.  #programacion\n",
            "1575471565881413632 2022-09-29 13:04:26 +0000 <PabloSoifer1> POR FAVOR, no hagan funciones tipo  def supercalifragilisticexpialidocious():  #programacion #python\n",
            "1575461413056913408 2022-09-29 12:24:06 +0000 <PabloSoifer1>  https://t.co/n41cKuRyq5  Seco o humedo?\n",
            "1575459787894136833 2022-09-29 12:17:38 +0000 <PabloSoifer1> Ven lo que pasa cuando se toman colegios?\n",
            "1575458436627693569 2022-09-29 12:12:16 +0000 <PabloSoifer1> @pagina12 No pueden darle microfono para decir semejante pelotudez.\n",
            "1575456933938692096 2022-09-29 12:06:18 +0000 <PabloSoifer1> @CondeWhisky Que increible que pasen estas cosas... Yo estare viejo pero si hacia algo como tomar un colegio (ni se me ocurriria), mi viejo me llenaria de patadas en el culo.\n",
            "1575454588274106375 2022-09-29 11:56:59 +0000 <PabloSoifer1> @grinchdev @ddgn @iamdoomling O, tengo la palabra code en mi nick. YO SABIA!  Me voy a un rincon a llorar.\n",
            "1575454477787832320 2022-09-29 11:56:32 +0000 <PabloSoifer1> @grinchdev @ddgn @iamdoomling Ahora me mata la curiosidad.\n",
            "1575454275412660227 2022-09-29 11:55:44 +0000 <PabloSoifer1> @ddgn @iamdoomling Puede ser, yo a veces veo seniors y proyectos que...  Y muy seguido siento que soy yo el del humo aunque juro que le pongo ganas.\n",
            "1575294848785072128 2022-09-29 01:22:14 +0000 <PabloSoifer1> @MartinArMarques @AyalaLean4339 Pero soy pobre, cuando sea rico contrato a uno.\n",
            "1575232502003687424 2022-09-28 21:14:29 +0000 <PabloSoifer1> @_12120121201201 \"Les pibis\" LPM\n",
            "1575231314810183680 2022-09-28 21:09:46 +0000 <PabloSoifer1> @doctor_blue_box \"Vos me ves cara de Warren Buffett?\"\n",
            "1575231020273901568 2022-09-28 21:08:36 +0000 <PabloSoifer1> @BrissioMauro @TwitterLatAm  https://t.co/S4WI77OLCa Toma.\n",
            "1575230844197044224 2022-09-28 21:07:54 +0000 <PabloSoifer1>  https://t.co/SIRuO6a6S3  Bueno gente, miercoles de #programacion asi que vamos con otro capitulo para los que recien inician. Y recuerden que cuando se suscriben a mi canal me dan poderes cosmicos de armado de videos utiles. #Python\n",
            "1575209386804654080 2022-09-28 19:42:38 +0000 <PabloSoifer1> @SleepyFisher @SpinelliMariano @randyguerra1996 @RangeTester pero trabaja en Python sin oop? Que loco debe ser su codigo.\n",
            "1575207262070910976 2022-09-28 19:34:11 +0000 <PabloSoifer1> @SpinelliMariano @randyguerra1996 @SleepyFisher @RangeTester El otro dia me dijeron que no era necesario OOP para dedicarse a automation. Empiezo a entender que le pasa a Milei cuando le hablan de que emitir no causa inflacion.\n",
            "1575181145339109382 2022-09-28 17:50:25 +0000 <PabloSoifer1> @randyguerra1996 @SleepyFisher @RangeTester @SpinelliMariano Claro, mi punto es: 10 años PROGRAMANDO cosas de automation y no puden responder cosas asi?\n",
            "1575179012703670272 2022-09-28 17:41:56 +0000 <PabloSoifer1> @randyguerra1996 @SleepyFisher @RangeTester @SpinelliMariano Mas simple de ver: la clase es la \"plantilla\", el objeto es una instancia de esa \"plantilla\".\n",
            "1575173542575906816 2022-09-28 17:20:12 +0000 <PabloSoifer1> @SpinelliMariano Un monopoly.\n",
            "1575168435318685706 2022-09-28 16:59:54 +0000 <PabloSoifer1> @EliGAlcorta Me explicas como el ejecutivo de una ciudad le da ordenes a otro poder? Yo entiendo que a ustedes todo esto de la democracia y la division de poderes se lo pasan por el orto, pero no todos tienen esa forma de hacer las cosas.\n",
            "1575162376072024064 2022-09-28 16:35:50 +0000 <PabloSoifer1> @infobae Tremendo charlatan.\n",
            "1575160787143999493 2022-09-28 16:29:31 +0000 <PabloSoifer1> @jotaemme7 @C5N Y la libertad de que un trabajador haga su trabajo?\n",
            "1575155928927698946 2022-09-28 16:10:13 +0000 <PabloSoifer1> @cyngarciaradio @horaciorlarreta Como le vas a hacer caso a alguien que dice \"les pibis\"???????????\n",
            "1575130269748690950 2022-09-28 14:28:15 +0000 <PabloSoifer1> @BeforeIWasCool Como se va a enamorar de alguien que la tiene 2 (DOS) minutos de treke treke sin parar????? Eterno.\n",
            "1575129388655558658 2022-09-28 14:24:45 +0000 <PabloSoifer1> @RoverWire @MarcosD00214898 @NavisCode Ciertamente me ha tocado entrevistar a mucha gente que estuvo 10 años haciendo una sola cosa y no sabe mas que esa cosa (y a veces mal).\n",
            "1575129178915184642 2022-09-28 14:23:55 +0000 <PabloSoifer1> @NavisCode No, es distinto saber programar por mas bien que lo sepas a saber aplicarlo luego de mil experiencias distintas.\n",
            "1575128767873400832 2022-09-28 14:22:17 +0000 <PabloSoifer1> 2 minutos?????  Garcharon o le leyo El Señor de los Anillos?\n",
            "1575111426640707584 2022-09-28 13:13:22 +0000 <PabloSoifer1> Miercoles? Hoy video del curso de #programacion en un rato.\n",
            "1575084141804396545 2022-09-28 11:24:57 +0000 <PabloSoifer1> @SleepyFisher @RangeTester @SpinelliMariano -Cuanto tiempo llevás haciendo automation - 10 años - Diferencia entre clase y objeto - .............\n",
            "1575075816077422592 2022-09-28 10:51:52 +0000 <PabloSoifer1> @RangeTester @SpinelliMariano Más de la mitad de los senior de automation que vengo entrevistando solo lo son por cantidad de años y no por conocimientos básicos que deberían tener.\n",
            "1575075377248358402 2022-09-28 10:50:08 +0000 <PabloSoifer1> @ThorGrisDev @RangeTester @SpinelliMariano Vi algunos que siguen con specflow pero no lo veo masivo\n",
            "1574918669460819968 2022-09-28 00:27:26 +0000 <PabloSoifer1> @AyalaLean4339 Para eso existe bootstrap señor\n",
            "1574917519026130945 2022-09-28 00:22:51 +0000 <PabloSoifer1> @RangeTester Bancame que me agarraste leyendo el twit con varias birras encima y ni así le encuentro sentido\n",
            "1574915807250993153 2022-09-28 00:16:03 +0000 <PabloSoifer1> @sofiaterrile Y la eliminación de la ley de alquileres?\n",
            "1574915158161375238 2022-09-28 00:13:28 +0000 <PabloSoifer1> @AyalaLean4339 5% de suerte, 95% de romperme laburando en un rubro que te deja bien parado\n",
            "1574914593742274560 2022-09-28 00:11:14 +0000 <PabloSoifer1> @AyalaLean4339 Soy propietario, así\n",
            "1574914153243877377 2022-09-28 00:09:29 +0000 <PabloSoifer1> Myriam suma argumentos para abrir TODAS las importaciones\n",
            "1574877250280890391 2022-09-27 21:42:50 +0000 <PabloSoifer1> @FinanzasArgy O sea que si mantengo la cuenta en 49999.99 y muevo el resto por otros lados sigo como si nada? Cuanto humo man.\n",
            "1574867018054074368 2022-09-27 21:02:11 +0000 <PabloSoifer1> @BrissioMauro La mitad de los problemas que tiene la Argentina se solucionan si te suscribis a Draculinio.\n",
            "1574866655980752897 2022-09-27 21:00:45 +0000 <PabloSoifer1> @ZurdosInviables Hay que liberar TODAS las importaciones, es una locura que los amigos del poder puedan cazar en el zoo.\n",
            "1574861762133893121 2022-09-27 20:41:18 +0000 <PabloSoifer1> @vamoacodear Para que puede servir algo asi?\n",
            "1574861556445224977 2022-09-27 20:40:29 +0000 <PabloSoifer1> @AngelSS95 Muy bueno man, mandalo a git.\n",
            "1574861360080494593 2022-09-27 20:39:42 +0000 <PabloSoifer1> @monoarania Muy bueno.\n",
            "1574857777079791617 2022-09-27 20:25:28 +0000 <PabloSoifer1> @CodinEric Felicitaciones capo del #Python\n",
            "1574856787613913105 2022-09-27 20:21:32 +0000 <PabloSoifer1> Vuelvo de Victoria, no anda el porton del garage. No puedo dos buenas seguidas.\n",
            "1574855118440304642 2022-09-27 20:14:54 +0000 <PabloSoifer1> @matiasbaldanza No existe esa gente.\n",
            "1574854779104333829 2022-09-27 20:13:33 +0000 <PabloSoifer1> @nestorpitrola O sea que el Partido Obrero se dedica a sacarle el trabajo a los obreros? Ojala terminen presos ustedes.\n",
            "1574735172901249029 2022-09-27 12:18:17 +0000 <PabloSoifer1> @OldManMaverick Pero los del PJ (y radicales) seguían votando.\n",
            "1574730797852008451 2022-09-27 12:00:53 +0000 <PabloSoifer1> @ResnicoffMartin @PregoneroL @HenryChinaski67 Encima del rojo.\n",
            "1574566352496500762 2022-09-27 01:07:27 +0000 <PabloSoifer1> @BrissioMauro Comparar dos cosas que no tienen que ver es una forma de esparcir fake news. Y suscribite al canal de Draculinio\n",
            "1574565623220387843 2022-09-27 01:04:33 +0000 <PabloSoifer1> @HeisenbergGC1 Siempre y en todo momento\n",
            "1574557654584020992 2022-09-27 00:32:53 +0000 <PabloSoifer1>  https://t.co/VCvg8whDJ4 No entiendo por qué la gente no quiere invertir en Argentina\n",
            "1574538849136451585 2022-09-26 23:18:09 +0000 <PabloSoifer1> @MiltonFriedom5 Reventar todo y dejar todo de remate\n",
            "1574538364430077952 2022-09-26 23:16:14 +0000 <PabloSoifer1> @ValupiRuiz Pone Netbeans y vas a sentir que Eclipse es una maravilla.\n",
            "1574538057717633026 2022-09-26 23:15:01 +0000 <PabloSoifer1> @eudtoxic Es increíble como mucho post basura tiene 1000000 de likes y hay cosas piolas que nada, pero supongo que las redes sociales levantan ciertas cosas en maneras \"misteriosas\"\n",
            "1574497862888542210 2022-09-26 20:35:17 +0000 <PabloSoifer1> @EliGAlcorta Ya que tenés tiempo de boludear con cuestiones del exterior, no vi todavía el twit sobre lo que sucede con sus aliados iraníes.\n",
            "1574497108131868672 2022-09-26 20:32:17 +0000 <PabloSoifer1> @EliGAlcorta Las mujeres de Cuba pueden protestar contra el gobierno o eso todavía no?\n",
            "1574496742464057344 2022-09-26 20:30:50 +0000 <PabloSoifer1> @juanegordon Es para que respondas y generes más \"contenido\". A mí me aparece todo el tiempo el facho de las fake news\n",
            "1574457771550023680 2022-09-26 17:55:59 +0000 <PabloSoifer1> Agarra la pala\n",
            "1574443140190294026 2022-09-26 16:57:51 +0000 <PabloSoifer1> @HeisenbergGC1 @alan_s1997 @femifilda Tiene sentido\n",
            "1574430430362755072 2022-09-26 16:07:20 +0000 <PabloSoifer1> @MiltonFriedom5 @SalvaDiStefano Y no hablar de que sacas todo a crédito, acá tenés que juntar TACA TACA\n",
            "1574392989065019396 2022-09-26 13:38:34 +0000 <PabloSoifer1> @OldManMaverick Es lindo tener Linux, te da muchas oportunidades de aprender cosas espectaculares\n",
            "1574392731400830976 2022-09-26 13:37:32 +0000 <PabloSoifer1> @elacuariano_ar @FrancoVRinaldi Pero bajar gasto estatal siempre es bueno.\n",
            "1574379692349861888 2022-09-26 12:45:43 +0000 <PabloSoifer1> Seguimos con el curso de #Programación desde cero usando #Python. Hoy vamos a ver cómo trabajar con inputs y unos extras.  https://t.co/8sBjSy7QqC\n",
            "1574200228445446145 2022-09-26 00:52:36 +0000 <PabloSoifer1> @100x100argento @locrofavaloro1 @alicfka Un libertario. Que tiene que ver el libertarismo con el nazismo?\n",
            "1574169240030019584 2022-09-25 22:49:28 +0000 <PabloSoifer1> @100x100argento @locrofavaloro1 @alicfka Pero vos desviaste a un personaje de televisión\n",
            "1574164546696118275 2022-09-25 22:30:49 +0000 <PabloSoifer1> @100x100argento @locrofavaloro1 @alicfka De nuevo \"todo lo que no me gusta es nazi\". Usted diría que Waldo Wolff es nazi?\n",
            "1574160061143851009 2022-09-25 22:12:59 +0000 <PabloSoifer1> @100x100argento @locrofavaloro1 @alicfka Pensé que estaba hablando de Macri y Milei, ninguno de los dos llama a exterminar a nadie\n",
            "1574152086140473344 2022-09-25 21:41:18 +0000 <PabloSoifer1>  https://t.co/5xH11drzas  Shaná Tová amigos!\n",
            "1574150931238764544 2022-09-25 21:36:42 +0000 <PabloSoifer1> @100x100argento @locrofavaloro1 @alicfka Estimado troll, se de primera mano lo que es un nazi.  Deje de banalizar el término\n",
            "1574145952528596992 2022-09-25 21:16:55 +0000 <PabloSoifer1> @locrofavaloro1 @alicfka Para la señora es \"todo aquello que no sea cómo a mí me gusta\"\n",
            "1574145730180423680 2022-09-25 21:16:02 +0000 <PabloSoifer1> @alicfka Che y el discurso de odio y coso \"todo lo que no me gusta es nazi\"?\n",
            "1574145248518967297 2022-09-25 21:14:08 +0000 <PabloSoifer1>  https://t.co/n41cKuRyq5  Vamos a la pregunta que importa\n",
            "1574144944746663936 2022-09-25 21:12:55 +0000 <PabloSoifer1> @EduarPoncePiana @Soledad_Acunia Usando #Python ? Podría ser\n",
            "1574144356218544128 2022-09-25 21:10:35 +0000 <PabloSoifer1> @BrissioMauro Lo asesinaron pichón de fascista\n",
            "1574144111183011844 2022-09-25 21:09:36 +0000 <PabloSoifer1> @FrancoVRinaldi Las paso nunca debieron existir.\n",
            "1574143895402848268 2022-09-25 21:08:45 +0000 <PabloSoifer1> @tunykollmann @pagina12 Si, ojalá\n",
            "1574143720186060800 2022-09-25 21:08:03 +0000 <PabloSoifer1> @EduarPoncePiana @Soledad_Acunia RECIÉN arrancamos\n",
            "1574130669428449280 2022-09-25 20:16:12 +0000 <PabloSoifer1> Con esto entro en la categoría viejo? Es la Gloria  https://t.co/mZQda61wkc\n",
            "1574079498705948674 2022-09-25 16:52:52 +0000 <PabloSoifer1> @EduarPoncePiana @Soledad_Acunia Puede ser, pasa que uno quiere argumentar y Twitter es muy de terminar en reducciones. Por eso muchas veces termino en hacer videos donde puedo explicar mejor mí punto\n",
            "1574066835951128577 2022-09-25 16:02:33 +0000 <PabloSoifer1> @EduarPoncePiana @Soledad_Acunia Graciaaaas\n",
            "1574066802610806785 2022-09-25 16:02:25 +0000 <PabloSoifer1> @EduarPoncePiana @Soledad_Acunia Porque supongo que peor es no ponerlo. Y juro que intento no meterme en bardos pero es más fuerte que yo\n",
            "1574023840824434689 2022-09-25 13:11:42 +0000 <PabloSoifer1> @NickelFirepower @AyalaLean4339 A mí me interesa transmitir el amor por esto y contagiarlo, no quiero ser influencer en el sentido de gente que baila algo sin sentido y pasa a ser influencer\n",
            "1574020339381805062 2022-09-25 12:57:47 +0000 <PabloSoifer1> @Soledad_Acunia Escuela en CABA, materia: cultura nacional, les pasan las aventuras de Zamba. Ayer vi un par de capítulos, cómo permiten esto?\n",
            "1574019719534989315 2022-09-25 12:55:19 +0000 <PabloSoifer1> @AyalaLean4339 Nop, o al menos no en lo que terminó siendo\n",
            "1573773533129445377 2022-09-24 20:37:04 +0000 <PabloSoifer1> @maxifirtman Lo importante es decir que es temporal y después bueno...\n",
            "1573763100628623360 2022-09-24 19:55:36 +0000 <PabloSoifer1> @CastagnetoC @AFIPcomunica Los vivos son ustedes que saben que la gente es mansa.\n",
            "1573762942776082438 2022-09-24 19:54:59 +0000 <PabloSoifer1> @maxifirtman Impuesto al repo privado\n",
            "1573762480597262337 2022-09-24 19:53:09 +0000 <PabloSoifer1> @Hugoulloa Si lo vas a usar para lo que sirve, es una buena idea\n",
            "1573754491073187840 2022-09-24 19:21:24 +0000 <PabloSoifer1> @CondeWhisky Es todo lo que importa en la vida\n",
            "1573754218875330561 2022-09-24 19:20:19 +0000 <PabloSoifer1> Para estás cosas también tengo mis deditos en el teclado tantas horas  https://t.co/HvaPcO0ctw\n",
            "1573696304152301570 2022-09-24 15:30:11 +0000 <PabloSoifer1> Así se disfruta el Finde de rosh a shana  https://t.co/340HzwzLFM\n",
            "1573623522009686017 2022-09-24 10:40:58 +0000 <PabloSoifer1> @jackgris2 Ese es un proyecto js+Cypress.  Estuve intentando que adopten go para evitar estos asuntos pero no hay forma\n",
            "1573489439397003264 2022-09-24 01:48:11 +0000 <PabloSoifer1> @EduarPoncePiana Exacto\n",
            "[!] No more data! Scraping will stop now.\n",
            "found 0 deleted tweets in this search.\n"
          ]
        }
      ]
    },
    {
      "cell_type": "code",
      "source": [
        "c = twint.Config()\n",
        "c.Username = \"PabloSoifer1\"\n",
        "c.User_full = True\n",
        "\n",
        "twint.run.Followers(c) # buscando sus seguidores"
      ],
      "metadata": {
        "colab": {
          "base_uri": "https://localhost:8080/"
        },
        "id": "OUiUxZA6sQ2I",
        "outputId": "a9f7e984-3c93-4365-bac0-1c0707a36cd4"
      },
      "execution_count": 15,
      "outputs": [
        {
          "output_type": "stream",
          "name": "stderr",
          "text": [
            "CRITICAL:root:twint.feed:Follow:IndexError\n"
          ]
        }
      ]
    },
    {
      "cell_type": "code",
      "source": [
        "# info de un usuario\n",
        "import twint\n",
        "\n",
        "c = twint.Config()\n",
        "c.Username = \"PabloSoifer1\"\n",
        "\n",
        "twint.run.Lookup(c)"
      ],
      "metadata": {
        "colab": {
          "base_uri": "https://localhost:8080/"
        },
        "id": "SUbMb_0i-FW2",
        "outputId": "ba0baa4c-ab58-49ab-e343-b1f33106788b"
      },
      "execution_count": 16,
      "outputs": [
        {
          "output_type": "stream",
          "name": "stdout",
          "text": [
            "2414701584 | Code Mercenary | @PabloSoifer1 | Private: False | Verified: False | Bio: Programador, QA, Scrum Master certificado, hago buenos asados y hablo del mundo sistemas en mi canal de youtube Draculinio. Code mercenary. | Location: Ciudad Autónoma de Buenos Aire | Url: https://t.co/ANnAXkguMA | Joined: 2014-03-27 17:49:33 UTC | Tweets: 32591 | Following: 1895 | Followers: 2027 | Likes: 60784 | Media: 2314 | Avatar: https://pbs.twimg.com/profile_images/1465497971685048323/SCj-m6G5_normal.jpg\n"
          ]
        }
      ]
    },
    {
      "cell_type": "code",
      "source": [
        "# guardar twits\n",
        "import twint\n",
        "\n",
        "c = twint.Config()\n",
        "\n",
        "c.Username = 'PabloSoifer1'\n",
        "c.Limit = 20\n",
        "c.Store_object = True\n",
        "\n",
        "twint.run.Search(c)\n",
        "tweets = twint.output.tweets_list"
      ],
      "metadata": {
        "id": "NWEuOVYZ-cNn"
      },
      "execution_count": null,
      "outputs": []
    },
    {
      "cell_type": "code",
      "source": [
        "# especificar en qué lista almacenar los tweets:\n",
        "\n",
        "import twint\n",
        "\n",
        "tweets = []\n",
        "\n",
        "c = twint.Config()\n",
        "\n",
        "c.Username = 'PabloSoifer1'\n",
        "c.Limit = 20\n",
        "c.Store_object = True\n",
        "c.Store_object_tweets_list = tweets\n",
        "\n",
        "twint.run.Search(c)\n",
        "# now 'tweets' contains the tweets\n",
        "# twint.output.tweets_list` is empty"
      ],
      "metadata": {
        "colab": {
          "base_uri": "https://localhost:8080/"
        },
        "id": "T0fxR3-0-4mj",
        "outputId": "4de06301-b3e5-4695-da22-09308dbd95e5"
      },
      "execution_count": 21,
      "outputs": [
        {
          "output_type": "stream",
          "name": "stdout",
          "text": [
            "1576254291702341633 2022-10-01 16:54:43 +0000 <PabloSoifer1>  https://t.co/GIlVkyUrgX Alguien mas tuvo que cantar esto en clase?\n",
            "1576246167838474240 2022-10-01 16:22:26 +0000 <PabloSoifer1> @LadyMaqui @BonelliOK Y tambien siempre que se rompe algo, alguien se beneficia. Mi familia estuvo muy bien durante la hiper, era literalmente una fiesta y durante el menemismo nos fuimos a pique, la familia de mi esposa fue exactamente al reves.\n",
            "1576235453971587079 2022-10-01 15:39:51 +0000 <PabloSoifer1> @Sangonzalezz @BonelliOK Si rompe el mercado cambiario un poco mas lo voto como dictador eterno.\n",
            "1576235187595534337 2022-10-01 15:38:48 +0000 <PabloSoifer1> @fjb86 @RAMIROMARRA GRATIS 🤣🤣🤣🤣🤣🤣🤣🤣🤣🤣🤣🤣\n",
            "1576235077612482560 2022-10-01 15:38:22 +0000 <PabloSoifer1> @fjb86 @RAMIROMARRA Codo a Codo 🤣🤣🤣🤣🤣🤣🤣🤣🤣🤣\n",
            "1576234919642025985 2022-10-01 15:37:44 +0000 <PabloSoifer1> @RAMIROMARRA Pongamoslo de esta manera: Si mañana la sacamos del puesto y borramos esa posicion, ALGO cambia en la ciudad? No? Entonces chau.\n",
            "1576234628121493504 2022-10-01 15:36:35 +0000 <PabloSoifer1> Esta mufando a Lula este.\n",
            "1576233712437841921 2022-10-01 15:32:56 +0000 <PabloSoifer1> @Gregoriodalbon Estamos hablando de Nisman? Pasaron unos años, no un mes, es lo que tengo para corregir.\n",
            "1576233058839064577 2022-10-01 15:30:20 +0000 <PabloSoifer1> @Sangonzalezz @BonelliOK Exactamente. Que me vaya bien por mi esfuerzo no tiene por que ser obra del boludo este que hace de presidente.\n",
            "1576230169580568576 2022-10-01 15:18:52 +0000 <PabloSoifer1> @BonelliOK Ahora, no siempre \"me fue bien economicamente\" va ligado a un gobierno y nunca deberia ser asi.\n",
            "1576229980761391104 2022-10-01 15:18:07 +0000 <PabloSoifer1> @elpardua @thugGauss Es el unico motivo.\n",
            "1576229601986375680 2022-10-01 15:16:36 +0000 <PabloSoifer1> @_Lg_sus @emakant Yo tambien.\n",
            "1576229540271370241 2022-10-01 15:16:21 +0000 <PabloSoifer1> @vparedes1976 @elpardua @JuanAncap Parece que siempre hay.\n",
            "1576229458725703680 2022-10-01 15:16:02 +0000 <PabloSoifer1> @fontaina_david @C5N @PedroBriegerOk Ahora es momento de programar y suscribirse 🤣\n",
            "1576221184605028353 2022-10-01 14:43:09 +0000 <PabloSoifer1> @elpardua @JuanAncap Algunas me preguntan a veces como lograr conseguir a la persona cuando les tocan estas misiones imposibles.\n",
            "1576207933011943424 2022-10-01 13:50:30 +0000 <PabloSoifer1> @kolocsar Tiene de todo en 2 minutos.\n",
            "1576207864922001408 2022-10-01 13:50:14 +0000 <PabloSoifer1> Me gusta esta Rosa de Guadalupe version Rappi.\n",
            "1576207466299523072 2022-10-01 13:48:39 +0000 <PabloSoifer1> @kolocsar Asi y todo es mejor que Crepusculo.\n",
            "1576206431153364993 2022-10-01 13:44:32 +0000 <PabloSoifer1> @OldManMaverick Lo interesante es que te dicen \"A, merecen ser de rusia porque son todos rusos\" sin tener el contexto de por que son todos rusos en esos lugares.\n",
            "1576206134569889792 2022-10-01 13:43:21 +0000 <PabloSoifer1> @C5N @PedroBriegerOk Buenisimo que lo hayan mufado.\n"
          ]
        }
      ]
    },
    {
      "cell_type": "code",
      "source": [],
      "metadata": {
        "id": "SHsBzz5T-7DY"
      },
      "execution_count": null,
      "outputs": []
    }
  ]
}
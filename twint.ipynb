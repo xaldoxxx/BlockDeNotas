{
  "nbformat": 4,
  "nbformat_minor": 0,
  "metadata": {
    "colab": {
      "provenance": [],
      "authorship_tag": "ABX9TyNfCYiLayOXmUqsmSV0vMji",
      "include_colab_link": true
    },
    "kernelspec": {
      "name": "python3",
      "display_name": "Python 3"
    },
    "language_info": {
      "name": "python"
    }
  },
  "cells": [
    {
      "cell_type": "markdown",
      "metadata": {
        "id": "view-in-github",
        "colab_type": "text"
      },
      "source": [
        "<a href=\"https://colab.research.google.com/github/xaldoxxx/BlockDeNotas/blob/main/twint.ipynb\" target=\"_parent\"><img src=\"https://colab.research.google.com/assets/colab-badge.svg\" alt=\"Open In Colab\"/></a>"
      ]
    },
    {
      "cell_type": "markdown",
      "source": [
        "raspador de twitter sin usar la api de twitter\n"
      ],
      "metadata": {
        "id": "siaBN4Kfrqk-"
      }
    },
    {
      "cell_type": "code",
      "execution_count": null,
      "metadata": {
        "id": "oUbL539mroCf"
      },
      "outputs": [],
      "source": [
        "!pip install nest-asyncio==1.5.3\n",
        "!pip install aiohttp==3.7.0\n",
        "!git clone --depth=1 https://github.com/twintproject/twint.git\n",
        "!cd /content/twint && pip3 install . -r requirements.txt"
      ]
    },
    {
      "cell_type": "code",
      "source": [
        "import twint # https://github.com/twintproject/twint/wiki\n",
        "import nest_asyncio\n",
        "nest_asyncio.apply()\n",
        "import time\n",
        "import pandas as pd\n",
        "import os\n",
        "import re\n",
        "timestr = time.strftime(\"%Y%m%d\")\n",
        "\n",
        "c = twint.Config()\n",
        "c.Limit = 1000\n",
        "c.Lang = \"es\"\n",
        "c.Store_csv = True\n",
        "c.Search = \"remoto python jr\"\n",
        "c.Output = timestr + \"data.csv\"\n",
        "twint.run.Search(c)"
      ],
      "metadata": {
        "colab": {
          "base_uri": "https://localhost:8080/"
        },
        "id": "a9c-V8Kur7ld",
        "outputId": "8d2b3906-5cc0-4cf7-86b2-77a2fb641845"
      },
      "execution_count": 8,
      "outputs": [
        {
          "output_type": "stream",
          "name": "stdout",
          "text": [
            "1574638773471780864 2022-09-27 05:55:13 +0000 <vagasprajr> Python Tech Lead / Research + Development - Remote Work BairesDev  Trabalho remoto in Rio de Janeiro, RJ+6 locais Mais no link: https://t.co/j2l3voYQcD\n",
            "1574638772288905216 2022-09-27 05:55:13 +0000 <vagasprajr> Python Tech Lead - REMOTE WORK BairesDev  Trabalho remoto in Rio de Janeiro, RJ+6 locais Mais no link: https://t.co/L3utihM2Oc\n",
            "1574638771047481344 2022-09-27 05:55:13 +0000 <vagasprajr> Python Backend Tech Lead / R + D - Remote Work BairesDev  Trabalho remoto in Rio de Janeiro, RJ+6 locais Mais no link: https://t.co/CAYqzjkZo6\n",
            "1573435174259507200 2022-09-23 22:12:33 +0000 <Az_Cotic> Buenas, alguno sabe de oportunidades de Python? Tengo un mentorado Jr. Remoto que necesita una primera oportunidad.  Flask/Django @mavillanita @blindma1den @diana_nerd\n",
            "1573043707137474560 2022-09-22 20:17:00 +0000 <ValeRecruiter> Chic@s, estoy buscando profesionales🙎🏽‍♀️👇de:  📊Data Analytics Jr/Ssr - Remoto Arg. - Experiencia con Python, SQL, Excel, SAP. - Inglés avanzado.  👩🏽‍💻Help desk - Presencial en CABA - Mantenimiento y reparación. - Inglés intermedio.  CV a talentosvat@gmail.com o DM📩\n",
            "1572548526726590464 2022-09-21 11:29:19 +0000 <mvirginia_b> Estoy buscando Devs #Python #Jr Adv (+1 año de exp.) que haya trabajado con microservicios en Lambda, API Gateway y AWS.  Sin inglés. 100% remoto. Full time.  Hasta 1500 USD mensuales aprox.   Me ayudan con RTs? 🙏🏻  📩 virginia@rooftop.dev  https://t.co/Q9vFyxKZLa\n",
            "1568570394394640385 2022-09-10 12:01:39 +0000 <conaconsultores> #CONABUSCA 224BE | FULLSTACK DEVELOPER JR JAVASCRIPT + PYTHON | REMOTO - PRESENCIAL | CABA    https://t.co/FSKA7mRxoy  #oportunidadlaboral #somoscona #trabajoar #empleoargentina #ofertalaboral #rrhhargentina  https://t.co/yZAnl1g0y3\n",
            "1557770708771553281 2022-08-11 16:47:33 +0000 <RemotarJobs> 💧 Vaga remota Desenvolvedora sistema Python Jr na Sensedata  Via Freshteam  🌍 100% Remoto   https://t.co/tHr7P0hyHk\n",
            "1557161922902036481 2022-08-10 00:28:27 +0000 <vagasprajr> Desenvolvedora sistema Python Jr SenseData  Trabalho remoto Mais no link: https://t.co/Vc2pZgrYg7\n",
            "1552054672877305856 2022-07-26 22:14:04 +0000 <vagasprajr> PESSOA Desenvolvedor Python Jr DataforAll Soluções Inteligentes  Trabalho remoto Mais no link: https://t.co/VPtYWrkqyn\n",
            "1550176765464780800 2022-07-21 17:51:56 +0000 <PythonArgentina> Oferta laboral: Python Developer JR (Remoto) - Empresa Méxicana (Wingoo·io)Busca desarrollador Python JRExperien...  https://t.co/ZU0K68BfSV\n",
            "1549539269508825088 2022-07-19 23:38:45 +0000 <vagasprajr> Pessoa Desenvolvedora Python Jr - Cód 3404 (Segmento de Just... Softplan  Trabalho remoto in Florianópolis, SC Mais no link: https://t.co/BqKKgVRckB\n",
            "1549448546897780737 2022-07-19 17:38:15 +0000 <vagasprajr> Pessoa Desenvolvedora Python Jr Softplan  Trabalho remoto in Florianópolis, SC Mais no link: https://t.co/8Zh7t3I8ke\n",
            "1547678215329628161 2022-07-14 20:23:35 +0000 <temvagaprajr> Vocês estão de férias? 🍹🏊‍♀️  Tem vaga pra júnior! 😎🚀 ▪️ Pessoa Engenheira de Dados Jr - Lopes ▫️ Requisitos: Experiência com Python, Scala e/ou Java; SQL e NoSQL; Big Data e Mensagerias ▫️ Remoto: Sim  https://t.co/yys0lywVrt\n",
            "1547201013999976448 2022-07-13 12:47:21 +0000 <tsourcing8> ¡Hey!🤓  ¡JR. FULLSTACK Llego la oportunidad que esperabas! 🇪🇸  Skills: 🚀 - 1 año de experiencia. - VueJS - Laravel - Python - AWS - Inglés B2  💯Remoto-Media jornada 📍Disponible para España 💶Pago en Euros  📧Envianos tu cv a yeiseth@interfell.com #hiring  https://t.co/MvEj2YuxMP\n",
            "1544533017070297090 2022-07-06 04:05:41 +0000 <vagasprajr> Desenvolvedor Python Jr SenseData  Trabalho remoto Mais no link: https://t.co/tHYSljfd5b\n",
            "1544276145088126979 2022-07-05 11:04:58 +0000 <vagasprajr> Desenvolvedor sistema Python Jr SenseData  Trabalho remoto Mais no link: https://t.co/m1E5cFSQYg\n",
            "1538893371435110401 2022-06-20 14:35:45 +0000 <vagasprajr> Desenvolvedor(a) Python Jr.  Trabalho remoto Mais no link: https://t.co/G9rAnIORcc\n",
            "1537096803950153731 2022-06-15 15:36:50 +0000 <AgusLemucchi> Tengo una vacante Jr+ de un perfil super nuevo 👀 Me ayudan? Snowflake Engineer con por lo menos un año de experiencia y conocimientos en Python, AWS y Terraform  ❌Requiere inglés ✅ Pago en pesos Colombianos 🇨🇴Remoto dentro de Colombia\n",
            "1535741746117853185 2022-06-11 21:52:19 +0000 <Abismo_Neo> @frasalazar Python-Django trainee o jr sin exp remoto 😅\n",
            "1525071547504988162 2022-05-13 11:12:46 +0000 <vagasprajr> Desenvolvedor Back End - Python | Django Jr (PJ) Mayo Consultoria  Trabalho remoto in São Paulo, SP Mais no link: https://t.co/awGXm6BCdf\n",
            "1523813786943074304 2022-05-09 23:54:52 +0000 <ceoriquelmea> Estoy retomando una antigua #softwarefactory estamos buscando #FullStackDeveloper Jr y Middle Senior en #remoto a repartir Reveneu Shared, interesados (a) DM. Tech ideal React.js Next.js &amp; Python, Ruby on Rails\n",
            "1523052265959202817 2022-05-07 21:28:51 +0000 <ChrisAl31312505> @josedlujan Soy jr en Data Cientist/Data Analist y apasionado de python, tengo un año de experiencia en esos skill, pero aparte soy desarrollador en C#, sirve si estoy buscando trabajo remoto?\n",
            "1522036908183937025 2022-05-05 02:14:11 +0000 <vagasprajr> Desenvolvedor(a) Python Jr IVORY TALENT  Trabalho remoto Mais no link: https://t.co/IGAkfXDq2R\n",
            "1518598243776483328 2022-04-25 14:30:10 +0000 <HitmarkerBR> 💼 Jr Python Developer (Data Science) 🏢 Gazeus Games | @gazeusgames 🌎 Remoto (Brasil) 📃 Tempo Integral 🎚 Júnior 🏷 Engenharia de Software, Pesquisa  https://t.co/QNUi1ym4hg\n",
            "1516174745791721472 2022-04-18 22:00:03 +0000 <HitmarkerBR> 💼 Jr Python Developer (Data Science) 🏢 Gazeus Games | @gazeusgames 🌎 Remoto (Brasil) 📃 Tempo Integral 🎚 Júnior 🏷 Engenharia de Software, Pesquisa  https://t.co/QNUi1ym4hg\n",
            "1512558958590009345 2022-04-08 22:32:12 +0000 <vagasprajr> Pessoa Desenvolvedor(a) Python Jr Datum TI  Trabalho remoto Mais no link: https://t.co/j1QZ9P1wWu\n",
            "1511320215543595016 2022-04-05 12:29:53 +0000 <Martin_codes86> REMOTO EN DÓLARES: (SOLO ARGENTINA) - #JAVA Ref. 2063 Backend Developer JR/SSR. Inglés intermedio. - #JAVASCRIPT Ref. 2150 Fullstack Engineer. SSR/SR. Inglés avanzado. - #PYTHON Ref. 2002 Solution Architect / Tech Lead SR. Inglés avanzado. ⬇️⬇️⬇️⬇️⬇️⬇️\n",
            "1504506632662790145 2022-03-17 17:15:08 +0000 <HitmarkerBR> A @gazeusgames busca profissional com EXP desenvolvendo em uma das seguintes linguagens: Python, C, C++, C#, Java, Scala, Erlang, Clojure.  💼 Jr Python Developer (Data Science) 🌎 Remoto (Brasil) 📃 Tempo Integral 🎚 Júnior 🏷 Eng. de Software, Pesquisa  https://t.co/QNUi1ym4hg\n",
            "1504142494300180482 2022-03-16 17:08:10 +0000 <unasocialentech> Santiago de Chile  alrededores - Híbrido/Remoto   Informáticos/Desarrolladores   exp en Python, Cloud Jr, QA, Proyectos, AI, asistente de soporte IT  Les tengo novedades 🚀\n",
            "1503379749447553024 2022-03-14 14:37:18 +0000 <vagasprajr> Programador(a) Web Python Jr  R$ 3.000 por mês Trabalho remoto Mais no link: https://t.co/PzEMXCNgAv\n",
            "1500023308284268544 2022-03-05 08:20:00 +0000 <vagasprajr> Desenvolvedor Python Jr 01 Tecnologia  Trabalho remoto in Curitiba, PR Mais no link: https://t.co/CMkEYddT5Z\n",
            "1499011902504153104 2022-03-02 13:21:02 +0000 <BarneyGomez01> @frasalazar desarrollador python jr remoto\n",
            "1495075335083380745 2022-02-19 16:38:31 +0000 <vagasprajr> Desenvolvedor Python Jr. MoreDeve R$ 1.500 por mês Trabalho remoto Mais no link: https://t.co/rdcyBQwfAc\n",
            "1491607836052361226 2022-02-10 02:59:55 +0000 <tauantaiguara> Vi agora uma vaga de Dev. Java Sênior pagando 13k com trabalho remoto. Deixe-me fazer a reciclagem do Java e tentar uma vaga Jr. porque se me pagarem 5k pra escrever código, já fico felizão. Como sou mais apegado ao Python, muita coisa de Java já nem lembro mais.\n",
            "1490334968794558474 2022-02-06 14:42:00 +0000 <temvagaprajr> Domingo de sol por aí? 🌞 Vagas quentinhas chegando!  Tem vaga pra Júnior! 😎🚀  ▪️ Desenvolvedor Full Stack Jr. - NeuralMind ▫️ Requisitos: Experiência com Python e ambiente Linux ▫️ Remoto: Sim ▫️ Candidatura:  https://t.co/IjyK1Z2imd\n",
            "1487248734664679428 2022-01-29 02:18:24 +0000 <vgrajanda> Hola comunidad tech 😁  Estoy buscando mi primer trabajo Jr/ prácticas / trainee  en ciberseguridad remoto o presencial en Aguascalientes, MX  Tengo conocimientos en:  Linux, redes básicas, servidores linux, pentesting básico, python básico, inglés intermedio.\n",
            "1471116301393436672 2021-12-15 13:53:52 +0000 <fjseva> 😎 @CmvConsultores está contratando en Remoto un Programador Jr Python (💰~18000€/Anual) (🌎España). #trabajoremoto #remotejobs #python   Aplica aquí 👇  https://t.co/6bHz0WlqMT\n",
            "1471102507577393153 2021-12-15 12:59:04 +0000 <RemotoList> 😎 @CmvConsultores está contratando en Remoto un Programador Jr Python (💰~18000€/Anual) (🌎España). #trabajoremoto #remotejobs #python   Aplica aquí 👇  https://t.co/NHFaT9o1jX\n",
            "1469007690462601221 2021-12-09 18:15:00 +0000 <HitmarkerBR> A @gazeusgames busca pessoa com EXP desenvolvendo em uma das seguintes linguagens: Python, C, C++, C#, Java, Scala, Erlang, Clojure.  💼 Jr Python Developer (Data Science) 🌎 Remoto (Brasil) 📃 Tempo Integral 🎚 Júnior 🏷 Eng. de Software, Pesquisa  https://t.co/QNUi1yDFFQ\n",
            "1448715904045371404 2021-10-14 18:22:42 +0000 <asaditojs> Python Devs JR (exp. en Django)  ⌚️ Part Time o Full Time (6hs/8hs) 🌎 Remoto por el momento (luego en Palermo Soho con días de HO)  Vacaciones y horario flex, transporte, internet, abono o capacitaciones pagas, bonificaciones en gym, OSDE, entre otros.  👉 https://t.co/IzrMFrRpRc  https://t.co/J1OhBMDf91\n",
            "[!] No more data! Scraping will stop now.\n",
            "found 0 deleted tweets in this search.\n"
          ]
        }
      ]
    },
    {
      "cell_type": "code",
      "source": [],
      "metadata": {
        "id": "irjeee5duVAV"
      },
      "execution_count": null,
      "outputs": []
    },
    {
      "cell_type": "code",
      "source": [],
      "metadata": {
        "id": "OUiUxZA6sQ2I"
      },
      "execution_count": null,
      "outputs": []
    }
  ]
}
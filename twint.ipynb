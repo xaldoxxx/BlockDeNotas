{
  "nbformat": 4,
  "nbformat_minor": 0,
  "metadata": {
    "colab": {
      "provenance": [],
      "authorship_tag": "ABX9TyM0W6FE6N4pEO2gO3JtuwqH",
      "include_colab_link": true
    },
    "kernelspec": {
      "name": "python3",
      "display_name": "Python 3"
    },
    "language_info": {
      "name": "python"
    }
  },
  "cells": [
    {
      "cell_type": "markdown",
      "metadata": {
        "id": "view-in-github",
        "colab_type": "text"
      },
      "source": [
        "<a href=\"https://colab.research.google.com/github/xaldoxxx/BlockDeNotas/blob/main/twint.ipynb\" target=\"_parent\"><img src=\"https://colab.research.google.com/assets/colab-badge.svg\" alt=\"Open In Colab\"/></a>"
      ]
    },
    {
      "cell_type": "markdown",
      "source": [
        "raspador de twitter sin usar la api de twitter\n"
      ],
      "metadata": {
        "id": "siaBN4Kfrqk-"
      }
    },
    {
      "cell_type": "code",
      "execution_count": 2,
      "metadata": {
        "id": "oUbL539mroCf",
        "colab": {
          "base_uri": "https://localhost:8080/"
        },
        "outputId": "f626c2e2-9793-454d-b74d-097d46a7e6ac"
      },
      "outputs": [
        {
          "output_type": "stream",
          "name": "stdout",
          "text": [
            "Looking in indexes: https://pypi.org/simple, https://us-python.pkg.dev/colab-wheels/public/simple/\n",
            "Collecting nest-asyncio==1.5.3\n",
            "  Downloading nest_asyncio-1.5.3-py3-none-any.whl (5.1 kB)\n",
            "Installing collected packages: nest-asyncio\n",
            "Successfully installed nest-asyncio-1.5.3\n",
            "Looking in indexes: https://pypi.org/simple, https://us-python.pkg.dev/colab-wheels/public/simple/\n",
            "Collecting aiohttp==3.7.0\n",
            "  Downloading aiohttp-3.7.0-cp37-cp37m-manylinux2014_x86_64.whl (1.3 MB)\n",
            "\u001b[K     |████████████████████████████████| 1.3 MB 2.1 MB/s \n",
            "\u001b[?25hRequirement already satisfied: yarl<2.0,>=1.0 in /usr/local/lib/python3.7/dist-packages (from aiohttp==3.7.0) (1.8.1)\n",
            "Requirement already satisfied: multidict<7.0,>=4.5 in /usr/local/lib/python3.7/dist-packages (from aiohttp==3.7.0) (6.0.2)\n",
            "Collecting async-timeout<4.0,>=3.0\n",
            "  Downloading async_timeout-3.0.1-py3-none-any.whl (8.2 kB)\n",
            "Requirement already satisfied: chardet<4.0,>=2.0 in /usr/local/lib/python3.7/dist-packages (from aiohttp==3.7.0) (3.0.4)\n",
            "Requirement already satisfied: attrs>=17.3.0 in /usr/local/lib/python3.7/dist-packages (from aiohttp==3.7.0) (22.1.0)\n",
            "Requirement already satisfied: idna>=2.0 in /usr/local/lib/python3.7/dist-packages (from yarl<2.0,>=1.0->aiohttp==3.7.0) (2.10)\n",
            "Requirement already satisfied: typing-extensions>=3.7.4 in /usr/local/lib/python3.7/dist-packages (from yarl<2.0,>=1.0->aiohttp==3.7.0) (4.1.1)\n",
            "Installing collected packages: async-timeout, aiohttp\n",
            "  Attempting uninstall: async-timeout\n",
            "    Found existing installation: async-timeout 4.0.2\n",
            "    Uninstalling async-timeout-4.0.2:\n",
            "      Successfully uninstalled async-timeout-4.0.2\n",
            "  Attempting uninstall: aiohttp\n",
            "    Found existing installation: aiohttp 3.8.3\n",
            "    Uninstalling aiohttp-3.8.3:\n",
            "      Successfully uninstalled aiohttp-3.8.3\n",
            "Successfully installed aiohttp-3.7.0 async-timeout-3.0.1\n",
            "Cloning into 'twint'...\n",
            "remote: Enumerating objects: 47, done.\u001b[K\n",
            "remote: Counting objects: 100% (47/47), done.\u001b[K\n",
            "remote: Compressing objects: 100% (44/44), done.\u001b[K\n",
            "remote: Total 47 (delta 3), reused 14 (delta 0), pack-reused 0\u001b[K\n",
            "Unpacking objects: 100% (47/47), done.\n",
            "Looking in indexes: https://pypi.org/simple, https://us-python.pkg.dev/colab-wheels/public/simple/\n",
            "Processing /content/twint\n",
            "\u001b[33m  DEPRECATION: A future pip version will change local packages to be built in-place without first copying to a temporary directory. We recommend you use --use-feature=in-tree-build to test your packages with this new behavior before it becomes the default.\n",
            "   pip 21.3 will remove support for this functionality. You can find discussion regarding this at https://github.com/pypa/pip/issues/7555.\u001b[0m\n",
            "Requirement already satisfied: aiohttp in /usr/local/lib/python3.7/dist-packages (from -r requirements.txt (line 1)) (3.7.0)\n",
            "Collecting aiodns\n",
            "  Downloading aiodns-3.0.0-py3-none-any.whl (5.0 kB)\n",
            "Requirement already satisfied: beautifulsoup4 in /usr/local/lib/python3.7/dist-packages (from -r requirements.txt (line 3)) (4.6.3)\n",
            "Collecting cchardet\n",
            "  Downloading cchardet-2.1.7-cp37-cp37m-manylinux2010_x86_64.whl (263 kB)\n",
            "\u001b[K     |████████████████████████████████| 263 kB 2.1 MB/s \n",
            "\u001b[?25hCollecting dataclasses\n",
            "  Downloading dataclasses-0.6-py3-none-any.whl (14 kB)\n",
            "Collecting elasticsearch\n",
            "  Downloading elasticsearch-8.4.3-py3-none-any.whl (384 kB)\n",
            "\u001b[K     |████████████████████████████████| 384 kB 28.7 MB/s \n",
            "\u001b[?25hRequirement already satisfied: pysocks in /usr/local/lib/python3.7/dist-packages (from -r requirements.txt (line 7)) (1.7.1)\n",
            "Requirement already satisfied: pandas>=0.23.0 in /usr/local/lib/python3.7/dist-packages (from -r requirements.txt (line 8)) (1.3.5)\n",
            "Collecting aiohttp_socks<=0.4.1\n",
            "  Downloading aiohttp_socks-0.4.1-py3-none-any.whl (17 kB)\n",
            "Collecting schedule\n",
            "  Downloading schedule-1.1.0-py2.py3-none-any.whl (10 kB)\n",
            "Requirement already satisfied: geopy in /usr/local/lib/python3.7/dist-packages (from -r requirements.txt (line 11)) (1.17.0)\n",
            "Collecting fake-useragent\n",
            "  Downloading fake-useragent-0.1.11.tar.gz (13 kB)\n",
            "Collecting googletransx\n",
            "  Downloading googletransx-2.4.2.tar.gz (13 kB)\n",
            "Requirement already satisfied: python-dateutil>=2.7.3 in /usr/local/lib/python3.7/dist-packages (from pandas>=0.23.0->-r requirements.txt (line 8)) (2.8.2)\n",
            "Requirement already satisfied: numpy>=1.17.3 in /usr/local/lib/python3.7/dist-packages (from pandas>=0.23.0->-r requirements.txt (line 8)) (1.21.6)\n",
            "Requirement already satisfied: pytz>=2017.3 in /usr/local/lib/python3.7/dist-packages (from pandas>=0.23.0->-r requirements.txt (line 8)) (2022.4)\n",
            "Requirement already satisfied: attrs>=19.2.0 in /usr/local/lib/python3.7/dist-packages (from aiohttp_socks<=0.4.1->-r requirements.txt (line 9)) (22.1.0)\n",
            "Requirement already satisfied: chardet<4.0,>=2.0 in /usr/local/lib/python3.7/dist-packages (from aiohttp->-r requirements.txt (line 1)) (3.0.4)\n",
            "Requirement already satisfied: multidict<7.0,>=4.5 in /usr/local/lib/python3.7/dist-packages (from aiohttp->-r requirements.txt (line 1)) (6.0.2)\n",
            "Requirement already satisfied: async-timeout<4.0,>=3.0 in /usr/local/lib/python3.7/dist-packages (from aiohttp->-r requirements.txt (line 1)) (3.0.1)\n",
            "Requirement already satisfied: yarl<2.0,>=1.0 in /usr/local/lib/python3.7/dist-packages (from aiohttp->-r requirements.txt (line 1)) (1.8.1)\n",
            "Requirement already satisfied: six>=1.5 in /usr/local/lib/python3.7/dist-packages (from python-dateutil>=2.7.3->pandas>=0.23.0->-r requirements.txt (line 8)) (1.15.0)\n",
            "Requirement already satisfied: typing-extensions>=3.7.4 in /usr/local/lib/python3.7/dist-packages (from yarl<2.0,>=1.0->aiohttp->-r requirements.txt (line 1)) (4.1.1)\n",
            "Requirement already satisfied: idna>=2.0 in /usr/local/lib/python3.7/dist-packages (from yarl<2.0,>=1.0->aiohttp->-r requirements.txt (line 1)) (2.10)\n",
            "Collecting pycares>=4.0.0\n",
            "  Downloading pycares-4.2.2-cp37-cp37m-manylinux_2_17_x86_64.manylinux2014_x86_64.whl (288 kB)\n",
            "\u001b[K     |████████████████████████████████| 288 kB 45.4 MB/s \n",
            "\u001b[?25hRequirement already satisfied: cffi>=1.5.0 in /usr/local/lib/python3.7/dist-packages (from pycares>=4.0.0->aiodns->-r requirements.txt (line 2)) (1.15.1)\n",
            "Requirement already satisfied: pycparser in /usr/local/lib/python3.7/dist-packages (from cffi>=1.5.0->pycares>=4.0.0->aiodns->-r requirements.txt (line 2)) (2.21)\n",
            "Collecting elastic-transport<9,>=8\n",
            "  Downloading elastic_transport-8.4.0-py3-none-any.whl (59 kB)\n",
            "\u001b[K     |████████████████████████████████| 59 kB 7.2 MB/s \n",
            "\u001b[?25hCollecting urllib3<2,>=1.26.2\n",
            "  Downloading urllib3-1.26.12-py2.py3-none-any.whl (140 kB)\n",
            "\u001b[K     |████████████████████████████████| 140 kB 45.9 MB/s \n",
            "\u001b[?25hRequirement already satisfied: certifi in /usr/local/lib/python3.7/dist-packages (from elastic-transport<9,>=8->elasticsearch->-r requirements.txt (line 6)) (2022.9.24)\n",
            "Requirement already satisfied: geographiclib<2,>=1.49 in /usr/local/lib/python3.7/dist-packages (from geopy->-r requirements.txt (line 11)) (1.52)\n",
            "Requirement already satisfied: requests in /usr/local/lib/python3.7/dist-packages (from googletransx->-r requirements.txt (line 13)) (2.23.0)\n",
            "Collecting requests\n",
            "  Downloading requests-2.28.1-py3-none-any.whl (62 kB)\n",
            "\u001b[K     |████████████████████████████████| 62 kB 1.5 MB/s \n",
            "\u001b[?25hRequirement already satisfied: charset-normalizer<3,>=2 in /usr/local/lib/python3.7/dist-packages (from requests->googletransx->-r requirements.txt (line 13)) (2.1.1)\n",
            "Building wheels for collected packages: twint, fake-useragent, googletransx\n",
            "  Building wheel for twint (setup.py) ... \u001b[?25l\u001b[?25hdone\n",
            "  Created wheel for twint: filename=twint-2.1.21-py3-none-any.whl size=38871 sha256=78211e127e88549cf3326bccdd4b17ec088a6d570d2c8265b181745b85d50007\n",
            "  Stored in directory: /tmp/pip-ephem-wheel-cache-dzudz_8h/wheels/f7/3e/11/2803f3c6890e87a9bec35bb8e37ef1ad0777a00f43e2441fb1\n",
            "  Building wheel for fake-useragent (setup.py) ... \u001b[?25l\u001b[?25hdone\n",
            "  Created wheel for fake-useragent: filename=fake_useragent-0.1.11-py3-none-any.whl size=13502 sha256=5f721f07487e4a81b4fcc524a0931546bfcd5a33a3d78b8d7b15166334896351\n",
            "  Stored in directory: /root/.cache/pip/wheels/ed/f7/62/50ab6c9a0b5567267ab76a9daa9d06315704209b2c5d032031\n",
            "  Building wheel for googletransx (setup.py) ... \u001b[?25l\u001b[?25hdone\n",
            "  Created wheel for googletransx: filename=googletransx-2.4.2-py3-none-any.whl size=15968 sha256=1e08a63f9cc3e681556871e76b250fad318501b3eb1e40d5423dce408772dbdd\n",
            "  Stored in directory: /root/.cache/pip/wheels/66/d5/b1/31104b338f7fd45aa8f7d22587765db06773b13df48a89735f\n",
            "Successfully built twint fake-useragent googletransx\n",
            "Installing collected packages: urllib3, requests, pycares, elastic-transport, schedule, googletransx, fake-useragent, elasticsearch, dataclasses, cchardet, aiohttp-socks, aiodns, twint\n",
            "  Attempting uninstall: urllib3\n",
            "    Found existing installation: urllib3 1.24.3\n",
            "    Uninstalling urllib3-1.24.3:\n",
            "      Successfully uninstalled urllib3-1.24.3\n",
            "  Attempting uninstall: requests\n",
            "    Found existing installation: requests 2.23.0\n",
            "    Uninstalling requests-2.23.0:\n",
            "      Successfully uninstalled requests-2.23.0\n",
            "Successfully installed aiodns-3.0.0 aiohttp-socks-0.4.1 cchardet-2.1.7 dataclasses-0.6 elastic-transport-8.4.0 elasticsearch-8.4.3 fake-useragent-0.1.11 googletransx-2.4.2 pycares-4.2.2 requests-2.28.1 schedule-1.1.0 twint-2.1.21 urllib3-1.26.12\n"
          ]
        }
      ],
      "source": [
        "!pip install nest-asyncio==1.5.3\n",
        "!pip install aiohttp==3.7.0\n",
        "!git clone --depth=1 https://github.com/twintproject/twint.git\n",
        "!cd /content/twint && pip3 install . -r requirements.txt"
      ]
    },
    {
      "cell_type": "markdown",
      "source": [
        "extraer datos a csv a partir de una cadena dada"
      ],
      "metadata": {
        "id": "CP5NJXFb_321"
      }
    },
    {
      "cell_type": "code",
      "source": [
        "import twint # https://github.com/twintproject/twint/wiki\n",
        "import nest_asyncio\n",
        "nest_asyncio.apply()\n",
        "import time\n",
        "import pandas as pd\n",
        "import os\n",
        "import re\n",
        "timestr = time.strftime(\"%Y%m%d\")\n",
        "\n",
        "c = twint.Config()\n",
        "c.Limit = 1000\n",
        "c.Lang = \"es\"\n",
        "c.Store_csv = True\n",
        "c.Search = \"python trainee\"   # cadena a modificar\n",
        "c.Output = timestr + \"data.csv\"\n",
        "twint.run.Search(c)"
      ],
      "metadata": {
        "colab": {
          "base_uri": "https://localhost:8080/"
        },
        "id": "a9c-V8Kur7ld",
        "outputId": "3478cb80-00c9-4418-f07d-dbc52843bf65"
      },
      "execution_count": 21,
      "outputs": [
        {
          "output_type": "stream",
          "name": "stdout",
          "text": [
            "1578530634363830272 2022-10-07 23:40:05 +0000 <EvonneMcArthur> Current tools (handwritten, PowerPoint, chart apps) all had their limitations and were not designed for medical trainees!   So I used @ThePSF #python 🐍with @plotlygraphs Dash and @Graphviz to develop a web tool that leverages the collaboration capabilities of @googlesheets 3/\n",
            "1578464082885165058 2022-10-07 19:15:38 +0000 <ledebalousseur> @yohannfa @Strauss_Dash @karelrostand La vidéo n’est ps complète! Celui parterre qu’il a traîné comme une traînée s’est mangé un python aussi\n",
            "1578282477302730752 2022-10-07 07:14:00 +0000 <HarwexT> #HiringAlert #kozhikode #JobSearch #Python #angular #flutter #webdesigner #videoediting #ContentWriting #Trainee  https://t.co/fgVpyCN9pJ\n",
            "1578282057100578818 2022-10-07 07:12:20 +0000 <HarwexT> #HiringAlert #kozhikode #JobSearch #Python #angular #flutter #webdesigner #videoediting #ContentWriting #Trainee  https://t.co/5Xwyz4OhY1\n",
            "1578222065231896576 2022-10-07 03:13:56 +0000 <CodingPullingo> GenC Programmer Trainee - Cognizant Off Campus #angular #html #javascript #css #programming #java #python #reactjs #webdevelopment #nodejs #php #webdeveloper #coding #react #vuejs #software #js #softwaredeveloper #developer #webdesign #programmer  https://t.co/xHGJZDqmRt\n",
            "1578041183548211200 2022-10-06 15:15:11 +0000 <TheRaoSambhaji> Escalent is Hiring Management Trainee / Analyst - Quant, Greater Kolkata Area- Bharat, Apply Here:  https://t.co/tDkdw4MteK #datascience #analytics #programming #python #sql #ml #bigdata\n",
            "1578040187367538688 2022-10-06 15:11:13 +0000 <ramsatt> Cognizant GenC Programmer Trainee Off Campus - IT PT - 2019, 2020, 2021 Batch #angular #html #javascript #css #programming #java #python #reactjs #webdevelopment #nodejs #php #webdeveloper #coding #react #vuejs #software #js #softwaredeveloper #develo...  https://t.co/2PLz9oOiBu\n",
            "1578028599906484224 2022-10-06 14:25:11 +0000 <TheRaoSambhaji> Feathersoft Info Solutions is Hiring Software Engineer Trainee - Machine Learning, Kochi- Bharat, Apply Here:  https://t.co/DUM2xZxPkz #datascience #analytics #programming #python #sql #ml #bigdata\n",
            "1577890188126310400 2022-10-06 05:15:11 +0000 <TheRaoSambhaji> U.S. Commodity Futures Trading Commission is Hiring Student Trainee (Data Scientist, Pathways Intern), Washington, DC- United States, Apply Here:  https://t.co/brYJzZCDkb #datascience #analytics #programming #python #sql #ml #bigdata\n",
            "1577858437299376129 2022-10-06 03:09:01 +0000 <CodingPullingo> Atos Off Campus Drive 2022 | Freshers | Trainee Engineer| BE/ B. Tech – CSE/ IT; MCA | 2022 Batch #angular #html #javascript #css #programming #java #python #reactjs #webdevelopment #nodejs #php #webdeveloper #coding #react #vuejs #software #js #softw...  https://t.co/R2ADkPHw27\n",
            "1577858435881717760 2022-10-06 03:09:00 +0000 <ramsatt> Atos Off Campus Drive 2022 | Freshers | Trainee Engineer| BE/ B. Tech – CSE/ IT; MCA | 2022 Batch #angular #html #javascript #css #programming #java #python #reactjs #webdevelopment #nodejs #php #webdeveloper #coding #react #vuejs #software #js #softw...  https://t.co/VhbAUuMCmF\n",
            "1577663697878753281 2022-10-05 14:15:11 +0000 <TheRaoSambhaji> Technosoft Engineering Projects Ltd is Hiring Trainee DevOps Engineer, Poona- Bharat, Apply Here:  https://t.co/VOzACRXLoV #datascience #analytics #programming #python #sql #ml #bigdata\n",
            "1577457067001925632 2022-10-05 00:34:07 +0000 <UmitAltin> @__mharrison__ Hi, I am Umit 👋  I am a fresh trainee for ML and DL in Python.  I have a project homework and I am stuck at a point. Can you point me to the right path?\n",
            "1577362507492007936 2022-10-04 18:18:22 +0000 <Amit_official97> @driscollis @TeachMePy Because I have started just as dara engineer trainee and learning python to core would help me immense to grow. And your subscription could be really helpful and also give me idea of new changes coming up.\n",
            "1576861825236316160 2022-10-03 09:08:50 +0000 <BassamInfotech> HIRING NOW !!! We are hiring Odoo Trainees. 📧 Send your resume to hrd@bassaminfotech.com   https://t.co/QvnoyO4A2D  #hiring #odoo #jobvaccancy #calicutjob #keralajobsearch #odootrainee #pythontrainee  #odoointerns #jobopenings #keralajobop  https://t.co/A4uVLeHh1v\n",
            "1576666456519245824 2022-10-02 20:12:30 +0000 <cyb3rD> Day 5 of #100DaysOfCode #Python   Today = Chill.  I need some time for rest. Will see how it will be tomorrow. Maybe I need at least 2*25 min trainee on mobile phone, while I'M driving to work...#SelfChallengeAccepted\n",
            "1575422673689116674 2022-09-29 09:50:10 +0000 <TheRaoSambhaji> Infoparks Kerala is Hiring Trainee Python Developer, Kochi- Bharat,Pls Check JOB ID: 231717 On  https://t.co/7Gv4JNUvTW #datascience #analytics\n",
            "1575322238928457728 2022-09-29 03:11:04 +0000 <thecubic> @ElleArmageddon trying to show off to a trainee, I decided to fix SUBNET_MASK=None (python!), restarted network through YaST, which unloads everything and left the system in hell This was a JMS broker serving prod and I did it live I had to confess my crime immediately to app ops, who buried it\n",
            "1575193141321179136 2022-09-28 18:38:05 +0000 <ipsr_solutions> Ms.Anjali K Rejive, BTech CSE Student from Mangalam College of Engineering,Ettumanoor did Python Training from ipsr solutions limited and got placed as Software Engineer Trainee in CATALIST.  #systemengineer #pythontraining #pythonprogramming #pythondeveloper  https://t.co/fVNqcnw5YC\n",
            "1574415088857092097 2022-09-26 15:06:23 +0000 <CodingPullingo> GenC Programmer Trainee - Cognizant Off Campus #angular #html #javascript #css #programming #java #python #reactjs #webdevelopment #nodejs #php #webdeveloper #coding #react #vuejs #software #js #softwaredeveloper #developer #webdesign #programmer #jqu...  https://t.co/70KcwTK1t0\n",
            "1574415087334346752 2022-09-26 15:06:22 +0000 <ramsatt> GenC Programmer Trainee - Cognizant Off Campus #angular #html #javascript #css #programming #java #python #reactjs #webdevelopment #nodejs #php #webdeveloper #coding #react #vuejs #software #js #softwaredeveloper #developer #webdesign #programmer #jqu...  https://t.co/sroKjfrugl\n",
            "1574159920487874561 2022-09-25 22:12:26 +0000 <lamagadepython> 👉 Fullstack Python Jr para Grupo Abans  https://t.co/0mDTvQpyzw 👉 Trainee React  https://t.co/Jx6ciDJ3bi 👉 Jr Information Security Analyst  https://t.co/5sOgF79dRS 👉 Data Architect Buenos Aires  https://t.co/uXIikGaQgy\n",
            "1574001283278594049 2022-09-25 11:42:04 +0000 <CodingPullingo> Cognizant GenC Programmer Trainee Off Campus - IT PT - 2019, 2020, 2021 Batch #angular #html #javascript #css #programming #java #python #reactjs #webdevelopment #nodejs #php #webdeveloper #coding #react #vuejs #software #js #softwaredeveloper #develo...  https://t.co/tCeAgih3tJ\n",
            "1574001281835798529 2022-09-25 11:42:03 +0000 <ramsatt> Cognizant GenC Programmer Trainee Off Campus - IT PT - 2019, 2020, 2021 Batch #angular #html #javascript #css #programming #java #python #reactjs #webdevelopment #nodejs #php #webdeveloper #coding #react #vuejs #software #js #softwaredeveloper #develo...  https://t.co/BpEMFXIl9j\n",
            "1573574827054870528 2022-09-24 07:27:29 +0000 <pyspiders> Congratulations \"RASHMI D.C\" For getting placed as \"TRAINEE WEB ANALYST\"  #pyspidersbasavanagudi #python #developer #traineewebanalyst #placedstudent #successfullyplaced #testimonial #futureofwork #successahead✌🏻❤️  https://t.co/TJomePczrO\n",
            "1573570723524014080 2022-09-24 07:11:10 +0000 <pyspiders> Congratulations \"VIJAYALAKSHMI H.M\" For getting placed as \"SYSTEM TRAINEE ENGINEER\"  #pyspidersbasavanagudi #python #developer #systemtrainee  #systemengineer  #placedstudent #successfullyplaced #testimonial #futureofwork #successahead✌🏻️❤️  https://t.co/Kyw5wDyzCG\n",
            "1573257563776626688 2022-09-23 10:26:47 +0000 <CaretIT> #We’re #hiring for the following positions: 1. Python/Odoo Trainee 2. Jr Odoo Developer 3. Sr Odoo Developer 4. Odoo Functional Consultant 5. Business Analyst 6. Flutter Developer  You can directly apply on:  https://t.co/S97IC3d8Ro OR Drop your CV at jobs@caretit.com #Recruitment  https://t.co/y1lxJYYIl9\n",
            "1573178744952352768 2022-09-23 05:13:35 +0000 <CodingPullingo> Atos Off Campus Drive 2022 | Freshers | Trainee Engineer| BE/ B. Tech – CSE/ IT; MCA | 2022 Batch #angular #html #javascript #css #programming #java #python #reactjs #webdevelopment #nodejs #php #webdeveloper #coding #react #vuejs #software #js #softw...  https://t.co/XNHvtxCpgN\n",
            "1573178743476002816 2022-09-23 05:13:35 +0000 <ramsatt> Atos Off Campus Drive 2022 | Freshers | Trainee Engineer| BE/ B. Tech – CSE/ IT; MCA | 2022 Batch #angular #html #javascript #css #programming #java #python #reactjs #webdevelopment #nodejs #php #webdeveloper #coding #react #vuejs #software #js #softw...  https://t.co/h3hEOAS3s4\n",
            "1572911400519094273 2022-09-22 11:31:15 +0000 <Emanueel92> @GuadaCorrea_ Para Python o java Jr/trainee tenes algo?\n",
            "1572829851190546434 2022-09-22 06:07:12 +0000 <AmosFreemanJr4> Attended the @orange  Ethiopia online training in Python I'm proud to be one of their trainees. Indeed it was awesome  https://t.co/ndpjGiK8Dj\n",
            "1572522574177013761 2022-09-21 09:46:12 +0000 <dad_doesWebDev> I still have 10-11 months left of my apprenticeship (granted my apprenticeship provider are useless). But with my private mentor and my fellow trainees coaching me I am to go all the way to very strong junior. #docker #flask #Python #Cloud\n",
            "1572233326823608321 2022-09-20 14:36:50 +0000 <ipsr_solutions> Ms.Maria C George, BTech CSE Student from Gurudeva Institute of Science &amp; Technology, Payyappady did Python Training from ipsr solutions limited and got placed as Software Engineer Trainee in CATALYST. #python #applicationengineer #systemengineer #systenanalyst #pythonprogramming  https://t.co/KHihM6oGYw\n",
            "1571955798770589699 2022-09-19 20:14:02 +0000 <CurlyBasta> Заїбашив охуєзний чілі. Залишилося тікі шоб взяли trainee. Python чи Ruby - вже не так важливо. Все одно вчити дохуя.\n",
            "1571840231825084426 2022-09-19 12:34:49 +0000 <pyspiders> Congratulations SUSHMITHA M.K For getting placed as SOFTWARE DEVELOPER TRAINEE  #pyspidersbasavanagudi #python #softwaredeveloper #placedstudent #successfullyplaced #testimonial #futureofwork  https://t.co/VDfOll0eky\n",
            "1571096251273482243 2022-09-17 11:18:30 +0000 <Marwaali_9> We leave in your hands a glimpse of the wonderful technical coach Osama Al-Assafa, who will accompany our dear trainees from tomorrow until Thursday in the first level of Python language 👩 💻🧑 💻 We look forward to meeting our dear trainees 😎🕊\n",
            "1571023373408546817 2022-09-17 06:28:55 +0000 <pyspiders> Congratulations RISHIKESH For getting placed as SQL TRAINEE  #pyspidersbasavanagudi #python #placedstudent #studentreview #sqltraineedeveloper  #tech #codinglife  https://t.co/Xhs34M7uLn\n",
            "1570936069498933248 2022-09-17 00:42:00 +0000 <SilanSoftware> NO. 1 Growing Technology In India. Develop Your Career IN PYTHON.. Become a Certified PYTHON Developer With US. #PYTHON #python #pythoncourse #free #offercourse #pythoncode #pythonfullstack #pythonlearning #technology #coursesonline  #pythontrainer #pythonclasses #pythontrainee  https://t.co/HUGwH6lDjF\n",
            "1570545458526978049 2022-09-15 22:49:51 +0000 <cthoyt> @tagirshin @rguha yup, scientific mentors don't usually care about good code. neither do journals. so it's awfully hard for trainees to figure this stuff out.  here's my science-ready python package template  https://t.co/Pmbznl4fVE but still I think it needs tons more effort to hand hold users\n",
            "1570462847884468224 2022-09-15 17:21:35 +0000 <Jobs_in_India_> #Job: #PYTHON INTERNS - Nagpur. Role Trainee Intern Location Nagpur Qualification BE any stream MCA BCA BCCA BSC MSC ...  https://t.co/8aCCY7VaIq\n",
            "1570290358382366720 2022-09-15 05:56:10 +0000 <pyspiders> Congratulations VINAY K.C For getting placed as BUSINESS AUTOMATION TRAINEE  #pyspidersbasavanagudi #python #automationtrainee  #placedstudent  #successfullyplaced  #testimonial  #futureofwork  https://t.co/dJG7ZmojCv\n",
            "1570031121303232515 2022-09-14 12:46:03 +0000 <fullstackjob> New Python Job: Software Developer Trainee(Angular-Python),Fresher  #python #react #angular #techjobs #devjobs   https://t.co/KoNeQuP8UJ  https://t.co/xiuicyFdCr\n",
            "1569963138698870786 2022-09-14 08:15:55 +0000 <TheRaoSambhaji> Pactera EDGE is hiring AI Engineer- Trainee,  https://t.co/BwgdPDLLM0  #python #machinelearning #ml #ai #artificialintelligence #maths #statistics #sql #git  https://t.co/xrDUTZ10AR\n",
            "1569943525533585408 2022-09-14 06:57:59 +0000 <dhina1420> Software developer trainee Fresher ku openings edhum irunthaa sollunga makkalae Python theriyum thnks in advance 🙏😊\n",
            "1569904582553378817 2022-09-14 04:23:14 +0000 <webilok> Webilok IT Services  We will help you choose the best courses. - HTML - CSS - PHP - PYTHON - .NET - ANDROID  #webilok #webilokitservices #HTML #htmlcss #css #students #college #ITCourses #python #training #trainees  https://t.co/NYoLkMgQkX\n",
            "1569275209093451777 2022-09-12 10:42:20 +0000 <zobjobsGB> Python Developer - Trainee at Harvey Beric Associates Our client is a well established and highly reputable online media company who are looking to appoint a Trainee ... #PythonDeveloper #jobs #harveyberic  https://t.co/jYvVaUdiJB\n",
            "1568355462487375872 2022-09-09 21:47:35 +0000 <ramsatt> GenC Programmer Trainee - Cognizant Off Campus #angular #html #javascript #css #programming #java #python #reactjs #webdevelopment #nodejs #php #webdeveloper #coding #react #vuejs #software #js #softwaredeveloper #developer #webdesign #programmer #jqu...  https://t.co/BoPuH8g4ix\n",
            "1568344335833509888 2022-09-09 21:03:22 +0000 <airinishbelflor> @codigoconjuan Trainee en Python.\n",
            "1568334855175553025 2022-09-09 20:25:42 +0000 <Darth_Ashes> @codigoconjuan Trainee tester con python\n",
            "1568285370827083780 2022-09-09 17:09:04 +0000 <cybermangueboy> @luluthedevil O SiDi é um lugar legal pra estágio/trainee/Jr se tu manjar alguma dessas: Android/Kotlin/Java/C++/C/C#/Python*.   https://t.co/isBUoRWub0\n",
            "1568185098218143744 2022-09-09 10:30:37 +0000 <aimleap> Hiring Python Data Analyst (Fresher/Trainee)  Experience: 0-1 Year  Location: Anywhere/India  Salary: 10K-15K INR/month  Functional Area: Data Management/Automation  Notice Period: Immediate  #dataanalytics #dataanalyst #datacleaning #datascience #python #workfromhome #hiring  https://t.co/ydVWrgsadB\n",
            "1567835212918267905 2022-09-08 11:20:18 +0000 <TheRaoSambhaji> Genpact hiring Management Trainee - Data Quality Consultant, Apply Here:  https://t.co/hyvLgrRLjr  #analytics #bigdata #python #sql #excel #jobs #freshers #hiring  https://t.co/vdWq7CMnZa\n",
            "1567750472819421185 2022-09-08 05:43:34 +0000 <AcademyFynd> Inviting trainees to join the following courses: - Full Stack with Python - Product Design UI/UX - Full Stack with JavaScript - Quality Engineering Hurry now to join the upcoming batch   https://t.co/fa4llSAVHz  #Python #javascript #productdesign #uiux #qa #engineering #technology  https://t.co/2xfsdc52nu\n",
            "1567646740789993472 2022-09-07 22:51:23 +0000 <CodingPullingo> Cognizant GenC Programmer Trainee Off Campus - IT PT - 2019, 2020, 2021 Batch #angular #html #javascript #css #programming #java #python #reactjs #webdevelopment #nodejs #php #webdeveloper #coding #react #vuejs #software #js #softwaredeveloper #develo...  https://t.co/Mw50OQ8hi3\n",
            "1567517181864480769 2022-09-07 14:16:33 +0000 <singhmukesh> Opportunity for Fresh Graduates!!  Apply for this intake of Trainee Program.   Skill set include:   - Database - QA - Java - Dot NET - Python - Devops   https://t.co/pouXgl1V7G   #career #qa #python #java #devops #database  https://t.co/Ix35TAH8L5\n",
            "1567277849798758403 2022-09-06 22:25:32 +0000 <Zyla_Labs> 🗣According to the 2022 Stack OverFlow survey, JavaScript is the most used language for the 10th consecutive year in this study, although for trainee (non-professional) programmers, it is almost tied with #HTML/#CSS and #Python💪\n",
            "1567072610483163138 2022-09-06 08:49:59 +0000 <SEHUBGH1> SE- Hub, in partnership with @GhanaTechLab under the pathways to sustainable employment program, has organized a local start-up summit in the Western Region. Trainee pitched their ideas for feedback and prizes.  #GTL #sehubgh1 #GTLImpact #Datascience #GTLBaseProgram #Python  https://t.co/Tx7bE7NzaR\n",
            "1567035860444663809 2022-09-06 06:23:57 +0000 <pyspiders> Congratulations ASWIN KUMAR K.S For getting placed as DEVOPS TRAINEE  #pyspidersbasavanagudi #python #placedstudent #studentreview #webdeveloper #tech #codinglife #devops #pythoncode #ethicalhacking #devopstrainee  https://t.co/RfTpHQYOUN\n",
            "1567024437211594753 2022-09-06 05:38:34 +0000 <qspiderschromp1> Congratulations Mr. Sudhakar for getting placed as a Testing Trainee from Qspiders_Chrompet 💐💐💐. ”QSpiders is a place where businesses find talent and dreams take flight.\" .❤️💯 #qspiders #jspiders #pyspiders #corejava #selenium #manualtesting #automationtesting #python  https://t.co/9d4CLSkuWW\n",
            "1567022719816069120 2022-09-06 05:31:44 +0000 <qspiderschromp1> Congratulations Mr. Ranjith Kumar for getting placed as a Technical Trainee from Qspiders_Chrompet 💐💐💐. ”QSpiders is a place where businesses find talent and dreams take flight.\" .❤️💯 #qspiders #jspiders #pyspiders #corejava #selenium #manualtesting #automationtesting #python  https://t.co/QhPgcaaun4\n",
            "1566956417977917440 2022-09-06 01:08:17 +0000 <AgusLemucchi> @noelia_roura ✅ Developer backend jr  https://t.co/lRdKd9ph9E  🇨🇴 ✅ QA TRAINEE ARG  https://t.co/nUdsNaThF8 ✅ PYTHON JR ARG  https://t.co/xJc0F3giOd\n",
            "1566849017723568128 2022-09-05 18:01:31 +0000 <ramsatt> Atos Off Campus Drive 2022 | Freshers | Trainee Engineer| BE/ B. Tech – CSE/ IT; MCA | 2022 Batch #angular #html #javascript #css #programming #java #python #reactjs #webdevelopment #nodejs #php #webdeveloper #coding #react #vuejs #software #js #softw...  https://t.co/f0u91KoGuz\n",
            "1566778223282847744 2022-09-05 13:20:12 +0000 <cetpainfo> #ONLINE RECRUITMENT DRIVE Organized by CETPA Infotech PVT LTD. for KMK Consulting  ⇒Job Profiles: Associate Trainee (Python, R, SAS, SQL)  ⇒Experience: Fresher  🔗 Apply Now:  https://t.co/HbIYK56d6m  📱 Call me: 8287972567  #JavaDeveloper #JobVacany #Placement #Course #CETPA  https://t.co/BDJ9iGx2jy\n",
            "1566236485908631552 2022-09-04 01:27:32 +0000 <lamagadepython> QA ANALYST JR LATAM  https://t.co/CX6vRAFUxM  QA AUTOMATION JR ARG  https://t.co/uKZOk00bMZ  QA MANUAL JR ARG  https://t.co/zgfMNRzAaO  QA MANUAL JR  https://t.co/RxGusDdpsF  QA TRAINEE ARG  https://t.co/V1HLboo90u PYTHON JR ARG  https://t.co/kMVvG7lmUt\n",
            "1565989366316802048 2022-09-03 09:05:34 +0000 <qspiderschromp1> Congratulations Mr. Nithish S.N for getting placed as a Software Trainee from Qspiders_Chrompet 💐💐💐. ”QSpiders is a place where businesses find talent and dreams take flight.\" .❤️💯 #qspiders #jspiders #pyspiders #corejava #selenium #manualtesting #automationtesting #python  https://t.co/U0DVTATTcB\n",
            "1565751701205827585 2022-09-02 17:21:10 +0000 <icodeteam> The time for the trainees to Pitch was here and every team presented their ideas to a group of judges and the audience at the program.   #icodegh #icodeimpact #datascience #baseprogram #python  https://t.co/1ijiUm9DOD\n",
            "1565731316045385730 2022-09-02 16:00:10 +0000 <GhanaTechLab> 𝗔𝗰𝗰𝗿𝗮 𝗪𝗲𝘀𝘁 𝗦𝘁𝗮𝗿𝘁𝘂𝗽 𝗦𝘂𝗺𝗺𝗶𝘁  In her Closing remarks, the Operations Associate at Ghana Tech Lab, Pamela Arthur thanked all the trainees for their time and wished them the very best in their next step.  #GTLimpact #DataScience #GTLbaseprogram #python  https://t.co/qsgdbgyoeF\n",
            "1565725135507783684 2022-09-02 15:35:36 +0000 <maaretp> Another summer, another trainee with her last day with us at work. Time flies so fast, and I am delighted ours got through both python-playwright (learning all on job) and resultful testing of relevant information leading to improved product in team collaboration.\n",
            "1565363651439206400 2022-09-01 15:39:12 +0000 <icodeteam> As part of the preparation towards the Takoradi Startup Summit, trainees are working on their final pitch and practically doing pitch rehearsals.   #icodegh #icodeimpact #datascience #baseprogram #python  https://t.co/VWXZy3UDYP\n",
            "1565336380183416832 2022-09-01 13:50:50 +0000 <GhanaTechLab> 𝗔𝗰𝗰𝗿𝗮 𝗡𝗼𝗿𝘁𝗵 𝗦𝘁𝗮𝗿𝘁𝘂𝗽 𝗦𝘂𝗺𝗺𝗶𝘁  The Accra north startup summit started with an opening prayer from Mr. Samuel Sampong, a trainee at the GTL Campus.  #GTLimpact #DataScience #GTLbaseprogram #Python  https://t.co/3cCxBZAv2g\n",
            "1565211400955658241 2022-09-01 05:34:12 +0000 <qspiderschromp1> Congratulations Mr. Santhosh Kumar for getting placed as a QA Trainee from Qspiders_Chrompet 💐💐💐.  ”QSpiders is a place where businesses find talent and dreams take flight.\" .❤️💯 #qspiders #jspiders #pyspiders #corejava #selenium #manualtesting #automationtesting #python  https://t.co/23C61MVNTM\n",
            "1564856281940254721 2022-08-31 06:03:05 +0000 <uk_remote> Python Developer - Trainee  https://t.co/Saxcz31ZRr  👈 #remotejobs #remoteuk\n",
            "1564845842208624640 2022-08-31 05:21:36 +0000 <zobjobsGB> Python Developer - Trainee at Harvey Beric Associates Job Description Our client is a well established and highly reputable online media company who are l... #PythonDeveloper #WorkFromHomeJobs #harveyberic  https://t.co/WfvomQOfU9\n",
            "1564825412257161216 2022-08-31 04:00:25 +0000 <remoteweeklyHQ> Intern/trainee - Data Analyst Demandbase, Inc. · USD 30,000 - 80,000 · India - Remote   🏷 engineering, intern, telecommute, agile, data-analytics, data-mining, data-visualization, excel, python, r  (7/47)\n",
            "1564764273372725250 2022-08-30 23:57:29 +0000 <M_S_Fricker> @JohnCleese Nice. I see your bio says \"trainee hermit\". I've the 10K hours, easily. I live in my man cave rarely going upstairs to where my introverted, nearly hermetic, wife has her territory in our joint cave. I'm an autistic only child so people aren't my thing. My humour is all Python.\n",
            "1564645246385938434 2022-08-30 16:04:31 +0000 <EVhubaccra> Yesterday, we had an eminent member of our community @KDDerek1, an experienced data scientist specializing in python technologies engage our data science trainees on the importance on the paths they intend to take in relations to the next phase of the training program.  https://t.co/ohQJTs29vV\n",
            "1564637476740026373 2022-08-30 15:33:38 +0000 <GhanaTechLab> National Data Science Training  As part of the preparation for the LSS, trainees at the GTL Campus were briefed on the technical feasibility of their chosen projects  #GTLimpact #DataScience #GTLbaseprogram #python  https://t.co/oCqDvY78lD\n",
            "1564627347369857026 2022-08-30 14:53:23 +0000 <icodeteam> As we prepare for the Takoradi Startup Summit, trainees from the Data Science and Analytics training are working on their Pitch desk.   #icodegh #icodeimpact #datascience #baseprogram #python  https://t.co/9VZMB42Nme\n",
            "1564612304989310982 2022-08-30 13:53:37 +0000 <GhanaTechLab> \"National Data Science Training  Based on their findings from the empathy trip, today, trainees are delivering a presentation amid a panel of judges.  This is to examine their readiness and skills in the job market.   #GTLimpact #DataScience #GTLbaseprogram #python\"  https://t.co/gYMsuxguHr\n",
            "1564584121367760901 2022-08-30 12:01:37 +0000 <ai_jobsNET> HIRING: Intern/Trainee - Data Analyst / India - Remote  https://t.co/TZEd1uBIoz #AI #MachineLearning #DataJobs #Jobsearch #MLjobs #bigdata #DataScience #AIjobs #hiringnow #RemoteJob #Agile #DataAnalytics #DataMining #Datavisualization #Excel #Python #R #Research #SAS #SQL\n",
            "1564278880508182530 2022-08-29 15:48:42 +0000 <icodeteam> At today's training session, trainees after being placed in teams are gathering their findings from the empathy trip.  Trainees are working on their pitch desk towards their final pitch day, Takoradi Startup Summit.   #icodegh #icodeimpact #datascience #baseprogram #python  https://t.co/xo1MMpb0tc\n",
            "1564245173621645313 2022-08-29 13:34:46 +0000 <GhanaTechLab> National Data Science Training  For today's session, trainees, after being placed in teams are consolidating their findings from the empathy trip.    Pitch deck template training is also underway all in preparation for the Local Startup Summit.   #GTLimpact #DataScience #python  https://t.co/e6FHSbMuOu\n",
            "1563861257933012993 2022-08-28 12:09:13 +0000 <Jam_Management_> Graduate Software Developer 37-38k, Trainee  Graduate Software Developer 37-38k, Trainee. C#, JavaScript, TypeScript, C/C++ PHP, SQL Applications, React, Python, MATLAB, Software Development Tools, Technical Support, Client facing,… https://t.co/JAIwY29Fza  https://t.co/8PdVKoWqYN\n",
            "1563204214293426177 2022-08-26 16:38:22 +0000 <GhanaTechLab> As innovation week came to a conclusion today, GTL Campus hosted a hackathon for the data science trainees. A panel of judges made up of a data scientist, a business developer, and an accounts officer, heard pitches from each of the six teams.  #GhanaTechLab #GTLImpact #python  https://t.co/asqrEozWk6\n",
            "1562840466227310592 2022-08-25 16:32:57 +0000 <GhanaTechLab> National Data Science Training  The GTL Campus' Design Thinking session came to a close this morning   In view of this, the trainees underwent pitch deck preparation and practice as they gear toward tomorrow's hackathon.  #GTLimpact #DataScience #GTLbaseprogram #python  https://t.co/BsIl1IhvRF\n",
            "1562782233475559424 2022-08-25 12:41:34 +0000 <GhanaTechLab> National Data Science Training  Today concludes the Design thinking framework at the GTL main as the trainees' focuses were driven towards Ideation, Prototyping, and Testing   #GTLimpact #DataScience #GTLbaseprogram #python  https://t.co/K3XYtMihG8\n",
            "1562469016202985473 2022-08-24 15:56:57 +0000 <GhanaTechLab> National Data  Science Training  Today at the GTL Campus, the Design Thinking session continued.   Trainees were taken through the ideation stage of the Design Thinking process.   #GTLimpact #DataScience #GTLbaseprogram #python  https://t.co/riy8dSXINA\n",
            "1562368668595499008 2022-08-24 09:18:12 +0000 <CodingPullingo> Cognizant GenC Programmer Trainee Off Campus - IT PT - 2019, 2020, 2021 Batch #angular #html #javascript #css #programming #java #python #reactjs #webdevelopment #nodejs #php #webdeveloper #coding #react #vuejs #software #js #softwaredeveloper #develo...  https://t.co/tjCIa4Q6gT\n",
            "1562212172301709312 2022-08-23 22:56:21 +0000 <avdata99> Tengo 5 alumnos que pasaron una primera etapa de programación en Python (también GitHub) y estarían listos para postular como trainee o junior. No he encontrado búsquedas así en LinkedIn  ¿Conocen a alguna empresa que esté buscando? Son casi todos +30 con trabajo. DMs abiertos.\n",
            "1562101582954741761 2022-08-23 15:36:54 +0000 <Harveyberic> I've just posted a new job on CV-Library for a Trainee Python Developer in Burton! -  https://t.co/bkRWNQMsvm\n",
            "1562066273500106756 2022-08-23 13:16:36 +0000 <GhanaTechLab> National Data Science Training  Today, trainees at the GTL main were given an introductory overview of design thinking and its importance.    #GTLimpact #DataScience #GTLbaseprogram #python  https://t.co/lV3yOcjMdg\n",
            "1561955624619233281 2022-08-23 05:56:55 +0000 <AcademyFynd> Fynd Academy Batch 6 is inviting trainees now. Learn the best tech stack, and hands-on skills from industry experts and earn a stipend too.  Register to join one of these courses and get top career opportunities!   https://t.co/jNb6es2wj4  #Python #javascript #productdesign #uiux  https://t.co/3P4r2pHjHD\n",
            "1561683669428981762 2022-08-22 11:56:16 +0000 <GhanaTechLab> National Data Science Training   Today, trainees were introduced to the first stage of the design thinking process which is the team formation format.  They were grouped into two's and three's to work on a business idea  #GTLimpact #DataScience #GTLbaseprogram #python \"  https://t.co/TO5fLfYVWQ\n",
            "1561260582044463104 2022-08-21 07:55:04 +0000 <ramsatt> Atos Off Campus Drive 2022 | Freshers | Trainee Engineer| BE/ B. Tech – CSE/ IT; MCA | 2022 Batch #angular #html #javascript #css #programming #java #python #reactjs #webdevelopment #nodejs #php #webdeveloper #coding #react #vuejs #software #js #softw...  https://t.co/gRC5SzBK3e\n",
            "1561049698512904195 2022-08-20 17:57:05 +0000 <KumasiHive> To provide the opportunity for our trainees to learn, practice, and be able to demonstrate what they have learned over the past 6 weeks of the Data Science and Analytics training, they were given some personal projects to work on.  #Python  #DataScience #youngafricaworks #Ghana  https://t.co/e8fSA7hBIR\n",
            "1561006242285457409 2022-08-20 15:04:24 +0000 <icodeteam> The trainees at the hub were divided into groups and given datasets in the following areas to work on: Media, Health, Hospitality, Finance and Education  #icodegh      #icodeimpact #datascience #baseprogram #python  https://t.co/v13wxEwFa3\n",
            "1560719765638746112 2022-08-19 20:06:03 +0000 <careerage> Hiring for Python  Intern Nagpur  Percept Infosystem Trainee  https://t.co/NZ9g055RQQ\n",
            "1560695882521223170 2022-08-19 18:31:09 +0000 <EVhubaccra> 𝗡𝗮𝘁𝗶𝗼𝗻𝗮𝗹 𝗗𝗮𝘁𝗮 𝗦𝗰𝗶𝗲𝗻𝗰𝗲 𝗧𝗿𝗮𝗶𝗻𝗶𝗻𝗴  The Data visualization trainees at the enterprise village worked on a Covid-19 project while the machine learning trainees worked on a bank marketing project.  #datascience #GTLbaseprogram #python #GhanaTechLab  https://t.co/nm3fCxpaVY\n",
            "1560649041155096576 2022-08-19 15:25:01 +0000 <ws_dev1> @1ilhas Dev python Jr e trainee   https://t.co/vA0B9jqAiL\n",
            "1560641835868889089 2022-08-19 14:56:23 +0000 <GhanaTechLab> 𝗡𝗮𝘁𝗶𝗼𝗻𝗮𝗹 𝗗𝗮𝘁𝗮 𝗦𝗰𝗶𝗲𝗻𝗰𝗲 𝗧𝗿𝗮𝗶𝗻𝗶𝗻𝗴  After working throughout the week in their various groups on their projects, trainees present their analysis to the decision-makers today.  #GTLimpact #datascience #GTLbaseprogram #python  https://t.co/aFaFH7DFVl\n",
            "[!] No more data! Scraping will stop now.\n",
            "found 0 deleted tweets in this search.\n"
          ]
        }
      ]
    },
    {
      "cell_type": "code",
      "source": [
        "import twint # https://github.com/twintproject/twint/wiki\n",
        "import nest_asyncio\n",
        "nest_asyncio.apply()\n",
        "import time\n",
        "import pandas as pd\n",
        "import os\n",
        "import re\n",
        "timestr = time.strftime(\"%Y%m%d\")\n",
        "\n",
        "c = twint.Config()\n",
        "c.Limit = 1000\n",
        "c.Lang = \"es\"\n",
        "c.Store_csv = True\n",
        "c.Search = \"python latam\"   # cadena a modificar\n",
        "c.Output = timestr + \"data.csv\"\n",
        "twint.run.Search(c)"
      ],
      "metadata": {
        "colab": {
          "base_uri": "https://localhost:8080/"
        },
        "id": "cPJggEJFiL8g",
        "outputId": "aaa07769-5cad-44ee-c49e-7db63197e700"
      },
      "execution_count": 28,
      "outputs": [
        {
          "output_type": "stream",
          "name": "stdout",
          "text": [
            "1578581610651209729 2022-10-08 03:02:39 +0000 <DataEngiLatam> ¿Alguien codeando viernes por la noche?  #python\n",
            "1578555352164888577 2022-10-08 01:18:18 +0000 <NoticeperiodCom> LisztSoft is looking for a Software engineer - Full-time  🔋 #javascript #Python #SQL #React  💰USD$3.000 - 4.000/monthly 🚩Remote #LATAM ✔English  More info and apply:  https://t.co/xCrBEb8s9K  Need help? Let me know! claudiolopez@torre.co  #hiring #Job #remotejobs #Jobs\n",
            "1578545737746780160 2022-10-08 00:40:06 +0000 <Claudio05112023> LisztSoft is looking for a Software engineer - Full-time  🔋 #javascript #Python #SQL #React  💰USD$3.000 - 4.000/monthly 🚩Remote #LATAM ✔English  More info and apply:  https://t.co/zPhHCNUX2q  Need help? Let me know! claudiolopez@torre.co  #hiring #Job #remotejobs #Jobs\n",
            "1578502007354462208 2022-10-07 21:46:20 +0000 <LuRecruiter> HIRING! SR PYTHON DEVS 📍Remote job. LATAM. USD Salary 👉Fluent English • +5 years of experience in development • strong SQL and cloud exp  🚀Apply to llamas@crnova.com  #python   We offer: long-term contract + USD salary + paid time off + birthday off + wellness bonus\n",
            "1578444062918463489 2022-10-07 17:56:05 +0000 <CiscoLatam> Puedes aprender Python, JavaScript, C y C++ en los cursos de #programación de @CiscoNetAcad ➡️  https://t.co/bJsggFPe3E\n",
            "1578429965539885057 2022-10-07 17:00:04 +0000 <CiscoLatam> La mayoría recomiendan empezar con Python 👇🏻  https://t.co/m88HiAh8A3\n",
            "1578202241814695941 2022-10-07 01:55:10 +0000 <TheRaoSambhaji> NTT DATA Europe &amp; Latam is Hiring Junior Business Analyst, New York, NY- United States, Apply Here:  https://t.co/B1vpKFcNXy #datascience #analytics #programming #python #sql #ml #bigdata\n",
            "1578192966715428864 2022-10-07 01:18:19 +0000 <NoticeperiodCom> Kravata is looking for a Full-stack developer - Full-time  🔋 #SQL #NodeJS #API #Python  💰USD$1.800 - 2.300/monthly 🚩Remote #LATAM  ✔English | Spanish  More info and apply:  https://t.co/Bk1s40qusY  Need help? Let me know! claudiolopez@torre.co  #hiring #Job #Jobs #remotework\n",
            "1578177867669716992 2022-10-07 00:18:19 +0000 <NoticeperiodCom> Kravata is looking for a Full-stack developer - Full-time  🔋 #SQL #NodeJS #API #Python  💰USD$1.800 - 2.300/monthly 🚩Remote #LATAM  ✔English | Spanish  More info and apply:  https://t.co/Bk1s40qusY  Need help? Let me know! claudiolopez@torre.co  #hiring #Job #Jobs #remotework\n",
            "1578173688595161088 2022-10-07 00:01:43 +0000 <DataEngiLatam> 👩‍💻 Sesión organizada por @libeluladoradas Paula Abad 🖼️ Diseños por Julieta Mariel Garate y Miguel Ayllón - UX/UI Designer.    https://t.co/IDJRLuysOb  👍 Like, 🔗 share, 💬 comment, 👉 follow    #dataengineering #dataengineer #dataengineeringlatam #Python #datascience\n",
            "1578173004067983360 2022-10-06 23:58:59 +0000 <DataEngiLatam> 👉Sobre nuestro Speake: Jordy Mairena  - Desarrollador Back-end en Golang  - Freelance  - Technical Support Digital Academy C.A   📢 ¡Pasa la voz y ayúdanos a ser la comunidad más grande y chévere de todas! #dataengineering #dataengineer #dataengineeringlatam #Python #datascience\n",
            "1578172851399454720 2022-10-06 23:58:23 +0000 <DataEngiLatam> 📚 Tema: Programación Orientada a Objetos POO 📅 Fecha: Lunes 10 de Octubre 🕰️ Hora: 20:00 Lima, Bogotá, Quito (GMT-5) 💰 Costo: $0 (evento gratuito) ✍️ Registro:  https://t.co/B8J2fzpqY8  #dataengineering #dataengineer #dataengineeringlatam #Python #datascience\n",
            "1578172710655471617 2022-10-06 23:57:49 +0000 <DataEngiLatam> Los talleres de Python están enfocados desde el nivel básico hasta llegar a interactuar con las principales librerías Numpy y Pandas para avanzar en la carrera Data Science.  #dataengineering #dataengineer #dataengineeringlatam #Python #datascience\n",
            "1578172616237776896 2022-10-06 23:57:27 +0000 <DataEngiLatam> Aprenda sobre:   ✅ Los principios de la Programación Orientada a Objetos ✅ Introducción a POO ✅ Con ejercicios prácticos en vivo aplicar Programación Orientada a Objetos  #dataengineering #dataengineer #dataengineeringlatam #Python #datascience\n",
            "1578172521647685633 2022-10-06 23:57:04 +0000 <DataEngiLatam> Es decir, el concepto abstracto de perro es la clase, pero Toby o cualquier otro perro será el objeto. #dataengineering #dataengineer #dataengineeringlatam #Python #datascience\n",
            "1578172440735141888 2022-10-06 23:56:45 +0000 <DataEngiLatam> Por último, existen diferentes tipos de perro,  uno que se llama Toby o el del vecino que se llama Laika. Esto representa los objetos.   #dataengineering #dataengineer #dataengineeringlatam #Python #datascience\n",
            "1578172337479774210 2022-10-06 23:56:20 +0000 <DataEngiLatam> Por otro lado, las clases tienen un conjunto de funcionalidades o cosas que pueden hacer. Un perro camina o ladra; son los métodos.  #dataengineering #dataengineer #dataengineeringlatam #Python #datascience\n",
            "1578172252168024064 2022-10-06 23:56:00 +0000 <DataEngiLatam> Además las clases tienen diferentes características, que en el caso del perro podrían ser la edad, el nombre o la raza; representan los atributos.  #dataengineering #dataengineer #dataengineeringlatam #Python #datascience\n",
            "1578172171095969792 2022-10-06 23:55:41 +0000 <DataEngiLatam> permite organizar el código de una manera que se asemeja bastante a como se piensa en la vida real, utilizando las famosas clases; un caso práctico un perro 🐕 o un auto 🚗  #dataengineering #dataengineer #dataengineeringlatam #Python #datascience\n",
            "1578172076988719104 2022-10-06 23:55:18 +0000 <DataEngiLatam> 🐍 Introducción a Programación Python: Programación Orientada a Objetos POO  Este modo o paradigma de programación,  #dataengineering #dataengineer #dataengineeringlatam #Python #datascience  https://t.co/DaUdaRJ1BX\n",
            "1578164935866998785 2022-10-06 23:26:56 +0000 <DataEngiLatam> @mapologo Como decir foolano y booleano 😂  #javascript #python #java #scala  https://t.co/GOe7lGLbph\n",
            "1578161024028459009 2022-10-06 23:11:23 +0000 <Cognizant_Latam> Join our inclusive #company culture as a Python Developer in #Guadalajara, Jal..  https://t.co/8vTHwlzvSw\n",
            "1578158383525289984 2022-10-06 23:00:54 +0000 <DataEngiLatam> ¿Por qué foo y bar?  🤔  #python\n",
            "1578113363816730625 2022-10-06 20:02:00 +0000 <DataEngiLatam> Goals 🙌  --  Síguenos en las redes. Únete a nuestros grupos y webinars. Obtén ese trabajo soñado y cómprate aquello que siempre quisiste.   https://t.co/IDJRLuQ4cL  #dataengineering #python #powerbi #aws #azure #ApacheSpark #Snowflake #gcp #programacion  https://t.co/qDxIlpQLEE\n",
            "1578097927104626688 2022-10-06 19:00:40 +0000 <Claudio05112023> Kravata is looking for a Full-stack developer - Full-time  🔋 #SQL #NodeJS #API #Python  💰USD$1.800 - 2.300/monthly 🚩Remote #LATAM  ✔English | Spanish  More info and apply:  https://t.co/3x94g2A9Nm  Need help? Let me know! claudiolopez@torre.co  #hiring #Job #Jobs #remotework\n",
            "1578022467016151040 2022-10-06 14:00:49 +0000 <WWCodePython> ⏰ ¡Todavía hay tiempo para registrarse! Únete la próxima semana, el 13 de octubre, a CONNECT LATAM de WWCode. ¡Sube de nivel tu carrera tecnológica con medio día de charlas, talleres y paneles profesionales y técnicos en español!  https://t.co/KvIKpeg2er #connect-latam #WWCode  https://t.co/vimamxjywh\n",
            "1577849788040589312 2022-10-06 02:34:39 +0000 <DataEngiLatam> 😂  Mejor únanse a nuestro telegram (4140 miembros).   https://t.co/x5NuamXuXZ  #python #powerbi #azure #aws #GCP  https://t.co/ZrgUh114DJ\n",
            "1577849228218355712 2022-10-06 02:32:25 +0000 <DataEngiLatam> @LuRecruiter Comparte por aquí  https://t.co/x5NuamXuXZ  Estamos ready 🔥🔥🔥  #Python  https://t.co/AdxNUo0URn\n",
            "1577753837926027270 2022-10-05 20:13:22 +0000 <LuRecruiter> Qué cantidad de clientes solicitando #python dev esta semana 🔥 🚀Senior Python devs con inglés avanzado (5 vacantes) #sql #AWS  👉Remoto LATAM, pago en USD, clientes de USA CV a llamas@crnova.com  Benefits: contrato de 3 años, bono en dic, 12 PTO, dia de cumple off, bonos, etc\n",
            "1577721523426971648 2022-10-05 18:04:58 +0000 <AtzinGersom> ¡¡Hola red!!   Uno de nuestros clientes en US del sector automotriz está en búsqueda de #Desarrolladores #Python que quieran aprender automatización de pruebas, se les brindara la capacitación necesaria.   #Vacante abierta a todo #LATAM   Pueden aplicar o… https://t.co/TbfO3iF6Y9\n",
            "1577719527047053314 2022-10-05 17:57:02 +0000 <LauraFe10115026> ARKHO is looking for a Tech lead - Full-time  🔋 #AWS #Python #JavaScript #Dataanalysis  💰USD$3.000/monthly 🚩Location: Remote - Latam ✔ English and Spanish - Conversational  More info and apply:  https://t.co/FGLRpwg7Xh  Need help? Let me know! #hiring\n",
            "1577687023321858050 2022-10-05 15:47:53 +0000 <remoti_TI> #Jobalert 🚨we are looking for a #pythonprogramming for #fintech company in📍#Canada or #Latam. With 8+ years of python experience in #data. Familiarity with #API #SQL #Bash #AWS #microservices and #CloudComputing. Send your CV➡️ ms@remoti.io  #remoti #hiring #itjobs #technology  https://t.co/zL1Ypk48sE\n",
            "1577622381249515521 2022-10-05 11:31:01 +0000 <PythonJobsFeed> Citi is looking for a SVP, AML SDE Model Development and Transformation Lead - NAM/LATAM- Hybrid  https://t.co/PGF652LEKq Tampa, FL, United States ( Python )  #careers #Python\n",
            "1577493734798802945 2022-10-05 02:59:49 +0000 <LauraFe10115026> The MRG Group is looking for a Sr. test automation engineer - Full-time  🔋 #Python #Nodejs #TypeScript #API #Selenium  💰CAD$4.000 - 8.000/monthly 🚩Remote - Latam ✔ English - Conversational  More info and apply:  https://t.co/vvYzLzntAJ  Need help? Let me know! #hiring\n",
            "1577407710974267392 2022-10-04 21:17:59 +0000 <DataEngiLatam> @iamdoomling Que se venga a aprender con el grupo de estudios de Python de los miembros de la comunidad.  Lunes a las 7pm Lima, Bogotá, Quito   https://t.co/jvSz1MVoh0\n",
            "1577331838711889922 2022-10-04 16:16:30 +0000 <LauraFe10115026> Tres Astronautas está buscando un Desarrollador Python - Tiempo completo  🔋 #Python #Desarrollobackend  💰COP$9.500.000/mes 🚩Remoto - Latam ✔ Español - Completamente fluido  More info and apply:  https://t.co/XzhOU1qiwQ  Need help? Let me know! #hiring\n",
            "1577089199424970753 2022-10-04 00:12:20 +0000 <LauraFe10115026> Suggestic is looking for a Senior Python developer - Full-time  🔋 #Python #GraphQL #GIT #SQL #Docker #Django  💰USD$4.000 - 5.000/monthly 🚩Remote - Latam ✔English - Conversational  More info and apply:  https://t.co/xKxnVCQUqL  Need help? Let me know!\n",
            "1577083344445407234 2022-10-03 23:49:04 +0000 <DataEngiLatam> @noriegasilvia  Silvia Noriega es Data Engineer 👩‍🔬 en progreso, ama las matemáticas y la programación 👩‍💻. Además, es una runner entusiasta 🏃‍♀️. Actualmente es agente bilingüe en 24-7 intouch y programadora en Python.\n",
            "1577051685507461120 2022-10-03 21:43:16 +0000 <nefsacuj> Seguimos aprendiendo #Python con la comunidad más chévere de datos en Latam. @DataEngiLatam .  Aún estan a tiempo de registrarse!  Bienvenidos. #dataengineering #DataScience #dataengineeringlatam\n",
            "1576995614604365831 2022-10-03 18:00:28 +0000 <WWCodePython> 🔥 ¡Faltan menos de dos semanas! Únete a CONNECT LATAM, un evento de charlas, talleres y paneles técnicos y de carrera. ¡Conoce a profesionales en tecnología de todo el mundo! Regístrate ahora:  https://t.co/KvIKpdYrmT #connect-latam #WWCode  https://t.co/m8DEq52lZa\n",
            "1576956355612577792 2022-10-03 15:24:28 +0000 <DataEngiLatam> 📢 Arrancamos semana con mucho contenido de calidad.   Hoy no pierdas la oportunidad de registrarte:  https://t.co/B8J2fzpqY8  #dataengineering #Python #dataengineeringlatam #operadores #DataAnalytics\n",
            "1576781418281439232 2022-10-03 03:49:19 +0000 <Claudio05112023> Bold está buscando un Líder Técnico de Automatización  🔋 #Automatizacióndepruebas #Python #Java #cicd  💰COP$12.000.000 - 15.000.000/mes 🚩Remote #LATAM  Aplica aquí:  https://t.co/fDuShSM4cc  ¿Necesitas ayuda? Déjame saber! claudiolopez@torre.co  #TrabajoRemoto #Trabajo\n",
            "1576378884047613952 2022-10-02 01:09:48 +0000 <DataEngiLatam> ¿Que ya terminó Septiembre? Ni cuenta. Me la paso frente a la laptop 💻 programando.  🙃  #programming #python #dataengineering  https://t.co/o6DKLryawk\n",
            "1576308548367093761 2022-10-01 20:30:18 +0000 <LauraFe10115026> The MRG Group is looking for a Sr. test automation engineer - Full-time  🔋 #Python #Nodejs #TypeScript #API #Selenium  💰CAD$4.000 - 8.000/monthly 🚩Remote - Latam ✔ English - Conversational  More info and apply:  https://t.co/Eqew7YJS5n  Need help? Let me know!\"\n",
            "1576198672949604352 2022-10-01 13:13:42 +0000 <Pineiden> Esta semana se realizó en Salta Argentina el congreso Scipy LATAM, fue un evento en que llegamos desde distintos países de latinoamérica para compartir y enseñar nuestros conocimientos.  https://t.co/g3Quf3DxQl  #python #softwarelibre #scipy #culturalibre #latinoamerica #compartir\n",
            "1575900153822576640 2022-09-30 17:27:30 +0000 <LuRecruiter> ⭐UPDATES VACANTES IT💻  Ya no tenemos disponibles las vacantes iOS, Angular/Node y NET dev  📍REMOTE from LATAM 👉MUST HAVE: Fluent English  ♦︎ Site Reliability Eng #sre ♦︎ Sr #python dev  ♦︎ Sr UI UX  #UIUXDesigner  ♦︎ Business Analyst Architect   ✉️llamas@crnova.com\n",
            "1575861916475559941 2022-09-30 14:55:33 +0000 <ovhcloud_latam> 👩‍💻 Al iniciar cualquier proyecto que requiera un desarrollo informático, deberás elegir un lenguaje de programación. 💡 Descubre, en este artículo, cómo elegir el #LenguajeDeProgramación que mejor se ajusta a tus necesidades.  #JavaScript #PHP #Python\n",
            "1575827021464498177 2022-09-30 12:36:54 +0000 <tsourcing8> ¡Feliz viernes! 🎉  Buscamos 🔎 DESARROLLADOR ODOO 📢  Skills 💪 Experiencia en: ▫️+ 2 años en #Python ▫️+ 1 año en #Odoo ▫️#PostgreSQL ▫️Uso de sistemas #GNU/#Linux .  🖥100% remoto  🌎#LATAM 💰Pago en USD  📧 Envía tu CV a marilexci@interfell.com #hiring #Viernes  https://t.co/euTtnc5FUb\n",
            "1575789108064034816 2022-09-30 10:06:14 +0000 <PDH_Metaverse> 60% of Latam Professionals Open to Using Metaverse Tools at Work: Study – Metaverse Bitcoin News - Bitcoin News  https://t.co/1q9HEfuMJA   Breaking #Metaverse News #Web3 #Meta #VR #AR #AI #Blockchain #Crypto #Fintech #NFT #NFTCommunity #Coding #100DaysOfCode #JavaScript #Python …\n",
            "1575647076557651968 2022-09-30 00:41:51 +0000 <_Yap16> New job opportunities at TEAM International: ✅ Senior Typescript Developers (AWS) ✅ Team Lead Python (LATAM) ✅ Sr Python developer (LATAM) ✅ Sr React Developer(LATAM) ✅ Mid TIBCO Engineer ✅ Mid Tableau Engineer ✅ Java Team Lead-Only Colombia\n",
            "1575576870229544961 2022-09-29 20:02:53 +0000 <LauraFe10115026> ARKHO is looking for a Tech lead - Full-time  🔋 #AWS #Python #JavaScript #Dataanalysis  💰USD$3.000/monthly 🚩Remote - Latam ✔ English and Spanish - Conversational  More info and apply:  https://t.co/ngSSwBoOcU Need help? Let me know!\n",
            "1575551421420044288 2022-09-29 18:21:45 +0000 <nomadtoplist> @AssemblyAI is hiring a Senior Software Engineer with 6+ years of experience using Python, Java, C#, JavaScript, Go or C/C++ - Remote position for North America, LATAM and Europe - #remotework #remotejobs #Stayhome #Stayhealthy - Apply here 👇 https://t.co/nJf7pGNDbw\n",
            "1575526194262441984 2022-09-29 16:41:31 +0000 <LauraFe10115026> The MRG Group is looking for a Sr. test automation engineer - Full-time  🔋 #Python #Nodejs #TypeScript #API #Selenium  💰 CAD$4.000 - 8.000/monthly 🚩Remote - Latam ✔English - Conversational  More info and apply:  https://t.co/vvYzLzntAJ  Need help? Let me know!\n",
            "1575268801649807360 2022-09-28 23:38:44 +0000 <AtzinGersom> Hola red!!  Actualmente contamos con multiples #vacantes como #BackEnd #Java #Python #Golang o #C_C++ #Dev #Senior, para uno cliente importante en US que fabrica autos electricos, esta vacante esta abierta a todo #Latam. Indispensa… https://t.co/WztIPMeeuW  https://t.co/InjP04eAZs\n",
            "1575232331958620160 2022-09-28 21:13:48 +0000 <Claudio05112023> Bold está buscando un Ingeniero back-end senior - Tiempo completo  🔋 #Python #Java #backend #cicd #DevOps #AWS 💰COP$9.000.000 - 16.000.000/mes 🚩Remoto #Latam   Aplica aquí:  https://t.co/0wj65z9XkP  ¿Necesitas ayuda? Déjame saber! claudiolopez@torre.co  #trabajo #TrabajoRemoto\n",
            "1575220063317393408 2022-09-28 20:25:03 +0000 <Claudio05112023> Bold está buscando un Líder Técnico de Automatización  🔋 #Automatizacióndepruebas #Python #Java #cicd  💰COP$12.000.000 - 15.000.000/mes 🚩Remote #LATAM  Aplica aquí:  https://t.co/fDuShSM4cc  ¿Necesitas ayuda? Déjame saber! claudiolopez@torre.co  #TrabajoRemoto #trabajo\n",
            "1575160873374863360 2022-09-28 16:29:51 +0000 <LauraFe10115026> Suggestic is looking for a Python developer senior - Full-time 🔋 #Python #GraphQL #GIT #SQL #Docker #Django  💰 USD$4.000 - 5.000/monthly 🚩Remote - Latam ✔ English - Conversational  More info and apply:  https://t.co/xKxnVD93ET  Need help? Let me know!  #hiring #job #latam\n",
            "1574855202401882127 2022-09-27 20:15:14 +0000 <juanmab> Búsquedas abiertas! 3er año como Great Place To Work 100% remoto - clientes de 🇺🇸 - equipos en toda LATAM  Mid-Level Frontend or Fullstack Dev Sr #Backend Dev Sr #Frontend Dev Sr #Fullstack #Javascript Dev Sr #Django Dev Sr #Python Dev Sr #QA Automation Sr Architect  #trabajoAr\n",
            "1574829861608296448 2022-09-27 18:34:32 +0000 <psisofiaodda> PYTHON SSr/Sr (+3 años) con inglés avanzado #LATAM   lic.sofiaodda@gmail.com 📩💜  https://t.co/jO9Ht3tz4h\n",
            "1574439056322297857 2022-09-26 16:41:37 +0000 <elkabuitrago> Hola! La Scipy Latam (semana de python científico) se esta grabando y transmitiendo acá:  https://t.co/oElqdG4xxz  @pythonchiledev\n",
            "[!] No more data! Scraping will stop now.\n",
            "found 0 deleted tweets in this search.\n"
          ]
        }
      ]
    },
    {
      "cell_type": "markdown",
      "source": [
        "otros tipos de scraping con la libreria twint\n"
      ],
      "metadata": {
        "id": "RhOhaeHa_yB8"
      }
    },
    {
      "cell_type": "code",
      "source": [
        "# buscando twits de un twittero\n",
        "c = twint.Config()\n",
        "c.Username = \"AtzinGersom\"\n",
        "\n",
        "twint.run.Search(c)"
      ],
      "metadata": {
        "id": "irjeee5duVAV",
        "colab": {
          "base_uri": "https://localhost:8080/"
        },
        "outputId": "1daa9e4d-affb-4785-897c-403f6e60dd80"
      },
      "execution_count": 29,
      "outputs": [
        {
          "output_type": "stream",
          "name": "stdout",
          "text": [
            "1577721523426971648 2022-10-05 18:04:58 +0000 <AtzinGersom> ¡¡Hola red!!   Uno de nuestros clientes en US del sector automotriz está en búsqueda de #Desarrolladores #Python que quieran aprender automatización de pruebas, se les brindara la capacitación necesaria.   #Vacante abierta a todo #LATAM   Pueden aplicar o… https://t.co/TbfO3iF6Y9\n",
            "1577409530820194305 2022-10-04 21:25:13 +0000 <AtzinGersom> #python  https://t.co/N56gUpG6oz\n",
            "1576022117023420416 2022-10-01 01:32:08 +0000 <AtzinGersom> #Android #dev #LATAM  https://t.co/39KdKYxfeK\n",
            "1575634867622215680 2022-09-29 23:53:20 +0000 <AtzinGersom> Hola red!!  Actualmente contamos  multiples #vacantes  como  #Android #Developer, para uno cliente importante en US que fabrica autos electricos, esta vacante esta abierta a todo #Latam. Indispensable contar con inglés conversacion… https://t.co/xqRtnMclXV  https://t.co/InjP04eAZs\n",
            "1575268801649807360 2022-09-28 23:38:44 +0000 <AtzinGersom> Hola red!!  Actualmente contamos con multiples #vacantes como #BackEnd #Java #Python #Golang o #C_C++ #Dev #Senior, para uno cliente importante en US que fabrica autos electricos, esta vacante esta abierta a todo #Latam. Indispensa… https://t.co/WztIPMeeuW  https://t.co/InjP04eAZs\n",
            "1575241973551796229 2022-09-28 21:52:07 +0000 <AtzinGersom>  https://t.co/H9xEVmPWsB\n",
            "1575147206373425153 2022-09-28 15:35:33 +0000 <AtzinGersom> Hola red!!  Actualmente contamos con multiples #vacantes como #SDET #JR, sin embargo el cliente esta interesado y abierto a contratar candidatos con experiencia en #Desarrollo con #Python, el ideal es que tengan al menos 1+ años de… https://t.co/KZHwRetAL2  https://t.co/InjP04eAZs\n",
            "[!] No more data! Scraping will stop now.\n",
            "found 0 deleted tweets in this search.\n"
          ]
        }
      ]
    },
    {
      "cell_type": "code",
      "source": [
        "\n",
        "# buscando twits de un twittero\n",
        "c = twint.Config()\n",
        "c.Username = \"codigoconjuan\"\n",
        "\n",
        "twint.run.Search(c)"
      ],
      "metadata": {
        "colab": {
          "base_uri": "https://localhost:8080/"
        },
        "id": "X7fFy0BXdEwy",
        "outputId": "b419aa67-8dd8-4732-eb2c-01ac1c8b776f"
      },
      "execution_count": 25,
      "outputs": [
        {
          "output_type": "stream",
          "name": "stdout",
          "text": [
            "1578549704593264640 2022-10-08 00:55:52 +0000 <codigoconjuan> @daniel_dev23 Me gusta el estilo del portafolio😎🙌  andas buscando tu primer trabajo como dev?\n",
            "1578438434812612610 2022-10-07 17:33:43 +0000 <codigoconjuan> ¿Quieres aprender React? ⬇️   Te dejo el link del curso React La Guia Completa con + de 15 proyectos ⬇️   https://t.co/x7jsmxVmOC\n",
            "1578438432799399936 2022-10-07 17:33:43 +0000 <codigoconjuan> ⚛️ Importancia de utilizar React:   ▪️  Puedes crear tareas repetitivas como eventos, interacciones de usuarios o formularios etc.   ▪️ Puedes utilizar Frameworks como Remix o Next.js.   ▪️ Cuenta con librerías que te permiten crear animaciones, formularios, imágenes etc.\n",
            "1578209215058944001 2022-10-07 02:22:53 +0000 <codigoconjuan> @OdrinkoDev en mi caso yo lo recomendaría ya que haya un buen conocimiento de React, para poderle ver más beneficios y todo quede más claro\n",
            "1578208934883725314 2022-10-07 02:21:46 +0000 <codigoconjuan> @viviana65260627 Muy bueno, me gustó el diseño se ve muy bien 🙌\n",
            "1578078819499622407 2022-10-06 17:44:44 +0000 <codigoconjuan> @rafalazarc Si me pasó, pero fue un domingo a las 11pm y hasta las 2am;  y todavia me dijeron \"el lunes puedes llegar a las 10 si quieres\" 🤣🤣🤣\n",
            "1578078391105994755 2022-10-06 17:43:02 +0000 <codigoconjuan> @fexmartinez El primero siempre es el más dificil sin duda, crea proyectos, un buen portafolio, y cuando tengas una entrevista repasa por ejemplo \"javascript interview questions\" porque de un cuestionario así van a sacar las preguntas\n",
            "1578077980244541440 2022-10-06 17:41:24 +0000 <codigoconjuan> @ArturoV35937196 Si es similar, vas a notar que utiliza algunas @ al inicio, esos se conocen como decoradores, y son formas de añadir una función  y hacerlas re-utilizables, puedes declarar un código y con esos decoradores van a tener añadida ya esas funciones\n",
            "1578076900584525828 2022-10-06 17:37:07 +0000 <codigoconjuan> @rangelinforma Te retorna false; es muy útil este tipo de funciones para evitar llamados innecesarios, o que el código se este ejecutando múltiples veces cuando no es necesario\n",
            "1578076788378550290 2022-10-06 17:36:40 +0000 <codigoconjuan> @rangelinforma Si se explican; pero el useMemo y useCallback son utilizados cuando quieres que algo se ejecute únicamente cuando algo ha cambiado; es como cachear el código de JS, por la forma en que funciona JS que incluso 2 objetos vacios si los comparas...\n",
            "1578076421985079297 2022-10-06 17:35:12 +0000 <codigoconjuan> @DestyDev Pero tiene sus ventajas, sobretodo para un proyecto grande, cada persona puede trabajar en un componente, la separación de back y front, aplicaciones más interactivas y componentes reutilizables\n",
            "1578075698643845136 2022-10-06 17:32:20 +0000 <codigoconjuan> @DestyDev En realidad casí todo es más complicado; incluso el datatable de jQuery era sencillo de implementar; creo que eso hizo que muchas personas al inicio no quisieran implementar estas herramientas en su trabajo diario pero poco a poco la adopción fue mayor que ya no hubo opción\n",
            "1578074934521339904 2022-10-06 17:29:18 +0000 <codigoconjuan> @JuanCar68915603 Aquí en México cada vez se ven más vacantes de Vue, pero la gran mayoría siguen siendo React, recomendaria buscar en donde vives o donde quieres trabajar cual es la demanda; pero actualmente me iría por React\n",
            "1578073869696614409 2022-10-06 17:25:04 +0000 <codigoconjuan> @user27_10002 🤣🤣\n",
            "1578073163224825860 2022-10-06 17:22:15 +0000 <codigoconjuan> @U_Uriozeck jajaja si me llegó a pasar varias veces y hasta cuando había gente con mucha experiencia dirigiendo el proyecto\n",
            "1578072869812174848 2022-10-06 17:21:05 +0000 <codigoconjuan> @DevBetterWorld Ya he visto unos que dicen que en 20 minutos jaja\n",
            "1578072786215616520 2022-10-06 17:20:46 +0000 <codigoconjuan> @agonzalezmx69 🤣🤣🤣\n",
            "1578072331834036225 2022-10-06 17:18:57 +0000 <codigoconjuan> @rafatrailnomad @viviana65260627 Es como en matemáticas, si estuvo fácil es porque probablemente este mal\n",
            "1578072025821859841 2022-10-06 17:17:44 +0000 <codigoconjuan> @alezalazar @gam3r_tux Si esta raro eso del salario cada mes; aquí en México siempre es cada día 14 o 15  y 29 o 30, igual cuando he trabajado con empresas extranjeras pagaban de esta forma\n",
            "1578071734644867072 2022-10-06 17:16:35 +0000 <codigoconjuan> @alezalazar @SAuronREC 🤣🤣\n",
            "1578071670098649091 2022-10-06 17:16:19 +0000 <codigoconjuan> @l92_more el de creación de temas; pero estaremos actualizando todos hacia las formas modernos que son Gutenberg, Headless WP con WP GraphQL y más\n",
            "1578071542247956481 2022-10-06 17:15:49 +0000 <codigoconjuan> @madKoding Creo que las primeras versiones de Redux eran las peores, ahora con Hooks es más ordenado y RTK aún mejor  Lo principal creo que es porque React no es un framework como Angular que te da las pautas; entonces  hay mucha libertad para el dev de hacer lo que desee mientras funcione\n",
            "1578071037459288064 2022-10-06 17:13:49 +0000 <codigoconjuan> @mxr10_ acompañado de un: \"van a pedir pizza\"\n",
            "1578070859188772872 2022-10-06 17:13:06 +0000 <codigoconjuan> @luisurruelamx 🤣🤣\n",
            "1578070805874974721 2022-10-06 17:12:53 +0000 <codigoconjuan> @jfdelarosa bueno eso si me pasó una vez en una base de datos local 😆\n",
            "1578070320837283843 2022-10-06 17:10:58 +0000 <codigoconjuan> @MiguelAngelRe28 🥲 y peor cuando crees que todo el código funciona perfecto\n",
            "1578069283355217922 2022-10-06 17:06:50 +0000 <codigoconjuan> @ManuelPovedaC Casi todo lo de ES6, en especial los array methods como .filter .some .map etc, arrow functions, fetch api  Imports y exports, async await, teniendo esos conocimientos podrás ver muchas similitudes en React\n",
            "1578066208959651841 2022-10-06 16:54:37 +0000 <codigoconjuan> @FranciscoTP90 🤣🤣🤣\n",
            "1577795778097033216 2022-10-05 23:00:02 +0000 <codigoconjuan> ⚛️ ¿Qué necesito para aprender React?   Si estás interesado en aprender React es importante tener las bases de la programación y JavaScript.   Me gustaría ayudarte a despejar tus dudas con respecto a React ¡Déjame tus dudas!\n",
            "1577779786797162508 2022-10-05 21:56:29 +0000 <codigoconjuan> @J31DAVID 🤣🤣\n",
            "1577779716395769873 2022-10-05 21:56:12 +0000 <codigoconjuan> @ivadsan 😂😂😂\n",
            "1577758515434692608 2022-10-05 20:31:58 +0000 <codigoconjuan> 🎃 ¿Cuál es la frase que más asusta a un Dev?   Empiezo yo:   ▪️ Se cayó el servidor 👻\n",
            "1577671667765084160 2022-10-05 14:46:51 +0000 <codigoconjuan> @cxnnets @udemy_es Muchas gracias Luis 🙌  🤜🤛\n",
            "1577316602013425673 2022-10-04 15:15:57 +0000 <codigoconjuan> @3xklibur pero las actualizaciones siguen y al menos estos cursos se actualizan, otros solo le cambian el nombre 🤣\n",
            "1577112074143952897 2022-10-04 01:43:14 +0000 <codigoconjuan> @Chuy_devel viene actualización con Typescript desde el inicio, más Next, más Remix, y muchos proyectos full stack todos\n",
            "1577109765800370176 2022-10-04 01:34:04 +0000 <codigoconjuan> @daniel_dev23 excelente el resultado 💯, con un panel de administración quedará mejor 😎\n",
            "1576983477534146560 2022-10-03 17:12:14 +0000 <codigoconjuan> 🟢 ¿QUIERES ALGO MÁS AVANZADO? PUEDES TOMAR EL CURSO DE:  React Avanzado: Fullstack Next.js, Apollo, MongoDB y GraphQL   https://t.co/0hNWfnjxAC\n",
            "1576983475978059776 2022-10-03 17:12:14 +0000 <codigoconjuan> 🟡 ¿QUIERES APRENDER MÁS SOBRE NEXT.JS   React – La Guía Completa: Hooks Context ¡ACTUALIZADO!    https://t.co/x7jsmxVmOC\n",
            "1576983474098958336 2022-10-03 17:12:13 +0000 <codigoconjuan> 🔷 SOPORTE A CSS:  Next.js soporta Modulos css; solo crea el archivo [archivo].module.css y podrás importarlo a tus componentes de React, Next.js hará una serie de optimizaciones para este archivo.\n",
            "1576983472022859777 2022-10-03 17:12:13 +0000 <codigoconjuan> 🔷 IMÁGENES:   Next.js acaba de actualizar su componente de imágenes: next/future/image; solo coloca la ruta a tu imagen y Next.js la va a aligerar y crear versiones para Avif, Webp y pantallas retina.\n",
            "1576983469908889600 2022-10-03 17:12:12 +0000 <codigoconjuan> 🔷DATA FETCHING:   Next.js cuenta con diferentes formas de obtener datos desde una API: getStaticProps y getServerSideProps; incluso puedes obtener los datos con su librería SWR.\n",
            "1576983468478631937 2022-10-03 17:12:12 +0000 <codigoconjuan> 🔷 ROUTING:  Utiliza los componentes de Next.js como &lt;Link&gt; para poder navegar a través de tu aplicación a gran velocidad.\n",
            "1576983466561835010 2022-10-03 17:12:12 +0000 <codigoconjuan> 🔷 PAGES:   Next.js tiene un MODELO BASADO EN RUTAS.  ▪️ Crea el archivo nosotros.js y automáticamente Next.js ▪️ Se creará la ruta /nosotros. ▪️ Cada archivo que coloques en pages/ será una ruta en tu app.\n",
            "1576983465093787649 2022-10-03 17:12:11 +0000 <codigoconjuan> 5 CARACTERÍSTICAS DE NEXT.JS QUE DEBES DE CONOCER ⬇️  Abro Hilo 🧵\n",
            "1576963696831520768 2022-10-03 15:53:38 +0000 <codigoconjuan> 🎃 ¡CUPONES DISPONIBLES! 🎃  Puedes visitar ➡️  https://t.co/p5ObPc0BHN  Nombre del cupón: OCTUBRE2022  Vencimiento el día 7 de Octubre ⬇️ Cuéntame ¿Qué curso vas adquirir? ⬇️  #codigoconjuan #udemycoupon  https://t.co/wSiOYOAblE\n",
            "1576956941213270016 2022-10-03 15:26:47 +0000 <codigoconjuan> @Play10Never @HugoMonsalveSa1 Muchas Gracias!\n",
            "1576956813492518913 2022-10-03 15:26:17 +0000 <codigoconjuan> @RolandoRguez Hay buenas páginas para sacar inspiración: Themeforest tiene unos diseños increíbles\n",
            "1576229073470488576 2022-10-01 15:14:30 +0000 <codigoconjuan> @HugoMonsalveSa1 🙌 genial, espero aprendas mucho, hay algunos proyectos que se comparten en ambos cursos, pero los proyectos full stack si son más avanzados 🔥\n",
            "1576223581864103936 2022-10-01 14:52:41 +0000 <codigoconjuan> @cristiank170319 se ve muy bien ese menú de la parte superior, muchas felicidades, con constancia todo es posible 🔥\n",
            "1576016775342620672 2022-10-01 01:10:54 +0000 <codigoconjuan> @alvamau5 @Shido101 @Rebeca07613504 es del curso de Node, Proyecto de bienes raíces\n",
            "1576003710781513728 2022-10-01 00:19:00 +0000 <codigoconjuan> @Rebeca07613504 genial esa parte de relacionar modelos 😎\n",
            "1575900575555731456 2022-09-30 17:29:10 +0000 <codigoconjuan> @Play10Never Si completo con diferentes proyectos y diseños!\n",
            "1575895192225611776 2022-09-30 17:07:47 +0000 <codigoconjuan> @Play10Never Iniciando el año ya habrá cursos, estos últimos 3 meses son para finalizar las actualizaciones  Vue.js y Tailwind los primeros, Flutter, Django un poco más adelante\n",
            "1575895003880370176 2022-09-30 17:07:02 +0000 <codigoconjuan> @alvamau5 muchas gracias!\n",
            "1575891735682912256 2022-09-30 16:54:03 +0000 <codigoconjuan> @BryanJGomez y el premio es grande!\n",
            "1575832845800513536 2022-09-30 13:00:02 +0000 <codigoconjuan> Todos pasamos momentos donde pensamos que no servimos para algo y deberíamos de dedicarnos a otra cosa.   Recuerda, a veces necesitamos salir de nuestra zona de confort para poder crecer. ¡No abandones!   #codigoconjuan #desarrolloweb  https://t.co/vagERLzuKD\n",
            "1575659065673252865 2022-09-30 01:29:30 +0000 <codigoconjuan> @KaltWulx XMLHttpRequest por la compatibilidad del navegador? porque Fetch API ahorra mucho código, y si me imagino que es crear una función y otra y otra,pero se aprende mucho con esos proyectos y hacerlo de cero\n",
            "1575654601927237632 2022-09-30 01:11:46 +0000 <codigoconjuan> @Novana_chan Habría que verlos, la realidad esque es mas importante las buenas prácticas que proyectos super complejos, no necesitas crear un clon de facebook para obtener un empleo\n",
            "1575653456894836737 2022-09-30 01:07:13 +0000 <codigoconjuan> @LuisBarDev si hay APIs muy malas, y después algunas muy buenas que cobran cuando quieres usarlas en producción jajaja\n",
            "1575555542940258304 2022-09-29 18:38:08 +0000 <codigoconjuan> @MirtaAmathos Pero si intentar crear un componente; o a partir de ese código intentar hacer un clon distinto tomando como referencia y adaptando el código ya hecho antes.  Como les digo a mis alumnos: Los numeros Romanos usualmente nos aprendemos los que más vemos, el código será igual!\n",
            "1575553634783199232 2022-09-29 18:30:33 +0000 <codigoconjuan> @CalebAquino jajaja al inicio si pueden ser complejos; pero sin duda es una gran mejora respecto a los callbacks jaja\n",
            "1575504825042747393 2022-09-29 15:16:36 +0000 <codigoconjuan> @JuanCar68915603 Laravel y Next  ando retomando Rails y django porque tengo años sin haberlos utilizado  he leído cosas muy buenas de Nest pero solo hice un proyecto para aprenderlo, pero nunca algo real\n",
            "1575503926484668425 2022-09-29 15:13:02 +0000 <codigoconjuan> @EdgardBejarano yo tampoco finalizo cursos, aprendo los fundamentos y a partir de ahí ya pongo en práctica jaja  muchas felicidades 💯🥳\n",
            "1575503451626389505 2022-09-29 15:11:08 +0000 <codigoconjuan> @yihope994 recomendaría buscar una posición cómoda, o silla o lugar, ya que estar pegado a la computadora es la única formade completar un proyecto, curso, libro, tutorial\n",
            "1575502407605563396 2022-09-29 15:07:00 +0000 <codigoconjuan> @JuanCar68915603 esta bien aprender lo último, pero usualmente donde he trabajado cuando se crea un proyecto nuevo se evita utilizar lo último, por falta de referencias, ejemplos y código que cambia versión a versión, usualmente algo no tan viejo pero tampoco tan nuevo es lo ideal\n",
            "1575501651175428104 2022-09-29 15:03:59 +0000 <codigoconjuan> @soyReynald creo que a todos les pasa en algún momento, pero la verdad esque los devs movemos el mundo 😎  ya fuera de broma creo que es normal, la confianza se va construyendo dia a dia, proyecto a proyecto, sigue aprendiendo y participando en proyectos donde trabajes o una vez que lo hagas\n",
            "1575501003130286080 2022-09-29 15:01:25 +0000 <codigoconjuan> @Play10Never si creo que cualquier cosa que aprendas, debe estar acompañada de proyectos, en mis cursos me gusta hacer mención que si bien hacemos proyectos, antes de ir por otro curso intenten hacer un proyecto a partir de todos los códigos que ya tenemos\n",
            "1575500737173680128 2022-09-29 15:00:21 +0000 <codigoconjuan> @Fernando_Her85 si creo que es un problema, hay mucha información y también mucha desinformación, también la falta de guias hace que muchas personas no saben bien por donde comenzar\n",
            "1575500288533745664 2022-09-29 14:58:34 +0000 <codigoconjuan> @antoniogarcia78 @Fernando_Her85 hay mucho influencer que no es ni fue Dev, no digo que su opinión no importe pero nunca esta basada en una experiencia real\n",
            "1575499905963270212 2022-09-29 14:57:03 +0000 <codigoconjuan> @XLogus me pasó en el curso de laravel que cuando acabe de grabarlo ya no se usaba webpack sino vite 🤣  lo bueno los cambios fueron pocos y no afecto el resto de videos\n",
            "1575470457087590402 2022-09-29 13:00:02 +0000 <codigoconjuan> ¿Qué se te ha hecho más difícil al momento de aprender Desarrollo Web?   ¡Me gustaría leerte! ⬇️  #codigoconjuan\n",
            "1575300449665687559 2022-09-29 01:44:29 +0000 <codigoconjuan> @urieeldev si me gustaria, tengo mi lista de cursos por lanzar pero con tanta actualización no la pude ni comenzar, espero el siguiente año solo sea de cursos nuevos\n",
            "1575240486645735424 2022-09-28 21:46:13 +0000 <codigoconjuan> @cuahutlim eso me recordó a coldfusion jaja\n",
            "1575183562923560972 2022-09-28 18:00:01 +0000 <codigoconjuan> ¡CUPONES DISPONIBLES!   Puedes visitar ➡️  https://t.co/p5ObPbJ0Qf  Nombre del cupón: SEPTIEMBREMETAS2022 Vencimiento el día 30 de septiembre.  ⬇️ Cuéntame ¿Qué curso vas adquirir? ⬇️  #codigoconjuan #udemycoupon\n",
            "1575164361412595712 2022-09-28 16:43:43 +0000 <codigoconjuan> @LuisBarDev @maripydev @juanwmedia Probablemente no sea en 10 min, pero si en 10 meses? jaja\n",
            "1575160558080258048 2022-09-28 16:28:36 +0000 <codigoconjuan> @3LPU4S ActionScript es verdad jaja, recuerdo que cuando aprendí la 2 salió la 3 y todo era diferente 🥲\n",
            "1575155837798125568 2022-09-28 16:09:51 +0000 <codigoconjuan> Que tecnologías que utilizaste hace años ya prácticamente no se utilizan hoy en día?😆  las mias: - Backbone.js, Underscore.js, CoffeeScript - LESS - HTML5 Boilerplate   Todas ellas grandes influencias para lo que es el desarrollo moderno de hoy en día!\n",
            "1575149381820420096 2022-09-28 15:44:12 +0000 <codigoconjuan> Mejora tu lógica de programación con estos consejos:   🔹 Práctica algoritmos y estructuras. 🔹 Revisa ejemplos de código en Blogs y GitHub. 🔹 Práctica con proyectos reales que sean de tu interés como CRM, Sitios web entre otros.  #codigoconjuan\n",
            "1574897233752989701 2022-09-27 23:02:15 +0000 <codigoconjuan> @urieeldev @walterkstro_dev @SeniorasChambas @reactjs @Fernando_Her85 jaja muchas gracias 🤜🤛\n",
            "1574866468805672960 2022-09-27 21:00:00 +0000 <codigoconjuan> 3 ventajas de aprender React:   🔹 Es una librería escrita en JavaScript de código abierto.  🔹 Está enfocada en la visualización para facilitar la creación de componentes interactivos.  🔹 Tiene la capacidad de acelerar el desarrollo de aplicaciones.   #codigoconjuan\n",
            "1574784443566329856 2022-09-27 15:34:04 +0000 <codigoconjuan> ¿Cómo estar concentrado al momento de aprender Desarrollo de Software?   🔹 Apaga todas las notificaciones y distracciones.  🔹 Enfócate en aprender una sola tecnología.  🔹 Hidrata tu cuerpo para mantener el enfoque.  #desarrolloweb #codigoconjuan\n",
            "1574772265425698816 2022-09-27 14:45:40 +0000 <codigoconjuan> @HugoMonsalveSa1 si vas por el camino de front o full stack, si, React sin duda tiene mucha salida laboral\n",
            "1574598850391592961 2022-09-27 03:16:35 +0000 <codigoconjuan> @soyric4rdo excelente 🙌, muchas gracias por el apoyo\n",
            "1574492268987400218 2022-09-26 20:13:04 +0000 <codigoconjuan> @Juanma_romerox ya con la actualización y el nuevo provider debe ser sencillo 😎💯\n",
            "1574468671371710475 2022-09-26 18:39:18 +0000 <codigoconjuan> @TheComboss Si claro, el curso usaba la 3 porque no había provider de cloudinary  Pero todo mundo quería seguir usando la 4 porque es la nueva, ahí es donde daba problemas  Pero ya hay provider recién salido  https://t.co/c4JrBcmbkL\n",
            "1574458792753844224 2022-09-26 18:00:02 +0000 <codigoconjuan> @diego_mendez_g y ahora con React Router DOM y actions y loaders el código es mejor!\n",
            "1574458729256275969 2022-09-26 17:59:47 +0000 <codigoconjuan> @alangonzalez212 la actualización inicia a partir de ahí, así que si\n",
            "1574458673212055552 2022-09-26 17:59:34 +0000 <codigoconjuan> @JonaVand98 Si, redux toolkit será agregado en estos días también\n",
            "1574457385833435167 2022-09-26 17:54:27 +0000 <codigoconjuan> @rangelinforma ya están listos :D\n",
            "1574453682086694912 2022-09-26 17:39:44 +0000 <codigoconjuan> ¡CUPONES DISPONIBLES!   Puedes visitar ➡️  https://t.co/p5ObPc0BHN  Nombre del cupón: SEPTIEMBREMETAS2022 Vencimiento el día 30 de Septiembre.   ⬇️ Cuéntame ¿Qué curso vas adquirir? ⬇️  #codigoconjuan #udemycoupon\n",
            "1574443990484656128 2022-09-26 17:01:13 +0000 <codigoconjuan> @diego_mendez_g Si, sobretodo React Router DOM ya que lo mismo que aprenderemos en ese capítulo se utiliza en Remix Run\n",
            "1574438705087102977 2022-09-26 16:40:13 +0000 <codigoconjuan> @ficr23 No esos no, a partir del proyecto 4 entran todos estos cambios\n",
            "1574436915268329474 2022-09-26 16:33:06 +0000 <codigoconjuan> 🤟🏽 Tenemos actualización disponible en el curso de Rect Guia Completa, donde podrás aprender:   🔹 React Router DOM 6.4 🔹 Strapi v4 🔹 Remix Run    Esta actualización incluye más de 70 videos.   Si estas interesado te dejo el link del curso:    https://t.co/1fQdMlCgmp\n",
            "1574436292779089922 2022-09-26 16:30:38 +0000 <codigoconjuan> @Mauri2023ok Ahorita los estaré creando, solo termino de publicar el nuevo contenido 😀\n",
            "1574435588874305537 2022-09-26 16:27:50 +0000 <codigoconjuan> Nuevos videos al curso de React - 15 Proyectos  Esta actualización incluye: React Router DOM v6.4 - Incluye los nuevos componentes, hooks y actions y loaders!  Strapi V4 - La nueva interfaz y Provider de imágenes para Cloudinary  Remix Run - Crearemos un Proyecto con Strapi\n",
            "1574078010772234240 2022-09-25 16:46:57 +0000 <codigoconjuan> @amayasuriel23 🥲 jaja\n",
            "1574074412831281155 2022-09-25 16:32:39 +0000 <codigoconjuan> @ROBERTEDUARDOV7 Depende el lenguaje que conozcas, pero si sabes HTML, CSS y JS podrías comenzar con el curso de Node    https://t.co/mOqB8EnMhk\n",
            "1574074250951999488 2022-09-25 16:32:00 +0000 <codigoconjuan> @ElProfeRonny Puede ser jeje :P depende de la empresa, hay unas que quieren que el front configure servidores 😶\n",
            "1574074076934676486 2022-09-25 16:31:19 +0000 <codigoconjuan> @Albertotravesi Mañana tendremos cupones con el máximo descuento posible\n",
            "1574073973737811968 2022-09-25 16:30:54 +0000 <codigoconjuan> @Gianfranco2605 Excelente inicio, mucha suerte en los 100 días de Código y espero aprendas mucho!\n",
            "1574073789020872710 2022-09-25 16:30:10 +0000 <codigoconjuan> @daniel_dev23 Genial, muy interesante lo de consumir todas las monedas de muchos países! 😎\n",
            "1573416918001717256 2022-09-23 21:00:00 +0000 <codigoconjuan> Un Freelance en Desarrollo de Software nunca debe perder estas tres aptitudes:   🔹 Paciencia en aprender siempre.  🔸 Perseverancia cuando las cosas se ponen difíciles.  🔹 Pasión por nunca dejar de hacer eso que tanto amas.   #codigoconjuan\n",
            "1573311220249112577 2022-09-23 14:00:00 +0000 <codigoconjuan> “El aprendizaje nunca agota la mente.” Leonardo da Vinci\n",
            "1573054529620217856 2022-09-22 21:00:00 +0000 <codigoconjuan> Funciones de que hace un Desarrollador Frontend  a) Mantener y Optimizar Sitios Web. b) Es el encargado de implementar la interacción entre el usuario y sitio web.  c) Traducir diseños a lenguaje de programación.  Menciona cual de las funciones es  ❌INCORRECTA ❌\n",
            "1572933737775448064 2022-09-22 13:00:01 +0000 <codigoconjuan> Razones por las que tu trabajo como Freelance en Desarrollo de Software puede verse afectado.   ▪️ Te saturas al decir que si a proyectos.  ▪️ No gestionas tu tiempo de forma adecuada.  ▪️ No tienes un lugar óptimo para trabajar.   #codigoconjuan\n",
            "1572803534533320705 2022-09-22 04:22:38 +0000 <codigoconjuan> @jesuslike21 Puedes revisar estas rutas de aprendizaje de acuerdo a que te gustaría ser   https://t.co/2hiv5kOTrz  ya pronto habrá nuevos cursos 😁\n",
            "1572761936122548226 2022-09-22 01:37:20 +0000 <codigoconjuan> @daniel_dev23 IndexedDB es excelente 😎\n",
            "1572692140643098625 2022-09-21 21:00:00 +0000 <codigoconjuan> ¿Cómo mejorar el enfoque y estar concentrado para aprender Desarrollo de Software?   ▪️ Planifica qué quieres aprender desde un día anterior. ▪️ Encuentra un sentido positivo y motivador para realizar esa tarea.  ▪️ Apaga las notificaciones de tu celular.  #codigoconjuan\n",
            "1572653129744715777 2022-09-21 18:24:59 +0000 <codigoconjuan> @H1Molina Muchas felicidades! 🥳🥳  genial que hayas finalizado todo el curso 😎\n",
            "1572628242816970754 2022-09-21 16:46:05 +0000 <codigoconjuan> @viviana65260627 Muchos reclutadores están en Linkedin, algunos solo mandan por enviar mensajes, pero la mayoría están ahí  También en twitter hay recruiters: @SeniorasChambas  aunque ella publica casi puro perfil Sr, @LuRecruiter también suele publicar\n",
            "1572586448531775488 2022-09-21 14:00:01 +0000 <codigoconjuan> Ventajas de utilizar JavaScript:   ▪️ Se ejecuta de forma rápida en el navegador.  ▪️ Simplicidad en la sintaxis.  ▪️ Demanda laboral.   ¿Qué otra ventaja agregarías?   #codigoconjuan\n",
            "1572314655057477634 2022-09-20 20:00:00 +0000 <codigoconjuan> Si estas en busca de tu primer trabajo como Desarrollador de Software te dejo este consejo:   Aprende de cada entrevista que tengas, siempre se aprende y se puede mejorar en la siguiente , recuerda que no debe de darte miedo postularte al contrario, en cada entrevista mejoras.\n",
            "1572277818905731072 2022-09-20 17:33:38 +0000 <codigoconjuan> ¿Qué hacer para dejar de procrastinar y concentrarte en estudiar programación?  🕜 Dedica 20 minutos al día, sin presionarte. ❤️ Realiza ejemplos que te gusten.  👊🏼 Motivate de personas que sepan más que tú.   ¿Qué consejo te gustaría agregar? ⬇️  #codigoconjuan\n",
            "1571949261645832192 2022-09-19 19:48:04 +0000 <codigoconjuan> @CodigoDelNorte Muchos freelancers cometen el error de esperar trabajar con empresas grandes, en mi caso hubo clientes que me decían que querian una nueva sección de su sitio en WordPress y era trabajo de 1 hora, pero esos clientes son los que mas rápido pagaban 😃\n",
            "1571931794811027457 2022-09-19 18:38:39 +0000 <codigoconjuan> @disapdesarrollo es mejor crear 5 proyectos ficticios que tengan un buen diseño a hacerle algo gratis a alguien que tarde meses y encima muchos clientes no tienen idea de diseño y sea algo que no puedas mostrar 😟\n",
            "1571899286409056258 2022-09-19 16:29:29 +0000 <codigoconjuan> 3 consejos si estás quieres empezar como Freelance:  ▪️ No hay clientes pequeños. ▪️ Si no tienes un portafolio, inventa uno con proyectos ficticios pero bien hechos. ▪️ Elige un nicho, es posible que te recomienden.  ¿Qué consejo le darías a un Freelance que apenas comienza?\n",
            "[!] No more data! Scraping will stop now.\n",
            "found 0 deleted tweets in this search.\n"
          ]
        }
      ]
    },
    {
      "cell_type": "code",
      "source": [
        "# info de un usuario\n",
        "import twint\n",
        "\n",
        "c = twint.Config()\n",
        "c.Username = \"PabloSoifer1\"\n",
        "\n",
        "twint.run.Lookup(c)"
      ],
      "metadata": {
        "colab": {
          "base_uri": "https://localhost:8080/"
        },
        "id": "SUbMb_0i-FW2",
        "outputId": "fb7d50f8-1959-4cb6-e867-e8ab7d115c36"
      },
      "execution_count": 16,
      "outputs": [
        {
          "output_type": "stream",
          "name": "stdout",
          "text": [
            "2414701584 | Code Mercenary | @PabloSoifer1 | Private: False | Verified: False | Bio: Programador, QA, Scrum Master certificado, hago buenos asados y hablo del mundo sistemas en mi canal de youtube Draculinio. Code mercenary. | Location: Ciudad Autónoma de Buenos Aire | Url: https://t.co/ANnAXkguMA | Joined: 2014-03-27 17:49:33 UTC | Tweets: 32694 | Following: 1914 | Followers: 2052 | Likes: 60955 | Media: 2318 | Avatar: https://pbs.twimg.com/profile_images/1465497971685048323/SCj-m6G5_normal.jpg\n"
          ]
        }
      ]
    },
    {
      "cell_type": "code",
      "source": [
        "# guardar twits\n",
        "import twint\n",
        "\n",
        "c = twint.Config()\n",
        "\n",
        "c.Username = 'LuRecruiter'\n",
        "c.Limit = 20\n",
        "c.Store_object = True\n",
        "\n",
        "twint.run.Search(c)\n",
        "tweets = twint.output.tweets_list"
      ],
      "metadata": {
        "id": "NWEuOVYZ-cNn",
        "colab": {
          "base_uri": "https://localhost:8080/"
        },
        "outputId": "95276968-298a-40eb-ce1a-50db8775700c"
      },
      "execution_count": 26,
      "outputs": [
        {
          "output_type": "stream",
          "name": "stdout",
          "text": [
            "1578502007354462208 2022-10-07 21:46:20 +0000 <LuRecruiter> HIRING! SR PYTHON DEVS 📍Remote job. LATAM. USD Salary 👉Fluent English • +5 years of experience in development • strong SQL and cloud exp  🚀Apply to llamas@crnova.com  #python   We offer: long-term contract + USD salary + paid time off + birthday off + wellness bonus\n",
            "1578157923074592768 2022-10-06 22:59:04 +0000 <LuRecruiter> @eduardoRoth Jajajaa así es 🤣 imposible aburrirse\n",
            "1578157376376492032 2022-10-06 22:56:53 +0000 <LuRecruiter> @OoszUrae JAJAJA! \"Tamalesssss, tamalesss\"\n",
            "1578134752481132545 2022-10-06 21:26:59 +0000 <LuRecruiter> Intentar entrevistar cuando 🥲 - Pasa el camión de basura full claxon - El gallo del vecino da un concierto - Entran llamadas spam que truecaller no bloquea - Motos con Bad Bunny a todo volumen - Los perritos del barrio se pelean y así  https://t.co/MatdG7y1vL\n",
            "1577851842423291904 2022-10-06 02:42:48 +0000 <LuRecruiter> @DataEngiLatam Mañana lo pongo en el telegram 😁\n",
            "1577842424990531584 2022-10-06 02:05:23 +0000 <LuRecruiter> Comparto vacante para el área comercial en start up tech 😃\n",
            "1577786179654746113 2022-10-05 22:21:53 +0000 <LuRecruiter> @aaroncambursano Las vacantes de Data son muy demandadas últimamente\n",
            "1577785951564320768 2022-10-05 22:20:59 +0000 <LuRecruiter> @Ricardo36287593 Así es, puedes registrarte\n",
            "1577785552971120645 2022-10-05 22:19:24 +0000 <LuRecruiter> @JoseTablanteJT Te recomiendo potenciar al inglés, te abrirá muchas oportunidades, manejar Back y Front también. También puedes encontrar opciones como Data Analyst\n",
            "1577753837926027270 2022-10-05 20:13:22 +0000 <LuRecruiter> Qué cantidad de clientes solicitando #python dev esta semana 🔥 🚀Senior Python devs con inglés avanzado (5 vacantes) #sql #AWS  👉Remoto LATAM, pago en USD, clientes de USA CV a llamas@crnova.com  Benefits: contrato de 3 años, bono en dic, 12 PTO, dia de cumple off, bonos, etc\n",
            "1577745398055288859 2022-10-05 19:39:50 +0000 <LuRecruiter> @ruizdani301 Démole =)\n",
            "1577674258855116805 2022-10-05 14:57:09 +0000 <LuRecruiter> @joelibaceta @luismejiadev Claro, eso sería una red flag El contacto sin haber revisado el CV\n",
            "1577432355010408450 2022-10-04 22:55:55 +0000 <LuRecruiter> @he_neos 🙌🙌🙌\n",
            "1577432264530866176 2022-10-04 22:55:33 +0000 <LuRecruiter> @fabioalcocer17 🫶\n",
            "1577432070900441088 2022-10-04 22:54:47 +0000 <LuRecruiter> @solorzano_lula Gracias por hacer la consulta, me interesa saber que piensan jeje  Si el # está, creo que es válido. Hay candidatos que no tienen LinkedIn, me han postulado por twitter dejando el # o personas que pasan referidos por whatsapp, y el contacto es por ahí\n",
            "1577429259731496960 2022-10-04 22:43:37 +0000 <LuRecruiter> @luismejiadev Cool 🙌\n",
            "1577396308532695041 2022-10-04 20:32:41 +0000 <LuRecruiter> @luismejiadev Es red flag lo del WhatsApp si el # está en tu LinkedIn o CV?  Yo converso con candidatos por ese medio, al inicio el contacto suele ser por LinkedIn, pero realmente el proceso fluye más rápido cuando coordinamos por WhatsApp\n",
            "1577345911021309952 2022-10-04 17:12:25 +0000 <LuRecruiter> @gaosxp  https://t.co/vge3mtat7a\n",
            "1577334067762270212 2022-10-04 16:25:21 +0000 <LuRecruiter> Hola! gracias a las casi 1000 de personas registradas en mi BD de candidat@s tech! 🚀 Se abrió una vacante de UI UX y fui contactando a los  de la base 🔍 Si eres del rubro IT (devs, qa, devOps, data, UI UX, cyberseguridad, BA, SM, etc) te invito a registrarte👇\n",
            "1576965196433698817 2022-10-03 15:59:36 +0000 <LuRecruiter> @_randmcnally 😐\n"
          ]
        }
      ]
    },
    {
      "cell_type": "code",
      "source": [
        "# especificar en qué lista almacenar los tweets:\n",
        "\n",
        "import twint\n",
        "\n",
        "tweets = []\n",
        "\n",
        "c = twint.Config()\n",
        "\n",
        "c.Username = 'LadyMaqui'\n",
        "c.Limit = 20\n",
        "c.Store_object = True\n",
        "c.Store_object_tweets_list = tweets\n",
        "\n",
        "twint.run.Search(c)\n",
        "# now 'tweets' contains the tweets\n",
        "# twint.output.tweets_list` is empty"
      ],
      "metadata": {
        "colab": {
          "base_uri": "https://localhost:8080/"
        },
        "id": "T0fxR3-0-4mj",
        "outputId": "92e018a8-44d9-409f-efbf-948c8988cbd7"
      },
      "execution_count": 18,
      "outputs": [
        {
          "output_type": "stream",
          "name": "stdout",
          "text": [
            "1577483637976494080 2022-10-05 02:19:42 +0000 <LadyMaqui> @julianbut_ @manutoloza\n",
            "1577009258008219648 2022-10-03 18:54:41 +0000 <LadyMaqui> @manutoloza Harvard también da cursos gratuitos (muy buenos y con certificado)\n",
            "1577009122632822784 2022-10-03 18:54:08 +0000 <LadyMaqui> @manutoloza  https://t.co/PYFt091RaH\n",
            "1576393826960564224 2022-10-02 02:09:10 +0000 <LadyMaqui> @iamdoomling Nooo! Mi peor pesadilla! Esa y que te entre un bicho. O dejar el casco en el piso y que te lo mee un perro (y no darte cuenta hasta después de puesto), por eso nunca, nunca lo dejaba en el piso.\n",
            "1576386381969969152 2022-10-02 01:39:35 +0000 <LadyMaqui> @Avaltenea Con público nativo (en inglés)?\n",
            "1576290470946230273 2022-10-01 19:18:28 +0000 <LadyMaqui> @atr_ahre @esteban_a_secas, te suena?\n",
            "1576249537861033986 2022-10-01 16:35:49 +0000 <LadyMaqui> Qué onda la gente que escucha los audios de WA por parlante en la vía pública? Qué onda los que vuelven a escuchar sus propios audios enteros? Y qué onda los que hacen ambas cosas a la vez? Ya me encontré con dos en el cole en estos días.\n",
            "1576247067282141184 2022-10-01 16:26:00 +0000 <LadyMaqui> @PabloSoifer1 @BonelliOK Claro. Con Esteban también vimos historias al revés en nuestras familias a nivel económico. Es que depende de muchos factores.\n",
            "1576246088641572865 2022-10-01 16:22:07 +0000 <LadyMaqui> @PabloSoifer1 @BonelliOK (Las comillas debían cerrar después del \"bien\" 🙈)\n",
            "1576245666162298882 2022-10-01 16:20:26 +0000 <LadyMaqui> @PabloSoifer1 @BonelliOK Además, te puede \"ir bien por dos motivos\" (a nivel gobierno): o porque están haciendo las cosas bien, o porque están reventando el país... y de lo segundo te das cuenta no en el momento, sino en los años posteriores...\n",
            "1576245284169912320 2022-10-01 16:18:55 +0000 <LadyMaqui> @PabloSoifer1 @BonelliOK Exacto! Apenas lo vi, pensé \"con Néstor era con quien tenía menos preocupaciones económicas, pero no gracias a su gobierno sino al hecho de que estaba en la secundaria y me mantenían mis padres\". Cuac!\n",
            "1575995930175643648 2022-09-30 23:48:04 +0000 <LadyMaqui> ¡Que Dios bendiga a este hombre fiel y valiente!\n",
            "1575452649041821696 2022-09-29 11:49:16 +0000 <LadyMaqui> @esteban_a_secas @dsantaka También tiene uno que se llama \"Viaje de emociones\". Creo que ese es su preferido. Son cartas que te presentan diferentes situaciones y tiene que comentar cómo reaccionaría en cada caso. Muy bueno también para ayudarlos.\n",
            "1575140941106761729 2022-09-28 15:10:39 +0000 <LadyMaqui> @noFound_xAhora No te conozco, pero te deseo todo lo mejor!\n",
            "1574874430035075073 2022-09-27 21:31:38 +0000 <LadyMaqui> @indignadoxd @DEBORAHKAHAN1 Es que valoramos el trabajo artesanal. Ah, no entendía nada!\n",
            "1574865217053401089 2022-09-27 20:55:01 +0000 <LadyMaqui> Hice un budín súper saludable de zanahorias, harina integral con semillas, azúcar mascabo, huevos de mi gallina, canela, jengibre, nuez moscada... No me encantó, y como no me gusta desperdiciar ahora me lo estoy comiendo con *atenti* dulce de leche. Eso soy.\n",
            "1574796305129512962 2022-09-27 16:21:12 +0000 <LadyMaqui> @Delfipals74 Jaja! Cuando quieras!\n",
            "1574765067622617088 2022-09-27 14:17:04 +0000 <LadyMaqui> @AndresPerotti \"No te preocupes, Andrés! Le hablamos en lenguaje inclusivo y se soluciona!\" Qué triste...\n",
            "1574764302652903431 2022-09-27 14:14:02 +0000 <LadyMaqui> @Delfipals74 Yo! Pero creo que llegás para el almuerzo! je\n",
            "1574582561371734028 2022-09-27 02:11:51 +0000 <LadyMaqui> @juliirc05 @PreciosRosario2 @Rosariociudadok @manutoloza @Delfipals74\n",
            "1573155982380859397 2022-09-23 03:43:08 +0000 <LadyMaqui> @Delfipals74 @esteban_a_secas Es como una estrella fugaz. Hay que aprovechar. Yo le pedí helado.\n",
            "1573054922618437632 2022-09-22 21:01:34 +0000 <LadyMaqui> @esteban_a_secas Sí, ese es mi esposo, definitivamente! Jaja\n",
            "1573054079181672448 2022-09-22 20:58:13 +0000 <LadyMaqui> Hoy @esteban_a_secas me despertó con 1 beso y me dijo q había soñado q éramos amigos pero yo no le daba bola, y q se había alegrado al despertar y acordarse d q era su esposa. Recién me dedico 1 canción tierna. Quién es ud y q hizo con mi esposo?!\n",
            "1568074086546382848 2022-09-09 03:09:30 +0000 <LadyMaqui> @AgustinaLocke @NETIdiomas @esteban_a_secas Ya que con tu esposa no aprendés, en una de esas les das bolilla a ellos... 😂\n",
            "1568072891433877505 2022-09-09 03:04:45 +0000 <LadyMaqui> @AgustinaLocke @NETIdiomas @esteban_a_secas\n",
            "1568072709090803714 2022-09-09 03:04:01 +0000 <LadyMaqui> @AgustinaLocke @NETIdiomas Lo quiero para regalar! :)\n",
            "1567371054057660417 2022-09-07 04:35:54 +0000 <LadyMaqui> @andrealotassone @PreciosRosario2 \"Amables\" quise decir. Jaja\n",
            "1567370902890856451 2022-09-07 04:35:18 +0000 <LadyMaqui> @andrealotassone @PreciosRosario2 Óptica Trini. Santa Fe entre Corrientes y Entre Ríos, creo que es.  Unos genios! Súper amantes. Excelente calidad.\n",
            "1567368354637176841 2022-09-07 04:25:10 +0000 <LadyMaqui> @CentraldemiV1da @leodelga2 No tan claramente. Y aún así, no estoy de acuerdo. Pero bueno.\n",
            "1563334296135663618 2022-08-27 01:15:16 +0000 <LadyMaqui> @NonnoSofia La definición de mi viernes.\n",
            "1562579519470706688 2022-08-24 23:16:03 +0000 <LadyMaqui> @manutoloza @DamianCatanzaro Lo recomiendo! Súper profesional.\n",
            "1562248454155427841 2022-08-24 01:20:31 +0000 <LadyMaqui> @facmartoni 1 de septiembre\n"
          ]
        }
      ]
    },
    {
      "cell_type": "code",
      "source": [
        "# seguidores y su info\n",
        "import twint\n",
        "\n",
        "c = twint.Config()\n",
        "c.Username = \"LadyMaqui\"\n",
        "c.User_full = True\n",
        "\n",
        "twint.run.Followers(c)"
      ],
      "metadata": {
        "id": "SHsBzz5T-7DY",
        "colab": {
          "base_uri": "https://localhost:8080/"
        },
        "outputId": "b3d7dbf0-e083-48ab-90f7-794f8a4d7c33"
      },
      "execution_count": 19,
      "outputs": [
        {
          "output_type": "stream",
          "name": "stderr",
          "text": [
            "CRITICAL:root:twint.feed:Follow:IndexError\n"
          ]
        }
      ]
    },
    {
      "cell_type": "code",
      "source": [],
      "metadata": {
        "id": "qNwxX6gnV5PB"
      },
      "execution_count": null,
      "outputs": []
    }
  ]
}
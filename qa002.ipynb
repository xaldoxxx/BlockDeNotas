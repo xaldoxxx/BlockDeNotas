{
  "nbformat": 4,
  "nbformat_minor": 0,
  "metadata": {
    "colab": {
      "provenance": [],
      "authorship_tag": "ABX9TyODQZisi5ct1fvRuOeiEbut",
      "include_colab_link": true
    },
    "kernelspec": {
      "name": "python3",
      "display_name": "Python 3"
    },
    "language_info": {
      "name": "python"
    }
  },
  "cells": [
    {
      "cell_type": "markdown",
      "metadata": {
        "id": "view-in-github",
        "colab_type": "text"
      },
      "source": [
        "<a href=\"https://colab.research.google.com/github/xaldoxxx/BlockDeNotas/blob/main/qa002.ipynb\" target=\"_parent\"><img src=\"https://colab.research.google.com/assets/colab-badge.svg\" alt=\"Open In Colab\"/></a>"
      ]
    },
    {
      "cell_type": "code",
      "execution_count": 4,
      "metadata": {
        "id": "Kz5s9pOsWbSE"
      },
      "outputs": [],
      "source": [
        "# Crea la estructura de directorios\n",
        "!mkdir -p /content/proyect/qa002/localizadores\n",
        "!mkdir -p /content/proyect/qa002/pruebas\n",
        "!mkdir -p /content/proyect/qa002/páginas\n",
        "!mkdir -p /content/proyect/qa002/controladores\n",
        "!mkdir -p /content/proyect/qa002/configuración\n",
        "!mkdir -p /content/proyect/qa002/utilidades\n",
        "!mkdir -p /content/proyect/qa002/informes\n",
        "\n",
        "# Crea los archivos __init__.py en cada directorio para que sean paquetes de Python\n",
        "!touch /content/proyect/qa002/localizadores/__init__.py\n",
        "!touch /content/proyect/qa002/pruebas/__init__.py\n",
        "!touch /content/proyect/qa002/páginas/__init__.py\n",
        "!touch /content/proyect/qa002/configuración/__init__.py\n",
        "!touch /content/proyect/qa002/utilidades/__init__.py\n",
        "\n",
        "# Crea los archivos específicos en cada directorio\n",
        "!touch /content/proyect/qa002/localizadores/localizadores_buscador_empleo.py\n",
        "!touch /content/proyect/qa002/pruebas/prueba_buscador_empleo.py\n",
        "!touch /content/proyect/qa002/páginas/página_buscador_empleo.py\n",
        "!touch /content/proyect/qa002/controladores/chromedriver.exe\n",
        "!touch /content/proyect/qa002/controladores/geckodriver.exe\n",
        "!touch /content/proyect/qa002/configuración/configuracion.py\n",
        "!touch /content/proyect/qa002/configuración/constantes.py\n",
        "!touch /content/proyect/qa002/utilidades/excepciones_personalizadas.py\n",
        "!touch /content/proyect/qa002/utilidades/datos_prueba.py\n",
        "!touch /content/proyect/qa002/informes/plantilla_informe.html\n",
        "!touch /content/proyect/qa002/ejecutar_pruebas.py\n"
      ]
    },
    {
      "cell_type": "code",
      "source": [
        "# Configura tu nombre de usuario y correo en Git (si aún no lo has hecho)\n",
        "!git config --global user.name \"xaldoxxx\"\n",
        "!git config --global user.email \"manfredialdo3@gmail.com\"\n",
        "\n",
        "# Accede al directorio de tu proyecto (reemplaza /ruta/a/qa002 por la ubicación de tu proyecto)\n",
        "%cd /content/proyect/qa002\n",
        "\n",
        "# Inicializa un repositorio Git en tu proyecto local\n",
        "!git init\n",
        "\n",
        "# Agrega todos los archivos y directorios a la zona de preparación\n",
        "!git add .\n",
        "\n",
        "# Crea un commit con los archivos agregados\n",
        "!git commit -m \"Inicialización del repositorio\"\n",
        "\n",
        "# Conéctate a tu repositorio remoto en GitHub (cambia xaldoxxx por tu nombre de usuario)\n",
        "!git remote add origin git@github.com:xaldoxxx/QA002.git\n",
        "\n",
        "# Cambia el nombre de la rama principal a 'main'\n",
        "!git branch -M main\n",
        "\n",
        "# Sube tus archivos al repositorio en GitHub\n",
        "!git push -u origin main\n"
      ],
      "metadata": {
        "colab": {
          "base_uri": "https://localhost:8080/"
        },
        "id": "mdlQ1mMgalGb",
        "outputId": "ae4251e0-4d3d-4ac4-b138-231191fd30f3"
      },
      "execution_count": 7,
      "outputs": [
        {
          "output_type": "stream",
          "name": "stdout",
          "text": [
            "/content/proyect/qa002\n",
            "\u001b[33mhint: Using 'master' as the name for the initial branch. This default branch name\u001b[m\n",
            "\u001b[33mhint: is subject to change. To configure the initial branch name to use in all\u001b[m\n",
            "\u001b[33mhint: of your new repositories, which will suppress this warning, call:\u001b[m\n",
            "\u001b[33mhint: \u001b[m\n",
            "\u001b[33mhint: \tgit config --global init.defaultBranch <name>\u001b[m\n",
            "\u001b[33mhint: \u001b[m\n",
            "\u001b[33mhint: Names commonly chosen instead of 'master' are 'main', 'trunk' and\u001b[m\n",
            "\u001b[33mhint: 'development'. The just-created branch can be renamed via this command:\u001b[m\n",
            "\u001b[33mhint: \u001b[m\n",
            "\u001b[33mhint: \tgit branch -m <name>\u001b[m\n",
            "Initialized empty Git repository in /content/proyect/qa002/.git/\n",
            "[master (root-commit) 55bf08f] Inicialización del repositorio\n",
            " 16 files changed, 0 insertions(+), 0 deletions(-)\n",
            " create mode 100644 \"configuraci\\303\\263n/__init__.py\"\n",
            " create mode 100644 \"configuraci\\303\\263n/configuracion.py\"\n",
            " create mode 100644 \"configuraci\\303\\263n/constantes.py\"\n",
            " create mode 100644 controladores/chromedriver.exe\n",
            " create mode 100644 controladores/geckodriver.exe\n",
            " create mode 100644 ejecutar_pruebas.py\n",
            " create mode 100644 informes/plantilla_informe.html\n",
            " create mode 100644 localizadores/__init__.py\n",
            " create mode 100644 localizadores/localizadores_buscador_empleo.py\n",
            " create mode 100644 pruebas/__init__.py\n",
            " create mode 100644 pruebas/prueba_buscador_empleo.py\n",
            " create mode 100644 \"p\\303\\241ginas/__init__.py\"\n",
            " create mode 100644 \"p\\303\\241ginas/p\\303\\241gina_buscador_empleo.py\"\n",
            " create mode 100644 utilidades/__init__.py\n",
            " create mode 100644 utilidades/datos_prueba.py\n",
            " create mode 100644 utilidades/excepciones_personalizadas.py\n",
            "Host key verification failed.\n",
            "fatal: Could not read from remote repository.\n",
            "\n",
            "Please make sure you have the correct access rights\n",
            "and the repository exists.\n"
          ]
        }
      ]
    },
    {
      "cell_type": "code",
      "source": [
        "!git remote add origin git@github.com:xaldoxxx/QA002.git"
      ],
      "metadata": {
        "colab": {
          "base_uri": "https://localhost:8080/"
        },
        "id": "m45MUnY6bemm",
        "outputId": "bcb3067b-9073-4255-efd6-9f54d3fbfbad"
      },
      "execution_count": 9,
      "outputs": [
        {
          "output_type": "stream",
          "name": "stdout",
          "text": [
            "error: remote origin already exists.\n"
          ]
        }
      ]
    },
    {
      "cell_type": "code",
      "source": [
        "%%writefile mi_archivo.txt\n",
        "Este es un ejemplo de contenido.\n",
        "Puedes agregar cualquier texto que desees."
      ],
      "metadata": {
        "id": "BRoOMmIxb4gV"
      },
      "execution_count": 10,
      "outputs": []
    },
    {
      "cell_type": "code",
      "source": [
        "%%writefile /content/proyect/qa002/páginas/página_buscador_empleo.py\n",
        "from selenium import webdriver\n",
        "from selenium.webdriver.chrome.options import Options\n",
        "from selenium.webdriver.common.by import By\n",
        "import time\n",
        "from localizadores.localizadores_buscador_empleo import LocalizadoresBuscadorEmpleo\n",
        "\n",
        "class PáginaBuscadorEmpleo:\n",
        "    def __init__(self):\n",
        "        self.driver = self._iniciar_driver()\n",
        "\n",
        "    def _iniciar_driver(self):\n",
        "        opciones = Options()\n",
        "        opciones.page_load_strategy = 'normal'\n",
        "        return webdriver.Chrome(options=opciones)\n",
        "\n",
        "    def navegar_a_empleos_google(self):\n",
        "        self.driver.get(LocalizadoresBuscadorEmpleo.URL)\n",
        "        time.sleep(3)\n",
        "\n",
        "    def buscar_empleos(self, palabra_clave):\n",
        "        cuadro_busqueda = self.driver.find_element(By.XPATH, LocalizadoresBuscadorEmpleo.CUADRO_BUSQUEDA)\n",
        "        cuadro_busqueda.send_keys(palabra_clave)\n",
        "        time.sleep(3)\n",
        "\n",
        "    def aplicar_filtros(self):\n",
        "        boton_filtro = self.driver.find_element(By.XPATH, LocalizadoresBuscadorEmpleo.BOTON_FILTRO)\n",
        "        boton_filtro.click()\n",
        "        time.sleep(3)\n",
        "\n",
        "        lista_trabajos = self.driver.find_element(By.XPATH, LocalizadoresBuscadorEmpleo.LISTA_TRABAJOS)\n",
        "        lista_trabajos.click()\n",
        "        time.sleep(3)\n",
        "\n",
        "    def ordenar_por(self):\n",
        "        boton_ordenar = self.driver.find_element(By.XPATH, LocalizadoresBuscadorEmpleo.BOTON_ORDENAR)\n",
        "        boton_ordenar.click()\n",
        "        time.sleep(3)\n",
        "\n",
        "        boton_enviar = self.driver.find_element(By.XPATH, LocalizadoresBuscadorEmpleo.BOTON_ENVIAR)\n",
        "        boton_enviar.click()\n",
        "        time.sleep(3)\n",
        "\n",
        "    def obtener_descripción_trabajo(self):\n",
        "        descripción_trabajo = self.driver.find_element(By.XPATH, LocalizadoresBuscadorEmpleo.DESCRIPCIÓN_TRABAJO)\n",
        "        return descripción_trabajo.text\n",
        "\n",
        "    def cerrar_navegador(self):\n",
        "        self.driver.quit()\n"
      ],
      "metadata": {
        "colab": {
          "base_uri": "https://localhost:8080/"
        },
        "id": "5Nh9agQveiGP",
        "outputId": "9426c93e-cd31-422d-d07f-823a51930695"
      },
      "execution_count": 11,
      "outputs": [
        {
          "output_type": "stream",
          "name": "stdout",
          "text": [
            "Overwriting /content/proyect/qa002/páginas/página_buscador_empleo.py\n"
          ]
        }
      ]
    },
    {
      "cell_type": "code",
      "source": [
        "%%writefile /content/proyect/qa002/localizadores/localizadores_buscador_empleo.py\n",
        "\n",
        "class LocalizadoresBuscadorEmpleo:\n",
        "    URL = \"https://www.google.com/about/careers/applications/jobs/results\"\n",
        "    CUADRO_BUSQUEDA = \"/html[1]/body[1]/c-wiz[1]/div[1]/div[2]/div[1]/div[1]/div[1]/div[1]/div[1]/div[2]/form[1]/div[1]/div[1]/label[1]/input[1]\"\n",
        "    BOTON_FILTRO = \"//button[@aria-label='Locations filter options']//i[@aria-hidden='true']\"\n",
        "    LISTA_TRABAJOS = \"/html[1]/body[1]/c-wiz[1]/div[1]/div[2]/div[1]/div[1]/div[1]/div[1]/div[1]/div[3]/div[1]/div[2]/div[1]/div[2]/div[1]/label[1]\"\n",
        "    BOTON_ORDENAR = \"(//i[@class='google-material-icons VfPpkd-kBDsod'][normalize-space()='expand_more'])[6]\"\n",
        "    BOTON_ENVIAR = '/html[1]/body[1]/c-wiz[1]/div[1]/div[2]/div[1]/div[1]/div[1]/div[1]/div[1]/div[3]/div[7]/div[2]/div[1]/div[2]/div[1]/div[1]/input[1]'\n",
        "    DESCRIPCIÓN_TRABAJO = '//*[@id=\"yDmH0d\"]/c-wiz/div/div[2]/div/div/div[2]/main'\n"
      ],
      "metadata": {
        "colab": {
          "base_uri": "https://localhost:8080/"
        },
        "id": "0tm37j06fnqJ",
        "outputId": "f0c5168c-788e-4942-c03a-6e0f5563c6ca"
      },
      "execution_count": 12,
      "outputs": [
        {
          "output_type": "stream",
          "name": "stdout",
          "text": [
            "Overwriting /content/proyect/qa002/localizadores/localizadores_buscador_empleo.py\n"
          ]
        }
      ]
    },
    {
      "cell_type": "code",
      "source": [
        "%%writefile /content/proyect/qa002/pruebas/prueba_buscador_empleo.py\n",
        "import unittest\n",
        "from páginas.página_buscador_empleo import PáginaBuscadorEmpleo\n",
        "\n",
        "class PruebaBuscadorEmpleo(unittest.TestCase):\n",
        "    def setUp(self):\n",
        "        self.buscador = PáginaBuscadorEmpleo()\n",
        "\n",
        "    def test_buscador_empleo(self):\n",
        "        try:\n",
        "            self.buscador.navegar_a_empleos_google()\n",
        "            self.buscador.buscar_empleos(\"python\")\n",
        "            self.buscador.aplicar_filtros()\n",
        "            self.buscador.ordenar_por()\n",
        "            texto_trabajo = self.buscador.obtener_descripción_trabajo()\n",
        "            self.assertTrue(\"Python\" in texto_trabajo)  # Verifica que la descripción contiene la palabra 'Python'.\n",
        "        except Exception as e:\n",
        "            self.fail(f\"Error: {str(e)}\")\n",
        "        finally:\n",
        "            self.buscador.cerrar_navegador()\n",
        "\n",
        "if __name__ == \"__main__\":\n",
        "    unittest.main()\n"
      ],
      "metadata": {
        "colab": {
          "base_uri": "https://localhost:8080/"
        },
        "id": "fx6i4GBff11X",
        "outputId": "3d65a8fb-3f49-42dd-e07a-b46edb3b465c"
      },
      "execution_count": 13,
      "outputs": [
        {
          "output_type": "stream",
          "name": "stdout",
          "text": [
            "Overwriting /content/proyect/qa002/pruebas/prueba_buscador_empleo.py\n"
          ]
        }
      ]
    },
    {
      "cell_type": "code",
      "source": [
        "%%writefile /content/proyect/qa002/ejecutar_pruebas.py\n",
        "import unittest\n",
        "\n",
        "if __name__ == \"__main__\":\n",
        "    cargador_pruebas = unittest.TestLoader()\n",
        "    suite_pruebas = cargador_pruebas.discover('pruebas', pattern='prueba_*.py')\n",
        "\n",
        "    ejecutador = unittest.TextTestRunner(verbosity=2)\n",
        "    ejecutador.run(suite_pruebas)\n"
      ],
      "metadata": {
        "colab": {
          "base_uri": "https://localhost:8080/"
        },
        "id": "PsYAoXgIgIyx",
        "outputId": "9d9eab3e-6806-476d-8fee-fe6fa97b47c2"
      },
      "execution_count": 14,
      "outputs": [
        {
          "output_type": "stream",
          "name": "stdout",
          "text": [
            "Overwriting /content/proyect/qa002/ejecutar_pruebas.py\n"
          ]
        }
      ]
    },
    {
      "cell_type": "code",
      "source": [
        "%%writefile /content/proyect/qa002/configuración/configuracion.py\n",
        "# configuracion.py\n",
        "class Configuracion:\n",
        "    CHROME_DRIVER_PATH = 'controladores/chromedriver.exe'\n",
        "    FIREFOX_DRIVER_PATH = 'controladores/geckodriver.exe'\n"
      ],
      "metadata": {
        "colab": {
          "base_uri": "https://localhost:8080/"
        },
        "id": "MX35hxiTggZX",
        "outputId": "802f0a5f-7ffe-4d57-9936-b6f15d16f347"
      },
      "execution_count": 15,
      "outputs": [
        {
          "output_type": "stream",
          "name": "stdout",
          "text": [
            "Overwriting /content/proyect/qa002/configuración/configuracion.py\n"
          ]
        }
      ]
    },
    {
      "cell_type": "code",
      "source": [
        "%%writefile /content/proyect/qa002/configuración/constantes.py\n",
        "# constantes.py\n",
        "class Constantes:\n",
        "    BASE_URL = \"https://www.google.com/about/careers/applications/jobs/results\"\n"
      ],
      "metadata": {
        "colab": {
          "base_uri": "https://localhost:8080/"
        },
        "id": "35ioRjMGidK3",
        "outputId": "adb2e3d2-1f60-4427-87c1-5d735ca53e8a"
      },
      "execution_count": 16,
      "outputs": [
        {
          "output_type": "stream",
          "name": "stdout",
          "text": [
            "Overwriting /content/proyect/qa002/configuración/constantes.py\n"
          ]
        }
      ]
    },
    {
      "cell_type": "code",
      "source": [
        "%%writefile /content/proyect/qa002/utilidades/excepciones_personalizadas.py\n",
        "# excepciones_personalizadas.py\n",
        "class ExcepcionPersonalizada(Exception):\n",
        "    pass\n"
      ],
      "metadata": {
        "colab": {
          "base_uri": "https://localhost:8080/"
        },
        "id": "0nqZzwj5ii1F",
        "outputId": "d719dae9-e4ec-4d51-b541-413687d3f78f"
      },
      "execution_count": 17,
      "outputs": [
        {
          "output_type": "stream",
          "name": "stdout",
          "text": [
            "Overwriting /content/proyect/qa002/utilidades/excepciones_personalizadas.py\n"
          ]
        }
      ]
    },
    {
      "cell_type": "code",
      "source": [
        "%%writefile /content/proyect/qa002/utilidades/datos_prueba.py\n",
        "# datos_prueba.py\n",
        "class DatosPrueba:\n",
        "    PALABRA_CLAVE = \"python\""
      ],
      "metadata": {
        "colab": {
          "base_uri": "https://localhost:8080/"
        },
        "id": "6kmEY8coiu0V",
        "outputId": "4036773d-856f-4668-cd99-b0bce5929954"
      },
      "execution_count": 19,
      "outputs": [
        {
          "output_type": "stream",
          "name": "stdout",
          "text": [
            "Overwriting /content/proyect/qa002/utilidades/datos_prueba.py\n"
          ]
        }
      ]
    },
    {
      "cell_type": "code",
      "source": [
        "%%writefile /content/proyect/qa002/informes/plantilla_informe.html\n",
        "<!-- plantilla_informe.html -->\n",
        "<!DOCTYPE html>\n",
        "<html>\n",
        "<head>\n",
        "    <title>Informe de Pruebas</title>\n",
        "</head>\n",
        "<body>\n",
        "    <h1>Informe de Pruebas de Buscador de Empleo</h1>\n",
        "    <p>Las pruebas se ejecutaron exitosamente.</p>\n",
        "</body>\n",
        "</html>\n"
      ],
      "metadata": {
        "colab": {
          "base_uri": "https://localhost:8080/"
        },
        "id": "XMOwiE-ai1n1",
        "outputId": "8681a8a3-8125-4e53-8b2c-bb1636eb1466"
      },
      "execution_count": 20,
      "outputs": [
        {
          "output_type": "stream",
          "name": "stdout",
          "text": [
            "Overwriting /content/proyect/qa002/informes/plantilla_informe.html\n"
          ]
        }
      ]
    },
    {
      "cell_type": "code",
      "source": [],
      "metadata": {
        "id": "23RT4Ih_jCse"
      },
      "execution_count": null,
      "outputs": []
    }
  ]
}
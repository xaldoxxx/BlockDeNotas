{
  "nbformat": 4,
  "nbformat_minor": 0,
  "metadata": {
    "colab": {
      "name": "shodanColab.ipynb",
      "provenance": [],
      "authorship_tag": "ABX9TyOBKHWmEXvED/goSVVcnISt",
      "include_colab_link": true
    },
    "kernelspec": {
      "name": "python3",
      "display_name": "Python 3"
    },
    "language_info": {
      "name": "python"
    }
  },
  "cells": [
    {
      "cell_type": "markdown",
      "metadata": {
        "id": "view-in-github",
        "colab_type": "text"
      },
      "source": [
        "<a href=\"https://colab.research.google.com/github/xaldoxxx/BlockDeNotas/blob/main/shodanColab.ipynb\" target=\"_parent\"><img src=\"https://colab.research.google.com/assets/colab-badge.svg\" alt=\"Open In Colab\"/></a>"
      ]
    },
    {
      "cell_type": "markdown",
      "source": [
        "Shodan es un motor de búsqueda de dispositivos conectados a Internet. Google te permite buscar sitios web, Shodan te permite buscar dispositivos. Esta biblioteca brinda a los desarrolladores un fácil acceso a todos los datos almacenados en Shodan para automatizar tareas e integrarse en las herramientas existentes.\n",
        "\n",
        "\n",
        "\n",
        "ayudas:\n",
        "\n",
        "\n",
        "\n",
        "https://github.com/achillean/shodan-python\n",
        "\n",
        "\n",
        "https://developer.shodan.io/\n",
        "\n",
        "\n",
        "https://help.shodan.io/\n",
        "\n",
        "\n",
        "https://shodan.readthedocs.org/\n",
        "\n",
        "\n",
        "\n",
        "inciar sesion https://account.shodan.io/"
      ],
      "metadata": {
        "id": "Gyd0kzr6Aqpt"
      }
    },
    {
      "cell_type": "code",
      "execution_count": 1,
      "metadata": {
        "colab": {
          "base_uri": "https://localhost:8080/"
        },
        "id": "1kManBYWAhT-",
        "outputId": "6781aa02-9961-4ce7-a763-017cc9e1606b"
      },
      "outputs": [
        {
          "output_type": "stream",
          "name": "stdout",
          "text": [
            "Looking in indexes: https://pypi.org/simple, https://us-python.pkg.dev/colab-wheels/public/simple/\n",
            "Collecting shodan\n",
            "  Downloading shodan-1.28.0.tar.gz (53 kB)\n",
            "\u001b[K     |████████████████████████████████| 53 kB 968 kB/s \n",
            "\u001b[?25hRequirement already satisfied: click in /usr/local/lib/python3.7/dist-packages (from shodan) (7.1.2)\n",
            "Collecting click-plugins\n",
            "  Downloading click_plugins-1.1.1-py2.py3-none-any.whl (7.5 kB)\n",
            "Collecting colorama\n",
            "  Downloading colorama-0.4.5-py2.py3-none-any.whl (16 kB)\n",
            "Requirement already satisfied: requests>=2.2.1 in /usr/local/lib/python3.7/dist-packages (from shodan) (2.23.0)\n",
            "Collecting XlsxWriter\n",
            "  Downloading XlsxWriter-3.0.3-py3-none-any.whl (149 kB)\n",
            "\u001b[K     |████████████████████████████████| 149 kB 9.4 MB/s \n",
            "\u001b[?25hRequirement already satisfied: urllib3!=1.25.0,!=1.25.1,<1.26,>=1.21.1 in /usr/local/lib/python3.7/dist-packages (from requests>=2.2.1->shodan) (1.24.3)\n",
            "Requirement already satisfied: chardet<4,>=3.0.2 in /usr/local/lib/python3.7/dist-packages (from requests>=2.2.1->shodan) (3.0.4)\n",
            "Requirement already satisfied: idna<3,>=2.5 in /usr/local/lib/python3.7/dist-packages (from requests>=2.2.1->shodan) (2.10)\n",
            "Requirement already satisfied: certifi>=2017.4.17 in /usr/local/lib/python3.7/dist-packages (from requests>=2.2.1->shodan) (2022.6.15)\n",
            "Building wheels for collected packages: shodan\n",
            "  Building wheel for shodan (setup.py) ... \u001b[?25l\u001b[?25hdone\n",
            "  Created wheel for shodan: filename=shodan-1.28.0-py3-none-any.whl size=47645 sha256=97043ef31021ffd93d2b9ffe84fa007fa503d61de4cdc4c95af1c7db9f61fb35\n",
            "  Stored in directory: /root/.cache/pip/wheels/04/41/dc/68db9245a7464656c07028a85b1979c3bfef563d07108aad54\n",
            "Successfully built shodan\n",
            "Installing collected packages: XlsxWriter, colorama, click-plugins, shodan\n",
            "Successfully installed XlsxWriter-3.0.3 click-plugins-1.1.1 colorama-0.4.5 shodan-1.28.0\n"
          ]
        }
      ],
      "source": [
        "!pip install shodan"
      ]
    },
    {
      "cell_type": "code",
      "source": [
        "# API Key\tRETuZRq8nBysCUdprTnFssQkvHo88mi9\n",
        "# conectarse a la api\n",
        "# https://shodan.readthedocs.io/en/latest/tutorial.html"
      ],
      "metadata": {
        "id": "Wd6F7-QOBcwu"
      },
      "execution_count": null,
      "outputs": []
    },
    {
      "cell_type": "code",
      "source": [
        "import shodan"
      ],
      "metadata": {
        "id": "N2LRwxO2Bct1"
      },
      "execution_count": 3,
      "outputs": []
    },
    {
      "cell_type": "code",
      "source": [
        "SHODAN_API_KEY = \"RETuZRq8nBysCUdprTnFssQkvHo88mi9\""
      ],
      "metadata": {
        "id": "7PKaIQ7qBcrL"
      },
      "execution_count": 4,
      "outputs": []
    },
    {
      "cell_type": "code",
      "source": [
        "api = shodan.Shodan(SHODAN_API_KEY)"
      ],
      "metadata": {
        "id": "HFh_kJAJBcoW"
      },
      "execution_count": 5,
      "outputs": []
    },
    {
      "cell_type": "code",
      "source": [
        "results = api.search('apache')"
      ],
      "metadata": {
        "id": "DV1tmJfYBGbD"
      },
      "execution_count": 9,
      "outputs": []
    },
    {
      "cell_type": "code",
      "source": [
        "dir(results)"
      ],
      "metadata": {
        "colab": {
          "base_uri": "https://localhost:8080/"
        },
        "id": "pfCO9TgmDE7p",
        "outputId": "43974968-bfe9-4eda-cdb6-bda8e1cc7656"
      },
      "execution_count": 10,
      "outputs": [
        {
          "output_type": "execute_result",
          "data": {
            "text/plain": [
              "['__class__',\n",
              " '__contains__',\n",
              " '__delattr__',\n",
              " '__delitem__',\n",
              " '__dir__',\n",
              " '__doc__',\n",
              " '__eq__',\n",
              " '__format__',\n",
              " '__ge__',\n",
              " '__getattribute__',\n",
              " '__getitem__',\n",
              " '__gt__',\n",
              " '__hash__',\n",
              " '__init__',\n",
              " '__init_subclass__',\n",
              " '__iter__',\n",
              " '__le__',\n",
              " '__len__',\n",
              " '__lt__',\n",
              " '__ne__',\n",
              " '__new__',\n",
              " '__reduce__',\n",
              " '__reduce_ex__',\n",
              " '__repr__',\n",
              " '__setattr__',\n",
              " '__setitem__',\n",
              " '__sizeof__',\n",
              " '__str__',\n",
              " '__subclasshook__',\n",
              " 'clear',\n",
              " 'copy',\n",
              " 'fromkeys',\n",
              " 'get',\n",
              " 'items',\n",
              " 'keys',\n",
              " 'pop',\n",
              " 'popitem',\n",
              " 'setdefault',\n",
              " 'update',\n",
              " 'values']"
            ]
          },
          "metadata": {},
          "execution_count": 10
        }
      ]
    },
    {
      "cell_type": "code",
      "source": [
        "results"
      ],
      "metadata": {
        "id": "67kAu5uZDIl4"
      },
      "execution_count": null,
      "outputs": []
    },
    {
      "cell_type": "code",
      "source": [
        "print('Results found: {}'.format(results['total']))"
      ],
      "metadata": {
        "colab": {
          "base_uri": "https://localhost:8080/"
        },
        "id": "g6tky1_8DLD2",
        "outputId": "dfda3c49-f88d-49c5-a9c3-2bae1aa8b507"
      },
      "execution_count": 12,
      "outputs": [
        {
          "output_type": "stream",
          "name": "stdout",
          "text": [
            "Results found: 18216922\n"
          ]
        }
      ]
    },
    {
      "cell_type": "code",
      "source": [
        "for result in results['matches']:\n",
        "                print('IP: {}'.format(result['ip_str']))"
      ],
      "metadata": {
        "colab": {
          "base_uri": "https://localhost:8080/"
        },
        "id": "ewPRkLKRDjhx",
        "outputId": "e6dc14b4-299d-4776-fdf3-a366882261a4"
      },
      "execution_count": 13,
      "outputs": [
        {
          "output_type": "stream",
          "name": "stdout",
          "text": [
            "IP: 105.28.112.82\n",
            "IP: 203.32.38.100\n",
            "IP: 99.81.243.95\n",
            "IP: 198.246.151.50\n",
            "IP: 51.75.55.180\n",
            "IP: 223.240.213.222\n",
            "IP: 34.245.217.119\n",
            "IP: 164.46.59.9\n",
            "IP: 213.139.64.218\n",
            "IP: 66.97.40.175\n",
            "IP: 206.223.145.127\n",
            "IP: 173.0.188.11\n",
            "IP: 122.1.199.16\n",
            "IP: 47.102.85.105\n",
            "IP: 103.138.44.14\n",
            "IP: 165.22.20.114\n",
            "IP: 209.10.74.92\n",
            "IP: 18.130.134.196\n",
            "IP: 89.116.168.103\n",
            "IP: 23.235.218.142\n",
            "IP: 89.133.155.202\n",
            "IP: 77.237.49.230\n",
            "IP: 156.54.60.197\n",
            "IP: 103.215.139.17\n",
            "IP: 220.150.6.113\n",
            "IP: 193.143.1.43\n",
            "IP: 200.106.174.30\n",
            "IP: 93.190.246.160\n",
            "IP: 205.149.134.33\n",
            "IP: 195.130.93.35\n",
            "IP: 70.40.205.155\n",
            "IP: 82.212.215.2\n",
            "IP: 103.255.100.52\n",
            "IP: 217.149.192.22\n",
            "IP: 188.72.5.105\n",
            "IP: 3.36.38.154\n",
            "IP: 2.195.230.134\n",
            "IP: 65.111.164.120\n",
            "IP: 94.23.50.5\n",
            "IP: 13.244.87.190\n",
            "IP: 116.202.242.123\n",
            "IP: 217.170.205.16\n",
            "IP: 24.37.28.162\n",
            "IP: 59.110.156.200\n",
            "IP: 69.163.160.60\n",
            "IP: 45.83.133.210\n",
            "IP: 77.55.145.126\n",
            "IP: 208.110.71.234\n",
            "IP: 85.13.146.53\n",
            "IP: 85.13.146.248\n",
            "IP: 67.205.57.107\n",
            "IP: 91.226.59.63\n",
            "IP: 199.19.233.114\n",
            "IP: 120.157.62.149\n",
            "IP: 207.90.225.128\n",
            "IP: 77.68.81.221\n",
            "IP: 157.90.26.118\n",
            "IP: 198.23.178.26\n",
            "IP: 185.148.44.164\n",
            "IP: 192.227.173.154\n",
            "IP: 198.246.151.149\n",
            "IP: 103.15.233.72\n",
            "IP: 156.224.90.107\n",
            "IP: 104.196.12.216\n",
            "IP: 186.103.146.146\n",
            "IP: 84.236.153.157\n",
            "IP: 24.37.28.162\n",
            "IP: 130.61.86.7\n",
            "IP: 107.182.129.176\n",
            "IP: 178.63.6.45\n",
            "IP: 220.150.6.174\n",
            "IP: 74.208.19.196\n",
            "IP: 51.79.193.194\n",
            "IP: 91.208.104.142\n",
            "IP: 194.56.72.249\n",
            "IP: 221.213.69.30\n",
            "IP: 92.255.88.59\n",
            "IP: 194.56.153.189\n",
            "IP: 108.167.174.51\n",
            "IP: 104.250.156.42\n",
            "IP: 115.159.28.31\n",
            "IP: 18.198.139.217\n",
            "IP: 54.152.4.174\n",
            "IP: 185.61.154.168\n",
            "IP: 185.20.51.12\n",
            "IP: 153.126.181.74\n",
            "IP: 209.14.130.122\n",
            "IP: 182.161.12.148\n",
            "IP: 54.191.148.27\n",
            "IP: 66.175.234.201\n",
            "IP: 177.54.22.11\n",
            "IP: 46.45.145.99\n",
            "IP: 13.214.165.196\n",
            "IP: 66.175.84.86\n",
            "IP: 188.165.213.11\n",
            "IP: 176.52.243.148\n",
            "IP: 213.248.62.17\n",
            "IP: 124.222.105.71\n",
            "IP: 147.135.60.55\n",
            "IP: 45.147.166.47\n"
          ]
        }
      ]
    },
    {
      "cell_type": "code",
      "source": [
        "for result in results['matches']: # https://developer.shodan.io/api   result.keys()\n",
        "    print(result['location'])"
      ],
      "metadata": {
        "colab": {
          "base_uri": "https://localhost:8080/"
        },
        "id": "p7pEmPSqDnby",
        "outputId": "33fbefbf-c94c-4026-e83f-c76c49e6d950"
      },
      "execution_count": 20,
      "outputs": [
        {
          "output_type": "stream",
          "name": "stdout",
          "text": [
            "{'city': 'Cape Town', 'region_code': 'WC', 'area_code': None, 'longitude': 18.42322, 'latitude': -33.92584, 'country_code': 'ZA', 'country_name': 'South Africa'}\n",
            "{'city': 'Santa Teresa', 'region_code': 'NT', 'area_code': None, 'longitude': 134.3733, 'latitude': -24.1307, 'country_code': 'AU', 'country_name': 'Australia'}\n",
            "{'city': 'Dublin', 'region_code': 'L', 'area_code': None, 'longitude': -6.24889, 'latitude': 53.33306, 'country_code': 'IE', 'country_name': 'Ireland'}\n",
            "{'city': 'Minneapolis', 'region_code': 'MN', 'area_code': None, 'longitude': -93.26384, 'latitude': 44.97997, 'country_code': 'US', 'country_name': 'United States'}\n",
            "{'city': 'Warsaw', 'region_code': '14', 'area_code': None, 'longitude': 21.0522, 'latitude': 52.2284, 'country_code': 'PL', 'country_name': 'Poland'}\n",
            "{'city': 'Hefei', 'region_code': 'AH', 'area_code': None, 'longitude': 117.28083, 'latitude': 31.86389, 'country_code': 'CN', 'country_name': 'China'}\n",
            "{'city': 'Dublin', 'region_code': 'L', 'area_code': None, 'longitude': -6.24889, 'latitude': 53.33306, 'country_code': 'IE', 'country_name': 'Ireland'}\n",
            "{'city': 'Tokyo', 'region_code': '13', 'area_code': None, 'longitude': 139.69171, 'latitude': 35.6895, 'country_code': 'JP', 'country_name': 'Japan'}\n",
            "{'city': 'Paris', 'region_code': 'IDF', 'area_code': None, 'longitude': 2.34975, 'latitude': 48.85675, 'country_code': 'FR', 'country_name': 'France'}\n",
            "{'city': 'Santa Fe', 'region_code': 'S', 'area_code': None, 'longitude': -60.70868, 'latitude': -31.64881, 'country_code': 'AR', 'country_name': 'Argentina'}\n",
            "{'city': 'San Jose', 'region_code': 'CA', 'area_code': None, 'longitude': -121.89496, 'latitude': 37.33939, 'country_code': 'US', 'country_name': 'United States'}\n",
            "{'city': 'New York City', 'region_code': 'NY', 'area_code': None, 'longitude': -74.00597, 'latitude': 40.71427, 'country_code': 'US', 'country_name': 'United States'}\n",
            "{'city': 'Takamatsu', 'region_code': '37', 'area_code': None, 'longitude': 134.05, 'latitude': 34.33333, 'country_code': 'JP', 'country_name': 'Japan'}\n",
            "{'city': 'Shanghai', 'region_code': 'SH', 'area_code': None, 'longitude': 121.45806, 'latitude': 31.22222, 'country_code': 'CN', 'country_name': 'China'}\n",
            "{'city': 'Hyderābād', 'region_code': 'TG', 'area_code': None, 'longitude': 78.37073, 'latitude': 17.41555, 'country_code': 'IN', 'country_name': 'India'}\n",
            "{'city': 'Frankfurt am Main', 'region_code': 'HE', 'area_code': None, 'longitude': 8.6299, 'latitude': 50.1025, 'country_code': 'DE', 'country_name': 'Germany'}\n",
            "{'city': 'Richmond', 'region_code': 'VA', 'area_code': None, 'longitude': -77.46026, 'latitude': 37.55376, 'country_code': 'US', 'country_name': 'United States'}\n",
            "{'city': 'London', 'region_code': 'ENG', 'area_code': None, 'longitude': -0.12574, 'latitude': 51.50853, 'country_code': 'GB', 'country_name': 'United Kingdom'}\n",
            "{'city': 'Düsseldorf', 'region_code': 'NW', 'area_code': None, 'longitude': 6.77616, 'latitude': 51.22172, 'country_code': 'DE', 'country_name': 'Germany'}\n",
            "{'city': 'Los Angeles', 'region_code': 'CA', 'area_code': None, 'longitude': -118.24368, 'latitude': 34.05223, 'country_code': 'US', 'country_name': 'United States'}\n",
            "{'city': 'Budapest', 'region_code': 'BU', 'area_code': None, 'longitude': 19.04045, 'latitude': 47.49835, 'country_code': 'HU', 'country_name': 'Hungary'}\n",
            "{'city': 'Vienna', 'region_code': '9', 'area_code': None, 'longitude': 16.37208, 'latitude': 48.20849, 'country_code': 'AT', 'country_name': 'Austria'}\n",
            "{'city': 'Milan', 'region_code': '25', 'area_code': None, 'longitude': 9.18951, 'latitude': 45.46427, 'country_code': 'IT', 'country_name': 'Italy'}\n",
            "{'city': 'Kuala Lumpur', 'region_code': '14', 'area_code': None, 'longitude': 101.68653, 'latitude': 3.1412, 'country_code': 'MY', 'country_name': 'Malaysia'}\n",
            "{'city': 'Tokyo', 'region_code': '13', 'area_code': None, 'longitude': 139.69171, 'latitude': 35.6895, 'country_code': 'JP', 'country_name': 'Japan'}\n",
            "{'city': 'Moscow', 'region_code': 'MOW', 'area_code': None, 'longitude': 37.6156, 'latitude': 55.7522, 'country_code': 'RU', 'country_name': 'Russian Federation'}\n",
            "{'city': 'Benito Juarez', 'region_code': 'CMX', 'area_code': None, 'longitude': -99.1743, 'latitude': 19.3831, 'country_code': 'MX', 'country_name': 'Mexico'}\n",
            "{'city': 'Hyattsville', 'region_code': 'MD', 'area_code': None, 'longitude': -76.94553, 'latitude': 38.95594, 'country_code': 'US', 'country_name': 'United States'}\n",
            "{'city': 'Tampa', 'region_code': 'FL', 'area_code': None, 'longitude': -82.45843, 'latitude': 27.94752, 'country_code': 'US', 'country_name': 'United States'}\n",
            "{'city': 'Kavála', 'region_code': 'A', 'area_code': None, 'longitude': 24.40687, 'latitude': 40.93959, 'country_code': 'GR', 'country_name': 'Greece'}\n",
            "{'city': 'Mesa', 'region_code': 'AZ', 'area_code': None, 'longitude': -111.82264, 'latitude': 33.42227, 'country_code': 'US', 'country_name': 'United States'}\n",
            "{'city': 'Frankfurt am Main', 'region_code': 'HE', 'area_code': None, 'longitude': 8.68417, 'latitude': 50.11552, 'country_code': 'DE', 'country_name': 'Germany'}\n",
            "{'city': 'Jaipur', 'region_code': 'RJ', 'area_code': None, 'longitude': 75.69868, 'latitude': 26.8218, 'country_code': 'IN', 'country_name': 'India'}\n",
            "{'city': 'Nijmegen', 'region_code': 'GE', 'area_code': None, 'longitude': 5.85278, 'latitude': 51.8425, 'country_code': 'NL', 'country_name': 'Netherlands'}\n",
            "{'city': 'As Sulaymānīyah', 'region_code': 'SU', 'area_code': None, 'longitude': 45.4329, 'latitude': 35.56496, 'country_code': 'IQ', 'country_name': 'Iraq'}\n",
            "{'city': 'Seoul', 'region_code': '11', 'area_code': None, 'longitude': 126.9784, 'latitude': 37.566, 'country_code': 'KR', 'country_name': 'Korea, Republic of'}\n",
            "{'city': 'Pesaro', 'region_code': '57', 'area_code': None, 'longitude': 12.9164, 'latitude': 43.90921, 'country_code': 'IT', 'country_name': 'Italy'}\n",
            "{'city': 'Miami', 'region_code': 'FL', 'area_code': None, 'longitude': -80.19366, 'latitude': 25.77427, 'country_code': 'US', 'country_name': 'United States'}\n",
            "{'city': 'Roubaix', 'region_code': 'HDF', 'area_code': None, 'longitude': 3.17456, 'latitude': 50.69421, 'country_code': 'FR', 'country_name': 'France'}\n",
            "{'city': 'Cape Town', 'region_code': 'WC', 'area_code': None, 'longitude': 18.42322, 'latitude': -33.92584, 'country_code': 'ZA', 'country_name': 'South Africa'}\n",
            "{'city': 'Hamburg', 'region_code': 'HH', 'area_code': None, 'longitude': 9.99302, 'latitude': 53.55073, 'country_code': 'DE', 'country_name': 'Germany'}\n",
            "{'city': 'Sandsli', 'region_code': '46', 'area_code': None, 'longitude': 5.28554, 'latitude': 60.30323, 'country_code': 'NO', 'country_name': 'Norway'}\n",
            "{'city': 'Saguenay', 'region_code': 'QC', 'area_code': None, 'longitude': -71.1774, 'latitude': 48.4294, 'country_code': 'CA', 'country_name': 'Canada'}\n",
            "{'city': 'Beijing', 'region_code': 'BJ', 'area_code': None, 'longitude': 116.39723, 'latitude': 39.9075, 'country_code': 'CN', 'country_name': 'China'}\n",
            "{'city': 'Portland', 'region_code': 'OR', 'area_code': None, 'longitude': -122.67621, 'latitude': 45.52345, 'country_code': 'US', 'country_name': 'United States'}\n",
            "{'city': 'Mokrá Hora', 'region_code': '64', 'area_code': None, 'longitude': 16.59107, 'latitude': 49.26176, 'country_code': 'CZ', 'country_name': 'Czechia'}\n",
            "{'city': 'Kraków', 'region_code': '12', 'area_code': None, 'longitude': 19.9743, 'latitude': 50.0466, 'country_code': 'PL', 'country_name': 'Poland'}\n",
            "{'city': 'Kansas City', 'region_code': 'MO', 'area_code': None, 'longitude': -94.5786, 'latitude': 39.0997, 'country_code': 'US', 'country_name': 'United States'}\n",
            "{'city': 'Neusalza-Spremberg', 'region_code': 'SN', 'area_code': None, 'longitude': 14.5356, 'latitude': 51.03945, 'country_code': 'DE', 'country_name': 'Germany'}\n",
            "{'city': 'Neusalza-Spremberg', 'region_code': 'SN', 'area_code': None, 'longitude': 14.5356, 'latitude': 51.03945, 'country_code': 'DE', 'country_name': 'Germany'}\n",
            "{'city': 'Washington', 'region_code': 'DC', 'area_code': None, 'longitude': -77.03637, 'latitude': 38.89511, 'country_code': 'US', 'country_name': 'United States'}\n",
            "{'city': 'Milford', 'region_code': 'NH', 'area_code': None, 'longitude': -71.64896, 'latitude': 42.83536, 'country_code': 'US', 'country_name': 'United States'}\n",
            "{'city': 'Monroe', 'region_code': 'LA', 'area_code': None, 'longitude': -92.1061, 'latitude': 32.5286, 'country_code': 'US', 'country_name': 'United States'}\n",
            "{'city': 'Ruffy', 'region_code': 'VIC', 'area_code': None, 'longitude': 145.5, 'latitude': -36.98333, 'country_code': 'AU', 'country_name': 'Australia'}\n",
            "{'city': 'Ashburn', 'region_code': 'VA', 'area_code': None, 'longitude': -77.4875, 'latitude': 39.0437, 'country_code': 'US', 'country_name': 'United States'}\n",
            "{'city': 'London', 'region_code': 'ENG', 'area_code': None, 'longitude': -0.12574, 'latitude': 51.50853, 'country_code': 'GB', 'country_name': 'United Kingdom'}\n",
            "{'city': 'Hirschau', 'region_code': 'BY', 'area_code': None, 'longitude': 11.94617, 'latitude': 49.54396, 'country_code': 'DE', 'country_name': 'Germany'}\n",
            "{'city': 'Buffalo', 'region_code': 'NY', 'area_code': None, 'longitude': -78.87837, 'latitude': 42.88645, 'country_code': 'US', 'country_name': 'United States'}\n",
            "{'city': 'Phoenix', 'region_code': 'AZ', 'area_code': None, 'longitude': -112.07404, 'latitude': 33.44838, 'country_code': 'US', 'country_name': 'United States'}\n",
            "{'city': 'Buffalo', 'region_code': 'NY', 'area_code': None, 'longitude': -78.87837, 'latitude': 42.88645, 'country_code': 'US', 'country_name': 'United States'}\n",
            "{'city': 'Minneapolis', 'region_code': 'MN', 'area_code': None, 'longitude': -93.26384, 'latitude': 44.97997, 'country_code': 'US', 'country_name': 'United States'}\n",
            "{'city': 'Singapore', 'region_code': '01', 'area_code': None, 'longitude': 103.85007, 'latitude': 1.28967, 'country_code': 'SG', 'country_name': 'Singapore'}\n",
            "{'city': 'Hong Kong', 'region_code': '', 'area_code': None, 'longitude': 114.17469, 'latitude': 22.27832, 'country_code': 'HK', 'country_name': 'Hong Kong'}\n",
            "{'city': 'North Charleston', 'region_code': 'SC', 'area_code': None, 'longitude': -79.97481, 'latitude': 32.85462, 'country_code': 'US', 'country_name': 'United States'}\n",
            "{'city': 'Santiago', 'region_code': 'RM', 'area_code': None, 'longitude': -70.64827, 'latitude': -33.45694, 'country_code': 'CL', 'country_name': 'Chile'}\n",
            "{'city': 'Madrid', 'region_code': 'MD', 'area_code': None, 'longitude': -3.70256, 'latitude': 40.4165, 'country_code': 'ES', 'country_name': 'Spain'}\n",
            "{'city': 'Saguenay', 'region_code': 'QC', 'area_code': None, 'longitude': -71.1774, 'latitude': 48.4294, 'country_code': 'CA', 'country_name': 'Canada'}\n",
            "{'city': 'Frankfurt am Main', 'region_code': 'HE', 'area_code': None, 'longitude': 8.6299, 'latitude': 50.1025, 'country_code': 'DE', 'country_name': 'Germany'}\n",
            "{'city': 'Amsterdam', 'region_code': 'NH', 'area_code': None, 'longitude': 4.88969, 'latitude': 52.37403, 'country_code': 'NL', 'country_name': 'Netherlands'}\n",
            "{'city': 'Kalkar', 'region_code': 'NW', 'area_code': None, 'longitude': 6.29101, 'latitude': 51.73907, 'country_code': 'DE', 'country_name': 'Germany'}\n",
            "{'city': 'Tokyo', 'region_code': '13', 'area_code': None, 'longitude': 139.69171, 'latitude': 35.6895, 'country_code': 'JP', 'country_name': 'Japan'}\n",
            "{'city': 'Kansas City', 'region_code': 'MO', 'area_code': None, 'longitude': -94.57857, 'latitude': 39.09973, 'country_code': 'US', 'country_name': 'United States'}\n",
            "{'city': 'Singapore', 'region_code': '01', 'area_code': None, 'longitude': 103.85007, 'latitude': 1.28967, 'country_code': 'SG', 'country_name': 'Singapore'}\n",
            "{'city': 'Düsseldorf', 'region_code': 'NW', 'area_code': None, 'longitude': 6.77616, 'latitude': 51.22172, 'country_code': 'DE', 'country_name': 'Germany'}\n",
            "{'city': 'Zagreb', 'region_code': '21', 'area_code': None, 'longitude': 15.97798, 'latitude': 45.81444, 'country_code': 'HR', 'country_name': 'Croatia'}\n",
            "{'city': 'Kunming', 'region_code': 'YN', 'area_code': None, 'longitude': 102.71833, 'latitude': 25.03889, 'country_code': 'CN', 'country_name': 'China'}\n",
            "{'city': 'Saint Petersburg', 'region_code': 'SPE', 'area_code': None, 'longitude': 30.31413, 'latitude': 59.93863, 'country_code': 'RU', 'country_name': 'Russian Federation'}\n",
            "{'city': 'Washington', 'region_code': 'DC', 'area_code': None, 'longitude': -77.0364, 'latitude': 38.8951, 'country_code': 'US', 'country_name': 'United States'}\n",
            "{'city': 'Independence', 'region_code': 'KS', 'area_code': None, 'longitude': -95.70831, 'latitude': 37.22424, 'country_code': 'US', 'country_name': 'United States'}\n",
            "{'city': 'Salt Lake City', 'region_code': 'UT', 'area_code': None, 'longitude': -111.89105, 'latitude': 40.76078, 'country_code': 'US', 'country_name': 'United States'}\n",
            "{'city': 'Shenzhen', 'region_code': 'GD', 'area_code': None, 'longitude': 114.0683, 'latitude': 22.54554, 'country_code': 'CN', 'country_name': 'China'}\n",
            "{'city': 'Frankfurt am Main', 'region_code': 'HE', 'area_code': None, 'longitude': 8.6299, 'latitude': 50.1025, 'country_code': 'DE', 'country_name': 'Germany'}\n",
            "{'city': 'Ashburn', 'region_code': 'VA', 'area_code': None, 'longitude': -77.48749, 'latitude': 39.04372, 'country_code': 'US', 'country_name': 'United States'}\n",
            "{'city': 'Hove', 'region_code': 'ENG', 'area_code': None, 'longitude': -0.1672, 'latitude': 50.83088, 'country_code': 'GB', 'country_name': 'United Kingdom'}\n",
            "{'city': 'Leeds', 'region_code': 'ENG', 'area_code': None, 'longitude': -1.54785, 'latitude': 53.79648, 'country_code': 'GB', 'country_name': 'United Kingdom'}\n",
            "{'city': 'Kobe', 'region_code': '28', 'area_code': None, 'longitude': 135.183, 'latitude': 34.6913, 'country_code': 'JP', 'country_name': 'Japan'}\n",
            "{'city': 'Nova Iguaçu', 'region_code': 'RJ', 'area_code': None, 'longitude': -43.45111, 'latitude': -22.75917, 'country_code': 'BR', 'country_name': 'Brazil'}\n",
            "{'city': 'Colombo', 'region_code': '1', 'area_code': None, 'longitude': 79.84868, 'latitude': 6.93548, 'country_code': 'LK', 'country_name': 'Sri Lanka'}\n",
            "{'city': 'Boardman', 'region_code': 'OR', 'area_code': None, 'longitude': -119.70058, 'latitude': 45.83986, 'country_code': 'US', 'country_name': 'United States'}\n",
            "{'city': 'Philadelphia', 'region_code': 'PA', 'area_code': None, 'longitude': -75.1741, 'latitude': 39.9513, 'country_code': 'US', 'country_name': 'United States'}\n",
            "{'city': 'Duque de Caxias', 'region_code': 'RJ', 'area_code': None, 'longitude': -43.31167, 'latitude': -22.78556, 'country_code': 'BR', 'country_name': 'Brazil'}\n",
            "{'city': 'Istanbul', 'region_code': '34', 'area_code': None, 'longitude': 28.94966, 'latitude': 41.01384, 'country_code': 'TR', 'country_name': 'Turkey'}\n",
            "{'city': 'Singapore', 'region_code': '01', 'area_code': None, 'longitude': 103.85007, 'latitude': 1.28967, 'country_code': 'SG', 'country_name': 'Singapore'}\n",
            "{'city': 'Honolulu', 'region_code': 'HI', 'area_code': None, 'longitude': -157.8521, 'latitude': 21.3179, 'country_code': 'US', 'country_name': 'United States'}\n",
            "{'city': 'Roubaix', 'region_code': 'HDF', 'area_code': None, 'longitude': 3.17456, 'latitude': 50.69421, 'country_code': 'FR', 'country_name': 'France'}\n",
            "{'city': 'Espelkamp', 'region_code': 'NW', 'area_code': None, 'longitude': 8.62127, 'latitude': 52.38251, 'country_code': 'DE', 'country_name': 'Germany'}\n",
            "{'city': 'Moscow', 'region_code': 'MOW', 'area_code': None, 'longitude': 37.61556, 'latitude': 55.75222, 'country_code': 'RU', 'country_name': 'Russian Federation'}\n",
            "{'city': 'Shanghai', 'region_code': 'SH', 'area_code': None, 'longitude': 121.45806, 'latitude': 31.22222, 'country_code': 'CN', 'country_name': 'China'}\n",
            "{'city': 'Portland', 'region_code': 'OR', 'area_code': None, 'longitude': -122.67621, 'latitude': 45.52345, 'country_code': 'US', 'country_name': 'United States'}\n",
            "{'city': 'Vyškov', 'region_code': '64', 'area_code': None, 'longitude': 16.99897, 'latitude': 49.27747, 'country_code': 'CZ', 'country_name': 'Czechia'}\n"
          ]
        }
      ]
    },
    {
      "cell_type": "code",
      "source": [
        "result.keys()"
      ],
      "metadata": {
        "colab": {
          "base_uri": "https://localhost:8080/"
        },
        "id": "no_Rq0N9Dzuh",
        "outputId": "103a48ec-f305-4ffa-db67-6e27e5aca8c3"
      },
      "execution_count": 17,
      "outputs": [
        {
          "output_type": "execute_result",
          "data": {
            "text/plain": [
              "dict_keys(['hash', '_shodan', 'product', 'http', 'os', 'timestamp', 'isp', 'cpe23', 'cpe', 'transport', 'asn', 'hostnames', 'location', 'ip', 'domains', 'org', 'data', 'port', 'ip_str'])"
            ]
          },
          "metadata": {},
          "execution_count": 17
        }
      ]
    },
    {
      "cell_type": "markdown",
      "source": [
        "a esta altura ya no se lo que estoy haciendo!!"
      ],
      "metadata": {
        "id": "H9fhQYcxEsXy"
      }
    },
    {
      "cell_type": "code",
      "source": [
        "def retmatch(s):\n",
        "    for result in results['matches']:\n",
        "        print(result[s])"
      ],
      "metadata": {
        "id": "cZ4kOu_-EIc6"
      },
      "execution_count": 22,
      "outputs": []
    },
    {
      "cell_type": "code",
      "source": [
        "result.keys()"
      ],
      "metadata": {
        "colab": {
          "base_uri": "https://localhost:8080/"
        },
        "id": "y7WcMgcKFdNs",
        "outputId": "f3816d2b-6770-4583-a2ea-f881cf2cced6"
      },
      "execution_count": 24,
      "outputs": [
        {
          "output_type": "execute_result",
          "data": {
            "text/plain": [
              "dict_keys(['hash', '_shodan', 'product', 'http', 'os', 'timestamp', 'isp', 'cpe23', 'cpe', 'transport', 'asn', 'hostnames', 'location', 'ip', 'domains', 'org', 'data', 'port', 'ip_str'])"
            ]
          },
          "metadata": {},
          "execution_count": 24
        }
      ]
    },
    {
      "cell_type": "code",
      "source": [
        "retmatch(\"ip_str\")"
      ],
      "metadata": {
        "colab": {
          "base_uri": "https://localhost:8080/"
        },
        "id": "OFU2JoHIFFXV",
        "outputId": "9283c657-5a5a-4d69-bafd-dbd977ba24f5"
      },
      "execution_count": 35,
      "outputs": [
        {
          "output_type": "stream",
          "name": "stdout",
          "text": [
            "105.28.112.82\n",
            "203.32.38.100\n",
            "99.81.243.95\n",
            "198.246.151.50\n",
            "51.75.55.180\n",
            "223.240.213.222\n",
            "34.245.217.119\n",
            "164.46.59.9\n",
            "213.139.64.218\n",
            "66.97.40.175\n",
            "206.223.145.127\n",
            "173.0.188.11\n",
            "122.1.199.16\n",
            "47.102.85.105\n",
            "103.138.44.14\n",
            "165.22.20.114\n",
            "209.10.74.92\n",
            "18.130.134.196\n",
            "89.116.168.103\n",
            "23.235.218.142\n",
            "89.133.155.202\n",
            "77.237.49.230\n",
            "156.54.60.197\n",
            "103.215.139.17\n",
            "220.150.6.113\n",
            "193.143.1.43\n",
            "200.106.174.30\n",
            "93.190.246.160\n",
            "205.149.134.33\n",
            "195.130.93.35\n",
            "70.40.205.155\n",
            "82.212.215.2\n",
            "103.255.100.52\n",
            "217.149.192.22\n",
            "188.72.5.105\n",
            "3.36.38.154\n",
            "2.195.230.134\n",
            "65.111.164.120\n",
            "94.23.50.5\n",
            "13.244.87.190\n",
            "116.202.242.123\n",
            "217.170.205.16\n",
            "24.37.28.162\n",
            "59.110.156.200\n",
            "69.163.160.60\n",
            "45.83.133.210\n",
            "77.55.145.126\n",
            "208.110.71.234\n",
            "85.13.146.53\n",
            "85.13.146.248\n",
            "67.205.57.107\n",
            "91.226.59.63\n",
            "199.19.233.114\n",
            "120.157.62.149\n",
            "207.90.225.128\n",
            "77.68.81.221\n",
            "157.90.26.118\n",
            "198.23.178.26\n",
            "185.148.44.164\n",
            "192.227.173.154\n",
            "198.246.151.149\n",
            "103.15.233.72\n",
            "156.224.90.107\n",
            "104.196.12.216\n",
            "186.103.146.146\n",
            "84.236.153.157\n",
            "24.37.28.162\n",
            "130.61.86.7\n",
            "107.182.129.176\n",
            "178.63.6.45\n",
            "220.150.6.174\n",
            "74.208.19.196\n",
            "51.79.193.194\n",
            "91.208.104.142\n",
            "194.56.72.249\n",
            "221.213.69.30\n",
            "92.255.88.59\n",
            "194.56.153.189\n",
            "108.167.174.51\n",
            "104.250.156.42\n",
            "115.159.28.31\n",
            "18.198.139.217\n",
            "54.152.4.174\n",
            "185.61.154.168\n",
            "185.20.51.12\n",
            "153.126.181.74\n",
            "209.14.130.122\n",
            "182.161.12.148\n",
            "54.191.148.27\n",
            "66.175.234.201\n",
            "177.54.22.11\n",
            "46.45.145.99\n",
            "13.214.165.196\n",
            "66.175.84.86\n",
            "188.165.213.11\n",
            "176.52.243.148\n",
            "213.248.62.17\n",
            "124.222.105.71\n",
            "147.135.60.55\n",
            "45.147.166.47\n"
          ]
        }
      ]
    },
    {
      "cell_type": "code",
      "source": [
        "host = api.host(\"176.52.243.148\") # ver lo q tiene una ip especifica"
      ],
      "metadata": {
        "id": "qFQwDBKEFbTk"
      },
      "execution_count": 37,
      "outputs": []
    },
    {
      "cell_type": "code",
      "source": [
        "type(host)"
      ],
      "metadata": {
        "colab": {
          "base_uri": "https://localhost:8080/"
        },
        "id": "D2Yv1J6tGByX",
        "outputId": "8777a891-45ba-4ff2-b1e9-8aeaa45ca955"
      },
      "execution_count": 38,
      "outputs": [
        {
          "output_type": "execute_result",
          "data": {
            "text/plain": [
              "dict"
            ]
          },
          "metadata": {},
          "execution_count": 38
        }
      ]
    },
    {
      "cell_type": "code",
      "source": [
        "host.keys()"
      ],
      "metadata": {
        "colab": {
          "base_uri": "https://localhost:8080/"
        },
        "id": "or6tivfNGlG4",
        "outputId": "5f1612b1-7b37-4e1b-c640-dfb27ece619c"
      },
      "execution_count": 40,
      "outputs": [
        {
          "output_type": "execute_result",
          "data": {
            "text/plain": [
              "dict_keys(['region_code', 'tags', 'ip', 'area_code', 'domains', 'hostnames', 'country_code', 'org', 'data', 'asn', 'city', 'latitude', 'isp', 'longitude', 'last_update', 'country_name', 'ip_str', 'os', 'ports'])"
            ]
          },
          "metadata": {},
          "execution_count": 40
        }
      ]
    },
    {
      "cell_type": "code",
      "source": [
        "print(\"\"\"\n",
        "        IP: {}\n",
        "        Organization: {}\n",
        "        Operating System: {}\n",
        "\"\"\".format(host['ip_str'], host.get('org', 'n/a'), host.get('os', 'n/a')))"
      ],
      "metadata": {
        "colab": {
          "base_uri": "https://localhost:8080/"
        },
        "id": "CGdXWShhGnCn",
        "outputId": "8cce5552-b20e-4a1c-9e2e-5c7d81200306"
      },
      "execution_count": 41,
      "outputs": [
        {
          "output_type": "stream",
          "name": "stdout",
          "text": [
            "\n",
            "        IP: 176.52.243.148\n",
            "        Organization: Mittwald CM Service GmbH und Co.KG\n",
            "        Operating System: None\n",
            "\n"
          ]
        }
      ]
    },
    {
      "cell_type": "code",
      "source": [
        "# Print all banners\n",
        "for item in host['data']:\n",
        "        print(\"\"\"\n",
        "                Port: {}\n",
        "                Banner: {}\n",
        "\n",
        "        \"\"\".format(item['port'], item['data']))"
      ],
      "metadata": {
        "colab": {
          "base_uri": "https://localhost:8080/"
        },
        "id": "CYUN8B8uGxwZ",
        "outputId": "1116f746-fed8-4a19-9c55-85f50c601c68"
      },
      "execution_count": 42,
      "outputs": [
        {
          "output_type": "stream",
          "name": "stdout",
          "text": [
            "\n",
            "                Port: 22\n",
            "                Banner: SSH-2.0-OpenSSH_8.9\n",
            "Key type: ssh-rsa\n",
            "Key: AAAAB3NzaC1yc2EAAAABIwAAAQEAlxe0IL/kah6Niulw1IVzxaLySJ9pjzzAR7/MUkpUZLAgE/dK\n",
            "3ct1Q1ZHErqpluHJi4eZiOD15tAsu4qVBIlAAhzRetUOjYyqFDpCGPfATrBKNu5mXV9H0gbRATgn\n",
            "57y3jODZi/8Fhg8ElpVvK3xZCTxXm2PzfjuEa9RpnNhN033P6sjfAJ5mUfMJZmPjj/ed9Mf6PlNR\n",
            "+Kx1MSw0NsVN5n8kffKao6x9ZbfKne8hoKn8eaJ1qzgXE2AiMYN0xvsBY4ANE92ZLA0n8Sy9xg8j\n",
            "/e12yGdibyy+UFgxXZkWjn5fz3mfJUwBgMJZQAwR5a2EOEyzlyNyP/TBd6wATqL/UQ==\n",
            "Fingerprint: 6d:77:d0:f4:0c:34:b3:85:cb:2e:a8:47:80:39:46:f0\n",
            "\n",
            "Kex Algorithms:\n",
            "\tcurve25519-sha256\n",
            "\tcurve25519-sha256@libssh.org\n",
            "\tecdh-sha2-nistp256\n",
            "\tecdh-sha2-nistp384\n",
            "\tecdh-sha2-nistp521\n",
            "\tsntrup761x25519-sha512@openssh.com\n",
            "\tdiffie-hellman-group-exchange-sha256\n",
            "\tdiffie-hellman-group16-sha512\n",
            "\tdiffie-hellman-group18-sha512\n",
            "\tdiffie-hellman-group14-sha256\n",
            "\n",
            "Server Host Key Algorithms:\n",
            "\trsa-sha2-512\n",
            "\trsa-sha2-256\n",
            "\tssh-rsa\n",
            "\tssh-ed25519\n",
            "\n",
            "Encryption Algorithms:\n",
            "\tchacha20-poly1305@openssh.com\n",
            "\taes128-ctr\n",
            "\taes192-ctr\n",
            "\taes256-ctr\n",
            "\taes128-gcm@openssh.com\n",
            "\taes256-gcm@openssh.com\n",
            "\n",
            "MAC Algorithms:\n",
            "\tumac-64-etm@openssh.com\n",
            "\tumac-128-etm@openssh.com\n",
            "\thmac-sha2-256-etm@openssh.com\n",
            "\thmac-sha2-512-etm@openssh.com\n",
            "\thmac-sha1-etm@openssh.com\n",
            "\tumac-64@openssh.com\n",
            "\tumac-128@openssh.com\n",
            "\thmac-sha2-256\n",
            "\thmac-sha2-512\n",
            "\thmac-sha1\n",
            "\n",
            "Compression Algorithms:\n",
            "\tnone\n",
            "\tzlib@openssh.com\n",
            "\n",
            "\n",
            "\n",
            "        \n",
            "\n",
            "                Port: 80\n",
            "                Banner: HTTP/1.1 200 OK\r\n",
            "Date: Mon, 29 Aug 2022 03:46:38 GMT\r\n",
            "Server: Apache\r\n",
            "Accept-Ranges: bytes\r\n",
            "Transfer-Encoding: chunked\r\n",
            "\r\n",
            "\n",
            "\n",
            "        \n",
            "\n",
            "                Port: 443\n",
            "                Banner: HTTP/1.1 301 Moved Permanently\r\n",
            "Date: Mon, 29 Aug 2022 03:45:29 GMT\r\n",
            "Server: Apache\r\n",
            "Location: http://176.52.243.148/mittwald_system_pages/403_error.shtml\r\n",
            "Content-Length: 267\r\n",
            "Content-Type: text/html; charset=iso-8859-1\r\n",
            "\r\n",
            "\n",
            "\n",
            "        \n"
          ]
        }
      ]
    },
    {
      "cell_type": "code",
      "source": [],
      "metadata": {
        "id": "yYXRdHk3G3q4"
      },
      "execution_count": null,
      "outputs": []
    }
  ]
}
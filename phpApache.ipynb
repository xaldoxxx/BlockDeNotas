{
  "nbformat": 4,
  "nbformat_minor": 0,
  "metadata": {
    "colab": {
      "name": "phpApache.ipynb",
      "provenance": [],
      "authorship_tag": "ABX9TyOsogI/PX+92QBSYBiPWcY+",
      "include_colab_link": true
    },
    "kernelspec": {
      "name": "python3",
      "display_name": "Python 3"
    },
    "language_info": {
      "name": "python"
    }
  },
  "cells": [
    {
      "cell_type": "markdown",
      "metadata": {
        "id": "view-in-github",
        "colab_type": "text"
      },
      "source": [
        "<a href=\"https://colab.research.google.com/github/xaldoxxx/BlockDeNotas/blob/main/phpApache.ipynb\" target=\"_parent\"><img src=\"https://colab.research.google.com/assets/colab-badge.svg\" alt=\"Open In Colab\"/></a>"
      ]
    },
    {
      "cell_type": "code",
      "execution_count": 5,
      "metadata": {
        "colab": {
          "base_uri": "https://localhost:8080/"
        },
        "id": "CqaMYBGj8pyd",
        "outputId": "8767edda-2479-410f-f245-712932aa2db9"
      },
      "outputs": [
        {
          "output_type": "stream",
          "name": "stdout",
          "text": [
            "Hit:1 https://cloud.r-project.org/bin/linux/ubuntu bionic-cran40/ InRelease\n",
            "Ign:2 https://developer.download.nvidia.com/compute/cuda/repos/ubuntu1804/x86_64  InRelease\n",
            "Hit:3 http://security.ubuntu.com/ubuntu bionic-security InRelease\n",
            "Ign:4 https://developer.download.nvidia.com/compute/machine-learning/repos/ubuntu1804/x86_64  InRelease\n",
            "Hit:5 https://developer.download.nvidia.com/compute/cuda/repos/ubuntu1804/x86_64  Release\n",
            "Hit:6 http://ppa.launchpad.net/c2d4u.team/c2d4u4.0+/ubuntu bionic InRelease\n",
            "Hit:7 https://developer.download.nvidia.com/compute/machine-learning/repos/ubuntu1804/x86_64  Release\n",
            "Hit:9 http://archive.ubuntu.com/ubuntu bionic InRelease\n",
            "Hit:11 http://ppa.launchpad.net/cran/libgit2/ubuntu bionic InRelease\n",
            "Hit:12 http://archive.ubuntu.com/ubuntu bionic-updates InRelease\n",
            "Hit:13 http://archive.ubuntu.com/ubuntu bionic-backports InRelease\n",
            "Hit:14 http://ppa.launchpad.net/deadsnakes/ppa/ubuntu bionic InRelease\n",
            "Hit:15 http://ppa.launchpad.net/graphics-drivers/ppa/ubuntu bionic InRelease\n",
            "Reading package lists... Done\n",
            "Reading package lists... Done\n",
            "Building dependency tree       \n",
            "Reading state information... Done\n",
            "You might want to run 'apt --fix-broken install' to correct these.\n",
            "The following packages have unmet dependencies:\n",
            " nvidia-dkms-510 : Depends: nvidia-kernel-common-510 (>= 510.54) but 510.47.03-0ubuntu1 is installed\n",
            " nvidia-driver-510 : Depends: nvidia-kernel-common-510 (>= 510.54) but 510.47.03-0ubuntu1 is installed\n",
            "                     Recommends: nvidia-prime (>= 0.8) but it is not installed\n",
            "                     Recommends: libnvidia-compute-510:i386 (= 510.54-0ubuntu0.18.04.1)\n",
            "                     Recommends: libnvidia-decode-510:i386 (= 510.54-0ubuntu0.18.04.1)\n",
            "                     Recommends: libnvidia-encode-510:i386 (= 510.54-0ubuntu0.18.04.1)\n",
            "                     Recommends: libnvidia-fbc1-510:i386 (= 510.54-0ubuntu0.18.04.1)\n",
            "                     Recommends: libnvidia-gl-510:i386 (= 510.54-0ubuntu0.18.04.1)\n",
            "E: Unmet dependencies. Try 'apt --fix-broken install' with no packages (or specify a solution).\n"
          ]
        }
      ],
      "source": [
        "!sudo apt-get update && sudo apt-get upgrade"
      ]
    },
    {
      "cell_type": "code",
      "source": [
        "!sudo apt --fix-broken install"
      ],
      "metadata": {
        "colab": {
          "base_uri": "https://localhost:8080/"
        },
        "id": "J7T-946q-Ygy",
        "outputId": "b8c25491-736e-424a-c46a-e66f17d8da2c"
      },
      "execution_count": 6,
      "outputs": [
        {
          "output_type": "stream",
          "name": "stdout",
          "text": [
            "Reading package lists... Done\n",
            "Building dependency tree       \n",
            "Reading state information... Done\n",
            "Correcting dependencies... Done\n",
            "The following packages were automatically installed and are no longer required:\n",
            "  libnvidia-common-470 linux-headers-4.15.0-167\n",
            "  linux-headers-4.15.0-167-generic\n",
            "Use 'sudo apt autoremove' to remove them.\n",
            "The following additional packages will be installed:\n",
            "  nvidia-kernel-common-510\n",
            "The following packages will be upgraded:\n",
            "  nvidia-kernel-common-510\n",
            "1 upgraded, 0 newly installed, 0 to remove and 5 not upgraded.\n",
            "45 not fully installed or removed.\n",
            "Need to get 20.7 MB of archives.\n",
            "After this operation, 1,001 kB of additional disk space will be used.\n",
            "Get:1 http://ppa.launchpad.net/graphics-drivers/ppa/ubuntu bionic/main amd64 nvidia-kernel-common-510 amd64 510.54-0ubuntu0.18.04.1 [20.7 MB]\n",
            "Fetched 20.7 MB in 4s (5,622 kB/s)\n",
            "debconf: unable to initialize frontend: Dialog\n",
            "debconf: (No usable dialog-like program is installed, so the dialog based frontend cannot be used. at /usr/share/perl5/Debconf/FrontEnd/Dialog.pm line 76, <> line 1.)\n",
            "debconf: falling back to frontend: Readline\n",
            "debconf: unable to initialize frontend: Readline\n",
            "debconf: (This frontend requires a controlling tty.)\n",
            "debconf: falling back to frontend: Teletype\n",
            "dpkg-preconfigure: unable to re-open stdin: \n",
            "(Reading database ... 184658 files and directories currently installed.)\n",
            "Preparing to unpack .../nvidia-kernel-common-510_510.54-0ubuntu0.18.04.1_amd64.deb ...\n",
            "Unpacking nvidia-kernel-common-510 (510.54-0ubuntu0.18.04.1) over (510.47.03-0ubuntu1) ...\n",
            "Setting up r-cran-tinytex (0.37-1cran1.1804.0) ...\n",
            "Setting up libcudnn7 (7.6.5.32-1+cuda10.2) ...\n",
            "Setting up libexpat1:amd64 (2.2.5-3ubuntu0.4) ...\n",
            "Setting up linux-headers-4.15.0-169 (4.15.0-169.177) ...\n",
            "Setting up nvidia-kernel-source-510 (510.54-0ubuntu0.18.04.1) ...\n",
            "Setting up libnvidia-compute-510:amd64 (510.54-0ubuntu0.18.04.1) ...\n",
            "Setting up libldap-common (2.4.45+dfsg-1ubuntu1.10) ...\n",
            "Setting up r-cran-clipr (0.8.0-1cran1.1804.0) ...\n",
            "Setting up libnvidia-decode-510:amd64 (510.54-0ubuntu0.18.04.1) ...\n",
            "Setting up libsasl2-modules-db:amd64 (2.1.27~101-g0780600+dfsg-3ubuntu2.4) ...\n",
            "Setting up linux-libc-dev:amd64 (4.15.0-169.177) ...\n",
            "Setting up libsasl2-2:amd64 (2.1.27~101-g0780600+dfsg-3ubuntu2.4) ...\n",
            "Setting up libcudnn7-dev (7.6.5.32-1+cuda10.2) ...\n",
            "update-alternatives: using /usr/include/x86_64-linux-gnu/cudnn_v7.h to provide /usr/include/cudnn.h (libcudnn) in manual mode\n",
            "Setting up libnvidia-fbc1-510:amd64 (510.54-0ubuntu0.18.04.1) ...\n",
            "Setting up r-cran-crayon (1.5.0-1cran1.1804.0) ...\n",
            "Setting up libnvidia-cfg1-510:amd64 (510.54-0ubuntu0.18.04.1) ...\n",
            "Setting up rsync (3.1.2-2.1ubuntu1.3) ...\n",
            "invoke-rc.d: could not determine current runlevel\n",
            "invoke-rc.d: policy-rc.d denied execution of restart.\n",
            "Setting up r-cran-evaluate (0.15-1cran1.1804.0) ...\n",
            "Setting up r-cran-jsonlite (1.8.0-1cran1.1804.0) ...\n",
            "Setting up binutils-common:amd64 (2.30-21ubuntu1~18.04.7) ...\n",
            "Setting up gnupg2 (2.2.4-1ubuntu1.4) ...\n",
            "Setting up libcublas10 (10.2.3.254-1) ...\n",
            "Setting up libcublas-dev (10.2.3.254-1) ...\n",
            "Setting up r-cran-mgcv (1.8-39-1cran1.1804.0) ...\n",
            "Setting up libldap-2.4-2:amd64 (2.4.45+dfsg-1ubuntu1.10) ...\n",
            "Setting up nvidia-utils-510 (510.54-0ubuntu0.18.04.1) ...\n",
            "Setting up openssl (1.1.1-1ubuntu2.1~18.04.14) ...\n",
            "Setting up nvidia-kernel-common-510 (510.54-0ubuntu0.18.04.1) ...\n",
            "Created symlink /etc/systemd/system/systemd-hibernate.service.requires/nvidia-hibernate.service → /lib/systemd/system/nvidia-hibernate.service.\n",
            "Created symlink /etc/systemd/system/systemd-suspend.service.requires/nvidia-resume.service → /lib/systemd/system/nvidia-resume.service.\n",
            "Created symlink /etc/systemd/system/systemd-hibernate.service.requires/nvidia-resume.service → /lib/systemd/system/nvidia-resume.service.\n",
            "Created symlink /etc/systemd/system/systemd-suspend.service.requires/nvidia-suspend.service → /lib/systemd/system/nvidia-suspend.service.\n",
            "Setting up xserver-xorg-video-nvidia-510 (510.54-0ubuntu0.18.04.1) ...\n",
            "Setting up libexpat1-dev:amd64 (2.2.5-3ubuntu0.4) ...\n",
            "Setting up r-cran-colorspace (2.0-3-1cran1.1804.0) ...\n",
            "Setting up libnvidia-gl-510:amd64 (510.54-0ubuntu0.18.04.1) ...\n",
            "Setting up libnvidia-extra-510:amd64 (510.54-0ubuntu0.18.04.1) ...\n",
            "Setting up r-cran-yaml (2.3.5-1cran1.1804.0) ...\n",
            "Setting up r-cran-glue (1.6.2-1cran1.1804.0) ...\n",
            "Setting up linux-headers-4.15.0-169-generic (4.15.0-169.177) ...\n",
            "/etc/kernel/header_postinst.d/dkms:\n",
            " * dkms: running auto installation service for kernel 4.15.0-169-generic\n",
            "   ...done.\n",
            "Setting up nvidia-compute-utils-510 (510.54-0ubuntu0.18.04.1) ...\n",
            "Setting up libnvidia-encode-510:amd64 (510.54-0ubuntu0.18.04.1) ...\n",
            "Setting up r-cran-tidyselect (1.1.2-1cran1.1804.0) ...\n",
            "Setting up libbinutils:amd64 (2.30-21ubuntu1~18.04.7) ...\n",
            "Setting up nvidia-dkms-510 (510.54-0ubuntu0.18.04.1) ...\n",
            "debconf: unable to initialize frontend: Dialog\n",
            "debconf: (No usable dialog-like program is installed, so the dialog based frontend cannot be used. at /usr/share/perl5/Debconf/FrontEnd/Dialog.pm line 76.)\n",
            "debconf: falling back to frontend: Readline\n",
            "Loading new nvidia-510.54 DKMS files...\n",
            "It is likely that 5.4.144+ belongs to a chroot's host\n",
            "Building for 4.15.0-167-generic and 4.15.0-169-generic\n",
            "Building for architecture x86_64\n",
            "Building initial module for 4.15.0-167-generic\n",
            "Done.\n",
            "\n",
            "nvidia:\n",
            "Running module version sanity check.\n",
            " - Original module\n",
            "   - No original module exists within this kernel\n",
            " - Installation\n",
            "   - Installing to /lib/modules/4.15.0-167-generic/updates/dkms/\n",
            "\n",
            "nvidia-modeset.ko:\n",
            "Running module version sanity check.\n",
            " - Original module\n",
            "   - No original module exists within this kernel\n",
            " - Installation\n",
            "   - Installing to /lib/modules/4.15.0-167-generic/updates/dkms/\n",
            "\n",
            "nvidia-drm.ko:\n",
            "Running module version sanity check.\n",
            " - Original module\n",
            "   - No original module exists within this kernel\n",
            " - Installation\n",
            "   - Installing to /lib/modules/4.15.0-167-generic/updates/dkms/\n",
            "\n",
            "nvidia-uvm.ko:\n",
            "Running module version sanity check.\n",
            " - Original module\n",
            "   - No original module exists within this kernel\n",
            " - Installation\n",
            "   - Installing to /lib/modules/4.15.0-167-generic/updates/dkms/\n",
            "\n",
            "nvidia-peermem.ko:\n",
            "Running module version sanity check.\n",
            " - Original module\n",
            "   - No original module exists within this kernel\n",
            " - Installation\n",
            "   - Installing to /lib/modules/4.15.0-167-generic/updates/dkms/\n",
            "\n",
            "depmod...\n",
            "\n",
            "DKMS: install completed.\n",
            "Building initial module for 4.15.0-169-generic\n",
            "Done.\n",
            "\n",
            "nvidia:\n",
            "Running module version sanity check.\n",
            " - Original module\n",
            "   - No original module exists within this kernel\n",
            " - Installation\n",
            "   - Installing to /lib/modules/4.15.0-169-generic/updates/dkms/\n",
            "\n",
            "nvidia-modeset.ko:\n",
            "Running module version sanity check.\n",
            " - Original module\n",
            "   - No original module exists within this kernel\n",
            " - Installation\n",
            "   - Installing to /lib/modules/4.15.0-169-generic/updates/dkms/\n",
            "\n",
            "nvidia-drm.ko:\n",
            "Running module version sanity check.\n",
            " - Original module\n",
            "   - No original module exists within this kernel\n",
            " - Installation\n",
            "   - Installing to /lib/modules/4.15.0-169-generic/updates/dkms/\n",
            "\n",
            "nvidia-uvm.ko:\n",
            "Running module version sanity check.\n",
            " - Original module\n",
            "   - No original module exists within this kernel\n",
            " - Installation\n",
            "   - Installing to /lib/modules/4.15.0-169-generic/updates/dkms/\n",
            "\n",
            "nvidia-peermem.ko:\n",
            "Running module version sanity check.\n",
            " - Original module\n",
            "   - No original module exists within this kernel\n",
            " - Installation\n",
            "   - Installing to /lib/modules/4.15.0-169-generic/updates/dkms/\n",
            "\n",
            "depmod...\n",
            "\n",
            "DKMS: install completed.\n",
            "Setting up r-cran-cli (3.2.0-1cran1.1804.0) ...\n",
            "Setting up linux-headers-generic (4.15.0.169.158) ...\n",
            "Setting up binutils-x86-64-linux-gnu (2.30-21ubuntu1~18.04.7) ...\n",
            "Setting up nvidia-driver-510 (510.54-0ubuntu0.18.04.1) ...\n",
            "Setting up binutils (2.30-21ubuntu1~18.04.7) ...\n",
            "Processing triggers for libc-bin (2.27-3ubuntu1.4) ...\n",
            "/sbin/ldconfig.real: /usr/local/lib/python3.7/dist-packages/ideep4py/lib/libmkldnn.so.0 is not a symbolic link\n",
            "\n",
            "Processing triggers for systemd (237-3ubuntu10.53) ...\n",
            "Processing triggers for man-db (2.8.3-2ubuntu0.1) ...\n",
            "Processing triggers for mime-support (3.60ubuntu1) ...\n"
          ]
        }
      ]
    },
    {
      "cell_type": "code",
      "source": [
        "# !sudo apt install -y php7.0 php7.0-cli"
      ],
      "metadata": {
        "id": "darvw8J28x04"
      },
      "execution_count": null,
      "outputs": []
    },
    {
      "cell_type": "code",
      "source": [
        "!sudo apt-get install -y apache2"
      ],
      "metadata": {
        "colab": {
          "base_uri": "https://localhost:8080/"
        },
        "id": "wKPW9r7p_IsY",
        "outputId": "4fb45252-d56c-4bad-aa34-13512702cab6"
      },
      "execution_count": 7,
      "outputs": [
        {
          "output_type": "stream",
          "name": "stdout",
          "text": [
            "Reading package lists... Done\n",
            "Building dependency tree       \n",
            "Reading state information... Done\n",
            "The following packages were automatically installed and are no longer required:\n",
            "  libnvidia-common-470 linux-headers-4.15.0-167\n",
            "  linux-headers-4.15.0-167-generic\n",
            "Use 'sudo apt autoremove' to remove them.\n",
            "The following additional packages will be installed:\n",
            "  apache2-bin apache2-data apache2-utils libapr1 libaprutil1\n",
            "  libaprutil1-dbd-sqlite3 libaprutil1-ldap liblua5.2-0 ssl-cert\n",
            "Suggested packages:\n",
            "  www-browser apache2-doc apache2-suexec-pristine | apache2-suexec-custom ufw\n",
            "  openssl-blacklist\n",
            "The following NEW packages will be installed:\n",
            "  apache2 apache2-bin apache2-data apache2-utils libapr1 libaprutil1\n",
            "  libaprutil1-dbd-sqlite3 libaprutil1-ldap liblua5.2-0 ssl-cert\n",
            "0 upgraded, 10 newly installed, 0 to remove and 5 not upgraded.\n",
            "Need to get 1,729 kB of archives.\n",
            "After this operation, 6,997 kB of additional disk space will be used.\n",
            "Get:1 http://archive.ubuntu.com/ubuntu bionic/main amd64 libapr1 amd64 1.6.3-2 [90.9 kB]\n",
            "Get:2 http://archive.ubuntu.com/ubuntu bionic/main amd64 libaprutil1 amd64 1.6.1-2 [84.4 kB]\n",
            "Get:3 http://archive.ubuntu.com/ubuntu bionic/main amd64 libaprutil1-dbd-sqlite3 amd64 1.6.1-2 [10.6 kB]\n",
            "Get:4 http://archive.ubuntu.com/ubuntu bionic/main amd64 libaprutil1-ldap amd64 1.6.1-2 [8,764 B]\n",
            "Get:5 http://archive.ubuntu.com/ubuntu bionic/main amd64 liblua5.2-0 amd64 5.2.4-1.1build1 [108 kB]\n",
            "Get:6 http://archive.ubuntu.com/ubuntu bionic-updates/main amd64 apache2-bin amd64 2.4.29-1ubuntu4.21 [1,070 kB]\n",
            "Get:7 http://archive.ubuntu.com/ubuntu bionic-updates/main amd64 apache2-utils amd64 2.4.29-1ubuntu4.21 [83.8 kB]\n",
            "Get:8 http://archive.ubuntu.com/ubuntu bionic-updates/main amd64 apache2-data all 2.4.29-1ubuntu4.21 [160 kB]\n",
            "Get:9 http://archive.ubuntu.com/ubuntu bionic-updates/main amd64 apache2 amd64 2.4.29-1ubuntu4.21 [95.1 kB]\n",
            "Get:10 http://archive.ubuntu.com/ubuntu bionic/main amd64 ssl-cert all 1.0.39 [17.0 kB]\n",
            "Fetched 1,729 kB in 3s (662 kB/s)\n",
            "debconf: unable to initialize frontend: Dialog\n",
            "debconf: (No usable dialog-like program is installed, so the dialog based frontend cannot be used. at /usr/share/perl5/Debconf/FrontEnd/Dialog.pm line 76, <> line 10.)\n",
            "debconf: falling back to frontend: Readline\n",
            "debconf: unable to initialize frontend: Readline\n",
            "debconf: (This frontend requires a controlling tty.)\n",
            "debconf: falling back to frontend: Teletype\n",
            "dpkg-preconfigure: unable to re-open stdin: \n",
            "Selecting previously unselected package libapr1:amd64.\n",
            "(Reading database ... 184665 files and directories currently installed.)\n",
            "Preparing to unpack .../0-libapr1_1.6.3-2_amd64.deb ...\n",
            "Unpacking libapr1:amd64 (1.6.3-2) ...\n",
            "Selecting previously unselected package libaprutil1:amd64.\n",
            "Preparing to unpack .../1-libaprutil1_1.6.1-2_amd64.deb ...\n",
            "Unpacking libaprutil1:amd64 (1.6.1-2) ...\n",
            "Selecting previously unselected package libaprutil1-dbd-sqlite3:amd64.\n",
            "Preparing to unpack .../2-libaprutil1-dbd-sqlite3_1.6.1-2_amd64.deb ...\n",
            "Unpacking libaprutil1-dbd-sqlite3:amd64 (1.6.1-2) ...\n",
            "Selecting previously unselected package libaprutil1-ldap:amd64.\n",
            "Preparing to unpack .../3-libaprutil1-ldap_1.6.1-2_amd64.deb ...\n",
            "Unpacking libaprutil1-ldap:amd64 (1.6.1-2) ...\n",
            "Selecting previously unselected package liblua5.2-0:amd64.\n",
            "Preparing to unpack .../4-liblua5.2-0_5.2.4-1.1build1_amd64.deb ...\n",
            "Unpacking liblua5.2-0:amd64 (5.2.4-1.1build1) ...\n",
            "Selecting previously unselected package apache2-bin.\n",
            "Preparing to unpack .../5-apache2-bin_2.4.29-1ubuntu4.21_amd64.deb ...\n",
            "Unpacking apache2-bin (2.4.29-1ubuntu4.21) ...\n",
            "Selecting previously unselected package apache2-utils.\n",
            "Preparing to unpack .../6-apache2-utils_2.4.29-1ubuntu4.21_amd64.deb ...\n",
            "Unpacking apache2-utils (2.4.29-1ubuntu4.21) ...\n",
            "Selecting previously unselected package apache2-data.\n",
            "Preparing to unpack .../7-apache2-data_2.4.29-1ubuntu4.21_all.deb ...\n",
            "Unpacking apache2-data (2.4.29-1ubuntu4.21) ...\n",
            "Selecting previously unselected package apache2.\n",
            "Preparing to unpack .../8-apache2_2.4.29-1ubuntu4.21_amd64.deb ...\n",
            "Unpacking apache2 (2.4.29-1ubuntu4.21) ...\n",
            "Selecting previously unselected package ssl-cert.\n",
            "Preparing to unpack .../9-ssl-cert_1.0.39_all.deb ...\n",
            "Unpacking ssl-cert (1.0.39) ...\n",
            "Setting up libapr1:amd64 (1.6.3-2) ...\n",
            "Setting up apache2-data (2.4.29-1ubuntu4.21) ...\n",
            "Setting up ssl-cert (1.0.39) ...\n",
            "debconf: unable to initialize frontend: Dialog\n",
            "debconf: (No usable dialog-like program is installed, so the dialog based frontend cannot be used. at /usr/share/perl5/Debconf/FrontEnd/Dialog.pm line 76.)\n",
            "debconf: falling back to frontend: Readline\n",
            "Setting up libaprutil1:amd64 (1.6.1-2) ...\n",
            "Setting up liblua5.2-0:amd64 (5.2.4-1.1build1) ...\n",
            "Setting up libaprutil1-ldap:amd64 (1.6.1-2) ...\n",
            "Setting up libaprutil1-dbd-sqlite3:amd64 (1.6.1-2) ...\n",
            "Setting up apache2-utils (2.4.29-1ubuntu4.21) ...\n",
            "Setting up apache2-bin (2.4.29-1ubuntu4.21) ...\n",
            "Setting up apache2 (2.4.29-1ubuntu4.21) ...\n",
            "Enabling module mpm_event.\n",
            "Enabling module authz_core.\n",
            "Enabling module authz_host.\n",
            "Enabling module authn_core.\n",
            "Enabling module auth_basic.\n",
            "Enabling module access_compat.\n",
            "Enabling module authn_file.\n",
            "Enabling module authz_user.\n",
            "Enabling module alias.\n",
            "Enabling module dir.\n",
            "Enabling module autoindex.\n",
            "Enabling module env.\n",
            "Enabling module mime.\n",
            "Enabling module negotiation.\n",
            "Enabling module setenvif.\n",
            "Enabling module filter.\n",
            "Enabling module deflate.\n",
            "Enabling module status.\n",
            "Enabling module reqtimeout.\n",
            "Enabling conf charset.\n",
            "Enabling conf localized-error-pages.\n",
            "Enabling conf other-vhosts-access-log.\n",
            "Enabling conf security.\n",
            "Enabling conf serve-cgi-bin.\n",
            "Enabling site 000-default.\n",
            "Created symlink /etc/systemd/system/multi-user.target.wants/apache2.service → /lib/systemd/system/apache2.service.\n",
            "Created symlink /etc/systemd/system/multi-user.target.wants/apache-htcacheclean.service → /lib/systemd/system/apache-htcacheclean.service.\n",
            "invoke-rc.d: could not determine current runlevel\n",
            "invoke-rc.d: policy-rc.d denied execution of start.\n",
            "Processing triggers for systemd (237-3ubuntu10.53) ...\n",
            "Processing triggers for man-db (2.8.3-2ubuntu0.1) ...\n",
            "Processing triggers for libc-bin (2.27-3ubuntu1.4) ...\n",
            "/sbin/ldconfig.real: /usr/local/lib/python3.7/dist-packages/ideep4py/lib/libmkldnn.so.0 is not a symbolic link\n",
            "\n"
          ]
        }
      ]
    },
    {
      "cell_type": "code",
      "source": [
        "!sudo service apache2"
      ],
      "metadata": {
        "colab": {
          "base_uri": "https://localhost:8080/"
        },
        "id": "CU-cPd6Z_ka_",
        "outputId": "ca2c27e9-8e34-49e1-a731-a4ee68909592"
      },
      "execution_count": 8,
      "outputs": [
        {
          "output_type": "stream",
          "name": "stdout",
          "text": [
            "Usage: apache2 {start|stop|graceful-stop|restart|reload|force-reload}\n"
          ]
        }
      ]
    },
    {
      "cell_type": "code",
      "source": [
        ""
      ],
      "metadata": {
        "id": "rBKQPf_E_1gh"
      },
      "execution_count": null,
      "outputs": []
    },
    {
      "cell_type": "code",
      "source": [
        ""
      ],
      "metadata": {
        "id": "gE3kjtyA_1d1"
      },
      "execution_count": null,
      "outputs": []
    },
    {
      "cell_type": "code",
      "source": [
        ""
      ],
      "metadata": {
        "id": "kjl9hLzY_1ar"
      },
      "execution_count": null,
      "outputs": []
    },
    {
      "cell_type": "code",
      "source": [
        ""
      ],
      "metadata": {
        "id": "fJra1P8k_1Xy"
      },
      "execution_count": null,
      "outputs": []
    },
    {
      "cell_type": "code",
      "source": [
        ""
      ],
      "metadata": {
        "id": "nnlCFTXw_kXs"
      },
      "execution_count": null,
      "outputs": []
    },
    {
      "cell_type": "code",
      "source": [
        "!sudo apt-get install -y php5 php5-cli"
      ],
      "metadata": {
        "id": "e5UA34eo9p-M"
      },
      "execution_count": null,
      "outputs": []
    },
    {
      "cell_type": "code",
      "source": [
        "!php5 --version"
      ],
      "metadata": {
        "id": "M1E5FmRz9x0S"
      },
      "execution_count": null,
      "outputs": []
    },
    {
      "cell_type": "code",
      "source": [
        ""
      ],
      "metadata": {
        "id": "CdXrTuN5-KhT"
      },
      "execution_count": null,
      "outputs": []
    }
  ]
}
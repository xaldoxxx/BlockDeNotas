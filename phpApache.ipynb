{
  "nbformat": 4,
  "nbformat_minor": 0,
  "metadata": {
    "colab": {
      "name": "phpApache.ipynb",
      "provenance": [],
      "authorship_tag": "ABX9TyN5sfifG3qpGHsve0Jbyvon",
      "include_colab_link": true
    },
    "kernelspec": {
      "name": "python3",
      "display_name": "Python 3"
    },
    "language_info": {
      "name": "python"
    }
  },
  "cells": [
    {
      "cell_type": "markdown",
      "metadata": {
        "id": "view-in-github",
        "colab_type": "text"
      },
      "source": [
        "<a href=\"https://colab.research.google.com/github/xaldoxxx/BlockDeNotas/blob/main/phpApache.ipynb\" target=\"_parent\"><img src=\"https://colab.research.google.com/assets/colab-badge.svg\" alt=\"Open In Colab\"/></a>"
      ]
    },
    {
      "cell_type": "code",
      "execution_count": 5,
      "metadata": {
        "colab": {
          "base_uri": "https://localhost:8080/"
        },
        "id": "CqaMYBGj8pyd",
        "outputId": "8767edda-2479-410f-f245-712932aa2db9"
      },
      "outputs": [
        {
          "output_type": "stream",
          "name": "stdout",
          "text": [
            "Hit:1 https://cloud.r-project.org/bin/linux/ubuntu bionic-cran40/ InRelease\n",
            "Ign:2 https://developer.download.nvidia.com/compute/cuda/repos/ubuntu1804/x86_64  InRelease\n",
            "Hit:3 http://security.ubuntu.com/ubuntu bionic-security InRelease\n",
            "Ign:4 https://developer.download.nvidia.com/compute/machine-learning/repos/ubuntu1804/x86_64  InRelease\n",
            "Hit:5 https://developer.download.nvidia.com/compute/cuda/repos/ubuntu1804/x86_64  Release\n",
            "Hit:6 http://ppa.launchpad.net/c2d4u.team/c2d4u4.0+/ubuntu bionic InRelease\n",
            "Hit:7 https://developer.download.nvidia.com/compute/machine-learning/repos/ubuntu1804/x86_64  Release\n",
            "Hit:9 http://archive.ubuntu.com/ubuntu bionic InRelease\n",
            "Hit:11 http://ppa.launchpad.net/cran/libgit2/ubuntu bionic InRelease\n",
            "Hit:12 http://archive.ubuntu.com/ubuntu bionic-updates InRelease\n",
            "Hit:13 http://archive.ubuntu.com/ubuntu bionic-backports InRelease\n",
            "Hit:14 http://ppa.launchpad.net/deadsnakes/ppa/ubuntu bionic InRelease\n",
            "Hit:15 http://ppa.launchpad.net/graphics-drivers/ppa/ubuntu bionic InRelease\n",
            "Reading package lists... Done\n",
            "Reading package lists... Done\n",
            "Building dependency tree       \n",
            "Reading state information... Done\n",
            "You might want to run 'apt --fix-broken install' to correct these.\n",
            "The following packages have unmet dependencies:\n",
            " nvidia-dkms-510 : Depends: nvidia-kernel-common-510 (>= 510.54) but 510.47.03-0ubuntu1 is installed\n",
            " nvidia-driver-510 : Depends: nvidia-kernel-common-510 (>= 510.54) but 510.47.03-0ubuntu1 is installed\n",
            "                     Recommends: nvidia-prime (>= 0.8) but it is not installed\n",
            "                     Recommends: libnvidia-compute-510:i386 (= 510.54-0ubuntu0.18.04.1)\n",
            "                     Recommends: libnvidia-decode-510:i386 (= 510.54-0ubuntu0.18.04.1)\n",
            "                     Recommends: libnvidia-encode-510:i386 (= 510.54-0ubuntu0.18.04.1)\n",
            "                     Recommends: libnvidia-fbc1-510:i386 (= 510.54-0ubuntu0.18.04.1)\n",
            "                     Recommends: libnvidia-gl-510:i386 (= 510.54-0ubuntu0.18.04.1)\n",
            "E: Unmet dependencies. Try 'apt --fix-broken install' with no packages (or specify a solution).\n"
          ]
        }
      ],
      "source": [
        "!sudo apt-get update && sudo apt-get upgrade"
      ]
    },
    {
      "cell_type": "code",
      "source": [
        "!sudo apt --fix-broken install"
      ],
      "metadata": {
        "colab": {
          "base_uri": "https://localhost:8080/"
        },
        "id": "J7T-946q-Ygy",
        "outputId": "b8c25491-736e-424a-c46a-e66f17d8da2c"
      },
      "execution_count": 6,
      "outputs": [
        {
          "output_type": "stream",
          "name": "stdout",
          "text": [
            "Reading package lists... Done\n",
            "Building dependency tree       \n",
            "Reading state information... Done\n",
            "Correcting dependencies... Done\n",
            "The following packages were automatically installed and are no longer required:\n",
            "  libnvidia-common-470 linux-headers-4.15.0-167\n",
            "  linux-headers-4.15.0-167-generic\n",
            "Use 'sudo apt autoremove' to remove them.\n",
            "The following additional packages will be installed:\n",
            "  nvidia-kernel-common-510\n",
            "The following packages will be upgraded:\n",
            "  nvidia-kernel-common-510\n",
            "1 upgraded, 0 newly installed, 0 to remove and 5 not upgraded.\n",
            "45 not fully installed or removed.\n",
            "Need to get 20.7 MB of archives.\n",
            "After this operation, 1,001 kB of additional disk space will be used.\n",
            "Get:1 http://ppa.launchpad.net/graphics-drivers/ppa/ubuntu bionic/main amd64 nvidia-kernel-common-510 amd64 510.54-0ubuntu0.18.04.1 [20.7 MB]\n",
            "Fetched 20.7 MB in 4s (5,622 kB/s)\n",
            "debconf: unable to initialize frontend: Dialog\n",
            "debconf: (No usable dialog-like program is installed, so the dialog based frontend cannot be used. at /usr/share/perl5/Debconf/FrontEnd/Dialog.pm line 76, <> line 1.)\n",
            "debconf: falling back to frontend: Readline\n",
            "debconf: unable to initialize frontend: Readline\n",
            "debconf: (This frontend requires a controlling tty.)\n",
            "debconf: falling back to frontend: Teletype\n",
            "dpkg-preconfigure: unable to re-open stdin: \n",
            "(Reading database ... 184658 files and directories currently installed.)\n",
            "Preparing to unpack .../nvidia-kernel-common-510_510.54-0ubuntu0.18.04.1_amd64.deb ...\n",
            "Unpacking nvidia-kernel-common-510 (510.54-0ubuntu0.18.04.1) over (510.47.03-0ubuntu1) ...\n",
            "Setting up r-cran-tinytex (0.37-1cran1.1804.0) ...\n",
            "Setting up libcudnn7 (7.6.5.32-1+cuda10.2) ...\n",
            "Setting up libexpat1:amd64 (2.2.5-3ubuntu0.4) ...\n",
            "Setting up linux-headers-4.15.0-169 (4.15.0-169.177) ...\n",
            "Setting up nvidia-kernel-source-510 (510.54-0ubuntu0.18.04.1) ...\n",
            "Setting up libnvidia-compute-510:amd64 (510.54-0ubuntu0.18.04.1) ...\n",
            "Setting up libldap-common (2.4.45+dfsg-1ubuntu1.10) ...\n",
            "Setting up r-cran-clipr (0.8.0-1cran1.1804.0) ...\n",
            "Setting up libnvidia-decode-510:amd64 (510.54-0ubuntu0.18.04.1) ...\n",
            "Setting up libsasl2-modules-db:amd64 (2.1.27~101-g0780600+dfsg-3ubuntu2.4) ...\n",
            "Setting up linux-libc-dev:amd64 (4.15.0-169.177) ...\n",
            "Setting up libsasl2-2:amd64 (2.1.27~101-g0780600+dfsg-3ubuntu2.4) ...\n",
            "Setting up libcudnn7-dev (7.6.5.32-1+cuda10.2) ...\n",
            "update-alternatives: using /usr/include/x86_64-linux-gnu/cudnn_v7.h to provide /usr/include/cudnn.h (libcudnn) in manual mode\n",
            "Setting up libnvidia-fbc1-510:amd64 (510.54-0ubuntu0.18.04.1) ...\n",
            "Setting up r-cran-crayon (1.5.0-1cran1.1804.0) ...\n",
            "Setting up libnvidia-cfg1-510:amd64 (510.54-0ubuntu0.18.04.1) ...\n",
            "Setting up rsync (3.1.2-2.1ubuntu1.3) ...\n",
            "invoke-rc.d: could not determine current runlevel\n",
            "invoke-rc.d: policy-rc.d denied execution of restart.\n",
            "Setting up r-cran-evaluate (0.15-1cran1.1804.0) ...\n",
            "Setting up r-cran-jsonlite (1.8.0-1cran1.1804.0) ...\n",
            "Setting up binutils-common:amd64 (2.30-21ubuntu1~18.04.7) ...\n",
            "Setting up gnupg2 (2.2.4-1ubuntu1.4) ...\n",
            "Setting up libcublas10 (10.2.3.254-1) ...\n",
            "Setting up libcublas-dev (10.2.3.254-1) ...\n",
            "Setting up r-cran-mgcv (1.8-39-1cran1.1804.0) ...\n",
            "Setting up libldap-2.4-2:amd64 (2.4.45+dfsg-1ubuntu1.10) ...\n",
            "Setting up nvidia-utils-510 (510.54-0ubuntu0.18.04.1) ...\n",
            "Setting up openssl (1.1.1-1ubuntu2.1~18.04.14) ...\n",
            "Setting up nvidia-kernel-common-510 (510.54-0ubuntu0.18.04.1) ...\n",
            "Created symlink /etc/systemd/system/systemd-hibernate.service.requires/nvidia-hibernate.service → /lib/systemd/system/nvidia-hibernate.service.\n",
            "Created symlink /etc/systemd/system/systemd-suspend.service.requires/nvidia-resume.service → /lib/systemd/system/nvidia-resume.service.\n",
            "Created symlink /etc/systemd/system/systemd-hibernate.service.requires/nvidia-resume.service → /lib/systemd/system/nvidia-resume.service.\n",
            "Created symlink /etc/systemd/system/systemd-suspend.service.requires/nvidia-suspend.service → /lib/systemd/system/nvidia-suspend.service.\n",
            "Setting up xserver-xorg-video-nvidia-510 (510.54-0ubuntu0.18.04.1) ...\n",
            "Setting up libexpat1-dev:amd64 (2.2.5-3ubuntu0.4) ...\n",
            "Setting up r-cran-colorspace (2.0-3-1cran1.1804.0) ...\n",
            "Setting up libnvidia-gl-510:amd64 (510.54-0ubuntu0.18.04.1) ...\n",
            "Setting up libnvidia-extra-510:amd64 (510.54-0ubuntu0.18.04.1) ...\n",
            "Setting up r-cran-yaml (2.3.5-1cran1.1804.0) ...\n",
            "Setting up r-cran-glue (1.6.2-1cran1.1804.0) ...\n",
            "Setting up linux-headers-4.15.0-169-generic (4.15.0-169.177) ...\n",
            "/etc/kernel/header_postinst.d/dkms:\n",
            " * dkms: running auto installation service for kernel 4.15.0-169-generic\n",
            "   ...done.\n",
            "Setting up nvidia-compute-utils-510 (510.54-0ubuntu0.18.04.1) ...\n",
            "Setting up libnvidia-encode-510:amd64 (510.54-0ubuntu0.18.04.1) ...\n",
            "Setting up r-cran-tidyselect (1.1.2-1cran1.1804.0) ...\n",
            "Setting up libbinutils:amd64 (2.30-21ubuntu1~18.04.7) ...\n",
            "Setting up nvidia-dkms-510 (510.54-0ubuntu0.18.04.1) ...\n",
            "debconf: unable to initialize frontend: Dialog\n",
            "debconf: (No usable dialog-like program is installed, so the dialog based frontend cannot be used. at /usr/share/perl5/Debconf/FrontEnd/Dialog.pm line 76.)\n",
            "debconf: falling back to frontend: Readline\n",
            "Loading new nvidia-510.54 DKMS files...\n",
            "It is likely that 5.4.144+ belongs to a chroot's host\n",
            "Building for 4.15.0-167-generic and 4.15.0-169-generic\n",
            "Building for architecture x86_64\n",
            "Building initial module for 4.15.0-167-generic\n",
            "Done.\n",
            "\n",
            "nvidia:\n",
            "Running module version sanity check.\n",
            " - Original module\n",
            "   - No original module exists within this kernel\n",
            " - Installation\n",
            "   - Installing to /lib/modules/4.15.0-167-generic/updates/dkms/\n",
            "\n",
            "nvidia-modeset.ko:\n",
            "Running module version sanity check.\n",
            " - Original module\n",
            "   - No original module exists within this kernel\n",
            " - Installation\n",
            "   - Installing to /lib/modules/4.15.0-167-generic/updates/dkms/\n",
            "\n",
            "nvidia-drm.ko:\n",
            "Running module version sanity check.\n",
            " - Original module\n",
            "   - No original module exists within this kernel\n",
            " - Installation\n",
            "   - Installing to /lib/modules/4.15.0-167-generic/updates/dkms/\n",
            "\n",
            "nvidia-uvm.ko:\n",
            "Running module version sanity check.\n",
            " - Original module\n",
            "   - No original module exists within this kernel\n",
            " - Installation\n",
            "   - Installing to /lib/modules/4.15.0-167-generic/updates/dkms/\n",
            "\n",
            "nvidia-peermem.ko:\n",
            "Running module version sanity check.\n",
            " - Original module\n",
            "   - No original module exists within this kernel\n",
            " - Installation\n",
            "   - Installing to /lib/modules/4.15.0-167-generic/updates/dkms/\n",
            "\n",
            "depmod...\n",
            "\n",
            "DKMS: install completed.\n",
            "Building initial module for 4.15.0-169-generic\n",
            "Done.\n",
            "\n",
            "nvidia:\n",
            "Running module version sanity check.\n",
            " - Original module\n",
            "   - No original module exists within this kernel\n",
            " - Installation\n",
            "   - Installing to /lib/modules/4.15.0-169-generic/updates/dkms/\n",
            "\n",
            "nvidia-modeset.ko:\n",
            "Running module version sanity check.\n",
            " - Original module\n",
            "   - No original module exists within this kernel\n",
            " - Installation\n",
            "   - Installing to /lib/modules/4.15.0-169-generic/updates/dkms/\n",
            "\n",
            "nvidia-drm.ko:\n",
            "Running module version sanity check.\n",
            " - Original module\n",
            "   - No original module exists within this kernel\n",
            " - Installation\n",
            "   - Installing to /lib/modules/4.15.0-169-generic/updates/dkms/\n",
            "\n",
            "nvidia-uvm.ko:\n",
            "Running module version sanity check.\n",
            " - Original module\n",
            "   - No original module exists within this kernel\n",
            " - Installation\n",
            "   - Installing to /lib/modules/4.15.0-169-generic/updates/dkms/\n",
            "\n",
            "nvidia-peermem.ko:\n",
            "Running module version sanity check.\n",
            " - Original module\n",
            "   - No original module exists within this kernel\n",
            " - Installation\n",
            "   - Installing to /lib/modules/4.15.0-169-generic/updates/dkms/\n",
            "\n",
            "depmod...\n",
            "\n",
            "DKMS: install completed.\n",
            "Setting up r-cran-cli (3.2.0-1cran1.1804.0) ...\n",
            "Setting up linux-headers-generic (4.15.0.169.158) ...\n",
            "Setting up binutils-x86-64-linux-gnu (2.30-21ubuntu1~18.04.7) ...\n",
            "Setting up nvidia-driver-510 (510.54-0ubuntu0.18.04.1) ...\n",
            "Setting up binutils (2.30-21ubuntu1~18.04.7) ...\n",
            "Processing triggers for libc-bin (2.27-3ubuntu1.4) ...\n",
            "/sbin/ldconfig.real: /usr/local/lib/python3.7/dist-packages/ideep4py/lib/libmkldnn.so.0 is not a symbolic link\n",
            "\n",
            "Processing triggers for systemd (237-3ubuntu10.53) ...\n",
            "Processing triggers for man-db (2.8.3-2ubuntu0.1) ...\n",
            "Processing triggers for mime-support (3.60ubuntu1) ...\n"
          ]
        }
      ]
    },
    {
      "cell_type": "code",
      "source": [
        "# !sudo apt install -y php7.0 php7.0-cli"
      ],
      "metadata": {
        "id": "darvw8J28x04"
      },
      "execution_count": null,
      "outputs": []
    },
    {
      "cell_type": "code",
      "source": [
        "!sudo apt-get install -y apache2"
      ],
      "metadata": {
        "colab": {
          "base_uri": "https://localhost:8080/"
        },
        "id": "wKPW9r7p_IsY",
        "outputId": "4fb45252-d56c-4bad-aa34-13512702cab6"
      },
      "execution_count": 7,
      "outputs": [
        {
          "output_type": "stream",
          "name": "stdout",
          "text": [
            "Reading package lists... Done\n",
            "Building dependency tree       \n",
            "Reading state information... Done\n",
            "The following packages were automatically installed and are no longer required:\n",
            "  libnvidia-common-470 linux-headers-4.15.0-167\n",
            "  linux-headers-4.15.0-167-generic\n",
            "Use 'sudo apt autoremove' to remove them.\n",
            "The following additional packages will be installed:\n",
            "  apache2-bin apache2-data apache2-utils libapr1 libaprutil1\n",
            "  libaprutil1-dbd-sqlite3 libaprutil1-ldap liblua5.2-0 ssl-cert\n",
            "Suggested packages:\n",
            "  www-browser apache2-doc apache2-suexec-pristine | apache2-suexec-custom ufw\n",
            "  openssl-blacklist\n",
            "The following NEW packages will be installed:\n",
            "  apache2 apache2-bin apache2-data apache2-utils libapr1 libaprutil1\n",
            "  libaprutil1-dbd-sqlite3 libaprutil1-ldap liblua5.2-0 ssl-cert\n",
            "0 upgraded, 10 newly installed, 0 to remove and 5 not upgraded.\n",
            "Need to get 1,729 kB of archives.\n",
            "After this operation, 6,997 kB of additional disk space will be used.\n",
            "Get:1 http://archive.ubuntu.com/ubuntu bionic/main amd64 libapr1 amd64 1.6.3-2 [90.9 kB]\n",
            "Get:2 http://archive.ubuntu.com/ubuntu bionic/main amd64 libaprutil1 amd64 1.6.1-2 [84.4 kB]\n",
            "Get:3 http://archive.ubuntu.com/ubuntu bionic/main amd64 libaprutil1-dbd-sqlite3 amd64 1.6.1-2 [10.6 kB]\n",
            "Get:4 http://archive.ubuntu.com/ubuntu bionic/main amd64 libaprutil1-ldap amd64 1.6.1-2 [8,764 B]\n",
            "Get:5 http://archive.ubuntu.com/ubuntu bionic/main amd64 liblua5.2-0 amd64 5.2.4-1.1build1 [108 kB]\n",
            "Get:6 http://archive.ubuntu.com/ubuntu bionic-updates/main amd64 apache2-bin amd64 2.4.29-1ubuntu4.21 [1,070 kB]\n",
            "Get:7 http://archive.ubuntu.com/ubuntu bionic-updates/main amd64 apache2-utils amd64 2.4.29-1ubuntu4.21 [83.8 kB]\n",
            "Get:8 http://archive.ubuntu.com/ubuntu bionic-updates/main amd64 apache2-data all 2.4.29-1ubuntu4.21 [160 kB]\n",
            "Get:9 http://archive.ubuntu.com/ubuntu bionic-updates/main amd64 apache2 amd64 2.4.29-1ubuntu4.21 [95.1 kB]\n",
            "Get:10 http://archive.ubuntu.com/ubuntu bionic/main amd64 ssl-cert all 1.0.39 [17.0 kB]\n",
            "Fetched 1,729 kB in 3s (662 kB/s)\n",
            "debconf: unable to initialize frontend: Dialog\n",
            "debconf: (No usable dialog-like program is installed, so the dialog based frontend cannot be used. at /usr/share/perl5/Debconf/FrontEnd/Dialog.pm line 76, <> line 10.)\n",
            "debconf: falling back to frontend: Readline\n",
            "debconf: unable to initialize frontend: Readline\n",
            "debconf: (This frontend requires a controlling tty.)\n",
            "debconf: falling back to frontend: Teletype\n",
            "dpkg-preconfigure: unable to re-open stdin: \n",
            "Selecting previously unselected package libapr1:amd64.\n",
            "(Reading database ... 184665 files and directories currently installed.)\n",
            "Preparing to unpack .../0-libapr1_1.6.3-2_amd64.deb ...\n",
            "Unpacking libapr1:amd64 (1.6.3-2) ...\n",
            "Selecting previously unselected package libaprutil1:amd64.\n",
            "Preparing to unpack .../1-libaprutil1_1.6.1-2_amd64.deb ...\n",
            "Unpacking libaprutil1:amd64 (1.6.1-2) ...\n",
            "Selecting previously unselected package libaprutil1-dbd-sqlite3:amd64.\n",
            "Preparing to unpack .../2-libaprutil1-dbd-sqlite3_1.6.1-2_amd64.deb ...\n",
            "Unpacking libaprutil1-dbd-sqlite3:amd64 (1.6.1-2) ...\n",
            "Selecting previously unselected package libaprutil1-ldap:amd64.\n",
            "Preparing to unpack .../3-libaprutil1-ldap_1.6.1-2_amd64.deb ...\n",
            "Unpacking libaprutil1-ldap:amd64 (1.6.1-2) ...\n",
            "Selecting previously unselected package liblua5.2-0:amd64.\n",
            "Preparing to unpack .../4-liblua5.2-0_5.2.4-1.1build1_amd64.deb ...\n",
            "Unpacking liblua5.2-0:amd64 (5.2.4-1.1build1) ...\n",
            "Selecting previously unselected package apache2-bin.\n",
            "Preparing to unpack .../5-apache2-bin_2.4.29-1ubuntu4.21_amd64.deb ...\n",
            "Unpacking apache2-bin (2.4.29-1ubuntu4.21) ...\n",
            "Selecting previously unselected package apache2-utils.\n",
            "Preparing to unpack .../6-apache2-utils_2.4.29-1ubuntu4.21_amd64.deb ...\n",
            "Unpacking apache2-utils (2.4.29-1ubuntu4.21) ...\n",
            "Selecting previously unselected package apache2-data.\n",
            "Preparing to unpack .../7-apache2-data_2.4.29-1ubuntu4.21_all.deb ...\n",
            "Unpacking apache2-data (2.4.29-1ubuntu4.21) ...\n",
            "Selecting previously unselected package apache2.\n",
            "Preparing to unpack .../8-apache2_2.4.29-1ubuntu4.21_amd64.deb ...\n",
            "Unpacking apache2 (2.4.29-1ubuntu4.21) ...\n",
            "Selecting previously unselected package ssl-cert.\n",
            "Preparing to unpack .../9-ssl-cert_1.0.39_all.deb ...\n",
            "Unpacking ssl-cert (1.0.39) ...\n",
            "Setting up libapr1:amd64 (1.6.3-2) ...\n",
            "Setting up apache2-data (2.4.29-1ubuntu4.21) ...\n",
            "Setting up ssl-cert (1.0.39) ...\n",
            "debconf: unable to initialize frontend: Dialog\n",
            "debconf: (No usable dialog-like program is installed, so the dialog based frontend cannot be used. at /usr/share/perl5/Debconf/FrontEnd/Dialog.pm line 76.)\n",
            "debconf: falling back to frontend: Readline\n",
            "Setting up libaprutil1:amd64 (1.6.1-2) ...\n",
            "Setting up liblua5.2-0:amd64 (5.2.4-1.1build1) ...\n",
            "Setting up libaprutil1-ldap:amd64 (1.6.1-2) ...\n",
            "Setting up libaprutil1-dbd-sqlite3:amd64 (1.6.1-2) ...\n",
            "Setting up apache2-utils (2.4.29-1ubuntu4.21) ...\n",
            "Setting up apache2-bin (2.4.29-1ubuntu4.21) ...\n",
            "Setting up apache2 (2.4.29-1ubuntu4.21) ...\n",
            "Enabling module mpm_event.\n",
            "Enabling module authz_core.\n",
            "Enabling module authz_host.\n",
            "Enabling module authn_core.\n",
            "Enabling module auth_basic.\n",
            "Enabling module access_compat.\n",
            "Enabling module authn_file.\n",
            "Enabling module authz_user.\n",
            "Enabling module alias.\n",
            "Enabling module dir.\n",
            "Enabling module autoindex.\n",
            "Enabling module env.\n",
            "Enabling module mime.\n",
            "Enabling module negotiation.\n",
            "Enabling module setenvif.\n",
            "Enabling module filter.\n",
            "Enabling module deflate.\n",
            "Enabling module status.\n",
            "Enabling module reqtimeout.\n",
            "Enabling conf charset.\n",
            "Enabling conf localized-error-pages.\n",
            "Enabling conf other-vhosts-access-log.\n",
            "Enabling conf security.\n",
            "Enabling conf serve-cgi-bin.\n",
            "Enabling site 000-default.\n",
            "Created symlink /etc/systemd/system/multi-user.target.wants/apache2.service → /lib/systemd/system/apache2.service.\n",
            "Created symlink /etc/systemd/system/multi-user.target.wants/apache-htcacheclean.service → /lib/systemd/system/apache-htcacheclean.service.\n",
            "invoke-rc.d: could not determine current runlevel\n",
            "invoke-rc.d: policy-rc.d denied execution of start.\n",
            "Processing triggers for systemd (237-3ubuntu10.53) ...\n",
            "Processing triggers for man-db (2.8.3-2ubuntu0.1) ...\n",
            "Processing triggers for libc-bin (2.27-3ubuntu1.4) ...\n",
            "/sbin/ldconfig.real: /usr/local/lib/python3.7/dist-packages/ideep4py/lib/libmkldnn.so.0 is not a symbolic link\n",
            "\n"
          ]
        }
      ]
    },
    {
      "cell_type": "code",
      "source": [
        "!sudo service apache2"
      ],
      "metadata": {
        "colab": {
          "base_uri": "https://localhost:8080/"
        },
        "id": "CU-cPd6Z_ka_",
        "outputId": "ca2c27e9-8e34-49e1-a731-a4ee68909592"
      },
      "execution_count": 8,
      "outputs": [
        {
          "output_type": "stream",
          "name": "stdout",
          "text": [
            "Usage: apache2 {start|stop|graceful-stop|restart|reload|force-reload}\n"
          ]
        }
      ]
    },
    {
      "cell_type": "code",
      "source": [
        ""
      ],
      "metadata": {
        "id": "rBKQPf_E_1gh"
      },
      "execution_count": null,
      "outputs": []
    },
    {
      "cell_type": "code",
      "source": [
        ""
      ],
      "metadata": {
        "id": "gE3kjtyA_1d1"
      },
      "execution_count": null,
      "outputs": []
    },
    {
      "cell_type": "code",
      "source": [
        ""
      ],
      "metadata": {
        "id": "kjl9hLzY_1ar"
      },
      "execution_count": null,
      "outputs": []
    },
    {
      "cell_type": "code",
      "source": [
        ""
      ],
      "metadata": {
        "id": "fJra1P8k_1Xy"
      },
      "execution_count": null,
      "outputs": []
    },
    {
      "cell_type": "code",
      "source": [
        ""
      ],
      "metadata": {
        "id": "nnlCFTXw_kXs"
      },
      "execution_count": null,
      "outputs": []
    },
    {
      "cell_type": "markdown",
      "source": [
        "https://openchallspec.readthedocs.io/en/dev/making_a_challenge.html\n",
        "\n",
        "\n",
        "https://jupyter-docker-stacks-es.readthedocs.io/es/latest/\n",
        "\n",
        "\n",
        "https://colab.interlegis.leg.br/planet/tag/php?page=2"
      ],
      "metadata": {
        "id": "8v7zmoUlBtvF"
      }
    },
    {
      "cell_type": "code",
      "source": [
        "!sudo apt-get install -y php5 php5-cli"
      ],
      "metadata": {
        "colab": {
          "base_uri": "https://localhost:8080/"
        },
        "id": "e5UA34eo9p-M",
        "outputId": "1718ce26-8bd8-49f2-fbfa-a502aa79c445"
      },
      "execution_count": 9,
      "outputs": [
        {
          "output_type": "stream",
          "name": "stdout",
          "text": [
            "Reading package lists... Done\n",
            "Building dependency tree       \n",
            "Reading state information... Done\n",
            "Package php5-cli is not available, but is referred to by another package.\n",
            "This may mean that the package is missing, has been obsoleted, or\n",
            "is only available from another source\n",
            "\n",
            "Package php5 is not available, but is referred to by another package.\n",
            "This may mean that the package is missing, has been obsoleted, or\n",
            "is only available from another source\n",
            "\n",
            "E: Package 'php5' has no installation candidate\n",
            "E: Package 'php5-cli' has no installation candidate\n"
          ]
        }
      ]
    },
    {
      "cell_type": "code",
      "source": [
        "!php5 --version"
      ],
      "metadata": {
        "id": "M1E5FmRz9x0S"
      },
      "execution_count": null,
      "outputs": []
    },
    {
      "cell_type": "code",
      "source": [
        "!docker run -p 8888:8888"
      ],
      "metadata": {
        "colab": {
          "base_uri": "https://localhost:8080/"
        },
        "id": "CdXrTuN5-KhT",
        "outputId": "6c48aa2a-6b70-458b-c347-ed2c9572a7f0"
      },
      "execution_count": 10,
      "outputs": [
        {
          "output_type": "stream",
          "name": "stdout",
          "text": [
            "/bin/bash: docker: command not found\n"
          ]
        }
      ]
    },
    {
      "cell_type": "markdown",
      "source": [
        "creacion de web apps\n",
        "\n",
        "\n",
        "\n",
        "https://anvil.works/learn/tutorials/google-colab-to-web-app\n",
        "\n",
        "\n",
        "\n"
      ],
      "metadata": {
        "id": "4___cckWElaX"
      }
    },
    {
      "cell_type": "code",
      "source": [
        "!pip install anvil-uplink # https://anvil.works/learn/tutorials/google-colab-to-web-app"
      ],
      "metadata": {
        "colab": {
          "base_uri": "https://localhost:8080/",
          "height": 243
        },
        "id": "iXjgFYd7CWj3",
        "outputId": "57c3a6fa-eca4-4926-b0ab-dbe2350e00af"
      },
      "execution_count": 2,
      "outputs": [
        {
          "output_type": "stream",
          "name": "stdout",
          "text": [
            "Requirement already satisfied: anvil-uplink in /usr/local/lib/python3.7/dist-packages (0.3.42)\n",
            "Requirement already satisfied: six in /usr/local/lib/python3.7/dist-packages (from anvil-uplink) (1.15.0)\n",
            "Requirement already satisfied: ws4py in /usr/local/lib/python3.7/dist-packages (from anvil-uplink) (0.5.1)\n",
            "Requirement already satisfied: future in /usr/local/lib/python3.7/dist-packages (from anvil-uplink) (0.16.0)\n",
            "Collecting argparse\n",
            "  Using cached argparse-1.4.0-py2.py3-none-any.whl (23 kB)\n",
            "Installing collected packages: argparse\n",
            "Successfully installed argparse-1.4.0\n"
          ]
        },
        {
          "output_type": "display_data",
          "data": {
            "application/vnd.colab-display-data+json": {
              "pip_warning": {
                "packages": [
                  "argparse"
                ]
              }
            }
          },
          "metadata": {}
        }
      ]
    },
    {
      "cell_type": "markdown",
      "source": [
        "iniciar sesion en https://anvil.works/login\n",
        "\n",
        "\n",
        "https://www.youtube.com/watch?v=liZThmkIwys"
      ],
      "metadata": {
        "id": "OOrYPKWGEe2b"
      }
    },
    {
      "cell_type": "code",
      "source": [
        "import anvil.server"
      ],
      "metadata": {
        "id": "ePhE8cdSDok6"
      },
      "execution_count": 1,
      "outputs": []
    },
    {
      "cell_type": "code",
      "source": [
        "anvil.server.connect('https://aeow5wciygmtj5om.anvil.app/C5KBUXEWMPHCVTAXX2FYTQ3A')"
      ],
      "metadata": {
        "colab": {
          "base_uri": "https://localhost:8080/"
        },
        "id": "cH2mmPJ3D2t5",
        "outputId": "7bb34ff5-7c0a-4d75-ed76-4e39673b87b3"
      },
      "execution_count": 14,
      "outputs": [
        {
          "output_type": "stream",
          "name": "stdout",
          "text": [
            "Disconnecting from previous connection first...\n",
            "Connecting to wss://anvil.works/uplink\n",
            "Reconnecting Anvil Uplink...\n",
            "Anvil websocket open\n",
            "Fatal error from Anvil server: Incorrect uplink key\n",
            "Anvil websocket closed (code 1000, reason=b'')\n"
          ]
        }
      ]
    },
    {
      "cell_type": "code",
      "source": [
        "import anvil.server\n",
        "\n",
        "try:\n",
        "    anvil.server.connect(\"https://aeow5wciygmtj5om.anvil.app/C5KBUXEWMPHCVTAXX2FYTQ3A\")\n",
        "    anvil.server.call(\"some_function_in_your_server\")\n",
        "except Exception as e:\n",
        "    print(\"Problem connecting: %s\" % e)\n",
        "    print(\"caught an exception, now we can handle the problem in here\")"
      ],
      "metadata": {
        "colab": {
          "base_uri": "https://localhost:8080/"
        },
        "id": "ByQiGNJqZ1Uo",
        "outputId": "d203a12f-481a-451b-d724-651c3b8420d8"
      },
      "execution_count": 16,
      "outputs": [
        {
          "output_type": "stream",
          "name": "stdout",
          "text": [
            "Disconnecting from previous connection first...\n",
            "Connecting to wss://anvil.works/uplink\n",
            "Reconnecting Anvil Uplink...\n",
            "Anvil websocket open\n",
            "Fatal error from Anvil server: Incorrect uplink key\n",
            "Anvil websocket closed (code 1000, reason=b'')\n",
            "Problem connecting: Anvil fatal error: Incorrect uplink key\n",
            "caught an exception, now we can handle the problem in here\n"
          ]
        }
      ]
    },
    {
      "cell_type": "markdown",
      "source": [
        "Despues de registrarnos en https://anvil.works/login diseñamos la página: Construimos la interfaz de usuario arrastrando y soltando componentes desde Toolbox . Comencemos colocando una tarjeta icono de tarjetaen nuestro formulario: este será un contenedor ordenado para los otros componentes. Luego agreguemos una etiqueta icono de etiquetay un cuadro de texto icono de cuadro de textoen el componente de la tarjeta:\n",
        "\n",
        "\n",
        "https://anvil.works/build#app:AEOW5WCIYGMTJ5OM\n",
        "manfredialdo5@gmail.com\n",
        "\n",
        "\n",
        "\n",
        "https://r6ngufr2o2pbypir.anvil.app/7I35S6WUIABOLQGABW6MLCYS\n",
        "\n",
        "\n",
        "\n",
        "https://R6NGUFR2O2PBYPIR.anvil.app/7I35S6WUIABOLQGABW6MLCYS\n",
        "\n",
        "\n",
        "\n",
        "\n",
        "docker https://colab.research.google.com/drive/10OinT5ZNGtdLLQ9K399jlKgNgidxUbGP\n",
        "\n",
        "https://docs.docker.com/get-started/02_our_app/\n",
        "\n",
        "\n",
        "\n"
      ],
      "metadata": {
        "id": "CENO6o-nGVeC"
      }
    },
    {
      "cell_type": "code",
      "source": [
        "!sudo apt-get update"
      ],
      "metadata": {
        "colab": {
          "base_uri": "https://localhost:8080/"
        },
        "id": "7HypLaiCD_AC",
        "outputId": "d33af718-7ba5-4182-cae8-2dd9711e03be"
      },
      "execution_count": 3,
      "outputs": [
        {
          "output_type": "stream",
          "name": "stdout",
          "text": [
            "Get:1 https://cloud.r-project.org/bin/linux/ubuntu bionic-cran40/ InRelease [3,626 B]\n",
            "Ign:2 https://developer.download.nvidia.com/compute/cuda/repos/ubuntu1804/x86_64  InRelease\n",
            "Ign:3 https://developer.download.nvidia.com/compute/machine-learning/repos/ubuntu1804/x86_64  InRelease\n",
            "Hit:4 https://developer.download.nvidia.com/compute/cuda/repos/ubuntu1804/x86_64  Release\n",
            "Hit:5 https://developer.download.nvidia.com/compute/machine-learning/repos/ubuntu1804/x86_64  Release\n",
            "Get:6 http://security.ubuntu.com/ubuntu bionic-security InRelease [88.7 kB]\n",
            "Hit:7 http://archive.ubuntu.com/ubuntu bionic InRelease\n",
            "Hit:8 http://ppa.launchpad.net/c2d4u.team/c2d4u4.0+/ubuntu bionic InRelease\n",
            "Get:11 http://archive.ubuntu.com/ubuntu bionic-updates InRelease [88.7 kB]\n",
            "Hit:12 http://ppa.launchpad.net/cran/libgit2/ubuntu bionic InRelease\n",
            "0% [11 InRelease gpgv 88.7 kB] [Waiting for headers] [Waiting for headers]Reconnecting Anvil Uplink...\n",
            "Connecting to wss://anvil.works/uplink\n",
            "Hit:13 http://ppa.launchpad.net/deadsnakes/ppa/ubuntu bionic InRelease\n",
            "Get:14 http://archive.ubuntu.com/ubuntu bionic-backports InRelease [74.6 kB]\n",
            "Hit:15 http://ppa.launchpad.net/graphics-drivers/ppa/ubuntu bionic InRelease\n",
            "Fetched 256 kB in 2s (132 kB/s)\n",
            "Anvil websocket open\n",
            "Fatal error from Anvil server: Incorrect uplink key\n",
            "Anvil websocket closed (code 1000, reason=b'')\n",
            "Reading package lists... Done\n"
          ]
        }
      ]
    },
    {
      "cell_type": "code",
      "source": [
        "!sudo apt install docker.io"
      ],
      "metadata": {
        "colab": {
          "base_uri": "https://localhost:8080/"
        },
        "id": "jpTakTerSk9q",
        "outputId": "d8ceeb29-2888-46a3-a46e-227c47afa788"
      },
      "execution_count": 4,
      "outputs": [
        {
          "output_type": "stream",
          "name": "stdout",
          "text": [
            "Reading package lists... Done\n",
            "Building dependency tree       \n",
            "Reading state information... Done\n",
            "The following packages were automatically installed and are no longer required:\n",
            "  libnvidia-common-470 linux-headers-4.15.0-167\n",
            "  linux-headers-4.15.0-167-generic\n",
            "Use 'sudo apt autoremove' to remove them.\n",
            "The following additional packages will be installed:\n",
            "  apparmor bridge-utils containerd dns-root-data dnsmasq-base iproute2\n",
            "  iptables libatm1 libip6tc0 libiptc0 libmnl0 libnetfilter-conntrack3\n",
            "  libnfnetlink0 libxtables12 netcat netcat-traditional pigz runc ubuntu-fan\n",
            "Suggested packages:\n",
            "  apparmor-profiles-extra apparmor-utils ifupdown aufs-tools btrfs-progs\n",
            "  cgroupfs-mount | cgroup-lite debootstrap docker-doc rinse zfs-fuse\n",
            "  | zfsutils iproute2-doc\n",
            "The following NEW packages will be installed:\n",
            "  apparmor bridge-utils containerd dns-root-data dnsmasq-base docker.io\n",
            "  iproute2 iptables libatm1 libip6tc0 libiptc0 libmnl0 libnetfilter-conntrack3\n",
            "  libnfnetlink0 libxtables12 netcat netcat-traditional pigz runc ubuntu-fan\n",
            "0 upgraded, 20 newly installed, 0 to remove and 5 not upgraded.\n",
            "Need to get 76.2 MB of archives.\n",
            "After this operation, 367 MB of additional disk space will be used.\n",
            "Get:1 http://archive.ubuntu.com/ubuntu bionic/main amd64 libnfnetlink0 amd64 1.0.1-3 [13.3 kB]\n",
            "Get:2 http://archive.ubuntu.com/ubuntu bionic/universe amd64 pigz amd64 2.4-1 [57.4 kB]\n",
            "Get:3 http://archive.ubuntu.com/ubuntu bionic/main amd64 libmnl0 amd64 1.0.4-2 [12.3 kB]\n",
            "Get:4 http://archive.ubuntu.com/ubuntu bionic-updates/main amd64 iproute2 amd64 4.15.0-2ubuntu1.3 [721 kB]\n",
            "Get:5 http://archive.ubuntu.com/ubuntu bionic/main amd64 libatm1 amd64 1:2.5.1-2build1 [21.9 kB]\n",
            "Get:6 http://archive.ubuntu.com/ubuntu bionic/main amd64 libxtables12 amd64 1.6.1-2ubuntu2 [27.9 kB]\n",
            "Get:7 http://archive.ubuntu.com/ubuntu bionic-updates/main amd64 apparmor amd64 2.12-4ubuntu5.1 [487 kB]\n",
            "Get:8 http://archive.ubuntu.com/ubuntu bionic/main amd64 libip6tc0 amd64 1.6.1-2ubuntu2 [19.9 kB]\n",
            "Get:9 http://archive.ubuntu.com/ubuntu bionic/main amd64 libiptc0 amd64 1.6.1-2ubuntu2 [9,308 B]\n",
            "Get:10 http://archive.ubuntu.com/ubuntu bionic/main amd64 libnetfilter-conntrack3 amd64 1.0.6-2 [37.8 kB]\n",
            "Get:11 http://archive.ubuntu.com/ubuntu bionic/main amd64 iptables amd64 1.6.1-2ubuntu2 [269 kB]\n",
            "Get:12 http://archive.ubuntu.com/ubuntu bionic/main amd64 bridge-utils amd64 1.5-15ubuntu1 [30.1 kB]\n",
            "Get:13 http://archive.ubuntu.com/ubuntu bionic-updates/universe amd64 runc amd64 1.0.1-0ubuntu2~18.04.1 [4,155 kB]\n",
            "Get:14 http://archive.ubuntu.com/ubuntu bionic-updates/universe amd64 containerd amd64 1.5.5-0ubuntu3~18.04.1 [33.0 MB]\n",
            "Get:15 http://archive.ubuntu.com/ubuntu bionic/main amd64 dns-root-data all 2018013001 [5,360 B]\n",
            "Get:16 http://archive.ubuntu.com/ubuntu bionic-updates/main amd64 dnsmasq-base amd64 2.79-1ubuntu0.5 [307 kB]\n",
            "Get:17 http://archive.ubuntu.com/ubuntu bionic-updates/universe amd64 docker.io amd64 20.10.7-0ubuntu5~18.04.3 [36.9 MB]\n",
            "65% [17 docker.io 7,103 kB/36.9 MB 19%]\u001b[0mReconnecting Anvil Uplink...\n",
            "Connecting to wss://anvil.works/uplink\n",
            "77% [17 docker.io 18.6 MB/36.9 MB 50%]                            8,435 kB/s 2s\u001b[0mAnvil websocket open\n",
            "Fatal error from Anvil server: Incorrect uplink key\n",
            "Anvil websocket closed (code 1000, reason=b'')\n",
            "Get:18 http://archive.ubuntu.com/ubuntu bionic/universe amd64 netcat-traditional amd64 1.10-41.1 [61.7 kB]\n",
            "Get:19 http://archive.ubuntu.com/ubuntu bionic/universe amd64 netcat all 1.10-41.1 [3,436 B]\n",
            "Get:20 http://archive.ubuntu.com/ubuntu bionic/main amd64 ubuntu-fan all 0.12.10 [34.7 kB]\n",
            "Fetched 76.2 MB in 8s (9,355 kB/s)\n",
            "debconf: unable to initialize frontend: Dialog\n",
            "debconf: (No usable dialog-like program is installed, so the dialog based frontend cannot be used. at /usr/share/perl5/Debconf/FrontEnd/Dialog.pm line 76, <> line 20.)\n",
            "debconf: falling back to frontend: Readline\n",
            "debconf: unable to initialize frontend: Readline\n",
            "debconf: (This frontend requires a controlling tty.)\n",
            "debconf: falling back to frontend: Teletype\n",
            "dpkg-preconfigure: unable to re-open stdin: \n",
            "Selecting previously unselected package libnfnetlink0:amd64.\n",
            "(Reading database ... 185382 files and directories currently installed.)\n",
            "Preparing to unpack .../00-libnfnetlink0_1.0.1-3_amd64.deb ...\n",
            "Unpacking libnfnetlink0:amd64 (1.0.1-3) ...\n",
            "Selecting previously unselected package pigz.\n",
            "Preparing to unpack .../01-pigz_2.4-1_amd64.deb ...\n",
            "Unpacking pigz (2.4-1) ...\n",
            "Selecting previously unselected package libmnl0:amd64.\n",
            "Preparing to unpack .../02-libmnl0_1.0.4-2_amd64.deb ...\n",
            "Unpacking libmnl0:amd64 (1.0.4-2) ...\n",
            "Selecting previously unselected package iproute2.\n",
            "Preparing to unpack .../03-iproute2_4.15.0-2ubuntu1.3_amd64.deb ...\n",
            "Unpacking iproute2 (4.15.0-2ubuntu1.3) ...\n",
            "Selecting previously unselected package libatm1:amd64.\n",
            "Preparing to unpack .../04-libatm1_1%3a2.5.1-2build1_amd64.deb ...\n",
            "Unpacking libatm1:amd64 (1:2.5.1-2build1) ...\n",
            "Selecting previously unselected package libxtables12:amd64.\n",
            "Preparing to unpack .../05-libxtables12_1.6.1-2ubuntu2_amd64.deb ...\n",
            "Unpacking libxtables12:amd64 (1.6.1-2ubuntu2) ...\n",
            "Selecting previously unselected package apparmor.\n",
            "Preparing to unpack .../06-apparmor_2.12-4ubuntu5.1_amd64.deb ...\n",
            "Unpacking apparmor (2.12-4ubuntu5.1) ...\n",
            "Selecting previously unselected package libip6tc0:amd64.\n",
            "Preparing to unpack .../07-libip6tc0_1.6.1-2ubuntu2_amd64.deb ...\n",
            "Unpacking libip6tc0:amd64 (1.6.1-2ubuntu2) ...\n",
            "Selecting previously unselected package libiptc0:amd64.\n",
            "Preparing to unpack .../08-libiptc0_1.6.1-2ubuntu2_amd64.deb ...\n",
            "Unpacking libiptc0:amd64 (1.6.1-2ubuntu2) ...\n",
            "Selecting previously unselected package libnetfilter-conntrack3:amd64.\n",
            "Preparing to unpack .../09-libnetfilter-conntrack3_1.0.6-2_amd64.deb ...\n",
            "Unpacking libnetfilter-conntrack3:amd64 (1.0.6-2) ...\n",
            "Selecting previously unselected package iptables.\n",
            "Preparing to unpack .../10-iptables_1.6.1-2ubuntu2_amd64.deb ...\n",
            "Unpacking iptables (1.6.1-2ubuntu2) ...\n",
            "Selecting previously unselected package bridge-utils.\n",
            "Preparing to unpack .../11-bridge-utils_1.5-15ubuntu1_amd64.deb ...\n",
            "Unpacking bridge-utils (1.5-15ubuntu1) ...\n",
            "Selecting previously unselected package runc.\n",
            "Preparing to unpack .../12-runc_1.0.1-0ubuntu2~18.04.1_amd64.deb ...\n",
            "Unpacking runc (1.0.1-0ubuntu2~18.04.1) ...\n",
            "Selecting previously unselected package containerd.\n",
            "Preparing to unpack .../13-containerd_1.5.5-0ubuntu3~18.04.1_amd64.deb ...\n",
            "Unpacking containerd (1.5.5-0ubuntu3~18.04.1) ...\n",
            "Selecting previously unselected package dns-root-data.\n",
            "Preparing to unpack .../14-dns-root-data_2018013001_all.deb ...\n",
            "Unpacking dns-root-data (2018013001) ...\n",
            "Selecting previously unselected package dnsmasq-base.\n",
            "Preparing to unpack .../15-dnsmasq-base_2.79-1ubuntu0.5_amd64.deb ...\n",
            "Unpacking dnsmasq-base (2.79-1ubuntu0.5) ...\n",
            "Selecting previously unselected package docker.io.\n",
            "Preparing to unpack .../16-docker.io_20.10.7-0ubuntu5~18.04.3_amd64.deb ...\n",
            "Unpacking docker.io (20.10.7-0ubuntu5~18.04.3) ...\n",
            "Reconnecting Anvil Uplink...\n",
            "Connecting to wss://anvil.works/uplink\n",
            "Anvil websocket open\n",
            "Fatal error from Anvil server: Incorrect uplink key\n",
            "Anvil websocket closed (code 1000, reason=b'')\n",
            "Selecting previously unselected package netcat-traditional.\n",
            "Preparing to unpack .../17-netcat-traditional_1.10-41.1_amd64.deb ...\n",
            "Unpacking netcat-traditional (1.10-41.1) ...\n",
            "Selecting previously unselected package netcat.\n",
            "Preparing to unpack .../18-netcat_1.10-41.1_all.deb ...\n",
            "Unpacking netcat (1.10-41.1) ...\n",
            "Selecting previously unselected package ubuntu-fan.\n",
            "Preparing to unpack .../19-ubuntu-fan_0.12.10_all.deb ...\n",
            "Unpacking ubuntu-fan (0.12.10) ...\n",
            "Setting up runc (1.0.1-0ubuntu2~18.04.1) ...\n",
            "Setting up dns-root-data (2018013001) ...\n",
            "Setting up netcat-traditional (1.10-41.1) ...\n",
            "update-alternatives: using /bin/nc.traditional to provide /bin/nc (nc) in auto mode\n",
            "Setting up libiptc0:amd64 (1.6.1-2ubuntu2) ...\n",
            "Setting up apparmor (2.12-4ubuntu5.1) ...\n",
            "debconf: unable to initialize frontend: Dialog\n",
            "debconf: (No usable dialog-like program is installed, so the dialog based frontend cannot be used. at /usr/share/perl5/Debconf/FrontEnd/Dialog.pm line 76.)\n",
            "debconf: falling back to frontend: Readline\n",
            "Created symlink /etc/systemd/system/sysinit.target.wants/apparmor.service → /lib/systemd/system/apparmor.service.\n",
            "Setting up containerd (1.5.5-0ubuntu3~18.04.1) ...\n",
            "Created symlink /etc/systemd/system/multi-user.target.wants/containerd.service → /lib/systemd/system/containerd.service.\n",
            "Setting up bridge-utils (1.5-15ubuntu1) ...\n",
            "debconf: unable to initialize frontend: Dialog\n",
            "debconf: (No usable dialog-like program is installed, so the dialog based frontend cannot be used. at /usr/share/perl5/Debconf/FrontEnd/Dialog.pm line 76.)\n",
            "debconf: falling back to frontend: Readline\n",
            "Setting up libatm1:amd64 (1:2.5.1-2build1) ...\n",
            "Setting up libxtables12:amd64 (1.6.1-2ubuntu2) ...\n",
            "Setting up netcat (1.10-41.1) ...\n",
            "Setting up libnfnetlink0:amd64 (1.0.1-3) ...\n",
            "Setting up libmnl0:amd64 (1.0.4-2) ...\n",
            "Setting up pigz (2.4-1) ...\n",
            "Setting up libip6tc0:amd64 (1.6.1-2ubuntu2) ...\n",
            "Setting up libnetfilter-conntrack3:amd64 (1.0.6-2) ...\n",
            "Setting up iproute2 (4.15.0-2ubuntu1.3) ...\n",
            "Setting up iptables (1.6.1-2ubuntu2) ...\n",
            "Setting up dnsmasq-base (2.79-1ubuntu0.5) ...\n",
            "Setting up docker.io (20.10.7-0ubuntu5~18.04.3) ...\n",
            "debconf: unable to initialize frontend: Dialog\n",
            "debconf: (No usable dialog-like program is installed, so the dialog based frontend cannot be used. at /usr/share/perl5/Debconf/FrontEnd/Dialog.pm line 76.)\n",
            "debconf: falling back to frontend: Readline\n",
            "Adding group `docker' (GID 110) ...\n",
            "Done.\n",
            "Created symlink /etc/systemd/system/multi-user.target.wants/docker.service → /lib/systemd/system/docker.service.\n",
            "Created symlink /etc/systemd/system/sockets.target.wants/docker.socket → /lib/systemd/system/docker.socket.\n",
            "invoke-rc.d: unknown initscript, /etc/init.d/docker not found.\n",
            "invoke-rc.d: could not determine current runlevel\n",
            "Setting up ubuntu-fan (0.12.10) ...\n",
            "Created symlink /etc/systemd/system/multi-user.target.wants/ubuntu-fan.service → /lib/systemd/system/ubuntu-fan.service.\n",
            "invoke-rc.d: could not determine current runlevel\n",
            "invoke-rc.d: policy-rc.d denied execution of start.\n",
            "Processing triggers for man-db (2.8.3-2ubuntu0.1) ...\n",
            "Processing triggers for dbus (1.12.2-1ubuntu1.2) ...\n",
            "Processing triggers for libc-bin (2.27-3ubuntu1.4) ...\n",
            "/sbin/ldconfig.real: /usr/local/lib/python3.7/dist-packages/ideep4py/lib/libmkldnn.so.0 is not a symbolic link\n",
            "\n",
            "Processing triggers for systemd (237-3ubuntu10.53) ...\n"
          ]
        }
      ]
    },
    {
      "cell_type": "code",
      "source": [
        "!sudo systemctl start docker"
      ],
      "metadata": {
        "colab": {
          "base_uri": "https://localhost:8080/"
        },
        "id": "newEfe3jSoha",
        "outputId": "ea696ee9-80db-4e05-cfe3-84c174df917f"
      },
      "execution_count": 5,
      "outputs": [
        {
          "output_type": "stream",
          "name": "stdout",
          "text": [
            "System has not been booted with systemd as init system (PID 1). Can't operate.\n"
          ]
        }
      ]
    },
    {
      "cell_type": "code",
      "source": [
        "!docker -v"
      ],
      "metadata": {
        "colab": {
          "base_uri": "https://localhost:8080/"
        },
        "id": "GsN5n3O9SxJy",
        "outputId": "6124c8b0-6a2b-4e77-9b0f-903193930740"
      },
      "execution_count": 6,
      "outputs": [
        {
          "output_type": "stream",
          "name": "stdout",
          "text": [
            "Docker version 20.10.7, build 20.10.7-0ubuntu5~18.04.3\n"
          ]
        }
      ]
    },
    {
      "cell_type": "code",
      "source": [
        "!docker create --help"
      ],
      "metadata": {
        "colab": {
          "base_uri": "https://localhost:8080/"
        },
        "id": "nHZcayZXTJOy",
        "outputId": "5b1f3b8c-edfe-4f10-9761-bdd5ec5b0e65"
      },
      "execution_count": 12,
      "outputs": [
        {
          "output_type": "stream",
          "name": "stdout",
          "text": [
            "\n",
            "Usage:  docker create [OPTIONS] IMAGE [COMMAND] [ARG...]\n",
            "\n",
            "Create a new container\n",
            "\n",
            "Options:\n",
            "      --add-host list                  Add a custom host-to-IP mapping (host:ip)\n",
            "  -a, --attach list                    Attach to STDIN, STDOUT or STDERR\n",
            "      --blkio-weight uint16            Block IO (relative weight), between 10 and 1000, or 0 to disable (default 0)\n",
            "      --blkio-weight-device list       Block IO weight (relative device weight) (default [])\n",
            "      --cap-add list                   Add Linux capabilities\n",
            "      --cap-drop list                  Drop Linux capabilities\n",
            "      --cgroup-parent string           Optional parent cgroup for the container\n",
            "      --cgroupns string                Cgroup namespace to use (host|private)\n",
            "                'host':    Run the container in the Docker host's cgroup namespace\n",
            "                'private': Run the container in its own private cgroup namespace\n",
            "                '':        Use the cgroup namespace as configured by the\n",
            "                           default-cgroupns-mode option on the daemon (default)\n",
            "      --cidfile string                 Write the container ID to the file\n",
            "      --cpu-period int                 Limit CPU CFS (Completely Fair Scheduler) period\n",
            "      --cpu-quota int                  Limit CPU CFS (Completely Fair Scheduler) quota\n",
            "      --cpu-rt-period int              Limit CPU real-time period in microseconds\n",
            "      --cpu-rt-runtime int             Limit CPU real-time runtime in microseconds\n",
            "  -c, --cpu-shares int                 CPU shares (relative weight)\n",
            "      --cpus decimal                   Number of CPUs\n",
            "      --cpuset-cpus string             CPUs in which to allow execution (0-3, 0,1)\n",
            "      --cpuset-mems string             MEMs in which to allow execution (0-3, 0,1)\n",
            "      --device list                    Add a host device to the container\n",
            "      --device-cgroup-rule list        Add a rule to the cgroup allowed devices list\n",
            "      --device-read-bps list           Limit read rate (bytes per second) from a device (default [])\n",
            "      --device-read-iops list          Limit read rate (IO per second) from a device (default [])\n",
            "      --device-write-bps list          Limit write rate (bytes per second) to a device (default [])\n",
            "      --device-write-iops list         Limit write rate (IO per second) to a device (default [])\n",
            "      --disable-content-trust          Skip image verification (default true)\n",
            "      --dns list                       Set custom DNS servers\n",
            "      --dns-option list                Set DNS options\n",
            "      --dns-search list                Set custom DNS search domains\n",
            "      --domainname string              Container NIS domain name\n",
            "      --entrypoint string              Overwrite the default ENTRYPOINT of the image\n",
            "  -e, --env list                       Set environment variables\n",
            "      --env-file list                  Read in a file of environment variables\n",
            "      --expose list                    Expose a port or a range of ports\n",
            "      --gpus gpu-request               GPU devices to add to the container ('all' to pass all GPUs)\n",
            "      --group-add list                 Add additional groups to join\n",
            "      --health-cmd string              Command to run to check health\n",
            "      --health-interval duration       Time between running the check (ms|s|m|h) (default 0s)\n",
            "      --health-retries int             Consecutive failures needed to report unhealthy\n",
            "      --health-start-period duration   Start period for the container to initialize before starting health-retries countdown (ms|s|m|h) (default 0s)\n",
            "      --health-timeout duration        Maximum time to allow one check to run (ms|s|m|h) (default 0s)\n",
            "      --help                           Print usage\n",
            "  -h, --hostname string                Container host name\n",
            "      --init                           Run an init inside the container that forwards signals and reaps processes\n",
            "  -i, --interactive                    Keep STDIN open even if not attached\n",
            "      --ip string                      IPv4 address (e.g., 172.30.100.104)\n",
            "      --ip6 string                     IPv6 address (e.g., 2001:db8::33)\n",
            "      --ipc string                     IPC mode to use\n",
            "      --isolation string               Container isolation technology\n",
            "      --kernel-memory bytes            Kernel memory limit\n",
            "  -l, --label list                     Set meta data on a container\n",
            "      --label-file list                Read in a line delimited file of labels\n",
            "      --link list                      Add link to another container\n",
            "      --link-local-ip list             Container IPv4/IPv6 link-local addresses\n",
            "      --log-driver string              Logging driver for the container\n",
            "      --log-opt list                   Log driver options\n",
            "      --mac-address string             Container MAC address (e.g., 92:d0:c6:0a:29:33)\n",
            "  -m, --memory bytes                   Memory limit\n",
            "      --memory-reservation bytes       Memory soft limit\n",
            "      --memory-swap bytes              Swap limit equal to memory plus swap: '-1' to enable unlimited swap\n",
            "      --memory-swappiness int          Tune container memory swappiness (0 to 100) (default -1)\n",
            "      --mount mount                    Attach a filesystem mount to the container\n",
            "      --name string                    Assign a name to the container\n",
            "      --network network                Connect a container to a network\n",
            "      --network-alias list             Add network-scoped alias for the container\n",
            "      --no-healthcheck                 Disable any container-specified HEALTHCHECK\n",
            "      --oom-kill-disable               Disable OOM Killer\n",
            "      --oom-score-adj int              Tune host's OOM preferences (-1000 to 1000)\n",
            "      --pid string                     PID namespace to use\n",
            "      --pids-limit int                 Tune container pids limit (set -1 for unlimited)\n",
            "      --platform string                Set platform if server is multi-platform capable\n",
            "      --privileged                     Give extended privileges to this container\n",
            "  -p, --publish list                   Publish a container's port(s) to the host\n",
            "  -P, --publish-all                    Publish all exposed ports to random ports\n",
            "      --pull string                    Pull image before creating (\"always\"|\"missing\"|\"never\") (default \"missing\")\n",
            "      --read-only                      Mount the container's root filesystem as read only\n",
            "      --restart string                 Restart policy to apply when a container exits (default \"no\")\n",
            "      --rm                             Automatically remove the container when it exits\n",
            "      --runtime string                 Runtime to use for this container\n",
            "      --security-opt list              Security Options\n",
            "      --shm-size bytes                 Size of /dev/shm\n",
            "      --stop-signal string             Signal to stop a container (default \"SIGTERM\")\n",
            "      --stop-timeout int               Timeout (in seconds) to stop a container\n",
            "      --storage-opt list               Storage driver options for the container\n",
            "      --sysctl map                     Sysctl options (default map[])\n",
            "      --tmpfs list                     Mount a tmpfs directory\n",
            "  -t, --tty                            Allocate a pseudo-TTY\n",
            "      --ulimit ulimit                  Ulimit options (default [])\n",
            "  -u, --user string                    Username or UID (format: <name|uid>[:<group|gid>])\n",
            "      --userns string                  User namespace to use\n",
            "      --uts string                     UTS namespace to use\n",
            "  -v, --volume list                    Bind mount a volume\n",
            "      --volume-driver string           Optional volume driver for the container\n",
            "      --volumes-from list              Mount volumes from the specified container(s)\n",
            "  -w, --workdir string                 Working directory inside the container\n",
            "Anvil websocket open\n"
          ]
        }
      ]
    },
    {
      "cell_type": "code",
      "source": [
        ""
      ],
      "metadata": {
        "id": "xseDo-zUTkQs"
      },
      "execution_count": null,
      "outputs": []
    }
  ]
}
{
  "nbformat": 4,
  "nbformat_minor": 0,
  "metadata": {
    "colab": {
      "name": "selenium.ipynb",
      "provenance": [],
      "authorship_tag": "ABX9TyP6nqvwRn+Q7gMqpZC24Ff0",
      "include_colab_link": true
    },
    "kernelspec": {
      "name": "python3",
      "display_name": "Python 3"
    },
    "language_info": {
      "name": "python"
    }
  },
  "cells": [
    {
      "cell_type": "markdown",
      "metadata": {
        "id": "view-in-github",
        "colab_type": "text"
      },
      "source": [
        "<a href=\"https://colab.research.google.com/github/xaldoxxx/curiosidades/blob/main/selenium.ipynb\" target=\"_parent\"><img src=\"https://colab.research.google.com/assets/colab-badge.svg\" alt=\"Open In Colab\"/></a>"
      ]
    },
    {
      "cell_type": "markdown",
      "source": [
        "https://www.selenium.dev/selenium/docs/api/rb/Selenium/WebDriver/Chrome/Options.html\n",
        "\n",
        "\n",
        "\n",
        "https://www.browserstack.com/guide/python-selenium-to-run-web-automation-test\n",
        "\n",
        "\n",
        "\n",
        "\n",
        "\n",
        "https://wiki.python.org/moin/WebBrowserProgramming"
      ],
      "metadata": {
        "id": "aXmq4Iss8k9U"
      }
    },
    {
      "cell_type": "code",
      "execution_count": null,
      "metadata": {
        "id": "OO8j12Lh5Anv"
      },
      "outputs": [],
      "source": [
        "!apt update\n",
        "!apt install chromium-chromedriver\n",
        "!pip install selenium"
      ]
    },
    {
      "cell_type": "code",
      "source": [
        "from selenium import webdriver"
      ],
      "metadata": {
        "id": "T6Z2zDRr5Ymp"
      },
      "execution_count": null,
      "outputs": []
    },
    {
      "cell_type": "code",
      "source": [
        "options=webdriver.ChromeOptions()"
      ],
      "metadata": {
        "id": "iNvq4iPt5YkC"
      },
      "execution_count": null,
      "outputs": []
    },
    {
      "cell_type": "code",
      "source": [
        "options.add_argument('--headless')\n",
        "options.add_argument('--no-sandbox')\n",
        "options.add_argument(\"--host-resolver-rules=MAP www.google-analytics.com 127.0.0.1\")\n",
        "options.add_argument('user-agent=Mozilla/5.0 (X11; Linux x86_64) AppleWebKit/537.36 (KHTML, like Gecko) Chrome/66.0.3359.181 Safari/537.36')\n",
        "options.add_argument('--disable-dev-shm-usage')"
      ],
      "metadata": {
        "id": "SVVj7yNi5Yha"
      },
      "execution_count": null,
      "outputs": []
    },
    {
      "cell_type": "code",
      "source": [
        "driver = webdriver.Chrome(options=options)"
      ],
      "metadata": {
        "id": "VJbv_o015Yen"
      },
      "execution_count": null,
      "outputs": []
    },
    {
      "cell_type": "code",
      "source": [
        "url = 'http://www.google.com'"
      ],
      "metadata": {
        "id": "8fdzBNBz91nd"
      },
      "execution_count": null,
      "outputs": []
    },
    {
      "cell_type": "code",
      "source": [
        "driver.get(url)"
      ],
      "metadata": {
        "id": "XAEQyRdV5YcA"
      },
      "execution_count": null,
      "outputs": []
    },
    {
      "cell_type": "code",
      "source": [
        "search_box = driver.find_element_by_xpath('/html/body/div[1]/div[3]/form/div[1]/div[1]/div[1]/div/div[2]/input')"
      ],
      "metadata": {
        "id": "R_MLRV54Gg8F",
        "outputId": "940db66c-7024-4f33-c310-d287917626f7",
        "colab": {
          "base_uri": "https://localhost:8080/"
        }
      },
      "execution_count": null,
      "outputs": [
        {
          "output_type": "stream",
          "name": "stderr",
          "text": [
            "/usr/local/lib/python3.7/dist-packages/ipykernel_launcher.py:1: DeprecationWarning: find_element_by_* commands are deprecated. Please use find_element() instead\n",
            "  \"\"\"Entry point for launching an IPython kernel.\n"
          ]
        }
      ]
    },
    {
      "cell_type": "code",
      "source": [
        "search_box.send_keys('xaldoxxx')"
      ],
      "metadata": {
        "id": "oiF5ocgELQhC"
      },
      "execution_count": null,
      "outputs": []
    },
    {
      "cell_type": "code",
      "source": [
        "driver.close()"
      ],
      "metadata": {
        "id": "1wRzkzESOYYo"
      },
      "execution_count": null,
      "outputs": []
    },
    {
      "cell_type": "code",
      "source": [
        "driver,quit()"
      ],
      "metadata": {
        "id": "YavS0Ygc5YZm"
      },
      "execution_count": null,
      "outputs": []
    },
    {
      "cell_type": "code",
      "source": [
        ""
      ],
      "metadata": {
        "id": "JSXcp2SeGTJd"
      },
      "execution_count": null,
      "outputs": []
    },
    {
      "cell_type": "code",
      "source": [
        ""
      ],
      "metadata": {
        "id": "kZs-Qdp4GTGy"
      },
      "execution_count": null,
      "outputs": []
    },
    {
      "cell_type": "code",
      "source": [
        ""
      ],
      "metadata": {
        "id": "qMMiVriLGTED"
      },
      "execution_count": null,
      "outputs": []
    },
    {
      "cell_type": "code",
      "source": [
        ""
      ],
      "metadata": {
        "id": "3GqGGJFqGTBn"
      },
      "execution_count": null,
      "outputs": []
    },
    {
      "cell_type": "code",
      "source": [
        ""
      ],
      "metadata": {
        "id": "0km-_UxNGS_B"
      },
      "execution_count": null,
      "outputs": []
    },
    {
      "cell_type": "code",
      "source": [
        ""
      ],
      "metadata": {
        "id": "_Jy3gYBwGS8v"
      },
      "execution_count": null,
      "outputs": []
    },
    {
      "cell_type": "code",
      "source": [
        ""
      ],
      "metadata": {
        "id": "vx1IZ8YSGS6k"
      },
      "execution_count": null,
      "outputs": []
    },
    {
      "cell_type": "code",
      "source": [
        ""
      ],
      "metadata": {
        "id": "zG-Ev9sFGS4A"
      },
      "execution_count": null,
      "outputs": []
    },
    {
      "cell_type": "code",
      "source": [
        ""
      ],
      "metadata": {
        "id": "Aq0CdA7vGS11"
      },
      "execution_count": null,
      "outputs": []
    },
    {
      "cell_type": "code",
      "source": [
        ""
      ],
      "metadata": {
        "id": "VHWbX1XGGSzA"
      },
      "execution_count": null,
      "outputs": []
    },
    {
      "cell_type": "code",
      "source": [
        ""
      ],
      "metadata": {
        "id": "8ZhIbreaDTkM"
      },
      "execution_count": null,
      "outputs": []
    },
    {
      "cell_type": "code",
      "source": [
        ""
      ],
      "metadata": {
        "id": "MeCEXwYfDTh3"
      },
      "execution_count": null,
      "outputs": []
    },
    {
      "cell_type": "code",
      "source": [
        ""
      ],
      "metadata": {
        "id": "C1PKo-8CDTfp"
      },
      "execution_count": null,
      "outputs": []
    },
    {
      "cell_type": "code",
      "source": [
        "!pip install selenium\n",
        "!apt-get update # actualiza maquina virtyual\n",
        "!apt install chromium-chromedriver\n",
        "\n",
        "from google.colab import auth\n",
        "auth.authenticate_user()\n",
        "\n",
        "import gspread\n",
        "from oauth2client.client import GoogleCredentials\n",
        "import time\n",
        "from datetime import datetime\n",
        "import re\n",
        "from selenium import webdriver\n",
        "from selenium.webdriver.common.action_chains import ActionChains\n",
        "import sys\n",
        "sys.path.insert(0,'/usr/lib/chromium-browser/chromedriver')\n"
      ],
      "metadata": {
        "id": "UwzPRV3gDTdE"
      },
      "execution_count": null,
      "outputs": []
    },
    {
      "cell_type": "code",
      "source": [
        "class urlNavega:\n",
        "    data = {}\n",
        "    worksheet = {}\n",
        "\n",
        "    def __init__(self,):\n",
        "        self.url = url\n",
        "        options=webdriver.ChromeOptions()\n",
        "        options.add_argument('--headless')\n",
        "        options.add_argument('--no-sandbox')\n",
        "        options.add_argument(\"--host-resolver-rules=MAP www.google-analytics.com 127.0.0.1\")\n",
        "        options.add_argument('user-agent=Mozilla/5.0 (X11; Linux x86_64) AppleWebKit/537.36 (KHTML, like Gecko) Chrome/66.0.3359.181 Safari/537.36')\n",
        "        options.add_argument('--disable-dev-shm-usage')\n",
        "        self.driver = webdriver.Chrome('chromedriver',options=options)\n",
        "        \n",
        "        now = datetime.now()\n",
        "        today = now.strftime(\"%Y-%m-%d\")\n",
        "\n",
        "        gc = gspread.authorize(GoogleCredentials.get_application_default())\n",
        "\n",
        "        # Abrir por titulo\n",
        "        sh = gc.open(\"Veterinarios\")\n",
        "\n",
        "        # Seleccionar primera hoja\n",
        "        self.worksheet = sh.get_worksheet(0)\n",
        "    def scrape(self, url):\n",
        "        try:\n",
        "            self.driver.get(url)\n",
        "            #print(self.driver.page_source)\n",
        "            time.sleep(2)\n",
        "            \n",
        "            #element = self.driver.find_element_by_xpath(\"//button[.//span[text()='Acepto']]\")\n",
        "            #element.click()\n",
        "            \n",
        "            time.sleep(3)\n",
        "                        \n",
        "            for i in range(0,20):\n",
        "                self.scroll_the_page(i)                \n",
        "                \n",
        "                place = self.driver.find_elements_by_class_name(\"place-result-container-place-link\")[i]                \n",
        "                place.click()\n",
        "                \n",
        "                time.sleep(3)\n",
        "                \n",
        "                name = self.get_name()\n",
        "                address = self.get_address()\n",
        "                phone_number = self.get_phone()\n",
        "                website = self.get_website()\n",
        "                coords = self.get_geocoder(self.driver.current_url)\n",
        "                email = \"\"\n",
        "                #if website != \"\":\n",
        "                #    email = self.get_email('http://'+website)\n",
        "                \n",
        "                print([name, address, phone_number, coords[0], coords[1], website, email])\n",
        "                \n",
        "                \n",
        "                row_index = len(self.worksheet.col_values(1)) + 1\n",
        "                self.worksheet.update_acell('A'+str(row_index), name)\n",
        "                self.worksheet.update_acell('B'+str(row_index), address)\n",
        "                self.worksheet.update_acell('C'+str(row_index), phone_number) \n",
        "                self.worksheet.update_acell('D'+str(row_index), coords[0])\n",
        "                self.worksheet.update_acell('E'+str(row_index), coords[1])\n",
        "                self.worksheet.update_acell('F'+str(row_index), website)\n",
        "                self.worksheet.update_acell('G'+str(row_index), email)\n",
        "                \n",
        "                element = self.driver.find_element_by_xpath(\"//button[contains(@class,'back-to-list')]\")\n",
        "                time.sleep(2)\n",
        "                \n",
        "                element.click()\n",
        "                time.sleep(3)\n",
        "            \n",
        "        except Exception as e:\n",
        "            print(e)\n",
        "        \n",
        "        time.sleep(10)\n",
        "        #self.driver.quit()\n",
        "\n",
        "        return(self.data)"
      ],
      "metadata": {
        "id": "xQmILtuv5YWv"
      },
      "execution_count": null,
      "outputs": []
    },
    {
      "cell_type": "code",
      "source": [
        "query = \"veterianrios murcia\"\n",
        "url = \"https://www.google.com/maps?q=\"+query.replace(\" \", \"+\")+\"&hl=es\"\n",
        "\n",
        "gmaps = ScrapearGMaps()\n",
        "print(gmaps.scrape(url))"
      ],
      "metadata": {
        "id": "Kw8QSC-qFKB5"
      },
      "execution_count": null,
      "outputs": []
    },
    {
      "cell_type": "code",
      "source": [
        ""
      ],
      "metadata": {
        "id": "t8D63mRKFJ8X"
      },
      "execution_count": null,
      "outputs": []
    }
  ]
}
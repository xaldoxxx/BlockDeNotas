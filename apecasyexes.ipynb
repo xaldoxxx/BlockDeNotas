{
  "nbformat": 4,
  "nbformat_minor": 0,
  "metadata": {
    "colab": {
      "provenance": [],
      "authorship_tag": "ABX9TyMielOi5ncDbX48+LVOQhhl",
      "include_colab_link": true
    },
    "kernelspec": {
      "name": "python3",
      "display_name": "Python 3"
    },
    "language_info": {
      "name": "python"
    }
  },
  "cells": [
    {
      "cell_type": "markdown",
      "metadata": {
        "id": "view-in-github",
        "colab_type": "text"
      },
      "source": [
        "<a href=\"https://colab.research.google.com/github/xaldoxxx/BlockDeNotas/blob/main/apecasyexes.ipynb\" target=\"_parent\"><img src=\"https://colab.research.google.com/assets/colab-badge.svg\" alt=\"Open In Colab\"/></a>"
      ]
    },
    {
      "cell_type": "markdown",
      "source": [
        "\n",
        "<h1>instalar aplicaciones android en ubuntu</h1>\n"
      ],
      "metadata": {
        "id": "9ZqiUrLY0FLV"
      }
    },
    {
      "cell_type": "code",
      "execution_count": 1,
      "metadata": {
        "colab": {
          "base_uri": "https://localhost:8080/"
        },
        "id": "s6tCobYXwb8k",
        "outputId": "44e148e1-dc13-4126-9583-9644523e9410"
      },
      "outputs": [
        {
          "output_type": "stream",
          "name": "stdout",
          "text": [
            "\u001b[33m\r0% [Working]\u001b[0m\r            \rHit:1 http://ppa.launchpad.net/c2d4u.team/c2d4u4.0+/ubuntu focal InRelease\n",
            "\u001b[33m\r0% [Connecting to archive.ubuntu.com (91.189.91.38)] [Connecting to security.ub\u001b[0m\r                                                                               \rHit:2 http://ppa.launchpad.net/cran/libgit2/ubuntu focal InRelease\n",
            "\r                                                                               \rHit:3 http://ppa.launchpad.net/deadsnakes/ppa/ubuntu focal InRelease\n",
            "\u001b[33m\r0% [Connecting to archive.ubuntu.com (91.189.91.38)] [Connecting to security.ub\u001b[0m\r                                                                               \rHit:4 http://ppa.launchpad.net/graphics-drivers/ppa/ubuntu focal InRelease\n",
            "\u001b[33m\r0% [Connecting to archive.ubuntu.com (91.189.91.38)] [Waiting for headers] [Wai\u001b[0m\r                                                                               \rGet:5 https://cloud.r-project.org/bin/linux/ubuntu focal-cran40/ InRelease [3,622 B]\n",
            "\u001b[33m\r0% [Waiting for headers] [Waiting for headers] [Connecting to ppa.launchpad.net\u001b[0m\r                                                                               \rHit:6 http://ppa.launchpad.net/ubuntugis/ppa/ubuntu focal InRelease\n",
            "\u001b[33m\r                                                                               \r0% [Waiting for headers] [Waiting for headers] [Waiting for headers]\u001b[0m\r                                                                    \rHit:7 https://developer.download.nvidia.com/compute/cuda/repos/ubuntu2004/x86_64  InRelease\n",
            "\u001b[33m\r                                                                    \r0% [Waiting for headers] [Waiting for headers]\u001b[0m\r                                              \rGet:8 http://security.ubuntu.com/ubuntu focal-security InRelease [114 kB]\n",
            "\u001b[33m\r0% [Waiting for headers] [8 InRelease 0 B/114 kB 0%]\u001b[0m\r                                                    \rHit:9 http://archive.ubuntu.com/ubuntu focal InRelease\n",
            "Get:10 http://archive.ubuntu.com/ubuntu focal-updates InRelease [114 kB]\n",
            "Get:11 http://archive.ubuntu.com/ubuntu focal-backports InRelease [108 kB]\n",
            "Get:12 http://security.ubuntu.com/ubuntu focal-security/universe amd64 Packages [1,049 kB]\n",
            "Get:13 http://archive.ubuntu.com/ubuntu focal-updates/universe amd64 Packages [1,344 kB]\n",
            "Get:14 http://security.ubuntu.com/ubuntu focal-security/restricted amd64 Packages [2,240 kB]\n",
            "Get:15 http://security.ubuntu.com/ubuntu focal-security/main amd64 Packages [2,699 kB]\n",
            "Get:16 http://archive.ubuntu.com/ubuntu focal-updates/main amd64 Packages [3,175 kB]\n",
            "Fetched 10.8 MB in 3s (3,532 kB/s)\n",
            "Reading package lists... Done\n",
            "Building dependency tree       \n",
            "Reading state information... Done\n",
            "27 packages can be upgraded. Run 'apt list --upgradable' to see them.\n",
            "Reading package lists... Done\n",
            "Building dependency tree       \n",
            "Reading state information... Done\n",
            "The following additional packages will be installed:\n",
            "  apparmor liblzo2-2 libudev1 squashfs-tools udev\n",
            "Suggested packages:\n",
            "  apparmor-profiles-extra apparmor-utils zenity | kdialog\n",
            "The following NEW packages will be installed:\n",
            "  apparmor liblzo2-2 snapd squashfs-tools udev\n",
            "The following packages will be upgraded:\n",
            "  libudev1\n",
            "1 upgraded, 5 newly installed, 0 to remove and 26 not upgraded.\n",
            "Need to get 40.0 MB of archives.\n",
            "After this operation, 183 MB of additional disk space will be used.\n",
            "Get:1 http://archive.ubuntu.com/ubuntu focal-updates/main amd64 libudev1 amd64 245.4-4ubuntu3.21 [75.9 kB]\n",
            "Get:2 http://archive.ubuntu.com/ubuntu focal-updates/main amd64 udev amd64 245.4-4ubuntu3.21 [1,366 kB]\n",
            "Get:3 http://archive.ubuntu.com/ubuntu focal-updates/main amd64 apparmor amd64 2.13.3-7ubuntu5.2 [502 kB]\n",
            "Get:4 http://archive.ubuntu.com/ubuntu focal/main amd64 liblzo2-2 amd64 2.10-2 [50.8 kB]\n",
            "Get:5 http://archive.ubuntu.com/ubuntu focal-updates/main amd64 squashfs-tools amd64 1:4.4-1ubuntu0.3 [117 kB]\n",
            "Get:6 http://archive.ubuntu.com/ubuntu focal-updates/main amd64 snapd amd64 2.58+20.04 [37.9 MB]\n",
            "Fetched 40.0 MB in 2s (19.8 MB/s)\n",
            "debconf: unable to initialize frontend: Dialog\n",
            "debconf: (No usable dialog-like program is installed, so the dialog based frontend cannot be used. at /usr/share/perl5/Debconf/FrontEnd/Dialog.pm line 76, <> line 6.)\n",
            "debconf: falling back to frontend: Readline\n",
            "debconf: unable to initialize frontend: Readline\n",
            "debconf: (This frontend requires a controlling tty.)\n",
            "debconf: falling back to frontend: Teletype\n",
            "dpkg-preconfigure: unable to re-open stdin: \n",
            "(Reading database ... 122531 files and directories currently installed.)\n",
            "Preparing to unpack .../libudev1_245.4-4ubuntu3.21_amd64.deb ...\n",
            "Unpacking libudev1:amd64 (245.4-4ubuntu3.21) over (245.4-4ubuntu3.19) ...\n",
            "Setting up libudev1:amd64 (245.4-4ubuntu3.21) ...\n",
            "Selecting previously unselected package udev.\n",
            "(Reading database ... 122531 files and directories currently installed.)\n",
            "Preparing to unpack .../udev_245.4-4ubuntu3.21_amd64.deb ...\n",
            "Unpacking udev (245.4-4ubuntu3.21) ...\n",
            "Selecting previously unselected package apparmor.\n",
            "Preparing to unpack .../apparmor_2.13.3-7ubuntu5.2_amd64.deb ...\n",
            "Unpacking apparmor (2.13.3-7ubuntu5.2) ...\n",
            "Selecting previously unselected package liblzo2-2:amd64.\n",
            "Preparing to unpack .../liblzo2-2_2.10-2_amd64.deb ...\n",
            "Unpacking liblzo2-2:amd64 (2.10-2) ...\n",
            "Selecting previously unselected package squashfs-tools.\n",
            "Preparing to unpack .../squashfs-tools_1%3a4.4-1ubuntu0.3_amd64.deb ...\n",
            "Unpacking squashfs-tools (1:4.4-1ubuntu0.3) ...\n",
            "Selecting previously unselected package snapd.\n",
            "Preparing to unpack .../snapd_2.58+20.04_amd64.deb ...\n",
            "Unpacking snapd (2.58+20.04) ...\n",
            "Setting up liblzo2-2:amd64 (2.10-2) ...\n",
            "Setting up apparmor (2.13.3-7ubuntu5.2) ...\n",
            "debconf: unable to initialize frontend: Dialog\n",
            "debconf: (No usable dialog-like program is installed, so the dialog based frontend cannot be used. at /usr/share/perl5/Debconf/FrontEnd/Dialog.pm line 76.)\n",
            "debconf: falling back to frontend: Readline\n",
            "Created symlink /etc/systemd/system/sysinit.target.wants/apparmor.service → /lib/systemd/system/apparmor.service.\n",
            "Setting up udev (245.4-4ubuntu3.21) ...\n",
            "invoke-rc.d: could not determine current runlevel\n",
            "invoke-rc.d: policy-rc.d denied execution of start.\n",
            "Setting up squashfs-tools (1:4.4-1ubuntu0.3) ...\n",
            "Setting up snapd (2.58+20.04) ...\n",
            "Created symlink /etc/systemd/system/multi-user.target.wants/snapd.aa-prompt-listener.service → /lib/systemd/system/snapd.aa-prompt-listener.service.\n",
            "Created symlink /etc/systemd/system/multi-user.target.wants/snapd.apparmor.service → /lib/systemd/system/snapd.apparmor.service.\n",
            "Created symlink /etc/systemd/system/multi-user.target.wants/snapd.autoimport.service → /lib/systemd/system/snapd.autoimport.service.\n",
            "Created symlink /etc/systemd/system/multi-user.target.wants/snapd.core-fixup.service → /lib/systemd/system/snapd.core-fixup.service.\n",
            "Created symlink /etc/systemd/system/multi-user.target.wants/snapd.recovery-chooser-trigger.service → /lib/systemd/system/snapd.recovery-chooser-trigger.service.\n",
            "Created symlink /etc/systemd/system/multi-user.target.wants/snapd.seeded.service → /lib/systemd/system/snapd.seeded.service.\n",
            "Created symlink /etc/systemd/system/cloud-final.service.wants/snapd.seeded.service → /lib/systemd/system/snapd.seeded.service.\n",
            "Created symlink /etc/systemd/system/multi-user.target.wants/snapd.service → /lib/systemd/system/snapd.service.\n",
            "Created symlink /etc/systemd/system/timers.target.wants/snapd.snap-repair.timer → /lib/systemd/system/snapd.snap-repair.timer.\n",
            "Created symlink /etc/systemd/system/sockets.target.wants/snapd.socket → /lib/systemd/system/snapd.socket.\n",
            "Created symlink /etc/systemd/system/final.target.wants/snapd.system-shutdown.service → /lib/systemd/system/snapd.system-shutdown.service.\n",
            "Processing triggers for libc-bin (2.31-0ubuntu9.9) ...\n",
            "Processing triggers for systemd (245.4-4ubuntu3.21) ...\n",
            "Processing triggers for man-db (2.9.1-1) ...\n",
            "Processing triggers for dbus (1.12.16-2ubuntu2.3) ...\n",
            "Processing triggers for mime-support (3.64ubuntu1) ...\n",
            "error: cannot communicate with server: Post http://localhost/v2/snaps/anbox: dial unix /run/snapd.socket: connect: no such file or directory\n",
            "/bin/bash: anbox: command not found\n",
            "/bin/bash: anbox.appmgr: command not found\n",
            "Reading package lists... Done\n",
            "Building dependency tree       \n",
            "Reading state information... Done\n",
            "The following additional packages will be installed:\n",
            "  android-libadb android-libbase android-libboringssl android-libcrypto-utils\n",
            "  android-libcutils android-liblog android-sdk-platform-tools-common\n",
            "The following NEW packages will be installed:\n",
            "  adb android-libadb android-libbase android-libboringssl\n",
            "  android-libcrypto-utils android-libcutils android-liblog\n",
            "  android-sdk-platform-tools-common\n",
            "0 upgraded, 8 newly installed, 0 to remove and 26 not upgraded.\n",
            "Need to get 851 kB of archives.\n",
            "After this operation, 2,680 kB of additional disk space will be used.\n",
            "Get:1 http://archive.ubuntu.com/ubuntu focal/universe amd64 android-liblog amd64 1:8.1.0+r23-5ubuntu2 [41.9 kB]\n",
            "Get:2 http://archive.ubuntu.com/ubuntu focal/universe amd64 android-libbase amd64 1:8.1.0+r23-5ubuntu2 [22.4 kB]\n",
            "Get:3 http://archive.ubuntu.com/ubuntu focal/universe amd64 android-libboringssl amd64 8.1.0+r23-2build1 [538 kB]\n",
            "Get:4 http://archive.ubuntu.com/ubuntu focal/universe amd64 android-libcrypto-utils amd64 1:8.1.0+r23-5ubuntu2 [8,324 B]\n",
            "Get:5 http://archive.ubuntu.com/ubuntu focal/universe amd64 android-libcutils amd64 1:8.1.0+r23-5ubuntu2 [22.5 kB]\n",
            "Get:6 http://archive.ubuntu.com/ubuntu focal/universe amd64 android-libadb amd64 1:8.1.0+r23-5ubuntu2 [123 kB]\n",
            "Get:7 http://archive.ubuntu.com/ubuntu focal/universe amd64 adb amd64 1:8.1.0+r23-5ubuntu2 [87.6 kB]\n",
            "Get:8 http://archive.ubuntu.com/ubuntu focal/universe amd64 android-sdk-platform-tools-common all 27.0.0+12 [6,648 B]\n",
            "Fetched 851 kB in 1s (1,073 kB/s)\n",
            "debconf: unable to initialize frontend: Dialog\n",
            "debconf: (No usable dialog-like program is installed, so the dialog based frontend cannot be used. at /usr/share/perl5/Debconf/FrontEnd/Dialog.pm line 76, <> line 8.)\n",
            "debconf: falling back to frontend: Readline\n",
            "debconf: unable to initialize frontend: Readline\n",
            "debconf: (This frontend requires a controlling tty.)\n",
            "debconf: falling back to frontend: Teletype\n",
            "dpkg-preconfigure: unable to re-open stdin: \n",
            "Selecting previously unselected package android-liblog.\n",
            "(Reading database ... 122939 files and directories currently installed.)\n",
            "Preparing to unpack .../0-android-liblog_1%3a8.1.0+r23-5ubuntu2_amd64.deb ...\n",
            "Unpacking android-liblog (1:8.1.0+r23-5ubuntu2) ...\n",
            "Selecting previously unselected package android-libbase.\n",
            "Preparing to unpack .../1-android-libbase_1%3a8.1.0+r23-5ubuntu2_amd64.deb ...\n",
            "Unpacking android-libbase (1:8.1.0+r23-5ubuntu2) ...\n",
            "Selecting previously unselected package android-libboringssl.\n",
            "Preparing to unpack .../2-android-libboringssl_8.1.0+r23-2build1_amd64.deb ...\n",
            "Unpacking android-libboringssl (8.1.0+r23-2build1) ...\n",
            "Selecting previously unselected package android-libcrypto-utils.\n",
            "Preparing to unpack .../3-android-libcrypto-utils_1%3a8.1.0+r23-5ubuntu2_amd64.deb ...\n",
            "Unpacking android-libcrypto-utils (1:8.1.0+r23-5ubuntu2) ...\n",
            "Selecting previously unselected package android-libcutils.\n",
            "Preparing to unpack .../4-android-libcutils_1%3a8.1.0+r23-5ubuntu2_amd64.deb ...\n",
            "Unpacking android-libcutils (1:8.1.0+r23-5ubuntu2) ...\n",
            "Selecting previously unselected package android-libadb.\n",
            "Preparing to unpack .../5-android-libadb_1%3a8.1.0+r23-5ubuntu2_amd64.deb ...\n",
            "Unpacking android-libadb (1:8.1.0+r23-5ubuntu2) ...\n",
            "Selecting previously unselected package adb.\n",
            "Preparing to unpack .../6-adb_1%3a8.1.0+r23-5ubuntu2_amd64.deb ...\n",
            "Unpacking adb (1:8.1.0+r23-5ubuntu2) ...\n",
            "Selecting previously unselected package android-sdk-platform-tools-common.\n",
            "Preparing to unpack .../7-android-sdk-platform-tools-common_27.0.0+12_all.deb ...\n",
            "Unpacking android-sdk-platform-tools-common (27.0.0+12) ...\n",
            "Setting up android-sdk-platform-tools-common (27.0.0+12) ...\n",
            "Setting up android-liblog (1:8.1.0+r23-5ubuntu2) ...\n",
            "Setting up android-libboringssl (8.1.0+r23-2build1) ...\n",
            "Setting up android-libcrypto-utils (1:8.1.0+r23-5ubuntu2) ...\n",
            "Setting up android-libbase (1:8.1.0+r23-5ubuntu2) ...\n",
            "Setting up android-libcutils (1:8.1.0+r23-5ubuntu2) ...\n",
            "Setting up android-libadb (1:8.1.0+r23-5ubuntu2) ...\n",
            "Setting up adb (1:8.1.0+r23-5ubuntu2) ...\n",
            "Processing triggers for man-db (2.9.1-1) ...\n",
            "Processing triggers for libc-bin (2.31-0ubuntu9.9) ...\n"
          ]
        }
      ],
      "source": [
        "# instalando aplicaciones android en linux\n",
        "!sudo apt update\n",
        "!sudo apt install snapd\n",
        "!sudo snap install --beta --devmode anbox\n",
        "!anbox session-manager\n",
        "!anbox.appmgr\n",
        "!sudo apt install adb"
      ]
    },
    {
      "cell_type": "code",
      "source": [
        "!adb install youtube.apk #instalo aplicacion, en este caso youtube"
      ],
      "metadata": {
        "colab": {
          "base_uri": "https://localhost:8080/"
        },
        "id": "h7XARN-MwmCO",
        "outputId": "afa0c2e2-60df-48f1-d609-19c4e91a7b1d"
      },
      "execution_count": 2,
      "outputs": [
        {
          "output_type": "stream",
          "name": "stdout",
          "text": [
            "* daemon not running; starting now at tcp:5037\n",
            "* daemon started successfully\n",
            "error: no devices/emulators found\n",
            "adb: error: failed to get feature set: no devices/emulators found\n",
            "- waiting for device -\n",
            "^C\n"
          ]
        }
      ]
    },
    {
      "cell_type": "code",
      "source": [
        "code = '''\n",
        "import subprocess\n",
        "\n",
        "def ejecutar_comando(comando):\n",
        "    subprocess.run(comando, shell=True)\n",
        "\n",
        "ejecutar_comando(\"sudo apt update\")\n",
        "ejecutar_comando(\"sudo apt install snapd\")\n",
        "ejecutar_comando(\"sudo snap install --beta --devmode anbox\")\n",
        "ejecutar_comando(\"anbox session-manager\")\n",
        "ejecutar_comando(\"anbox.appmgr\")\n",
        "ejecutar_comando(\"sudo apt install adb\")\n",
        "'''\n",
        "\n",
        "with open('test001.py', 'w') as file:\n",
        "    file.write(code)\n"
      ],
      "metadata": {
        "id": "GR34X2S-w5y0"
      },
      "execution_count": 3,
      "outputs": []
    },
    {
      "cell_type": "code",
      "source": [
        "!python test001.py"
      ],
      "metadata": {
        "colab": {
          "base_uri": "https://localhost:8080/"
        },
        "id": "pWK2vp2_z6fN",
        "outputId": "1c009e42-1ffb-4847-9357-fa31df5a6d00"
      },
      "execution_count": 4,
      "outputs": [
        {
          "output_type": "stream",
          "name": "stdout",
          "text": [
            "\u001b[33m\r0% [Working]\u001b[0m\r            \rHit:1 http://security.ubuntu.com/ubuntu focal-security InRelease\n",
            "\u001b[33m\r0% [Connecting to archive.ubuntu.com (91.189.91.38)] [Waiting for headers] [Con\u001b[0m\r                                                                               \rHit:2 http://ppa.launchpad.net/c2d4u.team/c2d4u4.0+/ubuntu focal InRelease\n",
            "\u001b[33m\r0% [Connecting to archive.ubuntu.com (91.189.91.38)] [Waiting for headers] [Con\u001b[0m\r                                                                               \rHit:3 https://cloud.r-project.org/bin/linux/ubuntu focal-cran40/ InRelease\n",
            "\u001b[33m\r0% [Connecting to archive.ubuntu.com (91.189.91.38)] [Waiting for headers] [Wai\u001b[0m\r                                                                               \rHit:4 http://ppa.launchpad.net/cran/libgit2/ubuntu focal InRelease\n",
            "\u001b[33m\r0% [Connecting to archive.ubuntu.com (91.189.91.38)] [Connecting to ppa.launchp\u001b[0m\r                                                                               \rHit:5 http://ppa.launchpad.net/deadsnakes/ppa/ubuntu focal InRelease\n",
            "\u001b[33m\r0% [Connecting to archive.ubuntu.com (91.189.91.38)] [Connecting to ppa.launchp\u001b[0m\r                                                                               \rHit:6 https://developer.download.nvidia.com/compute/cuda/repos/ubuntu2004/x86_64  InRelease\n",
            "\u001b[33m\r                                                                               \r0% [Connecting to archive.ubuntu.com (91.189.91.38)] [Waiting for headers]\u001b[0m\r                                                                          \rHit:7 http://ppa.launchpad.net/graphics-drivers/ppa/ubuntu focal InRelease\n",
            "\u001b[33m\r0% [Waiting for headers] [Connecting to ppa.launchpad.net (185.125.190.52)]\u001b[0m\r                                                                           \rHit:8 http://ppa.launchpad.net/ubuntugis/ppa/ubuntu focal InRelease\n",
            "Hit:9 http://archive.ubuntu.com/ubuntu focal InRelease\n",
            "Hit:10 http://archive.ubuntu.com/ubuntu focal-updates InRelease\n",
            "Hit:11 http://archive.ubuntu.com/ubuntu focal-backports InRelease\n",
            "Reading package lists... Done\n",
            "Building dependency tree       \n",
            "Reading state information... Done\n",
            "26 packages can be upgraded. Run 'apt list --upgradable' to see them.\n",
            "Reading package lists... Done\n",
            "Building dependency tree       \n",
            "Reading state information... Done\n",
            "snapd is already the newest version (2.58+20.04).\n",
            "0 upgraded, 0 newly installed, 0 to remove and 26 not upgraded.\n",
            "error: cannot communicate with server: Post http://localhost/v2/snaps/anbox: dial unix /run/snapd.socket: connect: no such file or directory\n",
            "/bin/sh: 1: anbox: not found\n",
            "/bin/sh: 1: anbox.appmgr: not found\n",
            "Reading package lists... Done\n",
            "Building dependency tree       \n",
            "Reading state information... Done\n",
            "adb is already the newest version (1:8.1.0+r23-5ubuntu2).\n",
            "0 upgraded, 0 newly installed, 0 to remove and 26 not upgraded.\n"
          ]
        }
      ]
    },
    {
      "cell_type": "code",
      "source": [
        "#!adb install youtube.apk #instalo aplicacion, en este caso youtube"
      ],
      "metadata": {
        "id": "O8ievr29z-6j"
      },
      "execution_count": 5,
      "outputs": []
    },
    {
      "cell_type": "code",
      "source": [
        "#refactorizado\n",
        "import subprocess\n",
        "\n",
        "comandos = [\n",
        "    \"sudo apt update\",\n",
        "    \"sudo apt install snapd\",\n",
        "    \"sudo snap install --beta --devmode anbox\",\n",
        "    \"anbox session-manager\",\n",
        "    \"anbox.appmgr\",\n",
        "    \"sudo apt install adb\"\n",
        "]\n",
        "\n",
        "def ejecutar_comandos(comandos):\n",
        "    for comando in comandos:\n",
        "        subprocess.run(comando, shell=True)\n",
        "\n",
        "ejecutar_comandos(comandos)\n",
        "\n",
        "with open('test002.py', 'w') as file:\n",
        "    file.write('\\n'.join(comandos))\n"
      ],
      "metadata": {
        "id": "8BzUitEH0bu2"
      },
      "execution_count": null,
      "outputs": []
    },
    {
      "cell_type": "markdown",
      "source": [
        "<h2>crear archivo ejecutable</h2>\n",
        "<h3>primero para linux<h3>\n"
      ],
      "metadata": {
        "id": "RDcGi4br0fG_"
      }
    },
    {
      "cell_type": "code",
      "source": [
        "!pip install pyinstaller"
      ],
      "metadata": {
        "colab": {
          "base_uri": "https://localhost:8080/"
        },
        "id": "mBG0Pser0t4M",
        "outputId": "9fc88445-f369-454c-dc1a-d93729bb4dd1"
      },
      "execution_count": 6,
      "outputs": [
        {
          "output_type": "stream",
          "name": "stdout",
          "text": [
            "Looking in indexes: https://pypi.org/simple, https://us-python.pkg.dev/colab-wheels/public/simple/\n",
            "Collecting pyinstaller\n",
            "  Downloading pyinstaller-5.11.0-py3-none-manylinux2014_x86_64.whl (653 kB)\n",
            "\u001b[2K     \u001b[90m━━━━━━━━━━━━━━━━━━━━━━━━━━━━━━━━━━━━━━\u001b[0m \u001b[32m653.4/653.4 kB\u001b[0m \u001b[31m21.6 MB/s\u001b[0m eta \u001b[36m0:00:00\u001b[0m\n",
            "\u001b[?25hRequirement already satisfied: setuptools>=42.0.0 in /usr/local/lib/python3.10/dist-packages (from pyinstaller) (67.7.2)\n",
            "Collecting altgraph (from pyinstaller)\n",
            "  Downloading altgraph-0.17.3-py2.py3-none-any.whl (21 kB)\n",
            "Collecting pyinstaller-hooks-contrib>=2021.4 (from pyinstaller)\n",
            "  Downloading pyinstaller_hooks_contrib-2023.3-py2.py3-none-any.whl (263 kB)\n",
            "\u001b[2K     \u001b[90m━━━━━━━━━━━━━━━━━━━━━━━━━━━━━━━━━━━━━━\u001b[0m \u001b[32m263.6/263.6 kB\u001b[0m \u001b[31m23.8 MB/s\u001b[0m eta \u001b[36m0:00:00\u001b[0m\n",
            "\u001b[?25hInstalling collected packages: altgraph, pyinstaller-hooks-contrib, pyinstaller\n",
            "Successfully installed altgraph-0.17.3 pyinstaller-5.11.0 pyinstaller-hooks-contrib-2023.3\n"
          ]
        }
      ]
    },
    {
      "cell_type": "code",
      "source": [
        "code = '''\n",
        "import random\n",
        "\n",
        "class Ingredient:\n",
        "    def __init__(self, name):\n",
        "        self.name = name\n",
        "\n",
        "    def __str__(self):\n",
        "        return self.name\n",
        "\n",
        "\n",
        "class Recipe:\n",
        "    def __init__(self, name, ingredients, steps):\n",
        "        self.name = name\n",
        "        self.ingredients = ingredients\n",
        "        self.steps = steps\n",
        "\n",
        "    def __str__(self):\n",
        "        recipe_str = f\"Receta: {self.name}\\n\"\n",
        "        recipe_str += \"Ingredientes:\\n\"\n",
        "        for ingredient in self.ingredients:\n",
        "            recipe_str += f\"- {ingredient}\\n\"\n",
        "        recipe_str += \"Pasos de preparación:\\n\"\n",
        "        for i, step in enumerate(self.steps, start=1):\n",
        "            recipe_str += f\"{i}. {step}\\n\"\n",
        "        return recipe_str\n",
        "\n",
        "\n",
        "class RecipeGenerator:\n",
        "    def __init__(self, ingredients, steps):\n",
        "        self.ingredients = ingredients\n",
        "        self.steps = steps\n",
        "\n",
        "    def generate_recipe(self):\n",
        "        name = \"Receta extravagante\"\n",
        "        random.shuffle(self.ingredients)\n",
        "        random.shuffle(self.steps)\n",
        "        recipe_ingredients = self.ingredients[:random.randint(3, 6)]\n",
        "        recipe_steps = self.steps[:random.randint(4, 8)]\n",
        "        return Recipe(name, recipe_ingredients, recipe_steps)\n",
        "\n",
        "\n",
        "ingredients_list = [\"Tofu\", \"Chocolate blanco\", \"Azafrán\", \"Jengibre\", \"Algas marinas\", \"Chile picante\", \"Mermelada de fresa\", \"Salsa de soja\", \"Queso azul\", \"Aceitunas verdes\"]\n",
        "steps_list = [\"Batir todos los ingredientes juntos\", \"Cocinar a fuego lento durante 30 minutos\", \"Enfriar en el refrigerador durante una hora\", \"Decorar con hojas de menta\", \"Servir con galletas saladas\"]\n",
        "generator = RecipeGenerator(ingredients_list, steps_list)\n",
        "recipe = generator.generate_recipe()\n",
        "print(recipe)\n",
        "'''\n",
        "\n",
        "with open('test001.py', 'w') as file:\n",
        "    file.write(code)\n"
      ],
      "metadata": {
        "id": "Fqb-jNeG1Vqd"
      },
      "execution_count": 7,
      "outputs": []
    },
    {
      "cell_type": "code",
      "source": [
        "code = '''\n",
        "print(\"hola 4\")\n",
        "'''\n",
        "\n",
        "with open('test004.py', 'w') as file:\n",
        "    file.write(code)"
      ],
      "metadata": {
        "id": "-SC8K0yM3MFh"
      },
      "execution_count": 14,
      "outputs": []
    },
    {
      "cell_type": "code",
      "source": [
        "import sys\n",
        "!{sys.executable} -m pip uninstall -y pathlib\n"
      ],
      "metadata": {
        "colab": {
          "base_uri": "https://localhost:8080/"
        },
        "id": "cjEtVLMB2pV5",
        "outputId": "89f44216-631e-4ba9-8e33-2057b5d76f6a"
      },
      "execution_count": 10,
      "outputs": [
        {
          "output_type": "stream",
          "name": "stdout",
          "text": [
            "Found existing installation: pathlib 1.0.1\n",
            "Uninstalling pathlib-1.0.1:\n",
            "  Successfully uninstalled pathlib-1.0.1\n"
          ]
        }
      ]
    },
    {
      "cell_type": "code",
      "source": [
        "!pyinstaller --onefile -w test004.py"
      ],
      "metadata": {
        "colab": {
          "base_uri": "https://localhost:8080/"
        },
        "id": "OYPMus_62X_C",
        "outputId": "dfbf8c2d-a79a-4d27-9373-34e9a282c56b"
      },
      "execution_count": 15,
      "outputs": [
        {
          "output_type": "stream",
          "name": "stdout",
          "text": [
            "266 INFO: PyInstaller: 5.11.0\n",
            "267 INFO: Python: 3.10.11\n",
            "268 INFO: Platform: Linux-5.15.107+-x86_64-with-glibc2.31\n",
            "269 INFO: wrote /content/test004.spec\n",
            "270 INFO: UPX is not available.\n",
            "271 INFO: Extending PYTHONPATH with paths\n",
            "['/content']\n",
            "pygame 2.3.0 (SDL 2.24.2, Python 3.10.11)\n",
            "Hello from the pygame community. https://www.pygame.org/contribute.html\n",
            "858 INFO: checking Analysis\n",
            "858 INFO: Building Analysis because Analysis-00.toc is non existent\n",
            "858 INFO: Initializing module dependency graph...\n",
            "861 INFO: Caching module graph hooks...\n",
            "870 INFO: Analyzing base_library.zip ...\n",
            "2088 INFO: Loading module hook 'hook-heapq.py' from '/usr/local/lib/python3.10/dist-packages/PyInstaller/hooks'...\n",
            "2197 INFO: Loading module hook 'hook-encodings.py' from '/usr/local/lib/python3.10/dist-packages/PyInstaller/hooks'...\n",
            "3864 INFO: Loading module hook 'hook-pickle.py' from '/usr/local/lib/python3.10/dist-packages/PyInstaller/hooks'...\n",
            "6549 INFO: Caching module dependency graph...\n",
            "6784 INFO: running Analysis Analysis-00.toc\n",
            "6827 INFO: Analyzing /content/test004.py\n",
            "6829 INFO: Processing module hooks...\n",
            "6850 INFO: Looking for ctypes DLLs\n",
            "6855 INFO: Analyzing run-time hooks ...\n",
            "6858 INFO: Including run-time hook '/usr/local/lib/python3.10/dist-packages/PyInstaller/hooks/rthooks/pyi_rth_inspect.py'\n",
            "6867 INFO: Looking for dynamic libraries\n",
            "7737 INFO: Looking for eggs\n",
            "7738 INFO: Python library not among binary dependencies. Performing additional search...\n",
            "7825 INFO: Using Python library /lib/x86_64-linux-gnu/libpython3.10.so.1.0\n",
            "7828 INFO: Warnings written to /content/build/test004/warn-test004.txt\n",
            "7853 INFO: Graph cross-reference written to /content/build/test004/xref-test004.html\n",
            "7868 INFO: checking PYZ\n",
            "7868 INFO: Building PYZ because PYZ-00.toc is non existent\n",
            "7868 INFO: Building PYZ (ZlibArchive) /content/build/test004/PYZ-00.pyz\n",
            "8129 INFO: Building PYZ (ZlibArchive) /content/build/test004/PYZ-00.pyz completed successfully.\n",
            "8131 INFO: checking PKG\n",
            "8131 INFO: Building PKG because PKG-00.toc is non existent\n",
            "8131 INFO: Building PKG (CArchive) test004.pkg\n",
            "10880 INFO: Building PKG (CArchive) test004.pkg completed successfully.\n",
            "10881 INFO: Bootloader /usr/local/lib/python3.10/dist-packages/PyInstaller/bootloader/Linux-64bit-intel/run\n",
            "10881 INFO: checking EXE\n",
            "10882 INFO: Building EXE because EXE-00.toc is non existent\n",
            "10882 INFO: Building EXE from EXE-00.toc\n",
            "10882 INFO: Copying bootloader EXE to /content/dist/test004\n",
            "10882 INFO: Appending PKG archive to custom ELF section in EXE\n",
            "10908 INFO: Building EXE from EXE-00.toc completed successfully.\n"
          ]
        }
      ]
    },
    {
      "cell_type": "code",
      "source": [
        "%cd /content/dist"
      ],
      "metadata": {
        "colab": {
          "base_uri": "https://localhost:8080/"
        },
        "id": "o-jT4oNo20Xy",
        "outputId": "065e25d9-43ea-4318-f8c9-11da31fa397c"
      },
      "execution_count": 16,
      "outputs": [
        {
          "output_type": "stream",
          "name": "stdout",
          "text": [
            "/content/dist\n"
          ]
        }
      ]
    },
    {
      "cell_type": "code",
      "source": [
        "%ls"
      ],
      "metadata": {
        "colab": {
          "base_uri": "https://localhost:8080/"
        },
        "id": "W7JeJtzL7ISB",
        "outputId": "3b04f420-b1a0-44e3-ddd0-32a3aa715eca"
      },
      "execution_count": 19,
      "outputs": [
        {
          "output_type": "stream",
          "name": "stdout",
          "text": [
            "\u001b[0m\u001b[01;34mtest003\u001b[0m/  \u001b[01;32mtest004\u001b[0m*\n"
          ]
        }
      ]
    },
    {
      "cell_type": "code",
      "source": [
        "!file test004*"
      ],
      "metadata": {
        "colab": {
          "base_uri": "https://localhost:8080/"
        },
        "id": "Ags4OH3V7MoB",
        "outputId": "3724494f-3b7b-4e62-ae7a-29b5479a635e"
      },
      "execution_count": 20,
      "outputs": [
        {
          "output_type": "stream",
          "name": "stdout",
          "text": [
            "test004: ELF 64-bit LSB executable, x86-64, version 1 (SYSV), dynamically linked, interpreter /lib64/ld-linux-x86-64.so.2, BuildID[sha1]=423f791d8a7fd6c80919698fa0f9e214248472f5, for GNU/Linux 2.6.32, stripped\n"
          ]
        }
      ]
    },
    {
      "cell_type": "code",
      "source": [
        "!chmod +x test004\n"
      ],
      "metadata": {
        "id": "PTUEv47W8Kub"
      },
      "execution_count": 21,
      "outputs": []
    },
    {
      "cell_type": "code",
      "source": [
        "!./test004\n"
      ],
      "metadata": {
        "colab": {
          "base_uri": "https://localhost:8080/"
        },
        "id": "OcBD0Rus8nEM",
        "outputId": "12e9994c-f921-41c6-d8af-312ebf1b710a"
      },
      "execution_count": 22,
      "outputs": [
        {
          "output_type": "stream",
          "name": "stdout",
          "text": [
            "hola 4\n"
          ]
        }
      ]
    },
    {
      "cell_type": "markdown",
      "source": [
        "<h2>crea ejecutable</h2>\n",
        "<h3> para windows desde colab no se puede</h3>\n",
        "\n",
        "\n",
        "<p>ir al sitio web de \"PyInstaller on Cloud\" en https://www.pyinstaller.io/pyinstaller-on-cloud/.</p>"
      ],
      "metadata": {
        "id": "EVvqvjfk93bw"
      }
    },
    {
      "cell_type": "code",
      "source": [],
      "metadata": {
        "id": "oBxs-4GP8rDT"
      },
      "execution_count": null,
      "outputs": []
    },
    {
      "cell_type": "code",
      "source": [],
      "metadata": {
        "id": "9RQG2ItHPIn5"
      },
      "execution_count": null,
      "outputs": []
    },
    {
      "cell_type": "code",
      "source": [],
      "metadata": {
        "id": "ggaDKl35PJbh"
      },
      "execution_count": null,
      "outputs": []
    }
  ]
}
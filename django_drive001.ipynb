{
  "nbformat": 4,
  "nbformat_minor": 0,
  "metadata": {
    "colab": {
      "name": "django_drive001.ipynb",
      "provenance": [],
      "authorship_tag": "ABX9TyMWI7v0ZdQ/K+h+2PtDWb0F",
      "include_colab_link": true
    },
    "kernelspec": {
      "name": "python3",
      "display_name": "Python 3"
    },
    "language_info": {
      "name": "python"
    }
  },
  "cells": [
    {
      "cell_type": "markdown",
      "metadata": {
        "id": "view-in-github",
        "colab_type": "text"
      },
      "source": [
        "<a href=\"https://colab.research.google.com/github/xaldoxxx/curiosidades/blob/main/django_drive001.ipynb\" target=\"_parent\"><img src=\"https://colab.research.google.com/assets/colab-badge.svg\" alt=\"Open In Colab\"/></a>"
      ]
    },
    {
      "cell_type": "markdown",
      "source": [
        "conectamos con google drive y creamos una carpeta de nombre project_conlafechadehoy dentro de la carpeta Colab Notebooks\n"
      ],
      "metadata": {
        "id": "flpxuG-JDxPZ"
      }
    },
    {
      "cell_type": "code",
      "execution_count": null,
      "metadata": {
        "colab": {
          "base_uri": "https://localhost:8080/"
        },
        "id": "FDaBWXHfBDlB",
        "outputId": "6beaa7a4-b116-466c-b843-458021a2f264"
      },
      "outputs": [
        {
          "output_type": "stream",
          "name": "stdout",
          "text": [
            "Drive already mounted at /content/drive/; to attempt to forcibly remount, call drive.mount(\"/content/drive/\", force_remount=True).\n"
          ]
        }
      ],
      "source": [
        "from google.colab import drive\n",
        "import os\n",
        "drive.mount('/content/drive/')"
      ]
    },
    {
      "cell_type": "code",
      "source": [
        "%cd /content/drive/MyDrive/Colab Notebooks"
      ],
      "metadata": {
        "colab": {
          "base_uri": "https://localhost:8080/"
        },
        "id": "RtVNN4kbBP8Y",
        "outputId": "747c0c52-780a-4fe4-c074-d9ba3030ade8"
      },
      "execution_count": null,
      "outputs": [
        {
          "output_type": "stream",
          "name": "stdout",
          "text": [
            "/content/drive/MyDrive/Colab Notebooks\n"
          ]
        }
      ]
    },
    {
      "cell_type": "code",
      "source": [
        "import datetime"
      ],
      "metadata": {
        "id": "PXlxk9ySDcxP"
      },
      "execution_count": null,
      "outputs": []
    },
    {
      "cell_type": "code",
      "source": [
        "!mkdir project_{datetime.datetime.now()}"
      ],
      "metadata": {
        "id": "TmvSYnRBBfgn"
      },
      "execution_count": null,
      "outputs": []
    },
    {
      "cell_type": "code",
      "source": [
        "%cd /content/drive/MyDrive/Colab Notebooks/project_2022-02-03"
      ],
      "metadata": {
        "colab": {
          "base_uri": "https://localhost:8080/"
        },
        "id": "26Pje0hyDhur",
        "outputId": "94a19a3d-dd0e-40ab-dc1f-00550a677c87"
      },
      "execution_count": null,
      "outputs": [
        {
          "output_type": "stream",
          "name": "stdout",
          "text": [
            "/content/drive/MyDrive/Colab Notebooks/project_2022-02-03\n"
          ]
        }
      ]
    },
    {
      "cell_type": "markdown",
      "source": [
        "https://django.readthedocs.io/en/3.2.x/intro/install.html\n",
        "\n",
        "\n",
        "https://django.readthedocs.io/en/3.2.x/\n",
        "\n",
        "\n",
        "\n",
        "https://developer.mozilla.org/es/docs/Learn/Server-side/Django/Introduction\n",
        "\n",
        "\n",
        "\n",
        "aqui puede comenzar todo... Django es un framework web de alto nivel que permite el desarrollo rápido de sitios web seguros y mantenibles. Es gratuito y de código abierto,"
      ],
      "metadata": {
        "id": "y2dbenpYEGTo"
      }
    },
    {
      "cell_type": "code",
      "source": [
        "!pip install django"
      ],
      "metadata": {
        "colab": {
          "base_uri": "https://localhost:8080/"
        },
        "id": "jEFZUWwLEEoY",
        "outputId": "effd9794-ce42-4531-b2fe-f64bbf3ab064"
      },
      "execution_count": 1,
      "outputs": [
        {
          "output_type": "stream",
          "name": "stdout",
          "text": [
            "Collecting django\n",
            "  Downloading Django-3.2.12-py3-none-any.whl (7.9 MB)\n",
            "\u001b[K     |████████████████████████████████| 7.9 MB 6.5 MB/s \n",
            "\u001b[?25hRequirement already satisfied: pytz in /usr/local/lib/python3.7/dist-packages (from django) (2018.9)\n",
            "Requirement already satisfied: sqlparse>=0.2.2 in /usr/local/lib/python3.7/dist-packages (from django) (0.4.2)\n",
            "Collecting asgiref<4,>=3.3.2\n",
            "  Downloading asgiref-3.5.0-py3-none-any.whl (22 kB)\n",
            "Requirement already satisfied: typing-extensions in /usr/local/lib/python3.7/dist-packages (from asgiref<4,>=3.3.2->django) (3.10.0.2)\n",
            "Installing collected packages: asgiref, django\n",
            "Successfully installed asgiref-3.5.0 django-3.2.12\n"
          ]
        }
      ]
    },
    {
      "cell_type": "code",
      "source": [
        "!django-admin startproject mysite"
      ],
      "metadata": {
        "id": "0AMWgW4iEElv"
      },
      "execution_count": 2,
      "outputs": []
    },
    {
      "cell_type": "code",
      "source": [
        "%cd /content/mysite/"
      ],
      "metadata": {
        "colab": {
          "base_uri": "https://localhost:8080/"
        },
        "id": "F05qx1tFEEi4",
        "outputId": "baad88bd-23d6-411e-f87a-073791fcbfbd"
      },
      "execution_count": 9,
      "outputs": [
        {
          "output_type": "stream",
          "name": "stdout",
          "text": [
            "/content/mysite\n"
          ]
        }
      ]
    },
    {
      "cell_type": "code",
      "source": [
        "!ls"
      ],
      "metadata": {
        "id": "UqE9TToYUPQZ",
        "outputId": "a7c6719b-b227-4216-ceea-d90d04d67eb7",
        "colab": {
          "base_uri": "https://localhost:8080/"
        }
      },
      "execution_count": 10,
      "outputs": [
        {
          "output_type": "stream",
          "name": "stdout",
          "text": [
            "manage.py  mysite\n"
          ]
        }
      ]
    },
    {
      "cell_type": "code",
      "source": [
        "!ls"
      ],
      "metadata": {
        "colab": {
          "base_uri": "https://localhost:8080/"
        },
        "id": "hwi2JbWrEEda",
        "outputId": "a6ada457-d478-4ca2-8d89-755ba77bdfd7"
      },
      "execution_count": 11,
      "outputs": [
        {
          "output_type": "stream",
          "name": "stdout",
          "text": [
            "manage.py  mysite\n"
          ]
        }
      ]
    },
    {
      "cell_type": "code",
      "source": [
        "from google.colab.output import eval_js\n",
        "print(eval_js(\"google.colab.kernel.proxyPort(8000)\"))"
      ],
      "metadata": {
        "colab": {
          "base_uri": "https://localhost:8080/",
          "height": 34
        },
        "id": "KtG06ycPEEaj",
        "outputId": "ac4c0c09-0e0f-4798-bf48-202d68f9fa69"
      },
      "execution_count": 12,
      "outputs": [
        {
          "output_type": "stream",
          "name": "stdout",
          "text": [
            "https://v5ep1g90z5f-496ff2e9c6d22116-8000-colab.googleusercontent.com/\n"
          ]
        }
      ]
    },
    {
      "cell_type": "code",
      "source": [
        "!python manage.py runserver"
      ],
      "metadata": {
        "id": "lwhSD9EqEEVF"
      },
      "execution_count": null,
      "outputs": []
    },
    {
      "cell_type": "code",
      "source": [
        "!git init"
      ],
      "metadata": {
        "id": "IiCnAw_0EESd",
        "outputId": "615e3815-2919-4ddc-bb76-d5dd54a7a686",
        "colab": {
          "base_uri": "https://localhost:8080/"
        }
      },
      "execution_count": 15,
      "outputs": [
        {
          "output_type": "stream",
          "name": "stdout",
          "text": [
            "Initialized empty Git repository in /content/mysite/.git/\n"
          ]
        }
      ]
    },
    {
      "cell_type": "code",
      "source": [
        "!git add ."
      ],
      "metadata": {
        "id": "AIJhoG7SEEP9"
      },
      "execution_count": 16,
      "outputs": []
    },
    {
      "cell_type": "code",
      "source": [
        "!git config --global user.email \"manfredialdo3@gmail.com\""
      ],
      "metadata": {
        "id": "Nz1kNmwzat5v"
      },
      "execution_count": 18,
      "outputs": []
    },
    {
      "cell_type": "code",
      "source": [
        "!git config --global user.name \"xaldoxxx\""
      ],
      "metadata": {
        "id": "p8lXd06taty3"
      },
      "execution_count": 19,
      "outputs": []
    },
    {
      "cell_type": "code",
      "source": [
        "!git add ."
      ],
      "metadata": {
        "id": "ZIfa_rSBEEM-"
      },
      "execution_count": 21,
      "outputs": []
    },
    {
      "cell_type": "code",
      "source": [
        "!git commit"
      ],
      "metadata": {
        "id": "ZJI6WWqcEEKH",
        "outputId": "b4dfe924-688d-422f-e675-7112f582ed59",
        "colab": {
          "base_uri": "https://localhost:8080/"
        }
      },
      "execution_count": 22,
      "outputs": [
        {
          "output_type": "stream",
          "name": "stdout",
          "text": [
            "hint: Waiting for your editor to close the file... error: unable to start editor 'editor'\n",
            "Please supply the message using either -m or -F option.\n"
          ]
        }
      ]
    },
    {
      "cell_type": "code",
      "source": [
        "!git status"
      ],
      "metadata": {
        "id": "YvMDbOO_EEHf",
        "outputId": "a762e2db-c29f-4be6-d7cb-fd5df35b4b27",
        "colab": {
          "base_uri": "https://localhost:8080/"
        }
      },
      "execution_count": 23,
      "outputs": [
        {
          "output_type": "stream",
          "name": "stdout",
          "text": [
            "On branch master\n",
            "\n",
            "No commits yet\n",
            "\n",
            "Changes to be committed:\n",
            "  (use \"git rm --cached <file>...\" to unstage)\n",
            "\n",
            "\t\u001b[32mnew file:   db.sqlite3\u001b[m\n",
            "\t\u001b[32mnew file:   manage.py\u001b[m\n",
            "\t\u001b[32mnew file:   mysite/__init__.py\u001b[m\n",
            "\t\u001b[32mnew file:   mysite/__pycache__/__init__.cpython-37.pyc\u001b[m\n",
            "\t\u001b[32mnew file:   mysite/__pycache__/settings.cpython-37.pyc\u001b[m\n",
            "\t\u001b[32mnew file:   mysite/__pycache__/urls.cpython-37.pyc\u001b[m\n",
            "\t\u001b[32mnew file:   mysite/__pycache__/wsgi.cpython-37.pyc\u001b[m\n",
            "\t\u001b[32mnew file:   mysite/asgi.py\u001b[m\n",
            "\t\u001b[32mnew file:   mysite/settings.py\u001b[m\n",
            "\t\u001b[32mnew file:   mysite/urls.py\u001b[m\n",
            "\t\u001b[32mnew file:   mysite/wsgi.py\u001b[m\n",
            "\n"
          ]
        }
      ]
    },
    {
      "cell_type": "code",
      "source": [
        "!git rm /content/mysite"
      ],
      "metadata": {
        "id": "trHcEDYYEEEt",
        "outputId": "0cade5e6-b0dd-4705-a0a9-104a3747f260",
        "colab": {
          "base_uri": "https://localhost:8080/"
        }
      },
      "execution_count": 24,
      "outputs": [
        {
          "output_type": "stream",
          "name": "stdout",
          "text": [
            "fatal: not removing '/content/mysite' recursively without -r\n"
          ]
        }
      ]
    },
    {
      "cell_type": "code",
      "source": [
        ""
      ],
      "metadata": {
        "id": "HhdsVBLrEEB0"
      },
      "execution_count": null,
      "outputs": []
    },
    {
      "cell_type": "code",
      "source": [
        ""
      ],
      "metadata": {
        "id": "_u_XCTRQED_P"
      },
      "execution_count": null,
      "outputs": []
    },
    {
      "cell_type": "code",
      "source": [
        ""
      ],
      "metadata": {
        "id": "oArm9PTHED8v"
      },
      "execution_count": null,
      "outputs": []
    },
    {
      "cell_type": "code",
      "source": [
        ""
      ],
      "metadata": {
        "id": "-YPOeBDsED6A"
      },
      "execution_count": null,
      "outputs": []
    },
    {
      "cell_type": "code",
      "source": [
        ""
      ],
      "metadata": {
        "id": "6QnT-nmqED3d"
      },
      "execution_count": null,
      "outputs": []
    },
    {
      "cell_type": "code",
      "source": [
        ""
      ],
      "metadata": {
        "id": "tV8p9ZPUED1B"
      },
      "execution_count": null,
      "outputs": []
    },
    {
      "cell_type": "code",
      "source": [
        ""
      ],
      "metadata": {
        "id": "eWYu4xVMEDyb"
      },
      "execution_count": null,
      "outputs": []
    },
    {
      "cell_type": "code",
      "source": [
        ""
      ],
      "metadata": {
        "id": "WdmVJIMDEDv3"
      },
      "execution_count": null,
      "outputs": []
    },
    {
      "cell_type": "code",
      "source": [
        ""
      ],
      "metadata": {
        "id": "lAlmPhWLEDti"
      },
      "execution_count": null,
      "outputs": []
    },
    {
      "cell_type": "code",
      "source": [
        ""
      ],
      "metadata": {
        "id": "C_g8k4q_EDq6"
      },
      "execution_count": null,
      "outputs": []
    },
    {
      "cell_type": "code",
      "source": [
        ""
      ],
      "metadata": {
        "id": "AK9mmifXEDoT"
      },
      "execution_count": null,
      "outputs": []
    },
    {
      "cell_type": "code",
      "source": [
        ""
      ],
      "metadata": {
        "id": "QV-ogBRmEDjE"
      },
      "execution_count": null,
      "outputs": []
    },
    {
      "cell_type": "code",
      "source": [
        ""
      ],
      "metadata": {
        "id": "Wh46CdiIEDgy"
      },
      "execution_count": null,
      "outputs": []
    },
    {
      "cell_type": "code",
      "source": [
        ""
      ],
      "metadata": {
        "id": "R3j_pgTQCrbZ"
      },
      "execution_count": null,
      "outputs": []
    }
  ]
}
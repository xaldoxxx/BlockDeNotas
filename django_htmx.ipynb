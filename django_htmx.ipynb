{
  "nbformat": 4,
  "nbformat_minor": 0,
  "metadata": {
    "colab": {
      "name": "django-htmx.ipynb",
      "provenance": [],
      "authorship_tag": "ABX9TyOJ8h9lLdE+Yn6f1LIfS1Al",
      "include_colab_link": true
    },
    "kernelspec": {
      "name": "python3",
      "display_name": "Python 3"
    },
    "language_info": {
      "name": "python"
    }
  },
  "cells": [
    {
      "cell_type": "markdown",
      "metadata": {
        "id": "view-in-github",
        "colab_type": "text"
      },
      "source": [
        "<a href=\"https://colab.research.google.com/github/xaldoxxx/BlockDeNotas/blob/main/django_htmx.ipynb\" target=\"_parent\"><img src=\"https://colab.research.google.com/assets/colab-badge.svg\" alt=\"Open In Colab\"/></a>"
      ]
    },
    {
      "cell_type": "code",
      "execution_count": null,
      "metadata": {
        "colab": {
          "base_uri": "https://localhost:8080/"
        },
        "id": "FDaBWXHfBDlB",
        "outputId": "6beaa7a4-b116-466c-b843-458021a2f264"
      },
      "outputs": [
        {
          "output_type": "stream",
          "name": "stdout",
          "text": [
            "Drive already mounted at /content/drive/; to attempt to forcibly remount, call drive.mount(\"/content/drive/\", force_remount=True).\n"
          ]
        }
      ],
      "source": [
        "#@title esta parte es si queremos montar todo al drive\n",
        "from google.colab import drive\n",
        "import os\n",
        "drive.mount('/content/drive/')"
      ]
    },
    {
      "cell_type": "code",
      "source": [
        "%cd /content/drive/MyDrive/Colab Notebooks"
      ],
      "metadata": {
        "colab": {
          "base_uri": "https://localhost:8080/"
        },
        "id": "RtVNN4kbBP8Y",
        "outputId": "747c0c52-780a-4fe4-c074-d9ba3030ade8"
      },
      "execution_count": null,
      "outputs": [
        {
          "output_type": "stream",
          "name": "stdout",
          "text": [
            "/content/drive/MyDrive/Colab Notebooks\n"
          ]
        }
      ]
    },
    {
      "cell_type": "code",
      "source": [
        "import datetime"
      ],
      "metadata": {
        "id": "PXlxk9ySDcxP"
      },
      "execution_count": null,
      "outputs": []
    },
    {
      "cell_type": "code",
      "source": [
        "!mkdir project_{datetime.datetime.now()}"
      ],
      "metadata": {
        "id": "TmvSYnRBBfgn"
      },
      "execution_count": null,
      "outputs": []
    },
    {
      "cell_type": "code",
      "source": [
        "%cd /content/drive/MyDrive/Colab Notebooks/project_2022-02-03"
      ],
      "metadata": {
        "colab": {
          "base_uri": "https://localhost:8080/"
        },
        "id": "26Pje0hyDhur",
        "outputId": "94a19a3d-dd0e-40ab-dc1f-00550a677c87"
      },
      "execution_count": null,
      "outputs": [
        {
          "output_type": "stream",
          "name": "stdout",
          "text": [
            "/content/drive/MyDrive/Colab Notebooks/project_2022-02-03\n"
          ]
        }
      ]
    },
    {
      "cell_type": "code",
      "source": [
        "#@title empieza django!\n"
      ],
      "metadata": {
        "id": "g4z1VwGhQ0RR"
      },
      "execution_count": null,
      "outputs": []
    },
    {
      "cell_type": "markdown",
      "source": [
        "https://django.readthedocs.io/en/3.2.x/intro/install.html\n",
        "\n",
        "\n",
        "https://django.readthedocs.io/en/3.2.x/\n",
        "\n",
        "\n",
        "\n",
        "https://developer.mozilla.org/es/docs/Learn/Server-side/Django/Introduction\n",
        "\n",
        "\n",
        "\n",
        "aqui puede comenzar todo... Django es un framework web de alto nivel que permite el desarrollo rápido de sitios web seguros y mantenibles. Es gratuito y de código abierto,"
      ],
      "metadata": {
        "id": "y2dbenpYEGTo"
      }
    },
    {
      "cell_type": "code",
      "source": [
        "# queria probar django con htmx"
      ],
      "metadata": {
        "id": "H7tnYvqrPZET"
      },
      "execution_count": null,
      "outputs": []
    },
    {
      "cell_type": "code",
      "source": [
        ""
      ],
      "metadata": {
        "id": "YXQcjlfCPZCB"
      },
      "execution_count": null,
      "outputs": []
    },
    {
      "cell_type": "markdown",
      "source": [
        "https://htmx.org/docs/\n",
        "\n",
        "\n",
        "https://htmx.org/\n",
        "\n",
        "\n",
        "\n",
        "\n",
        "https://coffeebytes.dev/django-y-htmx-web-apps-modernas-sin-escribir-js/\n",
        "\n",
        "\n"
      ],
      "metadata": {
        "id": "4WAG81VKPZp3"
      }
    },
    {
      "cell_type": "code",
      "source": [
        "!pip install django-htmx"
      ],
      "metadata": {
        "colab": {
          "base_uri": "https://localhost:8080/"
        },
        "id": "jEFZUWwLEEoY",
        "outputId": "2fb93e28-8c9c-4b77-ab03-e118be7a3ae4"
      },
      "execution_count": 1,
      "outputs": [
        {
          "output_type": "stream",
          "name": "stdout",
          "text": [
            "Collecting django-htmx\n",
            "  Downloading django_htmx-1.9.0-py3-none-any.whl (6.2 kB)\n",
            "Collecting Django>=2.2\n",
            "  Downloading Django-3.2.12-py3-none-any.whl (7.9 MB)\n",
            "\u001b[K     |████████████████████████████████| 7.9 MB 8.0 MB/s \n",
            "\u001b[?25hRequirement already satisfied: pytz in /usr/local/lib/python3.7/dist-packages (from Django>=2.2->django-htmx) (2018.9)\n",
            "Collecting asgiref<4,>=3.3.2\n",
            "  Downloading asgiref-3.5.0-py3-none-any.whl (22 kB)\n",
            "Requirement already satisfied: sqlparse>=0.2.2 in /usr/local/lib/python3.7/dist-packages (from Django>=2.2->django-htmx) (0.4.2)\n",
            "Requirement already satisfied: typing-extensions in /usr/local/lib/python3.7/dist-packages (from asgiref<4,>=3.3.2->Django>=2.2->django-htmx) (3.10.0.2)\n",
            "Installing collected packages: asgiref, Django, django-htmx\n",
            "Successfully installed Django-3.2.12 asgiref-3.5.0 django-htmx-1.9.0\n"
          ]
        }
      ]
    },
    {
      "cell_type": "code",
      "source": [
        "!npm install htmx.org --save #htmx js"
      ],
      "metadata": {
        "id": "QZrtjxpzWodA"
      },
      "execution_count": null,
      "outputs": []
    },
    {
      "cell_type": "code",
      "source": [
        "!npm install"
      ],
      "metadata": {
        "colab": {
          "base_uri": "https://localhost:8080/"
        },
        "id": "ssDYu-hvWcHo",
        "outputId": "c1bd8d49-c48d-419c-e527-28cba5013efc"
      },
      "execution_count": 21,
      "outputs": [
        {
          "output_type": "stream",
          "name": "stdout",
          "text": [
            "\u001b[?25l[\u001b[90m..................\u001b[0m] | rollbackFailedOptional: \u001b[34;40mverb\u001b[0m \u001b[35mnpm-session\u001b[0m 1995eb1e493c21c\u001b[0m\u001b[K\r[\u001b[7m      \u001b[27m\u001b[90m............\u001b[0m] - diffTrees: \u001b[7msill\u001b[0m \u001b[35minstall\u001b[0m generateActionsToTake\u001b[0m\u001b[K\r[\u001b[7m        \u001b[27m\u001b[90m..........\u001b[0m] - prepare:content: \u001b[32minfo\u001b[0m \u001b[35mlifecycle\u001b[0m undefined~postinstall: u\u001b[0m\u001b[K\r\r\u001b[K\u001b[?25h\u001b[37;40mnpm\u001b[0m \u001b[0m\u001b[30;43mWARN\u001b[0m \u001b[0m\u001b[35msaveError\u001b[0m ENOENT: no such file or directory, open '/content/package.json'\n",
            "\u001b[0m\u001b[37;40mnpm\u001b[0m \u001b[0m\u001b[30;43mWARN\u001b[0m \u001b[0m\u001b[35menoent\u001b[0m ENOENT: no such file or directory, open '/content/package.json'\n",
            "\u001b[0m\u001b[37;40mnpm\u001b[0m \u001b[0m\u001b[30;43mWARN\u001b[0m\u001b[35m\u001b[0m content No description\n",
            "\u001b[0m\u001b[37;40mnpm\u001b[0m \u001b[0m\u001b[30;43mWARN\u001b[0m\u001b[35m\u001b[0m content No repository field.\n",
            "\u001b[0m\u001b[37;40mnpm\u001b[0m \u001b[0m\u001b[30;43mWARN\u001b[0m\u001b[35m\u001b[0m content No README data\n",
            "\u001b[0m\u001b[37;40mnpm\u001b[0m \u001b[0m\u001b[30;43mWARN\u001b[0m\u001b[35m\u001b[0m content No license field.\n",
            "\u001b[0m\n",
            "\u001b[K\u001b[?25haudited 1 package in 0.248s\n",
            "found \u001b[92m0\u001b[0m vulnerabilities\n",
            "\n",
            "\n",
            "\u001b[33m\u001b[39m\n",
            "\u001b[33m   ╭───────────────────────────────────────────────────────────────╮\u001b[39m\n",
            "   \u001b[33m│\u001b[39m                                                               \u001b[33m│\u001b[39m\n",
            "   \u001b[33m│\u001b[39m      New \u001b[31mmajor\u001b[39m version of npm available! \u001b[31m6.14.8\u001b[39m → \u001b[32m8.5.2\u001b[39m       \u001b[33m│\u001b[39m\n",
            "   \u001b[33m│\u001b[39m   \u001b[33mChangelog:\u001b[39m \u001b[36mhttps://github.com/npm/cli/releases/tag/v8.5.2\u001b[39m   \u001b[33m│\u001b[39m\n",
            "   \u001b[33m│\u001b[39m               Run \u001b[32mnpm install -g npm\u001b[39m to update!               \u001b[33m│\u001b[39m\n",
            "   \u001b[33m│\u001b[39m                                                               \u001b[33m│\u001b[39m\n",
            "\u001b[33m   ╰───────────────────────────────────────────────────────────────╯\u001b[39m\n",
            "\u001b[33m\u001b[39m\n"
          ]
        }
      ]
    },
    {
      "cell_type": "code",
      "source": [
        "!python3 -m http.server"
      ],
      "metadata": {
        "colab": {
          "base_uri": "https://localhost:8080/"
        },
        "id": "6u_uhWr-WcEw",
        "outputId": "dc0f7b5a-0ffb-473d-8c19-2b201ae9e6cd"
      },
      "execution_count": 22,
      "outputs": [
        {
          "output_type": "stream",
          "name": "stdout",
          "text": [
            "Serving HTTP on 0.0.0.0 port 8000 (http://0.0.0.0:8000/) ...\n",
            "\n",
            "Keyboard interrupt received, exiting.\n"
          ]
        }
      ]
    },
    {
      "cell_type": "code",
      "source": [
        "!django-admin startproject xaldoxxx"
      ],
      "metadata": {
        "id": "0AMWgW4iEElv"
      },
      "execution_count": 3,
      "outputs": []
    },
    {
      "cell_type": "code",
      "source": [
        "%cd /content/xaldoxxx/"
      ],
      "metadata": {
        "colab": {
          "base_uri": "https://localhost:8080/"
        },
        "id": "F05qx1tFEEi4",
        "outputId": "cce3e9d3-92b2-467f-8689-802c50762554"
      },
      "execution_count": 13,
      "outputs": [
        {
          "output_type": "stream",
          "name": "stdout",
          "text": [
            "/content/xaldoxxx\n"
          ]
        }
      ]
    },
    {
      "cell_type": "markdown",
      "source": [
        "En /content/xaldoxxx/xaldoxxx/settings.py\n",
        "\n",
        "        ALLOWED_HOSTS = ['colab.research.google.com']\n",
        "        INSTALLED_APPS = ['xaldoxxx',]"
      ],
      "metadata": {
        "id": "nHhnYJHqSbsE"
      }
    },
    {
      "cell_type": "code",
      "source": [
        "!ls"
      ],
      "metadata": {
        "id": "UqE9TToYUPQZ",
        "outputId": "3d93659f-f34b-404e-ba1e-c78615d8f57a",
        "colab": {
          "base_uri": "https://localhost:8080/"
        }
      },
      "execution_count": 20,
      "outputs": [
        {
          "output_type": "stream",
          "name": "stdout",
          "text": [
            "db.sqlite3  manage.py  xaldoxxx\n"
          ]
        }
      ]
    },
    {
      "cell_type": "code",
      "source": [
        "from google.colab.output import eval_js\n",
        "print(eval_js(\"google.colab.kernel.proxyPort(8000)\"))"
      ],
      "metadata": {
        "colab": {
          "base_uri": "https://localhost:8080/",
          "height": 34
        },
        "id": "KtG06ycPEEaj",
        "outputId": "d9b51b21-75a2-4f95-d1e4-877060e87a17"
      },
      "execution_count": 11,
      "outputs": [
        {
          "output_type": "stream",
          "name": "stdout",
          "text": [
            "https://ftdqhi6ouza-496ff2e9c6d22116-8000-colab.googleusercontent.com/\n"
          ]
        }
      ]
    },
    {
      "cell_type": "code",
      "source": [
        "!python manage.py runserver 8000"
      ],
      "metadata": {
        "id": "_sq2f4XIVIPA"
      },
      "execution_count": null,
      "outputs": []
    },
    {
      "cell_type": "code",
      "source": [
        "!python manage.py runserver"
      ],
      "metadata": {
        "id": "lwhSD9EqEEVF",
        "colab": {
          "base_uri": "https://localhost:8080/"
        },
        "outputId": "408115f7-609a-430d-9067-8f603f1019f8"
      },
      "execution_count": 19,
      "outputs": [
        {
          "output_type": "stream",
          "name": "stdout",
          "text": [
            "Watching for file changes with StatReloader\n",
            "Performing system checks...\n",
            "\n",
            "System check identified no issues (0 silenced).\n",
            "\u001b[31m\n",
            "You have 18 unapplied migration(s). Your project may not work properly until you apply the migrations for app(s): admin, auth, contenttypes, sessions.\u001b[0m\n",
            "\u001b[31mRun 'python manage.py migrate' to apply them.\u001b[0m\n",
            "March 03, 2022 - 05:49:53\n",
            "Django version 3.2.12, using settings 'xaldoxxx.settings'\n",
            "Starting development server at http://127.0.0.1:8000/\n",
            "Quit the server with CONTROL-C.\n"
          ]
        }
      ]
    },
    {
      "cell_type": "code",
      "source": [
        ""
      ],
      "metadata": {
        "id": "Jo_wKLsLT3hz"
      },
      "execution_count": null,
      "outputs": []
    },
    {
      "cell_type": "code",
      "source": [
        "!git init"
      ],
      "metadata": {
        "id": "IiCnAw_0EESd",
        "outputId": "615e3815-2919-4ddc-bb76-d5dd54a7a686",
        "colab": {
          "base_uri": "https://localhost:8080/"
        }
      },
      "execution_count": null,
      "outputs": [
        {
          "output_type": "stream",
          "name": "stdout",
          "text": [
            "Initialized empty Git repository in /content/mysite/.git/\n"
          ]
        }
      ]
    },
    {
      "cell_type": "code",
      "source": [
        "!git add ."
      ],
      "metadata": {
        "id": "AIJhoG7SEEP9"
      },
      "execution_count": null,
      "outputs": []
    },
    {
      "cell_type": "code",
      "source": [
        "!git config --global user.email \"manfredialdo3@gmail.com\""
      ],
      "metadata": {
        "id": "Nz1kNmwzat5v"
      },
      "execution_count": null,
      "outputs": []
    },
    {
      "cell_type": "code",
      "source": [
        "!git config --global user.name \"xaldoxxx\""
      ],
      "metadata": {
        "id": "p8lXd06taty3"
      },
      "execution_count": null,
      "outputs": []
    },
    {
      "cell_type": "code",
      "source": [
        "!git add ."
      ],
      "metadata": {
        "id": "ZIfa_rSBEEM-"
      },
      "execution_count": null,
      "outputs": []
    },
    {
      "cell_type": "code",
      "source": [
        "!git commit"
      ],
      "metadata": {
        "id": "ZJI6WWqcEEKH",
        "outputId": "b4dfe924-688d-422f-e675-7112f582ed59",
        "colab": {
          "base_uri": "https://localhost:8080/"
        }
      },
      "execution_count": null,
      "outputs": [
        {
          "output_type": "stream",
          "name": "stdout",
          "text": [
            "hint: Waiting for your editor to close the file... error: unable to start editor 'editor'\n",
            "Please supply the message using either -m or -F option.\n"
          ]
        }
      ]
    },
    {
      "cell_type": "code",
      "source": [
        "!git status"
      ],
      "metadata": {
        "id": "YvMDbOO_EEHf",
        "outputId": "a762e2db-c29f-4be6-d7cb-fd5df35b4b27",
        "colab": {
          "base_uri": "https://localhost:8080/"
        }
      },
      "execution_count": null,
      "outputs": [
        {
          "output_type": "stream",
          "name": "stdout",
          "text": [
            "On branch master\n",
            "\n",
            "No commits yet\n",
            "\n",
            "Changes to be committed:\n",
            "  (use \"git rm --cached <file>...\" to unstage)\n",
            "\n",
            "\t\u001b[32mnew file:   db.sqlite3\u001b[m\n",
            "\t\u001b[32mnew file:   manage.py\u001b[m\n",
            "\t\u001b[32mnew file:   mysite/__init__.py\u001b[m\n",
            "\t\u001b[32mnew file:   mysite/__pycache__/__init__.cpython-37.pyc\u001b[m\n",
            "\t\u001b[32mnew file:   mysite/__pycache__/settings.cpython-37.pyc\u001b[m\n",
            "\t\u001b[32mnew file:   mysite/__pycache__/urls.cpython-37.pyc\u001b[m\n",
            "\t\u001b[32mnew file:   mysite/__pycache__/wsgi.cpython-37.pyc\u001b[m\n",
            "\t\u001b[32mnew file:   mysite/asgi.py\u001b[m\n",
            "\t\u001b[32mnew file:   mysite/settings.py\u001b[m\n",
            "\t\u001b[32mnew file:   mysite/urls.py\u001b[m\n",
            "\t\u001b[32mnew file:   mysite/wsgi.py\u001b[m\n",
            "\n"
          ]
        }
      ]
    },
    {
      "cell_type": "code",
      "source": [
        "!git rm /content/mysite"
      ],
      "metadata": {
        "id": "trHcEDYYEEEt",
        "outputId": "0cade5e6-b0dd-4705-a0a9-104a3747f260",
        "colab": {
          "base_uri": "https://localhost:8080/"
        }
      },
      "execution_count": null,
      "outputs": [
        {
          "output_type": "stream",
          "name": "stdout",
          "text": [
            "fatal: not removing '/content/mysite' recursively without -r\n"
          ]
        }
      ]
    },
    {
      "cell_type": "code",
      "source": [
        ""
      ],
      "metadata": {
        "id": "R3j_pgTQCrbZ"
      },
      "execution_count": null,
      "outputs": []
    },
    {
      "cell_type": "code",
      "source": [
        ""
      ],
      "metadata": {
        "id": "8gg8Zh2EW0U8"
      },
      "execution_count": null,
      "outputs": []
    },
    {
      "cell_type": "code",
      "source": [
        ""
      ],
      "metadata": {
        "id": "StX4_DXRW0SD"
      },
      "execution_count": null,
      "outputs": []
    },
    {
      "cell_type": "code",
      "source": [
        ""
      ],
      "metadata": {
        "id": "f2ZQC8s1W0PG"
      },
      "execution_count": null,
      "outputs": []
    },
    {
      "cell_type": "code",
      "source": [
        ""
      ],
      "metadata": {
        "id": "kHM2ycJ0W0Mo"
      },
      "execution_count": null,
      "outputs": []
    },
    {
      "cell_type": "code",
      "source": [
        ""
      ],
      "metadata": {
        "id": "srkwLD5CW0KS"
      },
      "execution_count": null,
      "outputs": []
    },
    {
      "cell_type": "code",
      "source": [
        ""
      ],
      "metadata": {
        "id": "yjNCljaVW0Hw"
      },
      "execution_count": null,
      "outputs": []
    },
    {
      "cell_type": "code",
      "source": [
        ""
      ],
      "metadata": {
        "id": "qrGHmt-uW0FJ"
      },
      "execution_count": null,
      "outputs": []
    },
    {
      "cell_type": "code",
      "source": [
        ""
      ],
      "metadata": {
        "id": "0AcHdrCRW0C-"
      },
      "execution_count": null,
      "outputs": []
    },
    {
      "cell_type": "code",
      "source": [
        ""
      ],
      "metadata": {
        "id": "pItmb3f2W0Ab"
      },
      "execution_count": null,
      "outputs": []
    },
    {
      "cell_type": "code",
      "source": [
        ""
      ],
      "metadata": {
        "id": "mvQUBhk_Wz9U"
      },
      "execution_count": null,
      "outputs": []
    }
  ]
}
{
  "nbformat": 4,
  "nbformat_minor": 0,
  "metadata": {
    "colab": {
      "name": "venv.ipynb",
      "provenance": [],
      "authorship_tag": "ABX9TyPiZIeNL5/NqP4HsxtqkqjM",
      "include_colab_link": true
    },
    "kernelspec": {
      "name": "python3",
      "display_name": "Python 3"
    },
    "language_info": {
      "name": "python"
    }
  },
  "cells": [
    {
      "cell_type": "markdown",
      "metadata": {
        "id": "view-in-github",
        "colab_type": "text"
      },
      "source": [
        "<a href=\"https://colab.research.google.com/github/xaldoxxx/curiosidades/blob/main/venv.ipynb\" target=\"_parent\"><img src=\"https://colab.research.google.com/assets/colab-badge.svg\" alt=\"Open In Colab\"/></a>"
      ]
    },
    {
      "cell_type": "code",
      "source": [
        "!sudo apt-get update"
      ],
      "metadata": {
        "id": "pTbO7pk4mmNA"
      },
      "execution_count": null,
      "outputs": []
    },
    {
      "cell_type": "code",
      "source": [
        "!sudo apt-get upgrade"
      ],
      "metadata": {
        "id": "xxqj_8nqnD1q"
      },
      "execution_count": null,
      "outputs": []
    },
    {
      "cell_type": "code",
      "execution_count": null,
      "metadata": {
        "id": "AqLSR3nqeazc"
      },
      "outputs": [],
      "source": [
        "!pip3 install virtualenv"
      ]
    },
    {
      "cell_type": "code",
      "source": [
        "!virtualenv theanoEnv"
      ],
      "metadata": {
        "id": "FA4vh2yregqu"
      },
      "execution_count": null,
      "outputs": []
    },
    {
      "cell_type": "code",
      "source": [
        "!source /content/theanoEnv/bin/activate; pip3 install theano"
      ],
      "metadata": {
        "id": "fvzgp3_YgrZS"
      },
      "execution_count": null,
      "outputs": []
    },
    {
      "cell_type": "code",
      "source": [
        "!ls"
      ],
      "metadata": {
        "id": "55nK8fQLhEqK"
      },
      "execution_count": null,
      "outputs": []
    },
    {
      "cell_type": "code",
      "source": [
        "!pip3 list \n"
      ],
      "metadata": {
        "id": "tNMslEp-hF17"
      },
      "execution_count": null,
      "outputs": []
    },
    {
      "cell_type": "code",
      "source": [
        "!deactivate"
      ],
      "metadata": {
        "id": "_Y1qPjychKbb"
      },
      "execution_count": null,
      "outputs": []
    },
    {
      "cell_type": "code",
      "source": [
        "!pip3 list"
      ],
      "metadata": {
        "id": "sJINWornlxhh"
      },
      "execution_count": null,
      "outputs": []
    },
    {
      "cell_type": "code",
      "source": [
        "!virtualenv scrapyEnv"
      ],
      "metadata": {
        "id": "P_wqGz3Vl0PH"
      },
      "execution_count": null,
      "outputs": []
    },
    {
      "cell_type": "code",
      "source": [
        "!source /content/scrapyEnv/bin/activate"
      ],
      "metadata": {
        "id": "__O-RnmemEEJ"
      },
      "execution_count": null,
      "outputs": []
    },
    {
      "cell_type": "code",
      "source": [
        "!pip3 install scrapy"
      ],
      "metadata": {
        "id": "ZJNuCYpHmZE6"
      },
      "execution_count": null,
      "outputs": []
    },
    {
      "cell_type": "code",
      "source": [
        "!pip3 list"
      ],
      "metadata": {
        "id": "dZUUShe5rm6Z"
      },
      "execution_count": null,
      "outputs": []
    },
    {
      "cell_type": "code",
      "source": [
        "!deactivate"
      ],
      "metadata": {
        "id": "oWdjZw97qw-5"
      },
      "execution_count": null,
      "outputs": []
    },
    {
      "cell_type": "code",
      "source": [
        "!pip3 list"
      ],
      "metadata": {
        "id": "roSjXM6hmh-Z"
      },
      "execution_count": null,
      "outputs": []
    },
    {
      "cell_type": "code",
      "source": [
        "!virtualenv djangoEnv"
      ],
      "metadata": {
        "id": "b_VSJglJqMED"
      },
      "execution_count": null,
      "outputs": []
    },
    {
      "cell_type": "code",
      "source": [
        "!source /content/djangoEnv/bin/activate; pip3 install django"
      ],
      "metadata": {
        "id": "0CV1qNc7sFxV"
      },
      "execution_count": null,
      "outputs": []
    },
    {
      "cell_type": "code",
      "source": [
        "!pip3 list"
      ],
      "metadata": {
        "id": "wky9MGvwslD8"
      },
      "execution_count": null,
      "outputs": []
    },
    {
      "cell_type": "code",
      "source": [
        "!deactivate"
      ],
      "metadata": {
        "id": "ti4HFjBzsFqB"
      },
      "execution_count": null,
      "outputs": []
    },
    {
      "cell_type": "code",
      "source": [
        "!pip3 list"
      ],
      "metadata": {
        "id": "Qm2uskrRsFn1"
      },
      "execution_count": null,
      "outputs": []
    },
    {
      "cell_type": "code",
      "source": [
        "!ls"
      ],
      "metadata": {
        "id": "bXhDwNNAsFlm"
      },
      "execution_count": null,
      "outputs": []
    },
    {
      "cell_type": "code",
      "source": [
        ""
      ],
      "metadata": {
        "id": "A61fxeTmsFjS"
      },
      "execution_count": null,
      "outputs": []
    },
    {
      "cell_type": "code",
      "source": [
        ""
      ],
      "metadata": {
        "id": "MMCS3V35sFhG"
      },
      "execution_count": null,
      "outputs": []
    },
    {
      "cell_type": "code",
      "source": [
        ""
      ],
      "metadata": {
        "id": "3q7VsEtAsFbu"
      },
      "execution_count": null,
      "outputs": []
    }
  ]
}
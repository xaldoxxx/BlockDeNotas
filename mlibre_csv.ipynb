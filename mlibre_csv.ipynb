{
  "nbformat": 4,
  "nbformat_minor": 0,
  "metadata": {
    "colab": {
      "name": "mlibre_csv.ipynb",
      "private_outputs": true,
      "provenance": [],
      "authorship_tag": "ABX9TyMzBrvrZ5UNulxuHtY9Ose4",
      "include_colab_link": true
    },
    "kernelspec": {
      "name": "python3",
      "display_name": "Python 3"
    },
    "language_info": {
      "name": "python"
    }
  },
  "cells": [
    {
      "cell_type": "markdown",
      "metadata": {
        "id": "view-in-github",
        "colab_type": "text"
      },
      "source": [
        "<a href=\"https://colab.research.google.com/github/xaldoxxx/curiosidades/blob/main/mlibre_csv.ipynb\" target=\"_parent\"><img src=\"https://colab.research.google.com/assets/colab-badge.svg\" alt=\"Open In Colab\"/></a>"
      ]
    },
    {
      "cell_type": "markdown",
      "source": [
        "Sirve para descargar csv de los precios y titulos de mercadolibre"
      ],
      "metadata": {
        "id": "jKMmEpZWR17G"
      }
    },
    {
      "cell_type": "code",
      "execution_count": null,
      "metadata": {
        "id": "Itc7IEtGRfVs"
      },
      "outputs": [],
      "source": [
        "import pandas as pd\n",
        "import requests\n",
        "from bs4 import BeautifulSoup"
      ]
    },
    {
      "cell_type": "code",
      "source": [
        "# modificar pagina para descargar\n",
        "page_html = requests.get('https://vehiculos.mercadolibre.com.ar/neumaticos-auto-camioneta/195-mm/nuevo/195-50-16_OrderId_PRICE_NoIndex_True').content"
      ],
      "metadata": {
        "id": "h_DA1ufLRmjm"
      },
      "execution_count": null,
      "outputs": []
    },
    {
      "cell_type": "code",
      "source": [
        "soup = BeautifulSoup(page_html, 'html.parser')"
      ],
      "metadata": {
        "id": "Uw4MGvsMRpy1"
      },
      "execution_count": null,
      "outputs": []
    },
    {
      "cell_type": "code",
      "source": [
        "precio = [i.text for i in soup.findAll(\"span\", {\"class\":\"price-tag-fraction\"})]\n",
        "titulo = [i.text for i in soup.findAll(\"div\", {\"class\":\"ui-search-item__group ui-search-item__group--title\"})]\n",
        "#print(list(zip(titulo, precio)))"
      ],
      "metadata": {
        "id": "ucb0LwICRsq7"
      },
      "execution_count": null,
      "outputs": []
    },
    {
      "cell_type": "code",
      "source": [
        "print(enumerate(titulo))\n",
        "pd.DataFrame({'titulo': titulo, 'precio': precio}).to_csv('datos.csv')"
      ],
      "metadata": {
        "id": "y8XqCXnSRvX7"
      },
      "execution_count": null,
      "outputs": []
    },
    {
      "cell_type": "code",
      "source": [
        "# ver el archivo csv de los precios"
      ],
      "metadata": {
        "id": "vo0WeFmgRyaU"
      },
      "execution_count": null,
      "outputs": []
    }
  ]
}
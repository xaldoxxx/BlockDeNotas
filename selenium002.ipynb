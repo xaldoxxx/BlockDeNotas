{
  "nbformat": 4,
  "nbformat_minor": 0,
  "metadata": {
    "colab": {
      "provenance": [],
      "include_colab_link": true
    },
    "kernelspec": {
      "name": "python3",
      "display_name": "Python 3"
    },
    "language_info": {
      "name": "python"
    }
  },
  "cells": [
    {
      "cell_type": "markdown",
      "metadata": {
        "id": "view-in-github",
        "colab_type": "text"
      },
      "source": [
        "<a href=\"https://colab.research.google.com/github/xaldoxxx/BlockDeNotas/blob/main/selenium002.ipynb\" target=\"_parent\"><img src=\"https://colab.research.google.com/assets/colab-badge.svg\" alt=\"Open In Colab\"/></a>"
      ]
    },
    {
      "cell_type": "code",
      "execution_count": null,
      "metadata": {
        "id": "KD4QoQ0sUPNo"
      },
      "outputs": [],
      "source": [
        "!apt update\n",
        "!apt install chromium-chromedriver\n",
        "!pip install selenium"
      ]
    },
    {
      "cell_type": "code",
      "source": [
        "from selenium import webdriver\n",
        "from selenium.webdriver.common.by import By"
      ],
      "metadata": {
        "id": "Hauki6JTUXAJ"
      },
      "execution_count": 31,
      "outputs": []
    },
    {
      "cell_type": "code",
      "source": [
        "options = webdriver.ChromeOptions()"
      ],
      "metadata": {
        "id": "Ubt1eJ0IUfRW"
      },
      "execution_count": 32,
      "outputs": []
    },
    {
      "cell_type": "code",
      "source": [
        "options.add_argument(\"--headless\")\n",
        "options.add_argument(\"--no-sandbox\")\n",
        "options.add_argument(\"--disable-dev-sim-usage\")"
      ],
      "metadata": {
        "id": "H1NFg6JoUijt"
      },
      "execution_count": 33,
      "outputs": []
    },
    {
      "cell_type": "code",
      "source": [
        "driver = webdriver.Chrome(options=options)"
      ],
      "metadata": {
        "id": "4xX6rmdxqvpK"
      },
      "execution_count": 34,
      "outputs": []
    },
    {
      "cell_type": "code",
      "source": [
        "driver.get(\"https://ahoracalafate.com.ar\")"
      ],
      "metadata": {
        "id": "HUs_GHxZUmji"
      },
      "execution_count": 35,
      "outputs": []
    },
    {
      "cell_type": "code",
      "source": [
        "resumen_noticia = driver.find_element(By.XPATH, \"//section[@class='principal']\")"
      ],
      "metadata": {
        "id": "Qs9SDsm5Wu6l"
      },
      "execution_count": 36,
      "outputs": []
    },
    {
      "cell_type": "code",
      "source": [
        "print(resumen_noticia.text)"
      ],
      "metadata": {
        "id": "ORE2z6OkU0LB",
        "colab": {
          "base_uri": "https://localhost:8080/"
        },
        "outputId": "d2f653c1-9a84-424e-8075-190e515b6007"
      },
      "execution_count": 38,
      "outputs": [
        {
          "output_type": "stream",
          "name": "stdout",
          "text": [
            "Vecino de El Calafate integra la primera promoción de diplomados en quesos y fromagelier de Iberoamérica\n",
            "ENTREVISTAS EN FM DIMENSION\n",
            "Tensión entre el Concejo, el Intendente y vecinos por terrenos\n",
            "EL CHALTÉN\n",
            "AEROPUERTO EL CALAFATE. Un año y medio de récord de pasajeros\n",
            "TURISMO\n",
            "El vóley de El Calafate jugó la final provincial de los Juegos Evita\n",
            "DEPORTES\n",
            "Un equipo sub 15 femenino en Río Gallegos y un equipo sub 17 masculino en Puerto Santa Cruz, participaron de esta instancia provincial de estos juegos nacionales.\n",
            "Cada vez más países cobran tasas para visitarlos\n",
            "TURISMO\n",
            "España, Portugal, Francia, Alemania, Países Bajos e Italia, entre otros, aplican un recargo que suele sumarse al precio de la reserva del hotel o al comprar el pasaje de avión. Ahora, la icónica ciudad de Venecia comenzará a hacerlo. ¿Cuáles son los valores en cada destino?\n",
            "Arranca Liga Escolar Municipal de Handball\n",
            "DEPORTES\n",
            "Después de la postergación de unos días, este jueves y viernes se van a jugar los primeros partidos de este torneo en El Calafate. TODO EL PROGRAMA DE PARTIDOS y HORARIOS.\n",
            "CARTAS ORGÁNICAS Y LOS HABITANTES ACTIVOS\n",
            "OPINIÓN\n",
            "Es muy importante que los ciudadanos trabajen en consensos a pesar de los disensos que se puede tener, lleva más trabajo y tiempo, pero fortalece a una mejor democracia. Las ciudades de Santa Cruz tienen todo para comenzar a trabajar en llevar adelante un proceso de carta orgánica, de los ciudadanos depende y de la clase política y políticos también. Por Alejandro Rojo Vivot - Escritor.\n",
            "CONSEJO FEDERAL. En El Calafate se debatirá la difícil situación del sector de la construcción\n",
            "GENERAL\n",
            "Entre el 27 y el 30 de septiembre se reunirán en esta localidad los más importantes empresarios de la industria de la construcción y autoridades nacionales vinculadas a la actividad. El impacto de la inflación en la construcción y la necesidad de agilizar la actualización de los valores de la obra pública son temas principales en la agenda. Entrevistamos a Bautista Simón, presidente de la delegación Santa Cruz de la Cámara Argentina de la Construcción, quien dio detalles del evento y se explayó sobre la actualidad en el sector.\n",
            "Comenzó la venta de entradas para el TN en El Calafate\n",
            "DEPORTES\n",
            "El 14 y 15 de octubre, esta categoría correrá por primera vez en el nuevo autódromo. A partir de ahora se pueden adquirir las entradas on-line. A 2.000 pesos la general.\n",
            "El Consejo Agrario Provincial amplía la flota vehicular para combatir incendios forestales\n",
            "SANTA CRUZ\n",
            "Nuevo Piso para el Gimnasio Municipal Pincha Ratas\n",
            "DEPORTES\n",
            "Juegos Evita: El Padel logró medalla de oro y de plata\n",
            "DEPORTES\n",
            "Alumnas de la Escuela 73 participan en la Olimpiada Nacional de Ciencias\n",
            "EL CALAFATE\n",
            "61 Inscriptos para el 8° Rally de Los Glaciares\n",
            "DEPORTES\n",
            "Finalmente este martes cerró la inscripción para la 3era fecha del Rally Fueguino APITUR donde habrá tres duplas de El Calafate. Hay corredores de Tierra del Fuego, Santa Cruz y Chile. La carrera será el 6, 7 y 8 de octubre.\n",
            "Se definió la terna de candidatos para ser Juez en El Calafate\n",
            "EL CALAFATE\n",
            "Tres hombres quedaron elegidos en la carrera final para ocupar el cargo de Juez en lo Civil, Comercial y de Familia de esta localidad. Uno es abogado en El Calafate, otro trabaja en Río Gallegos y el restante en Río Turbio. Cómo sigue el trámite para designar nuevo juez.\n",
            "SANTA CRUZ. Declararon emergencia vial en un tramo de la Ruta 3\n",
            "SANTA CRUZ\n",
            "Un temporal que incluyó una fuerte marejada de 5 metros de altura causó la erosión que pone en riesgo la ruta, en cercanías de Caleta Olivia. Vialidad Nacional declaró la Emergencia Vial  por seis meses, para acelerar obras de reparación en ese sector.\n",
            "Juegos Evita: El Calafate ganó de local la final provincial de Beach Voley\n",
            "DEPORTES\n",
            "Este lunes y martes se disputó esta instancia provincial en la villa turística donde en rama femenina y rama masculino sub 14, las dos duplas calafateñas ganaron y representarán a Santa Cruz en la final nacional. La coordinación de voley de la secretaria de deportes provincial elogió la sede de El Calafate por sus dos canchas, el lugar y la logística. ALBÚM DE FOTOS\n"
          ]
        }
      ]
    },
    {
      "cell_type": "code",
      "source": [
        "print(driver.page_source)"
      ],
      "metadata": {
        "id": "vWcSN4KFo6x-"
      },
      "execution_count": null,
      "outputs": []
    },
    {
      "cell_type": "code",
      "source": [
        "print(driver.pin_script)"
      ],
      "metadata": {
        "id": "MqGCiHwSuCph"
      },
      "execution_count": null,
      "outputs": []
    },
    {
      "cell_type": "code",
      "source": [],
      "metadata": {
        "id": "2VpIMLiyuHph"
      },
      "execution_count": null,
      "outputs": []
    }
  ]
}